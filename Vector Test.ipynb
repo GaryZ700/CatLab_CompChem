{
 "cells": [
  {
   "cell_type": "code",
   "execution_count": 1,
   "metadata": {},
   "outputs": [
    {
     "name": "stdout",
     "output_type": "stream",
     "text": [
      "\n",
      "X: 1 Y: 2 Z: 3\n",
      "\n",
      "X: 2 Y: 3 Z: 4\n",
      "\n",
      "X: 0 Y: 1 Z: 2\n",
      "3.7416573867739413\n",
      "1.7320508075688772\n"
     ]
    }
   ],
   "source": [
    "from molecule import vector\n",
    "\n",
    "v1 =  vector(1,2,3)\n",
    "v2 =  vector(1, 1, 1)\n",
    "\n",
    "v1.display()\n",
    "(v1 + v2).display()\n",
    "(v1-v2).display()\n",
    "print(v1.magnitude())\n",
    "print(v2.magnitude())\n"
   ]
  },
  {
   "cell_type": "code",
   "execution_count": null,
   "metadata": {},
   "outputs": [],
   "source": []
  }
 ],
 "metadata": {
  "kernelspec": {
   "display_name": "Python 3",
   "language": "python",
   "name": "python3"
  },
  "language_info": {
   "codemirror_mode": {
    "name": "ipython",
    "version": 3
   },
   "file_extension": ".py",
   "mimetype": "text/x-python",
   "name": "python",
   "nbconvert_exporter": "python",
   "pygments_lexer": "ipython3",
   "version": "3.7.1"
  }
 },
 "nbformat": 4,
 "nbformat_minor": 2
}
