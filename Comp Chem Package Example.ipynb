{
 "cells": [
  {
   "cell_type": "code",
   "execution_count": 1,
   "metadata": {},
   "outputs": [],
   "source": [
    "#Must be included in all Comp Chem Notebooks that want to make use of the library\n",
    "#Allow Notebook to Import from Comp_Chem_Package\n",
    "import sys\n",
    "if(\"win\" in sys.platform):\n",
    "    sys.path.append(\".\\\\Backend\")\n",
    "else: \n",
    "    sys.path.append(\"./Backend\")\n",
    "\n",
    "from compChemGlobal import *"
   ]
  },
  {
   "cell_type": "markdown",
   "metadata": {},
   "source": [
    "## Welcome to the CompChem Python Package!\n",
    "<br>\n",
    "The goal of this package is to serve as both a pedagogical aid, as well as providing a library framework to aid in writing your own commputational chemistry code and methods. This library is structured in a manner to best reflect the theory and matematical notation of quantum mechanics as opposed to traditional computer science notation in order to allow individuals with a basic understanding of Python and quantum mechanics to immediately begin writing code that both solves the Schrödinger equation, and uses its solutions in other computations. \n",
    "<br><br>\n",
    "Here is the overall structure of this library:\n",
    "<ul>\n",
    "    <li>Diatomic Constants</li>\n",
    "    <ul>\n",
    "        <li>Spectroscopic Constants for Distomic Molecules that can be used to generate a diatomic's potential energy surface and basis set to solve the Schrödinger equation. All diatomic constants are retrived from the <a href=\"https://webbook.nist.gov/\">NIST Webook</a>.</li>\n",
    "    </ul>\n",
    "    <li>Basis Sets</li>\n",
    "        <ul>\n",
    "            <li>A set of linearly independent and normalized functions used to provide a solution to the eigenvalue problem posed by the Schrödinger equation.</li>\n",
    "            <li>A basis function refers to an indivdiual function that makes up a basis set, while the basis set is a set of basis function of the same type.</li>\n",
    "        </ul>\n",
    "    <li>Potential Energy Surface Method</li>\n",
    "    <ul>\n",
    "        <li>A potential representing the electronic energy of a molecule for each possible bond distance of the atoms.</li>\n",
    "        <li>Computes a set of discrete points.</li>\n",
    "    </ul>\n",
    "    <li>Potential Energy Surface Fitting Method</li>\n",
    "    <ul>\n",
    "        <li>Fits the discrete points computed by the Potential Energy Surface Method to a continuous function.</li>\n",
    "    </ul>\n",
    "    <li>Operators</li>\n",
    "        <ul>\n",
    "            <li>Operators represent the matematical operators from the Schrödinger equation, and include $\\hat{T}$, $\\hat{V}$, and $\\hat{H}$.</li>\n",
    "        </ul>\n",
    "    <li>Schrödinger Equation</li>\n",
    "        <ul>\n",
    "            <li>A computational method to solve the Schrödinger equation and returns the wavefunctions along with their respective energy levels.</li>\n",
    "        </ul>\n",
    "</ul>"
   ]
  },
  {
   "cell_type": "code",
   "execution_count": 2,
   "metadata": {},
   "outputs": [
    {
     "name": "stdout",
     "output_type": "stream",
     "text": [
      "{'name': 'H2', 'state': 'ground', 'T': 0.0, 'w': 4401.21, 'wx': 121.33, 'wy': 0, 'wz': 0, 'B': 60.853, 'a': 3.062, 'y': 0, 'D': 0.0471, 're': 0.74144, 'u': 0.503912516115}\n",
      "\n",
      "121.33\n"
     ]
    }
   ],
   "source": [
    "#Diatomic Constants \n",
    "from nistScraper import getDiatomicConstants\n",
    "\n",
    "#Simply enter the name of the diatomic molecule as a string\n",
    "dc = getDiatomicConstants(\"H2\")\n",
    "\n",
    "#This will display the layout of information in the diatomic constants object \n",
    "print(dc)\n",
    "\n",
    "#dc is a dictionary and individual values within it can be acquired as follows\n",
    "print()\n",
    "print(dc[\"wx\"])"
   ]
  },
  {
   "cell_type": "code",
   "execution_count": 3,
   "metadata": {},
   "outputs": [
    {
     "name": "stdout",
     "output_type": "stream",
     "text": [
      "basisFunction.value(r):  1.1115426321334092\n",
      "\n",
      "basisFunction.squaredValue(r):  1.2355270230500675\n",
      "\n"
     ]
    },
    {
     "data": {
      "application/vnd.jupyter.widget-view+json": {
       "model_id": "1d262007a1a44f14a8467eaa19286bc4",
       "version_major": 2,
       "version_minor": 0
      },
      "text/plain": [
       "VBox(children=(FigureWidget({\n",
       "    'data': [{'fill': 'none',\n",
       "              'hoverlabel': {'font': {'size': 16}}…"
      ]
     },
     "metadata": {},
     "output_type": "display_data"
    },
    {
     "data": {
      "text/plain": [
       "<how.how at 0x217a847f220>"
      ]
     },
     "execution_count": 3,
     "metadata": {},
     "output_type": "execute_result"
    }
   ],
   "source": [
    "#Basis Functions\n",
    "from how import * \n",
    "\n",
    "#Construction of any basis will be as follows\n",
    "#first pass in dc, followed the specifed energy level for the basis function\n",
    "basisFunction = how(dc, 10)\n",
    "\n",
    "#All basis functions contain the following method calls\n",
    "\n",
    "#Provides the specified value of the basis function at the specified value\n",
    "print(\"basisFunction.value(r): \", basisFunction.value(1))\n",
    "print()\n",
    "\n",
    "#Computes the value of the basis function times itself \n",
    "print(\"basisFunction.squaredValue(r): \", basisFunction.squaredValue(1))\n",
    "print()\n",
    "\n",
    "#Basis Functions are graphable objects meaning that the function can be \n",
    "#graphed using the .graph method\n",
    "basisFunction.graph()"
   ]
  },
  {
   "cell_type": "code",
   "execution_count": 4,
   "metadata": {},
   "outputs": [
    {
     "name": "stdout",
     "output_type": "stream",
     "text": [
      "basis.value(n, r):  1.3079968679038638\n",
      "\n",
      "Basis Function n=0 .value(r):  0.237287193648484\n",
      "Basis Function n=1 .value(r):  0.7037300313488829\n",
      "Basis Function n=2 .value(r):  1.3079968679038638\n",
      "Basis Function n=3 .value(r):  1.6650450097944065\n",
      "\n",
      "First Basis Function:\n"
     ]
    },
    {
     "data": {
      "application/vnd.jupyter.widget-view+json": {
       "model_id": "7972172c7849409b97937826dade4211",
       "version_major": 2,
       "version_minor": 0
      },
      "text/plain": [
       "VBox(children=(FigureWidget({\n",
       "    'data': [{'fill': 'none',\n",
       "              'hoverlabel': {'font': {'size': 16}}…"
      ]
     },
     "metadata": {},
     "output_type": "display_data"
    },
    {
     "name": "stdout",
     "output_type": "stream",
     "text": [
      "Basis Size:  4\n"
     ]
    },
    {
     "data": {
      "application/vnd.jupyter.widget-view+json": {
       "model_id": "fc99220d2beb46049932dd86e3be3a12",
       "version_major": 2,
       "version_minor": 0
      },
      "text/plain": [
       "VBox(children=(FigureWidget({\n",
       "    'data': [{'fill': 'none',\n",
       "              'hoverlabel': {'font': {'size': 16}}…"
      ]
     },
     "metadata": {},
     "output_type": "display_data"
    },
    {
     "data": {
      "text/plain": [
       "<basisSet.basisSet at 0x217ac77bd60>"
      ]
     },
     "execution_count": 4,
     "metadata": {},
     "output_type": "execute_result"
    }
   ],
   "source": [
    "#Basis Set\n",
    "from basisSet import *\n",
    "from how import *\n",
    "\n",
    "#To create a basis set, provide the diatomic constants, the basisFunction class and the size of the set\n",
    "#By default, basisFunction used will be Harmonic Oscillators, (HOW)\n",
    "#and size will be 10\n",
    "basis = basisSet(dc, basisFunctionClass=how, size=4)\n",
    "\n",
    "#All basis set objects contain the following method calls\n",
    "\n",
    "#Get the value of the 3rd basis function at position 1\n",
    "print(\"basis.value(n, r): \", basis.value(2, 1))\n",
    "print()\n",
    "\n",
    "#Get the a list of all individual basis functions\n",
    "basisFunctionsList = basis.getBasisSet()\n",
    "\n",
    "#All the basis function have the same methods described in the previous cell\n",
    "#regarding basis functions and can be called the same \n",
    "for n, basisFunction in enumerate(basisFunctionsList): \n",
    "    print(\"Basis Function n=\" + str(n) + \" .value(r): \", basisFunction.value(1))\n",
    "print()\n",
    "\n",
    "#a for loop can be used directly on the basis object itself \n",
    "for basisFunction in basis: \n",
    "    #do what you want to do the basis function here!\n",
    "    #pass just means do nothing for now, but you can change that\n",
    "    pass\n",
    "    \n",
    "#Retrive a specific basis function from the basis set\n",
    "print(\"First Basis Function:\")\n",
    "firstBasisFunction = basis.getBasisFunction(0)\n",
    "firstBasisFunction.graph()\n",
    "\n",
    "#First basis function can also be acquired using the following alternative method\n",
    "firstBasisFunction = basis[0]\n",
    "\n",
    "#To get the size of the basis set use the len function \n",
    "print(\"Basis Size: \", len(basis))\n",
    "\n",
    "#Basis Sets are graphable objects \n",
    "basis.graph()\n",
    "\n",
    "#re = 0\n",
    "#we can be choosen manually"
   ]
  },
  {
   "cell_type": "code",
   "execution_count": 5,
   "metadata": {},
   "outputs": [
    {
     "data": {
      "application/vnd.jupyter.widget-view+json": {
       "model_id": "76fdf04200924050b9a89eb77a1c8596",
       "version_major": 2,
       "version_minor": 0
      },
      "text/plain": [
       "HBox(children=(Label(value='Computing RKR Surface'), FloatProgress(value=-4400.96734, max=0.0, min=-4400.96734…"
      ]
     },
     "metadata": {},
     "output_type": "display_data"
    },
    {
     "name": "stdout",
     "output_type": "stream",
     "text": [
      "Point from the PES in the form of (r, E): (0.7469995741625354, 4.4010886700000045).\n"
     ]
    },
    {
     "data": {
      "application/vnd.jupyter.widget-view+json": {
       "model_id": "2f4f53579f72484c9ee43ca7abb78807",
       "version_major": 2,
       "version_minor": 0
      },
      "text/plain": [
       "VBox(children=(FigureWidget({\n",
       "    'data': [{'fill': 'none',\n",
       "              'hoverlabel': {'font': {'size': 16}}…"
      ]
     },
     "metadata": {},
     "output_type": "display_data"
    }
   ],
   "source": [
    "#Potential Energy Surface Methods\n",
    "from rkr import *\n",
    "\n",
    "#All potential energy surface method objects have the following calls\n",
    "\n",
    "#Initialization requires diatomic constants \n",
    "pesMethod = rkr(dc)\n",
    "\n",
    "#pesMethods objects are discrete data objects as opposed to continous data objects\n",
    "#This means that instead of being able to call .value as seen in previous cells to compute the value \n",
    "#of the potential surface at any value of r, instead a list of discrete (r, E) points are generated\n",
    "#This list is generated by calling the .compute method \n",
    "data = pesMethod.compute()\n",
    "\n",
    "#data is a dictionary consisting of lists containing r and E points and can be accessed as such \n",
    "print(\"Point from the PES in the form of (r, E): (\" + str(data[\"r\"][0]) + \", \" + str(data[\"E\"][0]) + \").\")\n",
    "\n",
    "#in order to retrive the data again, use the .getData method \n",
    "data = pesMethod.getData()\n",
    "\n",
    "#PES Methods are graphable objects\n",
    "pesMethod.graph()"
   ]
  },
  {
   "cell_type": "markdown",
   "metadata": {},
   "source": [
    "from molecule import *\n",
    "from hartreeFock import hartreeFock\n",
    "system = molecule()\n",
    "system.addAtom(atom(vector(1,1,2), 1, 1))\n",
    "system.addAtom(atom(vector(1,1,2), 1, 1))\n",
    "\n",
    "hf = hartreeFock(system)\n",
    "\n",
    "hf.resolution = 10\n",
    "hf.compute()\n",
    "hf.graph()\n",
    "\n",
    "#pesMethod = hf\n"
   ]
  },
  {
   "cell_type": "markdown",
   "metadata": {},
   "source": [
    "hf.implementation(.74) * 0.0000046"
   ]
  },
  {
   "cell_type": "code",
   "execution_count": 6,
   "metadata": {},
   "outputs": [
    {
     "name": "stdout",
     "output_type": "stream",
     "text": [
      "fitting.value(r):  38786.17426489218\n"
     ]
    },
    {
     "data": {
      "application/vnd.jupyter.widget-view+json": {
       "model_id": "7b9498a23cfe4b9baecf525945d42f0e",
       "version_major": 2,
       "version_minor": 0
      },
      "text/plain": [
       "VBox(children=(FigureWidget({\n",
       "    'data': [{'fill': 'none',\n",
       "              'hoverlabel': {'font': {'size': 16}}…"
      ]
     },
     "metadata": {},
     "output_type": "display_data"
    },
    {
     "data": {
      "text/plain": [
       "<morsePotential.morsePotential at 0x217ac758d60>"
      ]
     },
     "execution_count": 6,
     "metadata": {},
     "output_type": "execute_result"
    }
   ],
   "source": [
    "#Potential Energy Surface Fitting Method\n",
    "from morsePotential import morsePotential\n",
    "from howPotential import * \n",
    "\n",
    "#the fitting method at a minimum must be initalized with the diatomic constants \n",
    "fitting = morsePotential(dc)\n",
    "\n",
    "#then the fitting must be fit to data from a PES Method\n",
    "fitting.fit(pesMethod.getData())\n",
    "\n",
    "#an alternative method to initialize the fitting and avoid having to call the .fit method is as follows: \n",
    "fitFitting = morsePotential(dc, pesMethod.getData())\n",
    "#using the above line of code, there is no need to call .fit since the fitting is done during initaliztion\n",
    "\n",
    "#get the valie of the fitting at a specified r\n",
    "print(\"fitting.value(r): \", fitting.value(3))\n",
    "\n",
    "#PES Fittings are graphable objects \n",
    "fitFitting.graph()"
   ]
  },
  {
   "cell_type": "code",
   "execution_count": 7,
   "metadata": {},
   "outputs": [
    {
     "name": "stdout",
     "output_type": "stream",
     "text": [
      "T[1,1]:  3300.9075000000003\n",
      "V[0,1]:  -692.5480107266711\n",
      "H[1,1]: -2058.2322220081846\n"
     ]
    }
   ],
   "source": [
    "#Operators\n",
    "from operators import *\n",
    "\n",
    "#T Kinetic Energy\n",
    "#Must be initalized by providing the basis set \n",
    "T = TOperator(basis)\n",
    "\n",
    "#V Potential Energy \n",
    "#Must be initalized by providing the basis set and the fitting for the potential energy surface\n",
    "V = VOperator(basis, fitting)\n",
    "\n",
    "#An alternative method to initalize the operatores\n",
    "T2 = TOperator()\n",
    "V2 = VOperator()\n",
    "\n",
    "#Then the .operatesOn Method must be calleed for each individual operator\n",
    "T2.operatesOn(basis)\n",
    "V2.operatesOn(basis, fitting)\n",
    "\n",
    "#The hamiltonian can be built using a variety of methods\n",
    "#Adding T and V \n",
    "H = T + V\n",
    "\n",
    "#Explicit initaliztion \n",
    "H2 = HOperator(T, V)\n",
    "\n",
    "#Using .operatesOn\n",
    "H3 = HOperator()\n",
    "H3.operatesOn(T, V)\n",
    "\n",
    "#All operators can be index similar to numpy matrices\n",
    "print(\"T[1,1]: \", T[1,1])\n",
    "print(\"V[0,1]: \", V[0,1])\n",
    "print(\"H[1,1]:\", H[1,2])"
   ]
  },
  {
   "cell_type": "code",
   "execution_count": 8,
   "metadata": {},
   "outputs": [
    {
     "data": {
      "application/vnd.jupyter.widget-view+json": {
       "model_id": "bff85922ca2f4d8cb8616dd6f6ae1731",
       "version_major": 2,
       "version_minor": 0
      },
      "text/plain": [
       "VBox(children=(FigureWidget({\n",
       "    'data': [{'fill': 'tozerox',\n",
       "              'hoverlabel': {'font': {'size': 1…"
      ]
     },
     "metadata": {},
     "output_type": "display_data"
    },
    {
     "data": {
      "application/vnd.jupyter.widget-view+json": {
       "model_id": "fe92468f1882497098990ebaa43dccb2",
       "version_major": 2,
       "version_minor": 0
      },
      "text/plain": [
       "VBox(children=(FigureWidget({\n",
       "    'data': [{'fill': 'none',\n",
       "              'hoverlabel': {'font': {'size': 16}}…"
      ]
     },
     "metadata": {},
     "output_type": "display_data"
    },
    {
     "name": "stdout",
     "output_type": "stream",
     "text": [
      "wavefunction.value(r):  2181.6703632444355\n",
      "\n"
     ]
    },
    {
     "data": {
      "application/vnd.jupyter.widget-view+json": {
       "model_id": "8ce495ea452a4c7da8068ae727c66460",
       "version_major": 2,
       "version_minor": 0
      },
      "text/plain": [
       "VBox(children=(FigureWidget({\n",
       "    'data': [{'fill': 'tozerox',\n",
       "              'hoverlabel': {'font': {'size': 1…"
      ]
     },
     "metadata": {},
     "output_type": "display_data"
    },
    {
     "data": {
      "text/plain": [
       "<wavefunction.wavefunction at 0x217ac766250>"
      ]
     },
     "execution_count": 8,
     "metadata": {},
     "output_type": "execute_result"
    }
   ],
   "source": [
    "#Schrödinger Equation\n",
    "from schrodinger import *\n",
    "\n",
    "#The Schrodinger equation can be directly solved using the Hamiltonian and the basis set as follows \n",
    "solution = H * basis\n",
    "\n",
    "#It can also be solved as follows during initalization \n",
    "solution2 = schrod(H, basis)\n",
    "\n",
    "#Or can also be solved post initalization \n",
    "solution3 = schrod()\n",
    "\n",
    "solution3.solve(H, basis)\n",
    "\n",
    "#Solutions are graphable objects\n",
    "solution.graph()\n",
    "wavefunctions = solution.getWaveFunctions()\n",
    "\n",
    "#If it is desired to superimpose the potential energy surface over the wavefunctions, then \n",
    "#include the fitting method as follows: \n",
    "solutionWithPES = schrod(H, basis, fitting)\n",
    "\n",
    "solutionWithPES2 = schrod()\n",
    "solutionWithPES2.solve(H, basis, fitting)\n",
    "\n",
    "solutionWithPES2.graph()\n",
    "\n",
    "#To get the wavefunctions from the solution as a list\n",
    "wavefunctions = solution2.getWaveFunctions()\n",
    "\n",
    "#All wavefunctions have the folloiwng properties\n",
    "\n",
    "#To value for a specified r value \n",
    "print(\"wavefunction.value(r): \", wavefunctions[0].value(2))\n",
    "print()\n",
    "\n",
    "#Wavefunctions are graphable objects \n",
    "wavefunctions[2].graph()"
   ]
  },
  {
   "cell_type": "code",
   "execution_count": 9,
   "metadata": {},
   "outputs": [
    {
     "data": {
      "text/plain": [
       "10244.7125"
      ]
     },
     "execution_count": 9,
     "metadata": {},
     "output_type": "execute_result"
    }
   ],
   "source": [
    "pesMethod.E(2)"
   ]
  },
  {
   "cell_type": "code",
   "execution_count": 10,
   "metadata": {},
   "outputs": [
    {
     "data": {
      "text/plain": [
       "10811.379901126444"
      ]
     },
     "execution_count": 10,
     "metadata": {},
     "output_type": "execute_result"
    }
   ],
   "source": [
    "wavefunctions[2].energy"
   ]
  },
  {
   "cell_type": "code",
   "execution_count": 11,
   "metadata": {},
   "outputs": [
    {
     "data": {
      "text/plain": [
       "6328.8225"
      ]
     },
     "execution_count": 11,
     "metadata": {},
     "output_type": "execute_result"
    }
   ],
   "source": [
    "pesMethod.E(1)"
   ]
  },
  {
   "cell_type": "code",
   "execution_count": 12,
   "metadata": {},
   "outputs": [
    {
     "data": {
      "text/plain": [
       "6442.924684814261"
      ]
     },
     "execution_count": 12,
     "metadata": {},
     "output_type": "execute_result"
    }
   ],
   "source": [
    "wavefunctions[1].energy"
   ]
  },
  {
   "cell_type": "code",
   "execution_count": 13,
   "metadata": {},
   "outputs": [
    {
     "ename": "NameError",
     "evalue": "name 'hartreeFock' is not defined",
     "output_type": "error",
     "traceback": [
      "\u001b[1;31m---------------------------------------------------------------------------\u001b[0m",
      "\u001b[1;31mNameError\u001b[0m                                 Traceback (most recent call last)",
      "\u001b[1;32m<ipython-input-13-30ceff934b09>\u001b[0m in \u001b[0;36m<module>\u001b[1;34m\u001b[0m\n\u001b[1;32m----> 1\u001b[1;33m \u001b[0mH\u001b[0m\u001b[1;33m,\u001b[0m \u001b[0mbasis\u001b[0m \u001b[1;33m=\u001b[0m \u001b[0mhartreeFock\u001b[0m\u001b[1;33m(\u001b[0m\u001b[0msystem\u001b[0m\u001b[1;33m)\u001b[0m\u001b[1;33m.\u001b[0m\u001b[0minitialIntegrals\u001b[0m\u001b[1;33m(\u001b[0m\u001b[1;33m)\u001b[0m\u001b[1;33m\u001b[0m\u001b[1;33m\u001b[0m\u001b[0m\n\u001b[0m",
      "\u001b[1;31mNameError\u001b[0m: name 'hartreeFock' is not defined"
     ]
    }
   ],
   "source": [
    "H, basis = hartreeFock(system).initialIntegrals()"
   ]
  },
  {
   "cell_type": "code",
   "execution_count": null,
   "metadata": {},
   "outputs": [],
   "source": [
    "basis[0].contractedGaussians"
   ]
  },
  {
   "cell_type": "code",
   "execution_count": null,
   "metadata": {},
   "outputs": [],
   "source": [
    "pesMethod.E(2)"
   ]
  },
  {
   "cell_type": "code",
   "execution_count": null,
   "metadata": {},
   "outputs": [],
   "source": [
    "dc"
   ]
  },
  {
   "cell_type": "code",
   "execution_count": null,
   "metadata": {},
   "outputs": [],
   "source": [
    "rkrTest = rkr(dc)"
   ]
  },
  {
   "cell_type": "code",
   "execution_count": null,
   "metadata": {},
   "outputs": [],
   "source": [
    "rkrTest.E(2)"
   ]
  },
  {
   "cell_type": "code",
   "execution_count": null,
   "metadata": {},
   "outputs": [],
   "source": [
    "sol.eigenValues"
   ]
  },
  {
   "cell_type": "code",
   "execution_count": null,
   "metadata": {},
   "outputs": [],
   "source": [
    "solution.eigenValues"
   ]
  },
  {
   "cell_type": "code",
   "execution_count": null,
   "metadata": {},
   "outputs": [],
   "source": []
  }
 ],
 "metadata": {
  "kernelspec": {
   "display_name": "Python 3",
   "language": "python",
   "name": "python3"
  },
  "language_info": {
   "codemirror_mode": {
    "name": "ipython",
    "version": 3
   },
   "file_extension": ".py",
   "mimetype": "text/x-python",
   "name": "python",
   "nbconvert_exporter": "python",
   "pygments_lexer": "ipython3",
   "version": "3.8.5"
  }
 },
 "nbformat": 4,
 "nbformat_minor": 4
}
