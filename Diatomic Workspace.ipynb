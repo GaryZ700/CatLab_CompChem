{
 "cells": [
  {
   "cell_type": "code",
   "execution_count": 1,
   "metadata": {},
   "outputs": [],
   "source": [
    "##Allow Notebook to Import from Comp_Chem_Package\n",
    "import sys\n",
    "if(\"win\" in sys.platform):\n",
    "    sys.path.append(\".\\\\Comp_Chem_Package\")\n",
    "else: \n",
    "    sys.path.append(\"./Comp_Chem_Package\")"
   ]
  },
  {
   "cell_type": "markdown",
   "metadata": {},
   "source": [
    "## Diatomic Workspace \n",
    "The Diatomic Workspace notebook is designed to allow it users to interact directly with the Computational Chemistry package without needing to enage in any programming. It is strictly a user interface that provides simple access to calculation of the wavefunctions for diatomic molecules. Please see the interface below, and provide the information requested into the widgets to begin using this interface. "
   ]
  },
  {
   "cell_type": "code",
   "execution_count": 2,
   "metadata": {},
   "outputs": [],
   "source": [
    "#Import all required classes here\n",
    "from nistScraper import getDiatomicConstants\n",
    "from how import *\n",
    "from basisSet import *\n",
    "from rkr import *\n",
    "from morsePotential import *\n",
    "from operators import *\n",
    "from schrodinger import *"
   ]
  },
  {
   "cell_type": "code",
   "execution_count": 3,
   "metadata": {},
   "outputs": [],
   "source": [
    "#Set up widgets here\n",
    "diatomicName = widgets.Text(\n",
    "    value = \"CO\",\n",
    "    description = '<p style=\"font-family:verdana;font-size:15px\">Diatomic</p>'\n",
    ")\n",
    "basisSize = widgets.IntText(\n",
    "    value = 4,\n",
    "    description = '<p style=\"font-family:verdana;font-size:15px\">Basis Size</p>' \n",
    ")\n",
    "startButton = widgets.ToggleButton(\n",
    "    value = False, \n",
    "    description = \"Start Calculation\",\n",
    "    button_style = \"info\"\n",
    ")\n",
    "info = widgets.HTML(\n",
    "    value = '<p style=\"font-family:verdana;font-size:15px\"></p>'\n",
    ")\n",
    "out = widgets.Output()"
   ]
  },
  {
   "cell_type": "code",
   "execution_count": 4,
   "metadata": {},
   "outputs": [
    {
     "data": {
      "application/vnd.jupyter.widget-view+json": {
       "model_id": "a32be225b9824b5b87ff2710969087ce",
       "version_major": 2,
       "version_minor": 0
      },
      "text/plain": [
       "VBox(children=(HBox(children=(Text(value='CO', description='<p style=\"font-family:verdana;font-size:15px\">Diat…"
      ]
     },
     "metadata": {},
     "output_type": "display_data"
    },
    {
     "data": {
      "application/vnd.jupyter.widget-view+json": {
       "model_id": "ff8dd31e4b014f0590d9a6c7aea40f61",
       "version_major": 2,
       "version_minor": 0
      },
      "text/plain": [
       "Output()"
      ]
     },
     "metadata": {},
     "output_type": "display_data"
    }
   ],
   "source": [
    "#main logic \n",
    "def compute(value):\n",
    "    print(\"VALEU: \", value)\n",
    "    print()\n",
    "    startButton.value = False\n",
    "    if(not value[\"new\"]):\n",
    "        return \n",
    "    info.value = '<p style=\"font-family:verdana;font-size:15px\">Calculating.....</p>'\n",
    "\n",
    "    dc = getDiatomicConstants(diatomicName.value)\n",
    "    \n",
    "    #check if diatomic provided can be found\n",
    "    if(dc == False):\n",
    "        print(\"Please enter another diatomic.\")\n",
    "        return\n",
    "\n",
    "    basis =  basisSet(dc, basisFunctionClass = how, size = basisSize.value)\n",
    "    fitting = morsePotential(dc, rkr(dc).compute())\n",
    "    with out: \n",
    "        graph = schrod(HOperator(TOperator(basis), VOperator(basis, fitting)), basis, fitting).graph(getGraph = True)\n",
    "        out.clear_output()\n",
    "        display(graph)   \n",
    "    \n",
    "    info.value = '<p style=\"font-family:verdana;font-size:15px\">Calculation Completed</p>'\n",
    "\n",
    "startButton.observe(compute, names=\"value\")\n",
    "\n",
    "display(widgets.VBox([\n",
    "        widgets.HBox([diatomicName, basisSize, startButton]),\n",
    "        info]))\n",
    "display(out)"
   ]
  },
  {
   "cell_type": "code",
   "execution_count": null,
   "metadata": {},
   "outputs": [],
   "source": []
  },
  {
   "cell_type": "code",
   "execution_count": null,
   "metadata": {},
   "outputs": [],
   "source": []
  }
 ],
 "metadata": {
  "kernelspec": {
   "display_name": "Python 3",
   "language": "python",
   "name": "python3"
  },
  "language_info": {
   "codemirror_mode": {
    "name": "ipython",
    "version": 3
   },
   "file_extension": ".py",
   "mimetype": "text/x-python",
   "name": "python",
   "nbconvert_exporter": "python",
   "pygments_lexer": "ipython3",
   "version": "3.8.0"
  }
 },
 "nbformat": 4,
 "nbformat_minor": 4
}
