{
 "cells": [
  {
   "cell_type": "markdown",
   "metadata": {},
   "source": [
    "\n",
    "## Harmonic Oscillator Basis Set\n",
    "<br>\n",
    "Solving the Schrödinger equation with a potential energy function defined as a quantum Harmonic Oscillator yields a set of wavefunctions that can be used as basis set for quantum mechanical calculations. The Schrödinger equation with the Harmonic Oscillator is defined as follows: \n",
    "<br><br>\n",
    "$$\\begin{align}\n",
    "    \\hat{H}\\Psi &= E\\Psi &&\\mbox{Schrödinger Equation}\\\\\n",
    "    \\\\\n",
    "    \\hat{H} &= \\hat{T} + \\hat{V} &&\\mbox{Hamiltonian Operator Expansion}\\\\\n",
    "    \\\\\n",
    "    \\hat{T} &= -\\frac{\\hbar^2}{2m}\\nabla^2 &&\\mbox{Kinetic Energy Operator} \\\\\n",
    "    \\hat{T} &= -\\frac{\\hbar^2}{2m} \\frac{\\partial^2}{dr^2} &&\\mbox{Simplifying KE Operator to 1D space} \\\\\n",
    "    \\\\\n",
    "    \\hat{V} &= \\frac{1}{2}kr^2 &&\\mbox{Potential Energy Operator = Harmonic Oscillator Potential} \\\\\n",
    "    \\hat{H} &= -\\frac{\\hbar^2}{2m}\\frac{\\partial^2}{\\partial r^2} + \\frac{1}{2}kr^2\n",
    "\\end{align}$$\n",
    "<br>\n",
    "The wavefunctions produced are:\n",
    "<br><br>\n",
    "$$\\begin{align}\n",
    "    \\psi_0 &= c_0 \\cdot e^{-\\frac{\\alpha x^2}{2}} \\\\\n",
    "    \\psi_1 &= c_0 \\cdot \\sqrt{2\\alpha}y \\cdot e^{-\\frac{\\alpha x^2}{2}} \\\\ \n",
    "    \\psi_2 &= c_0 \\cdot \\frac{2y^2 - 1}{\\sqrt{2}} \\cdot e^{-\\frac{\\alpha x^2}{2}} \\\\\n",
    "    \\psi_3 &= c_0 \\cdot \\frac{2y^3 - 3y}{\\sqrt{3}} \\cdot e^{-\\frac{\\alpha x^2}{2}} \\\\\n",
    "    \\vdots \\\\\n",
    "    \\psi_n &= c_0 \\cdot H_n(y) \\cdot e^{-\\frac{\\alpha x^2}{2}} \\\\\n",
    "    \\\\\n",
    "    c_0 &= \\left[\\frac{\\alpha}{\\pi}\\right]^\\frac{1}{4} \\\\\n",
    "    y &= \\sqrt{\\alpha}x \\\\\n",
    "    x &= r - r_e \\\\\n",
    "    r &= \\mbox{Bond Distance} \\\\\n",
    "    r_e &= \\mbox{Optimal Internuclear Bond Distance} \\\\\n",
    "    \\alpha &= \\frac{\\mu\\omega}{\\hbar} \\\\\n",
    "    \\mu &= \\hbox{Reduced Atomic Mass} \\\\\n",
    "    \\omega &= \\hbox{First Term Vibrational Constant} \\\\\n",
    "    H_n(y) &= \\hbox{The nth Hermite Polynomial} \\\\\n",
    "    \\end{align}$$\n",
    "<br>\n",
    "The Hermite polynomials are added into the wavefunction to allow $\\psi$ to be orthonormal and satisfy the orthonormality condition stated below: \n",
    "$$\\int_{-\\infty}^{\\infty}{\\psi_i \\psi_j} = \\delta_{i,j}$$\n",
    "<br>\n",
    "A sample of Hermite polynomials for selected $n$ values are presented below:\n",
    "$$\\begin{matrix}\n",
    "    n & H_n \\\\\n",
    "    0 & 1 \\\\\n",
    "    1 & 2y \\\\\n",
    "    2 & 4y^2-2 \\\\\n",
    "    3 & 8y^3 - 12y \n",
    "\\end{matrix}$$\n",
    "<br>\n",
    "All information in this notebook originates from the following <a href=\"http://hyperphysics.phy-astr.gsu.edu/hbase/quantum/hosc5.html\">website</a>, and the <i>Franck-Condon Calculations</i> Mathematica notebook provided by Dr. Jerry LaRue of Chapman University.    "
   ]
  },
  {
   "cell_type": "markdown",
   "metadata": {},
   "source": [
    "## Unit Analysis\n",
    "<br>\n",
    "\n",
    "The question of units used for the wavefunction along with its inputs are of the utmost importantance. Many of the more confusing details of the wavefunction implementation are related towards maintaining the correct units for the wavefunction. <br>\n",
    "To begin with, the overlap integral of two wavefunctions: $\\int_{-\\infty}^{\\infty}{\\psi_i\\psi_j}=\\delta_{ij}$, should result in a unitless quantity of 1 or 0. Unitless normalization of the function can handle ensuring that the output of this integral can only be 0 or 1, but the units for the parameters of the wavefunction must be chosen carefully to allow the integral to be unitless. <br>\n",
    "The integral will result in units of $r\\cdot\\psi^2$, normally $r$ will have units of $\\mathring A$. Thus, it would imply that $\\psi^2$ must have units of $\\frac{1}{\\mathring A}$, further implying that $\\psi$ will have units of $\\frac{1}{\\sqrt{\\mathring A}}$ as: \n",
    "$$\n",
    "\\begin{align}\n",
    "    r\\cdot &\\psi^2 \\\\\n",
    "    \\mathring A\\cdot &\\frac{1}{\\sqrt{\\mathring A}}^2 \\\\\n",
    "    \\mathring A\\cdot &\\frac{1}{\\mathring A} \\\\\n",
    "    &\\frac{\\mathring A}{\\mathring A} \\\\\n",
    "    \\mbox{Unitless }&\\mbox{Quantity}\n",
    "\\end{align}\n",
    "$$\n",
    "<br>\n",
    "One method to ensure that the wavefunction will have units of $\\frac{1}{\\sqrt{\\mathring A}}$ is to have the wavefunction be unitless by creating a term that can be multiplied by the quantities having units in the wavefunction equation to cancel out the units. Then, a unit quantity of $\\frac{1}{\\sqrt{\\mathring A}}$ is multiplied by the unitless output of the wavefunction.<br>\n",
    "Given this unit scheme, the inputs and variables of the wavefunction should have the following units: \n",
    "$$\n",
    "\\begin{align}\n",
    "    r &= \\mathring A \\\\\n",
    "    r_e &= \\mathring A \\\\\n",
    "    x &= \\mathring A \\\\\n",
    "    \\mu &= \\mbox{AMU} \\\\\n",
    "    \\\\\n",
    "    \\omega &= \\frac{1}{s} &&\\mbox{Needs to be converted from }\\frac{1}{cm} \\\\ \n",
    "    \\\\\n",
    "    \\omega &= \\frac{1}{cm} \\\\\n",
    "    \\omega &= \\frac{1}{cm} \\cdot 100 \\\\\n",
    "    \\omega &= \\frac{1}{m} \\cdot c\\left[\\mbox{Speed of Light}\\right] \\\\\n",
    "    \\omega &= \\frac{1}{m} \\cdot \\frac{m}{s} \\\\\n",
    "    \\omega &= \\frac{1}{s} \\\\\n",
    "\\end{align}\n",
    "$$\n",
    "<br>\n",
    "$\\hbar$ normally has units of $\\frac{kg m^2}{s}$, but in order to properly calculate $\\alpha$, the units of $\\hbar$ will be converted to $\\frac{AMU \\mathring A^2}{s}$.\n",
    "$$\n",
    "\\begin{align}\n",
    "    \\hbar &= \\frac{kg m^2}{s} \\\\\n",
    "    \\hbar &= \\frac{kg m^2}{s} \\cdot \\left( 6.022 \\cdot 10^{26} \\frac{\\mbox{AMU}}{kg} \\right) \\\\\n",
    "    \\hbar &= \\frac{\\mbox{AMU} m^2}{s} \\cdot \\left(10^{20} \\frac{\\mathring A^2}{m^2} \\right)\\\\\n",
    "    \\hbar &= \\frac{\\mbox{AMU} \\mathring A^2}{s} \\\\\n",
    "    \\\\\n",
    "    \\alpha &= \\frac{\\omega\\mu}{\\hbar} \\\\\n",
    "    \\alpha &= \\frac{\\frac{1}{s}\\cdot \\mbox{AMU}}{ \\left(\\frac{\\mbox{AMU} \\mathring A^2}{s} \\right)} \\\\\n",
    "    \\alpha &= \\frac{1}{s}\\cdot \\mbox{AMU} \\cdot \\left(\\frac{s}{\\mbox{AMU} \\mathring A^2} \\right) \\\\\n",
    "    \\alpha &= \\frac{\\mbox{AMU}}{s} \\cdot \\frac{s}{\\mbox{AMU} \\mathring A^2} \\\\\n",
    "    \\alpha &= \\frac{1}{\\mathring A^2} \n",
    "\\end{align}\n",
    "$$\n",
    "<br>\n",
    "It should be noted that the central purpose of $\\alpha$ is to act as a converter value that makes other values unitless, as well as being used to give the wavefunction final units of $\\frac{1}{\\sqrt{\\mathring A}}$.\n",
    "<br>\n",
    "$$\n",
    "\\begin{align}\n",
    "    y &= \\sqrt{\\alpha}x \\\\\n",
    "    y &= \\sqrt{\\frac{1}{\\mathring A^2}} \\cdot \\mathring A \\\\\n",
    "    y &= \\frac{1}{\\mathring A} \\cdot \\mathring A \\\\\n",
    "    y &= \\frac{\\mathring A}{\\mathring A} \\\\\n",
    "    y &= 1 &&y\\mbox{ becomes a unitless quantity.} \n",
    "\\end{align}\n",
    "$$\n",
    "<br>\n",
    "Below follows a unit analysis of the wavefunction itself taking into consideration the above variable units: \n",
    "$$\n",
    "\\begin{align}\n",
    "    \\psi_n &= H_n(y) \\cdot e^{-\\frac{\\alpha x^2}{2}} \\\\\n",
    "    \\psi_n &= H_n(\\mbox{Unitless Quantity}) \\cdot e^{-\\frac{\\frac{1}{\\mathring A^2}}{\\mathring A^2}} \\\\\n",
    "    \\psi_n &= \\left(\\mbox{Unitless Quantity}\\right) \\cdot e^{-\\frac{\\mathring A^2}{\\mathring A^2}} \\\\\n",
    "    \\psi_n &= \\left(\\mbox{Unitless Quantity}\\right) \\cdot e^{\\left(\\mbox{Unitless Quantity}\\right)} \\\\\n",
    "    \\psi_n &= \\left(\\mbox{Unitless Quantity}\\right) \\cdot \\left(\\mbox{Unitless Quantity}\\right) \\\\\n",
    "    \\psi_n &= \\mbox{Unitless Quantity} \n",
    "\\end{align}\n",
    "$$\n",
    "<br>\n",
    "As can be seen above, the wavefunction now produces a unitless quantity and all that is left to do is multiply in the unit of $\\frac{1}{\\sqrt{\\mathring A}}$. This is done through $c_0$.\n",
    "$$\n",
    "\\begin{align}\n",
    "    c_0 &= \\left[\\frac{\\alpha}{\\pi}\\right]^\\frac{1}{4} \\\\\n",
    "    c_0 &= \\left[\\frac{\\frac{1}{\\mathring A^2}}{\\pi}\\right]^\\frac{1}{4} \\\\\n",
    "    c_0 &= \\left[\\frac{1}{\\mathring A^2}\\right]^{\\frac{1}{4}} \\\\\n",
    "    c_0 &= \\frac{1}{\\mathring A^{\\frac{2}{4}}} \\\\\n",
    "    c_0 &= \\frac{1}{\\mathring A^{\\frac{1}{2}}} \\\\\n",
    "    c_0 &= \\frac{1}{\\sqrt{\\mathring A}} \\\\\n",
    "\\end{align}\n",
    "$$\n",
    "<br>\n",
    "Thus, $c_0$ has units of $\\frac{1}{\\sqrt{\\mathring A}}$, meaning that c_0 is multipled into the wavefunction to allow the unitless wavefunction to have the correct unit, resulting in the final harmonic oscillator wavefunction: \n",
    "$$\\psi_n = c_0 \\cdot H_n(y) \\cdot e^{-\\frac{\\alpha x^2}{2}}$$"
   ]
  },
  {
   "cell_type": "code",
   "execution_count": 1,
   "metadata": {},
   "outputs": [],
   "source": [
    "#Allow Notebook to Import from Comp_Chem_Package\n",
    "import sys\n",
    "sys.path.append(\"..\\\\Comp_Chem_Package\")\n",
    "\n",
    "from compChemGlobal import *\n",
    "\n",
    "#Enter Input Data\n",
    "\n",
    "#Re in units of Angstroms\n",
    "#Optimal Diatomic Bond Distance\n",
    "Re = 1.128323\n",
    "\n",
    "#w in units of 1/cm\n",
    "#First Vibrational Constant\n",
    "w = 2169.81358\n",
    "\n",
    "#u in units of AMU\n",
    "#Reduced Atomic Mass for Diatomic Molecule\n",
    "u = 12*16/(12+16)"
   ]
  },
  {
   "cell_type": "code",
   "execution_count": 2,
   "metadata": {
    "scrolled": true
   },
   "outputs": [],
   "source": [
    "#All conversion factors acquired from Google\n",
    "\n",
    "#convert w from 1/cm to 1/m\n",
    "w *= 100\n",
    "\n",
    "#convert from 1/m to 1/s using the speed of light, m/s\n",
    "#multiply by 2pi to adjust waveform\n",
    "w *= c * 2 * pi\n",
    "\n",
    "#convert hbar to units of AMU Angstrom^2 / s from kg m^2 / s\n",
    "#convert from kg to AMU \n",
    "hbar2 = hbar\n",
    "hbar2 *= 6.022 * pow(10, 26)\n",
    "#convert from m^2 to angstrom^2\n",
    "hbar2 *= pow(10, 20)\n",
    "\n",
    "#compute alpha with units of 1/Angstrom^2\n",
    "alpha = (u*w) / hbar2"
   ]
  },
  {
   "cell_type": "code",
   "execution_count": 3,
   "metadata": {},
   "outputs": [],
   "source": [
    "#Define all functions here\n",
    "#########################################################################\n",
    "\n",
    "#converts r to x, where x = r-Re\n",
    "#r in Angstroms\n",
    "#Re in Angstroms\n",
    "#Returns in units of Angstroms\n",
    "def rToX(r):\n",
    "    return r - Re\n",
    "\n",
    "#########################################################################\n",
    "\n",
    "#Represents the e^x term in the harmonic oscillator\n",
    "#r in units of angstrom\n",
    "#unitless return\n",
    "def eTerm(r):\n",
    "    x = rToX(r)\n",
    "    return exp( -alpha * pow(x,2) / 2 )\n",
    "\n",
    "#########################################################################\n",
    "\n",
    "#prepares input to the hermite function\n",
    "#r in units of angstroms\n",
    "#unitless return\n",
    "def hermiteInput(r):\n",
    "    x = rToX(r)\n",
    "    return sqrt(alpha) * x\n",
    "\n",
    "#########################################################################\n",
    "\n",
    "#Function that creates a new Harmonic Oscillator Wavefunction (HOW)\n",
    "#Each harmonic oscillator function takes a position r in angstroms as input, and returns\n",
    "#a value in units of 1/sqrt(angstroms)\n",
    "def newHOW(n):\n",
    "\n",
    "    normalization = 1 / superSqrt( pow(2,n) * factorial(n) )\n",
    "    return lambda r : normalization * pow(alpha/pi, 0.25) * eTerm(r) * hermitePolynomials(\n",
    "        n, hermiteInput(r))"
   ]
  },
  {
   "cell_type": "code",
   "execution_count": 4,
   "metadata": {},
   "outputs": [],
   "source": [
    "#Graphing Code\n",
    "import numpy as np\n",
    "\n",
    "fig = plot.go.FigureWidget()\n",
    "fig.update_layout(\n",
    "    title_text = \"Harmonic Oscillators Wavefunction\",\n",
    "    xaxis_title_text = \"r in Angstroms\",\n",
    "    yaxis_title_text = \"Wavefunction Output\",\n",
    ")\n",
    "    \n",
    "fig.update_layout(showlegend=True)\n",
    "out = widgets.Output()\n",
    "\n",
    "basis = []\n",
    "def graph_wavefunctions(resolution, startR, endR, precision, basisSize, visibleWavefunctions, probability):\n",
    "    \n",
    "    visibility = [\"legendonly\"] * basisSize\n",
    "    \n",
    "    try:\n",
    "        for startEnd in visibleWavefunctions.split(\";\"):\n",
    "            if(\"-\" in startEnd):\n",
    "                startEnd = [int(value) for value in startEnd.split(\"-\")]\n",
    "                for index in range(startEnd[0], startEnd[1]):\n",
    "                    visibility[index] = True\n",
    "            else:\n",
    "                visibility[int(startEnd)] = True\n",
    "    except:\n",
    "        visibility = [False] * basisSize\n",
    "      \n",
    "    #build the basis set of the specified size if needed\n",
    "    if(len(basis) != basisSize):\n",
    "        for n in range(basisSize):\n",
    "            basis.append( newHOW(n) )\n",
    "    \n",
    "    dr = 1/resolution\n",
    "    precision = \"0.\" + str(precision)\n",
    "    \n",
    "    r = [startR + (dr*step) for step in range( int(abs( (endR - startR)/dr ))) ]\n",
    "    y = []\n",
    "    \n",
    "    name = []\n",
    "    yCalculations = []\n",
    "    if(\"Standard\" in probability):\n",
    "        name.append(\"HOW\")\n",
    "        yCalculations.append(lambda basisFunction, rValue: basisFunction(rValue)) \n",
    "    if(\"Probability\" in probability):\n",
    "        name.append(\"HOW Squared\")\n",
    "        yCalculations.append(lambda basisFunction, rValue: basisFunction(rValue) ** 2)\n",
    "    \n",
    "    fig.data = []\n",
    "    for index, basisFunction in enumerate(basis):\n",
    "        y.append([])\n",
    "        \n",
    "        for yCalculation in yCalculations:\n",
    "            y[index].append([])\n",
    "            for rValue in r:\n",
    "                y[index][-1].append( yCalculation(basisFunction, rValue) )\n",
    "                \n",
    "        for yIndex, yData in enumerate(y[index]):\n",
    "            fig.add_trace(plot.go.Scatter(\n",
    "                name = name[yIndex] + \" \" + str(index),\n",
    "                mode = \"lines\",\n",
    "                line = {\"shape\":\"spline\"},\n",
    "                x = r, y = yData,\n",
    "\n",
    "                hovertemplate = \n",
    "                    \"<b>r = %{x:\" + precision + \"f}</b><br>\" + \n",
    "                    \"<b>Ψ(r) = %{y:\" + precision + \"f}</b>\",\n",
    "                hoverlabel = dict(\n",
    "                    font_size = 16\n",
    "                ),\n",
    "\n",
    "                visible = visibility[index]\n",
    "            ))    "
   ]
  },
  {
   "cell_type": "code",
   "execution_count": 5,
   "metadata": {},
   "outputs": [
    {
     "data": {
      "application/vnd.jupyter.widget-view+json": {
       "model_id": "49b1aa4327cf4c8386cfba8c6cf44251",
       "version_major": 2,
       "version_minor": 0
      },
      "text/plain": [
       "VBox(children=(FigureWidget({\n",
       "    'data': [{'hoverlabel': {'font': {'size': 16}},\n",
       "              'hovertemplate…"
      ]
     },
     "metadata": {},
     "output_type": "display_data"
    },
    {
     "data": {
      "application/vnd.jupyter.widget-view+json": {
       "model_id": "8ab995452a0d4d839abad58b6195447f",
       "version_major": 2,
       "version_minor": 0
      },
      "text/plain": [
       "Output()"
      ]
     },
     "metadata": {},
     "output_type": "display_data"
    }
   ],
   "source": [
    "#Widgets Code\n",
    "\n",
    "#code to determine the appropriate start and end values\n",
    "start = round(-sqrt(-2 * log(pow(10, -15)) / alpha) + Re, 2)\n",
    "end = round(sqrt(-2 * log(pow(10, -15)) / alpha) + Re, 2)\n",
    "\n",
    "resolution = widgets.BoundedFloatText(\n",
    "    value = 100,\n",
    "    min = .001, \n",
    "    step = .01,\n",
    "    max = pow(10, 10),\n",
    "    description = '<p style=\"font-family:verdana;font-size:15px\">Resolution</p>',\n",
    ")\n",
    "\n",
    "precision = widgets.BoundedIntText(\n",
    "    value = 2,\n",
    "    min = 0,\n",
    "    max = 20,\n",
    "    step = 1,\n",
    "    description = '<p style=\"font-family:verdana;font-size:15px\">Precision</p>'\n",
    ")\n",
    "\n",
    "basisSize = widgets.BoundedIntText(\n",
    "    value = 5,\n",
    "    min = 1, \n",
    "    max = pow(10,10),\n",
    "    step = 1, \n",
    "    description = '<p style=\"font-family:verdana;font-size:15px\">Basis Size</p>'\n",
    ")\n",
    "\n",
    "visibleWavefunctions = widgets.Text(\n",
    "    value = \"0-\" + str(basisSize.value),\n",
    "    description = '<p style=\"font-family:verdana;font-size:15px\">Visible Ψs</p>'\n",
    ")\n",
    "\n",
    "startR = widgets.FloatText(\n",
    "    value = start, \n",
    "    step = .1, \n",
    "    description = '<p style=\"font-family:verdana;font-size:15px\">Start r</p>'\n",
    ")\n",
    "\n",
    "endR = widgets.FloatText(\n",
    "    value = end,\n",
    "    step = .1, \n",
    "    description = '<p style=\"font-family:verdana;font-size:15px\">End r</p>'\n",
    ")\n",
    "\n",
    "probability = widgets.Dropdown(\n",
    "    options = [\"Standard\", \"Probability Distribution\", \"Standard & Probability\"],\n",
    "    description = \"Graph Mode\"\n",
    ")\n",
    "\n",
    "def wavefunctionUpdate(change):\n",
    "    graph_wavefunctions(resolution.value, startR.value, endR.value, precision.value, basisSize.value, visibleWavefunctions.value, probability.value)\n",
    "    \n",
    "resolution.observe(wavefunctionUpdate, \"value\")\n",
    "precision.observe(wavefunctionUpdate, \"value\")\n",
    "startR.observe(wavefunctionUpdate, \"value\")\n",
    "endR.observe(wavefunctionUpdate, \"value\")\n",
    "basisSize.observe(wavefunctionUpdate, \"value\")\n",
    "visibleWavefunctions.observe(wavefunctionUpdate, \"value\")\n",
    "probability.observe(wavefunctionUpdate, \"value\")\n",
    "\n",
    "graph_wavefunctions(resolution.value, startR.value, endR.value, precision.value, basisSize.value, visibleWavefunctions.value, probability.value)\n",
    "\n",
    "display(widgets.VBox([fig, \n",
    "             widgets.HBox([resolution, precision, basisSize]),\n",
    "             widgets.HBox([startR, endR, visibleWavefunctions, probability])]))\n",
    "display(out)"
   ]
  },
  {
   "cell_type": "code",
   "execution_count": 6,
   "metadata": {},
   "outputs": [
    {
     "data": {
      "application/vnd.jupyter.widget-view+json": {
       "model_id": "24f172c92e82430ca443a819238c4d9c",
       "version_major": 2,
       "version_minor": 0
      },
      "text/plain": [
       "VBox(children=(FigureWidget({\n",
       "    'data': [{'hoverlabel': {'font': {'size': 16}},\n",
       "              'hovertemplate…"
      ]
     },
     "metadata": {},
     "output_type": "display_data"
    },
    {
     "data": {
      "application/vnd.jupyter.widget-view+json": {
       "model_id": "c437dcac34874736bc6fe323e627cafc",
       "version_major": 2,
       "version_minor": 0
      },
      "text/plain": [
       "VBox(children=(FigureWidget({\n",
       "    'data': [{'hoverlabel': {'font': {'size': 16}},\n",
       "              'hovertemplate…"
      ]
     },
     "metadata": {},
     "output_type": "display_data"
    }
   ],
   "source": [
    "import sys\n",
    "sys.path.append(\"..\\\\Comp_Chem_Package\")\n",
    "\n",
    "from how import *\n",
    "from basisSet import *\n",
    "from nistScraper import *\n",
    "\n",
    "dc = getDiatomicConstants(\"H2\")\n",
    "\n",
    "n1 = how(dc, 20)\n",
    "\n",
    "bset = basisSet(dc, how, 10)\n",
    "\n",
    "n1.graph()\n",
    "bset.graph()"
   ]
  },
  {
   "cell_type": "code",
   "execution_count": 7,
   "metadata": {},
   "outputs": [
    {
     "data": {
      "application/vnd.jupyter.widget-view+json": {
       "model_id": "5e76899251fa4086ae68a4ff1397365c",
       "version_major": 2,
       "version_minor": 0
      },
      "text/plain": [
       "VBox(children=(FigureWidget({\n",
       "    'data': [{'hoverlabel': {'font': {'size': 16}},\n",
       "              'hovertemplate…"
      ]
     },
     "metadata": {},
     "output_type": "display_data"
    }
   ],
   "source": [
    "# Solving the Schrodinger Equation for the Harmonic Oscillator \n",
    "#Based on equations from the following references: \n",
    "#    https://phys.libretexts.org/Bookshelves/University_Physics/Book%3A_University_Physics_(OpenStax)/Map%3A_University_Physics_III_-_Optics_and_Modern_Physics_(OpenStax)/07%3A_Quantum_Mechanics/7.06%3A_The_Quantum_Harmonic_Oscillator#:~:text=Unlike%20a%20classical%20oscillator%2C%20the,%3D%E2%84%8F%CF%89%3Dhf.\n",
    "#    http://hyperphysics.phy-astr.gsu.edu/hbase/quantum/hosc.html#c1\n",
    "from operators import *\n",
    "from basisSet import *\n",
    "from nistScraper import *\n",
    "from schrodinger import *\n",
    "from graphable import *\n",
    "\n",
    "dc = getDiatomicConstants(\"H2\")\n",
    "dc[\"re\"] = 0\n",
    "\n",
    "basis = basisSet(dc, size=20)\n",
    "\n",
    "class howPES(Graphable):\n",
    "    \n",
    "    #Set up graphing variables here\n",
    "    graphTitle = \"Harmonic Oscilator PES\"\n",
    "    xTitle = \"r in Å\"\n",
    "    yTitle = \"Wavenumbers\"\n",
    "    \n",
    "    #Declare global variables\n",
    "    re = 0 \n",
    "    k = 1\n",
    "    \n",
    "    def __init__(self, dc):\n",
    "        \n",
    "        #Conversions to be made\n",
    "        #1/cm to 1/s\n",
    "        #AMU to Kg\n",
    "        #Angstroms to meters\n",
    "        self.k = 2 * jToWavenumbers * dc[\"u\"] * amuToKg * pow(dc[\"w\"] * 100 * c * pi, 2) \n",
    "        self.re = dc[\"re\"] / mToA\n",
    "        \n",
    "        self.start = dc[\"re\"] - .8\n",
    "        self.end = dc[\"re\"] + .8\n",
    "            \n",
    "    def value(self, r):\n",
    "        return  self.k * pow( (r / mToA) - self.re,2) \n",
    "    \n",
    "    def invert(self, E, answer=0):\n",
    "        r = sqrt(E / self.k)\n",
    "        return (self.re + (r if answer == 0 else -r)) * mToA  \n",
    "    \n",
    "pes = howPES(dc)\n",
    "\n",
    "T = TOperator(basis, integrationStart = -inf)\n",
    "V = VOperator(basis, pes, integrationStart = -inf)\n",
    "\n",
    "H = T + V\n",
    "solution = schrod(H, basis, pes)\n",
    "solution.graph()"
   ]
  },
  {
   "cell_type": "code",
   "execution_count": 17,
   "metadata": {},
   "outputs": [
    {
     "data": {
      "application/vnd.jupyter.widget-view+json": {
       "model_id": "1d706ee15eb2414ebb5a255468d352c3",
       "version_major": 2,
       "version_minor": 0
      },
      "text/plain": [
       "VBox(children=(FigureWidget({\n",
       "    'data': [{'hoverlabel': {'font': {'size': 16}},\n",
       "              'hovertemplate…"
      ]
     },
     "metadata": {},
     "output_type": "display_data"
    }
   ],
   "source": [
    "basis.graph()"
   ]
  },
  {
   "cell_type": "code",
   "execution_count": 9,
   "metadata": {},
   "outputs": [],
   "source": [
    "solution = schrod(H, basis, pes)"
   ]
  },
  {
   "cell_type": "code",
   "execution_count": 10,
   "metadata": {},
   "outputs": [
    {
     "data": {
      "application/vnd.jupyter.widget-view+json": {
       "model_id": "11d0729dc46e4c05b852d790c90a9a1f",
       "version_major": 2,
       "version_minor": 0
      },
      "text/plain": [
       "VBox(children=(FigureWidget({\n",
       "    'data': [{'hoverlabel': {'font': {'size': 16}},\n",
       "              'hovertemplate…"
      ]
     },
     "metadata": {},
     "output_type": "display_data"
    }
   ],
   "source": [
    "solution.graph()"
   ]
  },
  {
   "cell_type": "code",
   "execution_count": 11,
   "metadata": {},
   "outputs": [
    {
     "data": {
      "application/vnd.jupyter.widget-view+json": {
       "model_id": "476babccf9554570a6c4258314f3b0c1",
       "version_major": 2,
       "version_minor": 0
      },
      "text/plain": [
       "VBox(children=(FigureWidget({\n",
       "    'data': [{'hoverlabel': {'font': {'size': 16}},\n",
       "              'hovertemplate…"
      ]
     },
     "metadata": {},
     "output_type": "display_data"
    }
   ],
   "source": [
    "solution.getWaveFunctions()[0].graph()"
   ]
  },
  {
   "cell_type": "code",
   "execution_count": 12,
   "metadata": {},
   "outputs": [
    {
     "data": {
      "text/plain": [
       "1.4475466648431392e+25"
      ]
     },
     "execution_count": 12,
     "metadata": {},
     "output_type": "execute_result"
    }
   ],
   "source": [
    "pes.k"
   ]
  },
  {
   "cell_type": "code",
   "execution_count": 13,
   "metadata": {},
   "outputs": [
    {
     "name": "stdout",
     "output_type": "stream",
     "text": [
      "[[   550.17694595      0.           -778.0676346       0.\n",
      "       0.              0.              0.              0.\n",
      "       0.              0.              0.              0.\n",
      "       0.              0.              0.              0.\n",
      "       0.              0.              0.              0.        ]\n",
      " [     0.           1650.53074768      0.          -1347.65252731\n",
      "       0.              0.              0.              0.\n",
      "       0.              0.              0.              0.\n",
      "       0.              0.              0.              0.\n",
      "       0.              0.              0.              0.        ]\n",
      " [  -778.06763478      0.           2750.88436847      0.\n",
      "   -1905.86827264      0.              0.              0.\n",
      "       0.              0.              0.              0.\n",
      "       0.              0.              0.              0.\n",
      "       0.              0.              0.              0.        ]\n",
      " [     0.          -1347.65252745      0.           3851.23780794\n",
      "       0.          -2460.46509036      0.              0.\n",
      "       0.              0.              0.              0.\n",
      "       0.              0.              0.              0.\n",
      "       0.              0.              0.              0.        ]\n",
      " [     0.              0.          -1905.86827281      0.\n",
      "    4951.59106653      0.          -3013.44167023      0.\n",
      "       0.              0.              0.              0.\n",
      "       0.              0.              0.              0.\n",
      "       0.              0.              0.              0.        ]\n",
      " [     0.              0.              0.          -2460.46509056\n",
      "       0.           6051.94414465      0.          -3565.55187765\n",
      "       0.              0.              0.              0.\n",
      "       0.              0.              0.              0.\n",
      "       0.              0.              0.              0.        ]\n",
      " [     0.              0.              0.              0.\n",
      "   -3013.44167024      0.           7152.29704108      0.\n",
      "   -4117.14422092      0.              0.              0.\n",
      "       0.              0.              0.              0.\n",
      "       0.              0.              0.              0.        ]\n",
      " [     0.              0.              0.              0.\n",
      "       0.          -3565.55187789      0.           8252.64975747\n",
      "       0.          -4668.4022254       0.              0.\n",
      "       0.              0.              0.              0.\n",
      "       0.              0.              0.              0.        ]\n",
      " [     0.              0.              0.              0.\n",
      "       0.              0.          -4117.14422143      0.\n",
      "    9353.00229262      0.          -5219.43178908      0.\n",
      "       0.              0.              0.              0.\n",
      "       0.              0.              0.              0.        ]\n",
      " [     0.              0.              0.              0.\n",
      "       0.              0.              0.          -4668.40222558\n",
      "       0.          10453.35464622      0.          -5770.29832228\n",
      "       0.              0.              0.              0.\n",
      "       0.              0.              0.              0.        ]\n",
      " [     0.              0.              0.              0.\n",
      "       0.              0.              0.              0.\n",
      "   -5219.4317895       0.          11553.70681897      0.\n",
      "   -6321.04441661      0.              0.              0.\n",
      "       0.              0.              0.              0.        ]\n",
      " [     0.              0.              0.              0.\n",
      "       0.              0.              0.              0.\n",
      "       0.          -5770.29832266      0.          12654.05881039\n",
      "       0.          -6871.69900192      0.              0.\n",
      "       0.              0.              0.              0.        ]\n",
      " [     0.              0.              0.              0.\n",
      "       0.              0.              0.              0.\n",
      "       0.              0.          -6321.04441676      0.\n",
      "   13754.41062135      0.          -7422.28241782      0.\n",
      "       0.              0.              0.              0.        ]\n",
      " [     0.              0.              0.              0.\n",
      "       0.              0.              0.              0.\n",
      "       0.              0.              0.          -6871.69900157\n",
      "       0.          14854.76225051      0.          -7972.8093837\n",
      "       0.              0.              0.              0.        ]\n",
      " [     0.              0.              0.              0.\n",
      "       0.              0.              0.              0.\n",
      "       0.              0.              0.              0.\n",
      "   -7422.28241788      0.          15955.11370005      0.\n",
      "   -8523.29081481      0.              0.              0.        ]\n",
      " [     0.              0.              0.              0.\n",
      "       0.              0.              0.              0.\n",
      "       0.              0.              0.              0.\n",
      "       0.          -7972.80938378      0.          17055.46496901\n",
      "       0.          -9073.73497685      0.              0.        ]\n",
      " [     0.              0.              0.              0.\n",
      "       0.              0.              0.              0.\n",
      "       0.              0.              0.              0.\n",
      "       0.              0.          -8523.29081399      0.\n",
      "   18155.81605603      0.          -9624.1482453       0.        ]\n",
      " [     0.              0.              0.              0.\n",
      "       0.              0.              0.              0.\n",
      "       0.              0.              0.              0.\n",
      "       0.              0.              0.          -9073.73497605\n",
      "       0.          19256.16696138      0.         -10174.53561164]\n",
      " [     0.              0.              0.              0.\n",
      "       0.              0.              0.              0.\n",
      "       0.              0.              0.              0.\n",
      "       0.              0.              0.              0.\n",
      "   -9624.14824494      0.          20356.51768652      0.        ]\n",
      " [     0.              0.              0.              0.\n",
      "       0.              0.              0.              0.\n",
      "       0.              0.              0.              0.\n",
      "       0.              0.              0.              0.\n",
      "       0.         -10174.53561086      0.          21456.86823062]]\n"
     ]
    }
   ],
   "source": [
    "print(T)"
   ]
  },
  {
   "cell_type": "code",
   "execution_count": 14,
   "metadata": {},
   "outputs": [
    {
     "name": "stdout",
     "output_type": "stream",
     "text": [
      "[[ 1.10025077e+03  0.00000000e+00  1.55598956e+03  0.00000000e+00\n",
      "   4.06548826e-13  0.00000000e+00  2.39808173e-14  0.00000000e+00\n",
      "  -1.70268876e-13  0.00000000e+00 -1.04189318e-13  0.00000000e+00\n",
      "   1.23456800e-13  0.00000000e+00 -1.03805853e-13  0.00000000e+00\n",
      "  -1.70530257e-13  0.00000000e+00 -7.03508432e-14  0.00000000e+00]\n",
      " [ 0.00000000e+00  3.30075232e+03  0.00000000e+00  2.69505298e+03\n",
      "   0.00000000e+00  1.12963282e-12  0.00000000e+00 -2.14411822e-15\n",
      "   0.00000000e+00 -3.73034936e-13  0.00000000e+00  4.61852778e-14\n",
      "   0.00000000e+00  4.54747351e-13  0.00000000e+00 -1.13686838e-13\n",
      "   0.00000000e+00  1.13686838e-13  0.00000000e+00  1.13686838e-13]\n",
      " [ 1.55598956e+03  0.00000000e+00  5.50125386e+03  0.00000000e+00\n",
      "   3.81138048e+03  0.00000000e+00  1.85960572e-12  0.00000000e+00\n",
      "  -1.36424205e-12  0.00000000e+00 -9.66338121e-13  0.00000000e+00\n",
      "   1.64845915e-12  0.00000000e+00  3.28626015e-13  0.00000000e+00\n",
      "  -8.96172025e-13  0.00000000e+00  8.00914890e-13  0.00000000e+00]\n",
      " [ 0.00000000e+00  2.69505298e+03  0.00000000e+00  7.70175540e+03\n",
      "   0.00000000e+00  4.92047104e+03  0.00000000e+00  1.26121336e-12\n",
      "   0.00000000e+00 -1.51345603e-12  0.00000000e+00 -1.91846539e-13\n",
      "   0.00000000e+00  1.42819090e-12  0.00000000e+00 -1.81410442e-12\n",
      "   0.00000000e+00  5.83977311e-14  0.00000000e+00  1.36579636e-12]\n",
      " [ 4.06548826e-13  0.00000000e+00  3.81138048e+03  0.00000000e+00\n",
      "   9.90225695e+03  0.00000000e+00  6.02632167e+03  0.00000000e+00\n",
      "   1.30985500e-13  0.00000000e+00 -3.15925064e-12  0.00000000e+00\n",
      "   2.94164693e-12  0.00000000e+00 -1.25677246e-13  0.00000000e+00\n",
      "  -1.69754920e-12  0.00000000e+00  2.48825156e-12  0.00000000e+00]\n",
      " [ 0.00000000e+00  1.12963282e-12  0.00000000e+00  4.92047104e+03\n",
      "   0.00000000e+00  1.21027585e+04  0.00000000e+00  7.13043996e+03\n",
      "   0.00000000e+00  3.81916720e-13  0.00000000e+00  7.62057084e-13\n",
      "   0.00000000e+00  2.35367281e-12  0.00000000e+00 -1.78834725e-12\n",
      "   0.00000000e+00  7.62501173e-13  0.00000000e+00  1.13095982e-11]\n",
      " [ 2.39808173e-14  0.00000000e+00  1.85960572e-12  0.00000000e+00\n",
      "   6.02632167e+03  0.00000000e+00  1.43032600e+04  0.00000000e+00\n",
      "   8.23352286e+03  0.00000000e+00  5.37969669e-12  0.00000000e+00\n",
      "   4.16444657e-12  0.00000000e+00  3.86801702e-13  0.00000000e+00\n",
      "  -1.24789068e-13  0.00000000e+00  2.08384421e-11  0.00000000e+00]\n",
      " [ 0.00000000e+00 -2.14411822e-15  0.00000000e+00  1.26121336e-12\n",
      "   0.00000000e+00  7.13043996e+03  0.00000000e+00  1.65037616e+04\n",
      "   0.00000000e+00  9.33593738e+03  0.00000000e+00  8.28270785e-12\n",
      "   0.00000000e+00  3.81561449e-12  0.00000000e+00  3.14992477e-12\n",
      "   0.00000000e+00  3.12581072e-11  0.00000000e+00  1.03383968e-12]\n",
      " [-1.70268876e-13  0.00000000e+00 -1.36424205e-12  0.00000000e+00\n",
      "   1.30985500e-13  0.00000000e+00  8.23352286e+03  0.00000000e+00\n",
      "   1.87042631e+04  0.00000000e+00  1.04378953e+04  0.00000000e+00\n",
      "   1.43272061e-11  0.00000000e+00  1.13726806e-11  0.00000000e+00\n",
      "   5.06070741e-11  0.00000000e+00 -2.60447219e-12  0.00000000e+00]\n",
      " [ 0.00000000e+00 -3.73034936e-13  0.00000000e+00 -1.51345603e-12\n",
      "   0.00000000e+00  3.81916720e-13  0.00000000e+00  9.33593738e+03\n",
      "   0.00000000e+00  2.09047647e+04  0.00000000e+00  1.15395274e+04\n",
      "   0.00000000e+00  2.03890238e-11  0.00000000e+00  7.66529062e-11\n",
      "   0.00000000e+00 -3.81028542e-12  0.00000000e+00  9.30492437e-13]\n",
      " [-1.04189318e-13  0.00000000e+00 -9.66338121e-13  0.00000000e+00\n",
      "  -3.15925064e-12  0.00000000e+00  5.37969669e-12  0.00000000e+00\n",
      "   1.04378953e+04  0.00000000e+00  2.31052662e+04  0.00000000e+00\n",
      "   1.26409190e+04  0.00000000e+00  1.11041398e-10  0.00000000e+00\n",
      "  -2.28772556e-12  0.00000000e+00 -4.23511453e-12  0.00000000e+00]\n",
      " [ 0.00000000e+00  4.61852778e-14  0.00000000e+00 -1.91846539e-13\n",
      "   0.00000000e+00  7.62057084e-13  0.00000000e+00  8.28270785e-12\n",
      "   0.00000000e+00  1.15395274e+04  0.00000000e+00  2.53057678e+04\n",
      "   0.00000000e+00  1.37421277e+04  0.00000000e+00  1.20374821e-11\n",
      "   0.00000000e+00 -1.57310003e-12  0.00000000e+00  2.95585778e-12]\n",
      " [ 1.23456800e-13  0.00000000e+00  1.64845915e-12  0.00000000e+00\n",
      "   2.94164693e-12  0.00000000e+00  4.16444657e-12  0.00000000e+00\n",
      "   1.43272061e-11  0.00000000e+00  1.26409190e+04  0.00000000e+00\n",
      "   2.75062693e+04  0.00000000e+00  1.48431944e+04  0.00000000e+00\n",
      "   1.11395337e-11  0.00000000e+00 -1.16529009e-12  0.00000000e+00]\n",
      " [ 0.00000000e+00  4.54747351e-13  0.00000000e+00  1.42819090e-12\n",
      "   0.00000000e+00  2.35367281e-12  0.00000000e+00  3.81561449e-12\n",
      "   0.00000000e+00  2.03890238e-11  0.00000000e+00  1.37421277e+04\n",
      "   0.00000000e+00  2.97067708e+04  0.00000000e+00  1.59441484e+04\n",
      "   0.00000000e+00  1.80513382e-11  0.00000000e+00  9.05231445e-12]\n",
      " [-1.03805853e-13  0.00000000e+00  3.28626015e-13  0.00000000e+00\n",
      "  -1.25677246e-13  0.00000000e+00  3.86801702e-13  0.00000000e+00\n",
      "   1.13726806e-11  0.00000000e+00  1.11041398e-10  0.00000000e+00\n",
      "   1.48431944e+04  0.00000000e+00  3.19072724e+04  0.00000000e+00\n",
      "   1.70450117e+04  0.00000000e+00  2.38742359e-11  0.00000000e+00]\n",
      " [ 0.00000000e+00 -1.13686838e-13  0.00000000e+00 -1.81410442e-12\n",
      "   0.00000000e+00 -1.78834725e-12  0.00000000e+00  3.14992477e-12\n",
      "   0.00000000e+00  7.66529062e-11  0.00000000e+00  1.20374821e-11\n",
      "   0.00000000e+00  1.59441484e+04  0.00000000e+00  3.41077739e+04\n",
      "   0.00000000e+00  1.81458006e+04  0.00000000e+00  1.09139364e-11]\n",
      " [-1.70530257e-13  0.00000000e+00 -8.96172025e-13  0.00000000e+00\n",
      "  -1.69754920e-12  0.00000000e+00 -1.24789068e-13  0.00000000e+00\n",
      "   5.06070741e-11  0.00000000e+00 -2.28772556e-12  0.00000000e+00\n",
      "   1.11395337e-11  0.00000000e+00  1.70450117e+04  0.00000000e+00\n",
      "   3.63082755e+04  0.00000000e+00  1.92465280e+04  0.00000000e+00]\n",
      " [ 0.00000000e+00  1.13686838e-13  0.00000000e+00  5.83977311e-14\n",
      "   0.00000000e+00  7.62501173e-13  0.00000000e+00  3.12581072e-11\n",
      "   0.00000000e+00 -3.81028542e-12  0.00000000e+00 -1.57310003e-12\n",
      "   0.00000000e+00  1.80513382e-11  0.00000000e+00  1.81458006e+04\n",
      "   0.00000000e+00  3.85087770e+04  0.00000000e+00  2.03472038e+04]\n",
      " [-7.03508432e-14  0.00000000e+00  8.00914890e-13  0.00000000e+00\n",
      "   2.48825156e-12  0.00000000e+00  2.08384421e-11  0.00000000e+00\n",
      "  -2.60447219e-12  0.00000000e+00 -4.23511453e-12  0.00000000e+00\n",
      "  -1.16529009e-12  0.00000000e+00  2.38742359e-11  0.00000000e+00\n",
      "   1.92465280e+04  0.00000000e+00  4.07092786e+04  0.00000000e+00]\n",
      " [ 0.00000000e+00  1.13686838e-13  0.00000000e+00  1.36579636e-12\n",
      "   0.00000000e+00  1.13095982e-11  0.00000000e+00  1.03383968e-12\n",
      "   0.00000000e+00  9.30492437e-13  0.00000000e+00  2.95585778e-12\n",
      "   0.00000000e+00  9.05231445e-12  0.00000000e+00  1.09139364e-11\n",
      "   0.00000000e+00  2.03472038e+04  0.00000000e+00  4.29097801e+04]]\n"
     ]
    }
   ],
   "source": [
    "print(V)"
   ]
  },
  {
   "cell_type": "code",
   "execution_count": 15,
   "metadata": {},
   "outputs": [
    {
     "name": "stdout",
     "output_type": "stream",
     "text": [
      "1.4475466648431392e+25\n"
     ]
    }
   ],
   "source": [
    "print(pes.k)"
   ]
  },
  {
   "cell_type": "code",
   "execution_count": null,
   "metadata": {},
   "outputs": [],
   "source": []
  },
  {
   "cell_type": "code",
   "execution_count": 16,
   "metadata": {},
   "outputs": [
    {
     "ename": "IndexError",
     "evalue": "index 20 is out of bounds for axis 0 with size 20",
     "output_type": "error",
     "traceback": [
      "\u001b[1;31m---------------------------------------------------------------------------\u001b[0m",
      "\u001b[1;31mIndexError\u001b[0m                                Traceback (most recent call last)",
      "\u001b[1;32m<ipython-input-16-5802b9449506>\u001b[0m in \u001b[0;36m<module>\u001b[1;34m\u001b[0m\n\u001b[0;32m      1\u001b[0m \u001b[0mdiff\u001b[0m \u001b[1;33m=\u001b[0m \u001b[1;33m[\u001b[0m\u001b[1;33m]\u001b[0m\u001b[1;33m\u001b[0m\u001b[1;33m\u001b[0m\u001b[0m\n\u001b[0;32m      2\u001b[0m \u001b[1;32mfor\u001b[0m \u001b[0mi\u001b[0m\u001b[1;33m,\u001b[0m \u001b[0mev\u001b[0m \u001b[1;32min\u001b[0m \u001b[0menumerate\u001b[0m\u001b[1;33m(\u001b[0m\u001b[0msolution\u001b[0m\u001b[1;33m.\u001b[0m\u001b[0meigenValues\u001b[0m\u001b[1;33m)\u001b[0m\u001b[1;33m:\u001b[0m\u001b[1;33m\u001b[0m\u001b[1;33m\u001b[0m\u001b[0m\n\u001b[1;32m----> 3\u001b[1;33m     \u001b[0mdiff\u001b[0m\u001b[1;33m.\u001b[0m\u001b[0mappend\u001b[0m\u001b[1;33m(\u001b[0m\u001b[0msolution\u001b[0m\u001b[1;33m.\u001b[0m\u001b[0meigenValues\u001b[0m\u001b[1;33m[\u001b[0m\u001b[0mi\u001b[0m\u001b[1;33m+\u001b[0m\u001b[1;36m1\u001b[0m\u001b[1;33m]\u001b[0m \u001b[1;33m-\u001b[0m \u001b[0mev\u001b[0m\u001b[1;33m)\u001b[0m\u001b[1;33m\u001b[0m\u001b[1;33m\u001b[0m\u001b[0m\n\u001b[0m\u001b[0;32m      4\u001b[0m \u001b[1;33m\u001b[0m\u001b[0m\n",
      "\u001b[1;31mIndexError\u001b[0m: index 20 is out of bounds for axis 0 with size 20"
     ]
    }
   ],
   "source": [
    "diff = []\n",
    "for i, ev in enumerate(solution.eigenValues):\n",
    "    diff.append(solution.eigenValues[i+1] - ev)\n",
    "    "
   ]
  },
  {
   "cell_type": "code",
   "execution_count": null,
   "metadata": {},
   "outputs": [],
   "source": [
    "diff"
   ]
  },
  {
   "cell_type": "code",
   "execution_count": null,
   "metadata": {},
   "outputs": [],
   "source": [
    "dc[\"u\"]"
   ]
  },
  {
   "cell_type": "code",
   "execution_count": null,
   "metadata": {},
   "outputs": [],
   "source": [
    "dc[\"w\"]"
   ]
  },
  {
   "cell_type": "code",
   "execution_count": null,
   "metadata": {},
   "outputs": [],
   "source": []
  }
 ],
 "metadata": {
  "kernelspec": {
   "display_name": "Python 3",
   "language": "python",
   "name": "python3"
  },
  "language_info": {
   "codemirror_mode": {
    "name": "ipython",
    "version": 3
   },
   "file_extension": ".py",
   "mimetype": "text/x-python",
   "name": "python",
   "nbconvert_exporter": "python",
   "pygments_lexer": "ipython3",
   "version": "3.8.0"
  }
 },
 "nbformat": 4,
 "nbformat_minor": 4
}
