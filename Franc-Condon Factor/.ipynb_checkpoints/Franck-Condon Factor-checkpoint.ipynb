{
 "cells": [
  {
   "cell_type": "markdown",
   "metadata": {},
   "source": [
    "## Franck-Condon Factor\n",
    "<br><br>\n",
    "\n",
    "A Franck-Condon Factor represents the transition probability between two different vibrational energy levels of a diatomic molecule. <br><br>\n",
    "\n",
    "The equation for computing the Franck-Condon Coefficents is a fairly simple equation in terms of appearance, but is often quite expensive to compute.\n",
    "\n",
    "$$I_{\\gamma\\gamma^{'}}=\\left(\\int^{\\infty}_{-\\infty}{\\psi_\\gamma\\psi_{\\gamma^{'}}dr}\\right)^2$$\n",
    "<br>\n",
    "\n",
    "$\\psi_\\gamma$ refers to a wavefunction for a diatomic molecule with an electronic state of $\\gamma$, while $\\psi_\\gamma$ refers to the wavefunction for the same diatomic system, only at a higher exicted state, $\\gamma^{'}$. Thus, $I_{\\gamma\\gamma^{'}}$ represents the transition probability that the diatomic molecule will transition from $\\gamma$ to $\\gamma^{'}$\n",
    "<br><br>\n",
    "\n",
    "All theory and equations in this notebook originate from <u>Analytical Evaluation for Calculation of Two-Center Franck–Condon Factor and Matrix Elements</u>, by Hüseyin Koç."
   ]
  },
  {
   "cell_type": "code",
   "execution_count": 1,
   "metadata": {},
   "outputs": [
    {
     "data": {
      "text/html": [
       "        <script type=\"text/javascript\">\n",
       "        window.PlotlyConfig = {MathJaxConfig: 'local'};\n",
       "        if (window.MathJax) {MathJax.Hub.Config({SVG: {font: \"STIX-Web\"}});}\n",
       "        if (typeof require !== 'undefined') {\n",
       "        require.undef(\"plotly\");\n",
       "        requirejs.config({\n",
       "            paths: {\n",
       "                'plotly': ['https://cdn.plot.ly/plotly-latest.min']\n",
       "            }\n",
       "        });\n",
       "        require(['plotly'], function(Plotly) {\n",
       "            window._Plotly = Plotly;\n",
       "        });\n",
       "        }\n",
       "        </script>\n",
       "        "
      ]
     },
     "metadata": {},
     "output_type": "display_data"
    },
    {
     "name": "stdout",
     "output_type": "stream",
     "text": [
      "\n",
      "Generating RKR Potential\n"
     ]
    },
    {
     "name": "stderr",
     "output_type": "stream",
     "text": [
      "100%|█████████████████████████████████████████████████████████████████████████████████| 95/95 [00:00<00:00, 258.26it/s]\n"
     ]
    },
    {
     "name": "stdout",
     "output_type": "stream",
     "text": [
      "\n",
      "Generating RKR Potential\n"
     ]
    },
    {
     "name": "stderr",
     "output_type": "stream",
     "text": [
      "  6%|█████                                                                          | 80/1251 [00:00<00:04, 266.16it/s]..\\Comp_Chem_Package\\rkr.py:69: RuntimeWarning:\n",
      "\n",
      "invalid value encountered in sqrt\n",
      "\n",
      "..\\Comp_Chem_Package\\rkr.py:95: IntegrationWarning:\n",
      "\n",
      "The occurrence of roundoff error is detected, which prevents \n",
      "  the requested tolerance from being achieved.  The error may be \n",
      "  underestimated.\n",
      "\n",
      "..\\Comp_Chem_Package\\rkr.py:86: RuntimeWarning:\n",
      "\n",
      "invalid value encountered in sqrt\n",
      "\n",
      "\n"
     ]
    },
    {
     "name": "stdout",
     "output_type": "stream",
     "text": [
      "\n",
      "Generating RKR Potential\n"
     ]
    },
    {
     "name": "stderr",
     "output_type": "stream",
     "text": [
      "  2%|█▊                                                                             | 28/1251 [00:00<00:04, 273.23it/s]\n",
      "  0%|                                                                                            | 0/2 [00:00<?, ?it/s]..\\Comp_Chem_Package\\wavefunction.py:115: IntegrationWarning:\n",
      "\n",
      "The occurrence of roundoff error is detected, which prevents \n",
      "  the requested tolerance from being achieved.  The error may be \n",
      "  underestimated.\n",
      "\n",
      "100%|████████████████████████████████████████████████████████████████████████████████████| 2/2 [00:04<00:00,  2.15s/it]\n",
      "  0%|                                                                                            | 0/2 [00:00<?, ?it/s]..\\Comp_Chem_Package\\wavefunction.py:115: IntegrationWarning:\n",
      "\n",
      "The maximum number of subdivisions (200) has been achieved.\n",
      "  If increasing the limit yields no improvement it is advised to analyze \n",
      "  the integrand in order to determine the difficulties.  If the position of a \n",
      "  local difficulty can be determined (singularity, discontinuity) one will \n",
      "  probably gain from splitting up the interval and calling the integrator \n",
      "  on the subranges.  Perhaps a special-purpose integrator should be used.\n",
      "\n",
      "100%|████████████████████████████████████████████████████████████████████████████████████| 2/2 [00:07<00:00,  3.46s/it]\n"
     ]
    },
    {
     "data": {
      "application/vnd.jupyter.widget-view+json": {
       "model_id": "7410a927885f4b72aec6b4147f9dfa46",
       "version_major": 2,
       "version_minor": 0
      },
      "text/plain": [
       "HTMLMath(value=\"<font size='5'>Energy Levels</font><br><font size='3'>Energy Levels $(n) \\\\qquad$ Energy in $c…"
      ]
     },
     "metadata": {},
     "output_type": "display_data"
    },
    {
     "data": {
      "application/vnd.jupyter.widget-view+json": {
       "model_id": "69823a206abf4ee6b99e741e101406a6",
       "version_major": 2,
       "version_minor": 0
      },
      "text/plain": [
       "HTMLMath(value=\"<font size='5'>Energy Levels</font><br><font size='3'>Energy Levels $(n) \\\\qquad$ Energy in $c…"
      ]
     },
     "metadata": {},
     "output_type": "display_data"
    }
   ],
   "source": [
    "#All Code Written by Gary Zeri\n",
    "#Chapman University Computer Science Major, Member of the LaRue CatLab\n",
    "\n",
    "#Allow Notebook to Import from Comp_Chem_Package\n",
    "import sys\n",
    "sys.path.append(\"..\\\\Comp_Chem_Package\")\n",
    "\n",
    "import numpy as np\n",
    "from diatomicConstants import diatomicConstants\n",
    "from wavefunction import wavefunction\n",
    "from diatomicPotentials import morsePotential\n",
    "from basisSets import how\n",
    "from rkr import rkr\n",
    "from scipy.integrate import quad as integrate\n",
    "\n",
    "#Set up Graphing Abillties with Plotly\n",
    "from plotly.offline import iplot, init_notebook_mode\n",
    "init_notebook_mode(connected=True)\n",
    "\n",
    "figure = {\n",
    "   \"data\":[],\n",
    "   \"layout\":{\n",
    "       \"xaxis\":{\"title\":\"Bond Distance in Angstroms\"},\n",
    "       \"yaxis\":{\"title\":\"Energy in Wavenumbers\"}\n",
    "   }\n",
    "}\n",
    "basisSize = 2\n",
    "resolution = .8\n",
    "COX = diatomicConstants(T=0, re=1.128323, w=2169.81358, wx=13.28831, wy=0, wz=0, B=1.93128087, a=0.01750441, y=0, \n",
    "      D=0, u = (12*16) / (12+16), state=\"ground\")\n",
    "COA = diatomicConstants(T=65075.7, re=1.2353, w=1518.28, wx=19.4, wy=0, wz=0, B=1.6115, a=0.02325, y=0, \n",
    "      D=0.00000733, u = (12*16) / (12+16), state=\"A\")\n",
    "\n",
    "x, y = rkr(COX).graphData(resolution, endPoint=75)\n",
    "\n",
    "figure[\"data\"].append(\n",
    "     {\n",
    "            \"type\":\"scatter\",\n",
    "            \"x\":x,\n",
    "            \"y\":y,\n",
    "            \"connectgaps\":True,\n",
    "            \"mode\":\"markers\",\n",
    "            \"name\":\"RKR Potential\"\n",
    "        }\n",
    ")\n",
    "\n",
    "d0 = rkr(COX).graphData(resolution)\n",
    "\n",
    "d1 = rkr(COA).graphData(resolution)\n",
    "\n",
    "#Declare all global variables here\n",
    "psi0 = wavefunction(COX, morsePotential(d0, True).equation, how(COX.re, COX.w, COX.u, basisSize))\n",
    "psi1 = wavefunction(COA, morsePotential(d1, True).equation, how(COA.re, COA.w, COA.u, basisSize))\n",
    "\n",
    "psi0.displayEnergy()\n",
    "psi1.displayEnergy()"
   ]
  },
  {
   "cell_type": "code",
   "execution_count": 18,
   "metadata": {},
   "outputs": [
    {
     "name": "stdout",
     "output_type": "stream",
     "text": [
      "[[0.1230853  0.30110388]\n",
      " [0.21069091 0.13883518]]\n"
     ]
    },
    {
     "ename": "TypeError",
     "evalue": "array() missing required argument 'object' (pos 1)",
     "output_type": "error",
     "traceback": [
      "\u001b[1;31m---------------------------------------------------------------------------\u001b[0m",
      "\u001b[1;31mTypeError\u001b[0m                                 Traceback (most recent call last)",
      "\u001b[1;32m<ipython-input-18-e09b272b6d23>\u001b[0m in \u001b[0;36m<module>\u001b[1;34m\u001b[0m\n\u001b[0;32m      9\u001b[0m \u001b[0mprint\u001b[0m\u001b[1;33m(\u001b[0m\u001b[0mfcFactor\u001b[0m\u001b[1;33m)\u001b[0m\u001b[1;33m\u001b[0m\u001b[1;33m\u001b[0m\u001b[0m\n\u001b[0;32m     10\u001b[0m \u001b[1;33m\u001b[0m\u001b[0m\n\u001b[1;32m---> 11\u001b[1;33m \u001b[0mfcFactor\u001b[0m \u001b[1;33m=\u001b[0m \u001b[0mnp\u001b[0m\u001b[1;33m.\u001b[0m\u001b[0marray\u001b[0m\u001b[1;33m(\u001b[0m\u001b[1;33m)\u001b[0m\u001b[1;33m\u001b[0m\u001b[1;33m\u001b[0m\u001b[0m\n\u001b[0m",
      "\u001b[1;31mTypeError\u001b[0m: array() missing required argument 'object' (pos 1)"
     ]
    }
   ],
   "source": [
    "fcFactor = np.zeros([basisSize, basisSize])\n",
    "\n",
    "for index0, b0 in enumerate(psi0.basisSet.basis):\n",
    "    for index1, b1 in enumerate(psi1.basisSet.basis):\n",
    "        \n",
    "        integrand = lambda r : b0(r) * b1(r)  \n",
    "        fcFactor[index0, index1] += pow(integrate(integrand, 0, np.inf, limit=1000, epsabs = pow(10, -200))[0], 2)\n",
    "\n",
    "print(fcFactor)\n",
    "\n",
    "fcFactor = np.array([\n",
    "    [0.10723, 0.2173],\n",
    "    [0.235516, 0.164564]\n",
    "])"
   ]
  },
  {
   "cell_type": "markdown",
   "metadata": {},
   "source": [
    "## Einstein Coefficients\n",
    "<br><br>\n",
    "\n",
    "The Einstein Coefficents are computed from the Franck-Codon Factors. While the Franck-Codon factors describe the transition probabiliity between two electronic states, the Einstein Coefficents describe the probabillity that spontanoues emission or stimulated emission will occurs for an electronic system. \n",
    "<br><br>\n",
    "The Einstein A coefficent describes spontanoues emission, specifically meaning the likelihood that an atom or molecule will spontanousely decide to emit photons as the system relaxes down to a lower energy level. \n",
    "<br><br>\n",
    "The Einstein B coefficent describes stimulated emission, meaning the probability that a photon sent into an excited state molecule or atom will cause the system to automatically jump down to a lower energy level.\n",
    "<br><br>\n",
    "The Einstein A coefficent is computed from the Franck-Codon Factors via the following relation:\n",
    "$$E_A = 2.026 \\cdot 10^-6 \\cdot v^3_{\\gamma\\gamma^{'}}\\left[\\int^{\\infty}_{-\\infty} \\frac{\\left(  2 - \\delta_{0, }  \\right)}{\\left(  \\right)}{\\psi_\\gamma\\psi_{\\gamma^{'}}dr}\\right]$$\n",
    "Where does the numerical constant come from?\n",
    "<br><br>\n",
    "\n"
   ]
  },
  {
   "cell_type": "code",
   "execution_count": 16,
   "metadata": {},
   "outputs": [
    {
     "name": "stdout",
     "output_type": "stream",
     "text": [
      "[[1.94109101e+15 1.98780564e+15]\n",
      " [1.87481259e+15 1.92152723e+15]]\n",
      "3.2652480073586986e+45\n",
      "2.373421884661181e+45\n",
      "\n",
      "[[9.00210084e+44 2.36503792e+45]\n",
      " [1.38841528e+45 9.85006603e+44]]\n",
      "\n",
      "[[1.25127358e+57 3.06099378e+57]\n",
      " [2.14186402e+57 1.41138537e+57]]\n",
      "\n"
     ]
    }
   ],
   "source": [
    "from scipy import constants\n",
    "transitionFrequencies = np.zeros( [len(psi0.energies), len(psi0.energies)] )\n",
    "\n",
    "for index0, energy0 in enumerate(psi0.energies):\n",
    "    for index1, energy1 in enumerate(psi1.energies):\n",
    "        \n",
    "        #produces matrix consiting of energy differences between upper and lower energy states\n",
    "        #This is currently wrong, need to add T to excited state energy levels\n",
    "        transitionFrequencies[index0, index1] += (energy1 + COA.T - energy0) * 100 * constants.c\n",
    "        \n",
    "print(transitionFrequencies)\n",
    "\n",
    "EA = np.zeros([len(psi0.energies), len(psi0.energies)])\n",
    "EB = np.zeros([len(psi0.energies), len(psi0.energies)])\n",
    "\n",
    "#compute the Einstien A Coefficent\n",
    "for index0 in range(len(psi0.energies)):\n",
    "    \n",
    "    denominator = 0\n",
    "    for index1 in range(len(psi1.energies)):\n",
    "        denominator += pow(transitionFrequencies[index0, index1], 3) * fcFactor[index0, index1]\n",
    "    print(denominator)\n",
    "    \n",
    "    for index1 in range(len(psi1.energies)):\n",
    "        \n",
    "        EA[index0, index1] += pow(transitionFrequencies[index0, index1], 3) * fcFactor[index0, index1]# / denominator\n",
    "        EB[index0, index1] += EA[index0, index1] * pow(constants.c, 3) / (8*np.pi*constants.hbar*pow(transitionFrequencies[index0, index1], 3))\n",
    "print()\n",
    "print(EA)\n",
    "print()\n",
    "print(EB)\n",
    "print()"
   ]
  },
  {
   "cell_type": "code",
   "execution_count": 4,
   "metadata": {},
   "outputs": [
    {
     "data": {
      "text/plain": [
       "array([[4., 4., 4.],\n",
       "       [4., 4., 4.]])"
      ]
     },
     "execution_count": 4,
     "metadata": {},
     "output_type": "execute_result"
    }
   ],
   "source": [
    "a = np.ones([2, 3]) * 2\n",
    "pow(a, 2)"
   ]
  },
  {
   "cell_type": "code",
   "execution_count": null,
   "metadata": {},
   "outputs": [],
   "source": []
  }
 ],
 "metadata": {
  "kernelspec": {
   "display_name": "Python 3",
   "language": "python",
   "name": "python3"
  },
  "language_info": {
   "codemirror_mode": {
    "name": "ipython",
    "version": 3
   },
   "file_extension": ".py",
   "mimetype": "text/x-python",
   "name": "python",
   "nbconvert_exporter": "python",
   "pygments_lexer": "ipython3",
   "version": "3.7.3"
  }
 },
 "nbformat": 4,
 "nbformat_minor": 2
}
