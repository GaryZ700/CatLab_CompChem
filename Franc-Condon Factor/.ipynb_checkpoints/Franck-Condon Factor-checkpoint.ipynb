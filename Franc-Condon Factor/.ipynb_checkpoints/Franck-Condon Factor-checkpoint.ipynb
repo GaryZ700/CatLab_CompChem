{
 "cells": [
  {
   "cell_type": "markdown",
   "metadata": {},
   "source": [
    "## Franck-Condon Factor\n",
    "<br><br>\n",
    "\n",
    "A Franck-Condon Factor represents the transition probability between two different vibrational energy levels of a diatomic molecule. <br><br>\n",
    "\n",
    "The equation for computing the Franck-Condon Coefficents is a fairly simple equation in terms of appearance, but is often quite expensive to compute.\n",
    "\n",
    "$$I_{\\gamma\\gamma^{'}}=\\left(\\int^{\\infty}_{-\\infty}{\\psi_\\gamma\\psi_{\\gamma^{'}}dr}\\right)^2$$\n",
    "<br>\n",
    "\n",
    "$\\psi_\\gamma$ refers to a wavefunction for a diatomic molecule with an electronic state of $\\gamma$, while $\\psi_\\gamma$ refers to the wavefunction for the same diatomic system, only at a higher exicted state, $\\gamma^{'}$. Thus, $I_{\\gamma\\gamma^{'}}$ represents the transition probability that the diatomic molecule will transition from $\\gamma$ to $\\gamma^{'}$\n",
    "<br><br>\n",
    "\n",
    "All theory and equations in this notebook originate from <u>Analytical Evaluation for Calculation of Two-Center Franck–Condon Factor and Matrix Elements</u>, by Hüseyin Koç."
   ]
  },
  {
   "cell_type": "code",
   "execution_count": 1,
   "metadata": {},
   "outputs": [
    {
     "data": {
      "text/html": [
       "        <script type=\"text/javascript\">\n",
       "        window.PlotlyConfig = {MathJaxConfig: 'local'};\n",
       "        if (window.MathJax) {MathJax.Hub.Config({SVG: {font: \"STIX-Web\"}});}\n",
       "        if (typeof require !== 'undefined') {\n",
       "        require.undef(\"plotly\");\n",
       "        requirejs.config({\n",
       "            paths: {\n",
       "                'plotly': ['https://cdn.plot.ly/plotly-latest.min']\n",
       "            }\n",
       "        });\n",
       "        require(['plotly'], function(Plotly) {\n",
       "            window._Plotly = Plotly;\n",
       "        });\n",
       "        }\n",
       "        </script>\n",
       "        "
      ]
     },
     "metadata": {},
     "output_type": "display_data"
    },
    {
     "name": "stdout",
     "output_type": "stream",
     "text": [
      "\n",
      "Generating RKR Potential\n"
     ]
    },
    {
     "name": "stderr",
     "output_type": "stream",
     "text": [
      " 55%|██████████████████████████████████████████▊                                   | 28/51 [00:00<00:00, 269.88it/s]..\\Comp_Chem_Package\\rkr.py:69: RuntimeWarning:\n",
      "\n",
      "invalid value encountered in sqrt\n",
      "\n",
      "..\\Comp_Chem_Package\\rkr.py:95: IntegrationWarning:\n",
      "\n",
      "The occurrence of roundoff error is detected, which prevents \n",
      "  the requested tolerance from being achieved.  The error may be \n",
      "  underestimated.\n",
      "\n",
      "..\\Comp_Chem_Package\\rkr.py:86: RuntimeWarning:\n",
      "\n",
      "invalid value encountered in sqrt\n",
      "\n",
      "\n"
     ]
    },
    {
     "name": "stdout",
     "output_type": "stream",
     "text": [
      "\n",
      "Generating RKR Potential\n"
     ]
    },
    {
     "name": "stderr",
     "output_type": "stream",
     "text": [
      "100%|██████████████████████████████████████████████████████████████████████████████| 44/44 [00:00<00:00, 264.18it/s]\n"
     ]
    },
    {
     "name": "stdout",
     "output_type": "stream",
     "text": [
      "\n",
      "Generating RKR Potential\n"
     ]
    },
    {
     "name": "stderr",
     "output_type": "stream",
     "text": [
      "100%|██████████████████████████████████████████████████████████████████████████████| 47/47 [00:00<00:00, 275.54it/s]\n"
     ]
    },
    {
     "name": "stdout",
     "output_type": "stream",
     "text": [
      "Preparing to Optimize the function\n",
      "4.331948187491211\n",
      "2.9498424447104945\n",
      "3.5881805178148887\n"
     ]
    },
    {
     "name": "stderr",
     "output_type": "stream",
     "text": [
      "100%|█████████████████████████████████████████████████████████████████████████████████| 2/2 [00:00<00:00,  4.44it/s]\n"
     ]
    },
    {
     "name": "stdout",
     "output_type": "stream",
     "text": [
      "Preparing to Optimize the function\n",
      "5.658968603690309\n",
      "9.86342160504775\n",
      "14.29654379608701\n"
     ]
    },
    {
     "name": "stderr",
     "output_type": "stream",
     "text": [
      "100%|█████████████████████████████████████████████████████████████████████████████████| 2/2 [00:00<00:00,  4.72it/s]\n"
     ]
    },
    {
     "data": {
      "application/vnd.jupyter.widget-view+json": {
       "model_id": "461b5f34d08d46d5946caf5ee1ca338b",
       "version_major": 2,
       "version_minor": 0
      },
      "text/plain": [
       "HTMLMath(value=\"<font size='5'>Energy Levels</font><br><font size='3'>Energy Levels $(n) \\\\qquad$ Energy in $c…"
      ]
     },
     "metadata": {},
     "output_type": "display_data"
    },
    {
     "data": {
      "application/vnd.jupyter.widget-view+json": {
       "model_id": "5f04c5cd92e84df0a18d0b1a4b9d68ac",
       "version_major": 2,
       "version_minor": 0
      },
      "text/plain": [
       "HTMLMath(value=\"<font size='5'>Energy Levels</font><br><font size='3'>Energy Levels $(n) \\\\qquad$ Energy in $c…"
      ]
     },
     "metadata": {},
     "output_type": "display_data"
    }
   ],
   "source": [
    "#All Code Written by Gary Zeri\n",
    "#Chapman University Computer Science Major, Member of the LaRue CatLab\n",
    "\n",
    "#Allow Notebook to Import from Comp_Chem_Package\n",
    "import sys\n",
    "sys.path.append(\"..\\\\Comp_Chem_Package\")\n",
    "\n",
    "import numpy as np\n",
    "from diatomicConstants import diatomicConstants\n",
    "from wavefunction import wavefunction\n",
    "from diatomicPotentials import extendedRydberg\n",
    "from basisSets import how\n",
    "from rkr import rkr\n",
    "from scipy.integrate import quad as integrate\n",
    "\n",
    "#Set up Graphing Abillties with Plotly\n",
    "from plotly.offline import iplot, init_notebook_mode\n",
    "init_notebook_mode(connected=True)\n",
    "\n",
    "figure = {\n",
    "   \"data\":[],\n",
    "   \"layout\":{\n",
    "       \"xaxis\":{\"title\":\"Bond Distance in Angstroms\"},\n",
    "       \"yaxis\":{\"title\":\"Energy in Wavenumbers\"}\n",
    "   }\n",
    "}\n",
    "basisSize = 2\n",
    "resolution = 1.5\n",
    "#COX = diatomicConstants(\"gound\", 0, 2169.81358 , 13.28831, 0, 0, 1.93128087, 0.01750441, 0, 6.12147*pow(10,-6), 1.128323, 12*16/(12+16))           \n",
    "#COA = diatomicConstants(\"A\", 65075.7, 1518.28, 19.4, 0, 0, 1.6115, 0.02325, 0, 0.00000733, 1.2353, (12*16) / (12+16)) \n",
    "\n",
    "#COX = diatomicConstants(\"gound\", 0, 2374.31, 14.075, 0, 0, 1.67195, 0.0171, 0, 0.54*pow(10,-6), 1.15077, 14*16/(14+16))           \n",
    "#COA = diatomicConstants(\"A\", 43965.7, 2374.31, 10.106, -0.0465, 0, 1.9965, 0.01915, 0, 5.4 * pow(10, -6), 1.06434, 14*16/(14+16))\n",
    "\n",
    "COX = diatomicConstants(\"ground\",T = 0,  re = 1.15077, w = 1904.20, wx = 14.075, wy = 0,  wz = 0,  \n",
    "                        B = 1.67195, a = 0.0171, y = 0, D = 0.54 * pow(10, -6), u = (14*16) / (14 + 16) )\n",
    "COA = diatomicConstants(\"A\", T = 0, re = 1.06434, w = 2374.31, wx = 10.106, wy = -0.0465, wz = 0, \n",
    "                        B = 1.9965, a = 0.01915, y = 0, D = 5.4 * pow(10, -6), u = (14*16) / (14+16))\n",
    "\n",
    "x, y = rkr(COX).graphData(resolution, endPoint=75)\n",
    "\n",
    "figure[\"data\"].append(\n",
    "     {\n",
    "            \"type\":\"scatter\",\n",
    "            \"x\":x,\n",
    "            \"y\":y,\n",
    "            \"connectgaps\":True,\n",
    "            \"mode\":\"markers\",\n",
    "            \"name\":\"RKR Potential\"\n",
    "        }\n",
    ")\n",
    "\n",
    "d0 = rkr(COX).graphData(resolution, endPoint=65)\n",
    "d0 = [\n",
    "    d0[0] + [COX.re],\n",
    "    d0[1] + [0]\n",
    "]\n",
    "\n",
    "d1 = rkr(COA).graphData(1.5, endPoint=70)\n",
    "d1 = [\n",
    "    d1[0] + [COA.re],\n",
    "    d1[1] + [0]\n",
    "]\n",
    "\n",
    "#Declare all global variables here\n",
    "psi0 = wavefunction(COX, extendedRydberg(d0).equation, how(COX.re, COX.w, COX.u, basisSize))\n",
    "psi1 = wavefunction(COA, extendedRydberg(d1).equation, how(COA.re, COA.w, COA.u, basisSize))\n",
    "\n",
    "psi0.displayEnergy()\n",
    "psi1.displayEnergy()"
   ]
  },
  {
   "cell_type": "code",
   "execution_count": 5,
   "metadata": {},
   "outputs": [
    {
     "name": "stdout",
     "output_type": "stream",
     "text": [
      "[[0.17304312 0.26926559]\n",
      " [0.33574204 0.09568556]]\n"
     ]
    }
   ],
   "source": [
    "fcFactor = np.zeros([basisSize, basisSize])\n",
    "\n",
    "for index0, b0 in enumerate(psi0.basisSet.basis):\n",
    "    for index1, b1 in enumerate(psi1.basisSet.basis):\n",
    "        \n",
    "        integrand = lambda r : b0(r) * b1(r)  \n",
    "        fcFactor[index0, index1] += pow(integrate(integrand, 0, np.inf, limit=1000, epsabs = pow(10, -200))[0], 2)\n",
    "\n",
    "print(fcFactor)"
   ]
  },
  {
   "cell_type": "markdown",
   "metadata": {},
   "source": [
    "## Einstein Coefficients\n",
    "<br><br>\n",
    "\n",
    "The Einstein Coefficents are computed from the Franck-Codon Factors. While the Franck-Codon factors describe the transition probabiliity between two electronic states, the Einstein Coefficents describe the probabillity that spontanoues emission or stimulated emission will occurs for an electronic system. \n",
    "<br><br>\n",
    "The Einstein A coefficent describes spontanoues emission, specifically meaning the likelihood that an atom or molecule will spontanousely decide to emit photons as the system relaxes down to a lower energy level. \n",
    "<br><br>\n",
    "The Einstein B coefficent describes stimulated emission, meaning the probability that a photon sent into an excited state molecule or atom will cause the system to automatically jump down to a lower energy level.\n",
    "<br><br>\n",
    "The Einstein A coefficent is computed from the Franck-Codon Factors via the following relation:\n",
    "$$E_A = 2.026 \\cdot 10^-6 \\cdot v^3_{\\gamma\\gamma^{'}}\\left[\\int^{\\infty}_{-\\infty}\\times \\frac{\\left(  2 - \\delta_{0, }  \\right)}{\\left(  \\right)}{\\psi_\\gamma\\psi_{\\gamma^{'}}dr}\\right]$$\n",
    "Where does the numerical constant come from?\n",
    "<br><br>\n",
    "\n"
   ]
  },
  {
   "cell_type": "code",
   "execution_count": null,
   "metadata": {},
   "outputs": [],
   "source": []
  }
 ],
 "metadata": {
  "kernelspec": {
   "display_name": "Python 3",
   "language": "python",
   "name": "python3"
  },
  "language_info": {
   "codemirror_mode": {
    "name": "ipython",
    "version": 3
   },
   "file_extension": ".py",
   "mimetype": "text/x-python",
   "name": "python",
   "nbconvert_exporter": "python",
   "pygments_lexer": "ipython3",
   "version": "3.7.3"
  }
 },
 "nbformat": 4,
 "nbformat_minor": 2
}
