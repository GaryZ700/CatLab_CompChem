{
 "cells": [
  {
   "cell_type": "markdown",
   "metadata": {},
   "source": [
    "## Franck-Condon Factor\n",
    "<br><br>\n",
    "\n",
    "A Franck-Condon Factor represents the transition probability between two different vibrational energy levels of a diatomic molecule. <br><br>\n",
    "\n",
    "The equatoin for computing the Franck-Condon Coefficents is a fairly simple equation in terms of appearance, but is often quite expensive to compute.\n",
    "\n",
    "$$I_{\\gamma\\gamma^{'}}=\\int^{\\infty}_{-\\infty}{\\psi_\\gamma\\psi_{\\gamma^{'}}dr}$$\n",
    "<br>\n",
    "\n",
    "$\\psi_\\gamma$ refers to a wavefunction for a diatomic molecule with an electronic state of $\\gamma$, while $\\psi_\\gamma$ refers to the wavefunction for the same diatomic system, only at a higher exicted state, $\\gamma^{'}$. Thus, $I_{\\gamma\\gamma^{'}}$ represents the transition probability that the diatomic molecule will transition from $\\gamma$ to $\\gamma^{'}$\n",
    "<br><br>\n",
    "\n",
    "All theory and equations in this notebook originate from <u>Analytical Evaluation for Calculation of Two-Center Franck–Condon Factor and Matrix Elements</u>, by Hüseyin Koç."
   ]
  },
  {
   "cell_type": "code",
   "execution_count": null,
   "metadata": {},
   "outputs": [],
   "source": [
    "#All Code Written by Gary Zeri\n",
    "#Chapman University Computer Science Major, Member of the LaRue CatLab\n",
    "\n",
    "#Allow Notebook to Import from Comp_Chem_Package\n",
    "import sys\n",
    "sys.path.append(\"..\\\\Comp_Chem_Package\")\n",
    "\n",
    "import diatomicConstants\n",
    "import wavefunction\n",
    "from diatomicPotentials import extendedRydberg\n",
    "\n",
    "COX = diatomicConstants(\"gound\", 0, 2169.81358 , 13.28831, 0, 1.93128087, 0.01750441, 0, 6.12147*pow(10,-6), 1.128323, 12*16/(12+16))           \n",
    "COA = diatomicConstants(\"A\", 65075.7, 1518.28, 19.4, 0, 0, 1.6115, 0.02325, 0, 0.00000733, 1.2353, (12*16) / (12+16) \n",
    "                        \n",
    "#Declare all global variables here\n",
    "psi0 = wavefunction(COA, extendedRydberg(), )\n",
    "psi1 = wavefunction(COX, extendedRydberg(), "
   ]
  },
  {
   "cell_type": "code",
   "execution_count": null,
   "metadata": {},
   "outputs": [],
   "source": [
    "\n"
   ]
  }
 ],
 "metadata": {
  "kernelspec": {
   "display_name": "Python 3",
   "language": "python",
   "name": "python3"
  },
  "language_info": {
   "codemirror_mode": {
    "name": "ipython",
    "version": 3
   },
   "file_extension": ".py",
   "mimetype": "text/x-python",
   "name": "python",
   "nbconvert_exporter": "python",
   "pygments_lexer": "ipython3",
   "version": "3.7.3"
  }
 },
 "nbformat": 4,
 "nbformat_minor": 2
}
