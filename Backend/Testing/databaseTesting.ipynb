{
 "cells": [
  {
   "cell_type": "code",
   "execution_count": 1,
   "id": "72f79fd2-92f7-4fa5-9b0d-396edf98559f",
   "metadata": {},
   "outputs": [],
   "source": [
    "#Must be included in all Comp Chem Notebooks that want to make use of the library\n",
    "#Allow Notebook to Import from Comp_Chem_Package\n",
    "import sys\n",
    "if(\"win\" in sys.platform):\n",
    "    sys.path.append(\"..\\\\\")\n",
    "else: \n",
    "    sys.path.append(\"../\")\n",
    "\n",
    "from compChemGlobal import * \n",
    "from database import * \n",
    "from nistScraper import getDiatomicConstants"
   ]
  },
  {
   "cell_type": "code",
   "execution_count": 2,
   "id": "1dd40580-2c3e-4359-95b9-ba56b926d551",
   "metadata": {},
   "outputs": [],
   "source": [
    "from how import * \n",
    "from basisSet import * \n",
    "from rkr import * \n",
    "from morsePotential import * \n",
    "from howPotential import * \n",
    "from operators import TOperator, VOperator\n",
    "from schrodinger import * "
   ]
  },
  {
   "cell_type": "markdown",
   "id": "1a4da44a-474f-42c6-8c45-c2ce9c934660",
   "metadata": {},
   "source": [
    "for molecule in (\"OH\", \"HF\", \"NO\", \"Cl2\"):\n",
    "    dc = getDiatomicConstants(molecule)\n",
    "    basis = basisSet(dc, how, 100)\n",
    "    mp = morsePotential(dc).fit(rkr(dc).compute())\n",
    "    H = TOperator(basis) + VOperator(basis, mp)\n",
    "    schrod(H, basis, mp, maxWaveFunctions = 20).save()\n",
    "    print(\"Completed \" + molecule)"
   ]
  },
  {
   "cell_type": "code",
   "execution_count": 3,
   "id": "ed8a3eac-e5dc-4c2f-bb9e-8bfbf9795010",
   "metadata": {},
   "outputs": [
    {
     "name": "stdout",
     "output_type": "stream",
     "text": [
      "[0.9893, 0.0107, 0]\n",
      "[12.0, 13.00335483507, 14.0032419884]\n",
      "[12.0]\n",
      "[0.99757, 0.00038, 0.00205]\n",
      "[15.99491461957, 16.9991317565, 17.99915961286]\n",
      "[12.0, 15.99491461957]\n"
     ]
    }
   ],
   "source": [
    "dc = getDiatomicConstants(\"CO\")"
   ]
  },
  {
   "cell_type": "code",
   "execution_count": 4,
   "id": "386dd47f-ad70-4951-9898-06bbcc0b86b4",
   "metadata": {},
   "outputs": [
    {
     "data": {
      "application/vnd.jupyter.widget-view+json": {
       "model_id": "d9ec1f9b698b45909518011e63d21df7",
       "version_major": 2,
       "version_minor": 0
      },
      "text/plain": [
       "HBox(children=(Label(value='Computing RKR Surface'), FloatProgress(value=-4138.14024, max=0.0, min=-4138.14024…"
      ]
     },
     "metadata": {},
     "output_type": "display_data"
    }
   ],
   "source": [
    "#60 does not dcrease spacing between wavefunctions\n",
    "#50 spacing does not decrease\n",
    "#40 spacing does not decrease\n",
    "#20 Lower spacing seems better\n",
    "basis = basisSet(dc, how, 100)\n",
    "size = 10\n",
    "mp = morsePotential(dc).fit(rkr(dc).compute(resolution = 30))\n",
    "hp = howPotential(dc)\n",
    "H = TOperator(basis) + VOperator(basis, mp)\n",
    "    "
   ]
  },
  {
   "cell_type": "raw",
   "id": "83ef405c-6ded-441c-9ed3-84de0407630e",
   "metadata": {},
   "source": [
    "sol = schrod(H, basis, mp, maxWaveFunctions = 20)\n",
    "sol.graph()"
   ]
  },
  {
   "cell_type": "code",
   "execution_count": 18,
   "id": "79d9f992-d73e-442f-a096-d2f157bf0794",
   "metadata": {},
   "outputs": [
    {
     "data": {
      "text/plain": [
       "array([ 9.08291394e-03, -1.11629441e-02, -2.18566556e-03,  9.28611076e-05,\n",
       "       -5.95605992e-04, -1.87578223e-04, -1.11188585e-05, -5.43491545e-05,\n",
       "       -2.30610086e-05, -1.34737039e-05, -1.95051683e-05, -8.60618384e-06,\n",
       "       -3.17388624e-06, -6.88875692e-07,  2.52521120e-06, -7.97969955e-07,\n",
       "       -2.96828345e-08,  2.76087131e-06,  1.19988422e-06,  2.45322489e-07,\n",
       "       -6.23041544e-07, -1.77063772e-06, -3.07265994e-06, -8.28993910e-06,\n",
       "       -1.01444942e-05, -1.29320262e-05, -3.75299928e-05, -5.29825838e-05,\n",
       "       -6.06260784e-05, -1.56162560e-04, -2.33446615e-04, -2.25355702e-04,\n",
       "       -5.83996686e-04, -1.03360168e-03, -5.67054737e-04, -2.44086022e-04,\n",
       "       -1.81471238e-04, -2.36808002e-04,  8.71895716e-05, -3.20685552e-04,\n",
       "        4.28892790e-04, -8.24729318e-04,  1.33503886e-03, -2.21393789e-03,\n",
       "        3.51731890e-03, -5.51399032e-03,  8.42153206e-03, -1.25845062e-02,\n",
       "        1.83614329e-02, -2.61789606e-02,  3.64460185e-02, -4.95362342e-02,\n",
       "        6.56934102e-02, -8.49873141e-02,  1.07203535e-01, -1.31807423e-01,\n",
       "        1.57874790e-01, -1.84169496e-01,  2.09167671e-01, -2.31300595e-01,\n",
       "        2.49035191e-01, -2.61291477e-01,  2.67403323e-01, -2.67624301e-01,\n",
       "        2.62590466e-01, -2.53959535e-01,  2.43024720e-01, -2.31906629e-01,\n",
       "        2.20984065e-01, -2.11484106e-01,  2.01508919e-01, -1.91799165e-01,\n",
       "        1.78382448e-01, -1.63644998e-01,  1.41386791e-01, -1.19061039e-01,\n",
       "        8.83220747e-02, -6.73471513e-02,  3.87243038e-02, -3.06462121e-02])"
      ]
     },
     "execution_count": 18,
     "metadata": {},
     "output_type": "execute_result"
    }
   ],
   "source": [
    "sol.eigenVectors[1]"
   ]
  },
  {
   "cell_type": "code",
   "execution_count": null,
   "id": "6417c896-ccd6-420f-aa3f-16d61825fb52",
   "metadata": {},
   "outputs": [],
   "source": [
    "energy = rkr(dc)\n",
    "\n",
    "cor = []\n",
    "for i in range(20):\n",
    "    cor.append(energy.E(i + 1) - energy.E(i))"
   ]
  },
  {
   "cell_type": "code",
   "execution_count": null,
   "id": "67a7aa2e-44d0-4dd4-b402-8ed1d519aaf0",
   "metadata": {},
   "outputs": [
    {
     "name": "stdout",
     "output_type": "stream",
     "text": [
      "[3958.5600000000004, 3778.7999999999993, 3599.039999999999, 3419.2800000000007, 3239.5200000000004, 3059.7599999999984, 2880.0, 2700.2400000000016, 2520.479999999996, 2340.7200000000084, 2160.959999999992, 1981.2000000000044, 1801.439999999995, 1621.6800000000003, 1441.9199999999983, 1262.1600000000035, 1082.3999999999942, 902.640000000014, 722.8799999999901, 543.1200000000026]\n"
     ]
    }
   ],
   "source": [
    "print(cor)"
   ]
  },
  {
   "cell_type": "code",
   "execution_count": null,
   "id": "19f3095a-aed1-4026-8207-783eddf70023",
   "metadata": {},
   "outputs": [
    {
     "name": "stdout",
     "output_type": "stream",
     "text": [
      "[679.4743659075093, 3279.855245564528, 3778.6580766898805, 2526.2581345618037, 1073.9887935940296, 3419.018866790091, 3238.83855835316, 3059.924491540347, 2879.0813468629276, 1792.4277298430388, 906.1542603396338, 2518.7395614229863, 2338.0658679408334, 2158.3811772249755, 1992.3518956612388, 1884.5079706376928, 1913.1025925146532, 2125.759853768519, 2380.616349598604]\n"
     ]
    }
   ],
   "source": [
    "exp = []\n",
    "for i in range(19):\n",
    "    exp.append(sol.wavefunctions[i + 1].energy - sol.wavefunctions[i].energy)\n",
    "print(exp)"
   ]
  },
  {
   "cell_type": "code",
   "execution_count": null,
   "id": "8eefbb86-8f0e-42cf-abdc-139a4f142b0e",
   "metadata": {},
   "outputs": [
    {
     "name": "stdout",
     "output_type": "stream",
     "text": [
      "[82.83531471273622, 13.203788357030572, 4.990721878330931, 26.117248819581807, 66.84728621542607, 11.741406737459569, 12.459672165040274, 13.320463793601501, 14.22750217668588, 23.424086185317663, 58.067050739502946, 27.132019050221118, 29.788717245139434, 33.09538116181831, 38.17353914650197, 49.30816779470808, 76.74635924932221, 135.5047254463004, 229.3238642096387]\n"
     ]
    }
   ],
   "source": [
    "error = []\n",
    "for i in range(19):\n",
    "    error.append(abs(exp[i] - cor[i]) / cor[i] * 100) \n",
    "print(error)"
   ]
  },
  {
   "cell_type": "code",
   "execution_count": null,
   "id": "129fc2db-9549-483c-9788-cf770f9571c7",
   "metadata": {},
   "outputs": [
    {
     "data": {
      "text/plain": [
       "49.30816779470808"
      ]
     },
     "execution_count": 11,
     "metadata": {},
     "output_type": "execute_result"
    }
   ],
   "source": [
    "error[15]"
   ]
  },
  {
   "cell_type": "code",
   "execution_count": null,
   "id": "7f3f49fb-8c4d-421e-a57f-4d89e48d445f",
   "metadata": {},
   "outputs": [
    {
     "data": {
      "application/vnd.jupyter.widget-view+json": {
       "model_id": "a4d3fbae6e7c412cb2977ae4e690481a",
       "version_major": 2,
       "version_minor": 0
      },
      "text/plain": [
       "VBox(children=(FigureWidget({\n",
       "    'data': [{'fill': 'none',\n",
       "              'hoverlabel': {'font': {'size': 16}}…"
      ]
     },
     "metadata": {},
     "output_type": "display_data"
    },
    {
     "data": {
      "text/plain": [
       "<schrodinger.schrod at 0x26d4750bca0>"
      ]
     },
     "execution_count": 12,
     "metadata": {},
     "output_type": "execute_result"
    }
   ],
   "source": [
    "sol.graph()"
   ]
  },
  {
   "cell_type": "raw",
   "id": "4c89f378-1f21-4c50-b90c-f151e7a8e725",
   "metadata": {},
   "source": []
  },
  {
   "cell_type": "code",
   "execution_count": null,
   "id": "9796e988-6d36-4e94-a2c8-d19937f3ba31",
   "metadata": {},
   "outputs": [],
   "source": []
  }
 ],
 "metadata": {
  "kernelspec": {
   "display_name": "Python 3",
   "language": "python",
   "name": "python3"
  },
  "language_info": {
   "codemirror_mode": {
    "name": "ipython",
    "version": 3
   },
   "file_extension": ".py",
   "mimetype": "text/x-python",
   "name": "python",
   "nbconvert_exporter": "python",
   "pygments_lexer": "ipython3",
   "version": "3.9.5"
  }
 },
 "nbformat": 4,
 "nbformat_minor": 5
}
