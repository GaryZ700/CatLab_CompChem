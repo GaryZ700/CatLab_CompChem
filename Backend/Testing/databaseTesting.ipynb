{
 "cells": [
  {
   "cell_type": "code",
   "execution_count": 1,
   "id": "72f79fd2-92f7-4fa5-9b0d-396edf98559f",
   "metadata": {},
   "outputs": [],
   "source": [
    "#Must be included in all Comp Chem Notebooks that want to make use of the library\n",
    "#Allow Notebook to Import from Comp_Chem_Package\n",
    "import sys\n",
    "if(\"win\" in sys.platform):\n",
    "    sys.path.append(\"..\\\\\")\n",
    "else: \n",
    "    sys.path.append(\"../\")\n",
    "\n",
    "from compChemGlobal import * \n",
    "from database import * \n",
    "from nistScraper import getDiatomicConstants"
   ]
  },
  {
   "cell_type": "code",
   "execution_count": 2,
   "id": "1dd40580-2c3e-4359-95b9-ba56b926d551",
   "metadata": {},
   "outputs": [],
   "source": [
    "dc = getDiatomicConstants(\"Cl2\")\n",
    "from how import * \n",
    "from basisSet import * \n",
    "from rkr import * \n",
    "from morsePotential import * \n",
    "from howPotential import * \n",
    "from operators import TOperator, VOperator\n",
    "from schrodinger import * "
   ]
  },
  {
   "cell_type": "code",
   "execution_count": 3,
   "id": "a6fc08f0-1832-499b-99fa-b445a594427c",
   "metadata": {},
   "outputs": [
    {
     "data": {
      "application/vnd.jupyter.widget-view+json": {
       "model_id": "2e915f8be915419a96b5b401bc373ea2",
       "version_major": 2,
       "version_minor": 0
      },
      "text/plain": [
       "HBox(children=(Label(value='Computing RKR Surface'), FloatProgress(value=-559.6946599799, max=0.0, min=-559.69…"
      ]
     },
     "metadata": {},
     "output_type": "display_data"
    }
   ],
   "source": [
    "basis = basisSet(dc, how, 5)\n",
    "mp = morsePotential(dc).fit(rkr(dc).compute())\n",
    "hp = howPotential(dc)"
   ]
  },
  {
   "cell_type": "code",
   "execution_count": 4,
   "id": "369d6224-f6a6-43e9-aed0-4269c55a59f4",
   "metadata": {},
   "outputs": [],
   "source": [
    "H1 = TOperator(basis) + VOperator(basis, mp)\n",
    "H2 = TOperator(basis) + VOperator(basis, hp)"
   ]
  },
  {
   "cell_type": "code",
   "execution_count": 5,
   "id": "69a3e65a-756a-4c62-8a75-76cdd8fe31f4",
   "metadata": {},
   "outputs": [],
   "source": [
    "s1 = schrod(H1, basis, mp)\n",
    "s2 = schrod(H2, basis, hp)"
   ]
  },
  {
   "cell_type": "code",
   "execution_count": 6,
   "id": "c422e064-dc3b-4ebe-9902-941c9490fe91",
   "metadata": {},
   "outputs": [],
   "source": [
    "#s1.graph()\n",
    "#s2.graph()"
   ]
  },
  {
   "cell_type": "code",
   "execution_count": 7,
   "id": "3c662324-3896-4174-8109-0774f1be9930",
   "metadata": {},
   "outputs": [
    {
     "data": {
      "text/plain": [
       "True"
      ]
     },
     "execution_count": 7,
     "metadata": {},
     "output_type": "execute_result"
    }
   ],
   "source": [
    "s1.save()\n",
    "s2.save()"
   ]
  },
  {
   "cell_type": "code",
   "execution_count": 8,
   "id": "a47e80e8-5150-4c71-b85e-70ecedec3cea",
   "metadata": {},
   "outputs": [],
   "source": [
    "s11 = schrod()\n",
    "s22 = schrod()"
   ]
  },
  {
   "cell_type": "code",
   "execution_count": 9,
   "id": "0058314a-f6a8-43b8-96d6-ec485a4b26be",
   "metadata": {},
   "outputs": [
    {
     "data": {
      "text/plain": [
       "True"
      ]
     },
     "execution_count": 9,
     "metadata": {},
     "output_type": "execute_result"
    }
   ],
   "source": [
    "s11.load(\"CO\", \"Harmonic Oscillator\", 5, \"Morse Potential\", \"RKR\")\n",
    "s22.load(\"CO\", \"Harmonic Oscillator\", 5, \"Harmonic Oscillator PES\", \"Analytical\")"
   ]
  },
  {
   "cell_type": "code",
   "execution_count": 10,
   "id": "14c7d3fe-14a6-4361-ba56-dfadb2b906b9",
   "metadata": {},
   "outputs": [],
   "source": [
    "s1.combineSolutions(s11, \"!!!!\")"
   ]
  },
  {
   "cell_type": "code",
   "execution_count": 11,
   "id": "e1881b43-ccee-4502-a93c-50f1eee89a47",
   "metadata": {},
   "outputs": [],
   "source": [
    "s2.combineSolutions(s22, \"@@@@@?\")"
   ]
  },
  {
   "cell_type": "code",
   "execution_count": 12,
   "id": "69fffcfa-ec2a-4aa8-9c34-2cbd9e782ca4",
   "metadata": {},
   "outputs": [
    {
     "data": {
      "application/vnd.jupyter.widget-view+json": {
       "model_id": "7b6a307c50c04c49a1762f88c0e74eea",
       "version_major": 2,
       "version_minor": 0
      },
      "text/plain": [
       "VBox(children=(FigureWidget({\n",
       "    'data': [{'fill': 'none',\n",
       "              'hoverlabel': {'font': {'size': 16}}…"
      ]
     },
     "metadata": {},
     "output_type": "display_data"
    },
    {
     "data": {
      "application/vnd.jupyter.widget-view+json": {
       "model_id": "fee14ac7f37440c7b6d4bd5d97fdb63a",
       "version_major": 2,
       "version_minor": 0
      },
      "text/plain": [
       "VBox(children=(FigureWidget({\n",
       "    'data': [{'fill': 'none',\n",
       "              'hoverlabel': {'font': {'size': 16}}…"
      ]
     },
     "metadata": {},
     "output_type": "display_data"
    },
    {
     "data": {
      "text/plain": [
       "<schrodinger.schrod at 0x2a1aafe3d30>"
      ]
     },
     "execution_count": 12,
     "metadata": {},
     "output_type": "execute_result"
    }
   ],
   "source": [
    "s1.graph()\n",
    "s2.graph()"
   ]
  },
  {
   "cell_type": "code",
   "execution_count": null,
   "id": "a0b1db89-dfb7-402d-bf67-b4d8a1fd8fb8",
   "metadata": {},
   "outputs": [],
   "source": []
  }
 ],
 "metadata": {
  "kernelspec": {
   "display_name": "Python 3",
   "language": "python",
   "name": "python3"
  },
  "language_info": {
   "codemirror_mode": {
    "name": "ipython",
    "version": 3
   },
   "file_extension": ".py",
   "mimetype": "text/x-python",
   "name": "python",
   "nbconvert_exporter": "python",
   "pygments_lexer": "ipython3",
   "version": "3.9.5"
  }
 },
 "nbformat": 4,
 "nbformat_minor": 5
}
