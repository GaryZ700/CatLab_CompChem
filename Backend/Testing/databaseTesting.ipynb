{
 "cells": [
  {
   "cell_type": "code",
   "execution_count": 1,
   "id": "72f79fd2-92f7-4fa5-9b0d-396edf98559f",
   "metadata": {},
   "outputs": [],
   "source": [
    "#Must be included in all Comp Chem Notebooks that want to make use of the library\n",
    "#Allow Notebook to Import from Comp_Chem_Package\n",
    "import sys\n",
    "if(\"win\" in sys.platform):\n",
    "    sys.path.append(\"..\\\\\")\n",
    "else: \n",
    "    sys.path.append(\"../\")\n",
    "\n",
    "from compChemGlobal import * \n",
    "from database import * \n",
    "from nistScraper import getDiatomicConstants"
   ]
  },
  {
   "cell_type": "code",
   "execution_count": 2,
   "id": "1dd40580-2c3e-4359-95b9-ba56b926d551",
   "metadata": {},
   "outputs": [],
   "source": [
    "dc = getDiatomicConstants(\"CO\")"
   ]
  },
  {
   "cell_type": "code",
   "execution_count": 3,
   "id": "80666fa5-ed18-482e-b55f-08b5d485babd",
   "metadata": {},
   "outputs": [],
   "source": [
    "db = dataBase()\n",
    "db.writeDiatomicConstants(dc)"
   ]
  },
  {
   "cell_type": "code",
   "execution_count": 4,
   "id": "a8bb876c-0803-45aa-80dc-2467caef3676",
   "metadata": {},
   "outputs": [
    {
     "data": {
      "text/plain": [
       "{'name': 'NO',\n",
       " 'state': 'ground',\n",
       " 'T': 119.82,\n",
       " 'w': 1904.04,\n",
       " 'wx': 14.1,\n",
       " 'wy': 0.0,\n",
       " 'wz': 0.0,\n",
       " 'B': 1.72016,\n",
       " 'a': 0.0182,\n",
       " 'y': 0.0,\n",
       " 'D': 1.023e-05,\n",
       " 're': 1.15077,\n",
       " 'u': 7.466433030552709}"
      ]
     },
     "execution_count": 4,
     "metadata": {},
     "output_type": "execute_result"
    }
   ],
   "source": [
    "db.getDiatomicConstants(\"NO\")"
   ]
  },
  {
   "cell_type": "code",
   "execution_count": null,
   "id": "f5f34559-f1e9-4728-a639-e7c0fef3b54e",
   "metadata": {},
   "outputs": [],
   "source": []
  },
  {
   "cell_type": "code",
   "execution_count": null,
   "id": "f686ab37-e237-4948-aa3f-ca6bb4d3cfdf",
   "metadata": {},
   "outputs": [],
   "source": []
  }
 ],
 "metadata": {
  "kernelspec": {
   "display_name": "Python 3",
   "language": "python",
   "name": "python3"
  },
  "language_info": {
   "codemirror_mode": {
    "name": "ipython",
    "version": 3
   },
   "file_extension": ".py",
   "mimetype": "text/x-python",
   "name": "python",
   "nbconvert_exporter": "python",
   "pygments_lexer": "ipython3",
   "version": "3.9.5"
  }
 },
 "nbformat": 4,
 "nbformat_minor": 5
}
