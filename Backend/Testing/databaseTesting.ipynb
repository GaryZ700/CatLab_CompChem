{
 "cells": [
  {
   "cell_type": "code",
   "execution_count": 1,
   "id": "72f79fd2-92f7-4fa5-9b0d-396edf98559f",
   "metadata": {},
   "outputs": [],
   "source": [
    "#Must be included in all Comp Chem Notebooks that want to make use of the library\n",
    "#Allow Notebook to Import from Comp_Chem_Package\n",
    "import sys\n",
    "if(\"win\" in sys.platform):\n",
    "    sys.path.append(\"..\\\\\")\n",
    "else: \n",
    "    sys.path.append(\"../\")\n",
    "\n",
    "from compChemGlobal import * \n",
    "from database import * \n",
    "from nistScraper import getDiatomicConstants"
   ]
  },
  {
   "cell_type": "code",
   "execution_count": 2,
   "id": "39477ece-97b3-4996-a975-195e970a0265",
   "metadata": {},
   "outputs": [],
   "source": [
    "from how import * \n",
    "from basisSet import * \n",
    "from rkr import * \n",
    "from morsePotential import * \n",
    "from howPotential import * \n",
    "from operators import TOperator, VOperator\n",
    "from schrodinger import * \n",
    "from extendedRydberg import extendedRydberg"
   ]
  },
  {
   "cell_type": "markdown",
   "id": "1a4da44a-474f-42c6-8c45-c2ce9c934660",
   "metadata": {},
   "source": [
    "for molecule in (\"OH\", \"HF\", \"NO\", \"Cl2\"):\n",
    "    dc = getDiatomicConstants(molecule)\n",
    "    basis = basisSet(dc, how, 100)\n",
    "    mp = morsePotential(dc).fit(rkr(dc).compute())\n",
    "    H = TOperator(basis) + VOperator(basis, mp)\n",
    "    schrod(H, basis, mp, maxWaveFunctions = 20).save()\n",
    "    print(\"Completed \" + molecule)"
   ]
  },
  {
   "cell_type": "code",
   "execution_count": 3,
   "id": "e44806d6-27c4-45ac-8db6-1e6678ce8727",
   "metadata": {},
   "outputs": [
    {
     "name": "stdout",
     "output_type": "stream",
     "text": [
      "\n",
      "Warning!! Unable to locate the diatomic constants for \"\".\n"
     ]
    },
    {
     "data": {
      "text/plain": [
       "False"
      ]
     },
     "execution_count": 3,
     "metadata": {},
     "output_type": "execute_result"
    }
   ],
   "source": [
    "getDiatomicConstants(\"\")"
   ]
  },
  {
   "cell_type": "code",
   "execution_count": 3,
   "id": "ed8a3eac-e5dc-4c2f-bb9e-8bfbf9795010",
   "metadata": {},
   "outputs": [
    {
     "data": {
      "application/vnd.jupyter.widget-view+json": {
       "model_id": "9ab0052c4e7740ea82defee025c23b14",
       "version_major": 2,
       "version_minor": 0
      },
      "text/plain": [
       "VBox(children=(FigureWidget({\n",
       "    'data': [{'fill': 'none',\n",
       "              'hoverlabel': {'font': {'size': 16}}…"
      ]
     },
     "metadata": {},
     "output_type": "display_data"
    },
    {
     "data": {
      "text/plain": [
       "<basisSet.basisSet at 0x17cb0530cd0>"
      ]
     },
     "execution_count": 3,
     "metadata": {},
     "output_type": "execute_result"
    }
   ],
   "source": [
    "dc = getDiatomicConstants(\"DCl\")\n",
    "dc[\"u\"] = 1.9003\n",
    "\n",
    "basis = basisSet(dc, how, 120)\n",
    "#size = 1\n",
    "\n",
    "basis.graph()"
   ]
  },
  {
   "cell_type": "code",
   "execution_count": null,
   "id": "6087603c-ee46-4630-9588-e6958620f213",
   "metadata": {},
   "outputs": [],
   "source": [
    "basis[0].graph()"
   ]
  },
  {
   "cell_type": "code",
   "execution_count": 5,
   "id": "4122f92c-7f3f-4098-99c2-9561b30ee5b6",
   "metadata": {},
   "outputs": [
    {
     "data": {
      "application/vnd.jupyter.widget-view+json": {
       "model_id": "8245a7bfa1ee439aae4c9a89bd75e43f",
       "version_major": 2,
       "version_minor": 0
      },
      "text/plain": [
       "HBox(children=(Label(value='Computing RKR Surface'), FloatProgress(value=-2145.1086352594702, max=0.0, min=-21…"
      ]
     },
     "metadata": {},
     "output_type": "display_data"
    },
    {
     "data": {
      "application/vnd.jupyter.widget-view+json": {
       "model_id": "498bd0cb0cb444cf845dbd6383182197",
       "version_major": 2,
       "version_minor": 0
      },
      "text/plain": [
       "VBox(children=(FigureWidget({\n",
       "    'data': [{'fill': 'none',\n",
       "              'hoverlabel': {'font': {'size': 16}}…"
      ]
     },
     "metadata": {},
     "output_type": "display_data"
    },
    {
     "name": "stdout",
     "output_type": "stream",
     "text": [
      "Calculating H\n",
      "Calculating\n",
      "Done with H\n",
      "False\n"
     ]
    }
   ],
   "source": [
    "#mp = morsePotential(dc).fit(rkr(dc).compute())\n",
    "pesMethod = rkr(dc)\n",
    "\n",
    "mp = extendedRydberg(dc).fit(pesMethod.compute())\n",
    "#hp = howPotential(dc)\n",
    "mp.graph()\n",
    "print(\"Calculating H\")\n",
    "print(\"Calculating\")\n",
    "H = TOperator(basis) + VOperator(basis, mp, integrationStart = -1.8)\n",
    "print(\"Done with H\")\n",
    "\n",
    "print(np.isnan(np.sum(H.matrix)))"
   ]
  },
  {
   "cell_type": "code",
   "execution_count": null,
   "id": "1aba030d-cff1-4108-bb09-cace46749a30",
   "metadata": {},
   "outputs": [],
   "source": [
    "sol = schrod(H, basis, mp, maxWaveFunctions = 23)\n",
    "sol.start = .79\n",
    "sol.graph()"
   ]
  },
  {
   "cell_type": "code",
   "execution_count": null,
   "id": "c3449feb-4bec-4c95-adb1-d16589cd4763",
   "metadata": {},
   "outputs": [],
   "source": [
    "sol.getWaveFunctions()[20].graph()"
   ]
  },
  {
   "cell_type": "code",
   "execution_count": null,
   "id": "f7457026-2820-45fa-95cc-63b122598a03",
   "metadata": {},
   "outputs": [],
   "source": []
  }
 ],
 "metadata": {
  "kernelspec": {
   "display_name": "Python 3",
   "language": "python",
   "name": "python3"
  },
  "language_info": {
   "codemirror_mode": {
    "name": "ipython",
    "version": 3
   },
   "file_extension": ".py",
   "mimetype": "text/x-python",
   "name": "python",
   "nbconvert_exporter": "python",
   "pygments_lexer": "ipython3",
   "version": "3.9.6"
  }
 },
 "nbformat": 4,
 "nbformat_minor": 5
}
