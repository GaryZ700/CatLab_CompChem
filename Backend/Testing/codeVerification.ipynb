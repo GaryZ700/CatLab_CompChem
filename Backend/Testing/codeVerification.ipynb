{
 "cells": [
  {
   "cell_type": "markdown",
   "id": "92e77fe6-d965-40ed-91a6-255c35ca7629",
   "metadata": {},
   "source": [
    "# Code Verification Notebook\n",
    "\n",
    "This notebook is used to provide a means of validating the accuracy of the underlying logic used to solve the Schrödinger equation. This notebook uses a Harmonic Oscillator potential combined with a Harmonic Oscillator basis set to determine accuracy. Since the basis set is the analytical solution to the Schrödinger equation given the potential, the eigen-vectors should consist of a single 1 value, while other values in the vector are 0, since only a single basis function can be used to describe the solution. </br></br>\n",
    "In addition, the energy levels of the quantum Harmonic Oscillator are known and can be directly calculated to compare against the eigen-values produced by the code, further validating its functionality for more complicated systems. </br></br>\n",
    "The theory presented in this notebook is based of of the following website: <a href=\"http://hyperphysics.phy-astr.gsu.edu/hbase/quantum/hosc.html\">HyperPhysics.</a>"
   ]
  },
  {
   "cell_type": "code",
   "execution_count": 1,
   "id": "c21e4957-06ae-4a60-a5df-c780c16c39ba",
   "metadata": {},
   "outputs": [],
   "source": [
    "#All imports go here\n",
    "\n",
    "import sys\n",
    "if(\"win\" in sys.platform):\n",
    "    sys.path.append(\"..\\\\\")\n",
    "else: \n",
    "    sys.path.append(\"../\")\n",
    "    \n",
    "from how import how\n",
    "from compChemGlobal import * \n",
    "from schrodinger import schrod\n",
    "from basisSet import basisSet\n",
    "from howPotential import howPotential\n",
    "from nistScraper import getDiatomicConstants\n",
    "from operators import TOperator, VOperator"
   ]
  },
  {
   "cell_type": "code",
   "execution_count": 2,
   "id": "aa54536e-fd0b-4961-a376-f14a710576d4",
   "metadata": {},
   "outputs": [],
   "source": [
    "#Declare all global variables/functions here\n",
    "testingDiatomics = [\"H2\", \"NO\"]\n",
    "basisSize = 20\n",
    "zeroCutOff = 25e-4\n",
    "\n",
    "def energy(w, n): \n",
    "    return (n + 0.5) * w \n",
    "\n",
    "###################################################################################\n",
    "\n",
    "def message(msg, error):\n",
    "    print( \"Warning!\" if error else \"Pass: \", msg)\n",
    "\n",
    "###################################################################################\n",
    "\n",
    "#Returns bool specifying if test was a pass or a fail\n",
    "def checkEigenVectors(eigenVectors):\n",
    "    \n",
    "    for index, vector in enumerate(eigenVectors):\n",
    "        vector = abs(vector)\n",
    "        notFound1 = True\n",
    "        for value in vector: \n",
    "            #check if 0 or 1\n",
    "            if(value > zeroCutOff):\n",
    "                if(notFound1):\n",
    "                    if(value - 1 > zeroCutOff):\n",
    "                        message(\"Eigen-Vector \" +  str(index) + \" Failed, value greater than 1.\", True)\n",
    "                        return False\n",
    "                    notFound1 = False\n",
    "                else: \n",
    "                    message(\"Eigen-Vector \" + str(index) + \" Failed, multiple values are 1.\", True)\n",
    "                    return False\n",
    "                \n",
    "        if(notFound1):\n",
    "            message(\"Eigen-Vector \" + str(index) + \" Failed, no value of 1 found.\", True)\n",
    "            return False\n",
    "        else: \n",
    "            message(\"Eigen-Vector \" + str(index) + \" Passed.\", False)\n",
    "        \n",
    "    return True\n",
    "\n",
    "###################################################################################\n",
    "\n",
    "#Returns tuple of error percentages and true or false for test status\n",
    "def checkEigenValues(w, eigenValues):\n",
    "    errorValues = []\n",
    "    for n, eigenValue in enumerate(eigenValues):\n",
    "        correctValue = energy(w, n)\n",
    "        errorValues.append( abs(correctValue - eigenValue) / eigenValue * 100 )\n",
    "        \n",
    "        if(errorValues[-1] > 0.01):\n",
    "            message(\"Eigen-Value \" + str(n) + \" Failed.\", True)\n",
    "            return (errorValues, False)\n",
    "    \n",
    "    message(\"Eigen-Values Passed.\\nHighest Error Percentage: \" + str(max(errorValues)) + \"%\", False)\n",
    "    return (errorValues, True)"
   ]
  },
  {
   "cell_type": "code",
   "execution_count": 3,
   "id": "6719cde1-64ea-4ab8-a78b-f1edd07db069",
   "metadata": {},
   "outputs": [
    {
     "name": "stdout",
     "output_type": "stream",
     "text": [
      "*********** H2 Test Report ***********\n",
      "\n",
      "Pass:  Eigen-Vector 0 Passed.\n",
      "Pass:  Eigen-Vector 1 Passed.\n",
      "Pass:  Eigen-Vector 2 Passed.\n",
      "Pass:  Eigen-Vector 3 Passed.\n",
      "Pass:  Eigen-Vector 4 Passed.\n",
      "Pass:  Eigen-Vector 5 Passed.\n",
      "Pass:  Eigen-Vector 6 Passed.\n",
      "Pass:  Eigen-Vector 7 Passed.\n",
      "Pass:  Eigen-Vector 8 Passed.\n",
      "Pass:  Eigen-Vector 9 Passed.\n",
      "Pass:  Eigen-Vector 10 Passed.\n",
      "Pass:  Eigen-Vector 11 Passed.\n",
      "Pass:  Eigen-Vector 12 Passed.\n",
      "Pass:  Eigen-Vector 13 Passed.\n",
      "Pass:  Eigen-Vector 14 Passed.\n",
      "Pass:  Eigen-Vector 15 Passed.\n",
      "Pass:  Eigen-Vector 16 Passed.\n",
      "Pass:  Eigen-Vector 17 Passed.\n",
      "Pass:  Eigen-Vector 18 Passed.\n",
      "Pass:  Eigen-Vector 19 Passed.\n",
      "\n",
      "Pass:  Eigen-Values Passed.\n",
      "Highest Error Percentage: 0.002350719585725138%\n"
     ]
    },
    {
     "data": {
      "application/vnd.jupyter.widget-view+json": {
       "model_id": "5a12eb3b7a7c408c90ed8f13142b2dec",
       "version_major": 2,
       "version_minor": 0
      },
      "text/plain": [
       "VBox(children=(FigureWidget({\n",
       "    'data': [{'fill': 'tozerox',\n",
       "              'hoverlabel': {'font': {'size': 1…"
      ]
     },
     "metadata": {},
     "output_type": "display_data"
    },
    {
     "name": "stdout",
     "output_type": "stream",
     "text": [
      "\n",
      "***************************************\n",
      "\n",
      "*********** NO Test Report ***********\n",
      "\n",
      "Pass:  Eigen-Vector 0 Passed.\n",
      "Pass:  Eigen-Vector 1 Passed.\n",
      "Pass:  Eigen-Vector 2 Passed.\n",
      "Pass:  Eigen-Vector 3 Passed.\n",
      "Pass:  Eigen-Vector 4 Passed.\n",
      "Pass:  Eigen-Vector 5 Passed.\n",
      "Pass:  Eigen-Vector 6 Passed.\n",
      "Pass:  Eigen-Vector 7 Passed.\n",
      "Pass:  Eigen-Vector 8 Passed.\n",
      "Pass:  Eigen-Vector 9 Passed.\n",
      "Pass:  Eigen-Vector 10 Passed.\n",
      "Pass:  Eigen-Vector 11 Passed.\n",
      "Pass:  Eigen-Vector 12 Passed.\n",
      "Pass:  Eigen-Vector 13 Passed.\n",
      "Pass:  Eigen-Vector 14 Passed.\n",
      "Pass:  Eigen-Vector 15 Passed.\n",
      "Pass:  Eigen-Vector 16 Passed.\n",
      "Pass:  Eigen-Vector 17 Passed.\n",
      "Pass:  Eigen-Vector 18 Passed.\n",
      "Pass:  Eigen-Vector 19 Passed.\n",
      "\n",
      "Pass:  Eigen-Values Passed.\n",
      "Highest Error Percentage: 0.0023507195857543047%\n"
     ]
    },
    {
     "data": {
      "application/vnd.jupyter.widget-view+json": {
       "model_id": "c348e9b678224814b043f2572bcd8da6",
       "version_major": 2,
       "version_minor": 0
      },
      "text/plain": [
       "VBox(children=(FigureWidget({\n",
       "    'data': [{'fill': 'tozerox',\n",
       "              'hoverlabel': {'font': {'size': 1…"
      ]
     },
     "metadata": {},
     "output_type": "display_data"
    },
    {
     "name": "stdout",
     "output_type": "stream",
     "text": [
      "\n",
      "***************************************\n",
      "\n"
     ]
    }
   ],
   "source": [
    "reports = {}\n",
    "\n",
    "for diatomic in testingDiatomics: \n",
    "    \n",
    "    #Run System\n",
    "    dc = getDiatomicConstants(diatomic)\n",
    "    pes = howPotential(dc)\n",
    "    basis = basisSet(dc, how, basisSize)\n",
    "    H = TOperator(basis) + VOperator(basis, pes)\n",
    "    sol = schrod(H, basis)\n",
    "    \n",
    "    reports[diatomic] = {}\n",
    "    print(\"***********\", diatomic, \"Test Report\", \"***********\\n\")\n",
    "    \n",
    "    reports[diatomic][\"eigen-vectors\"] = (sol.eigenVectors, checkEigenVectors(sol.eigenVectors))\n",
    "    print()\n",
    "    \n",
    "    eigenValuesTest = [sol.eigenValues]\n",
    "    eigenValuesTest.extend(checkEigenValues(dc[\"w\"], sol.eigenValues))\n",
    "    reports[diatomic][\"eigen-values\"] = tuple(eigenValuesTest)\n",
    "    \n",
    "    sol.graph()\n",
    "    \n",
    "    print(\"\\n***************************************\\n\")"
   ]
  }
 ],
 "metadata": {
  "kernelspec": {
   "display_name": "Python 3",
   "language": "python",
   "name": "python3"
  },
  "language_info": {
   "codemirror_mode": {
    "name": "ipython",
    "version": 3
   },
   "file_extension": ".py",
   "mimetype": "text/x-python",
   "name": "python",
   "nbconvert_exporter": "python",
   "pygments_lexer": "ipython3",
   "version": "3.9.6"
  }
 },
 "nbformat": 4,
 "nbformat_minor": 5
}
