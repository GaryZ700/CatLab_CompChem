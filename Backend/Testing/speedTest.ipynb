{
 "cells": [
  {
   "cell_type": "code",
   "execution_count": 1,
   "id": "f325316e-9dc2-4e1b-b037-6f43a25f9245",
   "metadata": {},
   "outputs": [
    {
     "name": "stdout",
     "output_type": "stream",
     "text": [
      "3.9.5 (tags/v3.9.5:0a7dcbd, May  3 2021, 17:27:52) [MSC v.1928 64 bit (AMD64)]\n"
     ]
    }
   ],
   "source": [
    "#Must be included in all Comp Chem Notebooks that want to make use of the library\n",
    "#Allow Notebook to Import from Comp_Chem_Package\n",
    "import sys\n",
    "import cython\n",
    "if(\"win\" in sys.platform):\n",
    "    sys.path.append(\"..\\\\\")\n",
    "else: \n",
    "    sys.path.append(\"../\")\n",
    "\n",
    "from timeit import timeit\n",
    "import sys\n",
    "print(sys.version)\n"
   ]
  },
  {
   "cell_type": "code",
   "execution_count": 2,
   "id": "ce2cfcc0-9179-4cd6-aede-1ff055c98b06",
   "metadata": {},
   "outputs": [
    {
     "data": {
      "application/vnd.jupyter.widget-view+json": {
       "model_id": "c11f20bfa87a4e9a9d097ad1d32ae7ac",
       "version_major": 2,
       "version_minor": 0
      },
      "text/plain": [
       "VBox(children=(FigureWidget({\n",
       "    'data': [{'fill': 'none',\n",
       "              'hoverlabel': {'font': {'size': 16}}…"
      ]
     },
     "metadata": {},
     "output_type": "display_data"
    },
    {
     "data": {
      "application/vnd.jupyter.widget-view+json": {
       "model_id": "743bba956dc049a4bf9128589f9049b7",
       "version_major": 2,
       "version_minor": 0
      },
      "text/plain": [
       "HBox(children=(Label(value='Computing RKR Surface'), FloatProgress(value=-2169.78700338, max=0.0, min=-2169.78…"
      ]
     },
     "metadata": {},
     "output_type": "display_data"
    },
    {
     "data": {
      "application/vnd.jupyter.widget-view+json": {
       "model_id": "72f47200634a45d391c16cc5546e2ca2",
       "version_major": 2,
       "version_minor": 0
      },
      "text/plain": [
       "VBox(children=(FigureWidget({\n",
       "    'data': [{'fill': 'none',\n",
       "              'hoverlabel': {'font': {'size': 16}}…"
      ]
     },
     "metadata": {},
     "output_type": "display_data"
    },
    {
     "data": {
      "application/vnd.jupyter.widget-view+json": {
       "model_id": "48d2b0d2214448e89eae388762b09e27",
       "version_major": 2,
       "version_minor": 0
      },
      "text/plain": [
       "VBox(children=(FigureWidget({\n",
       "    'data': [{'fill': 'none',\n",
       "              'hoverlabel': {'font': {'size': 16}}…"
      ]
     },
     "metadata": {},
     "output_type": "display_data"
    },
    {
     "name": "stderr",
     "output_type": "stream",
     "text": [
      "A:\\School\\Chapman\\Research\\QM\\CatLab_CompChem\\Backend\\Testing\\..\\compChemGlobal.py:16: IntegrationWarning:\n",
      "\n",
      "The occurrence of roundoff error is detected, which prevents \n",
      "  the requested tolerance from being achieved.  The error may be \n",
      "  underestimated.\n",
      "\n",
      "A:\\School\\Chapman\\Research\\QM\\CatLab_CompChem\\Backend\\Testing\\..\\compChemGlobal.py:16: IntegrationWarning:\n",
      "\n",
      "The integral is probably divergent, or slowly convergent.\n",
      "\n"
     ]
    },
    {
     "data": {
      "application/vnd.jupyter.widget-view+json": {
       "model_id": "b50e3dc50d164fe09c855ccaad7d5c5e",
       "version_major": 2,
       "version_minor": 0
      },
      "text/plain": [
       "VBox(children=(FigureWidget({\n",
       "    'data': [{'fill': 'none',\n",
       "              'hoverlabel': {'font': {'size': 16}}…"
      ]
     },
     "metadata": {},
     "output_type": "display_data"
    },
    {
     "name": "stdout",
     "output_type": "stream",
     "text": [
      "26.965148900000003\n"
     ]
    }
   ],
   "source": [
    "from timeit import timeit\n",
    "def test():\n",
    "    from nistScraper import getDiatomicConstants\n",
    "    from how import how\n",
    "    from basisSet import basisSet \n",
    "    from rkr import rkr\n",
    "    from morsePotential import morsePotential \n",
    "    from operators import TOperator, VOperator, HOperator\n",
    "    from schrodinger import schrod\n",
    "    dc = getDiatomicConstants(\"CO\")\n",
    "    basis = basisSet(dc, basisFunctionClass = how, size = 12).graph()\n",
    "    pesMethod = rkr(dc)\n",
    "    data = pesMethod.compute()\n",
    "    pesMethod.graph()\n",
    "    fitting = morsePotential(dc, data)\n",
    "    fitting.graph()\n",
    "    T = TOperator(basis)\n",
    "    V = VOperator(basis, fitting)\n",
    "    H = T + V\n",
    "    solution = schrod(H, basis, fitting)\n",
    "    solution.graph()\n",
    "\n",
    "print(timeit(test, number = 1))"
   ]
  }
 ],
 "metadata": {
  "kernelspec": {
   "display_name": "Python 3",
   "language": "python",
   "name": "python3"
  },
  "language_info": {
   "codemirror_mode": {
    "name": "ipython",
    "version": 3
   },
   "file_extension": ".py",
   "mimetype": "text/x-python",
   "name": "python",
   "nbconvert_exporter": "python",
   "pygments_lexer": "ipython3",
   "version": "3.9.5"
  }
 },
 "nbformat": 4,
 "nbformat_minor": 5
}
