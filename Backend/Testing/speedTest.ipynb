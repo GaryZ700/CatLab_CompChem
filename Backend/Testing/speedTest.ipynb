{
 "cells": [
  {
   "cell_type": "code",
   "execution_count": 1,
   "id": "f325316e-9dc2-4e1b-b037-6f43a25f9245",
   "metadata": {},
   "outputs": [
    {
     "name": "stdout",
     "output_type": "stream",
     "text": [
      "3.9.5 (tags/v3.9.5:0a7dcbd, May  3 2021, 17:27:52) [MSC v.1928 64 bit (AMD64)]\n"
     ]
    }
   ],
   "source": [
    "#Must be included in all Comp Chem Notebooks that want to make use of the library\n",
    "#Allow Notebook to Import from Comp_Chem_Package\n",
    "import sys\n",
    "if(\"win\" in sys.platform):\n",
    "    sys.path.append(\"..\\\\\")\n",
    "else: \n",
    "    sys.path.append(\"../\")\n",
    "\n",
    "from compChemGlobal import *\n",
    "from timeit import timeit\n",
    "import sys\n",
    "print(sys.version)"
   ]
  },
  {
   "cell_type": "code",
   "execution_count": 2,
   "id": "ce2cfcc0-9179-4cd6-aede-1ff055c98b06",
   "metadata": {},
   "outputs": [],
   "source": [
    "def test():\n",
    "    from nistScraper import getDiatomicConstants\n",
    "    from how import how\n",
    "    from basisSet import basisSet \n",
    "    from rkr import rkr\n",
    "    from morsePotential import morsePotential \n",
    "    from operators import TOperator, VOperator, HOperator\n",
    "    from schrodinger import schrod\n",
    "    dc = getDiatomicConstants(\"CO\")\n",
    "    basis = basisSet(dc, basisFunctionClass = how, size = 12).graph()\n",
    "    pesMethod = rkr(dc)\n",
    "    data = pesMethod.compute()\n",
    "    pesMethod.graph()\n",
    "    fitting = morsePotential(dc, data)\n",
    "    fitting.graph()\n",
    "    T = TOperator(basis)\n",
    "    V = VOperator(basis, fitting)\n",
    "    H = T + V\n",
    "    solution = schrod(H, basis, fitting)\n",
    "    solution.graph()"
   ]
  },
  {
   "cell_type": "code",
   "execution_count": 3,
   "id": "6217b577-880c-4261-8e95-bf3c9a5e49a8",
   "metadata": {},
   "outputs": [
    {
     "data": {
      "application/vnd.jupyter.widget-view+json": {
       "model_id": "76bddebd638e42d6a1b06697d3b6e2f0",
       "version_major": 2,
       "version_minor": 0
      },
      "text/plain": [
       "VBox(children=(FigureWidget({\n",
       "    'data': [{'fill': 'none',\n",
       "              'hoverlabel': {'font': {'size': 16}}…"
      ]
     },
     "metadata": {},
     "output_type": "display_data"
    },
    {
     "data": {
      "application/vnd.jupyter.widget-view+json": {
       "model_id": "79aa91281f6343beadabc9d9ae917dc1",
       "version_major": 2,
       "version_minor": 0
      },
      "text/plain": [
       "HBox(children=(Label(value='Computing RKR Surface'), FloatProgress(value=-2169.78700338, max=0.0, min=-2169.78…"
      ]
     },
     "metadata": {},
     "output_type": "display_data"
    },
    {
     "data": {
      "application/vnd.jupyter.widget-view+json": {
       "model_id": "9ca2c7ba8b564d309c8817cc9fc3789b",
       "version_major": 2,
       "version_minor": 0
      },
      "text/plain": [
       "VBox(children=(FigureWidget({\n",
       "    'data': [{'fill': 'none',\n",
       "              'hoverlabel': {'font': {'size': 16}}…"
      ]
     },
     "metadata": {},
     "output_type": "display_data"
    },
    {
     "data": {
      "application/vnd.jupyter.widget-view+json": {
       "model_id": "c4ae1b6d8a68498e9f00d98d6d74a7e7",
       "version_major": 2,
       "version_minor": 0
      },
      "text/plain": [
       "VBox(children=(FigureWidget({\n",
       "    'data': [{'fill': 'none',\n",
       "              'hoverlabel': {'font': {'size': 16}}…"
      ]
     },
     "metadata": {},
     "output_type": "display_data"
    },
    {
     "name": "stdout",
     "output_type": "stream",
     "text": [
      "singleprocessing\n",
      "0  0\n"
     ]
    },
    {
     "name": "stderr",
     "output_type": "stream",
     "text": [
      "A:\\School\\Chapman\\Research\\QM\\CatLab_CompChem\\Backend\\Testing\\..\\compChemGlobal.py:16: IntegrationWarning:\n",
      "\n",
      "The occurrence of roundoff error is detected, which prevents \n",
      "  the requested tolerance from being achieved.  The error may be \n",
      "  underestimated.\n",
      "\n"
     ]
    },
    {
     "name": "stdout",
     "output_type": "stream",
     "text": [
      "0  1\n",
      "0  2\n",
      "0  3\n",
      "0  4\n",
      "0  5\n",
      "0  6\n"
     ]
    },
    {
     "name": "stderr",
     "output_type": "stream",
     "text": [
      "A:\\School\\Chapman\\Research\\QM\\CatLab_CompChem\\Backend\\Testing\\..\\compChemGlobal.py:16: IntegrationWarning:\n",
      "\n",
      "The integral is probably divergent, or slowly convergent.\n",
      "\n"
     ]
    },
    {
     "name": "stdout",
     "output_type": "stream",
     "text": [
      "0  7\n",
      "0  8\n",
      "0  9\n",
      "0  10\n",
      "0  11\n",
      "1  1\n",
      "1  2\n",
      "1  3\n",
      "1  4\n",
      "1  5\n",
      "1  6\n",
      "1  7\n",
      "1  8\n",
      "1  9\n",
      "1  10\n",
      "1  11\n",
      "2  2\n",
      "2  3\n",
      "2  4\n",
      "2  5\n",
      "2  6\n",
      "2  7\n",
      "2  8\n",
      "2  9\n",
      "2  10\n",
      "2  11\n",
      "3  3\n",
      "3  4\n",
      "3  5\n",
      "3  6\n",
      "3  7\n",
      "3  8\n",
      "3  9\n",
      "3  10\n",
      "3  11\n",
      "4  4\n",
      "4  5\n",
      "4  6\n",
      "4  7\n",
      "4  8\n",
      "4  9\n",
      "4  10\n",
      "4  11\n",
      "5  5\n",
      "5  6\n",
      "5  7\n",
      "5  8\n",
      "5  9\n",
      "5  10\n",
      "5  11\n",
      "6  6\n",
      "6  7\n",
      "6  8\n",
      "6  9\n",
      "6  10\n",
      "6  11\n",
      "7  7\n",
      "7  8\n",
      "7  9\n",
      "7  10\n",
      "7  11\n",
      "8  8\n",
      "8  9\n",
      "8  10\n",
      "8  11\n",
      "9  9\n",
      "9  10\n",
      "9  11\n",
      "10  10\n",
      "10  11\n",
      "11  11\n"
     ]
    },
    {
     "data": {
      "application/vnd.jupyter.widget-view+json": {
       "model_id": "b02c42f3799b495299891dfeeb04a056",
       "version_major": 2,
       "version_minor": 0
      },
      "text/plain": [
       "VBox(children=(FigureWidget({\n",
       "    'data': [{'fill': 'none',\n",
       "              'hoverlabel': {'font': {'size': 16}}…"
      ]
     },
     "metadata": {},
     "output_type": "display_data"
    },
    {
     "data": {
      "text/plain": [
       "26.6885772"
      ]
     },
     "execution_count": 3,
     "metadata": {},
     "output_type": "execute_result"
    }
   ],
   "source": [
    "timeit(test, number = 1)"
   ]
  },
  {
   "cell_type": "code",
   "execution_count": null,
   "id": "c6d70741-bc18-4bc1-976c-9387b5210f35",
   "metadata": {},
   "outputs": [],
   "source": []
  }
 ],
 "metadata": {
  "kernelspec": {
   "display_name": "Python 3",
   "language": "python",
   "name": "python3"
  },
  "language_info": {
   "codemirror_mode": {
    "name": "ipython",
    "version": 3
   },
   "file_extension": ".py",
   "mimetype": "text/x-python",
   "name": "python",
   "nbconvert_exporter": "python",
   "pygments_lexer": "ipython3",
   "version": "3.9.5"
  }
 },
 "nbformat": 4,
 "nbformat_minor": 5
}
