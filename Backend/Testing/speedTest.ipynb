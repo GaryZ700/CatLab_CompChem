{
 "cells": [
  {
   "cell_type": "code",
   "execution_count": 9,
   "id": "f325316e-9dc2-4e1b-b037-6f43a25f9245",
   "metadata": {},
   "outputs": [
    {
     "name": "stdout",
     "output_type": "stream",
     "text": [
      "3.9.5 (tags/v3.9.5:0a7dcbd, May  3 2021, 17:27:52) [MSC v.1928 64 bit (AMD64)]\n"
     ]
    }
   ],
   "source": [
    "#Must be included in all Comp Chem Notebooks that want to make use of the library\n",
    "#Allow Notebook to Import from Comp_Chem_Package\n",
    "import sys\n",
    "if(\"win\" in sys.platform):\n",
    "    sys.path.append(\"..\\\\\")\n",
    "else: \n",
    "    sys.path.append(\"../\")\n",
    "\n",
    "from compChemGlobal import *\n",
    "from timeit import timeit\n",
    "import sys\n",
    "print(sys.version)"
   ]
  },
  {
   "cell_type": "code",
   "execution_count": 15,
   "id": "ce2cfcc0-9179-4cd6-aede-1ff055c98b06",
   "metadata": {},
   "outputs": [],
   "source": [
    "def test():\n",
    "    from nistScraper import getDiatomicConstants\n",
    "    from how import how\n",
    "    from basisSet import basisSet \n",
    "    from rkr import rkr\n",
    "    from morsePotential import morsePotential \n",
    "    from operators import TOperator, VOperator, HOperator\n",
    "    from schrodinger import schrod\n",
    "    dc = getDiatomicConstants(\"CO\")\n",
    "    basis = basisSet(dc, basisFunctionClass = how, size = 12).graph()\n",
    "    pesMethod = rkr(dc)\n",
    "    data = pesMethod.compute()\n",
    "    pesMethod.graph()\n",
    "    fitting = morsePotential(dc, data)\n",
    "    fitting.graph()\n",
    "    T = TOperator(basis)\n",
    "    V = VOperator(basis, fitting)\n",
    "    H = T + V\n",
    "    solution = schrod(H, basis, fitting)\n",
    "    solution.graph()"
   ]
  },
  {
   "cell_type": "code",
   "execution_count": 17,
   "id": "6217b577-880c-4261-8e95-bf3c9a5e49a8",
   "metadata": {},
   "outputs": [
    {
     "data": {
      "application/vnd.jupyter.widget-view+json": {
       "model_id": "d613073ba11643efa7802a578ba7ce95",
       "version_major": 2,
       "version_minor": 0
      },
      "text/plain": [
       "VBox(children=(FigureWidget({\n",
       "    'data': [{'fill': 'none',\n",
       "              'hoverlabel': {'font': {'size': 16}}…"
      ]
     },
     "metadata": {},
     "output_type": "display_data"
    },
    {
     "data": {
      "application/vnd.jupyter.widget-view+json": {
       "model_id": "b9f765c6ff8b49789c6912b6a3ee7f34",
       "version_major": 2,
       "version_minor": 0
      },
      "text/plain": [
       "HBox(children=(Label(value='Computing RKR Surface'), FloatProgress(value=-2169.78700338, max=0.0, min=-2169.78…"
      ]
     },
     "metadata": {},
     "output_type": "display_data"
    },
    {
     "data": {
      "application/vnd.jupyter.widget-view+json": {
       "model_id": "2e17e8e3bcb2482fa889d6f582a11d53",
       "version_major": 2,
       "version_minor": 0
      },
      "text/plain": [
       "VBox(children=(FigureWidget({\n",
       "    'data': [{'fill': 'none',\n",
       "              'hoverlabel': {'font': {'size': 16}}…"
      ]
     },
     "metadata": {},
     "output_type": "display_data"
    },
    {
     "data": {
      "application/vnd.jupyter.widget-view+json": {
       "model_id": "905935c2438349b2bfa9dbcaae2b6f82",
       "version_major": 2,
       "version_minor": 0
      },
      "text/plain": [
       "VBox(children=(FigureWidget({\n",
       "    'data': [{'fill': 'none',\n",
       "              'hoverlabel': {'font': {'size': 16}}…"
      ]
     },
     "metadata": {},
     "output_type": "display_data"
    },
    {
     "data": {
      "application/vnd.jupyter.widget-view+json": {
       "model_id": "736feb96c61b401cbcf383e40a4d61c0",
       "version_major": 2,
       "version_minor": 0
      },
      "text/plain": [
       "VBox(children=(FigureWidget({\n",
       "    'data': [{'fill': 'none',\n",
       "              'hoverlabel': {'font': {'size': 16}}…"
      ]
     },
     "metadata": {},
     "output_type": "display_data"
    },
    {
     "data": {
      "text/plain": [
       "13.796879999999987"
      ]
     },
     "execution_count": 17,
     "metadata": {},
     "output_type": "execute_result"
    }
   ],
   "source": [
    "timeit(test, number = 1)"
   ]
  },
  {
   "cell_type": "code",
   "execution_count": null,
   "id": "c6d70741-bc18-4bc1-976c-9387b5210f35",
   "metadata": {},
   "outputs": [],
   "source": []
  }
 ],
 "metadata": {
  "kernelspec": {
   "display_name": "Python 3",
   "language": "python",
   "name": "python3"
  },
  "language_info": {
   "codemirror_mode": {
    "name": "ipython",
    "version": 3
   },
   "file_extension": ".py",
   "mimetype": "text/x-python",
   "name": "python",
   "nbconvert_exporter": "python",
   "pygments_lexer": "ipython3",
   "version": "3.9.5"
  }
 },
 "nbformat": 4,
 "nbformat_minor": 5
}
