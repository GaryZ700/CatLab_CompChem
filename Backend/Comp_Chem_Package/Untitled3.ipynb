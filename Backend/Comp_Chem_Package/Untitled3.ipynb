{
 "cells": [
  {
   "cell_type": "code",
   "execution_count": 1,
   "metadata": {},
   "outputs": [],
   "source": [
    "from pesFile import *\n",
    "pf = pesFile(\"A:\\School\\Chapman\\Research\\QM\\LaRue Research\\CO_X.txt\", distanceUnits = units.hartree, energyUnits = units.hartree)"
   ]
  },
  {
   "cell_type": "code",
   "execution_count": 2,
   "metadata": {},
   "outputs": [
    {
     "data": {
      "text/plain": [
       "{'r': [0.85,\n",
       "  0.9,\n",
       "  0.95,\n",
       "  1.0,\n",
       "  1.04,\n",
       "  1.09,\n",
       "  1.14,\n",
       "  1.19,\n",
       "  1.24,\n",
       "  1.29,\n",
       "  1.35,\n",
       "  1.4,\n",
       "  1.45,\n",
       "  1.5,\n",
       "  1.55,\n",
       "  1.6,\n",
       "  1.7,\n",
       "  1.75,\n",
       "  1.8,\n",
       "  1.9,\n",
       "  2.0,\n",
       "  2.25,\n",
       "  2.38,\n",
       "  2.5,\n",
       "  2.75,\n",
       "  3.0],\n",
       " 'E': [0.3720831421999975,\n",
       "  0.2214619352999989,\n",
       "  0.12108268660000476,\n",
       "  0.0575452002999981,\n",
       "  0.02643614190000676,\n",
       "  0.005788523299997905,\n",
       "  0.0,\n",
       "  0.004711228600001505,\n",
       "  0.016690888900001255,\n",
       "  0.03354737799999441,\n",
       "  0.05779762490000451,\n",
       "  0.07989630010000326,\n",
       "  0.10277113909999969,\n",
       "  0.1258130469000065,\n",
       "  0.1485789923000027,\n",
       "  0.17076918950000675,\n",
       "  0.21276264380000498,\n",
       "  0.2323792088999994,\n",
       "  0.2510330054000036,\n",
       "  0.28552426890000504,\n",
       "  0.31633426610000015,\n",
       "  0.3786854086000062,\n",
       "  0.4039396013999976,\n",
       "  0.42365408160000584,\n",
       "  0.45550479259999577,\n",
       "  0.47783368180000707],\n",
       " 'D': 0.47783368180000707}"
      ]
     },
     "execution_count": 2,
     "metadata": {},
     "output_type": "execute_result"
    }
   ],
   "source": [
    "pf.getData()"
   ]
  },
  {
   "cell_type": "code",
   "execution_count": 3,
   "metadata": {},
   "outputs": [
    {
     "data": {
      "application/vnd.jupyter.widget-view+json": {
       "model_id": "5ecea175b7424763afddc91aa0ceab22",
       "version_major": 2,
       "version_minor": 0
      },
      "text/plain": [
       "VBox(children=(FigureWidget({\n",
       "    'data': [{'fill': 'none',\n",
       "              'hoverlabel': {'font': {'size': 16}}…"
      ]
     },
     "metadata": {},
     "output_type": "display_data"
    }
   ],
   "source": [
    "pf.graph()"
   ]
  },
  {
   "cell_type": "code",
   "execution_count": 4,
   "metadata": {},
   "outputs": [
    {
     "data": {
      "text/plain": [
       "<morsePotential.morsePotential at 0x1a0f4322b20>"
      ]
     },
     "execution_count": 4,
     "metadata": {},
     "output_type": "execute_result"
    }
   ],
   "source": [
    "from morsePotential import *\n",
    "from nistScraper import getDiatomicConstants\n",
    "mp = morsePotential(getDiatomicConstants(\"CO\"))\n",
    "mp.fit(pf.getData())"
   ]
  },
  {
   "cell_type": "code",
   "execution_count": 5,
   "metadata": {},
   "outputs": [
    {
     "data": {
      "application/vnd.jupyter.widget-view+json": {
       "model_id": "a8f687ef8455444c94371d8fbc6248a9",
       "version_major": 2,
       "version_minor": 0
      },
      "text/plain": [
       "VBox(children=(FigureWidget({\n",
       "    'data': [{'fill': 'none',\n",
       "              'hoverlabel': {'font': {'size': 16}}…"
      ]
     },
     "metadata": {},
     "output_type": "display_data"
    },
    {
     "data": {
      "text/plain": [
       "<morsePotential.morsePotential at 0x1a0f4322b20>"
      ]
     },
     "execution_count": 5,
     "metadata": {},
     "output_type": "execute_result"
    }
   ],
   "source": [
    "mp.graph()"
   ]
  },
  {
   "cell_type": "code",
   "execution_count": 6,
   "metadata": {},
   "outputs": [
    {
     "data": {
      "text/plain": [
       "[2.2727728423999953,\n",
       " 2.2742433033199543,\n",
       " 2.2864188187089933,\n",
       " 2.3214986131998216,\n",
       " 2.39171148951529,\n",
       " 2.724675046454477,\n",
       " 1,\n",
       " 1.6955725205004364,\n",
       " 1.8526372415328556,\n",
       " 1.904038018640847,\n",
       " 1.9279767447517682,\n",
       " 1.9353223326545343,\n",
       " 1.9372888311931926,\n",
       " 1.9364958902285916,\n",
       " 1.934162384755415,\n",
       " 1.9310706885479072,\n",
       " 1.9249672998053817,\n",
       " 1.9225874417847635,\n",
       " 1.9210287612217172,\n",
       " 1.9215731546732608,\n",
       " 1.9274336777566823,\n",
       " 1.9696787675896164,\n",
       " 2.012228040889841,\n",
       " 2.0708021006767225,\n",
       " 2.309113364183217,\n",
       " 0]"
      ]
     },
     "execution_count": 6,
     "metadata": {},
     "output_type": "execute_result"
    }
   ],
   "source": [
    "mp.a"
   ]
  },
  {
   "cell_type": "code",
   "execution_count": null,
   "metadata": {},
   "outputs": [],
   "source": []
  }
 ],
 "metadata": {
  "kernelspec": {
   "display_name": "Python 3",
   "language": "python",
   "name": "python3"
  },
  "language_info": {
   "codemirror_mode": {
    "name": "ipython",
    "version": 3
   },
   "file_extension": ".py",
   "mimetype": "text/x-python",
   "name": "python",
   "nbconvert_exporter": "python",
   "pygments_lexer": "ipython3",
   "version": "3.8.0"
  }
 },
 "nbformat": 4,
 "nbformat_minor": 4
}
