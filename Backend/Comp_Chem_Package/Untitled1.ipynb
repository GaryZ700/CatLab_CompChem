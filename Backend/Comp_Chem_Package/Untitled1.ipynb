{
 "cells": [
  {
   "cell_type": "code",
   "execution_count": 1,
   "metadata": {},
   "outputs": [
    {
     "name": "stdout",
     "output_type": "stream",
     "text": [
      "[14.00307400443, 15.99491461957]\n"
     ]
    }
   ],
   "source": [
    "import sys\n",
    "sys.path.append(\"..\\\\Comp_Chem_Package\")\n",
    "\n",
    "from nistScraper import *\n",
    "from rkr import *\n",
    "\n",
    "\n",
    "dc = getDiatomicConstants(\"NO\")\n",
    "#FH, HCL"
   ]
  },
  {
   "cell_type": "code",
   "execution_count": 2,
   "metadata": {},
   "outputs": [],
   "source": [
    "r = rkr(dc)"
   ]
  },
  {
   "cell_type": "code",
   "execution_count": 3,
   "metadata": {},
   "outputs": [
    {
     "name": "stdout",
     "output_type": "stream",
     "text": [
      "2\n"
     ]
    },
    {
     "data": {
      "application/vnd.jupyter.widget-view+json": {
       "model_id": "fb99e5e22867444198c02efdaae78319",
       "version_major": 2,
       "version_minor": 0
      },
      "text/plain": [
       "HBox(children=(Label(value='Computing RKR Surface'), FloatProgress(value=-1904.0118, max=0.0, min=-1904.0118))…"
      ]
     },
     "metadata": {},
     "output_type": "display_data"
    },
    {
     "data": {
      "application/vnd.jupyter.widget-view+json": {
       "model_id": "36d7d49c3f4e4527a8bc46537f34e383",
       "version_major": 2,
       "version_minor": 0
      },
      "text/plain": [
       "VBox(children=(FigureWidget({\n",
       "    'data': [{'hoverlabel': {'font': {'size': 16}},\n",
       "              'hovertemplate…"
      ]
     },
     "metadata": {},
     "output_type": "display_data"
    }
   ],
   "source": [
    "r.compute()\n",
    "r.graph()"
   ]
  },
  {
   "cell_type": "code",
   "execution_count": 13,
   "metadata": {},
   "outputs": [],
   "source": [
    "from morsePotential import *\n",
    "\n",
    "mp = morsePotential(dc, r.getData())\n"
   ]
  },
  {
   "cell_type": "code",
   "execution_count": 5,
   "metadata": {},
   "outputs": [
    {
     "data": {
      "application/vnd.jupyter.widget-view+json": {
       "model_id": "a08479ec9a4a44059c62487daa85ada6",
       "version_major": 2,
       "version_minor": 0
      },
      "text/plain": [
       "VBox(children=(FigureWidget({\n",
       "    'data': [{'hoverlabel': {'font': {'size': 16}},\n",
       "              'hovertemplate…"
      ]
     },
     "metadata": {},
     "output_type": "display_data"
    }
   ],
   "source": [
    "morsePotential(dc).fit(r.getData()).graph()"
   ]
  },
  {
   "cell_type": "code",
   "execution_count": 6,
   "metadata": {},
   "outputs": [
    {
     "data": {
      "application/vnd.jupyter.widget-view+json": {
       "model_id": "5b7eaabb7f814e4e830d55d7dc429f99",
       "version_major": 2,
       "version_minor": 0
      },
      "text/plain": [
       "VBox(children=(FigureWidget({\n",
       "    'data': [{'hoverlabel': {'font': {'size': 16}},\n",
       "              'hovertemplate…"
      ]
     },
     "metadata": {},
     "output_type": "display_data"
    }
   ],
   "source": [
    "from how import *\n",
    "how(dc, n=20).graph(resolution=1000)"
   ]
  },
  {
   "cell_type": "code",
   "execution_count": 7,
   "metadata": {},
   "outputs": [
    {
     "data": {
      "application/vnd.jupyter.widget-view+json": {
       "model_id": "fb0a62b592fd46b0b6885f029165f689",
       "version_major": 2,
       "version_minor": 0
      },
      "text/plain": [
       "VBox(children=(FigureWidget({\n",
       "    'data': [{'hoverlabel': {'font': {'size': 16}},\n",
       "              'hovertemplate…"
      ]
     },
     "metadata": {},
     "output_type": "display_data"
    }
   ],
   "source": [
    "from basisSet import *\n",
    "\n",
    "basis = basisSet(dc, size=10)\n",
    "basis.graph()"
   ]
  },
  {
   "cell_type": "code",
   "execution_count": null,
   "metadata": {},
   "outputs": [],
   "source": []
  },
  {
   "cell_type": "code",
   "execution_count": 8,
   "metadata": {},
   "outputs": [],
   "source": [
    "from operators import *\n",
    "\n",
    "t = T(basis)"
   ]
  },
  {
   "cell_type": "code",
   "execution_count": 9,
   "metadata": {},
   "outputs": [
    {
     "data": {
      "text/plain": [
       "<operators.T at 0x17fb0410b50>"
      ]
     },
     "execution_count": 9,
     "metadata": {},
     "output_type": "execute_result"
    }
   ],
   "source": [
    "t"
   ]
  },
  {
   "cell_type": "code",
   "execution_count": 10,
   "metadata": {},
   "outputs": [],
   "source": [
    "from operators import *\n",
    "v = V()"
   ]
  },
  {
   "cell_type": "code",
   "execution_count": 14,
   "metadata": {},
   "outputs": [
    {
     "name": "stderr",
     "output_type": "stream",
     "text": [
      "A:\\School\\Chapman\\Research\\QM\\CatLab_CompChem\\Comp_Chem_Package\\compChemGlobal.py:16: IntegrationWarning:\n",
      "\n",
      "The occurrence of roundoff error is detected, which prevents \n",
      "  the requested tolerance from being achieved.  The error may be \n",
      "  underestimated.\n",
      "\n",
      "A:\\School\\Chapman\\Research\\QM\\CatLab_CompChem\\Comp_Chem_Package\\compChemGlobal.py:16: IntegrationWarning:\n",
      "\n",
      "The integral is probably divergent, or slowly convergent.\n",
      "\n"
     ]
    },
    {
     "data": {
      "text/plain": [
       "<operators.V at 0x17fb03a8d90>"
      ]
     },
     "execution_count": 14,
     "metadata": {},
     "output_type": "execute_result"
    }
   ],
   "source": [
    "v.operatesOn(basis, mp)"
   ]
  },
  {
   "cell_type": "code",
   "execution_count": null,
   "metadata": {},
   "outputs": [],
   "source": [
    "v.matrix"
   ]
  },
  {
   "cell_type": "code",
   "execution_count": 15,
   "metadata": {},
   "outputs": [
    {
     "data": {
      "text/plain": [
       "array([[ 9.33111358e+02,  1.00699673e+01,  4.13143058e+00,\n",
       "        -9.82944239e+01,  3.43182711e+00, -5.06867173e+00,\n",
       "         6.57266483e+00,  3.99443354e+00, -5.22075598e+00,\n",
       "        -3.53263732e+00],\n",
       "       [ 1.00699673e+01,  2.84312197e+03, -1.55468739e+02,\n",
       "         1.31384932e+01, -2.08397526e+02,  2.28418648e+01,\n",
       "        -2.04152819e+00,  2.61724160e+00, -1.14289866e-01,\n",
       "        -2.63695289e+00],\n",
       "       [ 4.13143058e+00, -1.55468739e+02,  4.76047593e+03,\n",
       "        -4.16434340e+02,  5.19967740e+01, -3.29198801e+02,\n",
       "         4.07215904e+01, -6.20784872e+00,  2.52692621e+00,\n",
       "         2.71493021e+00],\n",
       "       [-9.82944239e+01,  1.31384932e+01, -4.16434340e+02,\n",
       "         6.71438512e+03, -7.35126367e+02,  1.06549853e+02,\n",
       "        -4.74668190e+02,  6.34692901e+01, -6.48454518e+00,\n",
       "         3.57098667e+00],\n",
       "       [ 3.43182711e+00, -2.08397526e+02,  5.19967740e+01,\n",
       "        -7.35126367e+02,  8.69175016e+03, -1.11801076e+03,\n",
       "         1.78819973e+02, -6.30789822e+02,  9.28751529e+01,\n",
       "        -3.80754920e+02],\n",
       "       [-5.06867173e+00,  2.28418648e+01, -3.29198801e+02,\n",
       "         1.06549853e+02, -1.11801076e+03,  1.06970903e+04,\n",
       "        -1.54671357e+03,  2.72589662e+02, -8.06840194e+02,\n",
       "         1.21211370e+02],\n",
       "       [ 6.57266483e+00, -2.04152819e+00,  4.07215904e+01,\n",
       "        -4.74668190e+02,  1.78819973e+02, -1.54671357e+03,\n",
       "         1.27316242e+04, -2.02698882e+03,  3.78320154e+02,\n",
       "        -9.93510123e+02],\n",
       "       [ 3.99443354e+00,  2.61724160e+00, -6.20784872e+00,\n",
       "         6.34692901e+01, -6.30789822e+02,  2.72589662e+02,\n",
       "        -2.02698882e+03,  1.47890928e+04, -2.54600683e+03,\n",
       "         5.07829815e+02],\n",
       "       [-5.22075598e+00, -1.14289866e-01,  2.52692621e+00,\n",
       "        -6.48454518e+00,  9.28751529e+01, -8.06840194e+02,\n",
       "         3.78320154e+02, -2.54600683e+03,  1.68746500e+04,\n",
       "        -3.10633810e+03],\n",
       "       [-3.53263732e+00, -2.63695289e+00,  2.71493021e+00,\n",
       "         3.57098667e+00, -3.80754920e+02,  1.21211370e+02,\n",
       "        -9.93510123e+02,  5.07829815e+02, -3.10633810e+03,\n",
       "         1.89761537e+04]])"
      ]
     },
     "execution_count": 15,
     "metadata": {},
     "output_type": "execute_result"
    }
   ],
   "source": [
    "(t+v).matrix"
   ]
  },
  {
   "cell_type": "code",
   "execution_count": 16,
   "metadata": {},
   "outputs": [
    {
     "ename": "NameError",
     "evalue": "name 'H' is not defined",
     "output_type": "error",
     "traceback": [
      "\u001b[1;31m---------------------------------------------------------------------------\u001b[0m",
      "\u001b[1;31mNameError\u001b[0m                                 Traceback (most recent call last)",
      "\u001b[1;32m<ipython-input-16-765eaa7a4c2a>\u001b[0m in \u001b[0;36m<module>\u001b[1;34m\u001b[0m\n\u001b[0;32m      1\u001b[0m \u001b[1;32mfrom\u001b[0m \u001b[0mschrodinger\u001b[0m \u001b[1;32mimport\u001b[0m \u001b[1;33m*\u001b[0m\u001b[1;33m\u001b[0m\u001b[1;33m\u001b[0m\u001b[0m\n\u001b[0;32m      2\u001b[0m \u001b[1;33m\u001b[0m\u001b[0m\n\u001b[1;32m----> 3\u001b[1;33m \u001b[0mschrod\u001b[0m\u001b[1;33m(\u001b[0m\u001b[0mt\u001b[0m\u001b[1;33m+\u001b[0m\u001b[0mv\u001b[0m\u001b[1;33m,\u001b[0m \u001b[0mbasis\u001b[0m\u001b[1;33m)\u001b[0m\u001b[1;33m\u001b[0m\u001b[1;33m\u001b[0m\u001b[0m\n\u001b[0m",
      "\u001b[1;32mA:\\School\\Chapman\\Research\\QM\\CatLab_CompChem\\Comp_Chem_Package\\schrodinger.py\u001b[0m in \u001b[0;36m__init__\u001b[1;34m(self, arg1, basis)\u001b[0m\n\u001b[0;32m     20\u001b[0m         \u001b[1;32mif\u001b[0m\u001b[1;33m(\u001b[0m\u001b[0mtype\u001b[0m\u001b[1;33m(\u001b[0m\u001b[0marg1\u001b[0m\u001b[1;33m)\u001b[0m \u001b[1;33m==\u001b[0m \u001b[0mstr\u001b[0m\u001b[1;33m)\u001b[0m\u001b[1;33m:\u001b[0m\u001b[1;33m\u001b[0m\u001b[1;33m\u001b[0m\u001b[0m\n\u001b[0;32m     21\u001b[0m             \u001b[1;32mpass\u001b[0m\u001b[1;33m\u001b[0m\u001b[1;33m\u001b[0m\u001b[0m\n\u001b[1;32m---> 22\u001b[1;33m         \u001b[1;32melif\u001b[0m\u001b[1;33m(\u001b[0m\u001b[0mtype\u001b[0m\u001b[1;33m(\u001b[0m\u001b[0marg1\u001b[0m\u001b[1;33m)\u001b[0m \u001b[1;33m==\u001b[0m \u001b[0mH\u001b[0m\u001b[1;33m)\u001b[0m\u001b[1;33m:\u001b[0m\u001b[1;33m\u001b[0m\u001b[1;33m\u001b[0m\u001b[0m\n\u001b[0m\u001b[0;32m     23\u001b[0m             \u001b[0mself\u001b[0m\u001b[1;33m.\u001b[0m\u001b[0msolve\u001b[0m\u001b[1;33m(\u001b[0m\u001b[0marg1\u001b[0m\u001b[1;33m,\u001b[0m \u001b[0mbasis\u001b[0m\u001b[1;33m)\u001b[0m\u001b[1;33m\u001b[0m\u001b[1;33m\u001b[0m\u001b[0m\n\u001b[0;32m     24\u001b[0m \u001b[1;33m\u001b[0m\u001b[0m\n",
      "\u001b[1;31mNameError\u001b[0m: name 'H' is not defined"
     ]
    }
   ],
   "source": [
    "from schrodinger import *\n",
    "\n",
    "schrod(t+v, basis)"
   ]
  },
  {
   "cell_type": "code",
   "execution_count": null,
   "metadata": {},
   "outputs": [],
   "source": [
    "t+v"
   ]
  },
  {
   "cell_type": "code",
   "execution_count": null,
   "metadata": {},
   "outputs": [],
   "source": [
    "from schrodinger import *\n",
    "schrod(t+v, basis)"
   ]
  },
  {
   "cell_type": "code",
   "execution_count": null,
   "metadata": {},
   "outputs": [],
   "source": []
  }
 ],
 "metadata": {
  "kernelspec": {
   "display_name": "Python 3",
   "language": "python",
   "name": "python3"
  },
  "language_info": {
   "codemirror_mode": {
    "name": "ipython",
    "version": 3
   },
   "file_extension": ".py",
   "mimetype": "text/x-python",
   "name": "python",
   "nbconvert_exporter": "python",
   "pygments_lexer": "ipython3",
   "version": "3.8.0"
  }
 },
 "nbformat": 4,
 "nbformat_minor": 4
}
