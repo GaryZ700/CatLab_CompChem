{
 "cells": [
  {
   "cell_type": "code",
   "execution_count": 1,
   "metadata": {},
   "outputs": [
    {
     "name": "stdout",
     "output_type": "stream",
     "text": [
      "Molecule\n",
      "Basis Set: STO-3G\n",
      "Total Number of Electrons: 2\n",
      "Atoms: \n",
      "     Atomic Number: 1, Electrons: 1, Coordinate: X: 9 Y: 9 Z: 10.4\n",
      "     Atomic Number: 1, Electrons: 1, Coordinate: X: 9 Y: 9 Z: 9\n"
     ]
    }
   ],
   "source": [
    "#Python Implementation of the Hartree Fock Method\n",
    "#Procedures listed in the code follow as described in Modern Quantum Chemistry: Introduction to Advanced Electronic Structure Theory, By Attila Szabo and Neil S. Ostlundimport math\n",
    "import numpy as np\n",
    "from molecule import atom\n",
    "from molecule import vector\n",
    "from molecule import guassian\n",
    "from molecule import molecule\n",
    "from notebookImporter import importNotebook\n",
    "\n",
    "#import integrals notebook for the hartree method\n",
    "integrals = importNotebook(\"hartree_integrals\")\n",
    "scf = importNotebook(\"hartree_scf\")\n",
    "\n",
    "#define SCF convergence critera\n",
    "SCF_CONVERGENCE = pow(10, -50)\n",
    "\n",
    "#Step 1\n",
    "#Specify Molecules, Nuclear Coordinates, and Charge of the nucli Number of Electrons,\n",
    "\n",
    "#generate an h2 atom with a distance of 1.4 AU to compare with Szabo pg. 175\n",
    "h2 = molecule()\n",
    "h2.addAtom(atom(vector(9,9,10.4), 1, 1))\n",
    "h2.addAtom(atom(vector(9,9,9), 1, 1))\n",
    "#h2.addAtom(atom(vector(9,9,11),1,1))\n",
    "h2.addBasis(\"STO-3G\")\n",
    "#and a basis set, for now will add default basis of STO-3G for hydrogen to all atoms\n",
    "h2.display()"
   ]
  },
  {
   "cell_type": "code",
   "execution_count": 2,
   "metadata": {
    "scrolled": false
   },
   "outputs": [
    {
     "name": "stdout",
     "output_type": "stream",
     "text": [
      "Overlap Matrix: \n",
      "[[0.99999999 0.6593182 ]\n",
      " [0.6593182  0.99999999]]\n",
      "\n",
      "Electron Kinetic Energy Operator: \n",
      "[[0.76003188 0.23645465]\n",
      " [0.23645465 0.76003188]]\n",
      "\n",
      "Electronic Hamiltonian :\n",
      "[[-1.120409   -0.95837996]\n",
      " [-0.95837996 -1.120409  ]]\n",
      "\n"
     ]
    },
    {
     "data": {
      "image/png": "[encoded data removed]",
      "text/plain": [
       "<Figure size 432x288 with 1 Axes>"
      ]
     },
     "metadata": {
      "needs_background": "light"
     },
     "output_type": "display_data"
    }
   ],
   "source": [
    "#Step 2\n",
    "#Calculate Integrals\n",
    "#Overlap, KE, Nuclear Attraaction, and electron repulsion\n",
    "S = integrals.overlap(h2)\n",
    "print(\"Overlap Matrix: \")\n",
    "print(np.matrix(S))\n",
    "print()\n",
    "\n",
    "T = integrals.kineticEnergy(h2)\n",
    "print(\"Electron Kinetic Energy Operator: \")\n",
    "print(np.matrix(T))\n",
    "print()\n",
    "\n",
    "V = integrals.nuclearAttraction(h2)\n",
    "\n",
    "electronRepulsion = integrals.electronElectronRepulsion(h2)\n",
    "\n",
    "#convert lists into numpy matrices in order to more easily form the electronic hamiltonian\n",
    "H = np.matrix(T)\n",
    "\n",
    "#add in all of the nuclear attractions matricies to the hamiltonian\n",
    "for atom in V:\n",
    "    H += np.matrix(atom)\n",
    "        \n",
    "print(\"Electronic Hamiltonian :\")\n",
    "print(H)\n",
    "print()\n",
    "\n",
    "#print(electronRepulsion[0][0][0][0])\n",
    "#print(electronRepulsion[0][0][1][1])\n",
    "#print(electronRepulsion[1][0][1][1])\n",
    "#print(electronRepulsion[1][0][1][0])"
   ]
  },
  {
   "cell_type": "code",
   "execution_count": 3,
   "metadata": {},
   "outputs": [],
   "source": [
    "#Prepare for the SCF procedure\n",
    "\n",
    "#get size of the basis set \n",
    "size = len(S)\n",
    "\n",
    "#compute the Transformation Matrix\n",
    "X = scf.X(S, size)\n",
    "\n",
    "#get guess Fock matrix\n",
    "F = H"
   ]
  },
  {
   "cell_type": "code",
   "execution_count": 4,
   "metadata": {
    "scrolled": true
   },
   "outputs": [
    {
     "name": "stdout",
     "output_type": "stream",
     "text": [
      "SCF Iteration #1, Energy Value: -1.8310000393482846 Hartrees\n",
      "SCF Iteration #2, Energy Value: -1.8310000393482846 Hartrees\n",
      "SCF Iteration #3, Energy Value: -1.8310000393482846 Hartrees\n"
     ]
    }
   ],
   "source": [
    "# SCF Procedure \n",
    "\n",
    "#init list to store the energy from each iteration\n",
    "#as well as a boolean to store whether or not the energy has converged\n",
    "E = []\n",
    "converged = False\n",
    "\n",
    "while( not converged ):\n",
    "  \n",
    "    #diagnolze the Fock matrix and convert it to MO basis \n",
    "    F = X.transpose() * F * X \n",
    "        \n",
    "   #diagnolize the Fock Matrix to obtain the MOs and the their respective energies\n",
    "    MOEnergy, MO = np.linalg.eig(F)\n",
    "\n",
    "    #Transform the MO basis MOs to an AO basis\n",
    "    C = X * MO\n",
    "    \n",
    "    #compute the electron density, the two electron term, and then use G to compute the new Fock matrix\n",
    "    P = scf.densityMatrix(C, h2.N, size)\n",
    "    G = scf.G(electronRepulsion, P, size)\n",
    "    F = H + G\n",
    "    \n",
    "    #compute the new expectation energy \n",
    "    E.append(scf.expectationEnergy(H, F, P))\n",
    "    \n",
    "    #display information about current SCF iteration to the user\n",
    "    sizeE = len(E)\n",
    "    print(\"SCF Iteration #\" + str(sizeE) + \", Energy Value: \" + str(E[sizeE-1]) + \" Hartrees\")\n",
    "    \n",
    "    #check if at least two SCF iterations have occured\n",
    "    #if more than two have occured, then check if the difference betweeen this E, \n",
    "    #and the previous E is less then the covergence value, if yes, end the SCF loop\n",
    "    if(len(E) > 2):\n",
    "        if(abs(E[sizeE-2] - E[sizeE-1]) < SCF_CONVERGENCE):\n",
    "            converged = True\n",
    "            "
   ]
  }
 ],
 "metadata": {
  "celltoolbar": "Raw Cell Format",
  "kernelspec": {
   "display_name": "Python 3",
   "language": "python",
   "name": "python3"
  },
  "language_info": {
   "codemirror_mode": {
    "name": "ipython",
    "version": 3
   },
   "file_extension": ".py",
   "mimetype": "text/x-python",
   "name": "python",
   "nbconvert_exporter": "python",
   "pygments_lexer": "ipython3",
   "version": "3.7.1"
  }
 },
 "nbformat": 4,
 "nbformat_minor": 2
}
