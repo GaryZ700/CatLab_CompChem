{
 "cells": [
  {
   "cell_type": "code",
   "execution_count": 1,
   "metadata": {},
   "outputs": [
    {
     "ename": "SyntaxError",
     "evalue": "invalid syntax (molecule.py, line 209)",
     "output_type": "error",
     "traceback": [
      "Traceback \u001b[1;36m(most recent call last)\u001b[0m:\n",
      "  File \u001b[0;32m\"A:\\Apps\\MicroConda\\lib\\site-packages\\IPython\\core\\interactiveshell.py\"\u001b[0m, line \u001b[0;32m3267\u001b[0m, in \u001b[0;35mrun_code\u001b[0m\n    exec(code_obj, self.user_global_ns, self.user_ns)\n",
      "\u001b[1;36m  File \u001b[1;32m\"<ipython-input-1-91cae6c433cd>\"\u001b[1;36m, line \u001b[1;32m6\u001b[1;36m, in \u001b[1;35m<module>\u001b[1;36m\u001b[0m\n\u001b[1;33m    from molecule import atom\u001b[0m\n",
      "\u001b[1;36m  File \u001b[1;32m\"C:\\Users\\garyz\\Research\\CatLab_CompChem\\molecule.py\"\u001b[1;36m, line \u001b[1;32m209\u001b[0m\n\u001b[1;33m    for atom in range(len(self.atomData))::\u001b[0m\n\u001b[1;37m                                          ^\u001b[0m\n\u001b[1;31mSyntaxError\u001b[0m\u001b[1;31m:\u001b[0m invalid syntax\n"
     ]
    }
   ],
   "source": [
    "#Python Implementation of the Hartree Fock Method\n",
    "#Procedures listed in the code follow as described in Modern Quantum Chemistry: Introduction to Advanced Electronic Structure Theory, By Attila Szabo and Neil S. Ostlund\n",
    "\n",
    "import math\n",
    "import numpy as np\n",
    "from molecule import atom\n",
    "from molecule import vector\n",
    "from molecule import guassian\n",
    "from molecule import molecule\n",
    "import integrals\n",
    "\n",
    "#print(g3.constant * pow((math.pi/g3.orbitalExponet), 3/2))\t\n",
    "\n",
    "#Step 1\n",
    "#Specify Molecules, Nuclear Coordinates, and Charge of the nucli Number of Electrons,\n",
    "\n",
    "#generate an h2 atom with a distance of 1.4 AU to compare with Szabo pg. 175\n",
    "h2 = molecule()\n",
    "h2.addAtom(atom(vector(), 1, 1))\n",
    "h2.addAtom(atom(vector(.5,.5, 1.208304597), 1, 1))\n",
    "#h2.addAtom(atom(vector(5,0,0),1,1))\n",
    "h2.addBasis(\"STO-3G\")\n",
    "\n",
    "print(len(h2.atomData[1].basisSet.contractedGuassians))\n",
    "\n",
    "#and a basis set, for now will add default basis of STO-3G for hydrogen to all atoms\n"
   ]
  },
  {
   "cell_type": "code",
   "execution_count": null,
   "metadata": {},
   "outputs": [],
   "source": [
    "\n",
    "#Step 2\n",
    "#Calculate Integrals\n",
    "#Overlap, KE, Nuclear Attraaction, Electronb \n",
    "S = integrals.overlap(h2)\n",
    "print(np.matrix(S))"
   ]
  },
  {
   "cell_type": "code",
   "execution_count": null,
   "metadata": {},
   "outputs": [],
   "source": [
    "#Step 3\n",
    "#Dignolize Overlap Matrix and Obtain transformation matrix X\n"
   ]
  },
  {
   "cell_type": "code",
   "execution_count": null,
   "metadata": {},
   "outputs": [],
   "source": [
    "#Step 4\n",
    "#Obtain guess Density matrix, P"
   ]
  },
  {
   "cell_type": "code",
   "execution_count": null,
   "metadata": {},
   "outputs": [],
   "source": [
    "#Step 5 \n",
    "#Calculate Contraction of Density Matrix with Electron Repulsion, G Matrix"
   ]
  },
  {
   "cell_type": "code",
   "execution_count": null,
   "metadata": {},
   "outputs": [],
   "source": [
    "#Step 6\n",
    "#Calculate Fock matrix, core matrix + G matrix"
   ]
  },
  {
   "cell_type": "code",
   "execution_count": null,
   "metadata": {},
   "outputs": [],
   "source": [
    "#Step 7\n",
    "#Using X diagnolize Fock Matrix"
   ]
  },
  {
   "cell_type": "code",
   "execution_count": null,
   "metadata": {},
   "outputs": [],
   "source": [
    "#Step 8\n",
    "#Diagnolize F' to get C' and E'"
   ]
  },
  {
   "cell_type": "code",
   "execution_count": null,
   "metadata": {},
   "outputs": [],
   "source": [
    "#Step 9\n",
    "#Calculate C from C'"
   ]
  },
  {
   "cell_type": "code",
   "execution_count": null,
   "metadata": {},
   "outputs": [],
   "source": [
    "#Step 10\n",
    "#From P for next iteration of HF Procedure"
   ]
  },
  {
   "cell_type": "code",
   "execution_count": null,
   "metadata": {},
   "outputs": [],
   "source": [
    "#Step 11\n",
    "#Determine if current P is close \"enough\" to previos P, \n",
    "#\tif no iterate again start from step 5\n",
    "#\tif yes, then stop iterating, HF procedure completed, and use final C matrix to compute physical properties\n"
   ]
  }
 ],
 "metadata": {
  "kernelspec": {
   "display_name": "Python 3",
   "language": "python",
   "name": "python3"
  },
  "language_info": {
   "codemirror_mode": {
    "name": "ipython",
    "version": 3
   },
   "file_extension": ".py",
   "mimetype": "text/x-python",
   "name": "python",
   "nbconvert_exporter": "python",
   "pygments_lexer": "ipython3",
   "version": "3.7.1"
  }
 },
 "nbformat": 4,
 "nbformat_minor": 2
}
