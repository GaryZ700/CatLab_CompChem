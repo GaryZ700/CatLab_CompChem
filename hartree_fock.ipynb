{
 "cells": [
  {
   "cell_type": "code",
   "execution_count": 1,
   "metadata": {},
   "outputs": [],
   "source": [
    "#Python Implementation of the Hartree Fock Method\n",
    "#Procedures listed in the code follow as described in Modern Quantum Chemistry: Introduction to Advanced Electronic Structure Theory, By Attila Szabo and Neil S. Ostlund\n",
    "\n",
    "import math\n",
    "import numpy as np\n",
    "from molecule import atom\n",
    "from molecule import vector\n",
    "from molecule import guassian\n",
    "from molecule import molecule\n",
    "import integrals\n",
    "\n",
    "#print(g3.constant * pow((math.pi/g3.orbitalExponet), 3/2))\t\n",
    "\n",
    "#Step 1\n",
    "#Specify Molecules, Nuclear Coordinates, and Charge of the nucli Number of Electrons,\n",
    "\n",
    "#generate an h2 atom with a distance of 1.4 AU to compare with Szabo pg. 175\n",
    "h2 = molecule()\n",
    "h2.addAtom(atom(vector(1,1,1), 1, 1))\n",
    "h2.addAtom(atom(vector(1,1,2.4), 2, 1))\n",
    "#h2.addAtom(atom(vector(5,0,0),1,1))\n",
    "h2.addBasis(\"STO-3G\")\n",
    "\n",
    "#and a basis set, for now will add default basis of STO-3G for hydrogen to all atoms\n"
   ]
  },
  {
   "cell_type": "code",
   "execution_count": 2,
   "metadata": {},
   "outputs": [
    {
     "name": "stdout",
     "output_type": "stream",
     "text": [
      "[[0.99999999 0.6593182 ]\n",
      " [0.6593182  0.99999999]]\n",
      "\n",
      "[[0.76003188 0.23645465]\n",
      " [0.23645465 0.76003188]]\n",
      "\n",
      "\n",
      "[[-2.94351086 -1.42062114]\n",
      " [-2.40085071 -2.94351086]]\n",
      "\n",
      "[[-3.8795889  -1.96811926]\n",
      " [-4.27864117 -3.8795889 ]]\n"
     ]
    }
   ],
   "source": [
    "\n",
    "#Step 2\n",
    "#Calculate Integrals\n",
    "#Overlap, KE, Nuclear Attraaction, Electronb \n",
    "S = integrals.overlap(h2)\n",
    "print(np.matrix(S))\n",
    "\n",
    "T = integrals.kineticEnergy(h2)\n",
    "print()\n",
    "print(np.matrix(T))\n",
    "\n",
    "V = integrals.nuclearAttraction(h2)\n",
    "\n",
    "print(\"\\n\")\n",
    "print(np.matrix(V[0]))\n",
    "print()\n",
    "print(np.matrix(V[1]))\n",
    "\n",
    "\n",
    "\n"
   ]
  },
  {
   "cell_type": "code",
   "execution_count": 3,
   "metadata": {},
   "outputs": [],
   "source": [
    "#Step 3\n",
    "#Dignolize Overlap Matrix and Obtain transformation matrix X"
   ]
  },
  {
   "cell_type": "code",
   "execution_count": 4,
   "metadata": {},
   "outputs": [],
   "source": [
    "#Step 4\n",
    "#Obtain guess Density matrix, P"
   ]
  },
  {
   "cell_type": "code",
   "execution_count": 5,
   "metadata": {},
   "outputs": [],
   "source": [
    "#Step 5 \n",
    "#Calculate Contraction of Density Matrix with Electron Repulsion, G Matrix"
   ]
  },
  {
   "cell_type": "code",
   "execution_count": 6,
   "metadata": {},
   "outputs": [],
   "source": [
    "#Step 6\n",
    "#Calculate Fock matrix, core matrix + G matrix"
   ]
  },
  {
   "cell_type": "code",
   "execution_count": 7,
   "metadata": {},
   "outputs": [],
   "source": [
    "#Step 7\n",
    "#Using X diagnolize Fock Matrix"
   ]
  },
  {
   "cell_type": "code",
   "execution_count": 8,
   "metadata": {},
   "outputs": [],
   "source": [
    "#Step 8\n",
    "#Diagnolize F' to get C' and E'"
   ]
  },
  {
   "cell_type": "code",
   "execution_count": 9,
   "metadata": {},
   "outputs": [],
   "source": [
    "#Step 9\n",
    "#Calculate C from C'"
   ]
  },
  {
   "cell_type": "code",
   "execution_count": 10,
   "metadata": {},
   "outputs": [],
   "source": [
    "#Step 10\n",
    "#From P for next iteration of HF Procedure"
   ]
  },
  {
   "cell_type": "code",
   "execution_count": 11,
   "metadata": {},
   "outputs": [],
   "source": [
    "#Step 11\n",
    "#Determine if current P is close \"enough\" to previos P, \n",
    "#\tif no iterate again start from step 5\n",
    "#\tif yes, then stop iterating, HF procedure completed, and use final C matrix to compute physical properties\n"
   ]
  }
 ],
 "metadata": {
  "kernelspec": {
   "display_name": "Python 3",
   "language": "python",
   "name": "python3"
  },
  "language_info": {
   "codemirror_mode": {
    "name": "ipython",
    "version": 3
   },
   "file_extension": ".py",
   "mimetype": "text/x-python",
   "name": "python",
   "nbconvert_exporter": "python",
   "pygments_lexer": "ipython3",
   "version": "3.7.1"
  }
 },
 "nbformat": 4,
 "nbformat_minor": 2
}
