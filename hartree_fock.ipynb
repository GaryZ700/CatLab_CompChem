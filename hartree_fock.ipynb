{
 "cells": [
  {
   "cell_type": "code",
   "execution_count": 1,
   "metadata": {},
   "outputs": [],
   "source": [
    "#Python Implementation of the Hartree Fock Method\n",
    "#Procedures listed in the code follow as described in Modern Quantum Chemistry: Introduction to Advanced Electronic Structure Theory, By Attila Szabo and Neil S. Ostlund\n",
    "\n",
    "import math\n",
    "import numpy as np\n",
    "from molecule import atom\n",
    "from molecule import vector\n",
    "from molecule import guassian\n",
    "from molecule import molecule\n",
    "from notebookImporter import importNotebook\n",
    "\n",
    "#import integrals notebook for the hartree method\n",
    "integrals = importNotebook(\"hartree_integrals\")\n",
    "\n",
    "#Step 1\n",
    "#Specify Molecules, Nuclear Coordinates, and Charge of the nucli Number of Electrons,\n",
    "\n",
    "#generate an h2 atom with a distance of 1.4 AU to compare with Szabo pg. 175\n",
    "h2 = molecule()\n",
    "h2.addAtom(atom(vector(9,9,10.4362), 2, 1))\n",
    "h2.addAtom(atom(vector(9,9,9), 1, 1))\n",
    "#h2.addAtom(atom(vector(5,0,0),1,1))\n",
    "h2.addBasis(\"STO-3G\")\n",
    "#and a basis set, for now will add default basis of STO-3G for hydrogen to all atoms\n"
   ]
  },
  {
   "cell_type": "code",
   "execution_count": 2,
   "metadata": {
    "scrolled": true
   },
   "outputs": [
    {
     "name": "stdout",
     "output_type": "stream",
     "text": [
      "[[0.99999999 0.46399664]\n",
      " [0.46399664 0.99999999]]\n",
      "\n",
      "[[2.12808925 0.17824087]\n",
      " [0.17824087 0.76003188]]\n",
      "\n",
      "[[-4.10503468 -1.13453885]\n",
      " [-1.13453885 -1.28312439]]\n",
      "[[-0.68900078 -0.42851218]\n",
      " [-0.42851218 -1.22661372]]\n",
      "Hamiltonian\n",
      "[[-2.6659462  -1.38481015]\n",
      " [-1.38481015 -1.74970623]]\n",
      "\n",
      "1.2961636355703283\n",
      "0.6125284537887319\n",
      "0.32307524552328676\n",
      "0.18766012834999313\n"
     ]
    },
    {
     "data": {
      "image/png": "[encoded data removed]",
      "text/plain": [
       "<Figure size 432x288 with 1 Axes>"
      ]
     },
     "metadata": {
      "needs_background": "light"
     },
     "output_type": "display_data"
    }
   ],
   "source": [
    "#Step 2\n",
    "#Calculate Integrals\n",
    "#Overlap, KE, Nuclear Attraaction, and electron repulsion\n",
    "S = integrals.overlap(h2)\n",
    "print(np.matrix(S))\n",
    "\n",
    "T = integrals.kineticEnergy(h2)\n",
    "print()\n",
    "print(np.matrix(T))\n",
    "\n",
    "V = integrals.nuclearAttraction(h2)\n",
    "print()\n",
    "\n",
    "electronRepulsion = integrals.electronElectronRepulsion(h2)\n",
    "\n",
    "#convert lists into numpy matrices in order to more easily form the electronic hamiltonian\n",
    "H = np.matrix(T)\n",
    "\n",
    "#add in all of the nuclear attractions matricies to the hamiltonian\n",
    "for atomElectronAttraction in V:\n",
    "    H += np.matrix(atomElectronAttraction)\n",
    "    print(np.matrix(atomElectronAttraction))\n",
    "        \n",
    "print(\"Hamiltonian\")\n",
    "print(H)\n",
    "print()\n",
    "\n",
    "print(electronRepulsion[0][0][0][0])\n",
    "print(electronRepulsion[0][0][1][1])\n",
    "print(electronRepulsion[1][0][1][1])\n",
    "print(electronRepulsion[1][0][1][0])"
   ]
  },
  {
   "cell_type": "code",
   "execution_count": 3,
   "metadata": {},
   "outputs": [],
   "source": [
    "#Step 3\n",
    "#Dignolize Overlap Matrix and obtain transformation matrix X"
   ]
  },
  {
   "cell_type": "code",
   "execution_count": 4,
   "metadata": {},
   "outputs": [],
   "source": [
    "#Step 4\n",
    "#Obtain guess Density matrix, P"
   ]
  },
  {
   "cell_type": "code",
   "execution_count": 5,
   "metadata": {},
   "outputs": [],
   "source": [
    "#Step 5 \n",
    "#Calculate Contraction of Density Matrix with Electron Repulsion, G Matrix"
   ]
  },
  {
   "cell_type": "code",
   "execution_count": 6,
   "metadata": {},
   "outputs": [],
   "source": [
    "#Step 6\n",
    "#Calculate Fock matrix, core matrix + G matrix"
   ]
  },
  {
   "cell_type": "code",
   "execution_count": 7,
   "metadata": {},
   "outputs": [],
   "source": [
    "#Step 7\n",
    "#Using X diagnolize Fock Matrix"
   ]
  },
  {
   "cell_type": "code",
   "execution_count": 8,
   "metadata": {},
   "outputs": [],
   "source": [
    "#Step 8\n",
    "#Diagnolize F' to get C' and E'"
   ]
  },
  {
   "cell_type": "code",
   "execution_count": 9,
   "metadata": {},
   "outputs": [],
   "source": [
    "#Step 9\n",
    "#Calculate C from C'"
   ]
  },
  {
   "cell_type": "code",
   "execution_count": 10,
   "metadata": {},
   "outputs": [],
   "source": [
    "#Step 10\n",
    "#From P for next iteration of HF Procedure"
   ]
  },
  {
   "cell_type": "code",
   "execution_count": 11,
   "metadata": {},
   "outputs": [],
   "source": [
    "#Step 11\n",
    "#Determine if current P is close \"enough\" to previos P, \n",
    "#\tif no iterate again start from step 5\n",
    "#\tif yes, then stop iterating, HF procedure completed, and use final C matrix to compute physical properties\n"
   ]
  }
 ],
 "metadata": {
  "celltoolbar": "Raw Cell Format",
  "kernelspec": {
   "display_name": "Python 3",
   "language": "python",
   "name": "python3"
  },
  "language_info": {
   "codemirror_mode": {
    "name": "ipython",
    "version": 3
   },
   "file_extension": ".py",
   "mimetype": "text/x-python",
   "name": "python",
   "nbconvert_exporter": "python",
   "pygments_lexer": "ipython3",
   "version": "3.7.1"
  }
 },
 "nbformat": 4,
 "nbformat_minor": 2
}
