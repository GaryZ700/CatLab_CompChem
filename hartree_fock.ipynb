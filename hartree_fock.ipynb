{
 "cells": [
  {
   "cell_type": "code",
   "execution_count": 1,
   "metadata": {},
   "outputs": [
    {
     "name": "stdout",
     "output_type": "stream",
     "text": [
      "Molecule\n",
      "Basis Set: 6-21G\n",
      "Total Number of Electrons: 2\n",
      "Atoms: \n",
      "     Atomic Number: 2, Electrons: 2, Coordinate: X: 1 Y: 1 Z: 1\n"
     ]
    }
   ],
   "source": [
    "#Python Implementation of the Hartree Fock Method\n",
    "#Procedures listed in the code follow as described in Modern Quantum Chemistry: \n",
    "#Introduction to Advanced Electronic Structure Theory, By Attila Szabo and Neil S. Ostlund\n",
    "import math\n",
    "import sys\n",
    "import numpy as np\n",
    "from molecule import atom\n",
    "from molecule import vector\n",
    "from molecule import guassian\n",
    "from molecule import molecule\n",
    "from notebookImporter import importNotebook\n",
    "\n",
    "#import integrals notebook for the hartree method\n",
    "integrals = importNotebook(\"hartree_integrals\")\n",
    "scf = importNotebook(\"hartree_scf\")\n",
    "\n",
    "#define SCF convergence critera, and max number of iteration cycles\n",
    "SCF_CONVERGENCE = pow(10, -100)\n",
    "MAX_ITERATIONS = 100\n",
    "\n",
    "#Step 1\n",
    "#Specify Molecules, Nuclear Coordinates, and Charge of the nucli Number of Electrons,\n",
    "\n",
    "#generate an h2 atom with a distance of 1.4 AU to compare with Szabo pg. 160\n",
    "R = 1.4\n",
    "system = molecule()\n",
    "system.addAtom(atom(vector(1,1,1), 2, 2))\n",
    "#system.addAtom(atom(vector(1,1,1+R), 1,1))\n",
    "\n",
    "#add a basis set\n",
    "system.addBasis(\"6-21G\")\n",
    "\n",
    "system.display()"
   ]
  },
  {
   "cell_type": "code",
   "execution_count": 2,
   "metadata": {
    "scrolled": false
   },
   "outputs": [
    {
     "name": "stdout",
     "output_type": "stream",
     "text": [
      "Overlap Matrix: \n",
      "[[1.         0.59521595]\n",
      " [0.59521595 1.        ]]\n",
      "\n",
      "Electron Kinetic Energy Matrix: \n",
      "[[3.9161238 0.5789494]\n",
      " [0.5789494 0.5744895]]\n",
      "\n",
      "Nucli 0-Electron Attraction Matrix: \n",
      "[[-5.48968847 -2.23529223]\n",
      " [-2.23529223 -1.97512902]]\n",
      "\n",
      "Electron Repulsion Tensor: \n",
      "[[[[1.80325459 0.87650682]\n",
      "   [0.87650682 0.91700828]]\n",
      "\n",
      "  [[0.87650682 0.45207726]\n",
      "   [0.45207726 0.51467807]]]\n",
      "\n",
      "\n",
      " [[[0.87650682 0.45207726]\n",
      "   [0.45207726 0.51467807]]\n",
      "\n",
      "  [[0.91700828 0.51467807]\n",
      "   [0.51467807 0.69831356]]]]\n",
      "\n",
      "Electronic Hamiltonian :\n",
      "[[-1.57356468 -1.65634283]\n",
      " [-1.65634283 -1.40063952]]\n",
      "\n"
     ]
    }
   ],
   "source": [
    "#Step 2\n",
    "#Calculate Integrals\n",
    "#Overlap, KE, Nuclear Attraaction, and electron repulsion\n",
    "S = integrals.overlap(system)\n",
    "print(\"Overlap Matrix: \")\n",
    "print(np.matrix(S))\n",
    "print()\n",
    "\n",
    "T = integrals.kineticEnergy(system)\n",
    "print(\"Electron Kinetic Energy Matrix: \")\n",
    "print(np.matrix(T))\n",
    "print()\n",
    "\n",
    "V = integrals.nuclearAttraction(system)\n",
    "for index, atom in enumerate(V):\n",
    "    print(\"Nucli \" + str(index) + \"-Electron Attraction Matrix: \")\n",
    "    print(np.matrix(atom))\n",
    "print()\n",
    "\n",
    "electronRepulsion = integrals.electronElectronRepulsion(system)\n",
    "print(\"Electron Repulsion Tensor: \")\n",
    "print(np.array(electronRepulsion))\n",
    "print()\n",
    "\n",
    "#Form the electronic hamiltonian\n",
    "H = np.matrix(T)\n",
    "\n",
    "#add in all of the nuclear attractions matricies to the hamiltonian\n",
    "for atom in V:\n",
    "    H += np.matrix(atom)\n",
    "        \n",
    "print(\"Electronic Hamiltonian :\")\n",
    "print(H)\n",
    "print()"
   ]
  },
  {
   "cell_type": "code",
   "execution_count": 3,
   "metadata": {},
   "outputs": [],
   "source": [
    "#Prepare for the SCF procedure\n",
    "\n",
    "#get size of the basis set \n",
    "size = len(S)\n",
    "\n",
    "#compute the Transformation Matrix\n",
    "X = scf.X(S, size)\n",
    "\n",
    "#get guess Fock matrix, assume 2-electron term is equal to 0\n",
    "F = H"
   ]
  },
  {
   "cell_type": "code",
   "execution_count": 4,
   "metadata": {
    "scrolled": true
   },
   "outputs": [
    {
     "name": "stdout",
     "output_type": "stream",
     "text": [
      "SCF Iteration #1, Electronic Energy: -2.7351099044716616 Hartrees, Total Energy: -2.7351099044716616 Hartrees\n",
      "SCF Iteration #2, Electronic Energy: -2.835262969514034 Hartrees, Total Energy: -2.835262969514034 Hartrees\n",
      "SCF Iteration #3, Electronic Energy: -2.835678080552964 Hartrees, Total Energy: -2.835678080552964 Hartrees\n",
      "SCF Iteration #4, Electronic Energy: -2.8356798659098947 Hartrees, Total Energy: -2.8356798659098947 Hartrees\n",
      "SCF Iteration #5, Electronic Energy: -2.835679873607232 Hartrees, Total Energy: -2.835679873607232 Hartrees\n",
      "SCF Iteration #6, Electronic Energy: -2.835679873640423 Hartrees, Total Energy: -2.835679873640423 Hartrees\n",
      "SCF Iteration #7, Electronic Energy: -2.8356798736405664 Hartrees, Total Energy: -2.8356798736405664 Hartrees\n",
      "SCF Iteration #8, Electronic Energy: -2.835679873640567 Hartrees, Total Energy: -2.835679873640567 Hartrees\n",
      "SCF Iteration #9, Electronic Energy: -2.8356798736405677 Hartrees, Total Energy: -2.8356798736405677 Hartrees\n",
      "SCF Iteration #10, Electronic Energy: -2.8356798736405673 Hartrees, Total Energy: -2.8356798736405673 Hartrees\n",
      "SCF Iteration #11, Electronic Energy: -2.835679873640567 Hartrees, Total Energy: -2.835679873640567 Hartrees\n",
      "SCF Iteration #12, Electronic Energy: -2.835679873640566 Hartrees, Total Energy: -2.835679873640566 Hartrees\n",
      "SCF Iteration #13, Electronic Energy: -2.835679873640567 Hartrees, Total Energy: -2.835679873640567 Hartrees\n",
      "SCF Iteration #14, Electronic Energy: -2.8356798736405664 Hartrees, Total Energy: -2.8356798736405664 Hartrees\n",
      "SCF Iteration #15, Electronic Energy: -2.835679873640567 Hartrees, Total Energy: -2.835679873640567 Hartrees\n",
      "SCF Iteration #16, Electronic Energy: -2.8356798736405664 Hartrees, Total Energy: -2.8356798736405664 Hartrees\n",
      "SCF Iteration #17, Electronic Energy: -2.8356798736405664 Hartrees, Total Energy: -2.8356798736405664 Hartrees\n"
     ]
    }
   ],
   "source": [
    "# SCF Procedure \n",
    "\n",
    "#init list to store the energy from each iteration\n",
    "#as well as a boolean to signify whether the loop has converged\n",
    "E = []\n",
    "converged = False\n",
    "\n",
    "while( not converged ):\n",
    "  \n",
    "    #diagnolze the Fock matrix and convert it to MO basis \n",
    "    F = X.transpose() * F * X \n",
    "    \n",
    "   #diagnolize the Fock Matrix to obtain the MOs and the their respective energies\n",
    "    MOEnergy, MO = np.linalg.eigh(F)\n",
    "\n",
    "    #Transform the MO basis MOs to an AO basis\n",
    "    C = X * MO\n",
    "    \n",
    "    #compute the electron density, the two electron term, and then use G to compute the new Fock matrix\n",
    "    P = scf.densityMatrix(C, system.N, size)\n",
    "    G = scf.G(electronRepulsion, P, size)\n",
    "    F = H + G\n",
    "    \n",
    "    #compute the new expectation energy \n",
    "    E.append(scf.expectationEnergy(H, F, P))\n",
    "    \n",
    "    #check if at least two SCF iterations have occured\n",
    "    #if more than two have occured, then check if the difference betweeen this E, \n",
    "    #and the previous E is less then the covergence value, if yes, end the SCF loop\n",
    "    #if energy has not converged, check whether the max number of iterations have occured so far\n",
    "    sizeE = len(E)\n",
    "    if(len(E) > 2):\n",
    "        if(abs(E[sizeE-2] - E[sizeE-1]) < SCF_CONVERGENCE):\n",
    "            converged = True\n",
    "        elif(sizeE > MAX_ITERATIONS):\n",
    "            print(\"SCF Failed to Converge\")\n",
    "            break\n",
    "    \n",
    "    #compute total energy of the system including nuclear-nuclear repulsion\n",
    "    totalE = E[sizeE-1] + scf.nuclearRepulsion(system)\n",
    "    \n",
    "    #display information about current SCF iteration to the user\n",
    "    print(\"SCF Iteration #\" + str(sizeE) + \", Electronic Energy: \" + str(E[sizeE-1]) + \" Hartrees, Total Energy: \" + str(totalE) + \" Hartrees\")"
   ]
  }
 ],
 "metadata": {
  "celltoolbar": "Raw Cell Format",
  "kernelspec": {
   "display_name": "Python 3",
   "language": "python",
   "name": "python3"
  },
  "language_info": {
   "codemirror_mode": {
    "name": "ipython",
    "version": 3
   },
   "file_extension": ".py",
   "mimetype": "text/x-python",
   "name": "python",
   "nbconvert_exporter": "python",
   "pygments_lexer": "ipython3",
   "version": "3.7.1"
  }
 },
 "nbformat": 4,
 "nbformat_minor": 2
}
