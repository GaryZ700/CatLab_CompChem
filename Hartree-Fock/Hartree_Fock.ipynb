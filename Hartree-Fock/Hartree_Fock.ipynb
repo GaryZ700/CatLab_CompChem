{
 "cells": [
  {
   "cell_type": "markdown",
   "metadata": {},
   "source": [
    "## Main Hartree Code\n",
    "<br>\n",
    "Hartree-Fock Computational Chemistry Method implemented in Python as described in <u>Modern Quantum Chemistry Introduction to Advanced Electronic Structure Theory</u>, by Attila Szabo and Neil S. Ostlund. <br> <br>\n",
    "Throughout the rest of the modules in this notebook, the entire text of Modern Quantum Chemistry will simply be refered to as \"Szabo\" for the sake of brevity. \n",
    "<br> <br>\n",
    "Program is limited to molecules consisting of hydrogen and helium with only even numbers of electrons. Required user input is the atomic number, 3D space location, and electron number for each atom. A basis set specification is also required. <br>\n",
    "<br>\n",
    "The program makes use of Hartree Atomic Units such that the distances and lengths are described in Bohr Radius, energy is in Hartrees and mass is in Hartree Atomic Units, such that the mass of a proton is equal to 1836 atomic units. More information on Hartree Atomic Units can be found on page 41 of Szabo. "
   ]
  },
  {
   "cell_type": "code",
   "execution_count": 1,
   "metadata": {},
   "outputs": [
    {
     "name": "stdout",
     "output_type": "stream",
     "text": [
      "Molecule\n",
      "Basis Set: STO-3G\n",
      "Total Number of Electrons: 2\n",
      "Atoms: \n",
      "     Atomic Number: 1, Electrons: 1, Coordinate: X: 1 Y: 1 Z: 1\n",
      "     Atomic Number: 1, Electrons: 1, Coordinate: X: 1 Y: 1 Z: 2.4\n"
     ]
    }
   ],
   "source": [
    "#Python Implementation of the Hartree Fock Method\n",
    "#Procedures listed in the code follow as described in Modern Quantum Chemistry: \n",
    "#Introduction to Advanced Electronic Structure Theory, By Attila Szabo and Neil S. Ostlund\n",
    "import math\n",
    "import sys\n",
    "import numpy as np\n",
    "from molecule import atom\n",
    "from molecule import vector\n",
    "from molecule import gaussian\n",
    "from molecule import molecule\n",
    "from notebookImporter import importNotebook\n",
    "\n",
    "#import integrals notebook for the hartree method\n",
    "integrals = importNotebook(\"Hartree_Integrals\")\n",
    "scf = importNotebook(\"Hartree_SCF\")\n",
    "\n",
    "#define SCF convergence critera, and max number of iteration cycles\n",
    "SCF_CONVERGENCE = pow(10, -100)\n",
    "MAX_ITERATIONS = 100\n",
    "\n",
    "#Step 1\n",
    "#Specify Molecules, Nuclear Coordinates, and Charge of the nucli Number of Electrons,\n",
    "\n",
    "#generate an h2 atom with a distance of 1.4 AU to compare with Szabo pg. 160\n",
    "\n",
    "#R is in units of Bohr Radius \n",
    "R = 1.4\n",
    "system = molecule()\n",
    "system.addAtom(atom(vector(1,1,1), 1, 1))\n",
    "system.addAtom(atom(vector(1,1,1 + R), 1, 1))\n",
    "\n",
    "#add a basis set\n",
    "system.addBasis(\"STO-3G\")\n",
    "\n",
    "system.display()"
   ]
  },
  {
   "cell_type": "code",
   "execution_count": 2,
   "metadata": {
    "scrolled": true
   },
   "outputs": [
    {
     "name": "stdout",
     "output_type": "stream",
     "text": [
      "Overlap Matrix: \n",
      "[[1.         0.65931821]\n",
      " [0.65931821 1.        ]]\n",
      "\n",
      "Electron Kinetic Energy Matrix: \n",
      "[[0.76003188 0.23645466]\n",
      " [0.23645466 0.76003188]]\n",
      "\n",
      "Nucli 0-Electron Attraction Matrix: \n",
      "[[-1.22661373 -0.59741731]\n",
      " [-0.59741731 -0.65382716]]\n",
      "Nucli 1-Electron Attraction Matrix: \n",
      "[[-0.65382716 -0.59741731]\n",
      " [-0.59741731 -1.22661373]]\n",
      "\n",
      "Electron Repulsion Tensor: \n",
      "[[[[0.77460594 0.44410766]\n",
      "   [0.44410766 0.56967593]]\n",
      "\n",
      "  [[0.44410766 0.29702854]\n",
      "   [0.29702854 0.44410766]]]\n",
      "\n",
      "\n",
      " [[[0.44410766 0.29702854]\n",
      "   [0.29702854 0.44410766]]\n",
      "\n",
      "  [[0.56967593 0.44410766]\n",
      "   [0.44410766 0.77460594]]]]\n",
      "\n",
      "Electronic Hamiltonian :\n",
      "[[-1.12040901 -0.95837996]\n",
      " [-0.95837996 -1.12040901]]\n",
      "\n"
     ]
    }
   ],
   "source": [
    "#Step 2\n",
    "#Calculate Integrals\n",
    "#Overlap, KE, Nuclear Attraaction, and Electron Repulsion\n",
    "S = integrals.overlap(system)\n",
    "print(\"Overlap Matrix: \")\n",
    "print(np.matrix(S))\n",
    "print()\n",
    "\n",
    "T = integrals.kineticEnergy(system)\n",
    "print(\"Electron Kinetic Energy Matrix: \")\n",
    "print(np.matrix(T))\n",
    "print()\n",
    "\n",
    "V = integrals.nuclearAttraction(system)\n",
    "for index, atom in enumerate(V):\n",
    "    print(\"Nucli \" + str(index) + \"-Electron Attraction Matrix: \")\n",
    "    print(np.matrix(atom))\n",
    "print()\n",
    "\n",
    "electronRepulsion = integrals.electronElectronRepulsion(system)\n",
    "print(\"Electron Repulsion Tensor: \")\n",
    "print(np.array(electronRepulsion))\n",
    "print()\n",
    "\n",
    "#Form the electronic hamiltonian\n",
    "H = np.matrix(T)\n",
    "\n",
    "#add in all of the nuclear attractions matricies to the hamiltonian\n",
    "for atom in V:\n",
    "    H += np.matrix(atom)\n",
    "        \n",
    "print(\"Electronic Hamiltonian :\")\n",
    "print(H)\n",
    "print()"
   ]
  },
  {
   "cell_type": "code",
   "execution_count": 3,
   "metadata": {},
   "outputs": [],
   "source": [
    "#Prepare for the SCF procedure\n",
    "\n",
    "#get size of the basis set \n",
    "size = len(S)\n",
    "\n",
    "#compute the Transformation Matrix\n",
    "X = scf.X(S, size)\n",
    "\n",
    "#get guess Fock matrix, assume 2-electron term is equal to 0\n",
    "F = H"
   ]
  },
  {
   "cell_type": "code",
   "execution_count": 4,
   "metadata": {
    "scrolled": true
   },
   "outputs": [
    {
     "name": "stdout",
     "output_type": "stream",
     "text": [
      "SCF Iteration #1, Electronic Energy: -1.8310000394614832 Hartrees, Total Energy: -1.116714325175769 Hartrees\n",
      "SCF Iteration #2, Electronic Energy: -1.8310000394614832 Hartrees, Total Energy: -1.116714325175769 Hartrees\n",
      "SCF Iteration #3, Electronic Energy: -1.8310000394614832 Hartrees, Total Energy: -1.116714325175769 Hartrees\n",
      "--------------------------------------------------\n",
      "\n",
      "Final SCF Energy: -1.8310000394614832\n",
      "\n",
      "[-0.57820298  0.67026776]\n",
      "[[-1.12040901 -0.95837996]\n",
      " [-0.95837996 -1.12040901]]\n"
     ]
    }
   ],
   "source": [
    "# SCF Procedure \n",
    "\n",
    "#init list to store the energy from each iteration\n",
    "#as well as a boolean to signify whether the loop has converged\n",
    "E = []\n",
    "converged = False\n",
    "\n",
    "while( not converged ):\n",
    "  \n",
    "    #diagnolze the Fock matrix and convert it to MO basis \n",
    "    F = X.transpose() * F * X \n",
    "    \n",
    "    #diagnolize the Fock Matrix to obtain the MOs and the their respective energies\n",
    "    MOEnergy, MO = np.linalg.eigh(F)\n",
    "    \n",
    "    #Transform the MO basis MOs to an AO basis\n",
    "    C = X * MO\n",
    "    \n",
    "    #compute the electron density, the two electron term, and then use G to compute the new Fock matrix\n",
    "    P = scf.densityMatrix(C, system.N, size)\n",
    "    G = scf.G(electronRepulsion, P, size)\n",
    "    F = H + G\n",
    "    \n",
    "    #compute the new expectation energy\n",
    "    #Expectation Energy is in units of Hartrees\n",
    "    E.append(scf.expectationEnergy(H, F, P))\n",
    "    \n",
    "    #check if at least two SCF iterations have occured\n",
    "    #if more than two have occured, then check if the difference betweeen this E, \n",
    "    #and the previous E is less then the covergence value, if yes, end the SCF loop\n",
    "    #if energy has not converged, check whether the max number of iterations have occured so far\n",
    "    sizeE = len(E)\n",
    "    if(len(E) > 2):\n",
    "        if(abs(E[sizeE-2] - E[sizeE-1]) < SCF_CONVERGENCE):\n",
    "            converged = True\n",
    "        elif(sizeE > MAX_ITERATIONS):\n",
    "            print(\"SCF Failed to Converge\")\n",
    "            break\n",
    "    \n",
    "    #compute total energy of the system including nuclear-nuclear repulsion\n",
    "    totalE = E[sizeE-1] + scf.nuclearRepulsion(system)\n",
    "    \n",
    "    #display information about current SCF iteration to the user\n",
    "    print(\"SCF Iteration #\" + str(sizeE) + \", Electronic Energy: \" + str(E[sizeE-1]) + \" Hartrees, Total Energy: \" + str(totalE) + \" Hartrees\")\n",
    "    \n",
    "print(\"-\"*50)\n",
    "print()\n",
    "print(\"Final SCF Energy: \" + str(E[sizeE-1]))\n",
    "print()\n",
    "print(MOEnergy)\n",
    "print(H)"
   ]
  }
 ],
 "metadata": {
  "celltoolbar": "Raw Cell Format",
  "kernelspec": {
   "display_name": "Python 3",
   "language": "python",
   "name": "python3"
  },
  "language_info": {
   "codemirror_mode": {
    "name": "ipython",
    "version": 3
   },
   "file_extension": ".py",
   "mimetype": "text/x-python",
   "name": "python",
   "nbconvert_exporter": "python",
   "pygments_lexer": "ipython3",
   "version": "3.7.3"
  }
 },
 "nbformat": 4,
 "nbformat_minor": 2
}
