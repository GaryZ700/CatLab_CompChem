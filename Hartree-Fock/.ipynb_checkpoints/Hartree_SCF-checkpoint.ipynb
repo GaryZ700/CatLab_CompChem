{
 "cells": [
  {
   "cell_type": "markdown",
   "metadata": {},
   "source": [
    "## Self Consistent Field Procedure (SCF)\n",
    "\n",
    "<p>\n",
    "   <br />\n",
    "    The self consistent field procedure, (SCF), in the Hartree-Fock method is used to generate the molecular orbitals, (MOs), and their eigenvalues from an intial guess. The guess in this program is the most simple, and involves using the electronic hamiltonian as the starting point for the SCF. Once the MOs and their energies have been computed, they are used to generate the density matrix $P$, which is then used to construct the the electron portion of the Fock matrix, $G$. A new Fock matrix is then computed from $F=H+G$. This new Fock matrix is used again from the beginning of the SCF procedure to compute another set of MOs and energies. The expectation energy of the previous iteration is then computed and compared to the electronic expectation energy of the current iteration to determine if the two values are within a certain range of each other. If they are, the values are said to have converged and the procedure ends, if not, then the procedure will continue with other iterations in a similar fashion until convergence is reached, and the molecular orbitals and the expectation energy of the system are as accurate as the theory can compute. \n",
    "   <br />\n",
    "</p>   \n",
    "\n",
    "<br>\n",
    "\n",
    "## Density Matrix\n",
    "\n",
    "<p>\n",
    "    <br />\n",
    "    The density matrix represents which MO contains the largest portion of the electronic density. It is computed as follows from the Fock matrix $F$ as follows:\n",
    "    $$ P_{\\mu v}=2\\sum_{a}^{N/2}{C_{\\mu a}C^{*}_{va}} $$\n",
    "  Where $C$ refers to the respective MO of the molecuar system that is acquired from the eigen vectors of the MO basis Fock matrix, which are then transformed back into AO basis. $N$ refers to the total number of electrons in the molecular system, and this equation forces all molecuar systems used with this program to be closed-shell, and contain only even numbers of electrons. \n",
    "  \n",
    "Located on Szabo Pg. 139 & 163.  \n",
    "</p>    "
   ]
  },
  {
   "cell_type": "code",
   "execution_count": 1,
   "metadata": {},
   "outputs": [],
   "source": [
    "import numpy as np\n",
    "\n",
    "def densityMatrix(C, N, size):\n",
    "    \n",
    "    P = np.zeros([size, size])\n",
    "    \n",
    "    #iterate through all indexes of the density matrix\n",
    "    for u in range(size):\n",
    "        for v in range(size):\n",
    "            \n",
    "            for a in range(int(N/2)):\n",
    "                P[u, v] += 2 * C[u,a] * C[v, a]\n",
    "    return P"
   ]
  },
  {
   "cell_type": "markdown",
   "metadata": {},
   "source": [
    "## Two Electron Term\n",
    "\n",
    "<p>\n",
    "    <br />\n",
    "    The two electron term relates the electron density and the electron-electron repulsion term together, which are then used to generate the next Fock matrix, allowing the Fock matrix to become a function of the electron density. This allows for the iterative nature of the SCF procedure, as each Fock matrix is based upon the electron density of the previous Fock matrix. The two electron term is referred to as the $G$ matrix, and is computed as follows:\n",
    "    $$ G_{\\mu v} = \\sum_{\\lambda\\sigma}{P_{\\lambda\\sigma}[ (\\mu v|\\sigma\\lambda) - \\dfrac{1}{2}(\\mu\\lambda|\\sigma v) ]} $$ $(\\mu v|\\sigma\\lambda)$ is equal to the electron-electron repulsion matrix at the coressponding indexes.\n",
    "    \n",
    "</p>    "
   ]
  },
  {
   "cell_type": "code",
   "execution_count": 2,
   "metadata": {},
   "outputs": [],
   "source": [
    "def G(electronRepulsion, P, size):\n",
    "    \n",
    "    #init G matrix \n",
    "    G = np.zeros([size, size])\n",
    "    \n",
    "    #loop over all the required indexes to generate the G matrix\n",
    "    for u in range(size):\n",
    "        for v in range(size):\n",
    "            for y in range(size):\n",
    "                for s in range(size):\n",
    "                    \n",
    "                    G[u, v] += P[y, s] * (electronRepulsion[u][v][s][y] - ( 0.5 * electronRepulsion[u][y][s][v] ) )                \n",
    "    return G"
   ]
  },
  {
   "cell_type": "markdown",
   "metadata": {},
   "source": [
    "## Transformation Matrix\n",
    "\n",
    "<p>\n",
    "    <br/>\n",
    "    The transformation matrix $X$ is computed from the atomic orbital overlap matrix $S$, and is used to transform the orbitals from atomic orbitals to molecular orbitals, since the overlap provides the overlap of atomic orbitals and thus strength of any molecular orbitals that have formed. The transformation matrix is obtained by orthagnolization of the basis is performed through the <i>Canonical Orthogonalization</i> method which uses the following equation:  \n",
    "    \n",
    "   $$X_{ij} = \\frac{U_{ij}}{s^{1/2}_j}   $$\n",
    "   $U_{ij}$ refers to a the eigen vector matrix of the $S$, while $s_j$ refers to the eigen values of the overlap matrix. Numpy is utilized in the diagnolization of $S$.\n",
    "\n",
    "Located on Szabo Pg. 16 & 173\n",
    "\n",
    "</p>    "
   ]
  },
  {
   "cell_type": "code",
   "execution_count": 3,
   "metadata": {},
   "outputs": [],
   "source": [
    "def X(S, size):\n",
    "    \n",
    "    #init transformation matrix \n",
    "    X = np.zeros([size, size])\n",
    "    \n",
    "    #diagnolize S to obtain eigenvalues and vector\n",
    "    eigenValues, eigenVectors = np.linalg.eigh(S)\n",
    "    \n",
    "    X = eigenVectors * (eigenValues ** -0.5)\n",
    "    \n",
    "    return X"
   ]
  },
  {
   "cell_type": "markdown",
   "metadata": {},
   "source": [
    "## Expectation Energy \n",
    "\n",
    "<p>\n",
    "    <br />\n",
    "    The expectation enegy is the energy of the system that can be computed from the SCF's iteration density, fock, and hamiltonian matrix. It is computed as follows: \n",
    "    $$ \\dfrac{1}{2}\\sum_{\\mu}{\\sum_{v}{P_{v\\mu}(H^{core}_{\\mu v} + F_{\\mu v})}} $$\n",
    "</p>    "
   ]
  },
  {
   "cell_type": "code",
   "execution_count": 4,
   "metadata": {},
   "outputs": [],
   "source": [
    "def expectationEnergy(H, F, P):\n",
    "    \n",
    "    #get size and init E to 0\n",
    "    size = len(H)\n",
    "    E = 0\n",
    "    \n",
    "    #iterate through all indexes needed\n",
    "    for u in range(size):\n",
    "        for v in range(size):\n",
    "               E += P[v, u] * (H[u, v] + F[u, v] )\n",
    "    return E * 0.5"
   ]
  },
  {
   "cell_type": "markdown",
   "metadata": {},
   "source": [
    "## Nuclear-Nuclear Repulsion\n",
    "\n",
    "<p>\n",
    "    <br />\n",
    "    The amount of comlumbic repulsion two nucli will experiance due to their positive charges. Equation on page 165 of Szabo.\n",
    "    $$ V_{ij} = \\dfrac{Z_{i}Z_{j}}{|r_i - r_j|} $$\n",
    "</p>    "
   ]
  },
  {
   "cell_type": "code",
   "execution_count": 5,
   "metadata": {},
   "outputs": [],
   "source": [
    "def nuclearRepulsion(molecule):\n",
    "    \n",
    "    repulsion = 0\n",
    "    \n",
    "    #iterate through all atoms present\n",
    "    for atom1 in molecule.atomData:\n",
    "        for atom2 in molecule.atomData:\n",
    "        \n",
    "            if(atom1 == atom2):\n",
    "                continue\n",
    "                \n",
    "            repulsion += (atom1.Z * atom2.Z) / (atom1.coord - atom2.coord).magnitude()\n",
    "            \n",
    "    return repulsion * 0.5"
   ]
  }
 ],
 "metadata": {
  "kernelspec": {
   "display_name": "Python 3",
   "language": "python",
   "name": "python3"
  },
  "language_info": {
   "codemirror_mode": {
    "name": "ipython",
    "version": 3
   },
   "file_extension": ".py",
   "mimetype": "text/x-python",
   "name": "python",
   "nbconvert_exporter": "python",
   "pygments_lexer": "ipython3",
   "version": "3.7.3"
  }
 },
 "nbformat": 4,
 "nbformat_minor": 2
}
