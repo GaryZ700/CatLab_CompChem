{
 "cells": [
  {
   "cell_type": "code",
   "execution_count": 1,
   "metadata": {
    "scrolled": false
   },
   "outputs": [
    {
     "name": "stdout",
     "output_type": "stream",
     "text": [
      "\n",
      "Hartree-Fock Computation: 44.0%\n",
      "Hartree-Fock Computation: 44.0%\n",
      "Hartree-Fock Computation: 45.0%\n",
      "Hartree-Fock Computation: 46.0%\n",
      "Hartree-Fock Computation: 46.0%\n",
      "Hartree-Fock Computation: 47.0%\n",
      "Hartree-Fock Computation: 47.0%\n",
      "Hartree-Fock Computation: 48.0%\n",
      "Hartree-Fock Computation: 48.0%\n",
      "Hartree-Fock Computation: 49.0%\n",
      "Hartree-Fock Computation: 50.0%\n",
      "Hartree-Fock Computation: 50.0%\n",
      "Hartree-Fock Computation: 51.0%\n",
      "Hartree-Fock Computation: 51.0%\n",
      "Hartree-Fock Computation: 52.0%\n",
      "Hartree-Fock Computation: 52.0%\n",
      "Hartree-Fock Computation: 53.0%\n",
      "Hartree-Fock Computation: 53.0%\n",
      "Hartree-Fock Computation: 54.0%\n",
      "Hartree-Fock Computation: 55.0%\n",
      "Hartree-Fock Computation: 55.0%\n",
      "Hartree-Fock Computation: 56.0%\n",
      "Hartree-Fock Computation: 56.0%\n",
      "Hartree-Fock Computation: 57.0%\n",
      "Hartree-Fock Computation: 57.0%\n",
      "Hartree-Fock Computation: 58.0%\n",
      "Hartree-Fock Computation: 58.0%\n",
      "Hartree-Fock Computation: 59.0%\n",
      "Hartree-Fock Computation: 60.0%\n",
      "Hartree-Fock Computation: 60.0%\n",
      "Hartree-Fock Computation: 61.0%\n",
      "Hartree-Fock Computation: 61.0%\n",
      "Hartree-Fock Computation: 62.0%\n",
      "Hartree-Fock Computation: 62.0%\n",
      "Hartree-Fock Computation: 63.0%\n",
      "Hartree-Fock Computation: 63.0%\n",
      "Hartree-Fock Computation: 64.0%\n",
      "Hartree-Fock Computation: 65.0%\n",
      "Hartree-Fock Computation: 65.0%\n",
      "Hartree-Fock Computation: 66.0%\n",
      "Hartree-Fock Computation: 66.0%\n",
      "Hartree-Fock Computation: 67.0%\n",
      "Hartree-Fock Computation: 67.0%\n",
      "Hartree-Fock Computation: 68.0%\n",
      "Hartree-Fock Computation: 68.0%\n",
      "Hartree-Fock Computation: 69.0%\n",
      "Hartree-Fock Computation: 70.0%\n",
      "Hartree-Fock Computation: 70.0%\n",
      "Hartree-Fock Computation: 71.0%\n",
      "Hartree-Fock Computation: 71.0%\n",
      "Hartree-Fock Computation: 72.0%\n",
      "Hartree-Fock Computation: 72.0%\n",
      "Hartree-Fock Computation: 73.0%\n",
      "Hartree-Fock Computation: 73.0%\n",
      "Hartree-Fock Computation: 74.0%\n",
      "Hartree-Fock Computation: 75.0%\n",
      "Hartree-Fock Computation: 75.0%\n",
      "Hartree-Fock Computation: 76.0%\n",
      "Hartree-Fock Computation: 76.0%\n",
      "Hartree-Fock Computation: 77.0%\n",
      "Hartree-Fock Computation: 77.0%\n",
      "Hartree-Fock Computation: 78.0%\n",
      "Hartree-Fock Computation: 78.0%\n",
      "Hartree-Fock Computation: 79.0%\n",
      "Hartree-Fock Computation: 80.0%\n",
      "Hartree-Fock Computation: 80.0%\n",
      "Hartree-Fock Computation: 81.0%\n",
      "Hartree-Fock Computation: 81.0%\n",
      "Hartree-Fock Computation: 82.0%\n",
      "Hartree-Fock Computation: 82.0%\n",
      "Hartree-Fock Computation: 83.0%\n",
      "Hartree-Fock Computation: 83.0%\n",
      "Hartree-Fock Computation: 84.0%\n",
      "Hartree-Fock Computation: 85.0%\n",
      "Hartree-Fock Computation: 85.0%\n",
      "Hartree-Fock Computation: 86.0%\n",
      "Hartree-Fock Computation: 86.0%\n",
      "Hartree-Fock Computation: 87.0%\n",
      "Hartree-Fock Computation: 87.0%\n",
      "Hartree-Fock Computation: 88.0%\n",
      "Hartree-Fock Computation: 88.0%\n",
      "Hartree-Fock Computation: 89.0%\n",
      "Hartree-Fock Computation: 90.0%\n",
      "Hartree-Fock Computation: 90.0%\n",
      "Hartree-Fock Computation: 91.0%\n",
      "Hartree-Fock Computation: 91.0%\n",
      "Hartree-Fock Computation: 92.0%\n",
      "Hartree-Fock Computation: 92.0%\n",
      "Hartree-Fock Computation: 93.0%\n",
      "Hartree-Fock Computation: 93.0%\n",
      "Hartree-Fock Computation: 94.0%\n",
      "Hartree-Fock Computation: 95.0%\n",
      "Hartree-Fock Computation: 95.0%\n",
      "Hartree-Fock Computation: 96.0%\n",
      "Hartree-Fock Computation: 96.0%\n",
      "Hartree-Fock Computation: 97.0%\n",
      "Hartree-Fock Computation: 97.0%\n",
      "Hartree-Fock Computation: 98.0%\n",
      "Hartree-Fock Computation: 98.0%\n",
      "Hartree-Fock Computation: 99.0%\n",
      "Hartree-Fock Computation Complete\n"
     ]
    }
   ],
   "source": [
    "from molecule import atom\n",
    "from molecule import vector\n",
    "from molecule import gaussian\n",
    "from molecule import molecule\n",
    "from morsePotential import morsePotential\n",
    "from notebookImporter import importNotebook\n",
    "from IPython.display import clear_output\n",
    "\n",
    "HartreeFock = importNotebook(\"Hartree_Class\")\n",
    "\n",
    "#set up the automated calculations used to generate the surface potential\n",
    "\n",
    "#User Specified Variables\n",
    "\n",
    "#Enter the atomic number for atoms 1 and 2\n",
    "atom1 = 1\n",
    "atom2 = 1\n",
    "\n",
    "#Enter the number of electrons for atom 1 and 2\n",
    "#Note the total number of electrons must be a multiple of 2, \n",
    "#otherwise, the computation will round the total number of electrons \n",
    "#down to the nearest multiple of 2\n",
    "atomN1 = 1\n",
    "atomN2 = 1\n",
    "\n",
    "#Select a basis, for a list of available basis sets, please see the \"basisSets\" folder\n",
    "basisName = \"DEF2-SVP\"\n",
    "\n",
    "#Enter Starting and End Bond distance for the diatomic molecule\n",
    "startR = .8\n",
    "endR = 1.8\n",
    "\n",
    "#Please enter the distance the bond distance should increase each iteration\n",
    "#The smaller the number, the more accurate and time-consuming the computation will be\n",
    "step = 0.01\n",
    "\n",
    "#Please enter how small the difference in energy between two ground state energy calculations\n",
    "#must be in order to convergence to occur\n",
    "convergenceCritera = pow(10, -10)\n",
    "\n",
    "#Please enter the maximum number of iterations the SCF procedure can take before\n",
    "#the computation will fail as being unable to converge\n",
    "maxIterations = 100\n",
    "\n",
    "#System Defined Variables\n",
    "E = []\n",
    "R = []\n",
    "basisSets = []\n",
    "Xs = []\n",
    "MOEnergy = []\n",
    "delta = (endR - startR) / step\n",
    "currentR = startR\n",
    "\n",
    "print()\n",
    "\n",
    "while(not(currentR >= endR)):\n",
    "    \n",
    "    #define the molecular system\n",
    "    system = molecule()\n",
    "    system.addAtom(atom(vector(1,1,2+currentR), atom1, atomN1))\n",
    "    system.addAtom(atom(vector(1,1,2), atom2, atomN2))\n",
    "\n",
    "    system.addBasis(basisName)\n",
    "    \n",
    "    #Set up the Hartree Procedure\n",
    "    HF = HartreeFock.HF(system, convergenceCritera, maxIterations)\n",
    "\n",
    "    #Store Bond distance, associated Energy, and MO Energies\n",
    "    R.append(currentR)\n",
    "    E.append(HF.SCF())\n",
    "    MOEnergy.append(HF.MOEnergy)\n",
    "    basisSets.append( system.getBasis() )\n",
    "    Xs.append( HF.X )\n",
    " \n",
    "    #clear_output()\n",
    "    print(\"Hartree-Fock Computation: \" + str(currentR * 100 // endR) + \"%\")\n",
    "    \n",
    "    #update the current intenuclear distance\n",
    "    currentR += step\n",
    "    \n",
    "print(\"Hartree-Fock Computation Complete\")"
   ]
  },
  {
   "cell_type": "code",
   "execution_count": 2,
   "metadata": {
    "scrolled": true
   },
   "outputs": [
    {
     "data": {
      "text/html": [
       "        <script type=\"text/javascript\">\n",
       "        window.PlotlyConfig = {MathJaxConfig: 'local'};\n",
       "        if (window.MathJax) {MathJax.Hub.Config({SVG: {font: \"STIX-Web\"}});}\n",
       "        if (typeof require !== 'undefined') {\n",
       "        require.undef(\"plotly\");\n",
       "        requirejs.config({\n",
       "            paths: {\n",
       "                'plotly': ['https://cdn.plot.ly/plotly-latest.min']\n",
       "            }\n",
       "        });\n",
       "        require(['plotly'], function(Plotly) {\n",
       "            window._Plotly = Plotly;\n",
       "        });\n",
       "        }\n",
       "        </script>\n",
       "        "
      ]
     },
     "metadata": {},
     "output_type": "display_data"
    },
    {
     "name": "stdout",
     "output_type": "stream",
     "text": [
      "[1.12932327 1.42503377 0.51736323]\n",
      "[[ 3.50213429e-07 -4.30806144e-07  1.20709183e-06]\n",
      " [-4.30806144e-07  1.71388826e-05 -1.71739381e-05]\n",
      " [ 1.20709183e-06 -1.71739381e-05  2.22297202e-05]]\n"
     ]
    }
   ],
   "source": [
    "#Setup system for graphing purposes\n",
    "import math\n",
    "import scipy.integrate as integrate\n",
    "import scipy.optimize as optimize\n",
    "import numpy as np\n",
    "from plotly.offline import iplot, init_notebook_mode\n",
    "init_notebook_mode(connected=True)\n",
    "\n",
    "#prepare morse potential for graphing\n",
    "#morse = morsePotential(R, E)\n",
    "\n",
    "#create a curve fitted morsePotential of the data\n",
    "#uses the least squares method to fit the potential via SciPy\n",
    "def morsePotential(r, D, r0, a):\n",
    "\n",
    "    return D * np.exp(-2*a*(r-r0)) - 2*D*np.exp(-a*(r-r0))\n",
    "    #return a1 * (r - r0) + a2 * pow((r - r0), 2) + a3 * pow(r-r0, 3) + a4\n",
    "    #return (a1 * np.exp(-2 * a2 * ( r - r0)) - (2 * a1 * np.exp(-a2 * ( r - r0))))\n",
    "    #return (a1 * np.exp(-a2 * r) * (1 - (a3*r))) - (a4 / (pow(r,6) + (a5*pow(r,-6)))) \n",
    "\n",
    "popt, pcov = optimize.curve_fit(morsePotential, R, E)\n",
    "\n",
    "print(popt)\n",
    "print(pcov)\n",
    "\n",
    "#Prepare data for graphing\n",
    "minEIndex = E.index(min(E))\n",
    "minE = E.pop(minEIndex)\n",
    "optimalR = R.copy().pop(minEIndex)\n",
    "#basisSet = basisSets[ minEIndex ]\n",
    "#X = Xs[minEIndex]"
   ]
  },
  {
   "cell_type": "markdown",
   "metadata": {
    "scrolled": true
   },
   "source": [
    "#morseData = morse.computePotential()\n",
    "\n",
    "u = 4\n",
    "#w = (morse.a / (2 * math.pi)) * pow((2 *  morse.D / u), 0.5)\n",
    "#print(w)\n",
    "\n",
    "#k = 4 * math.pi * math.sqrt(2 * morse.D) / morse.a\n",
    "#print(\"K: \" + str(k))\n",
    "\n",
    "ve = []\n",
    "#for n in range(18):\n",
    "#    #ve.append( w * ((n + .5) - pow((n+.5),2)) )\n",
    "#    ve.append( -morse.D + (w * (n + .5)) - ( (pow(w,2) /  (4*morse.D)) * pow((n + .5), 2) )  )\n",
    "#print(ve)\n",
    "\n",
    "\n",
    "#print optimized bond distance\n",
    "print(\"Optimal Bond Distance: \" + str(R[minEIndex]))\n",
    "\n",
    "\n",
    "size = 10\n",
    "basisSet = []\n",
    "mu = 0.5\n",
    "\n",
    "def newPlaneWave(k):\n",
    "    \n",
    "    def planeWave(x):\n",
    "        return math.cos(k* math.pi * (x-1.4)) + math.sin(k * math.pi * (x-1.4))*1j \n",
    "    \n",
    "    return planeWave\n",
    "\n",
    "    \n",
    "class basisFunction:\n",
    "    \n",
    "    k = 0\n",
    "    f = 0\n",
    "    normalization = 0\n",
    "    \n",
    "    def __init__(self, f, k, allSpace=1):\n",
    "        \n",
    "        self.k = k\n",
    "        self.f = f \n",
    "        self.normalization = math.sqrt(1 / allSpace)\n",
    "    \n",
    "    def compute(self, x):\n",
    "        #print(self.normalization)\n",
    "        return self.normalization * self.f(x)\n",
    "    \n",
    "    def compute2ndPD(self, x):\n",
    "        return -self.f(x) * self.normalization\n",
    "    \n",
    "\n",
    "for n in range(size):\n",
    "    basisSet.append( basisFunction(newPlaneWave((2*n + 1) ), (2*n + 1), 1) )\n",
    "    \n",
    "V = np.zeros([size, size], dtype = complex)\n",
    "T = np.zeros([size, size], dtype = complex)\n",
    "\n",
    "for index1, b1 in enumerate(basisSet):\n",
    "    for index2, b2 in enumerate(basisSet):\n",
    "        \n",
    "        #base = lambda x : b1.compute(x).conjugate() * b2.compute(x)\n",
    "        #real = lambda x : base(x).real\n",
    "        #imag = lambda x : base(x).imag \n",
    "        \n",
    "        #print(str(index1) + \"  \" + str(index2))\n",
    "        #print( integrate.quad(real, 0, 1) )\n",
    "        #print(integrate.quad(real, 0, 1))\n",
    "        #print()\n",
    "        #print(\"-\" * 50)\n",
    "        \n",
    "        VIntegrandR = lambda x : (b1.compute(x).conjugate() * morsePotential(x, popt[0], popt[1], popt[2], popt[3], popt[4], popt[5]) * b2.compute(x)).real\n",
    "        VIntegrandI = lambda x : (b1.compute(x).conjugate() * morsePotential(x, popt[0], popt[1], popt[2], popt[3], popt[4], popt[5]) * b2.compute(x)).imag\n",
    "        \n",
    "        V[index1, index2] = integrate.quad(VIntegrandR, 0, 1)[0] + integrate.quad(VIntegrandI, 0, 2)[0]*1j\n",
    "\n",
    "        \n",
    "for index1, b1 in enumerate(basisSet):\n",
    "    for index2, b2 in enumerate(basisSet):\n",
    "        \n",
    "        TIntegrandR = lambda x : (b1.compute(x).conjugate() * (1/(2 * mu)) * b2.compute2ndPD(x)).real\n",
    "        TIntegrandI = lambda x : (b1.compute(x).conjugate() * (1/(2 * mu)) * b2.compute2ndPD(x)).imag\n",
    "        \n",
    "        T[index1, index2] = integrate.quad(TIntegrandR, 0, 1)[0] + integrate.quad(TIntegrandI, 0, 2)[0] * 1j\n",
    "        \n",
    "print(V)\n",
    "print(\"------\")\n",
    "print(T)\n",
    "\n",
    "H = T + V\n",
    "\n",
    "print(\"*\"*20)\n",
    "print(H)\n",
    "\n",
    "for index1 in range(size):\n",
    "    for index2 in range(size):\n",
    "        \n",
    "        c = H[index1, index2] \n",
    "        \n",
    "        real = c.real\n",
    "        imag = c.imag\n",
    "        \n",
    "        if(abs(real) < pow(10, -13)):\n",
    "            real = 0\n",
    "        if(abs(imag) < pow(10, -13)):\n",
    "            imag = 0\n",
    "        \n",
    "        H[index1, index2] = real + imag *1j\n",
    "\n",
    "print(\"&\"*5)\n",
    "print(H)\n",
    "eig = np.linalg.eigvalsh(H)\n",
    "\n",
    "print(\"|*)\"*20)\n",
    "\n",
    "for e in eig:\n",
    "    print(e)\n",
    "    "
   ]
  },
  {
   "cell_type": "markdown",
   "metadata": {},
   "source": [
    "size = 10\n",
    "L = 1.41\n",
    "\n",
    "m = 0.5\n",
    "basis = []\n",
    "\n",
    "def zeroError(x, tolerance=\"\"):\n",
    "    \n",
    "    if(tolerance == \"\"):\n",
    "        tolerance = pow(10, -14)\n",
    "    \n",
    "    if(abs(x) < tolerance):\n",
    "        return 0\n",
    "    else:\n",
    "        return x\n",
    "             \n",
    "class basisFunction:\n",
    "    \n",
    "    n = 1\n",
    "    L = 1\n",
    "    normalization = 1\n",
    "    \n",
    "    def __init__(self, n, L):\n",
    "        \n",
    "        self.n = n\n",
    "        self.L = L\n",
    "        self.normalization = math.sqrt(2/L)\n",
    "\n",
    "    def compute(self, x):\n",
    "        return self.normalization * math.sin(self.n*math.pi*x / self.L)\n",
    "    \n",
    "    def compute2ndPD(self, x):\n",
    "        return self.compute(x)\n",
    "\n",
    "for n in range(size):\n",
    "    basis.append( basisFunction(n+1, L) )\n",
    "    \n",
    "S = np.zeros([size, size])\n",
    "V = np.zeros([size, size])\n",
    "T = np.zeros([size, size])\n",
    "\n",
    "for index1, b1 in enumerate(basis):\n",
    "    for index2, b2 in enumerate(basis):\n",
    "        \n",
    "        SIntegrand = lambda x : b1.compute(x) * b2.compute(x)\n",
    "\n",
    "        S[index1, index2] += zeroError(integrate.quad(SIntegrand, 0, L)[0])\n",
    "\n",
    "        VIntegrand = lambda x : b1.compute(x) * morsePotential(x, popt[0], popt[1], popt[2], popt[3], popt[4], popt[5]) * b2.compute(x)\n",
    "        V[index1, index2] += zeroError(integrate.quad(VIntegrand, 0, L)[0])\n",
    "        \n",
    "        TIntegrand = lambda x : b1.compute(x) * (1/(2*m)) * b2.compute2ndPD(x)\n",
    "        T[index1, index2] += zeroError(integrate.quad(TIntegrand, 0, L)[0]) \n",
    "        \n",
    "print(S)\n",
    "print(\"V\"*40)\n",
    "print(V)\n",
    "print(\"T\"*50)\n",
    "print(T)\n",
    "\n",
    "H = V + T\n",
    "print(\"H\"*70)\n",
    "print(H)\n",
    "\n",
    "eig2 = np.linalg.eigh(H)[0]\n",
    "print(eig2)"
   ]
  },
  {
   "cell_type": "code",
   "execution_count": 8,
   "metadata": {},
   "outputs": [
    {
     "name": "stdout",
     "output_type": "stream",
     "text": [
      "WWWWWW\n",
      "0.17500676134822205\n",
      "SSSSSSSSSSSSSSSSSSSS\n",
      "[[ 1.00000000e+00 -3.08041751e-14 -1.69421324e-13 -7.47454053e-13\n",
      "  -2.80662299e-12 -9.25046151e-12 -2.73012342e-11 -7.30299866e-11\n",
      "  -1.78798519e-10 -4.02738571e-10]\n",
      " [-3.08041751e-14  1.00000000e+00 -1.33839812e-12 -5.90680282e-12\n",
      "  -2.21794250e-11 -7.31497224e-11 -2.15878161e-10 -5.77950854e-10\n",
      "  -1.41477587e-09 -3.19026024e-09]\n",
      " [-1.69421324e-13 -1.33839812e-12  1.00000000e+00 -3.24770585e-11\n",
      "  -1.22028901e-10 -4.02439512e-10 -1.18864138e-09 -3.18178277e-09\n",
      "  -7.79703604e-09 -1.75768683e-08]\n",
      " [-7.47454053e-13 -5.90680282e-12 -3.24770585e-11  1.00000000e+00\n",
      "  -5.38938949e-10 -1.77880469e-09 -5.25312521e-09 -1.40762914e-08\n",
      "  -3.44846992e-08 -7.78463524e-08]\n",
      " [-2.80662299e-12 -2.21794250e-11 -1.22028901e-10 -5.38938949e-10\n",
      "   9.99999998e-01 -6.68776734e-09 -1.97703714e-08 -5.29624563e-08\n",
      "  -1.29923980e-07 -2.93151832e-07]\n",
      " [-9.25046151e-12 -7.31497224e-11 -4.02439512e-10 -1.77880469e-09\n",
      "  -6.68776734e-09  9.99999978e-01 -6.52935674e-08 -1.75144681e-07\n",
      "  -4.29453200e-07 -9.70703280e-07]\n",
      " [-2.73012342e-11 -2.15878161e-10 -1.18864138e-09 -5.25312521e-09\n",
      "  -1.97703714e-08 -6.52935674e-08  9.99999807e-01 -5.18067067e-07\n",
      "  -1.27249970e-06 -2.87407191e-06]\n",
      " [-7.30299866e-11 -5.77950854e-10 -3.18178277e-09 -1.40762914e-08\n",
      "  -5.29624563e-08 -1.75144681e-07 -5.18067067e-07  9.99998609e-01\n",
      "  -3.41513182e-06 -7.73133046e-06]\n",
      " [-1.78798519e-10 -1.41477587e-09 -7.79703604e-09 -3.44846992e-08\n",
      "  -1.29923980e-07 -4.29453200e-07 -1.27249970e-06 -3.41513182e-06\n",
      "   9.99991599e-01 -1.89969096e-05]\n",
      " [-4.02738571e-10 -3.19026024e-09 -1.75768683e-08 -7.78463524e-08\n",
      "  -2.93151832e-07 -9.70703280e-07 -2.87407191e-06 -7.73133046e-06\n",
      "  -1.89969096e-05  9.99956910e-01]]\n",
      "HHHHHHHHHHHHHHHHHHHH\n",
      "[[ 1.92285440e+01 -5.35079049e+01  9.88015298e+01 -1.44881918e+02\n",
      "   1.81493679e+02 -2.02040733e+02  2.04661686e+02 -1.91633538e+02\n",
      "   1.67713074e+02 -1.38329232e+02]\n",
      " [-5.35079049e+01  1.59040617e+02 -3.26614448e+02  5.34118156e+02\n",
      "  -7.41540650e+02  9.07148918e+02 -1.00191139e+03  1.01584813e+03\n",
      "  -9.57009194e+02  8.45350553e+02]\n",
      " [ 9.88015298e+01 -3.26614448e+02  7.43419595e+02 -1.34626923e+03\n",
      "   2.06135225e+03 -2.76497577e+03  3.32698821e+03 -3.65291759e+03\n",
      "   3.70636453e+03 -3.50900795e+03]\n",
      " [-1.44881918e+02  5.34118156e+02 -1.34626923e+03  2.68764039e+03\n",
      "  -4.51864077e+03  6.62558489e+03 -8.67213280e+03  1.03050899e+04\n",
      "  -1.12615748e+04  1.14323317e+04]\n",
      " [ 1.81493679e+02 -7.41540650e+02  2.06135225e+03 -4.51864077e+03\n",
      "   8.31016615e+03 -1.32786049e+04  1.88657507e+04 -2.42349057e+04\n",
      "   2.85122896e+04 -3.10370393e+04]\n",
      " [-2.02040733e+02  9.07148918e+02 -2.76497577e+03  6.62558489e+03\n",
      "  -1.32786049e+04  2.30505355e+04 -3.54645186e+04  4.91706191e+04\n",
      "  -6.22228995e+04  7.26024686e+04]\n",
      " [ 2.04661686e+02 -1.00191139e+03  3.32698821e+03 -8.67213280e+03\n",
      "   1.88657507e+04 -3.54645186e+04  5.89389554e+04 -8.80315328e+04\n",
      "   1.19668805e+05 -1.49559995e+05]\n",
      " [-1.91633538e+02  1.01584813e+03 -3.65291759e+03  1.03050899e+04\n",
      "  -2.42349057e+04  4.91706191e+04 -8.80315328e+04  1.41347217e+05\n",
      "  -2.06087550e+05  2.75586939e+05]\n",
      " [ 1.67713074e+02 -9.57009194e+02  3.70636453e+03 -1.12615748e+04\n",
      "   2.85122896e+04 -6.22228995e+04  1.19668805e+05 -2.06087550e+05\n",
      "   3.21711463e+05 -4.59697175e+05]\n",
      " [-1.38329232e+02  8.45350553e+02 -3.50900795e+03  1.14323317e+04\n",
      "  -3.10370393e+04  7.26024686e+04 -1.49559995e+05  2.75586939e+05\n",
      "  -4.59697175e+05  7.00822301e+05]]\n",
      "[-1.18097165e+06 -7.01052704e+04 -6.04949859e+03 -6.00514109e+02\n",
      " -5.92794007e+01 -4.35114222e+00  6.53499984e-01  1.24740740e-01\n",
      " -1.46180983e-01 -3.89904692e-02]\n"
     ]
    }
   ],
   "source": [
    "from scipy.misc import derivative as ddx\n",
    "\n",
    "#Compute Energy States from potential energy surface using a Harmonic Oscillator Basis\n",
    "\n",
    "mu = .5\n",
    "r0 = popt[1]\n",
    "w = (popt[2] / (2*math.pi)) * math.sqrt(2*popt[0]/mu)\n",
    "a = 1\n",
    "print(\"WWWWWW\")\n",
    "print(w)\n",
    "\n",
    "#returns the normalization constant for the Harmonic Oscillator Function\n",
    "def C(n):\n",
    "    return math.sqrt( math.sqrt(a) /  (pow(2, n) * math.factorial(n) * math.sqrt(math.pi)) ) \n",
    "\n",
    "\n",
    "#Returns a lambda function of the nth hermite polynomial\n",
    "def hermite(n, k):\n",
    "    \n",
    "    c = pow(-1, k) * math.factorial(n) / ( math.factorial(k) * math.factorial(n - 2*k) )\n",
    "        \n",
    "    if(k == 0):\n",
    "        return lambda r : c * pow(2*math.sqrt(a)*(r-r0), n-(2*k))\n",
    "    else:\n",
    "        return lambda r : c * pow(2*math.sqrt(a)*(r-r0), n-(2*k)) + hermite(n, k-1)(r)\n",
    "\n",
    "def buildHermite(n):\n",
    "    \n",
    "    return hermite(n, n // 2)\n",
    "\n",
    "#Creates a new Harmonic Oscillator function\n",
    "#and returns it as a lambda function\n",
    "def newHO(n):\n",
    "    return lambda r : C(n) * buildHermite(n)(r) * math.exp(-a * pow((r-r0),2) / 2)\n",
    "\n",
    "\n",
    "size = 10\n",
    "basis = []\n",
    "\n",
    "S = np.zeros([size, size])\n",
    "V = np.zeros([size, size])\n",
    "T = np.zeros([size, size])\n",
    "\n",
    "for i in range(size):\n",
    "    basis.append( newHO(i) )\n",
    "    \n",
    "for i in range(size):\n",
    "    for j in range(size):\n",
    "        S[i,j] += integrate.quad( lambda r : basis[i](r) * basis[j](r), -20, 20)[0]\n",
    "        \n",
    "        V[i,j] += integrate.quad( lambda r : basis[i](r) * morsePotential(r, popt[0], popt[1], popt[2]) * basis[j](r), -20, 20)[0]\n",
    "        \n",
    "        if(abs(V[i,j]) < pow(10, -16)):\n",
    "            V[i,j] = 0\n",
    "            \n",
    "        T[i,j] += integrate.quad( lambda r : basis[i](r) * (-1/2) * ddx(basis[j], r, n=2), -20, 20)[0]\n",
    "print(\"S\"*20)\n",
    "print(S)\n",
    "#print(\"V\" * 20)\n",
    "#print(V)\n",
    "#print()\n",
    "#print(\"T\"*20)\n",
    "#print(T)\n",
    "#print()\n",
    "print(\"H\"*20)\n",
    "H = T + V\n",
    "print(H)\n",
    "#print()\n",
    "#print(\"EIG\"*20)\n",
    "EHO = -np.linalg.eig(H)[0]\n",
    "print(EHO)"
   ]
  },
  {
   "cell_type": "code",
   "execution_count": 4,
   "metadata": {},
   "outputs": [],
   "source": [
    "#EHO = HF.vibrationalEnergy(lambda x : morsePotential(x, popt[0], popt[1], popt[2], popt[3], popt[4]), 0.5)\n",
    "#print(EHO)"
   ]
  },
  {
   "cell_type": "code",
   "execution_count": 9,
   "metadata": {},
   "outputs": [
    {
     "data": {
      "application/vnd.plotly.v1+json": {
       "config": {
        "linkText": "Export to plot.ly",
        "plotlyServerURL": "https://plot.ly",
        "showLink": false
       },
       "data": [
        {
         "connectgaps": false,
         "marker": {
          "color": "blue"
         },
         "mode": "markers",
         "name": "Hartree-Fock Computed",
         "type": "scatter",
         "x": [
          0.8,
          0.81,
          0.8200000000000001,
          0.8300000000000001,
          0.8400000000000001,
          0.8500000000000001,
          0.8600000000000001,
          0.8700000000000001,
          0.8800000000000001,
          0.8900000000000001,
          0.9000000000000001,
          0.9100000000000001,
          0.9200000000000002,
          0.9300000000000002,
          0.9400000000000002,
          0.9500000000000002,
          0.9600000000000002,
          0.9700000000000002,
          0.9800000000000002,
          0.9900000000000002,
          1.0000000000000002,
          1.0100000000000002,
          1.0200000000000002,
          1.0300000000000002,
          1.0400000000000003,
          1.0500000000000003,
          1.0600000000000003,
          1.0700000000000003,
          1.0800000000000003,
          1.0900000000000003,
          1.1000000000000003,
          1.1100000000000003,
          1.1200000000000003,
          1.1300000000000003,
          1.1400000000000003,
          1.1500000000000004,
          1.1600000000000004,
          1.1700000000000004,
          1.1800000000000004,
          1.1900000000000004,
          1.2000000000000004,
          1.2100000000000004,
          1.2200000000000004,
          1.2300000000000004,
          1.2400000000000004,
          1.2500000000000004,
          1.2600000000000005,
          1.2700000000000005,
          1.2800000000000005,
          1.2900000000000005,
          1.3000000000000005,
          1.3100000000000005,
          1.3200000000000005,
          1.3300000000000005,
          1.3400000000000005,
          1.3500000000000005,
          1.3600000000000005,
          1.3700000000000006,
          1.3800000000000006,
          1.3900000000000006,
          1.4000000000000006,
          1.4100000000000006,
          1.4200000000000006,
          1.4300000000000006,
          1.4400000000000006,
          1.4500000000000006,
          1.4600000000000006,
          1.4700000000000006,
          1.4800000000000006,
          1.4900000000000007,
          1.5000000000000007,
          1.5100000000000007,
          1.5200000000000007,
          1.5300000000000007,
          1.5400000000000007,
          1.5500000000000007,
          1.5600000000000007,
          1.5700000000000007,
          1.5800000000000007,
          1.5900000000000007,
          1.6000000000000008,
          1.6100000000000008,
          1.6200000000000008,
          1.6300000000000008,
          1.6400000000000008,
          1.6500000000000008,
          1.6600000000000008,
          1.6700000000000008,
          1.6800000000000008,
          1.6900000000000008,
          1.7000000000000008,
          1.7100000000000009,
          1.7200000000000009,
          1.7300000000000009,
          1.7400000000000009,
          1.7500000000000009,
          1.760000000000001,
          1.770000000000001,
          1.780000000000001,
          1.790000000000001
         ],
         "y": [
          -0.9509877133597222,
          -0.9594192898653746,
          -0.9675028094033971,
          -0.9752524363013415,
          -0.9826816513227508,
          -0.9898032911752916,
          -0.9966295853566385,
          -1.0031721905428137,
          -1.009442222705234,
          -1.01545028712612,
          -1.0212065064673799,
          -1.0267205470348653,
          -1.0320016433681716,
          -1.0370586212755593,
          -1.041899919424123,
          -1.0465336095866378,
          -1.0509674156388489,
          -1.0552087313937322,
          -1.0592646373529744,
          -1.0631419164498763,
          -1.0668470688525558,
          -1.0703863258913333,
          -1.0737656631695587,
          -1.076990812912994,
          -1.0800672756088427,
          -1.0830003309819616,
          -1.085795048352374,
          -1.0884562964151074,
          -1.0909887524803985,
          -1.0933969112096764,
          -1.0956850928801285,
          -1.0978574512083727,
          -1.099917980761491,
          -1.1018705239817201,
          -1.1037187778491333,
          -1.1054663002049177,
          -1.107116515756224,
          -1.1086727217819932,
          -1.1101380935578113,
          -1.111515689516534,
          -1.1128084561601423,
          -1.1140192327372935,
          -1.115150755699876,
          -1.116205662951033,
          -1.117186497896153,
          -1.1180957133075866,
          -1.118935675013065,
          -1.119708665417127,
          -1.1204168868642297,
          -1.121062464851644,
          -1.1216474510997285,
          -1.1221738264866046,
          -1.122643503853959,
          -1.1230583306901207,
          -1.1234200916963295,
          -1.1237305112416514,
          -1.1239912557117753,
          -1.124203935756551,
          -1.124370108440929,
          -1.1244912793036361,
          -1.1245689043277949,
          -1.1245991042531878,
          -1.1245543599221257,
          -1.1244714346728002,
          -1.1243515634509968,
          -1.124195941827948,
          -1.1240057274543376,
          -1.1237820414528943,
          -1.1235259697521989,
          -1.1232385643643288,
          -1.1229208446087333,
          -1.1225737982847317,
          -1.1221983827948776,
          -1.1217955262213128,
          -1.12136612835723,
          -1.1209110616953697,
          -1.1204311723754898,
          -1.1199272810926038,
          -1.119400183964212,
          -1.118850653379347,
          -1.1182794387781176,
          -1.1176872674339227,
          -1.1170748451867558,
          -1.1164428571502647,
          -1.1157919683903543,
          -1.1151228245766345,
          -1.1144360526079575,
          -1.1137322612131957,
          -1.1130120415284352,
          -1.1122759676516345,
          -1.1115245971757857,
          -1.1107584717015828,
          -1.1099781173305305,
          -1.1091840451393864,
          -1.1083767516368148,
          -1.1075567192030595,
          -1.106724416513411,
          -1.1058802989462388,
          -1.1050248089762724
         ]
        },
        {
         "marker": {
          "color": "red"
         },
         "name": "Optimal Bond Distance",
         "type": "scatter",
         "x": [
          1.4100000000000006
         ],
         "y": [
          -1.124604391827369
         ]
        },
        {
         "connectgaps": false,
         "marker": {
          "color": "green"
         },
         "name": "Morse Potential Approximation",
         "type": "scatter",
         "x": [
          0.8,
          0.81,
          0.8200000000000001,
          0.8300000000000001,
          0.8400000000000001,
          0.8500000000000001,
          0.8600000000000001,
          0.8700000000000001,
          0.8800000000000001,
          0.8900000000000001,
          0.9000000000000001,
          0.9100000000000001,
          0.9200000000000002,
          0.9300000000000002,
          0.9400000000000002,
          0.9500000000000002,
          0.9600000000000002,
          0.9700000000000002,
          0.9800000000000002,
          0.9900000000000002,
          1.0000000000000002,
          1.0100000000000002,
          1.0200000000000002,
          1.0300000000000002,
          1.0400000000000003,
          1.0500000000000003,
          1.0600000000000003,
          1.0700000000000003,
          1.0800000000000003,
          1.0900000000000003,
          1.1000000000000003,
          1.1100000000000003,
          1.1200000000000003,
          1.1300000000000003,
          1.1400000000000003,
          1.1500000000000004,
          1.1600000000000004,
          1.1700000000000004,
          1.1800000000000004,
          1.1900000000000004,
          1.2000000000000004,
          1.2100000000000004,
          1.2200000000000004,
          1.2300000000000004,
          1.2400000000000004,
          1.2500000000000004,
          1.2600000000000005,
          1.2700000000000005,
          1.2800000000000005,
          1.2900000000000005,
          1.3000000000000005,
          1.3100000000000005,
          1.3200000000000005,
          1.3300000000000005,
          1.3400000000000005,
          1.3500000000000005,
          1.3600000000000005,
          1.3700000000000006,
          1.3800000000000006,
          1.3900000000000006,
          1.4000000000000006,
          1.4100000000000006,
          1.4200000000000006,
          1.4300000000000006,
          1.4400000000000006,
          1.4500000000000006,
          1.4600000000000006,
          1.4700000000000006,
          1.4800000000000006,
          1.4900000000000007,
          1.5000000000000007,
          1.5100000000000007,
          1.5200000000000007,
          1.5300000000000007,
          1.5400000000000007,
          1.5500000000000007,
          1.5600000000000007,
          1.5700000000000007,
          1.5800000000000007,
          1.5900000000000007,
          1.6000000000000008,
          1.6100000000000008,
          1.6200000000000008,
          1.6300000000000008,
          1.6400000000000008,
          1.6500000000000008,
          1.6600000000000008,
          1.6700000000000008,
          1.6800000000000008,
          1.6900000000000008,
          1.7000000000000008,
          1.7100000000000009,
          1.7200000000000009,
          1.7300000000000009,
          1.7400000000000009,
          1.7500000000000009,
          1.760000000000001,
          1.770000000000001,
          1.780000000000001,
          1.790000000000001
         ],
         "y": [
          -0.9647212771386173,
          -0.9708123277293361,
          -0.976758000656373,
          -0.9825602190604799,
          -0.9882208840842046,
          -0.9937418751097011,
          -0.9991250499940301,
          -1.0043722453019779,
          -1.0094852765364262,
          -1.0144659383662895,
          -1.0193160048520455,
          -1.0240372296688927,
          -1.0286313463275516,
          -1.0331000683927343,
          -1.0374450896993113,
          -1.041668084566198,
          -1.045770708007981,
          -1.0497545959443124,
          -1.0536213654070925,
          -1.0573726147454678,
          -1.0610099238286592,
          -1.0645348542466528,
          -1.0679489495087677,
          -1.0712537352401286,
          -1.0744507193760597,
          -1.0775413923544273,
          -1.0805272273059467,
          -1.0834096802424809,
          -1.0861901902433453,
          -1.0888701796396432,
          -1.0914510541966553,
          -1.0939342032942967,
          -1.0963210001056634,
          -1.0986128017736974,
          -1.1008109495859724,
          -1.1029167691476385,
          -1.1049315705525327,
          -1.106856648552476,
          -1.1086932827247824,
          -1.110442737637992,
          -1.1121062630158483,
          -1.1136850938995393,
          -1.1151804508082206,
          -1.1165935398978375,
          -1.1179255531182608,
          -1.1191776683687633,
          -1.120351049651842,
          -1.1214468472254142,
          -1.1224661977533952,
          -1.1234102244546849,
          -1.1242800372505681,
          -1.1250767329105544,
          -1.1258013951966692,
          -1.1264550950062164,
          -1.1270388905130206,
          -1.1275538273071728,
          -1.1280009385332952,
          -1.1283812450273325,
          -1.1286957554518915,
          -1.1289454664301461,
          -1.1291313626783162,
          -1.1292544171367411,
          -1.1293155910995565,
          -1.129315834342997,
          -1.1292560852523317,
          -1.1291372709474519,
          -1.12896030740712,
          -1.1287260995919002,
          -1.1284355415657779,
          -1.1280895166164893,
          -1.1276888973745638,
          -1.127234545931106,
          -1.1267273139543175,
          -1.1261680428047838,
          -1.125557563649527,
          -1.1248966975748482,
          -1.1241862556979658,
          -1.1234270392774623,
          -1.1226198398225575,
          -1.1217654392012144,
          -1.1208646097470907,
          -1.119918114365352,
          -1.118926706637358,
          -1.1178911309242265,
          -1.1168121224692946,
          -1.11569040749949,
          -1.114526703325613,
          -1.1133217184415525,
          -1.1120761526224432,
          -1.1107906970217667,
          -1.1094660342674278,
          -1.1081028385567904,
          -1.1067017757507067,
          -1.1052635034665386,
          -1.1037886711701828,
          -1.1022779202671131,
          -1.1007318841924496,
          -1.0991511885000613,
          -1.0975364509507175,
          -1.095888281599295
         ]
        },
        {
         "connectgaps": false,
         "marker": {
          "color": "blue"
         },
         "name": "Vibrational Energy",
         "type": "scatter",
         "x": [
          1.4,
          1.4,
          1.4,
          1.4,
          1.4,
          1.4,
          1.4,
          1.4,
          1.4,
          1.4
         ],
         "y": [
          -1180971.646769266,
          -70105.270367211,
          -6049.498590806212,
          -600.514108680747,
          -59.27940069532362,
          -4.351142218516446,
          0.6534999840777154,
          0.12474074042422792,
          -0.14618098260955464,
          -0.038990469201579385
         ]
        }
       ],
       "layout": {
        "template": {
         "data": {
          "bar": [
           {
            "error_x": {
             "color": "#2a3f5f"
            },
            "error_y": {
             "color": "#2a3f5f"
            },
            "marker": {
             "line": {
              "color": "#E5ECF6",
              "width": 0.5
             }
            },
            "type": "bar"
           }
          ],
          "barpolar": [
           {
            "marker": {
             "line": {
              "color": "#E5ECF6",
              "width": 0.5
             }
            },
            "type": "barpolar"
           }
          ],
          "carpet": [
           {
            "aaxis": {
             "endlinecolor": "#2a3f5f",
             "gridcolor": "white",
             "linecolor": "white",
             "minorgridcolor": "white",
             "startlinecolor": "#2a3f5f"
            },
            "baxis": {
             "endlinecolor": "#2a3f5f",
             "gridcolor": "white",
             "linecolor": "white",
             "minorgridcolor": "white",
             "startlinecolor": "#2a3f5f"
            },
            "type": "carpet"
           }
          ],
          "choropleth": [
           {
            "colorbar": {
             "outlinewidth": 0,
             "ticks": ""
            },
            "type": "choropleth"
           }
          ],
          "contour": [
           {
            "colorbar": {
             "outlinewidth": 0,
             "ticks": ""
            },
            "colorscale": [
             [
              0,
              "#0d0887"
             ],
             [
              0.1111111111111111,
              "#46039f"
             ],
             [
              0.2222222222222222,
              "#7201a8"
             ],
             [
              0.3333333333333333,
              "#9c179e"
             ],
             [
              0.4444444444444444,
              "#bd3786"
             ],
             [
              0.5555555555555556,
              "#d8576b"
             ],
             [
              0.6666666666666666,
              "#ed7953"
             ],
             [
              0.7777777777777778,
              "#fb9f3a"
             ],
             [
              0.8888888888888888,
              "#fdca26"
             ],
             [
              1,
              "#f0f921"
             ]
            ],
            "type": "contour"
           }
          ],
          "contourcarpet": [
           {
            "colorbar": {
             "outlinewidth": 0,
             "ticks": ""
            },
            "type": "contourcarpet"
           }
          ],
          "heatmap": [
           {
            "colorbar": {
             "outlinewidth": 0,
             "ticks": ""
            },
            "colorscale": [
             [
              0,
              "#0d0887"
             ],
             [
              0.1111111111111111,
              "#46039f"
             ],
             [
              0.2222222222222222,
              "#7201a8"
             ],
             [
              0.3333333333333333,
              "#9c179e"
             ],
             [
              0.4444444444444444,
              "#bd3786"
             ],
             [
              0.5555555555555556,
              "#d8576b"
             ],
             [
              0.6666666666666666,
              "#ed7953"
             ],
             [
              0.7777777777777778,
              "#fb9f3a"
             ],
             [
              0.8888888888888888,
              "#fdca26"
             ],
             [
              1,
              "#f0f921"
             ]
            ],
            "type": "heatmap"
           }
          ],
          "heatmapgl": [
           {
            "colorbar": {
             "outlinewidth": 0,
             "ticks": ""
            },
            "colorscale": [
             [
              0,
              "#0d0887"
             ],
             [
              0.1111111111111111,
              "#46039f"
             ],
             [
              0.2222222222222222,
              "#7201a8"
             ],
             [
              0.3333333333333333,
              "#9c179e"
             ],
             [
              0.4444444444444444,
              "#bd3786"
             ],
             [
              0.5555555555555556,
              "#d8576b"
             ],
             [
              0.6666666666666666,
              "#ed7953"
             ],
             [
              0.7777777777777778,
              "#fb9f3a"
             ],
             [
              0.8888888888888888,
              "#fdca26"
             ],
             [
              1,
              "#f0f921"
             ]
            ],
            "type": "heatmapgl"
           }
          ],
          "histogram": [
           {
            "marker": {
             "colorbar": {
              "outlinewidth": 0,
              "ticks": ""
             }
            },
            "type": "histogram"
           }
          ],
          "histogram2d": [
           {
            "colorbar": {
             "outlinewidth": 0,
             "ticks": ""
            },
            "colorscale": [
             [
              0,
              "#0d0887"
             ],
             [
              0.1111111111111111,
              "#46039f"
             ],
             [
              0.2222222222222222,
              "#7201a8"
             ],
             [
              0.3333333333333333,
              "#9c179e"
             ],
             [
              0.4444444444444444,
              "#bd3786"
             ],
             [
              0.5555555555555556,
              "#d8576b"
             ],
             [
              0.6666666666666666,
              "#ed7953"
             ],
             [
              0.7777777777777778,
              "#fb9f3a"
             ],
             [
              0.8888888888888888,
              "#fdca26"
             ],
             [
              1,
              "#f0f921"
             ]
            ],
            "type": "histogram2d"
           }
          ],
          "histogram2dcontour": [
           {
            "colorbar": {
             "outlinewidth": 0,
             "ticks": ""
            },
            "colorscale": [
             [
              0,
              "#0d0887"
             ],
             [
              0.1111111111111111,
              "#46039f"
             ],
             [
              0.2222222222222222,
              "#7201a8"
             ],
             [
              0.3333333333333333,
              "#9c179e"
             ],
             [
              0.4444444444444444,
              "#bd3786"
             ],
             [
              0.5555555555555556,
              "#d8576b"
             ],
             [
              0.6666666666666666,
              "#ed7953"
             ],
             [
              0.7777777777777778,
              "#fb9f3a"
             ],
             [
              0.8888888888888888,
              "#fdca26"
             ],
             [
              1,
              "#f0f921"
             ]
            ],
            "type": "histogram2dcontour"
           }
          ],
          "mesh3d": [
           {
            "colorbar": {
             "outlinewidth": 0,
             "ticks": ""
            },
            "type": "mesh3d"
           }
          ],
          "parcoords": [
           {
            "line": {
             "colorbar": {
              "outlinewidth": 0,
              "ticks": ""
             }
            },
            "type": "parcoords"
           }
          ],
          "scatter": [
           {
            "marker": {
             "colorbar": {
              "outlinewidth": 0,
              "ticks": ""
             }
            },
            "type": "scatter"
           }
          ],
          "scatter3d": [
           {
            "line": {
             "colorbar": {
              "outlinewidth": 0,
              "ticks": ""
             }
            },
            "marker": {
             "colorbar": {
              "outlinewidth": 0,
              "ticks": ""
             }
            },
            "type": "scatter3d"
           }
          ],
          "scattercarpet": [
           {
            "marker": {
             "colorbar": {
              "outlinewidth": 0,
              "ticks": ""
             }
            },
            "type": "scattercarpet"
           }
          ],
          "scattergeo": [
           {
            "marker": {
             "colorbar": {
              "outlinewidth": 0,
              "ticks": ""
             }
            },
            "type": "scattergeo"
           }
          ],
          "scattergl": [
           {
            "marker": {
             "colorbar": {
              "outlinewidth": 0,
              "ticks": ""
             }
            },
            "type": "scattergl"
           }
          ],
          "scattermapbox": [
           {
            "marker": {
             "colorbar": {
              "outlinewidth": 0,
              "ticks": ""
             }
            },
            "type": "scattermapbox"
           }
          ],
          "scatterpolar": [
           {
            "marker": {
             "colorbar": {
              "outlinewidth": 0,
              "ticks": ""
             }
            },
            "type": "scatterpolar"
           }
          ],
          "scatterpolargl": [
           {
            "marker": {
             "colorbar": {
              "outlinewidth": 0,
              "ticks": ""
             }
            },
            "type": "scatterpolargl"
           }
          ],
          "scatterternary": [
           {
            "marker": {
             "colorbar": {
              "outlinewidth": 0,
              "ticks": ""
             }
            },
            "type": "scatterternary"
           }
          ],
          "surface": [
           {
            "colorbar": {
             "outlinewidth": 0,
             "ticks": ""
            },
            "colorscale": [
             [
              0,
              "#0d0887"
             ],
             [
              0.1111111111111111,
              "#46039f"
             ],
             [
              0.2222222222222222,
              "#7201a8"
             ],
             [
              0.3333333333333333,
              "#9c179e"
             ],
             [
              0.4444444444444444,
              "#bd3786"
             ],
             [
              0.5555555555555556,
              "#d8576b"
             ],
             [
              0.6666666666666666,
              "#ed7953"
             ],
             [
              0.7777777777777778,
              "#fb9f3a"
             ],
             [
              0.8888888888888888,
              "#fdca26"
             ],
             [
              1,
              "#f0f921"
             ]
            ],
            "type": "surface"
           }
          ],
          "table": [
           {
            "cells": {
             "fill": {
              "color": "#EBF0F8"
             },
             "line": {
              "color": "white"
             }
            },
            "header": {
             "fill": {
              "color": "#C8D4E3"
             },
             "line": {
              "color": "white"
             }
            },
            "type": "table"
           }
          ]
         },
         "layout": {
          "annotationdefaults": {
           "arrowcolor": "#2a3f5f",
           "arrowhead": 0,
           "arrowwidth": 1
          },
          "colorscale": {
           "diverging": [
            [
             0,
             "#8e0152"
            ],
            [
             0.1,
             "#c51b7d"
            ],
            [
             0.2,
             "#de77ae"
            ],
            [
             0.3,
             "#f1b6da"
            ],
            [
             0.4,
             "#fde0ef"
            ],
            [
             0.5,
             "#f7f7f7"
            ],
            [
             0.6,
             "#e6f5d0"
            ],
            [
             0.7,
             "#b8e186"
            ],
            [
             0.8,
             "#7fbc41"
            ],
            [
             0.9,
             "#4d9221"
            ],
            [
             1,
             "#276419"
            ]
           ],
           "sequential": [
            [
             0,
             "#0d0887"
            ],
            [
             0.1111111111111111,
             "#46039f"
            ],
            [
             0.2222222222222222,
             "#7201a8"
            ],
            [
             0.3333333333333333,
             "#9c179e"
            ],
            [
             0.4444444444444444,
             "#bd3786"
            ],
            [
             0.5555555555555556,
             "#d8576b"
            ],
            [
             0.6666666666666666,
             "#ed7953"
            ],
            [
             0.7777777777777778,
             "#fb9f3a"
            ],
            [
             0.8888888888888888,
             "#fdca26"
            ],
            [
             1,
             "#f0f921"
            ]
           ],
           "sequentialminus": [
            [
             0,
             "#0d0887"
            ],
            [
             0.1111111111111111,
             "#46039f"
            ],
            [
             0.2222222222222222,
             "#7201a8"
            ],
            [
             0.3333333333333333,
             "#9c179e"
            ],
            [
             0.4444444444444444,
             "#bd3786"
            ],
            [
             0.5555555555555556,
             "#d8576b"
            ],
            [
             0.6666666666666666,
             "#ed7953"
            ],
            [
             0.7777777777777778,
             "#fb9f3a"
            ],
            [
             0.8888888888888888,
             "#fdca26"
            ],
            [
             1,
             "#f0f921"
            ]
           ]
          },
          "colorway": [
           "#636efa",
           "#EF553B",
           "#00cc96",
           "#ab63fa",
           "#FFA15A",
           "#19d3f3",
           "#FF6692",
           "#B6E880",
           "#FF97FF",
           "#FECB52"
          ],
          "font": {
           "color": "#2a3f5f"
          },
          "geo": {
           "bgcolor": "white",
           "lakecolor": "white",
           "landcolor": "#E5ECF6",
           "showlakes": true,
           "showland": true,
           "subunitcolor": "white"
          },
          "hoverlabel": {
           "align": "left"
          },
          "hovermode": "closest",
          "mapbox": {
           "style": "light"
          },
          "paper_bgcolor": "white",
          "plot_bgcolor": "#E5ECF6",
          "polar": {
           "angularaxis": {
            "gridcolor": "white",
            "linecolor": "white",
            "ticks": ""
           },
           "bgcolor": "#E5ECF6",
           "radialaxis": {
            "gridcolor": "white",
            "linecolor": "white",
            "ticks": ""
           }
          },
          "scene": {
           "xaxis": {
            "backgroundcolor": "#E5ECF6",
            "gridcolor": "white",
            "gridwidth": 2,
            "linecolor": "white",
            "showbackground": true,
            "ticks": "",
            "zerolinecolor": "white"
           },
           "yaxis": {
            "backgroundcolor": "#E5ECF6",
            "gridcolor": "white",
            "gridwidth": 2,
            "linecolor": "white",
            "showbackground": true,
            "ticks": "",
            "zerolinecolor": "white"
           },
           "zaxis": {
            "backgroundcolor": "#E5ECF6",
            "gridcolor": "white",
            "gridwidth": 2,
            "linecolor": "white",
            "showbackground": true,
            "ticks": "",
            "zerolinecolor": "white"
           }
          },
          "shapedefaults": {
           "line": {
            "color": "#2a3f5f"
           }
          },
          "ternary": {
           "aaxis": {
            "gridcolor": "white",
            "linecolor": "white",
            "ticks": ""
           },
           "baxis": {
            "gridcolor": "white",
            "linecolor": "white",
            "ticks": ""
           },
           "bgcolor": "#E5ECF6",
           "caxis": {
            "gridcolor": "white",
            "linecolor": "white",
            "ticks": ""
           }
          },
          "title": {
           "x": 0.05
          },
          "xaxis": {
           "automargin": true,
           "gridcolor": "white",
           "linecolor": "white",
           "ticks": "",
           "zerolinecolor": "white",
           "zerolinewidth": 2
          },
          "yaxis": {
           "automargin": true,
           "gridcolor": "white",
           "linecolor": "white",
           "ticks": "",
           "zerolinecolor": "white",
           "zerolinewidth": 2
          }
         }
        },
        "title": {
         "text": "Hartree-Fock Energy VS Bond Distance"
        },
        "xaxis": {
         "title": {
          "text": "Bond Distance in Atomic Units"
         }
        },
        "yaxis": {
         "title": {
          "text": "Energy in Hartrees"
         }
        }
       }
      },
      "text/html": [
       "<div>\n",
       "        \n",
       "        \n",
       "            <div id=\"f8531e34-e8f3-43ce-a27f-94a5a3342e5b\" class=\"plotly-graph-div\" style=\"height:525px; width:100%;\"></div>\n",
       "            <script type=\"text/javascript\">\n",
       "                require([\"plotly\"], function(Plotly) {\n",
       "                    window.PLOTLYENV=window.PLOTLYENV || {};\n",
       "                    \n",
       "                if (document.getElementById(\"f8531e34-e8f3-43ce-a27f-94a5a3342e5b\")) {\n",
       "                    Plotly.newPlot(\n",
       "                        'f8531e34-e8f3-43ce-a27f-94a5a3342e5b',\n",
       "                        [{\"connectgaps\": false, \"marker\": {\"color\": \"blue\"}, \"mode\": \"markers\", \"name\": \"Hartree-Fock Computed\", \"type\": \"scatter\", \"x\": [0.8, 0.81, 0.8200000000000001, 0.8300000000000001, 0.8400000000000001, 0.8500000000000001, 0.8600000000000001, 0.8700000000000001, 0.8800000000000001, 0.8900000000000001, 0.9000000000000001, 0.9100000000000001, 0.9200000000000002, 0.9300000000000002, 0.9400000000000002, 0.9500000000000002, 0.9600000000000002, 0.9700000000000002, 0.9800000000000002, 0.9900000000000002, 1.0000000000000002, 1.0100000000000002, 1.0200000000000002, 1.0300000000000002, 1.0400000000000003, 1.0500000000000003, 1.0600000000000003, 1.0700000000000003, 1.0800000000000003, 1.0900000000000003, 1.1000000000000003, 1.1100000000000003, 1.1200000000000003, 1.1300000000000003, 1.1400000000000003, 1.1500000000000004, 1.1600000000000004, 1.1700000000000004, 1.1800000000000004, 1.1900000000000004, 1.2000000000000004, 1.2100000000000004, 1.2200000000000004, 1.2300000000000004, 1.2400000000000004, 1.2500000000000004, 1.2600000000000005, 1.2700000000000005, 1.2800000000000005, 1.2900000000000005, 1.3000000000000005, 1.3100000000000005, 1.3200000000000005, 1.3300000000000005, 1.3400000000000005, 1.3500000000000005, 1.3600000000000005, 1.3700000000000006, 1.3800000000000006, 1.3900000000000006, 1.4000000000000006, 1.4100000000000006, 1.4200000000000006, 1.4300000000000006, 1.4400000000000006, 1.4500000000000006, 1.4600000000000006, 1.4700000000000006, 1.4800000000000006, 1.4900000000000007, 1.5000000000000007, 1.5100000000000007, 1.5200000000000007, 1.5300000000000007, 1.5400000000000007, 1.5500000000000007, 1.5600000000000007, 1.5700000000000007, 1.5800000000000007, 1.5900000000000007, 1.6000000000000008, 1.6100000000000008, 1.6200000000000008, 1.6300000000000008, 1.6400000000000008, 1.6500000000000008, 1.6600000000000008, 1.6700000000000008, 1.6800000000000008, 1.6900000000000008, 1.7000000000000008, 1.7100000000000009, 1.7200000000000009, 1.7300000000000009, 1.7400000000000009, 1.7500000000000009, 1.760000000000001, 1.770000000000001, 1.780000000000001, 1.790000000000001], \"y\": [-0.9509877133597222, -0.9594192898653746, -0.9675028094033971, -0.9752524363013415, -0.9826816513227508, -0.9898032911752916, -0.9966295853566385, -1.0031721905428137, -1.009442222705234, -1.01545028712612, -1.0212065064673799, -1.0267205470348653, -1.0320016433681716, -1.0370586212755593, -1.041899919424123, -1.0465336095866378, -1.0509674156388489, -1.0552087313937322, -1.0592646373529744, -1.0631419164498763, -1.0668470688525558, -1.0703863258913333, -1.0737656631695587, -1.076990812912994, -1.0800672756088427, -1.0830003309819616, -1.085795048352374, -1.0884562964151074, -1.0909887524803985, -1.0933969112096764, -1.0956850928801285, -1.0978574512083727, -1.099917980761491, -1.1018705239817201, -1.1037187778491333, -1.1054663002049177, -1.107116515756224, -1.1086727217819932, -1.1101380935578113, -1.111515689516534, -1.1128084561601423, -1.1140192327372935, -1.115150755699876, -1.116205662951033, -1.117186497896153, -1.1180957133075866, -1.118935675013065, -1.119708665417127, -1.1204168868642297, -1.121062464851644, -1.1216474510997285, -1.1221738264866046, -1.122643503853959, -1.1230583306901207, -1.1234200916963295, -1.1237305112416514, -1.1239912557117753, -1.124203935756551, -1.124370108440929, -1.1244912793036361, -1.1245689043277949, -1.1245991042531878, -1.1245543599221257, -1.1244714346728002, -1.1243515634509968, -1.124195941827948, -1.1240057274543376, -1.1237820414528943, -1.1235259697521989, -1.1232385643643288, -1.1229208446087333, -1.1225737982847317, -1.1221983827948776, -1.1217955262213128, -1.12136612835723, -1.1209110616953697, -1.1204311723754898, -1.1199272810926038, -1.119400183964212, -1.118850653379347, -1.1182794387781176, -1.1176872674339227, -1.1170748451867558, -1.1164428571502647, -1.1157919683903543, -1.1151228245766345, -1.1144360526079575, -1.1137322612131957, -1.1130120415284352, -1.1122759676516345, -1.1115245971757857, -1.1107584717015828, -1.1099781173305305, -1.1091840451393864, -1.1083767516368148, -1.1075567192030595, -1.106724416513411, -1.1058802989462388, -1.1050248089762724]}, {\"marker\": {\"color\": \"red\"}, \"name\": \"Optimal Bond Distance\", \"type\": \"scatter\", \"x\": [1.4100000000000006], \"y\": [-1.124604391827369]}, {\"connectgaps\": false, \"marker\": {\"color\": \"green\"}, \"name\": \"Morse Potential Approximation\", \"type\": \"scatter\", \"x\": [0.8, 0.81, 0.8200000000000001, 0.8300000000000001, 0.8400000000000001, 0.8500000000000001, 0.8600000000000001, 0.8700000000000001, 0.8800000000000001, 0.8900000000000001, 0.9000000000000001, 0.9100000000000001, 0.9200000000000002, 0.9300000000000002, 0.9400000000000002, 0.9500000000000002, 0.9600000000000002, 0.9700000000000002, 0.9800000000000002, 0.9900000000000002, 1.0000000000000002, 1.0100000000000002, 1.0200000000000002, 1.0300000000000002, 1.0400000000000003, 1.0500000000000003, 1.0600000000000003, 1.0700000000000003, 1.0800000000000003, 1.0900000000000003, 1.1000000000000003, 1.1100000000000003, 1.1200000000000003, 1.1300000000000003, 1.1400000000000003, 1.1500000000000004, 1.1600000000000004, 1.1700000000000004, 1.1800000000000004, 1.1900000000000004, 1.2000000000000004, 1.2100000000000004, 1.2200000000000004, 1.2300000000000004, 1.2400000000000004, 1.2500000000000004, 1.2600000000000005, 1.2700000000000005, 1.2800000000000005, 1.2900000000000005, 1.3000000000000005, 1.3100000000000005, 1.3200000000000005, 1.3300000000000005, 1.3400000000000005, 1.3500000000000005, 1.3600000000000005, 1.3700000000000006, 1.3800000000000006, 1.3900000000000006, 1.4000000000000006, 1.4100000000000006, 1.4200000000000006, 1.4300000000000006, 1.4400000000000006, 1.4500000000000006, 1.4600000000000006, 1.4700000000000006, 1.4800000000000006, 1.4900000000000007, 1.5000000000000007, 1.5100000000000007, 1.5200000000000007, 1.5300000000000007, 1.5400000000000007, 1.5500000000000007, 1.5600000000000007, 1.5700000000000007, 1.5800000000000007, 1.5900000000000007, 1.6000000000000008, 1.6100000000000008, 1.6200000000000008, 1.6300000000000008, 1.6400000000000008, 1.6500000000000008, 1.6600000000000008, 1.6700000000000008, 1.6800000000000008, 1.6900000000000008, 1.7000000000000008, 1.7100000000000009, 1.7200000000000009, 1.7300000000000009, 1.7400000000000009, 1.7500000000000009, 1.760000000000001, 1.770000000000001, 1.780000000000001, 1.790000000000001], \"y\": [-0.9647212771386173, -0.9708123277293361, -0.976758000656373, -0.9825602190604799, -0.9882208840842046, -0.9937418751097011, -0.9991250499940301, -1.0043722453019779, -1.0094852765364262, -1.0144659383662895, -1.0193160048520455, -1.0240372296688927, -1.0286313463275516, -1.0331000683927343, -1.0374450896993113, -1.041668084566198, -1.045770708007981, -1.0497545959443124, -1.0536213654070925, -1.0573726147454678, -1.0610099238286592, -1.0645348542466528, -1.0679489495087677, -1.0712537352401286, -1.0744507193760597, -1.0775413923544273, -1.0805272273059467, -1.0834096802424809, -1.0861901902433453, -1.0888701796396432, -1.0914510541966553, -1.0939342032942967, -1.0963210001056634, -1.0986128017736974, -1.1008109495859724, -1.1029167691476385, -1.1049315705525327, -1.106856648552476, -1.1086932827247824, -1.110442737637992, -1.1121062630158483, -1.1136850938995393, -1.1151804508082206, -1.1165935398978375, -1.1179255531182608, -1.1191776683687633, -1.120351049651842, -1.1214468472254142, -1.1224661977533952, -1.1234102244546849, -1.1242800372505681, -1.1250767329105544, -1.1258013951966692, -1.1264550950062164, -1.1270388905130206, -1.1275538273071728, -1.1280009385332952, -1.1283812450273325, -1.1286957554518915, -1.1289454664301461, -1.1291313626783162, -1.1292544171367411, -1.1293155910995565, -1.129315834342997, -1.1292560852523317, -1.1291372709474519, -1.12896030740712, -1.1287260995919002, -1.1284355415657779, -1.1280895166164893, -1.1276888973745638, -1.127234545931106, -1.1267273139543175, -1.1261680428047838, -1.125557563649527, -1.1248966975748482, -1.1241862556979658, -1.1234270392774623, -1.1226198398225575, -1.1217654392012144, -1.1208646097470907, -1.119918114365352, -1.118926706637358, -1.1178911309242265, -1.1168121224692946, -1.11569040749949, -1.114526703325613, -1.1133217184415525, -1.1120761526224432, -1.1107906970217667, -1.1094660342674278, -1.1081028385567904, -1.1067017757507067, -1.1052635034665386, -1.1037886711701828, -1.1022779202671131, -1.1007318841924496, -1.0991511885000613, -1.0975364509507175, -1.095888281599295]}, {\"connectgaps\": false, \"marker\": {\"color\": \"blue\"}, \"name\": \"Vibrational Energy\", \"type\": \"scatter\", \"x\": [1.4, 1.4, 1.4, 1.4, 1.4, 1.4, 1.4, 1.4, 1.4, 1.4], \"y\": [-1180971.646769266, -70105.270367211, -6049.498590806212, -600.514108680747, -59.27940069532362, -4.351142218516446, 0.6534999840777154, 0.12474074042422792, -0.14618098260955464, -0.038990469201579385]}],\n",
       "                        {\"template\": {\"data\": {\"bar\": [{\"error_x\": {\"color\": \"#2a3f5f\"}, \"error_y\": {\"color\": \"#2a3f5f\"}, \"marker\": {\"line\": {\"color\": \"#E5ECF6\", \"width\": 0.5}}, \"type\": \"bar\"}], \"barpolar\": [{\"marker\": {\"line\": {\"color\": \"#E5ECF6\", \"width\": 0.5}}, \"type\": \"barpolar\"}], \"carpet\": [{\"aaxis\": {\"endlinecolor\": \"#2a3f5f\", \"gridcolor\": \"white\", \"linecolor\": \"white\", \"minorgridcolor\": \"white\", \"startlinecolor\": \"#2a3f5f\"}, \"baxis\": {\"endlinecolor\": \"#2a3f5f\", \"gridcolor\": \"white\", \"linecolor\": \"white\", \"minorgridcolor\": \"white\", \"startlinecolor\": \"#2a3f5f\"}, \"type\": \"carpet\"}], \"choropleth\": [{\"colorbar\": {\"outlinewidth\": 0, \"ticks\": \"\"}, \"type\": \"choropleth\"}], \"contour\": [{\"colorbar\": {\"outlinewidth\": 0, \"ticks\": \"\"}, \"colorscale\": [[0.0, \"#0d0887\"], [0.1111111111111111, \"#46039f\"], [0.2222222222222222, \"#7201a8\"], [0.3333333333333333, \"#9c179e\"], [0.4444444444444444, \"#bd3786\"], [0.5555555555555556, \"#d8576b\"], [0.6666666666666666, \"#ed7953\"], [0.7777777777777778, \"#fb9f3a\"], [0.8888888888888888, \"#fdca26\"], [1.0, \"#f0f921\"]], \"type\": \"contour\"}], \"contourcarpet\": [{\"colorbar\": {\"outlinewidth\": 0, \"ticks\": \"\"}, \"type\": \"contourcarpet\"}], \"heatmap\": [{\"colorbar\": {\"outlinewidth\": 0, \"ticks\": \"\"}, \"colorscale\": [[0.0, \"#0d0887\"], [0.1111111111111111, \"#46039f\"], [0.2222222222222222, \"#7201a8\"], [0.3333333333333333, \"#9c179e\"], [0.4444444444444444, \"#bd3786\"], [0.5555555555555556, \"#d8576b\"], [0.6666666666666666, \"#ed7953\"], [0.7777777777777778, \"#fb9f3a\"], [0.8888888888888888, \"#fdca26\"], [1.0, \"#f0f921\"]], \"type\": \"heatmap\"}], \"heatmapgl\": [{\"colorbar\": {\"outlinewidth\": 0, \"ticks\": \"\"}, \"colorscale\": [[0.0, \"#0d0887\"], [0.1111111111111111, \"#46039f\"], [0.2222222222222222, \"#7201a8\"], [0.3333333333333333, \"#9c179e\"], [0.4444444444444444, \"#bd3786\"], [0.5555555555555556, \"#d8576b\"], [0.6666666666666666, \"#ed7953\"], [0.7777777777777778, \"#fb9f3a\"], [0.8888888888888888, \"#fdca26\"], [1.0, \"#f0f921\"]], \"type\": \"heatmapgl\"}], \"histogram\": [{\"marker\": {\"colorbar\": {\"outlinewidth\": 0, \"ticks\": \"\"}}, \"type\": \"histogram\"}], \"histogram2d\": [{\"colorbar\": {\"outlinewidth\": 0, \"ticks\": \"\"}, \"colorscale\": [[0.0, \"#0d0887\"], [0.1111111111111111, \"#46039f\"], [0.2222222222222222, \"#7201a8\"], [0.3333333333333333, \"#9c179e\"], [0.4444444444444444, \"#bd3786\"], [0.5555555555555556, \"#d8576b\"], [0.6666666666666666, \"#ed7953\"], [0.7777777777777778, \"#fb9f3a\"], [0.8888888888888888, \"#fdca26\"], [1.0, \"#f0f921\"]], \"type\": \"histogram2d\"}], \"histogram2dcontour\": [{\"colorbar\": {\"outlinewidth\": 0, \"ticks\": \"\"}, \"colorscale\": [[0.0, \"#0d0887\"], [0.1111111111111111, \"#46039f\"], [0.2222222222222222, \"#7201a8\"], [0.3333333333333333, \"#9c179e\"], [0.4444444444444444, \"#bd3786\"], [0.5555555555555556, \"#d8576b\"], [0.6666666666666666, \"#ed7953\"], [0.7777777777777778, \"#fb9f3a\"], [0.8888888888888888, \"#fdca26\"], [1.0, \"#f0f921\"]], \"type\": \"histogram2dcontour\"}], \"mesh3d\": [{\"colorbar\": {\"outlinewidth\": 0, \"ticks\": \"\"}, \"type\": \"mesh3d\"}], \"parcoords\": [{\"line\": {\"colorbar\": {\"outlinewidth\": 0, \"ticks\": \"\"}}, \"type\": \"parcoords\"}], \"scatter\": [{\"marker\": {\"colorbar\": {\"outlinewidth\": 0, \"ticks\": \"\"}}, \"type\": \"scatter\"}], \"scatter3d\": [{\"line\": {\"colorbar\": {\"outlinewidth\": 0, \"ticks\": \"\"}}, \"marker\": {\"colorbar\": {\"outlinewidth\": 0, \"ticks\": \"\"}}, \"type\": \"scatter3d\"}], \"scattercarpet\": [{\"marker\": {\"colorbar\": {\"outlinewidth\": 0, \"ticks\": \"\"}}, \"type\": \"scattercarpet\"}], \"scattergeo\": [{\"marker\": {\"colorbar\": {\"outlinewidth\": 0, \"ticks\": \"\"}}, \"type\": \"scattergeo\"}], \"scattergl\": [{\"marker\": {\"colorbar\": {\"outlinewidth\": 0, \"ticks\": \"\"}}, \"type\": \"scattergl\"}], \"scattermapbox\": [{\"marker\": {\"colorbar\": {\"outlinewidth\": 0, \"ticks\": \"\"}}, \"type\": \"scattermapbox\"}], \"scatterpolar\": [{\"marker\": {\"colorbar\": {\"outlinewidth\": 0, \"ticks\": \"\"}}, \"type\": \"scatterpolar\"}], \"scatterpolargl\": [{\"marker\": {\"colorbar\": {\"outlinewidth\": 0, \"ticks\": \"\"}}, \"type\": \"scatterpolargl\"}], \"scatterternary\": [{\"marker\": {\"colorbar\": {\"outlinewidth\": 0, \"ticks\": \"\"}}, \"type\": \"scatterternary\"}], \"surface\": [{\"colorbar\": {\"outlinewidth\": 0, \"ticks\": \"\"}, \"colorscale\": [[0.0, \"#0d0887\"], [0.1111111111111111, \"#46039f\"], [0.2222222222222222, \"#7201a8\"], [0.3333333333333333, \"#9c179e\"], [0.4444444444444444, \"#bd3786\"], [0.5555555555555556, \"#d8576b\"], [0.6666666666666666, \"#ed7953\"], [0.7777777777777778, \"#fb9f3a\"], [0.8888888888888888, \"#fdca26\"], [1.0, \"#f0f921\"]], \"type\": \"surface\"}], \"table\": [{\"cells\": {\"fill\": {\"color\": \"#EBF0F8\"}, \"line\": {\"color\": \"white\"}}, \"header\": {\"fill\": {\"color\": \"#C8D4E3\"}, \"line\": {\"color\": \"white\"}}, \"type\": \"table\"}]}, \"layout\": {\"annotationdefaults\": {\"arrowcolor\": \"#2a3f5f\", \"arrowhead\": 0, \"arrowwidth\": 1}, \"colorscale\": {\"diverging\": [[0, \"#8e0152\"], [0.1, \"#c51b7d\"], [0.2, \"#de77ae\"], [0.3, \"#f1b6da\"], [0.4, \"#fde0ef\"], [0.5, \"#f7f7f7\"], [0.6, \"#e6f5d0\"], [0.7, \"#b8e186\"], [0.8, \"#7fbc41\"], [0.9, \"#4d9221\"], [1, \"#276419\"]], \"sequential\": [[0.0, \"#0d0887\"], [0.1111111111111111, \"#46039f\"], [0.2222222222222222, \"#7201a8\"], [0.3333333333333333, \"#9c179e\"], [0.4444444444444444, \"#bd3786\"], [0.5555555555555556, \"#d8576b\"], [0.6666666666666666, \"#ed7953\"], [0.7777777777777778, \"#fb9f3a\"], [0.8888888888888888, \"#fdca26\"], [1.0, \"#f0f921\"]], \"sequentialminus\": [[0.0, \"#0d0887\"], [0.1111111111111111, \"#46039f\"], [0.2222222222222222, \"#7201a8\"], [0.3333333333333333, \"#9c179e\"], [0.4444444444444444, \"#bd3786\"], [0.5555555555555556, \"#d8576b\"], [0.6666666666666666, \"#ed7953\"], [0.7777777777777778, \"#fb9f3a\"], [0.8888888888888888, \"#fdca26\"], [1.0, \"#f0f921\"]]}, \"colorway\": [\"#636efa\", \"#EF553B\", \"#00cc96\", \"#ab63fa\", \"#FFA15A\", \"#19d3f3\", \"#FF6692\", \"#B6E880\", \"#FF97FF\", \"#FECB52\"], \"font\": {\"color\": \"#2a3f5f\"}, \"geo\": {\"bgcolor\": \"white\", \"lakecolor\": \"white\", \"landcolor\": \"#E5ECF6\", \"showlakes\": true, \"showland\": true, \"subunitcolor\": \"white\"}, \"hoverlabel\": {\"align\": \"left\"}, \"hovermode\": \"closest\", \"mapbox\": {\"style\": \"light\"}, \"paper_bgcolor\": \"white\", \"plot_bgcolor\": \"#E5ECF6\", \"polar\": {\"angularaxis\": {\"gridcolor\": \"white\", \"linecolor\": \"white\", \"ticks\": \"\"}, \"bgcolor\": \"#E5ECF6\", \"radialaxis\": {\"gridcolor\": \"white\", \"linecolor\": \"white\", \"ticks\": \"\"}}, \"scene\": {\"xaxis\": {\"backgroundcolor\": \"#E5ECF6\", \"gridcolor\": \"white\", \"gridwidth\": 2, \"linecolor\": \"white\", \"showbackground\": true, \"ticks\": \"\", \"zerolinecolor\": \"white\"}, \"yaxis\": {\"backgroundcolor\": \"#E5ECF6\", \"gridcolor\": \"white\", \"gridwidth\": 2, \"linecolor\": \"white\", \"showbackground\": true, \"ticks\": \"\", \"zerolinecolor\": \"white\"}, \"zaxis\": {\"backgroundcolor\": \"#E5ECF6\", \"gridcolor\": \"white\", \"gridwidth\": 2, \"linecolor\": \"white\", \"showbackground\": true, \"ticks\": \"\", \"zerolinecolor\": \"white\"}}, \"shapedefaults\": {\"line\": {\"color\": \"#2a3f5f\"}}, \"ternary\": {\"aaxis\": {\"gridcolor\": \"white\", \"linecolor\": \"white\", \"ticks\": \"\"}, \"baxis\": {\"gridcolor\": \"white\", \"linecolor\": \"white\", \"ticks\": \"\"}, \"bgcolor\": \"#E5ECF6\", \"caxis\": {\"gridcolor\": \"white\", \"linecolor\": \"white\", \"ticks\": \"\"}}, \"title\": {\"x\": 0.05}, \"xaxis\": {\"automargin\": true, \"gridcolor\": \"white\", \"linecolor\": \"white\", \"ticks\": \"\", \"zerolinecolor\": \"white\", \"zerolinewidth\": 2}, \"yaxis\": {\"automargin\": true, \"gridcolor\": \"white\", \"linecolor\": \"white\", \"ticks\": \"\", \"zerolinecolor\": \"white\", \"zerolinewidth\": 2}}}, \"title\": {\"text\": \"Hartree-Fock Energy VS Bond Distance\"}, \"xaxis\": {\"title\": {\"text\": \"Bond Distance in Atomic Units\"}}, \"yaxis\": {\"title\": {\"text\": \"Energy in Hartrees\"}}},\n",
       "                        {\"responsive\": true}\n",
       "                    ).then(function(){\n",
       "                            \n",
       "var gd = document.getElementById('f8531e34-e8f3-43ce-a27f-94a5a3342e5b');\n",
       "var x = new MutationObserver(function (mutations, observer) {{\n",
       "        var display = window.getComputedStyle(gd).display;\n",
       "        if (!display || display === 'none') {{\n",
       "            console.log([gd, 'removed!']);\n",
       "            Plotly.purge(gd);\n",
       "            observer.disconnect();\n",
       "        }}\n",
       "}});\n",
       "\n",
       "// Listen for the removal of the full notebook cells\n",
       "var notebookContainer = gd.closest('#notebook-container');\n",
       "if (notebookContainer) {{\n",
       "    x.observe(notebookContainer, {childList: true});\n",
       "}}\n",
       "\n",
       "// Listen for the clearing of the current output cell\n",
       "var outputEl = gd.closest('.output');\n",
       "if (outputEl) {{\n",
       "    x.observe(outputEl, {childList: true});\n",
       "}}\n",
       "\n",
       "                        })\n",
       "                };\n",
       "                });\n",
       "            </script>\n",
       "        </div>"
      ]
     },
     "metadata": {},
     "output_type": "display_data"
    }
   ],
   "source": [
    "#prepare data for use with graphing\n",
    "figure = { \n",
    "    \"data\": [\n",
    "        \n",
    "        #create the Hartree-Fock generated Potential Energy Surface\n",
    "        {\n",
    "            \"type\":\"scatter\",\n",
    "            \"x\":R,\n",
    "            \"y\":E,\n",
    "            \"connectgaps\":False,\n",
    "            \"mode\":\"markers\", \n",
    "            \"name\":\"Hartree-Fock Computed\",\n",
    "            \"marker\":{\"color\":\"blue\"}\n",
    "        },\n",
    "    \n",
    "        #Highlight the minimum energy point in red\n",
    "        {\n",
    "            \"type\":\"scatter\",\n",
    "            \"x\":[optimalR],\n",
    "            \"y\":[minE],\n",
    "            \"name\":\"Optimal Bond Distance\",\n",
    "            \"marker\":{\"color\":\"red\"}\n",
    "        },\n",
    "        \n",
    "        #Create and plot the Morse Potential fit\n",
    "        {\n",
    "            \"type\":\"scatter\",\n",
    "            \"x\":R,\n",
    "            \"y\": [ morsePotential(r, popt[0], popt[1], popt[2]) for r in R ],\n",
    "            \"connectgaps\":False,\n",
    "            \"name\":\"Morse Potential Approximation\",\n",
    "            \"marker\":{\"color\":\"green\"}\n",
    "        },\n",
    "        \n",
    "        {\n",
    "            \"type\":\"scatter\",\n",
    "            \"x\":[1.4]*len(EHO),\n",
    "            \"y\":EHO,\n",
    "            \"connectgaps\":False,\n",
    "            \"name\":\"Vibrational Energy\",\n",
    "            \"marker\":{\"color\":\"blue\"}\n",
    "        }\n",
    "        \n",
    "    ],\n",
    "    \n",
    "    #Set up the layout of the graph\n",
    "    \"layout\":\n",
    "        {\n",
    "           \"xaxis\":{\"title\":\"Bond Distance in Atomic Units\"},\n",
    "           \"yaxis\":{\"title\":\"Energy in Hartrees\"},\n",
    "            \"title\":{\"text\":\"Hartree-Fock Energy VS Bond Distance\"}\n",
    "        },    \n",
    "}\n",
    "\n",
    "#Loop over all MO Energies\n",
    "#for vibrationalEnergy in ve:\n",
    "#        figure[\"data\"].append(\n",
    "#            {\n",
    "#                \"type\":\"scatter\",\n",
    "#                \"x\":[1.4] * len(EHO),\n",
    "#                    \"y\":EHO \n",
    "#            }\n",
    "#        )\n",
    "    \n",
    "iplot(figure)\n"
   ]
  }
 ],
 "metadata": {
  "kernelspec": {
   "display_name": "Python 3",
   "language": "python",
   "name": "python3"
  },
  "language_info": {
   "codemirror_mode": {
    "name": "ipython",
    "version": 3
   },
   "file_extension": ".py",
   "mimetype": "text/x-python",
   "name": "python",
   "nbconvert_exporter": "python",
   "pygments_lexer": "ipython3",
   "version": "3.7.3"
  }
 },
 "nbformat": 4,
 "nbformat_minor": 2
}
