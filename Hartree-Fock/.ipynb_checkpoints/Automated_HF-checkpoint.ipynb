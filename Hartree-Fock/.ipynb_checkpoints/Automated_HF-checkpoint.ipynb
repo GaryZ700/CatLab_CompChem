{
 "cells": [
  {
   "cell_type": "code",
   "execution_count": 1,
   "metadata": {},
   "outputs": [
    {
     "ename": "ImportError",
     "evalue": "cannot import name 'guassian' from 'molecule' (C:\\Users\\garyz\\Research\\CatLab_CompChem\\molecule.py)",
     "output_type": "error",
     "traceback": [
      "\u001b[1;31m---------------------------------------------------------------------------\u001b[0m",
      "\u001b[1;31mImportError\u001b[0m                               Traceback (most recent call last)",
      "\u001b[1;32m<ipython-input-1-344a20778385>\u001b[0m in \u001b[0;36m<module>\u001b[1;34m\u001b[0m\n\u001b[0;32m      1\u001b[0m \u001b[1;32mfrom\u001b[0m \u001b[0mmolecule\u001b[0m \u001b[1;32mimport\u001b[0m \u001b[0matom\u001b[0m\u001b[1;33m\u001b[0m\u001b[1;33m\u001b[0m\u001b[0m\n\u001b[0;32m      2\u001b[0m \u001b[1;32mfrom\u001b[0m \u001b[0mmolecule\u001b[0m \u001b[1;32mimport\u001b[0m \u001b[0mvector\u001b[0m\u001b[1;33m\u001b[0m\u001b[1;33m\u001b[0m\u001b[0m\n\u001b[1;32m----> 3\u001b[1;33m \u001b[1;32mfrom\u001b[0m \u001b[0mmolecule\u001b[0m \u001b[1;32mimport\u001b[0m \u001b[0mguassian\u001b[0m\u001b[1;33m\u001b[0m\u001b[1;33m\u001b[0m\u001b[0m\n\u001b[0m\u001b[0;32m      4\u001b[0m \u001b[1;32mfrom\u001b[0m \u001b[0mmolecule\u001b[0m \u001b[1;32mimport\u001b[0m \u001b[0mmolecule\u001b[0m\u001b[1;33m\u001b[0m\u001b[1;33m\u001b[0m\u001b[0m\n\u001b[0;32m      5\u001b[0m \u001b[1;32mfrom\u001b[0m \u001b[0mnotebookImporter\u001b[0m \u001b[1;32mimport\u001b[0m \u001b[0mimportNotebook\u001b[0m\u001b[1;33m\u001b[0m\u001b[1;33m\u001b[0m\u001b[0m\n",
      "\u001b[1;31mImportError\u001b[0m: cannot import name 'guassian' from 'molecule' (C:\\Users\\garyz\\Research\\CatLab_CompChem\\molecule.py)"
     ]
    }
   ],
   "source": [
    "from molecule import atom\n",
    "from molecule import vector\n",
    "from molecule import gaussian\n",
    "from molecule import molecule\n",
    "from notebookImporter import importNotebook\n",
    "\n",
    "HartreeFock = importNotebook(\"HartreeClass\")\n",
    "\n",
    "#set up the automated calculations\n",
    "E = []\n",
    "R = []\n",
    "startR = 0.5\n",
    "endR = 1.5\n",
    "step = 0.1\n",
    "basisName = \"def2-svp\"\n",
    "convergenceCritera = pow(10, -20)\n",
    "maxIterations = 100\n",
    "\n",
    "delta = (endR - startR) / step\n",
    "currentR = startR\n",
    "\n",
    "while(not(currentR >= endR)):\n",
    "    \n",
    "    #define the molecular system\n",
    "    system = molecule()\n",
    "    system.addAtom(atom(vector(5,5,5+currentR), 1, 1))\n",
    "    system.addAtom(atom(vector(5,5,5), 2, 1))\n",
    "    system.addBasis(basisName)\n",
    "    \n",
    "    #Set up the Hartree Procedure\n",
    "    HF = HartreeFock.HF(system, convergenceCritera, maxIterations)\n",
    "    \n",
    "    #Store Bond distance and Energy\n",
    "    print(\"Bond Distance: \" + str(currentR))\n",
    "    R.append(currentR)\n",
    "    E.append(HF.SCF())\n",
    "    print()\n",
    "    \n",
    "    #update the current intenuclear distance\n",
    "    currentR += step"
   ]
  },
  {
   "cell_type": "code",
   "execution_count": null,
   "metadata": {},
   "outputs": [],
   "source": [
    "from matplotlib import pyplot as plt\n",
    "\n",
    "#use inline to display graph in notebook\n",
    "#use qt to display graph in a separate window\n",
    "%matplotlib inline\n",
    "\n",
    "plt.rcParams.update({'font.size': 25})\n",
    "\n",
    "start = 0\n",
    "end = len(R)\n",
    "top, bottom = plt.ylim()\n",
    "plt.plot(R[start:end], E[start:end], '-.')\n",
    "plt.show()\n",
    "\n",
    "#print optimized bond distance\n",
    "print(\"Optimal Bond Distance: \" + str(R[(E.index(min(E)))]))"
   ]
  }
 ],
 "metadata": {
  "kernelspec": {
   "display_name": "Python 3",
   "language": "python",
   "name": "python3"
  },
  "language_info": {
   "codemirror_mode": {
    "name": "ipython",
    "version": 3
   },
   "file_extension": ".py",
   "mimetype": "text/x-python",
   "name": "python",
   "nbconvert_exporter": "python",
   "pygments_lexer": "ipython3",
   "version": "3.7.1"
  }
 },
 "nbformat": 4,
 "nbformat_minor": 2
}
