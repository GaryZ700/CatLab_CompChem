{
 "cells": [
  {
   "cell_type": "code",
   "execution_count": 1,
   "metadata": {
    "scrolled": false
   },
   "outputs": [
    {
     "name": "stdout",
     "output_type": "stream",
     "text": [
      "\n",
      "Hartree-Fock Computation: 45.0%\n",
      "Hartree-Fock Computation: 47.0%\n",
      "Hartree-Fock Computation: 50.0%\n",
      "Hartree-Fock Computation: 52.0%\n",
      "Hartree-Fock Computation: 55.0%\n",
      "Hartree-Fock Computation: 57.0%\n",
      "Hartree-Fock Computation: 60.0%\n",
      "Hartree-Fock Computation: 62.0%\n",
      "Hartree-Fock Computation: 65.0%\n",
      "Hartree-Fock Computation: 67.0%\n",
      "Hartree-Fock Computation: 70.0%\n",
      "Hartree-Fock Computation: 72.0%\n",
      "Hartree-Fock Computation: 75.0%\n",
      "Hartree-Fock Computation: 77.0%\n",
      "Hartree-Fock Computation: 80.0%\n",
      "Hartree-Fock Computation: 82.0%\n",
      "Hartree-Fock Computation: 85.0%\n",
      "Hartree-Fock Computation: 87.0%\n",
      "Hartree-Fock Computation: 90.0%\n",
      "Hartree-Fock Computation: 92.0%\n",
      "Hartree-Fock Computation: 95.0%\n",
      "Hartree-Fock Computation: 97.0%\n",
      "Hartree-Fock Computation Complete\n"
     ]
    }
   ],
   "source": [
    "from molecule import atom\n",
    "from molecule import vector\n",
    "from molecule import gaussian\n",
    "from molecule import molecule\n",
    "from morsePotential import morsePotential\n",
    "from notebookImporter import importNotebook\n",
    "from IPython.display import clear_output\n",
    "\n",
    "HartreeFock = importNotebook(\"Hartree_Class\")\n",
    "\n",
    "#set up the automated calculations used to generate the surface potential\n",
    "\n",
    "#User Specified Variables\n",
    "\n",
    "#Enter the atomic number for atoms 1 and 2\n",
    "atom1 = 1\n",
    "atom2 = 1\n",
    "\n",
    "#Enter the number of electrons for atom 1 and 2\n",
    "#Note the total number of electrons must be a multiple of 2, \n",
    "#otherwise, the computation will round the total number of electrons \n",
    "#down to the nearest multiple of 2\n",
    "atomN1 = 1\n",
    "atomN2 = 1\n",
    "\n",
    "#Select a basis, for a list of available basis sets, please see the \"basisSets\" folder\n",
    "basisName = \"DEF2-SVP\"\n",
    "\n",
    "#Enter Starting and End Bond distance for the diatomic molecule\n",
    "startR = .9\n",
    "endR = 2\n",
    "\n",
    "#Please enter the distance the bond distance should increase each iteration\n",
    "#The smaller the number, the more accurate and time-consuming the computation will be\n",
    "step = 0.05\n",
    "\n",
    "#Please enter how small the difference in energy between two ground state energy calculations\n",
    "#must be in order to convergence to occur\n",
    "convergenceCritera = pow(10, -10)\n",
    "\n",
    "#Please enter the maximum number of iterations the SCF procedure can take before\n",
    "#the computation will fail as being unable to converge\n",
    "maxIterations = 100\n",
    "\n",
    "#System Defined Variables\n",
    "E = []\n",
    "R = []\n",
    "basisSets = []\n",
    "Xs = []\n",
    "MOEnergy = []\n",
    "delta = (endR - startR) / step\n",
    "currentR = startR\n",
    "\n",
    "print()\n",
    "\n",
    "while(not(currentR >= endR)):\n",
    "    \n",
    "    #define the molecular system\n",
    "    system = molecule()\n",
    "    system.addAtom(atom(vector(1,1,2+currentR), atom1, atomN1))\n",
    "    system.addAtom(atom(vector(1,1,2), atom2, atomN2))\n",
    "\n",
    "    system.addBasis(basisName)\n",
    "    \n",
    "    #Set up the Hartree Procedure\n",
    "    HF = HartreeFock.HF(system, convergenceCritera, maxIterations)\n",
    "\n",
    "    #Store Bond distance, associated Energy, and MO Energies\n",
    "    R.append(currentR * pow(10, -10))\n",
    "    E.append(HF.SCF() * 2.19 * pow(10, 5))\n",
    "    MOEnergy.append(HF.MOEnergy)\n",
    "    basisSets.append( system.getBasis() )\n",
    "    Xs.append( HF.X )\n",
    " \n",
    "    #clear_output()\n",
    "    print(\"Hartree-Fock Computation: \" + str(currentR * 100 // endR) + \"%\")\n",
    "    \n",
    "    #update the current intenuclear distance\n",
    "    currentR += step\n",
    "    \n",
    "print(\"Hartree-Fock Computation Complete\")"
   ]
  },
  {
   "cell_type": "code",
   "execution_count": 2,
   "metadata": {
    "scrolled": true
   },
   "outputs": [
    {
     "data": {
      "text/html": [
       "        <script type=\"text/javascript\">\n",
       "        window.PlotlyConfig = {MathJaxConfig: 'local'};\n",
       "        if (window.MathJax) {MathJax.Hub.Config({SVG: {font: \"STIX-Web\"}});}\n",
       "        if (typeof require !== 'undefined') {\n",
       "        require.undef(\"plotly\");\n",
       "        requirejs.config({\n",
       "            paths: {\n",
       "                'plotly': ['https://cdn.plot.ly/plotly-latest.min']\n",
       "            }\n",
       "        });\n",
       "        require(['plotly'], function(Plotly) {\n",
       "            window._Plotly = Plotly;\n",
       "        });\n",
       "        }\n",
       "        </script>\n",
       "        "
      ]
     },
     "metadata": {},
     "output_type": "display_data"
    },
    {
     "name": "stdout",
     "output_type": "stream",
     "text": [
      "[ 2.26691423e+00  2.62407134e+04 -8.65348778e+00  2.28286808e+00]\n",
      "[[-9.23342676e+09  1.53086370e+16 -7.98209212e+11  1.62045431e+09]\n",
      " [ 2.93715320e+16  3.31131474e+22  5.49965267e+17  1.15311964e+16]\n",
      " [-1.44217615e+12  4.01929631e+17 -6.27162440e+13  1.92014085e+11]\n",
      " [-3.16904729e+09  2.19400102e+16 -3.35043034e+11  1.26966187e+10]]\n"
     ]
    }
   ],
   "source": [
    "#Setup system for graphing purposes\n",
    "import math\n",
    "import scipy.integrate as integrate\n",
    "import scipy.optimize as optimize\n",
    "import numpy as np\n",
    "from plotly.offline import iplot, init_notebook_mode\n",
    "init_notebook_mode(connected=True)\n",
    "\n",
    "#prepare morse potential for graphing\n",
    "#morse = morsePotential(R, E)\n",
    "\n",
    "#create a curve fitted morsePotential of the data\n",
    "#uses the least squares method to fit the potential via SciPy\n",
    "#def morsePotential(r, r0, A, D, a1, a2, a3):\n",
    "def morsePotential(r, r0, A, D, a):\n",
    "    return A + D*pow( (1-np.exp(-(a*(r-r0)))), 2) \n",
    "    #return D * np.exp(-2*a*(r-r0)) - 2*D*np.exp(-a*(r-r0)) + c \n",
    "    #return a0 * (a1 * (r - r0) + a2 * pow((r - r0), 2) + a3 * pow(r-r0, 3)) + a4\n",
    "    #return (a1 * np.exp(-2 * a2 * ( r - r0)) - (2 * a1 * np.exp(-a2 * ( r - r0)))) + c\n",
    "    #return (a1 * np.exp(-a2 * r) * (1 - (a3*r))) - (a4 / (pow(r,6) + (a5*pow(r,-6)))) \n",
    "    #return A - (D*( 1 + a1*(r-r0) + a2*pow((r-r0),2) + a3*pow(r-r0, 3) ) * np.exp(-a1*(r-r0)))\n",
    "    \n",
    "popt, pcov = optimize.curve_fit(morsePotential, R, E)\n",
    "\n",
    "print(popt)\n",
    "print(pcov)\n",
    "\n",
    "#Prepare data for graphing\n",
    "minEIndex = E.index(min(E))\n",
    "minE = E.pop(minEIndex)\n",
    "optimalR = R.copy().pop(minEIndex)\n",
    "#basisSet = basisSets[ minEIndex ]\n",
    "#X = Xs[minEIndex]"
   ]
  },
  {
   "cell_type": "markdown",
   "metadata": {},
   "source": [
    "#morseData = morse.computePotential()\n",
    "#w = (morse.a / (2 * math.pi)) * pow((2 *  morse.D / u), 0.5)\n",
    "#print(w)\n",
    "\n",
    "#k = 4 * math.pi * math.sqrt(2 * morse.D) / morse.a\n",
    "#print(\"K: \" + str(k))\n",
    "\n",
    "ve = []\n",
    "#for n in range(18):\n",
    "#    #ve.append( w * ((n + .5) - pow((n+.5),2)) )\n",
    "#    ve.append( -morse.D + (w * (n + .5)) - ( (pow(w,2) /  (4*morse.D)) * pow((n + .5), 2) )  )\n",
    "#print(ve)\n",
    "\n",
    "\n",
    "#print optimized bond distance\n",
    "print(\"Optimal Bond Distance: \" + str(R[minEIndex]))\n",
    "\n",
    "\n",
    "size = 5\n",
    "basisSet = []\n",
    "u = 0.5\n",
    "r0 = popt[1]\n",
    "def newPlaneWave(k):\n",
    "    \n",
    "    def planeWave(x):\n",
    "       # print(\"||\"*20)\n",
    "       # print(x)\n",
    "        return math.cos(k* math.pi * (x-r0)) + math.sin(k * math.pi * (x))*1j \n",
    "    \n",
    "    return planeWave\n",
    "\n",
    "    \n",
    "class basisFunction:\n",
    "    \n",
    "    k = 0\n",
    "    f = 0\n",
    "    normalization = 0\n",
    "    \n",
    "    def __init__(self, f, k, allSpace=1):\n",
    "        \n",
    "        self.k = k\n",
    "        self.f = f \n",
    "        self.normalization = math.sqrt(1 / allSpace)\n",
    "    \n",
    "    def compute(self, x):\n",
    "        #print(self.normalization)\n",
    "        return self.normalization * self.f(x)\n",
    "    \n",
    "    def compute2ndPD(self, x):\n",
    "        return -self.f(x) * self.normalization\n",
    "    \n",
    "\n",
    "for n in range(size):\n",
    "    basisSet.append( basisFunction(newPlaneWave((2*n + 1) ), (2*n + 1), 1) )\n",
    "    \n",
    "V = np.zeros([size, size], dtype = complex)\n",
    "T = np.zeros([size, size], dtype = complex)\n",
    "S = np.zeros([size, size], dtype = complex)\n",
    "\n",
    "for index1, b1 in enumerate(basisSet):\n",
    "    for index2, b2 in enumerate(basisSet):\n",
    "        \n",
    "        #base = lambda x : b1.compute(x).conjugate() * b2.compute(x)\n",
    "        #real = lambda x : base(x).real\n",
    "        #imag = lambda x : base(x).imag \n",
    "        \n",
    "        SIntegrandR = lambda x : (b1.compute(x).conjugate() * b2.compute(x)).real\n",
    "        SIntegrandI = lambda x :(b1.compute(x).conjugate() * b2.compute(x)).imag\n",
    "        \n",
    "        S[index1, index2] += integrate.quad(SIntegrandR, -50, 50, limit=1000)[0] + integrate.quad(SIntegrandI, -50, 50, limit=1000)[0]*1j\n",
    "        \n",
    "        VIntegrandR = lambda x : (b1.compute(x).conjugate() * morsePotential(x, popt[0], popt[1], popt[2], popt[3], popt[4]) * b2.compute(x)).real\n",
    "        VIntegrandI = lambda x : (b1.compute(x).conjugate() * morsePotential(x, popt[0], popt[1], popt[2], popt[3], popt[4]) * b2.compute(x)).imag\n",
    "        \n",
    "        V[index1, index2] = integrate.quad(VIntegrandR, -50, 50, limit = 1000)[0] + integrate.quad(VIntegrandI, -50, 50, limit = 1000)[0]*1j\n",
    "        \n",
    "for index1, b1 in enumerate(basisSet):\n",
    "    for index2, b2 in enumerate(basisSet):\n",
    "        \n",
    "        TIntegrandR = lambda x : (b1.compute(x).conjugate() * (1/(2 * u)) * b2.compute2ndPD(x)).real\n",
    "        TIntegrandI = lambda x : (b1.compute(x).conjugate() * (1/(2 * u)) * b2.compute2ndPD(x)).imag\n",
    "        \n",
    "        T[index1, index2] = integrate.quad(TIntegrandR, -50, 50, limit=1000)[0] + integrate.quad(TIntegrandI, -50, 50, limit=1000)[0] * 1j\n",
    "\n",
    "print()\n",
    "print(\"S\"*20)\n",
    "print(S)\n",
    "print()\n",
    "print()\n",
    "print(V)\n",
    "print(\"------\")\n",
    "print(T)\n",
    "\n",
    "H = T + V\n",
    "\n",
    "print(\"*\"*20)\n",
    "print(H)\n",
    "\n",
    "\n",
    "print(\"&\"*5)\n",
    "print(H)\n",
    "EPW = np.linalg.eigh(H)[0]\n",
    "\n",
    "print(\"|*)\"*20)\n",
    "\n",
    "for e in EPW:\n",
    "    print(e)\n",
    "    "
   ]
  },
  {
   "cell_type": "markdown",
   "metadata": {},
   "source": [
    "size = 10\n",
    "L = 1.41\n",
    "\n",
    "m = 0.5\n",
    "basis = []\n",
    "\n",
    "def zeroError(x, tolerance=\"\"):\n",
    "    \n",
    "    if(tolerance == \"\"):\n",
    "        tolerance = pow(10, -14)\n",
    "    \n",
    "    if(abs(x) < tolerance):\n",
    "        return 0\n",
    "    else:\n",
    "        return x\n",
    "             \n",
    "class basisFunction:\n",
    "    \n",
    "    n = 1\n",
    "    L = 1\n",
    "    normalization = 1\n",
    "    \n",
    "    def __init__(self, n, L):\n",
    "        \n",
    "        self.n = n\n",
    "        self.L = L\n",
    "        self.normalization = math.sqrt(2/L)\n",
    "\n",
    "    def compute(self, x):\n",
    "        return self.normalization * math.sin(self.n*math.pi*x / self.L)\n",
    "    \n",
    "    def compute2ndPD(self, x):\n",
    "        return self.compute(x)\n",
    "\n",
    "for n in range(size):\n",
    "    basis.append( basisFunction(n+1, L) )\n",
    "    \n",
    "S = np.zeros([size, size])\n",
    "V = np.zeros([size, size])\n",
    "T = np.zeros([size, size])\n",
    "\n",
    "for index1, b1 in enumerate(basis):\n",
    "    for index2, b2 in enumerate(basis):\n",
    "        \n",
    "        SIntegrand = lambda x : b1.compute(x) * b2.compute(x)\n",
    "\n",
    "        S[index1, index2] += zeroError(integrate.quad(SIntegrand, 0, L)[0])\n",
    "\n",
    "        VIntegrand = lambda x : b1.compute(x) * morsePotential(x, popt[0], popt[1], popt[2], popt[3], popt[4]) * b2.compute(x)\n",
    "        V[index1, index2] += zeroError(integrate.quad(VIntegrand, 0, L)[0])\n",
    "        \n",
    "        TIntegrand = lambda x : b1.compute(x) * (1/(2*m)) * b2.compute2ndPD(x)\n",
    "        T[index1, index2] += zeroError(integrate.quad(TIntegrand, 0, L)[0]) \n",
    "        \n",
    "print(S)\n",
    "print(\"V\"*40)\n",
    "print(V)\n",
    "print(\"T\"*50)\n",
    "print(T)\n",
    "\n",
    "H = V + T\n",
    "print(\"H\"*70)\n",
    "print(H)\n",
    "\n",
    "PIB = np.linalg.eigh(H)[0]"
   ]
  },
  {
   "cell_type": "code",
   "execution_count": 3,
   "metadata": {
    "scrolled": false
   },
   "outputs": [
    {
     "name": "stderr",
     "output_type": "stream",
     "text": [
      "A:\\Apps\\Anaconda\\lib\\site-packages\\ipykernel_launcher.py:54: IntegrationWarning:\n",
      "\n",
      "The occurrence of roundoff error is detected, which prevents \n",
      "  the requested tolerance from being achieved.  The error may be \n",
      "  underestimated.\n",
      "\n"
     ]
    },
    {
     "name": "stdout",
     "output_type": "stream",
     "text": [
      "Overlap Error: i=0, j=0\n",
      "0.9999999999999999\n",
      "Overlap Error: i=2, j=2\n",
      "0.9999999999999998\n",
      "Overlap Error: i=3, j=3\n",
      "1.0\n",
      "Overlap Error: i=4, j=4\n",
      "1.0\n",
      "\n",
      "Overlap Matrix: \n",
      "\n",
      "[[ 1.00000000e+00  0.00000000e+00  2.77555756e-17  0.00000000e+00\n",
      "   1.38777878e-17]\n",
      " [ 0.00000000e+00  1.00000000e+00  1.38777878e-17  0.00000000e+00\n",
      "   3.81639165e-17]\n",
      " [ 2.77555756e-17  1.38777878e-17  1.00000000e+00 -2.08166817e-17\n",
      "   5.48606299e-17]\n",
      " [ 0.00000000e+00  0.00000000e+00 -2.08166817e-17  1.00000000e+00\n",
      "   1.38777878e-17]\n",
      " [ 1.38777878e-17  3.81639165e-17  5.48606299e-17  1.38777878e-17\n",
      "   1.00000000e+00]]\n",
      "\n",
      "****************************************\n",
      "\n",
      "V\n",
      "\n",
      "[[0. 0. 0. 0. 0.]\n",
      " [0. 0. 0. 0. 0.]\n",
      " [0. 0. 0. 0. 0.]\n",
      " [0. 0. 0. 0. 0.]\n",
      " [0. 0. 0. 0. 0.]]\n",
      "\n",
      "****************************************\n",
      "\n",
      "T\n",
      "\n",
      "[[ 4.42398434e-01  1.26478960e-17 -5.50695315e-01 -3.52907807e-17\n",
      "  -7.94860221e-02]\n",
      " [-6.32767493e-17  1.22119922e+00 -5.12827628e-17 -7.94860221e-01\n",
      "   1.25957167e-16]\n",
      " [-5.50695315e-01 -2.84060969e-17  1.80529980e+00  6.93889390e-17\n",
      "  -9.27384236e-01]\n",
      " [-4.36933476e-17 -7.94860221e-01  8.32667268e-17  2.22715023e+00\n",
      "  -2.77555756e-17]\n",
      " [-7.94860221e-02  1.38777878e-17 -9.27384236e-01  8.32667268e-17\n",
      "   2.51514427e+00]]\n",
      "\n",
      "****************************************\n",
      "\n",
      "[[ 4.42398434e-01  1.26478960e-17 -5.50695315e-01 -3.52907807e-17\n",
      "  -7.94860221e-02]\n",
      " [-6.32767493e-17  1.22119922e+00 -5.12827628e-17 -7.94860221e-01\n",
      "   1.25957167e-16]\n",
      " [-5.50695315e-01 -2.84060969e-17  1.80529980e+00  6.93889390e-17\n",
      "  -9.27384236e-01]\n",
      " [-4.36933476e-17 -7.94860221e-01  8.32667268e-17  2.22715023e+00\n",
      "  -2.77555756e-17]\n",
      " [-7.94860221e-02  1.38777878e-17 -9.27384236e-01  8.32667268e-17\n",
      "   2.51514427e+00]]\n",
      "\n",
      "[0.17204681 1.41428448 3.17651121 0.78354348 2.66480596]\n",
      "5\n"
     ]
    }
   ],
   "source": [
    "from scipy.misc import derivative as ddx\n",
    "\n",
    "u = 1\n",
    "w = 1\n",
    "re = 1\n",
    "test = 1 \n",
    "\n",
    "#d, r0, a\n",
    "\n",
    "#Returns a lambda function of the nth hermite polynomial\n",
    "def hermite(n, k):\n",
    "    \n",
    "    c = pow(-1, k) * math.factorial(n) / ( math.factorial(k) * math.factorial(n - 2*k) )\n",
    "        \n",
    "    if(k == 0):\n",
    "        return lambda r : c * pow(2*math.sqrt(u*w)*( (r-re) * test ), n-(2*k))\n",
    "    else:\n",
    "        return lambda r : c * pow(2*math.sqrt(u*w)*( (r-re) * test ), n-(2*k)) + hermite(n, k-1)(r)\n",
    "\n",
    "def buildHermite(n):\n",
    "    \n",
    "    return hermite(n, n // 2)\n",
    "\n",
    "#returns the normalization constant for the Harmonic Oscillator Function\n",
    "def C(n):\n",
    "    \n",
    "    return math.sqrt( math.sqrt(u*w*pow(test,2)) /  (pow(2, n) * math.factorial(n) * np.sqrt(math.pi)) ) \n",
    "\n",
    "#Creates a new Harmonic Oscillator function\n",
    "#and returns it as a lambda function\n",
    "def newHO(n):\n",
    "    \n",
    "    return lambda r : C(n) * buildHermite(n)(r) * np.exp(-u * w * pow((r-re) * test,2) / 2)\n",
    "\n",
    "basisSize = 5\n",
    "basisSet = []\n",
    "S = np.zeros([basisSize, basisSize])\n",
    "V = np.zeros([basisSize, basisSize])\n",
    "T = np.zeros([basisSize, basisSize])\n",
    "\n",
    "Tints = []\n",
    "Vints = []\n",
    "\n",
    "#Build the basis Fucntions\n",
    "for i in range(basisSize):\n",
    "    basisSet.append( newHO(i) )\n",
    "    \n",
    "#Verify orthonormality of the basis set\n",
    "for i in range(basisSize):\n",
    "    for j in range(basisSize):\n",
    "        \n",
    "        integrand = lambda r : basisSet[i](r) * basisSet[j](r)\n",
    "        \n",
    "        S[i,j] += integrate.quad(integrand, -np.inf, np.inf, limit=10000, epsabs=pow(10, -50), epsrel=pow(10, -30))[0]\n",
    "        \n",
    "        if( (i == j and abs(S[i, j] - 1) >= .1 or not 1==j and abs(S[i,j]) >= pow(10, -14) )):\n",
    "            print(\"Overlap Error: i=\" + str(i) + \", j=\" + str(j))\n",
    "            print(S[i,j])\n",
    "            \n",
    "        integrand = lambda r : basisSet[i](r) * morsePotential(r, popt[0], popt[1], popt[2], popt[3]) * basisSet[j](r)\n",
    "        \n",
    "        V[i, j] += integrate.quad( integrand, -40, 40)[0]#, limit=10000, epsabs=pow(10, -50), epsrel=pow(10, -30))[0]\n",
    " \n",
    "        integrand2 = lambda r : basisSet[i](r) * (-1/(2*.5)) * ddx(basisSet[j], r, n=2)\n",
    "\n",
    "        T[i, j] += integrate.quad(integrand2, -40, 40)[0]\n",
    "    \n",
    "        Tints.append(integrand2)\n",
    "        Vints.append(integrand)\n",
    "    \n",
    "        #if(i == j):\n",
    "        #    T[i,j] += 2*i + 1\n",
    "        #elif (i == j + 2):\n",
    "        #    T[i,j] += -math.sqrt( i*(i-1) )\n",
    "        #elif (i == j - 2):\n",
    "        #    T[i,j] += -math.sqrt((i+1) * (i+2))\n",
    "        #else:\n",
    "        #    T[i,j] = 0\n",
    "#T *= w / 4        \n",
    "print()\n",
    "print(\"Overlap Matrix: \")\n",
    "print()\n",
    "print(S)\n",
    "print()\n",
    "print(\"*\" * 40)\n",
    "print()\n",
    "\n",
    "print(\"V\")\n",
    "print()\n",
    "print(V)\n",
    "print()\n",
    "print(\"*\"*40)\n",
    "print()\n",
    "\n",
    "print(\"T\")\n",
    "print()\n",
    "print(T)\n",
    "print()\n",
    "print(\"*\" * 40)\n",
    "print()\n",
    "\n",
    "H = T + V\n",
    "print(H)\n",
    "print()\n",
    "EHO = np.linalg.eig(H)[0]\n",
    "print(EHO)\n",
    "\n",
    "print(len(basisSet))\n",
    "######################################################################################\n",
    "\n",
    "#y3 = lambda x : basisSet[4](x) * morsePotential(x, popt[0], popt[1], popt[2] ) *  basisSet[2](x)\n",
    "#dx = 0.01\n",
    "#RI = int(6 / dx)\n",
    "#print(RI)\n",
    "figure = { \n",
    "    \"data\": [\n",
    "        \n",
    "        #create the Hartree-Fock generated Potential Energy Surface\n",
    "        {\n",
    "    #        \"type\":\"scatter\",\n",
    "    #        \"x\":[x * dx for x in range(-RI, RI)],\n",
    "    #        \"y\":[y3(x * dx) for x in range(-RI, RI)],\n",
    "    #        \"connectgaps\":False,\n",
    "    #        \"mode\":\"markers\", \n",
    "    #        \"name\":\"Hartree-Fock Computed\",\n",
    "    #        \"marker\":{\"color\":\"blue\"}\n",
    "        }\n",
    "    ]\n",
    "}\n",
    "\n",
    "#iplot(figure)\n",
    "\n"
   ]
  },
  {
   "cell_type": "code",
   "execution_count": 4,
   "metadata": {},
   "outputs": [],
   "source": [
    "#EHO = HF.vibrationalEnergy(lambda x : morsePotential(x, popt[0], popt[1], popt[2], popt[3], popt[4]), 0.5)\n",
    "#print(EHO)"
   ]
  },
  {
   "cell_type": "code",
   "execution_count": 5,
   "metadata": {},
   "outputs": [
    {
     "data": {
      "application/vnd.plotly.v1+json": {
       "config": {
        "linkText": "Export to plot.ly",
        "plotlyServerURL": "https://plot.ly",
        "showLink": false
       },
       "data": [
        {
         "connectgaps": false,
         "marker": {
          "color": "blue"
         },
         "mode": "markers",
         "name": "Hartree-Fock Computed",
         "type": "scatter",
         "x": [
          9e-11,
          9.500000000000001e-11,
          1e-10,
          1.0500000000000001e-10,
          1.1000000000000001e-10,
          1.1500000000000002e-10,
          1.2000000000000003e-10,
          1.2500000000000003e-10,
          1.3000000000000004e-10,
          1.3500000000000002e-10,
          1.4000000000000003e-10,
          1.4500000000000004e-10,
          1.5000000000000005e-10,
          1.5500000000000006e-10,
          1.6000000000000007e-10,
          1.6500000000000008e-10,
          1.7000000000000006e-10,
          1.7500000000000007e-10,
          1.8000000000000008e-10,
          1.8500000000000008e-10,
          1.900000000000001e-10,
          1.950000000000001e-10
         ],
         "y": [
          -223644.2249163562,
          -229190.86049947367,
          -233639.5080787097,
          -237177.0724850494,
          -239955.03534074803,
          -242097.11974487695,
          -243705.05189907114,
          -244862.96121436145,
          -245640.79179084045,
          -246096.98196192164,
          -246232.99239576858,
          -245989.24559578777,
          -245579.18211023338,
          -245028.293090077,
          -244358.4410774877,
          -243588.436915708,
          -242734.5086084624,
          -241810.68446528632,
          -240829.10843868292,
          -239800.3018630575,
          -238733.38275806687
         ]
        },
        {
         "marker": {
          "color": "red"
         },
         "name": "Optimal Bond Distance",
         "type": "scatter",
         "x": [
          1.4000000000000003e-10
         ],
         "y": [
          -246280.5900477871
         ]
        },
        {
         "connectgaps": false,
         "marker": {
          "color": "green"
         },
         "name": "Morse Potential Approximation",
         "type": "scatter",
         "x": [
          0,
          0.1,
          0.2,
          0.30000000000000004,
          0.4,
          0.5,
          0.6000000000000001,
          0.7000000000000001,
          0.8,
          0.9,
          1,
          1.1,
          1.2000000000000002,
          1.3,
          1.4000000000000001,
          1.5,
          1.6,
          1.7000000000000002,
          1.8,
          1.9000000000000001,
          2,
          2.1,
          2.2,
          2.3000000000000003,
          2.4000000000000004,
          2.5,
          2.6,
          2.7,
          2.8000000000000003,
          2.9000000000000004,
          3,
          3.1,
          3.2,
          3.3000000000000003,
          3.4000000000000004,
          3.5,
          3.6,
          3.7,
          3.8000000000000003,
          3.9000000000000004,
          4,
          4.1000000000000005,
          4.2,
          4.3,
          4.4,
          4.5,
          4.6000000000000005,
          4.7,
          4.800000000000001,
          4.9,
          5,
          5.1000000000000005,
          5.2,
          5.300000000000001,
          5.4,
          5.5,
          5.6000000000000005,
          5.7,
          5.800000000000001,
          5.9,
          6,
          6.1000000000000005,
          6.2,
          6.300000000000001,
          6.4,
          6.5,
          6.6000000000000005,
          6.7,
          6.800000000000001,
          6.9,
          7,
          7.1000000000000005,
          7.2,
          7.300000000000001,
          7.4,
          7.5,
          7.6000000000000005,
          7.7,
          7.800000000000001,
          7.9,
          8,
          8.1,
          8.200000000000001,
          8.3,
          8.4,
          8.5,
          8.6,
          8.700000000000001,
          8.8,
          8.9,
          9,
          9.1,
          9.200000000000001,
          9.3,
          9.4,
          9.5,
          9.600000000000001,
          9.700000000000001,
          9.8,
          9.9,
          10,
          10.100000000000001,
          10.200000000000001,
          10.3,
          10.4,
          10.5,
          10.600000000000001,
          10.700000000000001,
          10.8,
          10.9,
          11,
          11.100000000000001,
          11.200000000000001,
          11.3,
          11.4,
          11.5,
          11.600000000000001,
          11.700000000000001,
          11.8,
          11.9,
          12,
          12.100000000000001,
          12.200000000000001,
          12.3,
          12.4,
          12.5,
          12.600000000000001,
          12.700000000000001,
          12.8,
          12.9,
          13,
          13.100000000000001,
          13.200000000000001,
          13.3,
          13.4,
          13.5,
          13.600000000000001,
          13.700000000000001,
          13.8,
          13.9,
          14,
          14.100000000000001,
          14.200000000000001,
          14.3,
          14.4,
          14.5,
          14.600000000000001,
          14.700000000000001,
          14.8,
          14.9
         ],
         "y": [
          -241226.14508333075,
          -142692.35407037582,
          -80377.5445185778,
          -40984.95450703752,
          -16095.971766319573,
          -381.18709589662467,
          9532.638447610316,
          15780.153475088135,
          19711.856004544825,
          22181.86971611781,
          23730.165278263186,
          24697.93228474714,
          25300.61689783691,
          25674.151951591397,
          25904.213078967423,
          26044.728453524833,
          26129.585834465197,
          26180.03410617276,
          26209.360410846275,
          26225.843826310796,
          26234.619168605335,
          26238.851883419735,
          26240.47771704369,
          26240.667628361753,
          26240.119396164282,
          26239.240036680872,
          26238.259524498008,
          26237.301371403897,
          26236.426174396194,
          26235.658277794915,
          26235.001927446327,
          26234.45091868842,
          26233.994242321936,
          26233.619290534363,
          26233.31359279956,
          26233.065680778946,
          26232.865449392677,
          26232.70423686633,
          26232.574757107435,
          26232.47096269177,
          26232.387883116393,
          26232.32146268415,
          26232.268410330897,
          26232.226066708827,
          26232.19228991378,
          26232.165359161263,
          26232.143894717927,
          26232.126792018724,
          26232.113167864816,
          26232.10231673736,
          26232.093675479642,
          26232.08679484046,
          26232.081316605694,
          26232.076955258053,
          26232.073483291886,
          26232.070719469386,
          26232.068519438355,
          26232.06676824246,
          26232.06537434598,
          26232.064264869114,
          26232.063381790107,
          26232.062678918875,
          26232.062119486098,
          26232.06167422288,
          26232.0613198315,
          26232.061037767646,
          26232.06081327088,
          26232.060634592726,
          26232.060492382192,
          26232.060379196566,
          26232.060289112054,
          26232.06021741382,
          26232.060160349272,
          26232.060114931697,
          26232.060078783947,
          26232.060050014043,
          26232.06002711616,
          26232.060008891807,
          26232.059994387102,
          26232.059982842857,
          26232.059973654836,
          26232.059966342124,
          26232.05996052196,
          26232.059955889716,
          26232.059952202933,
          26232.059949268634,
          26232.059946933237,
          26232.059945074503,
          26232.059943595148,
          26232.05994241773,
          26232.05994148063,
          26232.059940734798,
          26232.059940141193,
          26232.059939668743,
          26232.05993929272,
          26232.05993899345,
          26232.059938755257,
          26232.059938565682,
          26232.0599384148,
          26232.059938294715,
          26232.05993819914,
          26232.05993812307,
          26232.059938062528,
          26232.059938014343,
          26232.05993797599,
          26232.05993794547,
          26232.059937921174,
          26232.059937901842,
          26232.059937886454,
          26232.059937874204,
          26232.05993786446,
          26232.0599378567,
          26232.059937850525,
          26232.05993784561,
          26232.0599378417,
          26232.059937838585,
          26232.059937836108,
          26232.059937834136,
          26232.059937832564,
          26232.059937831316,
          26232.059937830323,
          26232.05993782953,
          26232.0599378289,
          26232.0599378284,
          26232.059937828002,
          26232.059937827682,
          26232.05993782743,
          26232.05993782723,
          26232.05993782707,
          26232.059937826943,
          26232.05993782684,
          26232.05993782676,
          26232.059937826696,
          26232.059937826645,
          26232.059937826605,
          26232.059937826572,
          26232.059937826547,
          26232.059937826525,
          26232.05993782651,
          26232.059937826496,
          26232.059937826485,
          26232.059937826478,
          26232.05993782647,
          26232.059937826467,
          26232.05993782646,
          26232.05993782646,
          26232.059937826456,
          26232.059937826452,
          26232.059937826452,
          26232.05993782645
         ]
        },
        {
         "connectgaps": false,
         "marker": {
          "color": "blue"
         },
         "name": "Harmonic Oscillator",
         "type": "scatter",
         "x": [
          26240.71342560487,
          26240.71342560487,
          26240.71342560487,
          26240.71342560487,
          26240.71342560487
         ],
         "y": [
          0.17204680688221607,
          1.4142844844375115,
          3.1765112147387184,
          0.783543482535678,
          2.664805962788744
         ]
        },
        {
         "connectgaps": true,
         "marker": {
          "color": "red"
         },
         "name": "V Integrand",
         "type": "scatter",
         "x": [
          -15,
          -14,
          -13,
          -12,
          -11,
          -10,
          -9,
          -8,
          -7,
          -6,
          -5,
          -4,
          -3,
          -2,
          -1,
          0,
          1,
          2,
          3,
          4,
          5,
          6,
          7,
          8,
          9,
          10,
          11,
          12,
          13,
          14
         ],
         "y": [
          -1.5630913394176575e-67,
          -2.809262147382584e-56,
          -6.5889797554766365e-46,
          -2.0056908100241882e-36,
          -7.869270882922277e-28,
          -3.944742335600849e-20,
          -2.4978075960887356e-13,
          -1.9675774422531105e-07,
          -0.018879397205152557,
          -214.0630194667987,
          -273829.42064583756,
          -36607734.92991368,
          -443290475.66616046,
          -347808847.2880727,
          -4033420.608062921,
          -52153.53197810351,
          5020.617024698526,
          5671.972452532356,
          4077.783804505807,
          3649.97205876588,
          48.384696029579764,
          0.04156360622646416,
          3.234043951398699e-06,
          2.629864539036816e-11,
          2.4127138985577514e-17,
          2.6156251964719993e-24,
          3.4540501202115856e-32,
          5.674325826703643e-41,
          1.1774869425487163e-50,
          3.121846642075326e-61
         ]
        },
        {
         "connectgaps": true,
         "marker": {
          "color": "purple"
         },
         "name": "T Integrand",
         "type": "scatter",
         "x": [
          -15,
          -14,
          -13,
          -12,
          -11,
          -10,
          -9,
          -8,
          -7,
          -6,
          -5,
          -4,
          -3,
          -2,
          -1,
          0,
          1,
          2,
          3,
          4,
          5,
          6,
          7,
          8,
          9,
          10,
          11,
          12,
          13,
          14
         ],
         "y": [
          -4.339285517030841e-96,
          -2.7083749593825033e-83,
          -2.1999744924658337e-71,
          -2.3112502117485242e-60,
          -3.1159485386467465e-50,
          -5.336467270071609e-41,
          -1.1455653114589876e-32,
          -3.0263712771718505e-25,
          -9.584171783154955e-19,
          -3.4956219244357493e-13,
          -1.373023830284703e-08,
          -5.090529348458682e-05,
          -0.01238512312803471,
          0.11519882240298025,
          0.34712130063388796,
          0.82959392721525,
          0.850890038051088,
          0.82959392721525,
          0.3471213006338879,
          0.11519882240298025,
          -0.01238512312803471,
          -5.090529348458682e-05,
          -1.373023830284703e-08,
          -3.495621924435749e-13,
          -9.584171783154955e-19,
          -3.0263712771718505e-25,
          -1.1455653114589876e-32,
          -5.336467270071609e-41,
          -3.1159485386467465e-50,
          -2.3112502117485242e-60
         ]
        },
        {
         "connectgaps": true,
         "marker": {
          "color": "purple"
         },
         "name": "T Integrand",
         "type": "scatter",
         "x": [
          -15,
          -14,
          -13,
          -12,
          -11,
          -10,
          -9,
          -8,
          -7,
          -6,
          -5,
          -4,
          -3,
          -2,
          -1,
          0,
          1,
          2,
          3,
          4,
          5,
          6,
          7,
          8,
          9,
          10,
          11,
          12,
          13,
          14
         ],
         "y": [
          -4.339285517030841e-96,
          -2.7083749593825033e-83,
          -2.1999744924658337e-71,
          -2.3112502117485242e-60,
          -3.1159485386467465e-50,
          -5.336467270071609e-41,
          -1.1455653114589876e-32,
          -3.0263712771718505e-25,
          -9.584171783154955e-19,
          -3.4956219244357493e-13,
          -1.373023830284703e-08,
          -5.090529348458682e-05,
          -0.01238512312803471,
          0.11519882240298025,
          0.34712130063388796,
          0.82959392721525,
          0.850890038051088,
          0.82959392721525,
          0.3471213006338879,
          0.11519882240298025,
          -0.01238512312803471,
          -5.090529348458682e-05,
          -1.373023830284703e-08,
          -3.495621924435749e-13,
          -9.584171783154955e-19,
          -3.0263712771718505e-25,
          -1.1455653114589876e-32,
          -5.336467270071609e-41,
          -3.1159485386467465e-50,
          -2.3112502117485242e-60
         ]
        }
       ],
       "layout": {
        "template": {
         "data": {
          "bar": [
           {
            "error_x": {
             "color": "#2a3f5f"
            },
            "error_y": {
             "color": "#2a3f5f"
            },
            "marker": {
             "line": {
              "color": "#E5ECF6",
              "width": 0.5
             }
            },
            "type": "bar"
           }
          ],
          "barpolar": [
           {
            "marker": {
             "line": {
              "color": "#E5ECF6",
              "width": 0.5
             }
            },
            "type": "barpolar"
           }
          ],
          "carpet": [
           {
            "aaxis": {
             "endlinecolor": "#2a3f5f",
             "gridcolor": "white",
             "linecolor": "white",
             "minorgridcolor": "white",
             "startlinecolor": "#2a3f5f"
            },
            "baxis": {
             "endlinecolor": "#2a3f5f",
             "gridcolor": "white",
             "linecolor": "white",
             "minorgridcolor": "white",
             "startlinecolor": "#2a3f5f"
            },
            "type": "carpet"
           }
          ],
          "choropleth": [
           {
            "colorbar": {
             "outlinewidth": 0,
             "ticks": ""
            },
            "type": "choropleth"
           }
          ],
          "contour": [
           {
            "colorbar": {
             "outlinewidth": 0,
             "ticks": ""
            },
            "colorscale": [
             [
              0,
              "#0d0887"
             ],
             [
              0.1111111111111111,
              "#46039f"
             ],
             [
              0.2222222222222222,
              "#7201a8"
             ],
             [
              0.3333333333333333,
              "#9c179e"
             ],
             [
              0.4444444444444444,
              "#bd3786"
             ],
             [
              0.5555555555555556,
              "#d8576b"
             ],
             [
              0.6666666666666666,
              "#ed7953"
             ],
             [
              0.7777777777777778,
              "#fb9f3a"
             ],
             [
              0.8888888888888888,
              "#fdca26"
             ],
             [
              1,
              "#f0f921"
             ]
            ],
            "type": "contour"
           }
          ],
          "contourcarpet": [
           {
            "colorbar": {
             "outlinewidth": 0,
             "ticks": ""
            },
            "type": "contourcarpet"
           }
          ],
          "heatmap": [
           {
            "colorbar": {
             "outlinewidth": 0,
             "ticks": ""
            },
            "colorscale": [
             [
              0,
              "#0d0887"
             ],
             [
              0.1111111111111111,
              "#46039f"
             ],
             [
              0.2222222222222222,
              "#7201a8"
             ],
             [
              0.3333333333333333,
              "#9c179e"
             ],
             [
              0.4444444444444444,
              "#bd3786"
             ],
             [
              0.5555555555555556,
              "#d8576b"
             ],
             [
              0.6666666666666666,
              "#ed7953"
             ],
             [
              0.7777777777777778,
              "#fb9f3a"
             ],
             [
              0.8888888888888888,
              "#fdca26"
             ],
             [
              1,
              "#f0f921"
             ]
            ],
            "type": "heatmap"
           }
          ],
          "heatmapgl": [
           {
            "colorbar": {
             "outlinewidth": 0,
             "ticks": ""
            },
            "colorscale": [
             [
              0,
              "#0d0887"
             ],
             [
              0.1111111111111111,
              "#46039f"
             ],
             [
              0.2222222222222222,
              "#7201a8"
             ],
             [
              0.3333333333333333,
              "#9c179e"
             ],
             [
              0.4444444444444444,
              "#bd3786"
             ],
             [
              0.5555555555555556,
              "#d8576b"
             ],
             [
              0.6666666666666666,
              "#ed7953"
             ],
             [
              0.7777777777777778,
              "#fb9f3a"
             ],
             [
              0.8888888888888888,
              "#fdca26"
             ],
             [
              1,
              "#f0f921"
             ]
            ],
            "type": "heatmapgl"
           }
          ],
          "histogram": [
           {
            "marker": {
             "colorbar": {
              "outlinewidth": 0,
              "ticks": ""
             }
            },
            "type": "histogram"
           }
          ],
          "histogram2d": [
           {
            "colorbar": {
             "outlinewidth": 0,
             "ticks": ""
            },
            "colorscale": [
             [
              0,
              "#0d0887"
             ],
             [
              0.1111111111111111,
              "#46039f"
             ],
             [
              0.2222222222222222,
              "#7201a8"
             ],
             [
              0.3333333333333333,
              "#9c179e"
             ],
             [
              0.4444444444444444,
              "#bd3786"
             ],
             [
              0.5555555555555556,
              "#d8576b"
             ],
             [
              0.6666666666666666,
              "#ed7953"
             ],
             [
              0.7777777777777778,
              "#fb9f3a"
             ],
             [
              0.8888888888888888,
              "#fdca26"
             ],
             [
              1,
              "#f0f921"
             ]
            ],
            "type": "histogram2d"
           }
          ],
          "histogram2dcontour": [
           {
            "colorbar": {
             "outlinewidth": 0,
             "ticks": ""
            },
            "colorscale": [
             [
              0,
              "#0d0887"
             ],
             [
              0.1111111111111111,
              "#46039f"
             ],
             [
              0.2222222222222222,
              "#7201a8"
             ],
             [
              0.3333333333333333,
              "#9c179e"
             ],
             [
              0.4444444444444444,
              "#bd3786"
             ],
             [
              0.5555555555555556,
              "#d8576b"
             ],
             [
              0.6666666666666666,
              "#ed7953"
             ],
             [
              0.7777777777777778,
              "#fb9f3a"
             ],
             [
              0.8888888888888888,
              "#fdca26"
             ],
             [
              1,
              "#f0f921"
             ]
            ],
            "type": "histogram2dcontour"
           }
          ],
          "mesh3d": [
           {
            "colorbar": {
             "outlinewidth": 0,
             "ticks": ""
            },
            "type": "mesh3d"
           }
          ],
          "parcoords": [
           {
            "line": {
             "colorbar": {
              "outlinewidth": 0,
              "ticks": ""
             }
            },
            "type": "parcoords"
           }
          ],
          "scatter": [
           {
            "marker": {
             "colorbar": {
              "outlinewidth": 0,
              "ticks": ""
             }
            },
            "type": "scatter"
           }
          ],
          "scatter3d": [
           {
            "line": {
             "colorbar": {
              "outlinewidth": 0,
              "ticks": ""
             }
            },
            "marker": {
             "colorbar": {
              "outlinewidth": 0,
              "ticks": ""
             }
            },
            "type": "scatter3d"
           }
          ],
          "scattercarpet": [
           {
            "marker": {
             "colorbar": {
              "outlinewidth": 0,
              "ticks": ""
             }
            },
            "type": "scattercarpet"
           }
          ],
          "scattergeo": [
           {
            "marker": {
             "colorbar": {
              "outlinewidth": 0,
              "ticks": ""
             }
            },
            "type": "scattergeo"
           }
          ],
          "scattergl": [
           {
            "marker": {
             "colorbar": {
              "outlinewidth": 0,
              "ticks": ""
             }
            },
            "type": "scattergl"
           }
          ],
          "scattermapbox": [
           {
            "marker": {
             "colorbar": {
              "outlinewidth": 0,
              "ticks": ""
             }
            },
            "type": "scattermapbox"
           }
          ],
          "scatterpolar": [
           {
            "marker": {
             "colorbar": {
              "outlinewidth": 0,
              "ticks": ""
             }
            },
            "type": "scatterpolar"
           }
          ],
          "scatterpolargl": [
           {
            "marker": {
             "colorbar": {
              "outlinewidth": 0,
              "ticks": ""
             }
            },
            "type": "scatterpolargl"
           }
          ],
          "scatterternary": [
           {
            "marker": {
             "colorbar": {
              "outlinewidth": 0,
              "ticks": ""
             }
            },
            "type": "scatterternary"
           }
          ],
          "surface": [
           {
            "colorbar": {
             "outlinewidth": 0,
             "ticks": ""
            },
            "colorscale": [
             [
              0,
              "#0d0887"
             ],
             [
              0.1111111111111111,
              "#46039f"
             ],
             [
              0.2222222222222222,
              "#7201a8"
             ],
             [
              0.3333333333333333,
              "#9c179e"
             ],
             [
              0.4444444444444444,
              "#bd3786"
             ],
             [
              0.5555555555555556,
              "#d8576b"
             ],
             [
              0.6666666666666666,
              "#ed7953"
             ],
             [
              0.7777777777777778,
              "#fb9f3a"
             ],
             [
              0.8888888888888888,
              "#fdca26"
             ],
             [
              1,
              "#f0f921"
             ]
            ],
            "type": "surface"
           }
          ],
          "table": [
           {
            "cells": {
             "fill": {
              "color": "#EBF0F8"
             },
             "line": {
              "color": "white"
             }
            },
            "header": {
             "fill": {
              "color": "#C8D4E3"
             },
             "line": {
              "color": "white"
             }
            },
            "type": "table"
           }
          ]
         },
         "layout": {
          "annotationdefaults": {
           "arrowcolor": "#2a3f5f",
           "arrowhead": 0,
           "arrowwidth": 1
          },
          "colorscale": {
           "diverging": [
            [
             0,
             "#8e0152"
            ],
            [
             0.1,
             "#c51b7d"
            ],
            [
             0.2,
             "#de77ae"
            ],
            [
             0.3,
             "#f1b6da"
            ],
            [
             0.4,
             "#fde0ef"
            ],
            [
             0.5,
             "#f7f7f7"
            ],
            [
             0.6,
             "#e6f5d0"
            ],
            [
             0.7,
             "#b8e186"
            ],
            [
             0.8,
             "#7fbc41"
            ],
            [
             0.9,
             "#4d9221"
            ],
            [
             1,
             "#276419"
            ]
           ],
           "sequential": [
            [
             0,
             "#0d0887"
            ],
            [
             0.1111111111111111,
             "#46039f"
            ],
            [
             0.2222222222222222,
             "#7201a8"
            ],
            [
             0.3333333333333333,
             "#9c179e"
            ],
            [
             0.4444444444444444,
             "#bd3786"
            ],
            [
             0.5555555555555556,
             "#d8576b"
            ],
            [
             0.6666666666666666,
             "#ed7953"
            ],
            [
             0.7777777777777778,
             "#fb9f3a"
            ],
            [
             0.8888888888888888,
             "#fdca26"
            ],
            [
             1,
             "#f0f921"
            ]
           ],
           "sequentialminus": [
            [
             0,
             "#0d0887"
            ],
            [
             0.1111111111111111,
             "#46039f"
            ],
            [
             0.2222222222222222,
             "#7201a8"
            ],
            [
             0.3333333333333333,
             "#9c179e"
            ],
            [
             0.4444444444444444,
             "#bd3786"
            ],
            [
             0.5555555555555556,
             "#d8576b"
            ],
            [
             0.6666666666666666,
             "#ed7953"
            ],
            [
             0.7777777777777778,
             "#fb9f3a"
            ],
            [
             0.8888888888888888,
             "#fdca26"
            ],
            [
             1,
             "#f0f921"
            ]
           ]
          },
          "colorway": [
           "#636efa",
           "#EF553B",
           "#00cc96",
           "#ab63fa",
           "#FFA15A",
           "#19d3f3",
           "#FF6692",
           "#B6E880",
           "#FF97FF",
           "#FECB52"
          ],
          "font": {
           "color": "#2a3f5f"
          },
          "geo": {
           "bgcolor": "white",
           "lakecolor": "white",
           "landcolor": "#E5ECF6",
           "showlakes": true,
           "showland": true,
           "subunitcolor": "white"
          },
          "hoverlabel": {
           "align": "left"
          },
          "hovermode": "closest",
          "mapbox": {
           "style": "light"
          },
          "paper_bgcolor": "white",
          "plot_bgcolor": "#E5ECF6",
          "polar": {
           "angularaxis": {
            "gridcolor": "white",
            "linecolor": "white",
            "ticks": ""
           },
           "bgcolor": "#E5ECF6",
           "radialaxis": {
            "gridcolor": "white",
            "linecolor": "white",
            "ticks": ""
           }
          },
          "scene": {
           "xaxis": {
            "backgroundcolor": "#E5ECF6",
            "gridcolor": "white",
            "gridwidth": 2,
            "linecolor": "white",
            "showbackground": true,
            "ticks": "",
            "zerolinecolor": "white"
           },
           "yaxis": {
            "backgroundcolor": "#E5ECF6",
            "gridcolor": "white",
            "gridwidth": 2,
            "linecolor": "white",
            "showbackground": true,
            "ticks": "",
            "zerolinecolor": "white"
           },
           "zaxis": {
            "backgroundcolor": "#E5ECF6",
            "gridcolor": "white",
            "gridwidth": 2,
            "linecolor": "white",
            "showbackground": true,
            "ticks": "",
            "zerolinecolor": "white"
           }
          },
          "shapedefaults": {
           "line": {
            "color": "#2a3f5f"
           }
          },
          "ternary": {
           "aaxis": {
            "gridcolor": "white",
            "linecolor": "white",
            "ticks": ""
           },
           "baxis": {
            "gridcolor": "white",
            "linecolor": "white",
            "ticks": ""
           },
           "bgcolor": "#E5ECF6",
           "caxis": {
            "gridcolor": "white",
            "linecolor": "white",
            "ticks": ""
           }
          },
          "title": {
           "x": 0.05
          },
          "xaxis": {
           "automargin": true,
           "gridcolor": "white",
           "linecolor": "white",
           "ticks": "",
           "zerolinecolor": "white",
           "zerolinewidth": 2
          },
          "yaxis": {
           "automargin": true,
           "gridcolor": "white",
           "linecolor": "white",
           "ticks": "",
           "zerolinecolor": "white",
           "zerolinewidth": 2
          }
         }
        },
        "title": {
         "text": "Hartree-Fock Energy VS Bond Distance"
        },
        "xaxis": {
         "title": {
          "text": "Bond Distance in Atomic Units"
         }
        },
        "yaxis": {
         "title": {
          "text": "Energy in Hartrees"
         }
        }
       }
      },
      "text/html": [
       "<div>\n",
       "        \n",
       "        \n",
       "            <div id=\"9d57eb58-9739-45e1-8521-34eb6adbe463\" class=\"plotly-graph-div\" style=\"height:525px; width:100%;\"></div>\n",
       "            <script type=\"text/javascript\">\n",
       "                require([\"plotly\"], function(Plotly) {\n",
       "                    window.PLOTLYENV=window.PLOTLYENV || {};\n",
       "                    \n",
       "                if (document.getElementById(\"9d57eb58-9739-45e1-8521-34eb6adbe463\")) {\n",
       "                    Plotly.newPlot(\n",
       "                        '9d57eb58-9739-45e1-8521-34eb6adbe463',\n",
       "                        [{\"connectgaps\": false, \"marker\": {\"color\": \"blue\"}, \"mode\": \"markers\", \"name\": \"Hartree-Fock Computed\", \"type\": \"scatter\", \"x\": [9e-11, 9.500000000000001e-11, 1e-10, 1.0500000000000001e-10, 1.1000000000000001e-10, 1.1500000000000002e-10, 1.2000000000000003e-10, 1.2500000000000003e-10, 1.3000000000000004e-10, 1.3500000000000002e-10, 1.4000000000000003e-10, 1.4500000000000004e-10, 1.5000000000000005e-10, 1.5500000000000006e-10, 1.6000000000000007e-10, 1.6500000000000008e-10, 1.7000000000000006e-10, 1.7500000000000007e-10, 1.8000000000000008e-10, 1.8500000000000008e-10, 1.900000000000001e-10, 1.950000000000001e-10], \"y\": [-223644.2249163562, -229190.86049947367, -233639.5080787097, -237177.0724850494, -239955.03534074803, -242097.11974487695, -243705.05189907114, -244862.96121436145, -245640.79179084045, -246096.98196192164, -246232.99239576858, -245989.24559578777, -245579.18211023338, -245028.293090077, -244358.4410774877, -243588.436915708, -242734.5086084624, -241810.68446528632, -240829.10843868292, -239800.3018630575, -238733.38275806687]}, {\"marker\": {\"color\": \"red\"}, \"name\": \"Optimal Bond Distance\", \"type\": \"scatter\", \"x\": [1.4000000000000003e-10], \"y\": [-246280.5900477871]}, {\"connectgaps\": false, \"marker\": {\"color\": \"green\"}, \"name\": \"Morse Potential Approximation\", \"type\": \"scatter\", \"x\": [0.0, 0.1, 0.2, 0.30000000000000004, 0.4, 0.5, 0.6000000000000001, 0.7000000000000001, 0.8, 0.9, 1.0, 1.1, 1.2000000000000002, 1.3, 1.4000000000000001, 1.5, 1.6, 1.7000000000000002, 1.8, 1.9000000000000001, 2.0, 2.1, 2.2, 2.3000000000000003, 2.4000000000000004, 2.5, 2.6, 2.7, 2.8000000000000003, 2.9000000000000004, 3.0, 3.1, 3.2, 3.3000000000000003, 3.4000000000000004, 3.5, 3.6, 3.7, 3.8000000000000003, 3.9000000000000004, 4.0, 4.1000000000000005, 4.2, 4.3, 4.4, 4.5, 4.6000000000000005, 4.7, 4.800000000000001, 4.9, 5.0, 5.1000000000000005, 5.2, 5.300000000000001, 5.4, 5.5, 5.6000000000000005, 5.7, 5.800000000000001, 5.9, 6.0, 6.1000000000000005, 6.2, 6.300000000000001, 6.4, 6.5, 6.6000000000000005, 6.7, 6.800000000000001, 6.9, 7.0, 7.1000000000000005, 7.2, 7.300000000000001, 7.4, 7.5, 7.6000000000000005, 7.7, 7.800000000000001, 7.9, 8.0, 8.1, 8.200000000000001, 8.3, 8.4, 8.5, 8.6, 8.700000000000001, 8.8, 8.9, 9.0, 9.1, 9.200000000000001, 9.3, 9.4, 9.5, 9.600000000000001, 9.700000000000001, 9.8, 9.9, 10.0, 10.100000000000001, 10.200000000000001, 10.3, 10.4, 10.5, 10.600000000000001, 10.700000000000001, 10.8, 10.9, 11.0, 11.100000000000001, 11.200000000000001, 11.3, 11.4, 11.5, 11.600000000000001, 11.700000000000001, 11.8, 11.9, 12.0, 12.100000000000001, 12.200000000000001, 12.3, 12.4, 12.5, 12.600000000000001, 12.700000000000001, 12.8, 12.9, 13.0, 13.100000000000001, 13.200000000000001, 13.3, 13.4, 13.5, 13.600000000000001, 13.700000000000001, 13.8, 13.9, 14.0, 14.100000000000001, 14.200000000000001, 14.3, 14.4, 14.5, 14.600000000000001, 14.700000000000001, 14.8, 14.9], \"y\": [-241226.14508333075, -142692.35407037582, -80377.5445185778, -40984.95450703752, -16095.971766319573, -381.18709589662467, 9532.638447610316, 15780.153475088135, 19711.856004544825, 22181.86971611781, 23730.165278263186, 24697.93228474714, 25300.61689783691, 25674.151951591397, 25904.213078967423, 26044.728453524833, 26129.585834465197, 26180.03410617276, 26209.360410846275, 26225.843826310796, 26234.619168605335, 26238.851883419735, 26240.47771704369, 26240.667628361753, 26240.119396164282, 26239.240036680872, 26238.259524498008, 26237.301371403897, 26236.426174396194, 26235.658277794915, 26235.001927446327, 26234.45091868842, 26233.994242321936, 26233.619290534363, 26233.31359279956, 26233.065680778946, 26232.865449392677, 26232.70423686633, 26232.574757107435, 26232.47096269177, 26232.387883116393, 26232.32146268415, 26232.268410330897, 26232.226066708827, 26232.19228991378, 26232.165359161263, 26232.143894717927, 26232.126792018724, 26232.113167864816, 26232.10231673736, 26232.093675479642, 26232.08679484046, 26232.081316605694, 26232.076955258053, 26232.073483291886, 26232.070719469386, 26232.068519438355, 26232.06676824246, 26232.06537434598, 26232.064264869114, 26232.063381790107, 26232.062678918875, 26232.062119486098, 26232.06167422288, 26232.0613198315, 26232.061037767646, 26232.06081327088, 26232.060634592726, 26232.060492382192, 26232.060379196566, 26232.060289112054, 26232.06021741382, 26232.060160349272, 26232.060114931697, 26232.060078783947, 26232.060050014043, 26232.06002711616, 26232.060008891807, 26232.059994387102, 26232.059982842857, 26232.059973654836, 26232.059966342124, 26232.05996052196, 26232.059955889716, 26232.059952202933, 26232.059949268634, 26232.059946933237, 26232.059945074503, 26232.059943595148, 26232.05994241773, 26232.05994148063, 26232.059940734798, 26232.059940141193, 26232.059939668743, 26232.05993929272, 26232.05993899345, 26232.059938755257, 26232.059938565682, 26232.0599384148, 26232.059938294715, 26232.05993819914, 26232.05993812307, 26232.059938062528, 26232.059938014343, 26232.05993797599, 26232.05993794547, 26232.059937921174, 26232.059937901842, 26232.059937886454, 26232.059937874204, 26232.05993786446, 26232.0599378567, 26232.059937850525, 26232.05993784561, 26232.0599378417, 26232.059937838585, 26232.059937836108, 26232.059937834136, 26232.059937832564, 26232.059937831316, 26232.059937830323, 26232.05993782953, 26232.0599378289, 26232.0599378284, 26232.059937828002, 26232.059937827682, 26232.05993782743, 26232.05993782723, 26232.05993782707, 26232.059937826943, 26232.05993782684, 26232.05993782676, 26232.059937826696, 26232.059937826645, 26232.059937826605, 26232.059937826572, 26232.059937826547, 26232.059937826525, 26232.05993782651, 26232.059937826496, 26232.059937826485, 26232.059937826478, 26232.05993782647, 26232.059937826467, 26232.05993782646, 26232.05993782646, 26232.059937826456, 26232.059937826452, 26232.059937826452, 26232.05993782645]}, {\"connectgaps\": false, \"marker\": {\"color\": \"blue\"}, \"name\": \"Harmonic Oscillator\", \"type\": \"scatter\", \"x\": [26240.71342560487, 26240.71342560487, 26240.71342560487, 26240.71342560487, 26240.71342560487], \"y\": [0.17204680688221607, 1.4142844844375115, 3.1765112147387184, 0.783543482535678, 2.664805962788744]}, {\"connectgaps\": true, \"marker\": {\"color\": \"red\"}, \"name\": \"V Integrand\", \"type\": \"scatter\", \"x\": [-15, -14, -13, -12, -11, -10, -9, -8, -7, -6, -5, -4, -3, -2, -1, 0, 1, 2, 3, 4, 5, 6, 7, 8, 9, 10, 11, 12, 13, 14], \"y\": [-1.5630913394176575e-67, -2.809262147382584e-56, -6.5889797554766365e-46, -2.0056908100241882e-36, -7.869270882922277e-28, -3.944742335600849e-20, -2.4978075960887356e-13, -1.9675774422531105e-07, -0.018879397205152557, -214.0630194667987, -273829.42064583756, -36607734.92991368, -443290475.66616046, -347808847.2880727, -4033420.608062921, -52153.53197810351, 5020.617024698526, 5671.972452532356, 4077.783804505807, 3649.97205876588, 48.384696029579764, 0.04156360622646416, 3.234043951398699e-06, 2.629864539036816e-11, 2.4127138985577514e-17, 2.6156251964719993e-24, 3.4540501202115856e-32, 5.674325826703643e-41, 1.1774869425487163e-50, 3.121846642075326e-61]}, {\"connectgaps\": true, \"marker\": {\"color\": \"purple\"}, \"name\": \"T Integrand\", \"type\": \"scatter\", \"x\": [-15, -14, -13, -12, -11, -10, -9, -8, -7, -6, -5, -4, -3, -2, -1, 0, 1, 2, 3, 4, 5, 6, 7, 8, 9, 10, 11, 12, 13, 14], \"y\": [-4.339285517030841e-96, -2.7083749593825033e-83, -2.1999744924658337e-71, -2.3112502117485242e-60, -3.1159485386467465e-50, -5.336467270071609e-41, -1.1455653114589876e-32, -3.0263712771718505e-25, -9.584171783154955e-19, -3.4956219244357493e-13, -1.373023830284703e-08, -5.090529348458682e-05, -0.01238512312803471, 0.11519882240298025, 0.34712130063388796, 0.82959392721525, 0.850890038051088, 0.82959392721525, 0.3471213006338879, 0.11519882240298025, -0.01238512312803471, -5.090529348458682e-05, -1.373023830284703e-08, -3.495621924435749e-13, -9.584171783154955e-19, -3.0263712771718505e-25, -1.1455653114589876e-32, -5.336467270071609e-41, -3.1159485386467465e-50, -2.3112502117485242e-60]}, {\"connectgaps\": true, \"marker\": {\"color\": \"purple\"}, \"name\": \"T Integrand\", \"type\": \"scatter\", \"x\": [-15, -14, -13, -12, -11, -10, -9, -8, -7, -6, -5, -4, -3, -2, -1, 0, 1, 2, 3, 4, 5, 6, 7, 8, 9, 10, 11, 12, 13, 14], \"y\": [-4.339285517030841e-96, -2.7083749593825033e-83, -2.1999744924658337e-71, -2.3112502117485242e-60, -3.1159485386467465e-50, -5.336467270071609e-41, -1.1455653114589876e-32, -3.0263712771718505e-25, -9.584171783154955e-19, -3.4956219244357493e-13, -1.373023830284703e-08, -5.090529348458682e-05, -0.01238512312803471, 0.11519882240298025, 0.34712130063388796, 0.82959392721525, 0.850890038051088, 0.82959392721525, 0.3471213006338879, 0.11519882240298025, -0.01238512312803471, -5.090529348458682e-05, -1.373023830284703e-08, -3.495621924435749e-13, -9.584171783154955e-19, -3.0263712771718505e-25, -1.1455653114589876e-32, -5.336467270071609e-41, -3.1159485386467465e-50, -2.3112502117485242e-60]}],\n",
       "                        {\"template\": {\"data\": {\"bar\": [{\"error_x\": {\"color\": \"#2a3f5f\"}, \"error_y\": {\"color\": \"#2a3f5f\"}, \"marker\": {\"line\": {\"color\": \"#E5ECF6\", \"width\": 0.5}}, \"type\": \"bar\"}], \"barpolar\": [{\"marker\": {\"line\": {\"color\": \"#E5ECF6\", \"width\": 0.5}}, \"type\": \"barpolar\"}], \"carpet\": [{\"aaxis\": {\"endlinecolor\": \"#2a3f5f\", \"gridcolor\": \"white\", \"linecolor\": \"white\", \"minorgridcolor\": \"white\", \"startlinecolor\": \"#2a3f5f\"}, \"baxis\": {\"endlinecolor\": \"#2a3f5f\", \"gridcolor\": \"white\", \"linecolor\": \"white\", \"minorgridcolor\": \"white\", \"startlinecolor\": \"#2a3f5f\"}, \"type\": \"carpet\"}], \"choropleth\": [{\"colorbar\": {\"outlinewidth\": 0, \"ticks\": \"\"}, \"type\": \"choropleth\"}], \"contour\": [{\"colorbar\": {\"outlinewidth\": 0, \"ticks\": \"\"}, \"colorscale\": [[0.0, \"#0d0887\"], [0.1111111111111111, \"#46039f\"], [0.2222222222222222, \"#7201a8\"], [0.3333333333333333, \"#9c179e\"], [0.4444444444444444, \"#bd3786\"], [0.5555555555555556, \"#d8576b\"], [0.6666666666666666, \"#ed7953\"], [0.7777777777777778, \"#fb9f3a\"], [0.8888888888888888, \"#fdca26\"], [1.0, \"#f0f921\"]], \"type\": \"contour\"}], \"contourcarpet\": [{\"colorbar\": {\"outlinewidth\": 0, \"ticks\": \"\"}, \"type\": \"contourcarpet\"}], \"heatmap\": [{\"colorbar\": {\"outlinewidth\": 0, \"ticks\": \"\"}, \"colorscale\": [[0.0, \"#0d0887\"], [0.1111111111111111, \"#46039f\"], [0.2222222222222222, \"#7201a8\"], [0.3333333333333333, \"#9c179e\"], [0.4444444444444444, \"#bd3786\"], [0.5555555555555556, \"#d8576b\"], [0.6666666666666666, \"#ed7953\"], [0.7777777777777778, \"#fb9f3a\"], [0.8888888888888888, \"#fdca26\"], [1.0, \"#f0f921\"]], \"type\": \"heatmap\"}], \"heatmapgl\": [{\"colorbar\": {\"outlinewidth\": 0, \"ticks\": \"\"}, \"colorscale\": [[0.0, \"#0d0887\"], [0.1111111111111111, \"#46039f\"], [0.2222222222222222, \"#7201a8\"], [0.3333333333333333, \"#9c179e\"], [0.4444444444444444, \"#bd3786\"], [0.5555555555555556, \"#d8576b\"], [0.6666666666666666, \"#ed7953\"], [0.7777777777777778, \"#fb9f3a\"], [0.8888888888888888, \"#fdca26\"], [1.0, \"#f0f921\"]], \"type\": \"heatmapgl\"}], \"histogram\": [{\"marker\": {\"colorbar\": {\"outlinewidth\": 0, \"ticks\": \"\"}}, \"type\": \"histogram\"}], \"histogram2d\": [{\"colorbar\": {\"outlinewidth\": 0, \"ticks\": \"\"}, \"colorscale\": [[0.0, \"#0d0887\"], [0.1111111111111111, \"#46039f\"], [0.2222222222222222, \"#7201a8\"], [0.3333333333333333, \"#9c179e\"], [0.4444444444444444, \"#bd3786\"], [0.5555555555555556, \"#d8576b\"], [0.6666666666666666, \"#ed7953\"], [0.7777777777777778, \"#fb9f3a\"], [0.8888888888888888, \"#fdca26\"], [1.0, \"#f0f921\"]], \"type\": \"histogram2d\"}], \"histogram2dcontour\": [{\"colorbar\": {\"outlinewidth\": 0, \"ticks\": \"\"}, \"colorscale\": [[0.0, \"#0d0887\"], [0.1111111111111111, \"#46039f\"], [0.2222222222222222, \"#7201a8\"], [0.3333333333333333, \"#9c179e\"], [0.4444444444444444, \"#bd3786\"], [0.5555555555555556, \"#d8576b\"], [0.6666666666666666, \"#ed7953\"], [0.7777777777777778, \"#fb9f3a\"], [0.8888888888888888, \"#fdca26\"], [1.0, \"#f0f921\"]], \"type\": \"histogram2dcontour\"}], \"mesh3d\": [{\"colorbar\": {\"outlinewidth\": 0, \"ticks\": \"\"}, \"type\": \"mesh3d\"}], \"parcoords\": [{\"line\": {\"colorbar\": {\"outlinewidth\": 0, \"ticks\": \"\"}}, \"type\": \"parcoords\"}], \"scatter\": [{\"marker\": {\"colorbar\": {\"outlinewidth\": 0, \"ticks\": \"\"}}, \"type\": \"scatter\"}], \"scatter3d\": [{\"line\": {\"colorbar\": {\"outlinewidth\": 0, \"ticks\": \"\"}}, \"marker\": {\"colorbar\": {\"outlinewidth\": 0, \"ticks\": \"\"}}, \"type\": \"scatter3d\"}], \"scattercarpet\": [{\"marker\": {\"colorbar\": {\"outlinewidth\": 0, \"ticks\": \"\"}}, \"type\": \"scattercarpet\"}], \"scattergeo\": [{\"marker\": {\"colorbar\": {\"outlinewidth\": 0, \"ticks\": \"\"}}, \"type\": \"scattergeo\"}], \"scattergl\": [{\"marker\": {\"colorbar\": {\"outlinewidth\": 0, \"ticks\": \"\"}}, \"type\": \"scattergl\"}], \"scattermapbox\": [{\"marker\": {\"colorbar\": {\"outlinewidth\": 0, \"ticks\": \"\"}}, \"type\": \"scattermapbox\"}], \"scatterpolar\": [{\"marker\": {\"colorbar\": {\"outlinewidth\": 0, \"ticks\": \"\"}}, \"type\": \"scatterpolar\"}], \"scatterpolargl\": [{\"marker\": {\"colorbar\": {\"outlinewidth\": 0, \"ticks\": \"\"}}, \"type\": \"scatterpolargl\"}], \"scatterternary\": [{\"marker\": {\"colorbar\": {\"outlinewidth\": 0, \"ticks\": \"\"}}, \"type\": \"scatterternary\"}], \"surface\": [{\"colorbar\": {\"outlinewidth\": 0, \"ticks\": \"\"}, \"colorscale\": [[0.0, \"#0d0887\"], [0.1111111111111111, \"#46039f\"], [0.2222222222222222, \"#7201a8\"], [0.3333333333333333, \"#9c179e\"], [0.4444444444444444, \"#bd3786\"], [0.5555555555555556, \"#d8576b\"], [0.6666666666666666, \"#ed7953\"], [0.7777777777777778, \"#fb9f3a\"], [0.8888888888888888, \"#fdca26\"], [1.0, \"#f0f921\"]], \"type\": \"surface\"}], \"table\": [{\"cells\": {\"fill\": {\"color\": \"#EBF0F8\"}, \"line\": {\"color\": \"white\"}}, \"header\": {\"fill\": {\"color\": \"#C8D4E3\"}, \"line\": {\"color\": \"white\"}}, \"type\": \"table\"}]}, \"layout\": {\"annotationdefaults\": {\"arrowcolor\": \"#2a3f5f\", \"arrowhead\": 0, \"arrowwidth\": 1}, \"colorscale\": {\"diverging\": [[0, \"#8e0152\"], [0.1, \"#c51b7d\"], [0.2, \"#de77ae\"], [0.3, \"#f1b6da\"], [0.4, \"#fde0ef\"], [0.5, \"#f7f7f7\"], [0.6, \"#e6f5d0\"], [0.7, \"#b8e186\"], [0.8, \"#7fbc41\"], [0.9, \"#4d9221\"], [1, \"#276419\"]], \"sequential\": [[0.0, \"#0d0887\"], [0.1111111111111111, \"#46039f\"], [0.2222222222222222, \"#7201a8\"], [0.3333333333333333, \"#9c179e\"], [0.4444444444444444, \"#bd3786\"], [0.5555555555555556, \"#d8576b\"], [0.6666666666666666, \"#ed7953\"], [0.7777777777777778, \"#fb9f3a\"], [0.8888888888888888, \"#fdca26\"], [1.0, \"#f0f921\"]], \"sequentialminus\": [[0.0, \"#0d0887\"], [0.1111111111111111, \"#46039f\"], [0.2222222222222222, \"#7201a8\"], [0.3333333333333333, \"#9c179e\"], [0.4444444444444444, \"#bd3786\"], [0.5555555555555556, \"#d8576b\"], [0.6666666666666666, \"#ed7953\"], [0.7777777777777778, \"#fb9f3a\"], [0.8888888888888888, \"#fdca26\"], [1.0, \"#f0f921\"]]}, \"colorway\": [\"#636efa\", \"#EF553B\", \"#00cc96\", \"#ab63fa\", \"#FFA15A\", \"#19d3f3\", \"#FF6692\", \"#B6E880\", \"#FF97FF\", \"#FECB52\"], \"font\": {\"color\": \"#2a3f5f\"}, \"geo\": {\"bgcolor\": \"white\", \"lakecolor\": \"white\", \"landcolor\": \"#E5ECF6\", \"showlakes\": true, \"showland\": true, \"subunitcolor\": \"white\"}, \"hoverlabel\": {\"align\": \"left\"}, \"hovermode\": \"closest\", \"mapbox\": {\"style\": \"light\"}, \"paper_bgcolor\": \"white\", \"plot_bgcolor\": \"#E5ECF6\", \"polar\": {\"angularaxis\": {\"gridcolor\": \"white\", \"linecolor\": \"white\", \"ticks\": \"\"}, \"bgcolor\": \"#E5ECF6\", \"radialaxis\": {\"gridcolor\": \"white\", \"linecolor\": \"white\", \"ticks\": \"\"}}, \"scene\": {\"xaxis\": {\"backgroundcolor\": \"#E5ECF6\", \"gridcolor\": \"white\", \"gridwidth\": 2, \"linecolor\": \"white\", \"showbackground\": true, \"ticks\": \"\", \"zerolinecolor\": \"white\"}, \"yaxis\": {\"backgroundcolor\": \"#E5ECF6\", \"gridcolor\": \"white\", \"gridwidth\": 2, \"linecolor\": \"white\", \"showbackground\": true, \"ticks\": \"\", \"zerolinecolor\": \"white\"}, \"zaxis\": {\"backgroundcolor\": \"#E5ECF6\", \"gridcolor\": \"white\", \"gridwidth\": 2, \"linecolor\": \"white\", \"showbackground\": true, \"ticks\": \"\", \"zerolinecolor\": \"white\"}}, \"shapedefaults\": {\"line\": {\"color\": \"#2a3f5f\"}}, \"ternary\": {\"aaxis\": {\"gridcolor\": \"white\", \"linecolor\": \"white\", \"ticks\": \"\"}, \"baxis\": {\"gridcolor\": \"white\", \"linecolor\": \"white\", \"ticks\": \"\"}, \"bgcolor\": \"#E5ECF6\", \"caxis\": {\"gridcolor\": \"white\", \"linecolor\": \"white\", \"ticks\": \"\"}}, \"title\": {\"x\": 0.05}, \"xaxis\": {\"automargin\": true, \"gridcolor\": \"white\", \"linecolor\": \"white\", \"ticks\": \"\", \"zerolinecolor\": \"white\", \"zerolinewidth\": 2}, \"yaxis\": {\"automargin\": true, \"gridcolor\": \"white\", \"linecolor\": \"white\", \"ticks\": \"\", \"zerolinecolor\": \"white\", \"zerolinewidth\": 2}}}, \"title\": {\"text\": \"Hartree-Fock Energy VS Bond Distance\"}, \"xaxis\": {\"title\": {\"text\": \"Bond Distance in Atomic Units\"}}, \"yaxis\": {\"title\": {\"text\": \"Energy in Hartrees\"}}},\n",
       "                        {\"responsive\": true}\n",
       "                    ).then(function(){\n",
       "                            \n",
       "var gd = document.getElementById('9d57eb58-9739-45e1-8521-34eb6adbe463');\n",
       "var x = new MutationObserver(function (mutations, observer) {{\n",
       "        var display = window.getComputedStyle(gd).display;\n",
       "        if (!display || display === 'none') {{\n",
       "            console.log([gd, 'removed!']);\n",
       "            Plotly.purge(gd);\n",
       "            observer.disconnect();\n",
       "        }}\n",
       "}});\n",
       "\n",
       "// Listen for the removal of the full notebook cells\n",
       "var notebookContainer = gd.closest('#notebook-container');\n",
       "if (notebookContainer) {{\n",
       "    x.observe(notebookContainer, {childList: true});\n",
       "}}\n",
       "\n",
       "// Listen for the clearing of the current output cell\n",
       "var outputEl = gd.closest('.output');\n",
       "if (outputEl) {{\n",
       "    x.observe(outputEl, {childList: true});\n",
       "}}\n",
       "\n",
       "                        })\n",
       "                };\n",
       "                });\n",
       "            </script>\n",
       "        </div>"
      ]
     },
     "metadata": {},
     "output_type": "display_data"
    }
   ],
   "source": [
    "#prepare data for use with graphing\n",
    "dx = .1\n",
    "steps = 15/dx\n",
    "\n",
    "data = [x*dx for x in range(int(steps))]\n",
    "\n",
    "figure = { \n",
    "    \"data\": [\n",
    "        \n",
    "        #create the Hartree-Fock generated Potential Energy Surface\n",
    "        {\n",
    "            \"type\":\"scatter\",\n",
    "            \"x\":R,\n",
    "            \"y\":E,\n",
    "            \"connectgaps\":False,\n",
    "            \"mode\":\"markers\", \n",
    "            \"name\":\"Hartree-Fock Computed\",\n",
    "            \"marker\":{\"color\":\"blue\"}\n",
    "        },\n",
    "    \n",
    "        #Highlight the minimum energy point in red\n",
    "        {\n",
    "            \"type\":\"scatter\",\n",
    "            \"x\":[optimalR],\n",
    "            \"y\":[minE],\n",
    "            \"name\":\"Optimal Bond Distance\",\n",
    "            \"marker\":{\"color\":\"red\"}\n",
    "        },\n",
    "        \n",
    "        #Create and plot the Morse Potential fit\n",
    "        {\n",
    "            \"type\":\"scatter\",\n",
    "            \"x\":data,\n",
    "            \"y\": [morsePotential(r, popt[0], popt[1], popt[2], popt[3]) for r in data] ,\n",
    "            \"connectgaps\":False,\n",
    "            \"name\":\"Morse Potential Approximation\",\n",
    "            \"marker\":{\"color\":\"green\"}\n",
    "        },\n",
    "        \n",
    "        {\n",
    "            \"type\":\"scatter\",\n",
    "            \"x\":[popt[1]] * len(EHO),\n",
    "            \"y\":EHO,\n",
    "            \"connectgaps\":False,\n",
    "            \"name\":\"Harmonic Oscillator\",\n",
    "            \"marker\":{\"color\":\"blue\"}\n",
    "        },\n",
    "        \n",
    "        {\n",
    "            \"type\":\"scatter\",\n",
    "            \"x\":[x for x in range(-15, 15)],\n",
    "            \"y\":[integrand(x) for x in range(-15, 15)],\n",
    "            \"connectgaps\":True,\n",
    "            \"name\":\"V Integrand\",\n",
    "            \"marker\":{\"color\":\"red\"},\n",
    "        }, \n",
    "        {\n",
    "           \"type\":\"scatter\",\n",
    "            \"x\":[x for x in range(-15, 15)],\n",
    "            \"y\":[integrand2(x) for x in range(-15, 15)],\n",
    "            \"connectgaps\":True,\n",
    "            \"name\":\"T Integrand\",\n",
    "            \"marker\":{\"color\":\"purple\"}, \n",
    "        },\n",
    "        \n",
    "        {\n",
    "           \"type\":\"scatter\",\n",
    "            \"x\":[x for x in range(-15, 15)],\n",
    "            \"y\":[integrand2(x) for x in range(-15, 15)],\n",
    "            \"connectgaps\":True,\n",
    "            \"name\":\"T Integrand\",\n",
    "            \"marker\":{\"color\":\"purple\"}, \n",
    "        }\n",
    "        #{\n",
    "        #    \"type\":\"scatter\",\n",
    "        #    \"x\":[popt[1]] * len(EPW),\n",
    "        #    \"y\":EPW,\n",
    "        #    \"connectgaps\":False,\n",
    "        #    \"name\":\"Plane Wave\",\n",
    "        #    \"marker\":{\"color\":\"blue\"}\n",
    "        #},\n",
    "        \n",
    "           #{\n",
    "           # \"type\":\"scatter\",\n",
    "           # \"x\":[PIB] * len(EPW),\n",
    "           # \"y\":PIB,\n",
    "           # \"connectgaps\":False,\n",
    "           # \"name\":\"PIB Solution\",\n",
    "           # \"marker\":{\"color\":\"blue\"}\n",
    "        #}\n",
    "        \n",
    "    ],\n",
    "    \n",
    "    #Set up the layout of the graph\n",
    "    \"layout\":\n",
    "        {\n",
    "           \"xaxis\":{\"title\":\"Bond Distance in Atomic Units\"},\n",
    "           \"yaxis\":{\"title\":\"Energy in Hartrees\"},\n",
    "            \"title\":{\"text\":\"Hartree-Fock Energy VS Bond Distance\"}\n",
    "        },    \n",
    "}\n",
    "\n",
    "#Loop over all MO Energies\n",
    "#for vibrationalEnergy in MOEnergy[minEIndex]:\n",
    "#        figure[\"data\"].append(\n",
    "#            {\n",
    "#                \"type\":\"scatter\",\n",
    "#                \"x\":[1.4],\n",
    "#                    \"y\" : [vibrationalEnergy]\n",
    "#            }\n",
    "#        )    \n",
    "\n",
    "#for i in range(basisSize):\n",
    "#    for j in range(basisSize):\n",
    "#        figure[\"data\"].append({\"type\":\"scatter\",\n",
    "#            \"x\":[x for x in range(-15, 15)],\n",
    "#            \"y\":[Tints[0](x) for x in range(-15, 15)],\n",
    "#            \"connectgaps\":True,\n",
    "#            \"name\":\"T Integrand\"+ str(i) + \",\" + str(j)}\n",
    "#        )\n",
    "    \n",
    "#        figure[\"data\"].append(\n",
    "#            {\"type\":\"scatter\",\n",
    "#            \"x\":[x for x in range(-15, 15)],\n",
    "#            \"y\":[Vints[0](x) for x in range(-15, 15)],\n",
    "#            \"connectgaps\":True,\n",
    "#            \"name\":\"V Integrand \" + str(i) + \",\" + str(j),\n",
    "#            },\n",
    "#    )\n",
    "\n",
    "iplot(figure)"
   ]
  }
 ],
 "metadata": {
  "kernelspec": {
   "display_name": "Python 3",
   "language": "python",
   "name": "python3"
  },
  "language_info": {
   "codemirror_mode": {
    "name": "ipython",
    "version": 3
   },
   "file_extension": ".py",
   "mimetype": "text/x-python",
   "name": "python",
   "nbconvert_exporter": "python",
   "pygments_lexer": "ipython3",
   "version": "3.7.3"
  }
 },
 "nbformat": 4,
 "nbformat_minor": 2
}
