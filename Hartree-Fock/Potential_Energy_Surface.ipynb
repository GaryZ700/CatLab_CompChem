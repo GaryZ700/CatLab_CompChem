{
 "cells": [
  {
   "cell_type": "markdown",
   "metadata": {},
   "source": [
    "## Potential Energy Surface Python Code\n",
    "<br>\n",
    "This script allows the user to enter in a diatomic molecule to compute the Potential Energy Surface through of the Hartree-Fock method. \n",
    "<br> <br>\n",
    "The program is limited to only using Hydrogen and Helium atoms due to the Hartree-Fock base code only supporting s-orbitals. \n",
    "<br><br>\n",
    "The potential energy surface graph uses Hartrees as units for the energy, and bohr units for representing the diatomic bond distance. \n",
    "<br><br>\n",
    "The Vibrational Energy Spectra are also computed and overlayed over the potential energy surface."
   ]
  },
  {
   "cell_type": "code",
   "execution_count": 1,
   "metadata": {},
   "outputs": [
    {
     "data": {
      "text/html": [
       "        <script type=\"text/javascript\">\n",
       "        window.PlotlyConfig = {MathJaxConfig: 'local'};\n",
       "        if (window.MathJax) {MathJax.Hub.Config({SVG: {font: \"STIX-Web\"}});}\n",
       "        if (typeof require !== 'undefined') {\n",
       "        require.undef(\"plotly\");\n",
       "        requirejs.config({\n",
       "            paths: {\n",
       "                'plotly': ['https://cdn.plot.ly/plotly-latest.min']\n",
       "            }\n",
       "        });\n",
       "        require(['plotly'], function(Plotly) {\n",
       "            window._Plotly = Plotly;\n",
       "        });\n",
       "        }\n",
       "        </script>\n",
       "        "
      ]
     },
     "metadata": {},
     "output_type": "display_data"
    }
   ],
   "source": [
    "#import all required packages here\n",
    "import math\n",
    "import scipy.integrate as integrate\n",
    "import scipy.optimize as optimize\n",
    "from scipy.misc import derivative as ddx\n",
    "import numpy as np\n",
    "\n",
    "from molecule import atom\n",
    "from molecule import vector\n",
    "from molecule import gaussian\n",
    "from molecule import molecule\n",
    "from morsePotential import morsePotential\n",
    "from notebookImporter import importNotebook\n",
    "from IPython.display import clear_output\n",
    "\n",
    "from plotly.offline import iplot, init_notebook_mode\n",
    "init_notebook_mode(connected=True)"
   ]
  },
  {
   "cell_type": "code",
   "execution_count": 2,
   "metadata": {
    "scrolled": true
   },
   "outputs": [
    {
     "name": "stdout",
     "output_type": "stream",
     "text": [
      "Hartree-Fock Computation: 8.0%\n",
      "Hartree-Fock Computation: 9.0%\n",
      "Hartree-Fock Computation: 10.0%\n",
      "Hartree-Fock Computation: 11.0%\n",
      "Hartree-Fock Computation: 12.0%\n",
      "Hartree-Fock Computation: 13.0%\n",
      "Hartree-Fock Computation: 14.0%\n",
      "Hartree-Fock Computation: 15.0%\n",
      "Hartree-Fock Computation: 16.0%\n",
      "Hartree-Fock Computation: 17.0%\n",
      "Hartree-Fock Computation: 18.0%\n",
      "Hartree-Fock Computation: 19.0%\n",
      "Hartree-Fock Computation: 20.0%\n",
      "Hartree-Fock Computation: 21.0%\n",
      "Hartree-Fock Computation: 22.0%\n",
      "Hartree-Fock Computation: 23.0%\n",
      "Hartree-Fock Computation: 24.0%\n",
      "Hartree-Fock Computation: 25.0%\n",
      "Hartree-Fock Computation: 26.0%\n",
      "Hartree-Fock Computation: 27.0%\n",
      "Hartree-Fock Computation: 28.0%\n",
      "Hartree-Fock Computation: 29.0%\n",
      "Hartree-Fock Computation: 30.0%\n",
      "Hartree-Fock Computation: 31.0%\n",
      "Hartree-Fock Computation: 32.0%\n",
      "Hartree-Fock Computation: 33.0%\n",
      "Hartree-Fock Computation: 34.0%\n",
      "Hartree-Fock Computation: 35.0%\n",
      "Hartree-Fock Computation: 36.0%\n",
      "Hartree-Fock Computation: 37.0%\n",
      "Hartree-Fock Computation: 38.0%\n",
      "Hartree-Fock Computation: 39.0%\n",
      "Hartree-Fock Computation: 40.0%\n",
      "Hartree-Fock Computation: 41.0%\n",
      "Hartree-Fock Computation: 42.0%\n",
      "Hartree-Fock Computation: 43.0%\n",
      "Hartree-Fock Computation: 44.0%\n",
      "Hartree-Fock Computation: 45.0%\n",
      "Hartree-Fock Computation: 46.0%\n",
      "Hartree-Fock Computation: 47.0%\n",
      "Hartree-Fock Computation: 48.0%\n",
      "Hartree-Fock Computation: 49.0%\n",
      "Hartree-Fock Computation: 50.0%\n",
      "Hartree-Fock Computation: 51.0%\n",
      "Hartree-Fock Computation: 52.0%\n",
      "Hartree-Fock Computation: 53.0%\n",
      "Hartree-Fock Computation: 54.0%\n",
      "Hartree-Fock Computation: 55.0%\n",
      "Hartree-Fock Computation: 56.0%\n",
      "Hartree-Fock Computation: 57.0%\n",
      "Hartree-Fock Computation: 58.0%\n",
      "Hartree-Fock Computation: 59.0%\n",
      "Hartree-Fock Computation: 60.0%\n",
      "Hartree-Fock Computation: 61.0%\n",
      "Hartree-Fock Computation: 62.0%\n",
      "Hartree-Fock Computation: 63.0%\n",
      "Hartree-Fock Computation: 64.0%\n",
      "Hartree-Fock Computation: 65.0%\n",
      "Hartree-Fock Computation: 66.0%\n",
      "Hartree-Fock Computation: 67.0%\n",
      "Hartree-Fock Computation: 68.0%\n",
      "Hartree-Fock Computation: 69.0%\n",
      "Hartree-Fock Computation: 70.0%\n",
      "Hartree-Fock Computation: 71.0%\n",
      "Hartree-Fock Computation: 72.0%\n",
      "Hartree-Fock Computation: 73.0%\n",
      "Hartree-Fock Computation: 74.0%\n",
      "Hartree-Fock Computation: 75.0%\n",
      "Hartree-Fock Computation: 76.0%\n",
      "Hartree-Fock Computation: 77.0%\n",
      "Hartree-Fock Computation: 78.0%\n",
      "Hartree-Fock Computation: 79.0%\n",
      "Hartree-Fock Computation: 80.0%\n",
      "Hartree-Fock Computation: 81.0%\n",
      "Hartree-Fock Computation: 82.0%\n",
      "Hartree-Fock Computation: 83.0%\n",
      "Hartree-Fock Computation: 84.0%\n",
      "Hartree-Fock Computation: 85.0%\n",
      "Hartree-Fock Computation: 86.0%\n",
      "Hartree-Fock Computation: 87.0%\n",
      "Hartree-Fock Computation: 88.0%\n",
      "Hartree-Fock Computation: 89.0%\n",
      "Hartree-Fock Computation: 90.0%\n",
      "Hartree-Fock Computation: 91.0%\n",
      "Hartree-Fock Computation: 92.0%\n",
      "Hartree-Fock Computation: 93.0%\n",
      "Hartree-Fock Computation: 94.0%\n",
      "Hartree-Fock Computation: 95.0%\n",
      "Hartree-Fock Computation: 96.0%\n",
      "Hartree-Fock Computation: 97.0%\n",
      "Hartree-Fock Computation: 98.0%\n",
      "Hartree-Fock Computation: 99.0%\n",
      "Hartree-Fock Computation Complete\n"
     ]
    },
    {
     "data": {
      "application/vnd.plotly.v1+json": {
       "config": {
        "linkText": "Export to plot.ly",
        "plotlyServerURL": "https://plot.ly",
        "showLink": false
       },
       "data": [
        {
         "connectgaps": false,
         "marker": {
          "color": "blue"
         },
         "mode": "markers",
         "name": "Hartree-Fock Computed",
         "type": "scatter",
         "x": [
          0.85,
          0.95,
          1.05,
          1.1500000000000001,
          1.2500000000000002,
          1.3500000000000003,
          1.4500000000000004,
          1.5500000000000005,
          1.6500000000000006,
          1.7500000000000007,
          1.8500000000000008,
          1.9500000000000008,
          2.0500000000000007,
          2.150000000000001,
          2.250000000000001,
          2.350000000000001,
          2.450000000000001,
          2.550000000000001,
          2.6500000000000012,
          2.7500000000000013,
          2.8500000000000014,
          2.9500000000000015,
          3.0500000000000016,
          3.1500000000000017,
          3.2500000000000018,
          3.350000000000002,
          3.450000000000002,
          3.550000000000002,
          3.650000000000002,
          3.750000000000002,
          3.8500000000000023,
          3.9500000000000024,
          4.0500000000000025,
          4.150000000000002,
          4.250000000000002,
          4.350000000000001,
          4.450000000000001,
          4.550000000000001,
          4.65,
          4.75,
          4.85,
          4.949999999999999,
          5.049999999999999,
          5.149999999999999,
          5.249999999999998,
          5.349999999999998,
          5.4499999999999975,
          5.549999999999997,
          5.649999999999997,
          5.7499999999999964,
          5.849999999999996,
          5.949999999999996,
          6.049999999999995,
          6.149999999999995,
          6.249999999999995,
          6.349999999999994,
          6.449999999999994,
          6.549999999999994,
          6.649999999999993,
          6.749999999999993,
          6.8499999999999925,
          6.949999999999992,
          7.049999999999992,
          7.1499999999999915,
          7.249999999999991,
          7.349999999999991,
          7.44999999999999,
          7.54999999999999,
          7.64999999999999,
          7.749999999999989,
          7.849999999999989,
          7.949999999999989,
          8.049999999999988,
          8.149999999999988,
          8.249999999999988,
          8.349999999999987,
          8.449999999999987,
          8.549999999999986,
          8.649999999999986,
          8.749999999999986,
          8.849999999999985,
          8.949999999999985,
          9.049999999999985,
          9.149999999999984,
          9.249999999999984,
          9.349999999999984,
          9.449999999999983,
          9.549999999999983,
          9.649999999999983,
          9.749999999999982,
          9.849999999999982,
          9.949999999999982
         ],
         "y": [
          -0.9872432454803035,
          -1.0453969655059847,
          -1.0821565708110161,
          -1.103796753017444,
          -1.1145784427493424,
          -1.1175011357098212,
          -1.1147199297328392,
          -1.1077934352702428,
          -1.0978475449672567,
          -1.0856948732828646,
          -1.0719260573400924,
          -1.0569788311272152,
          -1.0411878362347846,
          -1.024818237706964,
          -1.0080868562895131,
          -0.9911746561330028,
          -0.9742339153450772,
          -0.9573925338546116,
          -0.9407570242952678,
          -0.9244149977146469,
          -0.9084374692105319,
          -0.8928810455280846,
          -0.8777899519511231,
          -0.8631978417352622,
          -0.8491293564793958,
          -0.8356014389265934,
          -0.8226244256622813,
          -0.810202961371111,
          -0.798336779522113,
          -0.7870213895823506,
          -0.7762487015303117,
          -0.7660076075315303,
          -0.7562845303720597,
          -0.7470639400287579,
          -0.7383288342591737,
          -0.7300611763905993,
          -0.722242283221872,
          -0.7148531575123458,
          -0.7078747622124064,
          -0.7012882367095286,
          -0.695075058358834,
          -0.6892171550344235,
          -0.6836969761469257,
          -0.6784975304500585,
          -0.673602399055011,
          -0.6689957315208674,
          -0.6646622318713643,
          -0.6605871400927623,
          -0.6567562132691045,
          -0.6531557091529432,
          -0.649772373755926,
          -0.6465934335388133,
          -0.643606592013203,
          -0.6408000300372642,
          -0.6381624087741788,
          -0.6356828741509019,
          -0.63335106166636,
          -0.6311571005117215,
          -0.6290916161434486,
          -0.6271457306604598,
          -0.6253110605545057,
          -0.6235797116090818,
          -0.6219442709043848,
          -0.620397796036906,
          -0.618933801779371,
          -0.6175462444903363,
          -0.6162295046354332,
          -0.614978367807989,
          -0.6137880046402611,
          -0.6126539499825411,
          -0.611572081700585,
          -0.6105385994063086,
          -0.6095500033960606,
          -0.6086030740279442,
          -0.6076948517269727,
          -0.6068226177659738,
          -0.6059838759323805,
          -0.6051763351571067,
          -0.6043978931520136,
          -0.6036466210771917,
          -0.6029207492382912,
          -0.6022186537972432,
          -0.6015388444665157,
          -0.6008799531472326,
          -0.6002407234645102,
          -0.599620001148907,
          -0.599016725210432,
          -0.5984299198507748,
          -0.5978586870599323,
          -0.5973021998448994,
          -0.5967596960402942,
          -0.5962304726534765
         ]
        }
       ],
       "layout": {
        "template": {
         "data": {
          "bar": [
           {
            "error_x": {
             "color": "#2a3f5f"
            },
            "error_y": {
             "color": "#2a3f5f"
            },
            "marker": {
             "line": {
              "color": "#E5ECF6",
              "width": 0.5
             }
            },
            "type": "bar"
           }
          ],
          "barpolar": [
           {
            "marker": {
             "line": {
              "color": "#E5ECF6",
              "width": 0.5
             }
            },
            "type": "barpolar"
           }
          ],
          "carpet": [
           {
            "aaxis": {
             "endlinecolor": "#2a3f5f",
             "gridcolor": "white",
             "linecolor": "white",
             "minorgridcolor": "white",
             "startlinecolor": "#2a3f5f"
            },
            "baxis": {
             "endlinecolor": "#2a3f5f",
             "gridcolor": "white",
             "linecolor": "white",
             "minorgridcolor": "white",
             "startlinecolor": "#2a3f5f"
            },
            "type": "carpet"
           }
          ],
          "choropleth": [
           {
            "colorbar": {
             "outlinewidth": 0,
             "ticks": ""
            },
            "type": "choropleth"
           }
          ],
          "contour": [
           {
            "colorbar": {
             "outlinewidth": 0,
             "ticks": ""
            },
            "colorscale": [
             [
              0,
              "#0d0887"
             ],
             [
              0.1111111111111111,
              "#46039f"
             ],
             [
              0.2222222222222222,
              "#7201a8"
             ],
             [
              0.3333333333333333,
              "#9c179e"
             ],
             [
              0.4444444444444444,
              "#bd3786"
             ],
             [
              0.5555555555555556,
              "#d8576b"
             ],
             [
              0.6666666666666666,
              "#ed7953"
             ],
             [
              0.7777777777777778,
              "#fb9f3a"
             ],
             [
              0.8888888888888888,
              "#fdca26"
             ],
             [
              1,
              "#f0f921"
             ]
            ],
            "type": "contour"
           }
          ],
          "contourcarpet": [
           {
            "colorbar": {
             "outlinewidth": 0,
             "ticks": ""
            },
            "type": "contourcarpet"
           }
          ],
          "heatmap": [
           {
            "colorbar": {
             "outlinewidth": 0,
             "ticks": ""
            },
            "colorscale": [
             [
              0,
              "#0d0887"
             ],
             [
              0.1111111111111111,
              "#46039f"
             ],
             [
              0.2222222222222222,
              "#7201a8"
             ],
             [
              0.3333333333333333,
              "#9c179e"
             ],
             [
              0.4444444444444444,
              "#bd3786"
             ],
             [
              0.5555555555555556,
              "#d8576b"
             ],
             [
              0.6666666666666666,
              "#ed7953"
             ],
             [
              0.7777777777777778,
              "#fb9f3a"
             ],
             [
              0.8888888888888888,
              "#fdca26"
             ],
             [
              1,
              "#f0f921"
             ]
            ],
            "type": "heatmap"
           }
          ],
          "heatmapgl": [
           {
            "colorbar": {
             "outlinewidth": 0,
             "ticks": ""
            },
            "colorscale": [
             [
              0,
              "#0d0887"
             ],
             [
              0.1111111111111111,
              "#46039f"
             ],
             [
              0.2222222222222222,
              "#7201a8"
             ],
             [
              0.3333333333333333,
              "#9c179e"
             ],
             [
              0.4444444444444444,
              "#bd3786"
             ],
             [
              0.5555555555555556,
              "#d8576b"
             ],
             [
              0.6666666666666666,
              "#ed7953"
             ],
             [
              0.7777777777777778,
              "#fb9f3a"
             ],
             [
              0.8888888888888888,
              "#fdca26"
             ],
             [
              1,
              "#f0f921"
             ]
            ],
            "type": "heatmapgl"
           }
          ],
          "histogram": [
           {
            "marker": {
             "colorbar": {
              "outlinewidth": 0,
              "ticks": ""
             }
            },
            "type": "histogram"
           }
          ],
          "histogram2d": [
           {
            "colorbar": {
             "outlinewidth": 0,
             "ticks": ""
            },
            "colorscale": [
             [
              0,
              "#0d0887"
             ],
             [
              0.1111111111111111,
              "#46039f"
             ],
             [
              0.2222222222222222,
              "#7201a8"
             ],
             [
              0.3333333333333333,
              "#9c179e"
             ],
             [
              0.4444444444444444,
              "#bd3786"
             ],
             [
              0.5555555555555556,
              "#d8576b"
             ],
             [
              0.6666666666666666,
              "#ed7953"
             ],
             [
              0.7777777777777778,
              "#fb9f3a"
             ],
             [
              0.8888888888888888,
              "#fdca26"
             ],
             [
              1,
              "#f0f921"
             ]
            ],
            "type": "histogram2d"
           }
          ],
          "histogram2dcontour": [
           {
            "colorbar": {
             "outlinewidth": 0,
             "ticks": ""
            },
            "colorscale": [
             [
              0,
              "#0d0887"
             ],
             [
              0.1111111111111111,
              "#46039f"
             ],
             [
              0.2222222222222222,
              "#7201a8"
             ],
             [
              0.3333333333333333,
              "#9c179e"
             ],
             [
              0.4444444444444444,
              "#bd3786"
             ],
             [
              0.5555555555555556,
              "#d8576b"
             ],
             [
              0.6666666666666666,
              "#ed7953"
             ],
             [
              0.7777777777777778,
              "#fb9f3a"
             ],
             [
              0.8888888888888888,
              "#fdca26"
             ],
             [
              1,
              "#f0f921"
             ]
            ],
            "type": "histogram2dcontour"
           }
          ],
          "mesh3d": [
           {
            "colorbar": {
             "outlinewidth": 0,
             "ticks": ""
            },
            "type": "mesh3d"
           }
          ],
          "parcoords": [
           {
            "line": {
             "colorbar": {
              "outlinewidth": 0,
              "ticks": ""
             }
            },
            "type": "parcoords"
           }
          ],
          "scatter": [
           {
            "marker": {
             "colorbar": {
              "outlinewidth": 0,
              "ticks": ""
             }
            },
            "type": "scatter"
           }
          ],
          "scatter3d": [
           {
            "line": {
             "colorbar": {
              "outlinewidth": 0,
              "ticks": ""
             }
            },
            "marker": {
             "colorbar": {
              "outlinewidth": 0,
              "ticks": ""
             }
            },
            "type": "scatter3d"
           }
          ],
          "scattercarpet": [
           {
            "marker": {
             "colorbar": {
              "outlinewidth": 0,
              "ticks": ""
             }
            },
            "type": "scattercarpet"
           }
          ],
          "scattergeo": [
           {
            "marker": {
             "colorbar": {
              "outlinewidth": 0,
              "ticks": ""
             }
            },
            "type": "scattergeo"
           }
          ],
          "scattergl": [
           {
            "marker": {
             "colorbar": {
              "outlinewidth": 0,
              "ticks": ""
             }
            },
            "type": "scattergl"
           }
          ],
          "scattermapbox": [
           {
            "marker": {
             "colorbar": {
              "outlinewidth": 0,
              "ticks": ""
             }
            },
            "type": "scattermapbox"
           }
          ],
          "scatterpolar": [
           {
            "marker": {
             "colorbar": {
              "outlinewidth": 0,
              "ticks": ""
             }
            },
            "type": "scatterpolar"
           }
          ],
          "scatterpolargl": [
           {
            "marker": {
             "colorbar": {
              "outlinewidth": 0,
              "ticks": ""
             }
            },
            "type": "scatterpolargl"
           }
          ],
          "scatterternary": [
           {
            "marker": {
             "colorbar": {
              "outlinewidth": 0,
              "ticks": ""
             }
            },
            "type": "scatterternary"
           }
          ],
          "surface": [
           {
            "colorbar": {
             "outlinewidth": 0,
             "ticks": ""
            },
            "colorscale": [
             [
              0,
              "#0d0887"
             ],
             [
              0.1111111111111111,
              "#46039f"
             ],
             [
              0.2222222222222222,
              "#7201a8"
             ],
             [
              0.3333333333333333,
              "#9c179e"
             ],
             [
              0.4444444444444444,
              "#bd3786"
             ],
             [
              0.5555555555555556,
              "#d8576b"
             ],
             [
              0.6666666666666666,
              "#ed7953"
             ],
             [
              0.7777777777777778,
              "#fb9f3a"
             ],
             [
              0.8888888888888888,
              "#fdca26"
             ],
             [
              1,
              "#f0f921"
             ]
            ],
            "type": "surface"
           }
          ],
          "table": [
           {
            "cells": {
             "fill": {
              "color": "#EBF0F8"
             },
             "line": {
              "color": "white"
             }
            },
            "header": {
             "fill": {
              "color": "#C8D4E3"
             },
             "line": {
              "color": "white"
             }
            },
            "type": "table"
           }
          ]
         },
         "layout": {
          "annotationdefaults": {
           "arrowcolor": "#2a3f5f",
           "arrowhead": 0,
           "arrowwidth": 1
          },
          "colorscale": {
           "diverging": [
            [
             0,
             "#8e0152"
            ],
            [
             0.1,
             "#c51b7d"
            ],
            [
             0.2,
             "#de77ae"
            ],
            [
             0.3,
             "#f1b6da"
            ],
            [
             0.4,
             "#fde0ef"
            ],
            [
             0.5,
             "#f7f7f7"
            ],
            [
             0.6,
             "#e6f5d0"
            ],
            [
             0.7,
             "#b8e186"
            ],
            [
             0.8,
             "#7fbc41"
            ],
            [
             0.9,
             "#4d9221"
            ],
            [
             1,
             "#276419"
            ]
           ],
           "sequential": [
            [
             0,
             "#0d0887"
            ],
            [
             0.1111111111111111,
             "#46039f"
            ],
            [
             0.2222222222222222,
             "#7201a8"
            ],
            [
             0.3333333333333333,
             "#9c179e"
            ],
            [
             0.4444444444444444,
             "#bd3786"
            ],
            [
             0.5555555555555556,
             "#d8576b"
            ],
            [
             0.6666666666666666,
             "#ed7953"
            ],
            [
             0.7777777777777778,
             "#fb9f3a"
            ],
            [
             0.8888888888888888,
             "#fdca26"
            ],
            [
             1,
             "#f0f921"
            ]
           ],
           "sequentialminus": [
            [
             0,
             "#0d0887"
            ],
            [
             0.1111111111111111,
             "#46039f"
            ],
            [
             0.2222222222222222,
             "#7201a8"
            ],
            [
             0.3333333333333333,
             "#9c179e"
            ],
            [
             0.4444444444444444,
             "#bd3786"
            ],
            [
             0.5555555555555556,
             "#d8576b"
            ],
            [
             0.6666666666666666,
             "#ed7953"
            ],
            [
             0.7777777777777778,
             "#fb9f3a"
            ],
            [
             0.8888888888888888,
             "#fdca26"
            ],
            [
             1,
             "#f0f921"
            ]
           ]
          },
          "colorway": [
           "#636efa",
           "#EF553B",
           "#00cc96",
           "#ab63fa",
           "#FFA15A",
           "#19d3f3",
           "#FF6692",
           "#B6E880",
           "#FF97FF",
           "#FECB52"
          ],
          "font": {
           "color": "#2a3f5f"
          },
          "geo": {
           "bgcolor": "white",
           "lakecolor": "white",
           "landcolor": "#E5ECF6",
           "showlakes": true,
           "showland": true,
           "subunitcolor": "white"
          },
          "hoverlabel": {
           "align": "left"
          },
          "hovermode": "closest",
          "mapbox": {
           "style": "light"
          },
          "paper_bgcolor": "white",
          "plot_bgcolor": "#E5ECF6",
          "polar": {
           "angularaxis": {
            "gridcolor": "white",
            "linecolor": "white",
            "ticks": ""
           },
           "bgcolor": "#E5ECF6",
           "radialaxis": {
            "gridcolor": "white",
            "linecolor": "white",
            "ticks": ""
           }
          },
          "scene": {
           "xaxis": {
            "backgroundcolor": "#E5ECF6",
            "gridcolor": "white",
            "gridwidth": 2,
            "linecolor": "white",
            "showbackground": true,
            "ticks": "",
            "zerolinecolor": "white"
           },
           "yaxis": {
            "backgroundcolor": "#E5ECF6",
            "gridcolor": "white",
            "gridwidth": 2,
            "linecolor": "white",
            "showbackground": true,
            "ticks": "",
            "zerolinecolor": "white"
           },
           "zaxis": {
            "backgroundcolor": "#E5ECF6",
            "gridcolor": "white",
            "gridwidth": 2,
            "linecolor": "white",
            "showbackground": true,
            "ticks": "",
            "zerolinecolor": "white"
           }
          },
          "shapedefaults": {
           "line": {
            "color": "#2a3f5f"
           }
          },
          "ternary": {
           "aaxis": {
            "gridcolor": "white",
            "linecolor": "white",
            "ticks": ""
           },
           "baxis": {
            "gridcolor": "white",
            "linecolor": "white",
            "ticks": ""
           },
           "bgcolor": "#E5ECF6",
           "caxis": {
            "gridcolor": "white",
            "linecolor": "white",
            "ticks": ""
           }
          },
          "title": {
           "x": 0.05
          },
          "xaxis": {
           "automargin": true,
           "gridcolor": "white",
           "linecolor": "white",
           "ticks": "",
           "zerolinecolor": "white",
           "zerolinewidth": 2
          },
          "yaxis": {
           "automargin": true,
           "gridcolor": "white",
           "linecolor": "white",
           "ticks": "",
           "zerolinecolor": "white",
           "zerolinewidth": 2
          }
         }
        }
       }
      },
      "text/html": [
       "<div>\n",
       "        \n",
       "        \n",
       "            <div id=\"3332a07c-05fe-405f-ab41-762dbec8283c\" class=\"plotly-graph-div\" style=\"height:525px; width:100%;\"></div>\n",
       "            <script type=\"text/javascript\">\n",
       "                require([\"plotly\"], function(Plotly) {\n",
       "                    window.PLOTLYENV=window.PLOTLYENV || {};\n",
       "                    \n",
       "                if (document.getElementById(\"3332a07c-05fe-405f-ab41-762dbec8283c\")) {\n",
       "                    Plotly.newPlot(\n",
       "                        '3332a07c-05fe-405f-ab41-762dbec8283c',\n",
       "                        [{\"connectgaps\": false, \"marker\": {\"color\": \"blue\"}, \"mode\": \"markers\", \"name\": \"Hartree-Fock Computed\", \"type\": \"scatter\", \"x\": [0.85, 0.95, 1.05, 1.1500000000000001, 1.2500000000000002, 1.3500000000000003, 1.4500000000000004, 1.5500000000000005, 1.6500000000000006, 1.7500000000000007, 1.8500000000000008, 1.9500000000000008, 2.0500000000000007, 2.150000000000001, 2.250000000000001, 2.350000000000001, 2.450000000000001, 2.550000000000001, 2.6500000000000012, 2.7500000000000013, 2.8500000000000014, 2.9500000000000015, 3.0500000000000016, 3.1500000000000017, 3.2500000000000018, 3.350000000000002, 3.450000000000002, 3.550000000000002, 3.650000000000002, 3.750000000000002, 3.8500000000000023, 3.9500000000000024, 4.0500000000000025, 4.150000000000002, 4.250000000000002, 4.350000000000001, 4.450000000000001, 4.550000000000001, 4.65, 4.75, 4.85, 4.949999999999999, 5.049999999999999, 5.149999999999999, 5.249999999999998, 5.349999999999998, 5.4499999999999975, 5.549999999999997, 5.649999999999997, 5.7499999999999964, 5.849999999999996, 5.949999999999996, 6.049999999999995, 6.149999999999995, 6.249999999999995, 6.349999999999994, 6.449999999999994, 6.549999999999994, 6.649999999999993, 6.749999999999993, 6.8499999999999925, 6.949999999999992, 7.049999999999992, 7.1499999999999915, 7.249999999999991, 7.349999999999991, 7.44999999999999, 7.54999999999999, 7.64999999999999, 7.749999999999989, 7.849999999999989, 7.949999999999989, 8.049999999999988, 8.149999999999988, 8.249999999999988, 8.349999999999987, 8.449999999999987, 8.549999999999986, 8.649999999999986, 8.749999999999986, 8.849999999999985, 8.949999999999985, 9.049999999999985, 9.149999999999984, 9.249999999999984, 9.349999999999984, 9.449999999999983, 9.549999999999983, 9.649999999999983, 9.749999999999982, 9.849999999999982, 9.949999999999982], \"y\": [-0.9872432454803035, -1.0453969655059847, -1.0821565708110161, -1.103796753017444, -1.1145784427493424, -1.1175011357098212, -1.1147199297328392, -1.1077934352702428, -1.0978475449672567, -1.0856948732828646, -1.0719260573400924, -1.0569788311272152, -1.0411878362347846, -1.024818237706964, -1.0080868562895131, -0.9911746561330028, -0.9742339153450772, -0.9573925338546116, -0.9407570242952678, -0.9244149977146469, -0.9084374692105319, -0.8928810455280846, -0.8777899519511231, -0.8631978417352622, -0.8491293564793958, -0.8356014389265934, -0.8226244256622813, -0.810202961371111, -0.798336779522113, -0.7870213895823506, -0.7762487015303117, -0.7660076075315303, -0.7562845303720597, -0.7470639400287579, -0.7383288342591737, -0.7300611763905993, -0.722242283221872, -0.7148531575123458, -0.7078747622124064, -0.7012882367095286, -0.695075058358834, -0.6892171550344235, -0.6836969761469257, -0.6784975304500585, -0.673602399055011, -0.6689957315208674, -0.6646622318713643, -0.6605871400927623, -0.6567562132691045, -0.6531557091529432, -0.649772373755926, -0.6465934335388133, -0.643606592013203, -0.6408000300372642, -0.6381624087741788, -0.6356828741509019, -0.63335106166636, -0.6311571005117215, -0.6290916161434486, -0.6271457306604598, -0.6253110605545057, -0.6235797116090818, -0.6219442709043848, -0.620397796036906, -0.618933801779371, -0.6175462444903363, -0.6162295046354332, -0.614978367807989, -0.6137880046402611, -0.6126539499825411, -0.611572081700585, -0.6105385994063086, -0.6095500033960606, -0.6086030740279442, -0.6076948517269727, -0.6068226177659738, -0.6059838759323805, -0.6051763351571067, -0.6043978931520136, -0.6036466210771917, -0.6029207492382912, -0.6022186537972432, -0.6015388444665157, -0.6008799531472326, -0.6002407234645102, -0.599620001148907, -0.599016725210432, -0.5984299198507748, -0.5978586870599323, -0.5973021998448994, -0.5967596960402942, -0.5962304726534765]}],\n",
       "                        {\"template\": {\"data\": {\"bar\": [{\"error_x\": {\"color\": \"#2a3f5f\"}, \"error_y\": {\"color\": \"#2a3f5f\"}, \"marker\": {\"line\": {\"color\": \"#E5ECF6\", \"width\": 0.5}}, \"type\": \"bar\"}], \"barpolar\": [{\"marker\": {\"line\": {\"color\": \"#E5ECF6\", \"width\": 0.5}}, \"type\": \"barpolar\"}], \"carpet\": [{\"aaxis\": {\"endlinecolor\": \"#2a3f5f\", \"gridcolor\": \"white\", \"linecolor\": \"white\", \"minorgridcolor\": \"white\", \"startlinecolor\": \"#2a3f5f\"}, \"baxis\": {\"endlinecolor\": \"#2a3f5f\", \"gridcolor\": \"white\", \"linecolor\": \"white\", \"minorgridcolor\": \"white\", \"startlinecolor\": \"#2a3f5f\"}, \"type\": \"carpet\"}], \"choropleth\": [{\"colorbar\": {\"outlinewidth\": 0, \"ticks\": \"\"}, \"type\": \"choropleth\"}], \"contour\": [{\"colorbar\": {\"outlinewidth\": 0, \"ticks\": \"\"}, \"colorscale\": [[0.0, \"#0d0887\"], [0.1111111111111111, \"#46039f\"], [0.2222222222222222, \"#7201a8\"], [0.3333333333333333, \"#9c179e\"], [0.4444444444444444, \"#bd3786\"], [0.5555555555555556, \"#d8576b\"], [0.6666666666666666, \"#ed7953\"], [0.7777777777777778, \"#fb9f3a\"], [0.8888888888888888, \"#fdca26\"], [1.0, \"#f0f921\"]], \"type\": \"contour\"}], \"contourcarpet\": [{\"colorbar\": {\"outlinewidth\": 0, \"ticks\": \"\"}, \"type\": \"contourcarpet\"}], \"heatmap\": [{\"colorbar\": {\"outlinewidth\": 0, \"ticks\": \"\"}, \"colorscale\": [[0.0, \"#0d0887\"], [0.1111111111111111, \"#46039f\"], [0.2222222222222222, \"#7201a8\"], [0.3333333333333333, \"#9c179e\"], [0.4444444444444444, \"#bd3786\"], [0.5555555555555556, \"#d8576b\"], [0.6666666666666666, \"#ed7953\"], [0.7777777777777778, \"#fb9f3a\"], [0.8888888888888888, \"#fdca26\"], [1.0, \"#f0f921\"]], \"type\": \"heatmap\"}], \"heatmapgl\": [{\"colorbar\": {\"outlinewidth\": 0, \"ticks\": \"\"}, \"colorscale\": [[0.0, \"#0d0887\"], [0.1111111111111111, \"#46039f\"], [0.2222222222222222, \"#7201a8\"], [0.3333333333333333, \"#9c179e\"], [0.4444444444444444, \"#bd3786\"], [0.5555555555555556, \"#d8576b\"], [0.6666666666666666, \"#ed7953\"], [0.7777777777777778, \"#fb9f3a\"], [0.8888888888888888, \"#fdca26\"], [1.0, \"#f0f921\"]], \"type\": \"heatmapgl\"}], \"histogram\": [{\"marker\": {\"colorbar\": {\"outlinewidth\": 0, \"ticks\": \"\"}}, \"type\": \"histogram\"}], \"histogram2d\": [{\"colorbar\": {\"outlinewidth\": 0, \"ticks\": \"\"}, \"colorscale\": [[0.0, \"#0d0887\"], [0.1111111111111111, \"#46039f\"], [0.2222222222222222, \"#7201a8\"], [0.3333333333333333, \"#9c179e\"], [0.4444444444444444, \"#bd3786\"], [0.5555555555555556, \"#d8576b\"], [0.6666666666666666, \"#ed7953\"], [0.7777777777777778, \"#fb9f3a\"], [0.8888888888888888, \"#fdca26\"], [1.0, \"#f0f921\"]], \"type\": \"histogram2d\"}], \"histogram2dcontour\": [{\"colorbar\": {\"outlinewidth\": 0, \"ticks\": \"\"}, \"colorscale\": [[0.0, \"#0d0887\"], [0.1111111111111111, \"#46039f\"], [0.2222222222222222, \"#7201a8\"], [0.3333333333333333, \"#9c179e\"], [0.4444444444444444, \"#bd3786\"], [0.5555555555555556, \"#d8576b\"], [0.6666666666666666, \"#ed7953\"], [0.7777777777777778, \"#fb9f3a\"], [0.8888888888888888, \"#fdca26\"], [1.0, \"#f0f921\"]], \"type\": \"histogram2dcontour\"}], \"mesh3d\": [{\"colorbar\": {\"outlinewidth\": 0, \"ticks\": \"\"}, \"type\": \"mesh3d\"}], \"parcoords\": [{\"line\": {\"colorbar\": {\"outlinewidth\": 0, \"ticks\": \"\"}}, \"type\": \"parcoords\"}], \"scatter\": [{\"marker\": {\"colorbar\": {\"outlinewidth\": 0, \"ticks\": \"\"}}, \"type\": \"scatter\"}], \"scatter3d\": [{\"line\": {\"colorbar\": {\"outlinewidth\": 0, \"ticks\": \"\"}}, \"marker\": {\"colorbar\": {\"outlinewidth\": 0, \"ticks\": \"\"}}, \"type\": \"scatter3d\"}], \"scattercarpet\": [{\"marker\": {\"colorbar\": {\"outlinewidth\": 0, \"ticks\": \"\"}}, \"type\": \"scattercarpet\"}], \"scattergeo\": [{\"marker\": {\"colorbar\": {\"outlinewidth\": 0, \"ticks\": \"\"}}, \"type\": \"scattergeo\"}], \"scattergl\": [{\"marker\": {\"colorbar\": {\"outlinewidth\": 0, \"ticks\": \"\"}}, \"type\": \"scattergl\"}], \"scattermapbox\": [{\"marker\": {\"colorbar\": {\"outlinewidth\": 0, \"ticks\": \"\"}}, \"type\": \"scattermapbox\"}], \"scatterpolar\": [{\"marker\": {\"colorbar\": {\"outlinewidth\": 0, \"ticks\": \"\"}}, \"type\": \"scatterpolar\"}], \"scatterpolargl\": [{\"marker\": {\"colorbar\": {\"outlinewidth\": 0, \"ticks\": \"\"}}, \"type\": \"scatterpolargl\"}], \"scatterternary\": [{\"marker\": {\"colorbar\": {\"outlinewidth\": 0, \"ticks\": \"\"}}, \"type\": \"scatterternary\"}], \"surface\": [{\"colorbar\": {\"outlinewidth\": 0, \"ticks\": \"\"}, \"colorscale\": [[0.0, \"#0d0887\"], [0.1111111111111111, \"#46039f\"], [0.2222222222222222, \"#7201a8\"], [0.3333333333333333, \"#9c179e\"], [0.4444444444444444, \"#bd3786\"], [0.5555555555555556, \"#d8576b\"], [0.6666666666666666, \"#ed7953\"], [0.7777777777777778, \"#fb9f3a\"], [0.8888888888888888, \"#fdca26\"], [1.0, \"#f0f921\"]], \"type\": \"surface\"}], \"table\": [{\"cells\": {\"fill\": {\"color\": \"#EBF0F8\"}, \"line\": {\"color\": \"white\"}}, \"header\": {\"fill\": {\"color\": \"#C8D4E3\"}, \"line\": {\"color\": \"white\"}}, \"type\": \"table\"}]}, \"layout\": {\"annotationdefaults\": {\"arrowcolor\": \"#2a3f5f\", \"arrowhead\": 0, \"arrowwidth\": 1}, \"colorscale\": {\"diverging\": [[0, \"#8e0152\"], [0.1, \"#c51b7d\"], [0.2, \"#de77ae\"], [0.3, \"#f1b6da\"], [0.4, \"#fde0ef\"], [0.5, \"#f7f7f7\"], [0.6, \"#e6f5d0\"], [0.7, \"#b8e186\"], [0.8, \"#7fbc41\"], [0.9, \"#4d9221\"], [1, \"#276419\"]], \"sequential\": [[0.0, \"#0d0887\"], [0.1111111111111111, \"#46039f\"], [0.2222222222222222, \"#7201a8\"], [0.3333333333333333, \"#9c179e\"], [0.4444444444444444, \"#bd3786\"], [0.5555555555555556, \"#d8576b\"], [0.6666666666666666, \"#ed7953\"], [0.7777777777777778, \"#fb9f3a\"], [0.8888888888888888, \"#fdca26\"], [1.0, \"#f0f921\"]], \"sequentialminus\": [[0.0, \"#0d0887\"], [0.1111111111111111, \"#46039f\"], [0.2222222222222222, \"#7201a8\"], [0.3333333333333333, \"#9c179e\"], [0.4444444444444444, \"#bd3786\"], [0.5555555555555556, \"#d8576b\"], [0.6666666666666666, \"#ed7953\"], [0.7777777777777778, \"#fb9f3a\"], [0.8888888888888888, \"#fdca26\"], [1.0, \"#f0f921\"]]}, \"colorway\": [\"#636efa\", \"#EF553B\", \"#00cc96\", \"#ab63fa\", \"#FFA15A\", \"#19d3f3\", \"#FF6692\", \"#B6E880\", \"#FF97FF\", \"#FECB52\"], \"font\": {\"color\": \"#2a3f5f\"}, \"geo\": {\"bgcolor\": \"white\", \"lakecolor\": \"white\", \"landcolor\": \"#E5ECF6\", \"showlakes\": true, \"showland\": true, \"subunitcolor\": \"white\"}, \"hoverlabel\": {\"align\": \"left\"}, \"hovermode\": \"closest\", \"mapbox\": {\"style\": \"light\"}, \"paper_bgcolor\": \"white\", \"plot_bgcolor\": \"#E5ECF6\", \"polar\": {\"angularaxis\": {\"gridcolor\": \"white\", \"linecolor\": \"white\", \"ticks\": \"\"}, \"bgcolor\": \"#E5ECF6\", \"radialaxis\": {\"gridcolor\": \"white\", \"linecolor\": \"white\", \"ticks\": \"\"}}, \"scene\": {\"xaxis\": {\"backgroundcolor\": \"#E5ECF6\", \"gridcolor\": \"white\", \"gridwidth\": 2, \"linecolor\": \"white\", \"showbackground\": true, \"ticks\": \"\", \"zerolinecolor\": \"white\"}, \"yaxis\": {\"backgroundcolor\": \"#E5ECF6\", \"gridcolor\": \"white\", \"gridwidth\": 2, \"linecolor\": \"white\", \"showbackground\": true, \"ticks\": \"\", \"zerolinecolor\": \"white\"}, \"zaxis\": {\"backgroundcolor\": \"#E5ECF6\", \"gridcolor\": \"white\", \"gridwidth\": 2, \"linecolor\": \"white\", \"showbackground\": true, \"ticks\": \"\", \"zerolinecolor\": \"white\"}}, \"shapedefaults\": {\"line\": {\"color\": \"#2a3f5f\"}}, \"ternary\": {\"aaxis\": {\"gridcolor\": \"white\", \"linecolor\": \"white\", \"ticks\": \"\"}, \"baxis\": {\"gridcolor\": \"white\", \"linecolor\": \"white\", \"ticks\": \"\"}, \"bgcolor\": \"#E5ECF6\", \"caxis\": {\"gridcolor\": \"white\", \"linecolor\": \"white\", \"ticks\": \"\"}}, \"title\": {\"x\": 0.05}, \"xaxis\": {\"automargin\": true, \"gridcolor\": \"white\", \"linecolor\": \"white\", \"ticks\": \"\", \"zerolinecolor\": \"white\", \"zerolinewidth\": 2}, \"yaxis\": {\"automargin\": true, \"gridcolor\": \"white\", \"linecolor\": \"white\", \"ticks\": \"\", \"zerolinecolor\": \"white\", \"zerolinewidth\": 2}}}},\n",
       "                        {\"responsive\": true}\n",
       "                    ).then(function(){\n",
       "                            \n",
       "var gd = document.getElementById('3332a07c-05fe-405f-ab41-762dbec8283c');\n",
       "var x = new MutationObserver(function (mutations, observer) {{\n",
       "        var display = window.getComputedStyle(gd).display;\n",
       "        if (!display || display === 'none') {{\n",
       "            console.log([gd, 'removed!']);\n",
       "            Plotly.purge(gd);\n",
       "            observer.disconnect();\n",
       "        }}\n",
       "}});\n",
       "\n",
       "// Listen for the removal of the full notebook cells\n",
       "var notebookContainer = gd.closest('#notebook-container');\n",
       "if (notebookContainer) {{\n",
       "    x.observe(notebookContainer, {childList: true});\n",
       "}}\n",
       "\n",
       "// Listen for the clearing of the current output cell\n",
       "var outputEl = gd.closest('.output');\n",
       "if (outputEl) {{\n",
       "    x.observe(outputEl, {childList: true});\n",
       "}}\n",
       "\n",
       "                        })\n",
       "                };\n",
       "                });\n",
       "            </script>\n",
       "        </div>"
      ]
     },
     "metadata": {},
     "output_type": "display_data"
    }
   ],
   "source": [
    "HartreeFock = importNotebook(\"Hartree_Class\")\n",
    "\n",
    "#set up the automated calculations used to generate the surface potential\n",
    "\n",
    "#User Specified Variables\n",
    "\n",
    "#Enter the atomic number for atoms 1 and 2\n",
    "atom1 = 1\n",
    "atom2 = 1\n",
    "\n",
    "#Enter the number of electrons for atom 1 and 2\n",
    "#Note the total number of electrons must be a multiple of 2, \n",
    "#otherwise, the computation will round the total number of electrons \n",
    "#down to the nearest multiple of 2\n",
    "atomN1 = 1\n",
    "atomN2 = 1\n",
    "\n",
    "#Select a basis, for a list of available basis sets, please see the \"basisSets\" folder\n",
    "basisName = \"STO-3G\"\n",
    "\n",
    "#Enter Starting and End Bond distance for the diatomic molecule\n",
    "#Units for Bond Distance in This Program are Bohr Units\n",
    "startR = .85\n",
    "endR = 10\n",
    "\n",
    "#Please enter the distance the bond distance should increase each iteration\n",
    "#The smaller the number, the more accurate and time-consuming the computation will be\n",
    "step = 0.1\n",
    "\n",
    "#Please enter how small the difference in energy between two ground state energy calculations\n",
    "#must be in order to convergence to occur\n",
    "convergenceCritera = pow(10, -10)\n",
    "\n",
    "#Please enter the maximum number of iterations the SCF procedure can take before\n",
    "#the computation will fail as being unable to converge\n",
    "maxIterations = 100\n",
    "\n",
    "#System Defined Variables\n",
    "E = []\n",
    "R = []\n",
    "basisSets = []\n",
    "Xs = []\n",
    "MOEnergy = []\n",
    "delta = (endR - startR) / step\n",
    "currentR = startR\n",
    "\n",
    "#Main While Loop to repeatedly call the Hartree-Fock routine to generate the potential energy surface\n",
    "while(not(currentR >= endR)):\n",
    "    \n",
    "    #define the molecular system\n",
    "    system = molecule()\n",
    "    system.addAtom(atom(vector(1,1,2+currentR), atom1, atomN1))\n",
    "    system.addAtom(atom(vector(1,1,2), atom2, atomN2))\n",
    "\n",
    "    system.addBasis(basisName)\n",
    "    \n",
    "    #Set up the Hartree Procedure\n",
    "    HF = HartreeFock.HF(system, convergenceCritera, maxIterations)\n",
    "\n",
    "    #Store Bond distance, associated Energy, and MO Energies\n",
    "    R.append(currentR) \n",
    "    E.append(HF.SCF() )\n",
    "    MOEnergy.append(HF.MOEnergy)\n",
    "    \n",
    "    print(\"Hartree-Fock Computation: \" + str(currentR * 100 // endR) + \"%\")\n",
    "    \n",
    "    #update the current intenuclear distance\n",
    "    currentR += step\n",
    "    \n",
    "print(\"Hartree-Fock Computation Complete\")\n",
    "\n",
    "figure = { \n",
    "    \"data\": [\n",
    "        #create the Hartree-Fock generated Potential Energy Surface\n",
    "        {\n",
    "            \"type\":\"scatter\",\n",
    "            \"x\":R,\n",
    "            \"y\":E,\n",
    "            \"connectgaps\":False,\n",
    "            \"mode\":\"markers\", \n",
    "            \"name\":\"Hartree-Fock Computed\",\n",
    "            \"marker\":{\"color\":\"blue\"}\n",
    "        }\n",
    "    ]   \n",
    "}\n",
    "\n",
    "iplot(figure)"
   ]
  },
  {
   "cell_type": "code",
   "execution_count": 3,
   "metadata": {
    "scrolled": false
   },
   "outputs": [
    {
     "data": {
      "application/vnd.plotly.v1+json": {
       "config": {
        "linkText": "Export to plot.ly",
        "plotlyServerURL": "https://plot.ly",
        "showLink": false
       },
       "data": [
        {
         "connectgaps": false,
         "marker": {
          "color": "blue"
         },
         "mode": "markers",
         "name": "Hartree-Fock Computed",
         "type": "scatter",
         "x": [
          -1,
          -0.99,
          -0.98,
          -0.97,
          -0.96,
          -0.9500000000000001,
          -0.9400000000000001,
          -0.93,
          -0.92,
          -0.91,
          -0.9,
          -0.89,
          -0.88,
          -0.87,
          -0.86,
          -0.85,
          -0.84,
          -0.8300000000000001,
          -0.8200000000000001,
          -0.81,
          -0.8,
          -0.79,
          -0.78,
          -0.77,
          -0.76,
          -0.75,
          -0.74,
          -0.73,
          -0.72,
          -0.71,
          -0.7000000000000001,
          -0.6900000000000001,
          -0.68,
          -0.67,
          -0.66,
          -0.65,
          -0.64,
          -0.63,
          -0.62,
          -0.61,
          -0.6,
          -0.59,
          -0.58,
          -0.5700000000000001,
          -0.56,
          -0.55,
          -0.54,
          -0.53,
          -0.52,
          -0.51,
          -0.5,
          -0.49,
          -0.48,
          -0.47000000000000003,
          -0.46,
          -0.45,
          -0.44,
          -0.43,
          -0.42,
          -0.41000000000000003,
          -0.4,
          -0.39,
          -0.38,
          -0.37,
          -0.36,
          -0.35000000000000003,
          -0.34,
          -0.33,
          -0.32,
          -0.31,
          -0.3,
          -0.29,
          -0.28,
          -0.27,
          -0.26,
          -0.25,
          -0.24,
          -0.23,
          -0.22,
          -0.21,
          -0.2,
          -0.19,
          -0.18,
          -0.17,
          -0.16,
          -0.15,
          -0.14,
          -0.13,
          -0.12,
          -0.11,
          -0.1,
          -0.09,
          -0.08,
          -0.07,
          -0.06,
          -0.05,
          -0.04,
          -0.03,
          -0.02,
          -0.01,
          0,
          0.01,
          0.02,
          0.03,
          0.04,
          0.05,
          0.06,
          0.07,
          0.08,
          0.09,
          0.1,
          0.11,
          0.12,
          0.13,
          0.14,
          0.15,
          0.16,
          0.17,
          0.18,
          0.19,
          0.2,
          0.21,
          0.22,
          0.23,
          0.24,
          0.25,
          0.26,
          0.27,
          0.28,
          0.29,
          0.3,
          0.31,
          0.32,
          0.33,
          0.34,
          0.35000000000000003,
          0.36,
          0.37,
          0.38,
          0.39,
          0.4,
          0.41000000000000003,
          0.42,
          0.43,
          0.44,
          0.45,
          0.46,
          0.47000000000000003,
          0.48,
          0.49,
          0.5,
          0.51,
          0.52,
          0.53,
          0.54,
          0.55,
          0.56,
          0.5700000000000001,
          0.58,
          0.59,
          0.6,
          0.61,
          0.62,
          0.63,
          0.64,
          0.65,
          0.66,
          0.67,
          0.68,
          0.6900000000000001,
          0.7000000000000001,
          0.71,
          0.72,
          0.73,
          0.74,
          0.75,
          0.76,
          0.77,
          0.78,
          0.79,
          0.8,
          0.81,
          0.8200000000000001,
          0.8300000000000001,
          0.84,
          0.85,
          0.86,
          0.87,
          0.88,
          0.89,
          0.9,
          0.91,
          0.92,
          0.93,
          0.9400000000000001,
          0.9500000000000001,
          0.96,
          0.97,
          0.98,
          0.99,
          1,
          1.01,
          1.02,
          1.03,
          1.04,
          1.05,
          1.06,
          1.07,
          1.08,
          1.09,
          1.1,
          1.11,
          1.12,
          1.1300000000000001,
          1.1400000000000001,
          1.1500000000000001,
          1.16,
          1.17,
          1.18,
          1.19,
          1.2,
          1.21,
          1.22,
          1.23,
          1.24,
          1.25,
          1.26,
          1.27,
          1.28,
          1.29,
          1.3,
          1.31,
          1.32,
          1.33,
          1.34,
          1.35,
          1.36,
          1.37,
          1.3800000000000001,
          1.3900000000000001,
          1.4000000000000001,
          1.41,
          1.42,
          1.43,
          1.44,
          1.45,
          1.46,
          1.47,
          1.48,
          1.49,
          1.5,
          1.51,
          1.52,
          1.53,
          1.54,
          1.55,
          1.56,
          1.57,
          1.58,
          1.59,
          1.6,
          1.61,
          1.62,
          1.6300000000000001,
          1.6400000000000001,
          1.6500000000000001,
          1.6600000000000001,
          1.67,
          1.68,
          1.69,
          1.7,
          1.71,
          1.72,
          1.73,
          1.74,
          1.75,
          1.76,
          1.77,
          1.78,
          1.79,
          1.8,
          1.81,
          1.82,
          1.83,
          1.84,
          1.85,
          1.86,
          1.87,
          1.8800000000000001,
          1.8900000000000001,
          1.9000000000000001,
          1.9100000000000001,
          1.92,
          1.93,
          1.94,
          1.95,
          1.96,
          1.97,
          1.98,
          1.99,
          2,
          2.0100000000000002,
          2.02,
          2.0300000000000002,
          2.04,
          2.05,
          2.06,
          2.07,
          2.08,
          2.09,
          2.1,
          2.11,
          2.12,
          2.13,
          2.14,
          2.15,
          2.16,
          2.17,
          2.18,
          2.19,
          2.2,
          2.21,
          2.22,
          2.23,
          2.24,
          2.25,
          2.2600000000000002,
          2.27,
          2.2800000000000002,
          2.29,
          2.3000000000000003,
          2.31,
          2.32,
          2.33,
          2.34,
          2.35,
          2.36,
          2.37,
          2.38,
          2.39,
          2.4,
          2.41,
          2.42,
          2.43,
          2.44,
          2.45,
          2.46,
          2.47,
          2.48,
          2.49,
          2.5,
          2.5100000000000002,
          2.52,
          2.5300000000000002,
          2.54,
          2.5500000000000003,
          2.56,
          2.57,
          2.58,
          2.59,
          2.6,
          2.61,
          2.62,
          2.63,
          2.64,
          2.65,
          2.66,
          2.67,
          2.68,
          2.69,
          2.7,
          2.71,
          2.72,
          2.73,
          2.74,
          2.75,
          2.7600000000000002,
          2.77,
          2.7800000000000002,
          2.79,
          2.8000000000000003,
          2.81,
          2.82,
          2.83,
          2.84,
          2.85,
          2.86,
          2.87,
          2.88,
          2.89,
          2.9,
          2.91,
          2.92,
          2.93,
          2.94,
          2.95,
          2.96,
          2.97,
          2.98,
          2.99,
          3,
          3.0100000000000002,
          3.02,
          3.0300000000000002,
          3.04,
          3.0500000000000003,
          3.06,
          3.0700000000000003,
          3.08,
          3.09,
          3.1,
          3.11,
          3.12,
          3.13,
          3.14,
          3.15,
          3.16,
          3.17,
          3.18,
          3.19,
          3.2,
          3.21,
          3.22,
          3.23,
          3.24,
          3.25,
          3.2600000000000002,
          3.27,
          3.2800000000000002,
          3.29,
          3.3000000000000003,
          3.31,
          3.3200000000000003,
          3.33,
          3.34,
          3.35,
          3.36,
          3.37,
          3.38,
          3.39,
          3.4,
          3.41,
          3.42,
          3.43,
          3.44,
          3.45,
          3.46,
          3.47,
          3.48,
          3.49,
          3.5,
          3.5100000000000002,
          3.52,
          3.5300000000000002,
          3.54,
          3.5500000000000003,
          3.56,
          3.5700000000000003,
          3.58,
          3.59,
          3.6,
          3.61,
          3.62,
          3.63,
          3.64,
          3.65,
          3.66,
          3.67,
          3.68,
          3.69,
          3.7,
          3.71,
          3.72,
          3.73,
          3.74,
          3.75,
          3.7600000000000002,
          3.77,
          3.7800000000000002,
          3.79,
          3.8000000000000003,
          3.81,
          3.8200000000000003,
          3.83,
          3.84,
          3.85,
          3.86,
          3.87,
          3.88,
          3.89,
          3.9,
          3.91,
          3.92,
          3.93,
          3.94,
          3.95,
          3.96,
          3.97,
          3.98,
          3.99,
          4,
          4.01,
          4.0200000000000005,
          4.03,
          4.04,
          4.05,
          4.0600000000000005,
          4.07,
          4.08,
          4.09,
          4.1,
          4.11,
          4.12,
          4.13,
          4.14,
          4.15,
          4.16,
          4.17,
          4.18,
          4.19,
          4.2,
          4.21,
          4.22,
          4.23,
          4.24,
          4.25,
          4.26,
          4.2700000000000005,
          4.28,
          4.29,
          4.3,
          4.3100000000000005,
          4.32,
          4.33,
          4.34,
          4.3500000000000005,
          4.36,
          4.37,
          4.38,
          4.39,
          4.4,
          4.41,
          4.42,
          4.43,
          4.44,
          4.45,
          4.46,
          4.47,
          4.48,
          4.49,
          4.5,
          4.51,
          4.5200000000000005,
          4.53,
          4.54,
          4.55,
          4.5600000000000005,
          4.57,
          4.58,
          4.59,
          4.6000000000000005,
          4.61,
          4.62,
          4.63,
          4.64,
          4.65,
          4.66,
          4.67,
          4.68,
          4.69,
          4.7,
          4.71,
          4.72,
          4.73,
          4.74,
          4.75,
          4.76,
          4.7700000000000005,
          4.78,
          4.79,
          4.8,
          4.8100000000000005,
          4.82,
          4.83,
          4.84,
          4.8500000000000005,
          4.86,
          4.87,
          4.88,
          4.89,
          4.9,
          4.91,
          4.92,
          4.93,
          4.94,
          4.95,
          4.96,
          4.97,
          4.98,
          4.99,
          5,
          5.01,
          5.0200000000000005,
          5.03,
          5.04,
          5.05,
          5.0600000000000005,
          5.07,
          5.08,
          5.09,
          5.1000000000000005,
          5.11,
          5.12,
          5.13,
          5.14,
          5.15,
          5.16,
          5.17,
          5.18,
          5.19,
          5.2,
          5.21,
          5.22,
          5.23,
          5.24,
          5.25,
          5.26,
          5.2700000000000005,
          5.28,
          5.29,
          5.3,
          5.3100000000000005,
          5.32,
          5.33,
          5.34,
          5.3500000000000005,
          5.36,
          5.37,
          5.38,
          5.39,
          5.4,
          5.41,
          5.42,
          5.43,
          5.44,
          5.45,
          5.46,
          5.47,
          5.48,
          5.49,
          5.5,
          5.51,
          5.5200000000000005,
          5.53,
          5.54,
          5.55,
          5.5600000000000005,
          5.57,
          5.58,
          5.59,
          5.6000000000000005,
          5.61,
          5.62,
          5.63,
          5.64,
          5.65,
          5.66,
          5.67,
          5.68,
          5.69,
          5.7,
          5.71,
          5.72,
          5.73,
          5.74,
          5.75,
          5.76,
          5.7700000000000005,
          5.78,
          5.79,
          5.8,
          5.8100000000000005,
          5.82,
          5.83,
          5.84,
          5.8500000000000005,
          5.86,
          5.87,
          5.88,
          5.89,
          5.9,
          5.91,
          5.92,
          5.93,
          5.94,
          5.95,
          5.96,
          5.97,
          5.98,
          5.99,
          6,
          6.01,
          6.0200000000000005,
          6.03,
          6.04,
          6.05,
          6.0600000000000005,
          6.07,
          6.08,
          6.09,
          6.1000000000000005,
          6.11,
          6.12,
          6.13,
          6.140000000000001,
          6.15,
          6.16,
          6.17,
          6.18,
          6.19,
          6.2,
          6.21,
          6.22,
          6.23,
          6.24,
          6.25,
          6.26,
          6.2700000000000005,
          6.28,
          6.29,
          6.3,
          6.3100000000000005,
          6.32,
          6.33,
          6.34,
          6.3500000000000005,
          6.36,
          6.37,
          6.38,
          6.390000000000001,
          6.4,
          6.41,
          6.42,
          6.43,
          6.44,
          6.45,
          6.46,
          6.47,
          6.48,
          6.49,
          6.5,
          6.51,
          6.5200000000000005,
          6.53,
          6.54,
          6.55,
          6.5600000000000005,
          6.57,
          6.58,
          6.59,
          6.6000000000000005,
          6.61,
          6.62,
          6.63,
          6.640000000000001,
          6.65,
          6.66,
          6.67,
          6.68,
          6.69,
          6.7,
          6.71,
          6.72,
          6.73,
          6.74,
          6.75,
          6.76,
          6.7700000000000005,
          6.78,
          6.79,
          6.8,
          6.8100000000000005,
          6.82,
          6.83,
          6.84,
          6.8500000000000005,
          6.86,
          6.87,
          6.88,
          6.890000000000001,
          6.9,
          6.91,
          6.92,
          6.93,
          6.94,
          6.95,
          6.96,
          6.97,
          6.98,
          6.99,
          7,
          7.01,
          7.0200000000000005,
          7.03,
          7.04,
          7.05,
          7.0600000000000005,
          7.07,
          7.08,
          7.09,
          7.1000000000000005,
          7.11,
          7.12,
          7.13,
          7.140000000000001,
          7.15,
          7.16,
          7.17,
          7.18,
          7.19,
          7.2,
          7.21,
          7.22,
          7.23,
          7.24,
          7.25,
          7.26,
          7.2700000000000005,
          7.28,
          7.29,
          7.3,
          7.3100000000000005,
          7.32,
          7.33,
          7.34,
          7.3500000000000005,
          7.36,
          7.37,
          7.38,
          7.390000000000001,
          7.4,
          7.41,
          7.42,
          7.43,
          7.44,
          7.45,
          7.46,
          7.47,
          7.48,
          7.49,
          7.5,
          7.51,
          7.5200000000000005,
          7.53,
          7.54,
          7.55,
          7.5600000000000005,
          7.57,
          7.58,
          7.59,
          7.6000000000000005,
          7.61,
          7.62,
          7.63,
          7.640000000000001,
          7.65,
          7.66,
          7.67,
          7.68,
          7.69,
          7.7,
          7.71,
          7.72,
          7.73,
          7.74,
          7.75,
          7.76,
          7.7700000000000005,
          7.78,
          7.79,
          7.8,
          7.8100000000000005,
          7.82,
          7.83,
          7.84,
          7.8500000000000005,
          7.86,
          7.87,
          7.88,
          7.890000000000001,
          7.9,
          7.91,
          7.92,
          7.930000000000001,
          7.94,
          7.95,
          7.96,
          7.97,
          7.98,
          7.99,
          8,
          8.01,
          8.02,
          8.03,
          8.040000000000001,
          8.05,
          8.06,
          8.07,
          8.08,
          8.09,
          8.1,
          8.11,
          8.120000000000001,
          8.13,
          8.14,
          8.15,
          8.16,
          8.17,
          8.18,
          8.19,
          8.2,
          8.21,
          8.22,
          8.23,
          8.24,
          8.25,
          8.26,
          8.27,
          8.28,
          8.290000000000001,
          8.3,
          8.31,
          8.32,
          8.33,
          8.34,
          8.35,
          8.36,
          8.370000000000001,
          8.38,
          8.39,
          8.4,
          8.41,
          8.42,
          8.43,
          8.44,
          8.45,
          8.46,
          8.47,
          8.48,
          8.49,
          8.5,
          8.51,
          8.52,
          8.53,
          8.540000000000001,
          8.55,
          8.56,
          8.57,
          8.58,
          8.59,
          8.6,
          8.61,
          8.620000000000001,
          8.63,
          8.64,
          8.65,
          8.66,
          8.67,
          8.68,
          8.69,
          8.700000000000001,
          8.71,
          8.72,
          8.73,
          8.74,
          8.75,
          8.76,
          8.77,
          8.78,
          8.790000000000001,
          8.8,
          8.81,
          8.82,
          8.83,
          8.84,
          8.85,
          8.86,
          8.870000000000001,
          8.88,
          8.89,
          8.9,
          8.91,
          8.92,
          8.93,
          8.94,
          8.950000000000001,
          8.96,
          8.97,
          8.98,
          8.99,
          9,
          9.01,
          9.02,
          9.03,
          9.040000000000001,
          9.05,
          9.06,
          9.07,
          9.08,
          9.09,
          9.1,
          9.11,
          9.120000000000001,
          9.13,
          9.14,
          9.15,
          9.16,
          9.17,
          9.18,
          9.19,
          9.200000000000001,
          9.21,
          9.22,
          9.23,
          9.24,
          9.25,
          9.26,
          9.27,
          9.28,
          9.290000000000001,
          9.3,
          9.31,
          9.32,
          9.33,
          9.34,
          9.35,
          9.36,
          9.370000000000001,
          9.38,
          9.39,
          9.4,
          9.41,
          9.42,
          9.43,
          9.44,
          9.450000000000001,
          9.46,
          9.47,
          9.48,
          9.49,
          9.5,
          9.51,
          9.52,
          9.53,
          9.540000000000001,
          9.55,
          9.56,
          9.57,
          9.58,
          9.59,
          9.6,
          9.61,
          9.620000000000001,
          9.63,
          9.64,
          9.65,
          9.66,
          9.67,
          9.68,
          9.69,
          9.700000000000001,
          9.71,
          9.72,
          9.73,
          9.74,
          9.75,
          9.76,
          9.77,
          9.78,
          9.790000000000001,
          9.8,
          9.81,
          9.82,
          9.83,
          9.84,
          9.85,
          9.86,
          9.870000000000001,
          9.88,
          9.89,
          9.9,
          9.91,
          9.92,
          9.93,
          9.94,
          9.950000000000001,
          9.96,
          9.97,
          9.98,
          9.99
         ],
         "y": [
          7.373975797425469,
          7.232103893511892,
          7.092372296572659,
          6.954750673387744,
          6.819209108891675,
          6.685718100484085,
          6.554248552417228,
          6.424771770259355,
          6.297259455432988,
          6.17168369982698,
          6.04801698048149,
          5.926232154344776,
          5.806302453100946,
          5.688201478067594,
          5.571903195162532,
          5.457381929938473,
          5.344612362684995,
          5.233569523596664,
          5.124228788006583,
          5.016565871684357,
          4.910556826197716,
          4.806178034336881,
          4.703406205600816,
          4.6022183717445415,
          4.502591882386739,
          4.404504400676764,
          4.307933899020279,
          4.212858654862748,
          4.119257246529992,
          4.027108549125055,
          3.936391730480549,
          3.8470862471658545,
          3.759171840548315,
          3.6726285329077775,
          3.5874366236037294,
          3.503576685294312,
          3.4210295602065375,
          3.339776356457001,
          3.259798444422399,
          3.1810774531592307,
          3.1035952668719307,
          3.0273340214288846,
          2.952276100925579,
          2.878404134294356,
          2.805700991960021,
          2.7341497825408227,
          2.6637338495940606,
          2.5944367684058256,
          2.5262423428242,
          2.4591346021353897,
          2.3930977979821573,
          2.328116401324035,
          2.2641750994387144,
          2.201258792964075,
          2.139352592980306,
          2.078441818131567,
          2.018511991786678,
          1.9595488392382685,
          1.901538284939933,
          1.844466449780803,
          1.7883196483970956,
          1.7330843865201055,
          1.6787473583601482,
          1.625295444025987,
          1.5727157069792628,
          1.5209953915234156,
          1.4701219203267049,
          1.4200828919787947,
          1.3708660785804927,
          1.3224594233661953,
          1.274851038358571,
          1.2280292020550734,
          1.1819823571458428,
          1.1366991082625728,
          1.0921682197579239,
          1.0483786135150748,
          1.0053193667870008,
          0.9629797100650772,
          0.9213490249766245,
          0.8804168422109753,
          0.8401728394737151,
          0.80060683946869,
          0.761708807907407,
          0.7234688515454804,
          0.6858772162457296,
          0.6489242850675851,
          0.6126005763824451,
          0.5768967420146311,
          0.5418035654075917,
          0.5073119598150313,
          0.4734129665165878,
          0.4400977530577892,
          0.40735761151389505,
          0.3751839567773452,
          0.3435683248684831,
          0.3125023712692312,
          0.2819778692794206,
          0.2519867083954652,
          0.22252089271107156,
          0.1935725393396972,
          0.1651338768584525,
          0.13719724377317322,
          0.10975508700435088,
          0.08279996039367021,
          0.05632452323084691,
          0.030321538800514025,
          0.0047838729488707266,
          -0.020295507330168716,
          -0.04492353528958826,
          -0.06910704580490323,
          -0.09285277673107917,
          -0.1161673702409789,
          -0.13905737414559416,
          -0.16152924319630835,
          -0.18358934036942365,
          -0.20524393813321007,
          -0.22649921969769404,
          -0.24736128024743353,
          -0.2678361281575038,
          -0.2879296861929198,
          -0.30764779269172393,
          -0.32699620273195595,
          -0.34598058928272624,
          -0.3646065443396028,
          -0.3828795800445308,
          -0.40080512979048877,
          -0.41838854931108926,
          -0.43563511775532815,
          -0.45255003874768474,
          -0.4691384414337665,
          -0.4854053815117009,
          -0.5013558422494616,
          -0.5169947354883199,
          -0.5323269026326127,
          -0.5473571156260084,
          -0.5620900779144576,
          -0.5765304253960025,
          -0.590682727357631,
          -0.6045514873993426,
          -0.6181411443456064,
          -0.6314560731443777,
          -0.6445005857538414,
          -0.6572789320170538,
          -0.6697953005246371,
          -0.682053819465698,
          -0.694058557467124,
          -0.7058135244214176,
          -0.7173226723032226,
          -0.7285898959746937,
          -0.7396190339798665,
          -0.7504138693281683,
          -0.7609781302672259,
          -0.7713154910451081,
          -0.7814295726621497,
          -0.791323943612498,
          -0.8010021206155202,
          -0.8104675693372088,
          -0.8197237051017221,
          -0.8287738935931925,
          -0.8376214515479339,
          -0.8462696474371785,
          -0.8547217021404747,
          -0.8629807896098662,
          -0.8710500375249838,
          -0.8789325279391684,
          -0.8866312979167512,
          -0.8941493401616047,
          -0.901489603637091,
          -0.9086549941775159,
          -0.9156483750912112,
          -0.9224725677553527,
          -0.9291303522026305,
          -0.9356244676998801,
          -0.9419576133187819,
          -0.9481324484987415,
          -0.954151593602051,
          -0.9600176304614403,
          -0.9657331029201199,
          -0.9713005173644178,
          -0.9767223432491096,
          -0.9820010136155428,
          -0.9871389256026532,
          -0.9921384409509661,
          -0.9970018864996848,
          -1.0017315546769512,
          -1.0063297039833796,
          -1.010798559468949,
          -1.0151403132033487,
          -1.019357124739861,
          -1.0234511215728737,
          -1.0274243995891066,
          -1.0312790235126372,
          -1.03501702734381,
          -1.0386404147921136,
          -1.0421511597031063,
          -1.0455512064794712,
          -1.0488424704962815,
          -1.0520268385105533,
          -1.0551061690651655,
          -1.0580822928872207,
          -1.060957013280925,
          -1.0637321065150602,
          -1.0664093222051227,
          -1.0689903836901993,
          -1.0714769884046542,
          -1.0738708082446977,
          -1.0761734899299034,
          -1.078386655359745,
          -1.080511901965221,
          -1.0825508030556312,
          -1.084504908160574,
          -1.086375743367228,
          -1.0881648116529818,
          -1.089873593213477,
          -1.0915035457861246,
          -1.0930561049691574,
          -1.0945326845362806,
          -1.0959346767469778,
          -1.0972634526525331,
          -1.0985203623978286,
          -1.0997067355189718,
          -1.1008238812368136,
          -1.101873088746409,
          -1.1028556275024792,
          -1.103772747500926,
          -1.1046256795564573,
          -1.1054156355763696,
          -1.106143808830548,
          -1.1068113742177283,
          -1.1074194885280757,
          -1.1079692907021303,
          -1.1084619020861683,
          -1.1088984266840256,
          -1.109279951405437,
          -1.1096075463109338,
          -1.1098822648533488,
          -1.1101051441159757,
          -1.1102772050474263,
          -1.1103994526932324,
          -1.1104728764242364,
          -1.1104984501618143,
          -1.1104771325999734,
          -1.1104098674243696,
          -1.1102975835282831,
          -1.1101411952255988,
          -1.1099416024608257,
          -1.1096996910162022,
          -1.1094163327159239,
          -1.1090923856275319,
          -1.1087286942605037,
          -1.1083260897620835,
          -1.1078853901103878,
          -1.1074074003048264,
          -1.1068929125538747,
          -1.1063427064602303,
          -1.1057575492033955,
          -1.1051381957197173,
          -1.1044853888799169,
          -1.1037998596641507,
          -1.103082327334629,
          -1.1023334996058303,
          -1.1015540728123414,
          -1.1007447320743589,
          -1.09990615146088,
          -1.09903899415062,
          -1.0981439125906778,
          -1.0972215486529944,
          -1.0962725337886203,
          -1.095297489179831,
          -1.0942970258901175,
          -1.093271745012079,
          -1.0922222378132502,
          -1.0911490858798878,
          -1.0900528612587461,
          -1.0889341265968704,
          -1.087793435279432,
          -1.086631331565635,
          -1.0854483507227184,
          -1.0842450191580835,
          -1.0830218545495676,
          -1.0817793659738923,
          -1.0805180540333126,
          -1.079238410980487,
          -1.077940920841597,
          -1.076626059537741,
          -1.0752942950046191,
          -1.0739460873105418,
          -1.0725818887727794,
          -1.071202144072275,
          -1.069807290366748,
          -1.0683977574022043,
          -1.066973967622881,
          -1.065536336279641,
          -1.0640852715368447,
          -1.0626211745777154,
          -1.061144439708221,
          -1.0596554544594927,
          -1.058154599688799,
          -1.0566422496790973,
          -1.0551187722371806,
          -1.0535845287904397,
          -1.0520398744822599,
          -1.05048515826607,
          -1.048920722998064,
          -1.0473469055286118,
          -1.0457640367923788,
          -1.0441724418971692,
          -1.042572440211516,
          -1.0409643454510273,
          -1.0393484657635146,
          -1.0377251038129114,
          -1.036094556862007,
          -1.0344571168540042,
          -1.0328130704929233,
          -1.0311626993228633,
          -1.0295062798061414,
          -1.0278440834003204,
          -1.0261763766341443,
          -1.0245034211823931,
          -1.0228254739396774,
          -1.021142787093178,
          -1.0194556081943573,
          -1.0177641802296449,
          -1.0160687416901206,
          -1.0143695266402024,
          -1.0126667647853576,
          -1.0109606815388472,
          -1.0092514980875202,
          -1.007539431456667,
          -1.0058246945739495,
          -1.0041074963324166,
          -1.0023880416526194,
          -1.0006665315438399,
          -0.9989431631644429,
          -0.9972181298813654,
          -0.9954916213287536,
          -0.9937638234657606,
          -0.9920349186335171,
          -0.9903050856112836,
          -0.9885744996717986,
          -0.9868433326358328,
          -0.9851117529259598,
          -0.9833799256195541,
          -0.981648012501029,
          -0.9799161721133222,
          -0.9781845598086409,
          -0.9764533277984786,
          -0.9747226252029083,
          -0.9729925980991692,
          -0.9712633895695505,
          -0.9695351397485865,
          -0.9678079858695694,
          -0.9660820623103912,
          -0.9643575006387238,
          -0.9626344296565457,
          -0.9609129754440249,
          -0.9591932614027668,
          -0.9574754082984372,
          -0.9557595343027658,
          -0.954045755034943,
          -0.9523341836024154,
          -0.9506249306410894,
          -0.9489181043549519,
          -0.9472138105551143,
          -0.94551215269829,
          -0.9438132319247122,
          -0.942117147095499,
          -0.9404239948294759,
          -0.9387338695394601,
          -0.937046863468018,
          -0.9353630667226982,
          -0.9336825673107534,
          -0.9320054511733522,
          -0.9303318022192932,
          -0.9286617023582243,
          -0.9269952315333773,
          -0.9253324677538213,
          -0.9236734871262455,
          -0.9220183638862752,
          -0.9203671704293268,
          -0.9187199773410121,
          -0.9170768534270943,
          -0.9154378657430041,
          -0.9138030796229212,
          -0.9121725587084282,
          -0.910546364976741,
          -0.9089245587685246,
          -0.907307198815297,
          -0.9056943422664295,
          -0.9040860447157468,
          -0.9024823602277356,
          -0.9008833413633628,
          -0.8992890392055137,
          -0.8976995033840512,
          -0.8961147821005055,
          -0.8945349221523942,
          -0.8929599689571842,
          -0.8913899665758953,
          -0.8898249577363538,
          -0.8882649838560983,
          -0.8867100850649458,
          -0.8851603002272199,
          -0.8836156669636482,
          -0.8820762216729316,
          -0.8805419995529915,
          -0.8790130346218991,
          -0.8774893597384907,
          -0.8759710066226747,
          -0.8744580058754331,
          -0.8729503869985235,
          -0.8714481784138833,
          -0.8699514074827448,
          -0.8684601005244587,
          -0.8669742828350377,
          -0.8654939787054171,
          -0.8640192114394425,
          -0.8625500033715826,
          -0.8610863758843774,
          -0.8596283494256188,
          -0.8581759435252738,
          -0.8567291768121481,
          -0.8552880670302998,
          -0.8538526310551997,
          -0.8524228849096505,
          -0.8509988437794576,
          -0.8495805220288668,
          -0.8481679332157628,
          -0.8467610901066358,
          -0.8453600046913204,
          -0.8439646881975084,
          -0.8425751511050379,
          -0.8411914031599648,
          -0.8398134533884174,
          -0.8384413101102385,
          -0.8370749809524154,
          -0.8357144728623064,
          -0.8343597921206598,
          -0.8330109443544338,
          -0.831667934549418,
          -0.8303307670626583,
          -0.8289994456346903,
          -0.8276739734015826,
          -0.8263543529067927,
          -0.8250405861128386,
          -0.8237326744127882,
          -0.8224306186415705,
          -0.8211344190871095,
          -0.8198440755012834,
          -0.8185595871107136,
          -0.8172809526273835,
          -0.8160081702590914,
          -0.8147412377197383,
          -0.8134801522394541,
          -0.8122249105745653,
          -0.8109755090174031,
          -0.8097319434059594,
          -0.8084942091333873,
          -0.8072623011573528,
          -0.8060362140092379,
          -0.8048159418031962,
          -0.8036014782450664,
          -0.8023928166411427,
          -0.8011899499068038,
          -0.7999928705750079,
          -0.7988015708046471,
          -0.797616042388771,
          -0.7964362767626773,
          -0.7952622650118722,
          -0.7940939978799031,
          -0.7929314657760637,
          -0.7917746587829761,
          -0.79062356666405,
          -0.7894781788708197,
          -0.7883384845501635,
          -0.7872044725514045,
          -0.7860761314332972,
          -0.7849534494708983,
          -0.7838364146623265,
          -0.7827250147354109,
          -0.7816192371542314,
          -0.78051906912555,
          -0.7794244976051377,
          -0.7783355093039958,
          -0.777252090694476,
          -0.7761742280162977,
          -0.775101907282466,
          -0.7740351142850919,
          -0.7729738346011145,
          -0.7719180535979295,
          -0.7708677564389217,
          -0.7698229280889055,
          -0.7687835533194753,
          -0.7677496167142647,
          -0.7667211026741163,
          -0.7656979954221669,
          -0.7646802790088438,
          -0.7636679373167787,
          -0.7626609540656359,
          -0.7616593128168603,
          -0.7606629969783434,
          -0.7596719898090092,
          -0.7586862744233221,
          -0.7577058337957174,
          -0.7567306507649549,
          -0.7557607080383977,
          -0.7547959881962172,
          -0.7538364736955241,
          -0.7528821468744301,
          -0.751932989956035,
          -0.7509889850523477,
          -0.750050114168136,
          -0.7491163592047112,
          -0.7481877019636434,
          -0.7472641241504125,
          -0.7463456073779957,
          -0.7454321331703893,
          -0.7445236829660685,
          -0.7436202381213868,
          -0.7427217799139121,
          -0.7418282895457051,
          -0.7409397481465381,
          -0.7400561367770544,
          -0.7391774364318726,
          -0.7383036280426332,
          -0.7374346924809896,
          -0.7365706105615457,
          -0.7357113630447377,
          -0.7348569306396655,
          -0.7340072940068694,
          -0.7331624337610567,
          -0.7323223304737778,
          -0.7314869646760516,
          -0.7306563168609433,
          -0.7298303674860919,
          -0.7290090969761918,
          -0.7281924857254267,
          -0.7273805140998578,
          -0.7265731624397667,
          -0.725770411061952,
          -0.7249722402619849,
          -0.7241786303164185,
          -0.7233895614849563,
          -0.7226050140125773,
          -0.7218249681316216,
          -0.7210494040638329,
          -0.7202783020223631,
          -0.719511642213736,
          -0.7187494048397729,
          -0.7179915700994797,
          -0.7172381181908959,
          -0.716489029312908,
          -0.7157442836670247,
          -0.7150038614591163,
          -0.7142677429011213,
          -0.7135359082127142,
          -0.7128083376229427,
          -0.7120850113718289,
          -0.711365909711938,
          -0.7106510129099153,
          -0.709940301247989,
          -0.7092337550254437,
          -0.7085313545600611,
          -0.7078330801895307,
          -0.7071389122728305,
          -0.706448831191578,
          -0.7057628173513515,
          -0.7050808511829838,
          -0.7044029131438256,
          -0.7037289837189841,
          -0.7030590434225312,
          -0.7023930727986873,
          -0.7017310524229763,
          -0.7010729629033565,
          -0.7004187848813251,
          -0.6997684990329973,
          -0.6991220860701604,
          -0.6984795267413044,
          -0.6978408018326276,
          -0.6972058921690198,
          -0.6965747786150207,
          -0.6959474420757559,
          -0.695323863497852,
          -0.6947040238703276,
          -0.6940879042254628,
          -0.6934754856396492,
          -0.692866749234216,
          -0.6922616761762375,
          -0.6916602476793201,
          -0.6910624450043679,
          -0.6904682494603304,
          -0.6898776424049288,
          -0.6892906052453663,
          -0.6887071194390162,
          -0.688127166494094,
          -0.6875507279703102,
          -0.6869777854795069,
          -0.6864083206862743,
          -0.6858423153085524,
          -0.6852797511182154,
          -0.6847206099416373,
          -0.6841648736602449,
          -0.6836125242110516,
          -0.6830635435871761,
          -0.6825179138383479,
          -0.6819756170713934,
          -0.6814366354507111,
          -0.6809009511987294,
          -0.6803685465963509,
          -0.6798394039833833,
          -0.6793135057589539,
          -0.6787908343819131,
          -0.6782713723712233,
          -0.6777551023063337,
          -0.6772420068275434,
          -0.6767320686363512,
          -0.676225270495792,
          -0.6757215952307634,
          -0.6752210257283363,
          -0.6747235449380576,
          -0.6742291358722381,
          -0.6737377816062308,
          -0.6732494652786962,
          -0.6727641700918598,
          -0.6722818793117538,
          -0.6718025762684526,
          -0.6713262443562955,
          -0.6708528670340996,
          -0.6703824278253623,
          -0.669914910318455,
          -0.6694502981668049,
          -0.6689885750890701,
          -0.6685297248693023,
          -0.668073731357103,
          -0.6676205784677685,
          -0.6671702501824274,
          -0.6667227305481683,
          -0.6662780036781606,
          -0.6658360537517649,
          -0.6653968650146362,
          -0.6649604217788196,
          -0.6645267084228375,
          -0.6640957093917674,
          -0.6636674091973158,
          -0.6632417924178813,
          -0.6628188436986109,
          -0.6623985477514518,
          -0.661980889355192,
          -0.6615658533554971,
          -0.6611534246649398,
          -0.6607435882630207,
          -0.6603363291961861,
          -0.6599316325778362,
          -0.6595294835883284,
          -0.6591298674749753,
          -0.6587327695520344,
          -0.6583381752006952,
          -0.6579460698690566,
          -0.6575564390721025,
          -0.6571692683916689,
          -0.6567845434764072,
          -0.6564022500417418,
          -0.6560223738698225,
          -0.6556449008094716,
          -0.6552698167761262,
          -0.6548971077517758,
          -0.6545267597848953,
          -0.6541587589903721,
          -0.6537930915494299,
          -0.6534297437095484,
          -0.653068701784377,
          -0.6527099521536452,
          -0.6523534812630691,
          -0.6519992756242535,
          -0.6516473218145893,
          -0.6512976064771479,
          -0.6509501163205724,
          -0.6506048381189627,
          -0.6502617587117598,
          -0.6499208650036239,
          -0.6495821439643112,
          -0.6492455826285465,
          -0.648911168095891,
          -0.6485788875306098,
          -0.6482487281615343,
          -0.6479206772819208,
          -0.6475947222493084,
          -0.6472708504853724,
          -0.6469490494757741,
          -0.6466293067700111,
          -0.6463116099812596,
          -0.6459959467862197,
          -0.6456823049249543,
          -0.6453706722007264,
          -0.6450610364798348,
          -0.6447533856914465,
          -0.6444477078274266,
          -0.6441439909421673,
          -0.643842223152413,
          -0.6435423926370847,
          -0.6432444876371006,
          -0.6429484964551968,
          -0.6426544074557443,
          -0.6423622090645649,
          -0.6420718897687449,
          -0.6417834381164471,
          -0.6414968427167217,
          -0.6412120922393136,
          -0.6409291754144711,
          -0.6406480810327495,
          -0.6403687979448156,
          -0.6400913150612504,
          -0.6398156213523492,
          -0.6395417058479214,
          -0.6392695576370884,
          -0.6389991658680803,
          -0.6387305197480316,
          -0.6384636085427755,
          -0.6381984215766363,
          -0.6379349482322221,
          -0.6376731779502149,
          -0.6374131002291613,
          -0.6371547046252604,
          -0.6368979807521518,
          -0.6366429182807025,
          -0.636389506938793,
          -0.6361377365111021,
          -0.6358875968388913,
          -0.6356390778197878,
          -0.635392169407568,
          -0.6351468616119391,
          -0.6349031444983197,
          -0.634661008187622,
          -0.6344204428560302,
          -0.6341814387347805,
          -0.6339439861099408,
          -0.6337080753221878,
          -0.6334736967665855,
          -0.6332408408923627,
          -0.6330094982026895,
          -0.6327796592544542,
          -0.6325513146580397,
          -0.6323244550770986,
          -0.6320990712283294,
          -0.6318751538812513,
          -0.6316526938579797,
          -0.631431682033,
          -0.6312121093329429,
          -0.6309939667363584,
          -0.6307772452734901,
          -0.6305619360260484,
          -0.6303480301269857,
          -0.630135518760269,
          -0.6299243931606541,
          -0.6297146446134594,
          -0.6295062644543392,
          -0.629299244069057,
          -0.6290935748932601,
          -0.6288892484122519,
          -0.6286862561607669,
          -0.6284845897227435,
          -0.6282842407310982,
          -0.6280852008674997,
          -0.6278874618621426,
          -0.6276910154935219,
          -0.6274958535882074,
          -0.6273019680206179,
          -0.6271093507127964,
          -0.6269179936341849,
          -0.6267278888013995,
          -0.6265390282780059,
          -0.6263514041742949,
          -0.6261650086470588,
          -0.6259798338993676,
          -0.6257958721803449,
          -0.6256131157849454,
          -0.6254315570537321,
          -0.6252511883726537,
          -0.6250720021728225,
          -0.6248939909302926,
          -0.624717147165839,
          -0.6245414634447358,
          -0.6243669323765366,
          -0.624193546614854,
          -0.6240212988571398,
          -0.6238501818444658,
          -0.6236801883613053,
          -0.6235113112353146,
          -0.6233435433371148,
          -0.6231768775800752,
          -0.6230113069200957,
          -0.622846824355391,
          -0.6226834229262742,
          -0.6225210957149421,
          -0.62235983584526,
          -0.6221996364825475,
          -0.6220404908333645,
          -0.6218823921452992,
          -0.6217253337067541,
          -0.6215693088467347,
          -0.621414310934638,
          -0.6212603333800417,
          -0.6211073696324942,
          -0.6209554131813044,
          -0.6208044575553329,
          -0.6206544963227836,
          -0.6205055230909962,
          -0.6203575315062391,
          -0.6202105152535018,
          -0.6200644680562905,
          -0.6199193836764219,
          -0.6197752559138188,
          -0.6196320786063065,
          -0.6194898456294098,
          -0.6193485508961489,
          -0.6192081883568392,
          -0.6190687519988893,
          -0.6189302358466007,
          -0.6187926339609673,
          -0.6186559404394774,
          -0.6185201494159138,
          -0.6183852550601575,
          -0.6182512515779892,
          -0.618118133210894,
          -0.6179858942358651,
          -0.6178545289652096,
          -0.6177240317463535,
          -0.6175943969616482,
          -0.6174656190281782,
          -0.6173376923975693,
          -0.6172106115557963,
          -0.617084371022993,
          -0.6169589653532626,
          -0.6168343891344876,
          -0.6167106369881432,
          -0.6165877035691075,
          -0.6164655835654762,
          -0.6163442716983758,
          -0.6162237627217781,
          -0.6161040514223162,
          -0.6159851326190997,
          -0.6158670011635321,
          -0.6157496519391287,
          -0.6156330798613343,
          -0.6155172798773424,
          -0.6154022469659157,
          -0.6152879761372059,
          -0.6151744624325761,
          -0.6150617009244218,
          -0.6149496867159945,
          -0.6148384149412254,
          -0.6147278807645499,
          -0.6146180793807321,
          -0.6145090060146918,
          -0.6144006559213309,
          -0.6142930243853597,
          -0.6141861067211274,
          -0.6140798982724494,
          -0.6139743944124376,
          -0.6138695905433313,
          -0.6137654820963279,
          -0.6136620645314156,
          -0.6135593333372058,
          -0.6134572840307673,
          -0.6133559121574594,
          -0.6132552132907694,
          -0.6131551830321456,
          -0.6130558170108367,
          -0.6129571108837273,
          -0.6128590603351767,
          -0.6127616610768586,
          -0.6126649088475999,
          -0.6125687994132215,
          -0.6124733285663796,
          -0.6123784921264076,
          -0.6122842859391591,
          -0.6121907058768512,
          -0.6120977478379086,
          -0.6120054077468093,
          -0.6119136815539298,
          -0.6118225652353912,
          -0.6117320547929084,
          -0.6116421462536354,
          -0.6115528356700164,
          -0.6114641191196339,
          -0.6113759927050604,
          -0.6112884525537072,
          -0.6112014948176789,
          -0.6111151156736236,
          -0.6110293113225872,
          -0.6109440779898676,
          -0.6108594119248689,
          -0.6107753094009569,
          -0.6106917667153156,
          -0.6106087801888038,
          -0.610526346165813,
          -0.6104444610141257,
          -0.6103631211247744,
          -0.6102823229119018,
          -0.6102020628126203,
          -0.6101223372868753,
          -0.6100431428173045,
          -0.6099644759091031,
          -0.6098863330898859,
          -0.6098087109095516,
          -0.6097316059401477,
          -0.6096550147757365,
          -0.6095789340322603,
          -0.6095033603474098,
          -0.6094282903804905,
          -0.6093537208122919,
          -0.6092796483449561,
          -0.6092060697018475,
          -0.6091329816274242,
          -0.6090603808871077,
          -0.6089882642671559,
          -0.6089166285745353,
          -0.6088454706367936,
          -0.6087747873019345,
          -0.6087045754382919,
          -0.6086348319344054,
          -0.6085655536988953,
          -0.6084967376603404,
          -0.6084283807671548,
          -0.6083604799874655,
          -0.6082930323089916,
          -0.6082260347389232,
          -0.6081594843038014,
          -0.608093378049399,
          -0.6080277130406015,
          -0.6079624863612897,
          -0.6078976951142209,
          -0.6078333364209136,
          -0.6077694074215307,
          -0.6077059052747638,
          -0.6076428271577184,
          -0.6075801702658002,
          -0.6075179318126009,
          -0.6074561090297856,
          -0.6073946991669805,
          -0.6073336994916607,
          -0.6072731072890399,
          -0.6072129198619595,
          -0.6071531345307789,
          -0.6070937486332662,
          -0.6070347595244898,
          -0.6069761645767102,
          -0.6069179611792733,
          -0.6068601467385026,
          -0.6068027186775936,
          -0.6067456744365088,
          -0.6066890114718719,
          -0.6066327272568639,
          -0.606576819281119,
          -0.6065212850506223,
          -0.6064661220876064,
          -0.6064113279304496,
          -0.606356900133575,
          -0.606302836267349,
          -0.6062491339179817,
          -0.6061957906874268,
          -0.6061428041932829,
          -0.6060901720686951,
          -0.6060378919622562,
          -0.6059859615379106,
          -0.6059343784748565,
          -0.6058831404674507,
          -0.6058322452251117,
          -0.6057816904722253,
          -0.6057314739480505,
          -0.6056815934066244,
          -0.6056320466166695,
          -0.6055828313615009,
          -0.6055339454389332,
          -0.60548538666119,
          -0.6054371528548107,
          -0.6053892418605618,
          -0.6053416515333452,
          -0.6052943797421092,
          -0.6052474243697593,
          -0.6052007833130697,
          -0.6051544544825946,
          -0.6051084358025816,
          -0.6050627252108836,
          -0.605017320658873,
          -0.6049722201113555,
          -0.6049274215464846,
          -0.6048829229556762,
          -0.6048387223435252,
          -0.6047948177277196,
          -0.6047512071389592,
          -0.6047078886208711,
          -0.6046648602299277,
          -0.6046221200353651,
          -0.6045796661191002,
          -0.6045374965756517,
          -0.6044956095120579,
          -0.6044540030477976,
          -0.6044126753147099,
          -0.6043716244569155,
          -0.6043308486307382,
          -0.604290346004626,
          -0.6042501147590745,
          -0.6042101530865491,
          -0.6041704591914081,
          -0.604131031289827,
          -0.6040918676097219,
          -0.604052966390675,
          -0.6040143258838592,
          -0.6039759443519639,
          -0.6039378200691204,
          -0.6038999513208299,
          -0.6038623364038882,
          -0.6038249736263148,
          -0.6037878613072805,
          -0.6037509977770346,
          -0.6037143813768344,
          -0.6036780104588746,
          -0.6036418833862162,
          -0.6036059985327162,
          -0.6035703542829595,
          -0.6035349490321877,
          -0.6034997811862323,
          -0.6034648491614446,
          -0.6034301513846295,
          -0.6033956862929769,
          -0.6033614523339944,
          -0.6033274479654419,
          -0.6032936716552645,
          -0.6032601218815264,
          -0.6032267971323463,
          -0.6031936959058315,
          -0.6031608167100141,
          -0.6031281580627861,
          -0.603095718491836,
          -0.6030634965345851,
          -0.6030314907381248,
          -0.6029996996591535,
          -0.6029681218639145,
          -0.6029367559281342,
          -0.6029056004369612,
          -0.6028746539849035,
          -0.6028439151757696,
          -0.6028133826226072,
          -0.6027830549476435,
          -0.6027529307822254,
          -0.6027230087667602,
          -0.6026932875506574,
          -0.6026637657922694,
          -0.6026344421588334,
          -0.6026053153264146,
          -0.6025763839798476,
          -0.60254764681268,
          -0.6025191025271157,
          -0.602490749833958,
          -0.6024625874525547,
          -0.6024346141107414,
          -0.6024068285447864,
          -0.6023792294993365,
          -0.6023518157273619,
          -0.6023245859901014,
          -0.6022975390570093,
          -0.6022706737057021,
          -0.6022439887219037,
          -0.6022174828993945,
          -0.6021911550399571,
          -0.6021650039533256,
          -0.6021390284571323,
          -0.6021132273768568,
          -0.6020875995457752,
          -0.602062143804908,
          -0.6020368590029705,
          -0.6020117439963225,
          -0.6019867976489173,
          -0.6019620188322531,
          -0.6019374064253232,
          -0.6019129593145675,
          -0.6018886763938226,
          -0.6018645565642748,
          -0.601840598734411,
          -0.6018168018199713,
          -0.6017931647439017,
          -0.601769686436306,
          -0.6017463658344006,
          -0.6017232018824658,
          -0.601700193531801,
          -0.6016773397406787,
          -0.6016546394742979,
          -0.6016320917047391,
          -0.6016096954109191,
          -0.6015874495785467,
          -0.6015653532000774,
          -0.6015434052746695,
          -0.60152160480814,
          -0.6014999508129207,
          -0.6014784423080156,
          -0.6014570783189563,
          -0.6014358578777605,
          -0.6014147800228888,
          -0.6013938437992024,
          -0.6013730482579205
         ]
        }
       ],
       "layout": {
        "template": {
         "data": {
          "bar": [
           {
            "error_x": {
             "color": "#2a3f5f"
            },
            "error_y": {
             "color": "#2a3f5f"
            },
            "marker": {
             "line": {
              "color": "#E5ECF6",
              "width": 0.5
             }
            },
            "type": "bar"
           }
          ],
          "barpolar": [
           {
            "marker": {
             "line": {
              "color": "#E5ECF6",
              "width": 0.5
             }
            },
            "type": "barpolar"
           }
          ],
          "carpet": [
           {
            "aaxis": {
             "endlinecolor": "#2a3f5f",
             "gridcolor": "white",
             "linecolor": "white",
             "minorgridcolor": "white",
             "startlinecolor": "#2a3f5f"
            },
            "baxis": {
             "endlinecolor": "#2a3f5f",
             "gridcolor": "white",
             "linecolor": "white",
             "minorgridcolor": "white",
             "startlinecolor": "#2a3f5f"
            },
            "type": "carpet"
           }
          ],
          "choropleth": [
           {
            "colorbar": {
             "outlinewidth": 0,
             "ticks": ""
            },
            "type": "choropleth"
           }
          ],
          "contour": [
           {
            "colorbar": {
             "outlinewidth": 0,
             "ticks": ""
            },
            "colorscale": [
             [
              0,
              "#0d0887"
             ],
             [
              0.1111111111111111,
              "#46039f"
             ],
             [
              0.2222222222222222,
              "#7201a8"
             ],
             [
              0.3333333333333333,
              "#9c179e"
             ],
             [
              0.4444444444444444,
              "#bd3786"
             ],
             [
              0.5555555555555556,
              "#d8576b"
             ],
             [
              0.6666666666666666,
              "#ed7953"
             ],
             [
              0.7777777777777778,
              "#fb9f3a"
             ],
             [
              0.8888888888888888,
              "#fdca26"
             ],
             [
              1,
              "#f0f921"
             ]
            ],
            "type": "contour"
           }
          ],
          "contourcarpet": [
           {
            "colorbar": {
             "outlinewidth": 0,
             "ticks": ""
            },
            "type": "contourcarpet"
           }
          ],
          "heatmap": [
           {
            "colorbar": {
             "outlinewidth": 0,
             "ticks": ""
            },
            "colorscale": [
             [
              0,
              "#0d0887"
             ],
             [
              0.1111111111111111,
              "#46039f"
             ],
             [
              0.2222222222222222,
              "#7201a8"
             ],
             [
              0.3333333333333333,
              "#9c179e"
             ],
             [
              0.4444444444444444,
              "#bd3786"
             ],
             [
              0.5555555555555556,
              "#d8576b"
             ],
             [
              0.6666666666666666,
              "#ed7953"
             ],
             [
              0.7777777777777778,
              "#fb9f3a"
             ],
             [
              0.8888888888888888,
              "#fdca26"
             ],
             [
              1,
              "#f0f921"
             ]
            ],
            "type": "heatmap"
           }
          ],
          "heatmapgl": [
           {
            "colorbar": {
             "outlinewidth": 0,
             "ticks": ""
            },
            "colorscale": [
             [
              0,
              "#0d0887"
             ],
             [
              0.1111111111111111,
              "#46039f"
             ],
             [
              0.2222222222222222,
              "#7201a8"
             ],
             [
              0.3333333333333333,
              "#9c179e"
             ],
             [
              0.4444444444444444,
              "#bd3786"
             ],
             [
              0.5555555555555556,
              "#d8576b"
             ],
             [
              0.6666666666666666,
              "#ed7953"
             ],
             [
              0.7777777777777778,
              "#fb9f3a"
             ],
             [
              0.8888888888888888,
              "#fdca26"
             ],
             [
              1,
              "#f0f921"
             ]
            ],
            "type": "heatmapgl"
           }
          ],
          "histogram": [
           {
            "marker": {
             "colorbar": {
              "outlinewidth": 0,
              "ticks": ""
             }
            },
            "type": "histogram"
           }
          ],
          "histogram2d": [
           {
            "colorbar": {
             "outlinewidth": 0,
             "ticks": ""
            },
            "colorscale": [
             [
              0,
              "#0d0887"
             ],
             [
              0.1111111111111111,
              "#46039f"
             ],
             [
              0.2222222222222222,
              "#7201a8"
             ],
             [
              0.3333333333333333,
              "#9c179e"
             ],
             [
              0.4444444444444444,
              "#bd3786"
             ],
             [
              0.5555555555555556,
              "#d8576b"
             ],
             [
              0.6666666666666666,
              "#ed7953"
             ],
             [
              0.7777777777777778,
              "#fb9f3a"
             ],
             [
              0.8888888888888888,
              "#fdca26"
             ],
             [
              1,
              "#f0f921"
             ]
            ],
            "type": "histogram2d"
           }
          ],
          "histogram2dcontour": [
           {
            "colorbar": {
             "outlinewidth": 0,
             "ticks": ""
            },
            "colorscale": [
             [
              0,
              "#0d0887"
             ],
             [
              0.1111111111111111,
              "#46039f"
             ],
             [
              0.2222222222222222,
              "#7201a8"
             ],
             [
              0.3333333333333333,
              "#9c179e"
             ],
             [
              0.4444444444444444,
              "#bd3786"
             ],
             [
              0.5555555555555556,
              "#d8576b"
             ],
             [
              0.6666666666666666,
              "#ed7953"
             ],
             [
              0.7777777777777778,
              "#fb9f3a"
             ],
             [
              0.8888888888888888,
              "#fdca26"
             ],
             [
              1,
              "#f0f921"
             ]
            ],
            "type": "histogram2dcontour"
           }
          ],
          "mesh3d": [
           {
            "colorbar": {
             "outlinewidth": 0,
             "ticks": ""
            },
            "type": "mesh3d"
           }
          ],
          "parcoords": [
           {
            "line": {
             "colorbar": {
              "outlinewidth": 0,
              "ticks": ""
             }
            },
            "type": "parcoords"
           }
          ],
          "scatter": [
           {
            "marker": {
             "colorbar": {
              "outlinewidth": 0,
              "ticks": ""
             }
            },
            "type": "scatter"
           }
          ],
          "scatter3d": [
           {
            "line": {
             "colorbar": {
              "outlinewidth": 0,
              "ticks": ""
             }
            },
            "marker": {
             "colorbar": {
              "outlinewidth": 0,
              "ticks": ""
             }
            },
            "type": "scatter3d"
           }
          ],
          "scattercarpet": [
           {
            "marker": {
             "colorbar": {
              "outlinewidth": 0,
              "ticks": ""
             }
            },
            "type": "scattercarpet"
           }
          ],
          "scattergeo": [
           {
            "marker": {
             "colorbar": {
              "outlinewidth": 0,
              "ticks": ""
             }
            },
            "type": "scattergeo"
           }
          ],
          "scattergl": [
           {
            "marker": {
             "colorbar": {
              "outlinewidth": 0,
              "ticks": ""
             }
            },
            "type": "scattergl"
           }
          ],
          "scattermapbox": [
           {
            "marker": {
             "colorbar": {
              "outlinewidth": 0,
              "ticks": ""
             }
            },
            "type": "scattermapbox"
           }
          ],
          "scatterpolar": [
           {
            "marker": {
             "colorbar": {
              "outlinewidth": 0,
              "ticks": ""
             }
            },
            "type": "scatterpolar"
           }
          ],
          "scatterpolargl": [
           {
            "marker": {
             "colorbar": {
              "outlinewidth": 0,
              "ticks": ""
             }
            },
            "type": "scatterpolargl"
           }
          ],
          "scatterternary": [
           {
            "marker": {
             "colorbar": {
              "outlinewidth": 0,
              "ticks": ""
             }
            },
            "type": "scatterternary"
           }
          ],
          "surface": [
           {
            "colorbar": {
             "outlinewidth": 0,
             "ticks": ""
            },
            "colorscale": [
             [
              0,
              "#0d0887"
             ],
             [
              0.1111111111111111,
              "#46039f"
             ],
             [
              0.2222222222222222,
              "#7201a8"
             ],
             [
              0.3333333333333333,
              "#9c179e"
             ],
             [
              0.4444444444444444,
              "#bd3786"
             ],
             [
              0.5555555555555556,
              "#d8576b"
             ],
             [
              0.6666666666666666,
              "#ed7953"
             ],
             [
              0.7777777777777778,
              "#fb9f3a"
             ],
             [
              0.8888888888888888,
              "#fdca26"
             ],
             [
              1,
              "#f0f921"
             ]
            ],
            "type": "surface"
           }
          ],
          "table": [
           {
            "cells": {
             "fill": {
              "color": "#EBF0F8"
             },
             "line": {
              "color": "white"
             }
            },
            "header": {
             "fill": {
              "color": "#C8D4E3"
             },
             "line": {
              "color": "white"
             }
            },
            "type": "table"
           }
          ]
         },
         "layout": {
          "annotationdefaults": {
           "arrowcolor": "#2a3f5f",
           "arrowhead": 0,
           "arrowwidth": 1
          },
          "colorscale": {
           "diverging": [
            [
             0,
             "#8e0152"
            ],
            [
             0.1,
             "#c51b7d"
            ],
            [
             0.2,
             "#de77ae"
            ],
            [
             0.3,
             "#f1b6da"
            ],
            [
             0.4,
             "#fde0ef"
            ],
            [
             0.5,
             "#f7f7f7"
            ],
            [
             0.6,
             "#e6f5d0"
            ],
            [
             0.7,
             "#b8e186"
            ],
            [
             0.8,
             "#7fbc41"
            ],
            [
             0.9,
             "#4d9221"
            ],
            [
             1,
             "#276419"
            ]
           ],
           "sequential": [
            [
             0,
             "#0d0887"
            ],
            [
             0.1111111111111111,
             "#46039f"
            ],
            [
             0.2222222222222222,
             "#7201a8"
            ],
            [
             0.3333333333333333,
             "#9c179e"
            ],
            [
             0.4444444444444444,
             "#bd3786"
            ],
            [
             0.5555555555555556,
             "#d8576b"
            ],
            [
             0.6666666666666666,
             "#ed7953"
            ],
            [
             0.7777777777777778,
             "#fb9f3a"
            ],
            [
             0.8888888888888888,
             "#fdca26"
            ],
            [
             1,
             "#f0f921"
            ]
           ],
           "sequentialminus": [
            [
             0,
             "#0d0887"
            ],
            [
             0.1111111111111111,
             "#46039f"
            ],
            [
             0.2222222222222222,
             "#7201a8"
            ],
            [
             0.3333333333333333,
             "#9c179e"
            ],
            [
             0.4444444444444444,
             "#bd3786"
            ],
            [
             0.5555555555555556,
             "#d8576b"
            ],
            [
             0.6666666666666666,
             "#ed7953"
            ],
            [
             0.7777777777777778,
             "#fb9f3a"
            ],
            [
             0.8888888888888888,
             "#fdca26"
            ],
            [
             1,
             "#f0f921"
            ]
           ]
          },
          "colorway": [
           "#636efa",
           "#EF553B",
           "#00cc96",
           "#ab63fa",
           "#FFA15A",
           "#19d3f3",
           "#FF6692",
           "#B6E880",
           "#FF97FF",
           "#FECB52"
          ],
          "font": {
           "color": "#2a3f5f"
          },
          "geo": {
           "bgcolor": "white",
           "lakecolor": "white",
           "landcolor": "#E5ECF6",
           "showlakes": true,
           "showland": true,
           "subunitcolor": "white"
          },
          "hoverlabel": {
           "align": "left"
          },
          "hovermode": "closest",
          "mapbox": {
           "style": "light"
          },
          "paper_bgcolor": "white",
          "plot_bgcolor": "#E5ECF6",
          "polar": {
           "angularaxis": {
            "gridcolor": "white",
            "linecolor": "white",
            "ticks": ""
           },
           "bgcolor": "#E5ECF6",
           "radialaxis": {
            "gridcolor": "white",
            "linecolor": "white",
            "ticks": ""
           }
          },
          "scene": {
           "xaxis": {
            "backgroundcolor": "#E5ECF6",
            "gridcolor": "white",
            "gridwidth": 2,
            "linecolor": "white",
            "showbackground": true,
            "ticks": "",
            "zerolinecolor": "white"
           },
           "yaxis": {
            "backgroundcolor": "#E5ECF6",
            "gridcolor": "white",
            "gridwidth": 2,
            "linecolor": "white",
            "showbackground": true,
            "ticks": "",
            "zerolinecolor": "white"
           },
           "zaxis": {
            "backgroundcolor": "#E5ECF6",
            "gridcolor": "white",
            "gridwidth": 2,
            "linecolor": "white",
            "showbackground": true,
            "ticks": "",
            "zerolinecolor": "white"
           }
          },
          "shapedefaults": {
           "line": {
            "color": "#2a3f5f"
           }
          },
          "ternary": {
           "aaxis": {
            "gridcolor": "white",
            "linecolor": "white",
            "ticks": ""
           },
           "baxis": {
            "gridcolor": "white",
            "linecolor": "white",
            "ticks": ""
           },
           "bgcolor": "#E5ECF6",
           "caxis": {
            "gridcolor": "white",
            "linecolor": "white",
            "ticks": ""
           }
          },
          "title": {
           "x": 0.05
          },
          "xaxis": {
           "automargin": true,
           "gridcolor": "white",
           "linecolor": "white",
           "ticks": "",
           "zerolinecolor": "white",
           "zerolinewidth": 2
          },
          "yaxis": {
           "automargin": true,
           "gridcolor": "white",
           "linecolor": "white",
           "ticks": "",
           "zerolinecolor": "white",
           "zerolinewidth": 2
          }
         }
        }
       }
      },
      "text/html": [
       "<div>\n",
       "        \n",
       "        \n",
       "            <div id=\"baaebfef-df17-4240-a3c5-004f39442c9a\" class=\"plotly-graph-div\" style=\"height:525px; width:100%;\"></div>\n",
       "            <script type=\"text/javascript\">\n",
       "                require([\"plotly\"], function(Plotly) {\n",
       "                    window.PLOTLYENV=window.PLOTLYENV || {};\n",
       "                    \n",
       "                if (document.getElementById(\"baaebfef-df17-4240-a3c5-004f39442c9a\")) {\n",
       "                    Plotly.newPlot(\n",
       "                        'baaebfef-df17-4240-a3c5-004f39442c9a',\n",
       "                        [{\"connectgaps\": false, \"marker\": {\"color\": \"blue\"}, \"mode\": \"markers\", \"name\": \"Hartree-Fock Computed\", \"type\": \"scatter\", \"x\": [-1.0, -0.99, -0.98, -0.97, -0.96, -0.9500000000000001, -0.9400000000000001, -0.93, -0.92, -0.91, -0.9, -0.89, -0.88, -0.87, -0.86, -0.85, -0.84, -0.8300000000000001, -0.8200000000000001, -0.81, -0.8, -0.79, -0.78, -0.77, -0.76, -0.75, -0.74, -0.73, -0.72, -0.71, -0.7000000000000001, -0.6900000000000001, -0.68, -0.67, -0.66, -0.65, -0.64, -0.63, -0.62, -0.61, -0.6, -0.59, -0.58, -0.5700000000000001, -0.56, -0.55, -0.54, -0.53, -0.52, -0.51, -0.5, -0.49, -0.48, -0.47000000000000003, -0.46, -0.45, -0.44, -0.43, -0.42, -0.41000000000000003, -0.4, -0.39, -0.38, -0.37, -0.36, -0.35000000000000003, -0.34, -0.33, -0.32, -0.31, -0.3, -0.29, -0.28, -0.27, -0.26, -0.25, -0.24, -0.23, -0.22, -0.21, -0.2, -0.19, -0.18, -0.17, -0.16, -0.15, -0.14, -0.13, -0.12, -0.11, -0.1, -0.09, -0.08, -0.07, -0.06, -0.05, -0.04, -0.03, -0.02, -0.01, 0.0, 0.01, 0.02, 0.03, 0.04, 0.05, 0.06, 0.07, 0.08, 0.09, 0.1, 0.11, 0.12, 0.13, 0.14, 0.15, 0.16, 0.17, 0.18, 0.19, 0.2, 0.21, 0.22, 0.23, 0.24, 0.25, 0.26, 0.27, 0.28, 0.29, 0.3, 0.31, 0.32, 0.33, 0.34, 0.35000000000000003, 0.36, 0.37, 0.38, 0.39, 0.4, 0.41000000000000003, 0.42, 0.43, 0.44, 0.45, 0.46, 0.47000000000000003, 0.48, 0.49, 0.5, 0.51, 0.52, 0.53, 0.54, 0.55, 0.56, 0.5700000000000001, 0.58, 0.59, 0.6, 0.61, 0.62, 0.63, 0.64, 0.65, 0.66, 0.67, 0.68, 0.6900000000000001, 0.7000000000000001, 0.71, 0.72, 0.73, 0.74, 0.75, 0.76, 0.77, 0.78, 0.79, 0.8, 0.81, 0.8200000000000001, 0.8300000000000001, 0.84, 0.85, 0.86, 0.87, 0.88, 0.89, 0.9, 0.91, 0.92, 0.93, 0.9400000000000001, 0.9500000000000001, 0.96, 0.97, 0.98, 0.99, 1.0, 1.01, 1.02, 1.03, 1.04, 1.05, 1.06, 1.07, 1.08, 1.09, 1.1, 1.11, 1.12, 1.1300000000000001, 1.1400000000000001, 1.1500000000000001, 1.16, 1.17, 1.18, 1.19, 1.2, 1.21, 1.22, 1.23, 1.24, 1.25, 1.26, 1.27, 1.28, 1.29, 1.3, 1.31, 1.32, 1.33, 1.34, 1.35, 1.36, 1.37, 1.3800000000000001, 1.3900000000000001, 1.4000000000000001, 1.41, 1.42, 1.43, 1.44, 1.45, 1.46, 1.47, 1.48, 1.49, 1.5, 1.51, 1.52, 1.53, 1.54, 1.55, 1.56, 1.57, 1.58, 1.59, 1.6, 1.61, 1.62, 1.6300000000000001, 1.6400000000000001, 1.6500000000000001, 1.6600000000000001, 1.67, 1.68, 1.69, 1.7, 1.71, 1.72, 1.73, 1.74, 1.75, 1.76, 1.77, 1.78, 1.79, 1.8, 1.81, 1.82, 1.83, 1.84, 1.85, 1.86, 1.87, 1.8800000000000001, 1.8900000000000001, 1.9000000000000001, 1.9100000000000001, 1.92, 1.93, 1.94, 1.95, 1.96, 1.97, 1.98, 1.99, 2.0, 2.0100000000000002, 2.02, 2.0300000000000002, 2.04, 2.05, 2.06, 2.07, 2.08, 2.09, 2.1, 2.11, 2.12, 2.13, 2.14, 2.15, 2.16, 2.17, 2.18, 2.19, 2.2, 2.21, 2.22, 2.23, 2.24, 2.25, 2.2600000000000002, 2.27, 2.2800000000000002, 2.29, 2.3000000000000003, 2.31, 2.32, 2.33, 2.34, 2.35, 2.36, 2.37, 2.38, 2.39, 2.4, 2.41, 2.42, 2.43, 2.44, 2.45, 2.46, 2.47, 2.48, 2.49, 2.5, 2.5100000000000002, 2.52, 2.5300000000000002, 2.54, 2.5500000000000003, 2.56, 2.57, 2.58, 2.59, 2.6, 2.61, 2.62, 2.63, 2.64, 2.65, 2.66, 2.67, 2.68, 2.69, 2.7, 2.71, 2.72, 2.73, 2.74, 2.75, 2.7600000000000002, 2.77, 2.7800000000000002, 2.79, 2.8000000000000003, 2.81, 2.82, 2.83, 2.84, 2.85, 2.86, 2.87, 2.88, 2.89, 2.9, 2.91, 2.92, 2.93, 2.94, 2.95, 2.96, 2.97, 2.98, 2.99, 3.0, 3.0100000000000002, 3.02, 3.0300000000000002, 3.04, 3.0500000000000003, 3.06, 3.0700000000000003, 3.08, 3.09, 3.1, 3.11, 3.12, 3.13, 3.14, 3.15, 3.16, 3.17, 3.18, 3.19, 3.2, 3.21, 3.22, 3.23, 3.24, 3.25, 3.2600000000000002, 3.27, 3.2800000000000002, 3.29, 3.3000000000000003, 3.31, 3.3200000000000003, 3.33, 3.34, 3.35, 3.36, 3.37, 3.38, 3.39, 3.4, 3.41, 3.42, 3.43, 3.44, 3.45, 3.46, 3.47, 3.48, 3.49, 3.5, 3.5100000000000002, 3.52, 3.5300000000000002, 3.54, 3.5500000000000003, 3.56, 3.5700000000000003, 3.58, 3.59, 3.6, 3.61, 3.62, 3.63, 3.64, 3.65, 3.66, 3.67, 3.68, 3.69, 3.7, 3.71, 3.72, 3.73, 3.74, 3.75, 3.7600000000000002, 3.77, 3.7800000000000002, 3.79, 3.8000000000000003, 3.81, 3.8200000000000003, 3.83, 3.84, 3.85, 3.86, 3.87, 3.88, 3.89, 3.9, 3.91, 3.92, 3.93, 3.94, 3.95, 3.96, 3.97, 3.98, 3.99, 4.0, 4.01, 4.0200000000000005, 4.03, 4.04, 4.05, 4.0600000000000005, 4.07, 4.08, 4.09, 4.1, 4.11, 4.12, 4.13, 4.14, 4.15, 4.16, 4.17, 4.18, 4.19, 4.2, 4.21, 4.22, 4.23, 4.24, 4.25, 4.26, 4.2700000000000005, 4.28, 4.29, 4.3, 4.3100000000000005, 4.32, 4.33, 4.34, 4.3500000000000005, 4.36, 4.37, 4.38, 4.39, 4.4, 4.41, 4.42, 4.43, 4.44, 4.45, 4.46, 4.47, 4.48, 4.49, 4.5, 4.51, 4.5200000000000005, 4.53, 4.54, 4.55, 4.5600000000000005, 4.57, 4.58, 4.59, 4.6000000000000005, 4.61, 4.62, 4.63, 4.64, 4.65, 4.66, 4.67, 4.68, 4.69, 4.7, 4.71, 4.72, 4.73, 4.74, 4.75, 4.76, 4.7700000000000005, 4.78, 4.79, 4.8, 4.8100000000000005, 4.82, 4.83, 4.84, 4.8500000000000005, 4.86, 4.87, 4.88, 4.89, 4.9, 4.91, 4.92, 4.93, 4.94, 4.95, 4.96, 4.97, 4.98, 4.99, 5.0, 5.01, 5.0200000000000005, 5.03, 5.04, 5.05, 5.0600000000000005, 5.07, 5.08, 5.09, 5.1000000000000005, 5.11, 5.12, 5.13, 5.14, 5.15, 5.16, 5.17, 5.18, 5.19, 5.2, 5.21, 5.22, 5.23, 5.24, 5.25, 5.26, 5.2700000000000005, 5.28, 5.29, 5.3, 5.3100000000000005, 5.32, 5.33, 5.34, 5.3500000000000005, 5.36, 5.37, 5.38, 5.39, 5.4, 5.41, 5.42, 5.43, 5.44, 5.45, 5.46, 5.47, 5.48, 5.49, 5.5, 5.51, 5.5200000000000005, 5.53, 5.54, 5.55, 5.5600000000000005, 5.57, 5.58, 5.59, 5.6000000000000005, 5.61, 5.62, 5.63, 5.64, 5.65, 5.66, 5.67, 5.68, 5.69, 5.7, 5.71, 5.72, 5.73, 5.74, 5.75, 5.76, 5.7700000000000005, 5.78, 5.79, 5.8, 5.8100000000000005, 5.82, 5.83, 5.84, 5.8500000000000005, 5.86, 5.87, 5.88, 5.89, 5.9, 5.91, 5.92, 5.93, 5.94, 5.95, 5.96, 5.97, 5.98, 5.99, 6.0, 6.01, 6.0200000000000005, 6.03, 6.04, 6.05, 6.0600000000000005, 6.07, 6.08, 6.09, 6.1000000000000005, 6.11, 6.12, 6.13, 6.140000000000001, 6.15, 6.16, 6.17, 6.18, 6.19, 6.2, 6.21, 6.22, 6.23, 6.24, 6.25, 6.26, 6.2700000000000005, 6.28, 6.29, 6.3, 6.3100000000000005, 6.32, 6.33, 6.34, 6.3500000000000005, 6.36, 6.37, 6.38, 6.390000000000001, 6.4, 6.41, 6.42, 6.43, 6.44, 6.45, 6.46, 6.47, 6.48, 6.49, 6.5, 6.51, 6.5200000000000005, 6.53, 6.54, 6.55, 6.5600000000000005, 6.57, 6.58, 6.59, 6.6000000000000005, 6.61, 6.62, 6.63, 6.640000000000001, 6.65, 6.66, 6.67, 6.68, 6.69, 6.7, 6.71, 6.72, 6.73, 6.74, 6.75, 6.76, 6.7700000000000005, 6.78, 6.79, 6.8, 6.8100000000000005, 6.82, 6.83, 6.84, 6.8500000000000005, 6.86, 6.87, 6.88, 6.890000000000001, 6.9, 6.91, 6.92, 6.93, 6.94, 6.95, 6.96, 6.97, 6.98, 6.99, 7.0, 7.01, 7.0200000000000005, 7.03, 7.04, 7.05, 7.0600000000000005, 7.07, 7.08, 7.09, 7.1000000000000005, 7.11, 7.12, 7.13, 7.140000000000001, 7.15, 7.16, 7.17, 7.18, 7.19, 7.2, 7.21, 7.22, 7.23, 7.24, 7.25, 7.26, 7.2700000000000005, 7.28, 7.29, 7.3, 7.3100000000000005, 7.32, 7.33, 7.34, 7.3500000000000005, 7.36, 7.37, 7.38, 7.390000000000001, 7.4, 7.41, 7.42, 7.43, 7.44, 7.45, 7.46, 7.47, 7.48, 7.49, 7.5, 7.51, 7.5200000000000005, 7.53, 7.54, 7.55, 7.5600000000000005, 7.57, 7.58, 7.59, 7.6000000000000005, 7.61, 7.62, 7.63, 7.640000000000001, 7.65, 7.66, 7.67, 7.68, 7.69, 7.7, 7.71, 7.72, 7.73, 7.74, 7.75, 7.76, 7.7700000000000005, 7.78, 7.79, 7.8, 7.8100000000000005, 7.82, 7.83, 7.84, 7.8500000000000005, 7.86, 7.87, 7.88, 7.890000000000001, 7.9, 7.91, 7.92, 7.930000000000001, 7.94, 7.95, 7.96, 7.97, 7.98, 7.99, 8.0, 8.01, 8.02, 8.03, 8.040000000000001, 8.05, 8.06, 8.07, 8.08, 8.09, 8.1, 8.11, 8.120000000000001, 8.13, 8.14, 8.15, 8.16, 8.17, 8.18, 8.19, 8.2, 8.21, 8.22, 8.23, 8.24, 8.25, 8.26, 8.27, 8.28, 8.290000000000001, 8.3, 8.31, 8.32, 8.33, 8.34, 8.35, 8.36, 8.370000000000001, 8.38, 8.39, 8.4, 8.41, 8.42, 8.43, 8.44, 8.45, 8.46, 8.47, 8.48, 8.49, 8.5, 8.51, 8.52, 8.53, 8.540000000000001, 8.55, 8.56, 8.57, 8.58, 8.59, 8.6, 8.61, 8.620000000000001, 8.63, 8.64, 8.65, 8.66, 8.67, 8.68, 8.69, 8.700000000000001, 8.71, 8.72, 8.73, 8.74, 8.75, 8.76, 8.77, 8.78, 8.790000000000001, 8.8, 8.81, 8.82, 8.83, 8.84, 8.85, 8.86, 8.870000000000001, 8.88, 8.89, 8.9, 8.91, 8.92, 8.93, 8.94, 8.950000000000001, 8.96, 8.97, 8.98, 8.99, 9.0, 9.01, 9.02, 9.03, 9.040000000000001, 9.05, 9.06, 9.07, 9.08, 9.09, 9.1, 9.11, 9.120000000000001, 9.13, 9.14, 9.15, 9.16, 9.17, 9.18, 9.19, 9.200000000000001, 9.21, 9.22, 9.23, 9.24, 9.25, 9.26, 9.27, 9.28, 9.290000000000001, 9.3, 9.31, 9.32, 9.33, 9.34, 9.35, 9.36, 9.370000000000001, 9.38, 9.39, 9.4, 9.41, 9.42, 9.43, 9.44, 9.450000000000001, 9.46, 9.47, 9.48, 9.49, 9.5, 9.51, 9.52, 9.53, 9.540000000000001, 9.55, 9.56, 9.57, 9.58, 9.59, 9.6, 9.61, 9.620000000000001, 9.63, 9.64, 9.65, 9.66, 9.67, 9.68, 9.69, 9.700000000000001, 9.71, 9.72, 9.73, 9.74, 9.75, 9.76, 9.77, 9.78, 9.790000000000001, 9.8, 9.81, 9.82, 9.83, 9.84, 9.85, 9.86, 9.870000000000001, 9.88, 9.89, 9.9, 9.91, 9.92, 9.93, 9.94, 9.950000000000001, 9.96, 9.97, 9.98, 9.99], \"y\": [7.373975797425469, 7.232103893511892, 7.092372296572659, 6.954750673387744, 6.819209108891675, 6.685718100484085, 6.554248552417228, 6.424771770259355, 6.297259455432988, 6.17168369982698, 6.04801698048149, 5.926232154344776, 5.806302453100946, 5.688201478067594, 5.571903195162532, 5.457381929938473, 5.344612362684995, 5.233569523596664, 5.124228788006583, 5.016565871684357, 4.910556826197716, 4.806178034336881, 4.703406205600816, 4.6022183717445415, 4.502591882386739, 4.404504400676764, 4.307933899020279, 4.212858654862748, 4.119257246529992, 4.027108549125055, 3.936391730480549, 3.8470862471658545, 3.759171840548315, 3.6726285329077775, 3.5874366236037294, 3.503576685294312, 3.4210295602065375, 3.339776356457001, 3.259798444422399, 3.1810774531592307, 3.1035952668719307, 3.0273340214288846, 2.952276100925579, 2.878404134294356, 2.805700991960021, 2.7341497825408227, 2.6637338495940606, 2.5944367684058256, 2.5262423428242, 2.4591346021353897, 2.3930977979821573, 2.328116401324035, 2.2641750994387144, 2.201258792964075, 2.139352592980306, 2.078441818131567, 2.018511991786678, 1.9595488392382685, 1.901538284939933, 1.844466449780803, 1.7883196483970956, 1.7330843865201055, 1.6787473583601482, 1.625295444025987, 1.5727157069792628, 1.5209953915234156, 1.4701219203267049, 1.4200828919787947, 1.3708660785804927, 1.3224594233661953, 1.274851038358571, 1.2280292020550734, 1.1819823571458428, 1.1366991082625728, 1.0921682197579239, 1.0483786135150748, 1.0053193667870008, 0.9629797100650772, 0.9213490249766245, 0.8804168422109753, 0.8401728394737151, 0.80060683946869, 0.761708807907407, 0.7234688515454804, 0.6858772162457296, 0.6489242850675851, 0.6126005763824451, 0.5768967420146311, 0.5418035654075917, 0.5073119598150313, 0.4734129665165878, 0.4400977530577892, 0.40735761151389505, 0.3751839567773452, 0.3435683248684831, 0.3125023712692312, 0.2819778692794206, 0.2519867083954652, 0.22252089271107156, 0.1935725393396972, 0.1651338768584525, 0.13719724377317322, 0.10975508700435088, 0.08279996039367021, 0.05632452323084691, 0.030321538800514025, 0.0047838729488707266, -0.020295507330168716, -0.04492353528958826, -0.06910704580490323, -0.09285277673107917, -0.1161673702409789, -0.13905737414559416, -0.16152924319630835, -0.18358934036942365, -0.20524393813321007, -0.22649921969769404, -0.24736128024743353, -0.2678361281575038, -0.2879296861929198, -0.30764779269172393, -0.32699620273195595, -0.34598058928272624, -0.3646065443396028, -0.3828795800445308, -0.40080512979048877, -0.41838854931108926, -0.43563511775532815, -0.45255003874768474, -0.4691384414337665, -0.4854053815117009, -0.5013558422494616, -0.5169947354883199, -0.5323269026326127, -0.5473571156260084, -0.5620900779144576, -0.5765304253960025, -0.590682727357631, -0.6045514873993426, -0.6181411443456064, -0.6314560731443777, -0.6445005857538414, -0.6572789320170538, -0.6697953005246371, -0.682053819465698, -0.694058557467124, -0.7058135244214176, -0.7173226723032226, -0.7285898959746937, -0.7396190339798665, -0.7504138693281683, -0.7609781302672259, -0.7713154910451081, -0.7814295726621497, -0.791323943612498, -0.8010021206155202, -0.8104675693372088, -0.8197237051017221, -0.8287738935931925, -0.8376214515479339, -0.8462696474371785, -0.8547217021404747, -0.8629807896098662, -0.8710500375249838, -0.8789325279391684, -0.8866312979167512, -0.8941493401616047, -0.901489603637091, -0.9086549941775159, -0.9156483750912112, -0.9224725677553527, -0.9291303522026305, -0.9356244676998801, -0.9419576133187819, -0.9481324484987415, -0.954151593602051, -0.9600176304614403, -0.9657331029201199, -0.9713005173644178, -0.9767223432491096, -0.9820010136155428, -0.9871389256026532, -0.9921384409509661, -0.9970018864996848, -1.0017315546769512, -1.0063297039833796, -1.010798559468949, -1.0151403132033487, -1.019357124739861, -1.0234511215728737, -1.0274243995891066, -1.0312790235126372, -1.03501702734381, -1.0386404147921136, -1.0421511597031063, -1.0455512064794712, -1.0488424704962815, -1.0520268385105533, -1.0551061690651655, -1.0580822928872207, -1.060957013280925, -1.0637321065150602, -1.0664093222051227, -1.0689903836901993, -1.0714769884046542, -1.0738708082446977, -1.0761734899299034, -1.078386655359745, -1.080511901965221, -1.0825508030556312, -1.084504908160574, -1.086375743367228, -1.0881648116529818, -1.089873593213477, -1.0915035457861246, -1.0930561049691574, -1.0945326845362806, -1.0959346767469778, -1.0972634526525331, -1.0985203623978286, -1.0997067355189718, -1.1008238812368136, -1.101873088746409, -1.1028556275024792, -1.103772747500926, -1.1046256795564573, -1.1054156355763696, -1.106143808830548, -1.1068113742177283, -1.1074194885280757, -1.1079692907021303, -1.1084619020861683, -1.1088984266840256, -1.109279951405437, -1.1096075463109338, -1.1098822648533488, -1.1101051441159757, -1.1102772050474263, -1.1103994526932324, -1.1104728764242364, -1.1104984501618143, -1.1104771325999734, -1.1104098674243696, -1.1102975835282831, -1.1101411952255988, -1.1099416024608257, -1.1096996910162022, -1.1094163327159239, -1.1090923856275319, -1.1087286942605037, -1.1083260897620835, -1.1078853901103878, -1.1074074003048264, -1.1068929125538747, -1.1063427064602303, -1.1057575492033955, -1.1051381957197173, -1.1044853888799169, -1.1037998596641507, -1.103082327334629, -1.1023334996058303, -1.1015540728123414, -1.1007447320743589, -1.09990615146088, -1.09903899415062, -1.0981439125906778, -1.0972215486529944, -1.0962725337886203, -1.095297489179831, -1.0942970258901175, -1.093271745012079, -1.0922222378132502, -1.0911490858798878, -1.0900528612587461, -1.0889341265968704, -1.087793435279432, -1.086631331565635, -1.0854483507227184, -1.0842450191580835, -1.0830218545495676, -1.0817793659738923, -1.0805180540333126, -1.079238410980487, -1.077940920841597, -1.076626059537741, -1.0752942950046191, -1.0739460873105418, -1.0725818887727794, -1.071202144072275, -1.069807290366748, -1.0683977574022043, -1.066973967622881, -1.065536336279641, -1.0640852715368447, -1.0626211745777154, -1.061144439708221, -1.0596554544594927, -1.058154599688799, -1.0566422496790973, -1.0551187722371806, -1.0535845287904397, -1.0520398744822599, -1.05048515826607, -1.048920722998064, -1.0473469055286118, -1.0457640367923788, -1.0441724418971692, -1.042572440211516, -1.0409643454510273, -1.0393484657635146, -1.0377251038129114, -1.036094556862007, -1.0344571168540042, -1.0328130704929233, -1.0311626993228633, -1.0295062798061414, -1.0278440834003204, -1.0261763766341443, -1.0245034211823931, -1.0228254739396774, -1.021142787093178, -1.0194556081943573, -1.0177641802296449, -1.0160687416901206, -1.0143695266402024, -1.0126667647853576, -1.0109606815388472, -1.0092514980875202, -1.007539431456667, -1.0058246945739495, -1.0041074963324166, -1.0023880416526194, -1.0006665315438399, -0.9989431631644429, -0.9972181298813654, -0.9954916213287536, -0.9937638234657606, -0.9920349186335171, -0.9903050856112836, -0.9885744996717986, -0.9868433326358328, -0.9851117529259598, -0.9833799256195541, -0.981648012501029, -0.9799161721133222, -0.9781845598086409, -0.9764533277984786, -0.9747226252029083, -0.9729925980991692, -0.9712633895695505, -0.9695351397485865, -0.9678079858695694, -0.9660820623103912, -0.9643575006387238, -0.9626344296565457, -0.9609129754440249, -0.9591932614027668, -0.9574754082984372, -0.9557595343027658, -0.954045755034943, -0.9523341836024154, -0.9506249306410894, -0.9489181043549519, -0.9472138105551143, -0.94551215269829, -0.9438132319247122, -0.942117147095499, -0.9404239948294759, -0.9387338695394601, -0.937046863468018, -0.9353630667226982, -0.9336825673107534, -0.9320054511733522, -0.9303318022192932, -0.9286617023582243, -0.9269952315333773, -0.9253324677538213, -0.9236734871262455, -0.9220183638862752, -0.9203671704293268, -0.9187199773410121, -0.9170768534270943, -0.9154378657430041, -0.9138030796229212, -0.9121725587084282, -0.910546364976741, -0.9089245587685246, -0.907307198815297, -0.9056943422664295, -0.9040860447157468, -0.9024823602277356, -0.9008833413633628, -0.8992890392055137, -0.8976995033840512, -0.8961147821005055, -0.8945349221523942, -0.8929599689571842, -0.8913899665758953, -0.8898249577363538, -0.8882649838560983, -0.8867100850649458, -0.8851603002272199, -0.8836156669636482, -0.8820762216729316, -0.8805419995529915, -0.8790130346218991, -0.8774893597384907, -0.8759710066226747, -0.8744580058754331, -0.8729503869985235, -0.8714481784138833, -0.8699514074827448, -0.8684601005244587, -0.8669742828350377, -0.8654939787054171, -0.8640192114394425, -0.8625500033715826, -0.8610863758843774, -0.8596283494256188, -0.8581759435252738, -0.8567291768121481, -0.8552880670302998, -0.8538526310551997, -0.8524228849096505, -0.8509988437794576, -0.8495805220288668, -0.8481679332157628, -0.8467610901066358, -0.8453600046913204, -0.8439646881975084, -0.8425751511050379, -0.8411914031599648, -0.8398134533884174, -0.8384413101102385, -0.8370749809524154, -0.8357144728623064, -0.8343597921206598, -0.8330109443544338, -0.831667934549418, -0.8303307670626583, -0.8289994456346903, -0.8276739734015826, -0.8263543529067927, -0.8250405861128386, -0.8237326744127882, -0.8224306186415705, -0.8211344190871095, -0.8198440755012834, -0.8185595871107136, -0.8172809526273835, -0.8160081702590914, -0.8147412377197383, -0.8134801522394541, -0.8122249105745653, -0.8109755090174031, -0.8097319434059594, -0.8084942091333873, -0.8072623011573528, -0.8060362140092379, -0.8048159418031962, -0.8036014782450664, -0.8023928166411427, -0.8011899499068038, -0.7999928705750079, -0.7988015708046471, -0.797616042388771, -0.7964362767626773, -0.7952622650118722, -0.7940939978799031, -0.7929314657760637, -0.7917746587829761, -0.79062356666405, -0.7894781788708197, -0.7883384845501635, -0.7872044725514045, -0.7860761314332972, -0.7849534494708983, -0.7838364146623265, -0.7827250147354109, -0.7816192371542314, -0.78051906912555, -0.7794244976051377, -0.7783355093039958, -0.777252090694476, -0.7761742280162977, -0.775101907282466, -0.7740351142850919, -0.7729738346011145, -0.7719180535979295, -0.7708677564389217, -0.7698229280889055, -0.7687835533194753, -0.7677496167142647, -0.7667211026741163, -0.7656979954221669, -0.7646802790088438, -0.7636679373167787, -0.7626609540656359, -0.7616593128168603, -0.7606629969783434, -0.7596719898090092, -0.7586862744233221, -0.7577058337957174, -0.7567306507649549, -0.7557607080383977, -0.7547959881962172, -0.7538364736955241, -0.7528821468744301, -0.751932989956035, -0.7509889850523477, -0.750050114168136, -0.7491163592047112, -0.7481877019636434, -0.7472641241504125, -0.7463456073779957, -0.7454321331703893, -0.7445236829660685, -0.7436202381213868, -0.7427217799139121, -0.7418282895457051, -0.7409397481465381, -0.7400561367770544, -0.7391774364318726, -0.7383036280426332, -0.7374346924809896, -0.7365706105615457, -0.7357113630447377, -0.7348569306396655, -0.7340072940068694, -0.7331624337610567, -0.7323223304737778, -0.7314869646760516, -0.7306563168609433, -0.7298303674860919, -0.7290090969761918, -0.7281924857254267, -0.7273805140998578, -0.7265731624397667, -0.725770411061952, -0.7249722402619849, -0.7241786303164185, -0.7233895614849563, -0.7226050140125773, -0.7218249681316216, -0.7210494040638329, -0.7202783020223631, -0.719511642213736, -0.7187494048397729, -0.7179915700994797, -0.7172381181908959, -0.716489029312908, -0.7157442836670247, -0.7150038614591163, -0.7142677429011213, -0.7135359082127142, -0.7128083376229427, -0.7120850113718289, -0.711365909711938, -0.7106510129099153, -0.709940301247989, -0.7092337550254437, -0.7085313545600611, -0.7078330801895307, -0.7071389122728305, -0.706448831191578, -0.7057628173513515, -0.7050808511829838, -0.7044029131438256, -0.7037289837189841, -0.7030590434225312, -0.7023930727986873, -0.7017310524229763, -0.7010729629033565, -0.7004187848813251, -0.6997684990329973, -0.6991220860701604, -0.6984795267413044, -0.6978408018326276, -0.6972058921690198, -0.6965747786150207, -0.6959474420757559, -0.695323863497852, -0.6947040238703276, -0.6940879042254628, -0.6934754856396492, -0.692866749234216, -0.6922616761762375, -0.6916602476793201, -0.6910624450043679, -0.6904682494603304, -0.6898776424049288, -0.6892906052453663, -0.6887071194390162, -0.688127166494094, -0.6875507279703102, -0.6869777854795069, -0.6864083206862743, -0.6858423153085524, -0.6852797511182154, -0.6847206099416373, -0.6841648736602449, -0.6836125242110516, -0.6830635435871761, -0.6825179138383479, -0.6819756170713934, -0.6814366354507111, -0.6809009511987294, -0.6803685465963509, -0.6798394039833833, -0.6793135057589539, -0.6787908343819131, -0.6782713723712233, -0.6777551023063337, -0.6772420068275434, -0.6767320686363512, -0.676225270495792, -0.6757215952307634, -0.6752210257283363, -0.6747235449380576, -0.6742291358722381, -0.6737377816062308, -0.6732494652786962, -0.6727641700918598, -0.6722818793117538, -0.6718025762684526, -0.6713262443562955, -0.6708528670340996, -0.6703824278253623, -0.669914910318455, -0.6694502981668049, -0.6689885750890701, -0.6685297248693023, -0.668073731357103, -0.6676205784677685, -0.6671702501824274, -0.6667227305481683, -0.6662780036781606, -0.6658360537517649, -0.6653968650146362, -0.6649604217788196, -0.6645267084228375, -0.6640957093917674, -0.6636674091973158, -0.6632417924178813, -0.6628188436986109, -0.6623985477514518, -0.661980889355192, -0.6615658533554971, -0.6611534246649398, -0.6607435882630207, -0.6603363291961861, -0.6599316325778362, -0.6595294835883284, -0.6591298674749753, -0.6587327695520344, -0.6583381752006952, -0.6579460698690566, -0.6575564390721025, -0.6571692683916689, -0.6567845434764072, -0.6564022500417418, -0.6560223738698225, -0.6556449008094716, -0.6552698167761262, -0.6548971077517758, -0.6545267597848953, -0.6541587589903721, -0.6537930915494299, -0.6534297437095484, -0.653068701784377, -0.6527099521536452, -0.6523534812630691, -0.6519992756242535, -0.6516473218145893, -0.6512976064771479, -0.6509501163205724, -0.6506048381189627, -0.6502617587117598, -0.6499208650036239, -0.6495821439643112, -0.6492455826285465, -0.648911168095891, -0.6485788875306098, -0.6482487281615343, -0.6479206772819208, -0.6475947222493084, -0.6472708504853724, -0.6469490494757741, -0.6466293067700111, -0.6463116099812596, -0.6459959467862197, -0.6456823049249543, -0.6453706722007264, -0.6450610364798348, -0.6447533856914465, -0.6444477078274266, -0.6441439909421673, -0.643842223152413, -0.6435423926370847, -0.6432444876371006, -0.6429484964551968, -0.6426544074557443, -0.6423622090645649, -0.6420718897687449, -0.6417834381164471, -0.6414968427167217, -0.6412120922393136, -0.6409291754144711, -0.6406480810327495, -0.6403687979448156, -0.6400913150612504, -0.6398156213523492, -0.6395417058479214, -0.6392695576370884, -0.6389991658680803, -0.6387305197480316, -0.6384636085427755, -0.6381984215766363, -0.6379349482322221, -0.6376731779502149, -0.6374131002291613, -0.6371547046252604, -0.6368979807521518, -0.6366429182807025, -0.636389506938793, -0.6361377365111021, -0.6358875968388913, -0.6356390778197878, -0.635392169407568, -0.6351468616119391, -0.6349031444983197, -0.634661008187622, -0.6344204428560302, -0.6341814387347805, -0.6339439861099408, -0.6337080753221878, -0.6334736967665855, -0.6332408408923627, -0.6330094982026895, -0.6327796592544542, -0.6325513146580397, -0.6323244550770986, -0.6320990712283294, -0.6318751538812513, -0.6316526938579797, -0.631431682033, -0.6312121093329429, -0.6309939667363584, -0.6307772452734901, -0.6305619360260484, -0.6303480301269857, -0.630135518760269, -0.6299243931606541, -0.6297146446134594, -0.6295062644543392, -0.629299244069057, -0.6290935748932601, -0.6288892484122519, -0.6286862561607669, -0.6284845897227435, -0.6282842407310982, -0.6280852008674997, -0.6278874618621426, -0.6276910154935219, -0.6274958535882074, -0.6273019680206179, -0.6271093507127964, -0.6269179936341849, -0.6267278888013995, -0.6265390282780059, -0.6263514041742949, -0.6261650086470588, -0.6259798338993676, -0.6257958721803449, -0.6256131157849454, -0.6254315570537321, -0.6252511883726537, -0.6250720021728225, -0.6248939909302926, -0.624717147165839, -0.6245414634447358, -0.6243669323765366, -0.624193546614854, -0.6240212988571398, -0.6238501818444658, -0.6236801883613053, -0.6235113112353146, -0.6233435433371148, -0.6231768775800752, -0.6230113069200957, -0.622846824355391, -0.6226834229262742, -0.6225210957149421, -0.62235983584526, -0.6221996364825475, -0.6220404908333645, -0.6218823921452992, -0.6217253337067541, -0.6215693088467347, -0.621414310934638, -0.6212603333800417, -0.6211073696324942, -0.6209554131813044, -0.6208044575553329, -0.6206544963227836, -0.6205055230909962, -0.6203575315062391, -0.6202105152535018, -0.6200644680562905, -0.6199193836764219, -0.6197752559138188, -0.6196320786063065, -0.6194898456294098, -0.6193485508961489, -0.6192081883568392, -0.6190687519988893, -0.6189302358466007, -0.6187926339609673, -0.6186559404394774, -0.6185201494159138, -0.6183852550601575, -0.6182512515779892, -0.618118133210894, -0.6179858942358651, -0.6178545289652096, -0.6177240317463535, -0.6175943969616482, -0.6174656190281782, -0.6173376923975693, -0.6172106115557963, -0.617084371022993, -0.6169589653532626, -0.6168343891344876, -0.6167106369881432, -0.6165877035691075, -0.6164655835654762, -0.6163442716983758, -0.6162237627217781, -0.6161040514223162, -0.6159851326190997, -0.6158670011635321, -0.6157496519391287, -0.6156330798613343, -0.6155172798773424, -0.6154022469659157, -0.6152879761372059, -0.6151744624325761, -0.6150617009244218, -0.6149496867159945, -0.6148384149412254, -0.6147278807645499, -0.6146180793807321, -0.6145090060146918, -0.6144006559213309, -0.6142930243853597, -0.6141861067211274, -0.6140798982724494, -0.6139743944124376, -0.6138695905433313, -0.6137654820963279, -0.6136620645314156, -0.6135593333372058, -0.6134572840307673, -0.6133559121574594, -0.6132552132907694, -0.6131551830321456, -0.6130558170108367, -0.6129571108837273, -0.6128590603351767, -0.6127616610768586, -0.6126649088475999, -0.6125687994132215, -0.6124733285663796, -0.6123784921264076, -0.6122842859391591, -0.6121907058768512, -0.6120977478379086, -0.6120054077468093, -0.6119136815539298, -0.6118225652353912, -0.6117320547929084, -0.6116421462536354, -0.6115528356700164, -0.6114641191196339, -0.6113759927050604, -0.6112884525537072, -0.6112014948176789, -0.6111151156736236, -0.6110293113225872, -0.6109440779898676, -0.6108594119248689, -0.6107753094009569, -0.6106917667153156, -0.6106087801888038, -0.610526346165813, -0.6104444610141257, -0.6103631211247744, -0.6102823229119018, -0.6102020628126203, -0.6101223372868753, -0.6100431428173045, -0.6099644759091031, -0.6098863330898859, -0.6098087109095516, -0.6097316059401477, -0.6096550147757365, -0.6095789340322603, -0.6095033603474098, -0.6094282903804905, -0.6093537208122919, -0.6092796483449561, -0.6092060697018475, -0.6091329816274242, -0.6090603808871077, -0.6089882642671559, -0.6089166285745353, -0.6088454706367936, -0.6087747873019345, -0.6087045754382919, -0.6086348319344054, -0.6085655536988953, -0.6084967376603404, -0.6084283807671548, -0.6083604799874655, -0.6082930323089916, -0.6082260347389232, -0.6081594843038014, -0.608093378049399, -0.6080277130406015, -0.6079624863612897, -0.6078976951142209, -0.6078333364209136, -0.6077694074215307, -0.6077059052747638, -0.6076428271577184, -0.6075801702658002, -0.6075179318126009, -0.6074561090297856, -0.6073946991669805, -0.6073336994916607, -0.6072731072890399, -0.6072129198619595, -0.6071531345307789, -0.6070937486332662, -0.6070347595244898, -0.6069761645767102, -0.6069179611792733, -0.6068601467385026, -0.6068027186775936, -0.6067456744365088, -0.6066890114718719, -0.6066327272568639, -0.606576819281119, -0.6065212850506223, -0.6064661220876064, -0.6064113279304496, -0.606356900133575, -0.606302836267349, -0.6062491339179817, -0.6061957906874268, -0.6061428041932829, -0.6060901720686951, -0.6060378919622562, -0.6059859615379106, -0.6059343784748565, -0.6058831404674507, -0.6058322452251117, -0.6057816904722253, -0.6057314739480505, -0.6056815934066244, -0.6056320466166695, -0.6055828313615009, -0.6055339454389332, -0.60548538666119, -0.6054371528548107, -0.6053892418605618, -0.6053416515333452, -0.6052943797421092, -0.6052474243697593, -0.6052007833130697, -0.6051544544825946, -0.6051084358025816, -0.6050627252108836, -0.605017320658873, -0.6049722201113555, -0.6049274215464846, -0.6048829229556762, -0.6048387223435252, -0.6047948177277196, -0.6047512071389592, -0.6047078886208711, -0.6046648602299277, -0.6046221200353651, -0.6045796661191002, -0.6045374965756517, -0.6044956095120579, -0.6044540030477976, -0.6044126753147099, -0.6043716244569155, -0.6043308486307382, -0.604290346004626, -0.6042501147590745, -0.6042101530865491, -0.6041704591914081, -0.604131031289827, -0.6040918676097219, -0.604052966390675, -0.6040143258838592, -0.6039759443519639, -0.6039378200691204, -0.6038999513208299, -0.6038623364038882, -0.6038249736263148, -0.6037878613072805, -0.6037509977770346, -0.6037143813768344, -0.6036780104588746, -0.6036418833862162, -0.6036059985327162, -0.6035703542829595, -0.6035349490321877, -0.6034997811862323, -0.6034648491614446, -0.6034301513846295, -0.6033956862929769, -0.6033614523339944, -0.6033274479654419, -0.6032936716552645, -0.6032601218815264, -0.6032267971323463, -0.6031936959058315, -0.6031608167100141, -0.6031281580627861, -0.603095718491836, -0.6030634965345851, -0.6030314907381248, -0.6029996996591535, -0.6029681218639145, -0.6029367559281342, -0.6029056004369612, -0.6028746539849035, -0.6028439151757696, -0.6028133826226072, -0.6027830549476435, -0.6027529307822254, -0.6027230087667602, -0.6026932875506574, -0.6026637657922694, -0.6026344421588334, -0.6026053153264146, -0.6025763839798476, -0.60254764681268, -0.6025191025271157, -0.602490749833958, -0.6024625874525547, -0.6024346141107414, -0.6024068285447864, -0.6023792294993365, -0.6023518157273619, -0.6023245859901014, -0.6022975390570093, -0.6022706737057021, -0.6022439887219037, -0.6022174828993945, -0.6021911550399571, -0.6021650039533256, -0.6021390284571323, -0.6021132273768568, -0.6020875995457752, -0.602062143804908, -0.6020368590029705, -0.6020117439963225, -0.6019867976489173, -0.6019620188322531, -0.6019374064253232, -0.6019129593145675, -0.6018886763938226, -0.6018645565642748, -0.601840598734411, -0.6018168018199713, -0.6017931647439017, -0.601769686436306, -0.6017463658344006, -0.6017232018824658, -0.601700193531801, -0.6016773397406787, -0.6016546394742979, -0.6016320917047391, -0.6016096954109191, -0.6015874495785467, -0.6015653532000774, -0.6015434052746695, -0.60152160480814, -0.6014999508129207, -0.6014784423080156, -0.6014570783189563, -0.6014358578777605, -0.6014147800228888, -0.6013938437992024, -0.6013730482579205]}],\n",
       "                        {\"template\": {\"data\": {\"bar\": [{\"error_x\": {\"color\": \"#2a3f5f\"}, \"error_y\": {\"color\": \"#2a3f5f\"}, \"marker\": {\"line\": {\"color\": \"#E5ECF6\", \"width\": 0.5}}, \"type\": \"bar\"}], \"barpolar\": [{\"marker\": {\"line\": {\"color\": \"#E5ECF6\", \"width\": 0.5}}, \"type\": \"barpolar\"}], \"carpet\": [{\"aaxis\": {\"endlinecolor\": \"#2a3f5f\", \"gridcolor\": \"white\", \"linecolor\": \"white\", \"minorgridcolor\": \"white\", \"startlinecolor\": \"#2a3f5f\"}, \"baxis\": {\"endlinecolor\": \"#2a3f5f\", \"gridcolor\": \"white\", \"linecolor\": \"white\", \"minorgridcolor\": \"white\", \"startlinecolor\": \"#2a3f5f\"}, \"type\": \"carpet\"}], \"choropleth\": [{\"colorbar\": {\"outlinewidth\": 0, \"ticks\": \"\"}, \"type\": \"choropleth\"}], \"contour\": [{\"colorbar\": {\"outlinewidth\": 0, \"ticks\": \"\"}, \"colorscale\": [[0.0, \"#0d0887\"], [0.1111111111111111, \"#46039f\"], [0.2222222222222222, \"#7201a8\"], [0.3333333333333333, \"#9c179e\"], [0.4444444444444444, \"#bd3786\"], [0.5555555555555556, \"#d8576b\"], [0.6666666666666666, \"#ed7953\"], [0.7777777777777778, \"#fb9f3a\"], [0.8888888888888888, \"#fdca26\"], [1.0, \"#f0f921\"]], \"type\": \"contour\"}], \"contourcarpet\": [{\"colorbar\": {\"outlinewidth\": 0, \"ticks\": \"\"}, \"type\": \"contourcarpet\"}], \"heatmap\": [{\"colorbar\": {\"outlinewidth\": 0, \"ticks\": \"\"}, \"colorscale\": [[0.0, \"#0d0887\"], [0.1111111111111111, \"#46039f\"], [0.2222222222222222, \"#7201a8\"], [0.3333333333333333, \"#9c179e\"], [0.4444444444444444, \"#bd3786\"], [0.5555555555555556, \"#d8576b\"], [0.6666666666666666, \"#ed7953\"], [0.7777777777777778, \"#fb9f3a\"], [0.8888888888888888, \"#fdca26\"], [1.0, \"#f0f921\"]], \"type\": \"heatmap\"}], \"heatmapgl\": [{\"colorbar\": {\"outlinewidth\": 0, \"ticks\": \"\"}, \"colorscale\": [[0.0, \"#0d0887\"], [0.1111111111111111, \"#46039f\"], [0.2222222222222222, \"#7201a8\"], [0.3333333333333333, \"#9c179e\"], [0.4444444444444444, \"#bd3786\"], [0.5555555555555556, \"#d8576b\"], [0.6666666666666666, \"#ed7953\"], [0.7777777777777778, \"#fb9f3a\"], [0.8888888888888888, \"#fdca26\"], [1.0, \"#f0f921\"]], \"type\": \"heatmapgl\"}], \"histogram\": [{\"marker\": {\"colorbar\": {\"outlinewidth\": 0, \"ticks\": \"\"}}, \"type\": \"histogram\"}], \"histogram2d\": [{\"colorbar\": {\"outlinewidth\": 0, \"ticks\": \"\"}, \"colorscale\": [[0.0, \"#0d0887\"], [0.1111111111111111, \"#46039f\"], [0.2222222222222222, \"#7201a8\"], [0.3333333333333333, \"#9c179e\"], [0.4444444444444444, \"#bd3786\"], [0.5555555555555556, \"#d8576b\"], [0.6666666666666666, \"#ed7953\"], [0.7777777777777778, \"#fb9f3a\"], [0.8888888888888888, \"#fdca26\"], [1.0, \"#f0f921\"]], \"type\": \"histogram2d\"}], \"histogram2dcontour\": [{\"colorbar\": {\"outlinewidth\": 0, \"ticks\": \"\"}, \"colorscale\": [[0.0, \"#0d0887\"], [0.1111111111111111, \"#46039f\"], [0.2222222222222222, \"#7201a8\"], [0.3333333333333333, \"#9c179e\"], [0.4444444444444444, \"#bd3786\"], [0.5555555555555556, \"#d8576b\"], [0.6666666666666666, \"#ed7953\"], [0.7777777777777778, \"#fb9f3a\"], [0.8888888888888888, \"#fdca26\"], [1.0, \"#f0f921\"]], \"type\": \"histogram2dcontour\"}], \"mesh3d\": [{\"colorbar\": {\"outlinewidth\": 0, \"ticks\": \"\"}, \"type\": \"mesh3d\"}], \"parcoords\": [{\"line\": {\"colorbar\": {\"outlinewidth\": 0, \"ticks\": \"\"}}, \"type\": \"parcoords\"}], \"scatter\": [{\"marker\": {\"colorbar\": {\"outlinewidth\": 0, \"ticks\": \"\"}}, \"type\": \"scatter\"}], \"scatter3d\": [{\"line\": {\"colorbar\": {\"outlinewidth\": 0, \"ticks\": \"\"}}, \"marker\": {\"colorbar\": {\"outlinewidth\": 0, \"ticks\": \"\"}}, \"type\": \"scatter3d\"}], \"scattercarpet\": [{\"marker\": {\"colorbar\": {\"outlinewidth\": 0, \"ticks\": \"\"}}, \"type\": \"scattercarpet\"}], \"scattergeo\": [{\"marker\": {\"colorbar\": {\"outlinewidth\": 0, \"ticks\": \"\"}}, \"type\": \"scattergeo\"}], \"scattergl\": [{\"marker\": {\"colorbar\": {\"outlinewidth\": 0, \"ticks\": \"\"}}, \"type\": \"scattergl\"}], \"scattermapbox\": [{\"marker\": {\"colorbar\": {\"outlinewidth\": 0, \"ticks\": \"\"}}, \"type\": \"scattermapbox\"}], \"scatterpolar\": [{\"marker\": {\"colorbar\": {\"outlinewidth\": 0, \"ticks\": \"\"}}, \"type\": \"scatterpolar\"}], \"scatterpolargl\": [{\"marker\": {\"colorbar\": {\"outlinewidth\": 0, \"ticks\": \"\"}}, \"type\": \"scatterpolargl\"}], \"scatterternary\": [{\"marker\": {\"colorbar\": {\"outlinewidth\": 0, \"ticks\": \"\"}}, \"type\": \"scatterternary\"}], \"surface\": [{\"colorbar\": {\"outlinewidth\": 0, \"ticks\": \"\"}, \"colorscale\": [[0.0, \"#0d0887\"], [0.1111111111111111, \"#46039f\"], [0.2222222222222222, \"#7201a8\"], [0.3333333333333333, \"#9c179e\"], [0.4444444444444444, \"#bd3786\"], [0.5555555555555556, \"#d8576b\"], [0.6666666666666666, \"#ed7953\"], [0.7777777777777778, \"#fb9f3a\"], [0.8888888888888888, \"#fdca26\"], [1.0, \"#f0f921\"]], \"type\": \"surface\"}], \"table\": [{\"cells\": {\"fill\": {\"color\": \"#EBF0F8\"}, \"line\": {\"color\": \"white\"}}, \"header\": {\"fill\": {\"color\": \"#C8D4E3\"}, \"line\": {\"color\": \"white\"}}, \"type\": \"table\"}]}, \"layout\": {\"annotationdefaults\": {\"arrowcolor\": \"#2a3f5f\", \"arrowhead\": 0, \"arrowwidth\": 1}, \"colorscale\": {\"diverging\": [[0, \"#8e0152\"], [0.1, \"#c51b7d\"], [0.2, \"#de77ae\"], [0.3, \"#f1b6da\"], [0.4, \"#fde0ef\"], [0.5, \"#f7f7f7\"], [0.6, \"#e6f5d0\"], [0.7, \"#b8e186\"], [0.8, \"#7fbc41\"], [0.9, \"#4d9221\"], [1, \"#276419\"]], \"sequential\": [[0.0, \"#0d0887\"], [0.1111111111111111, \"#46039f\"], [0.2222222222222222, \"#7201a8\"], [0.3333333333333333, \"#9c179e\"], [0.4444444444444444, \"#bd3786\"], [0.5555555555555556, \"#d8576b\"], [0.6666666666666666, \"#ed7953\"], [0.7777777777777778, \"#fb9f3a\"], [0.8888888888888888, \"#fdca26\"], [1.0, \"#f0f921\"]], \"sequentialminus\": [[0.0, \"#0d0887\"], [0.1111111111111111, \"#46039f\"], [0.2222222222222222, \"#7201a8\"], [0.3333333333333333, \"#9c179e\"], [0.4444444444444444, \"#bd3786\"], [0.5555555555555556, \"#d8576b\"], [0.6666666666666666, \"#ed7953\"], [0.7777777777777778, \"#fb9f3a\"], [0.8888888888888888, \"#fdca26\"], [1.0, \"#f0f921\"]]}, \"colorway\": [\"#636efa\", \"#EF553B\", \"#00cc96\", \"#ab63fa\", \"#FFA15A\", \"#19d3f3\", \"#FF6692\", \"#B6E880\", \"#FF97FF\", \"#FECB52\"], \"font\": {\"color\": \"#2a3f5f\"}, \"geo\": {\"bgcolor\": \"white\", \"lakecolor\": \"white\", \"landcolor\": \"#E5ECF6\", \"showlakes\": true, \"showland\": true, \"subunitcolor\": \"white\"}, \"hoverlabel\": {\"align\": \"left\"}, \"hovermode\": \"closest\", \"mapbox\": {\"style\": \"light\"}, \"paper_bgcolor\": \"white\", \"plot_bgcolor\": \"#E5ECF6\", \"polar\": {\"angularaxis\": {\"gridcolor\": \"white\", \"linecolor\": \"white\", \"ticks\": \"\"}, \"bgcolor\": \"#E5ECF6\", \"radialaxis\": {\"gridcolor\": \"white\", \"linecolor\": \"white\", \"ticks\": \"\"}}, \"scene\": {\"xaxis\": {\"backgroundcolor\": \"#E5ECF6\", \"gridcolor\": \"white\", \"gridwidth\": 2, \"linecolor\": \"white\", \"showbackground\": true, \"ticks\": \"\", \"zerolinecolor\": \"white\"}, \"yaxis\": {\"backgroundcolor\": \"#E5ECF6\", \"gridcolor\": \"white\", \"gridwidth\": 2, \"linecolor\": \"white\", \"showbackground\": true, \"ticks\": \"\", \"zerolinecolor\": \"white\"}, \"zaxis\": {\"backgroundcolor\": \"#E5ECF6\", \"gridcolor\": \"white\", \"gridwidth\": 2, \"linecolor\": \"white\", \"showbackground\": true, \"ticks\": \"\", \"zerolinecolor\": \"white\"}}, \"shapedefaults\": {\"line\": {\"color\": \"#2a3f5f\"}}, \"ternary\": {\"aaxis\": {\"gridcolor\": \"white\", \"linecolor\": \"white\", \"ticks\": \"\"}, \"baxis\": {\"gridcolor\": \"white\", \"linecolor\": \"white\", \"ticks\": \"\"}, \"bgcolor\": \"#E5ECF6\", \"caxis\": {\"gridcolor\": \"white\", \"linecolor\": \"white\", \"ticks\": \"\"}}, \"title\": {\"x\": 0.05}, \"xaxis\": {\"automargin\": true, \"gridcolor\": \"white\", \"linecolor\": \"white\", \"ticks\": \"\", \"zerolinecolor\": \"white\", \"zerolinewidth\": 2}, \"yaxis\": {\"automargin\": true, \"gridcolor\": \"white\", \"linecolor\": \"white\", \"ticks\": \"\", \"zerolinecolor\": \"white\", \"zerolinewidth\": 2}}}},\n",
       "                        {\"responsive\": true}\n",
       "                    ).then(function(){\n",
       "                            \n",
       "var gd = document.getElementById('baaebfef-df17-4240-a3c5-004f39442c9a');\n",
       "var x = new MutationObserver(function (mutations, observer) {{\n",
       "        var display = window.getComputedStyle(gd).display;\n",
       "        if (!display || display === 'none') {{\n",
       "            console.log([gd, 'removed!']);\n",
       "            Plotly.purge(gd);\n",
       "            observer.disconnect();\n",
       "        }}\n",
       "}});\n",
       "\n",
       "// Listen for the removal of the full notebook cells\n",
       "var notebookContainer = gd.closest('#notebook-container');\n",
       "if (notebookContainer) {{\n",
       "    x.observe(notebookContainer, {childList: true});\n",
       "}}\n",
       "\n",
       "// Listen for the clearing of the current output cell\n",
       "var outputEl = gd.closest('.output');\n",
       "if (outputEl) {{\n",
       "    x.observe(outputEl, {childList: true});\n",
       "}}\n",
       "\n",
       "                        })\n",
       "                };\n",
       "                });\n",
       "            </script>\n",
       "        </div>"
      ]
     },
     "metadata": {},
     "output_type": "display_data"
    }
   ],
   "source": [
    "#create a curve fitted morsePotential of the data\n",
    "#uses the least squares method to fit the potential via SciPy\n",
    "def morsePotential(r, r0, a, D, c):\n",
    "    \n",
    "    return D*pow(1 - np.exp(-a*(r-r0)), 2) + c\n",
    "    #return D * np.exp(-2*a*(r-r0)) - 2*D*np.exp(-a*(r-r0)) + c \n",
    "    ##return a0 * (a1 * (r - r0) + a2 * pow((r - r0), 2) + a3 * pow(r-r0, 3)) + a4\n",
    "    #return (a1 * np.exp(-2 * a2 * ( r - r0)) - (2 * a1 * np.exp(-a2 * ( r - r0)))) + c\n",
    "    #return (a1 * np.exp(-a2 * r) * (1 - (a3*r))) - (a4 / (pow(r,6) + (a5*pow(r,-6)))) \n",
    "    #return A - (D*( 1 + a1*(r-r0) + a2*pow((r-r0),2) + a3*pow(r-r0, 3) ) * np.exp(-a1*(r-r0)))\n",
    "    #return  - D*( 1 + a*(r-r0)  ) * np.exp(-a*(r-r0)) + c\n",
    "\n",
    "#Optimize the morse potential to the Hartree-Fock computed potential\n",
    "popt, pcov = optimize.curve_fit(morsePotential, R, E)\n",
    "\n",
    "minEIndex = E.index(min(E))\n",
    "minE = E.copy().pop(minEIndex)\n",
    "optimalR = R.copy().pop(minEIndex)\n",
    "\n",
    "dx = 0.01\n",
    "figure = { \n",
    "    \"data\": [\n",
    "        \n",
    "        #create the Hartree-Fock generated Potential Energy Surface\n",
    "        {\n",
    "            \"type\":\"scatter\",\n",
    "            \"x\":[x*dx for x in range(-100,1000)],\n",
    "            \"y\":[morsePotential(x*dx, popt[0], popt[1], popt[2], popt[3]) for x in range(-100,1000)],\n",
    "            \"connectgaps\":False,\n",
    "            \"mode\":\"markers\", \n",
    "            \"name\":\"Hartree-Fock Computed\",\n",
    "            \"marker\":{\"color\":\"blue\"}\n",
    "        },\n",
    "    ]\n",
    "}\n",
    "iplot(figure)"
   ]
  },
  {
   "cell_type": "code",
   "execution_count": 10,
   "metadata": {},
   "outputs": [
    {
     "name": "stdout",
     "output_type": "stream",
     "text": [
      "0.020052\n",
      "********************\n",
      "\n",
      "Overlap Matrix: \n",
      "\n",
      "[[0. 0.]\n",
      " [0. 0.]]\n",
      "\n",
      "****************************************\n",
      "\n",
      "V\n",
      "\n",
      "[[0.99358125 0.23073467]\n",
      " [0.23073467 1.02074374]]\n",
      "\n",
      "****************************************\n",
      "\n",
      "T\n",
      "\n",
      "[[-0.51639544 -0.13839789]\n",
      " [-1.05129172 -0.63608568]]\n",
      "\n",
      "****************************************\n",
      "\n",
      "[[ 0.4771858   0.09233678]\n",
      " [-0.82055706  0.38465806]]\n",
      "\n",
      "[(0.43092192948894703-0.2713434150061411j), (0.43092192948894703+0.2713434150061411j)]\n",
      "2\n"
     ]
    },
    {
     "name": "stderr",
     "output_type": "stream",
     "text": [
      "A:\\Apps\\Anaconda\\lib\\site-packages\\ipykernel_launcher.py:76: IntegrationWarning:\n",
      "\n",
      "The integral is probably divergent, or slowly convergent.\n",
      "\n"
     ]
    }
   ],
   "source": [
    "def morsePotential(r, r0, a, D, c):\n",
    "    return 0.5 * 1 * pow(r, 2)\n",
    "\n",
    "#def morsePotential(r, r0, a, D, c):\n",
    "#    return 0.5 * 1 * pow(r, 2)\n",
    "\n",
    "#u refers to the reduced mass of the diatomic molecule in Hartree Atomic Units\n",
    "#The mass of a proton is 1836 a.u.\n",
    "u = (1836*1836)/(1836 + 1836)\n",
    "\n",
    "#w = 1 / ((1 / (2 * math.pi) ) * math.sqrt( 2 * popt[2] * pow(popt[1], 1) ))\n",
    "#w = popt[1] / ( math.pi * math.sqrt( 2 * u / popt[2] ) ) \n",
    "#w = math.sqrt( 2 * pow(popt[1], 2) * popt[2] / u1 ) \n",
    "#w = 0.015\n",
    "w = 0.020052 # in Hartrees\n",
    "#w = 0.02\n",
    "\n",
    "print(w)\n",
    "print(\"*\"*20)\n",
    "\n",
    "re = 1.4\n",
    "\n",
    "#returns the optimal bond distance for the diatomic molecule\n",
    "def r0f(n):\n",
    "    return 1.4\n",
    "\n",
    "#Returns a lambda function of the nth hermite polynomial\n",
    "def hermite(n, k):\n",
    "    \n",
    "    c = pow(-1, k) * math.factorial(n) / ( math.factorial(k) * math.factorial(n - 2*k) )\n",
    "        \n",
    "    if(k == 0):\n",
    "        return lambda r : c * pow(2*math.sqrt(u*w)*( (r-r0f(n))), n-(2*k))\n",
    "    else:\n",
    "        return lambda r : c * pow(2*math.sqrt(u*w)*( (r-r0f(n))), n-(2*k)) + hermite(n, k-1)(r)\n",
    "\n",
    "#Constructs the nth hermite polynomial function, and returns the specified lambda function\n",
    "def buildHermite(n):\n",
    "    return hermite(n, n // 2)\n",
    "\n",
    "#returns the normalization constant for the Harmonic Oscillator Function\n",
    "def C(n):    \n",
    "    return math.sqrt( math.sqrt(u*w) /  (pow(2, n) * math.factorial(n) * np.sqrt(math.pi ) ) ) \n",
    "\n",
    "#Creates a new Harmonic Oscillator function\n",
    "#and returns it as a lambda function\n",
    "def newHO(n):\n",
    "    return lambda r : C(n) * buildHermite(n)(r) * np.exp(-u * w * pow((r-r0f(0)),2) / 2)  \n",
    "\n",
    "basisSize = 2\n",
    "\n",
    "#Set up all variables used for the integral computation\n",
    "basisSet = []\n",
    "S = np.zeros([basisSize, basisSize])\n",
    "V = np.zeros([basisSize, basisSize])\n",
    "T = np.zeros([basisSize, basisSize])\n",
    "T2 = np.zeros([basisSize, basisSize])\n",
    "\n",
    "Tints = []\n",
    "Vints = []\n",
    "\n",
    "#Build the basis Fucntions\n",
    "for i in range(basisSize):\n",
    "    basisSet.append( newHO(i) )\n",
    "    \n",
    "#Verify orthonormality of the basis set\n",
    "for i in range(basisSize):\n",
    "    for j in range(basisSize):\n",
    "        \n",
    "        integrand = lambda r : basisSet[i](r) * (morsePotential(r, popt[0], popt[1], popt[2], popt[3] )) * basisSet[j](r)\n",
    "        \n",
    "        V[i, j] += integrate.quad( integrand, -10, 10)[0]#, limit=10000, epsabs=pow(10, -50), epsrel=pow(10, -30))[0]\n",
    "\n",
    "        integrand2 = lambda r : basisSet[i](r) * (-1/(2*u)) * ddx(basisSet[j], r, n=2, dx=pow(10,-10)) \n",
    "\n",
    "        T[i, j] += integrate.quad(integrand2, -10, 10)[0]\n",
    "    \n",
    "        Tints.append(integrand2)\n",
    "        Vints.append(integrand)\n",
    "\n",
    "print()\n",
    "print(\"Overlap Matrix: \")\n",
    "print()\n",
    "print(S)\n",
    "print()\n",
    "print(\"*\" * 40)\n",
    "print()\n",
    "\n",
    "print(\"V\")\n",
    "print()\n",
    "print(V)\n",
    "print()\n",
    "print(\"*\"*40)\n",
    "print()\n",
    "\n",
    "print(\"T\")\n",
    "print()\n",
    "print(T)\n",
    "print()\n",
    "print(\"*\" * 40)\n",
    "print()\n",
    "\n",
    "H = T + V\n",
    "\n",
    "print(H)\n",
    "print()\n",
    "\n",
    "EHO = sorted(np.linalg.eig(H)[0])\n",
    "print(EHO)\n",
    "\n",
    "print(len(basisSet))"
   ]
  },
  {
   "cell_type": "code",
   "execution_count": 11,
   "metadata": {},
   "outputs": [
    {
     "data": {
      "application/vnd.plotly.v1+json": {
       "config": {
        "linkText": "Export to plot.ly",
        "plotlyServerURL": "https://plot.ly",
        "showLink": false
       },
       "data": [
        {
         "connectgaps": false,
         "marker": {
          "color": "blue"
         },
         "mode": "markers",
         "name": "Hartree-Fock Computed",
         "type": "scatter",
         "x": [
          0.85,
          0.95,
          1.05,
          1.1500000000000001,
          1.2500000000000002,
          1.3500000000000003,
          1.4500000000000004,
          1.5500000000000005,
          1.6500000000000006,
          1.7500000000000007,
          1.8500000000000008,
          1.9500000000000008,
          2.0500000000000007,
          2.150000000000001,
          2.250000000000001,
          2.350000000000001,
          2.450000000000001,
          2.550000000000001,
          2.6500000000000012,
          2.7500000000000013,
          2.8500000000000014,
          2.9500000000000015,
          3.0500000000000016,
          3.1500000000000017,
          3.2500000000000018,
          3.350000000000002,
          3.450000000000002,
          3.550000000000002,
          3.650000000000002,
          3.750000000000002,
          3.8500000000000023,
          3.9500000000000024,
          4.0500000000000025,
          4.150000000000002,
          4.250000000000002,
          4.350000000000001,
          4.450000000000001,
          4.550000000000001,
          4.65,
          4.75,
          4.85,
          4.949999999999999,
          5.049999999999999,
          5.149999999999999,
          5.249999999999998,
          5.349999999999998,
          5.4499999999999975,
          5.549999999999997,
          5.649999999999997,
          5.7499999999999964,
          5.849999999999996,
          5.949999999999996,
          6.049999999999995,
          6.149999999999995,
          6.249999999999995,
          6.349999999999994,
          6.449999999999994,
          6.549999999999994,
          6.649999999999993,
          6.749999999999993,
          6.8499999999999925,
          6.949999999999992,
          7.049999999999992,
          7.1499999999999915,
          7.249999999999991,
          7.349999999999991,
          7.44999999999999,
          7.54999999999999,
          7.64999999999999,
          7.749999999999989,
          7.849999999999989,
          7.949999999999989,
          8.049999999999988,
          8.149999999999988,
          8.249999999999988,
          8.349999999999987,
          8.449999999999987,
          8.549999999999986,
          8.649999999999986,
          8.749999999999986,
          8.849999999999985,
          8.949999999999985,
          9.049999999999985,
          9.149999999999984,
          9.249999999999984,
          9.349999999999984,
          9.449999999999983,
          9.549999999999983,
          9.649999999999983,
          9.749999999999982,
          9.849999999999982,
          9.949999999999982
         ],
         "y": [
          -0.9872432454803035,
          -1.0453969655059847,
          -1.0821565708110161,
          -1.103796753017444,
          -1.1145784427493424,
          -1.1175011357098212,
          -1.1147199297328392,
          -1.1077934352702428,
          -1.0978475449672567,
          -1.0856948732828646,
          -1.0719260573400924,
          -1.0569788311272152,
          -1.0411878362347846,
          -1.024818237706964,
          -1.0080868562895131,
          -0.9911746561330028,
          -0.9742339153450772,
          -0.9573925338546116,
          -0.9407570242952678,
          -0.9244149977146469,
          -0.9084374692105319,
          -0.8928810455280846,
          -0.8777899519511231,
          -0.8631978417352622,
          -0.8491293564793958,
          -0.8356014389265934,
          -0.8226244256622813,
          -0.810202961371111,
          -0.798336779522113,
          -0.7870213895823506,
          -0.7762487015303117,
          -0.7660076075315303,
          -0.7562845303720597,
          -0.7470639400287579,
          -0.7383288342591737,
          -0.7300611763905993,
          -0.722242283221872,
          -0.7148531575123458,
          -0.7078747622124064,
          -0.7012882367095286,
          -0.695075058358834,
          -0.6892171550344235,
          -0.6836969761469257,
          -0.6784975304500585,
          -0.673602399055011,
          -0.6689957315208674,
          -0.6646622318713643,
          -0.6605871400927623,
          -0.6567562132691045,
          -0.6531557091529432,
          -0.649772373755926,
          -0.6465934335388133,
          -0.643606592013203,
          -0.6408000300372642,
          -0.6381624087741788,
          -0.6356828741509019,
          -0.63335106166636,
          -0.6311571005117215,
          -0.6290916161434486,
          -0.6271457306604598,
          -0.6253110605545057,
          -0.6235797116090818,
          -0.6219442709043848,
          -0.620397796036906,
          -0.618933801779371,
          -0.6175462444903363,
          -0.6162295046354332,
          -0.614978367807989,
          -0.6137880046402611,
          -0.6126539499825411,
          -0.611572081700585,
          -0.6105385994063086,
          -0.6095500033960606,
          -0.6086030740279442,
          -0.6076948517269727,
          -0.6068226177659738,
          -0.6059838759323805,
          -0.6051763351571067,
          -0.6043978931520136,
          -0.6036466210771917,
          -0.6029207492382912,
          -0.6022186537972432,
          -0.6015388444665157,
          -0.6008799531472326,
          -0.6002407234645102,
          -0.599620001148907,
          -0.599016725210432,
          -0.5984299198507748,
          -0.5978586870599323,
          -0.5973021998448994,
          -0.5967596960402942,
          -0.5962304726534765
         ]
        },
        {
         "marker": {
          "color": "red"
         },
         "name": "Optimal Bond Distance",
         "type": "scatter",
         "x": [
          1.3500000000000003
         ],
         "y": [
          -1.1175011357098212
         ]
        },
        {
         "connectgaps": false,
         "marker": {
          "color": "green"
         },
         "name": "Morse Potential Approximation",
         "type": "scatter",
         "x": [
          -1,
          -0.99,
          -0.98,
          -0.97,
          -0.96,
          -0.9500000000000001,
          -0.9400000000000001,
          -0.93,
          -0.92,
          -0.91,
          -0.9,
          -0.89,
          -0.88,
          -0.87,
          -0.86,
          -0.85,
          -0.84,
          -0.8300000000000001,
          -0.8200000000000001,
          -0.81,
          -0.8,
          -0.79,
          -0.78,
          -0.77,
          -0.76,
          -0.75,
          -0.74,
          -0.73,
          -0.72,
          -0.71,
          -0.7000000000000001,
          -0.6900000000000001,
          -0.68,
          -0.67,
          -0.66,
          -0.65,
          -0.64,
          -0.63,
          -0.62,
          -0.61,
          -0.6,
          -0.59,
          -0.58,
          -0.5700000000000001,
          -0.56,
          -0.55,
          -0.54,
          -0.53,
          -0.52,
          -0.51,
          -0.5,
          -0.49,
          -0.48,
          -0.47000000000000003,
          -0.46,
          -0.45,
          -0.44,
          -0.43,
          -0.42,
          -0.41000000000000003,
          -0.4,
          -0.39,
          -0.38,
          -0.37,
          -0.36,
          -0.35000000000000003,
          -0.34,
          -0.33,
          -0.32,
          -0.31,
          -0.3,
          -0.29,
          -0.28,
          -0.27,
          -0.26,
          -0.25,
          -0.24,
          -0.23,
          -0.22,
          -0.21,
          -0.2,
          -0.19,
          -0.18,
          -0.17,
          -0.16,
          -0.15,
          -0.14,
          -0.13,
          -0.12,
          -0.11,
          -0.1,
          -0.09,
          -0.08,
          -0.07,
          -0.06,
          -0.05,
          -0.04,
          -0.03,
          -0.02,
          -0.01,
          0,
          0.01,
          0.02,
          0.03,
          0.04,
          0.05,
          0.06,
          0.07,
          0.08,
          0.09,
          0.1,
          0.11,
          0.12,
          0.13,
          0.14,
          0.15,
          0.16,
          0.17,
          0.18,
          0.19,
          0.2,
          0.21,
          0.22,
          0.23,
          0.24,
          0.25,
          0.26,
          0.27,
          0.28,
          0.29,
          0.3,
          0.31,
          0.32,
          0.33,
          0.34,
          0.35000000000000003,
          0.36,
          0.37,
          0.38,
          0.39,
          0.4,
          0.41000000000000003,
          0.42,
          0.43,
          0.44,
          0.45,
          0.46,
          0.47000000000000003,
          0.48,
          0.49,
          0.5,
          0.51,
          0.52,
          0.53,
          0.54,
          0.55,
          0.56,
          0.5700000000000001,
          0.58,
          0.59,
          0.6,
          0.61,
          0.62,
          0.63,
          0.64,
          0.65,
          0.66,
          0.67,
          0.68,
          0.6900000000000001,
          0.7000000000000001,
          0.71,
          0.72,
          0.73,
          0.74,
          0.75,
          0.76,
          0.77,
          0.78,
          0.79,
          0.8,
          0.81,
          0.8200000000000001,
          0.8300000000000001,
          0.84,
          0.85,
          0.86,
          0.87,
          0.88,
          0.89,
          0.9,
          0.91,
          0.92,
          0.93,
          0.9400000000000001,
          0.9500000000000001,
          0.96,
          0.97,
          0.98,
          0.99,
          1,
          1.01,
          1.02,
          1.03,
          1.04,
          1.05,
          1.06,
          1.07,
          1.08,
          1.09,
          1.1,
          1.11,
          1.12,
          1.1300000000000001,
          1.1400000000000001,
          1.1500000000000001,
          1.16,
          1.17,
          1.18,
          1.19,
          1.2,
          1.21,
          1.22,
          1.23,
          1.24,
          1.25,
          1.26,
          1.27,
          1.28,
          1.29,
          1.3,
          1.31,
          1.32,
          1.33,
          1.34,
          1.35,
          1.36,
          1.37,
          1.3800000000000001,
          1.3900000000000001,
          1.4000000000000001,
          1.41,
          1.42,
          1.43,
          1.44,
          1.45,
          1.46,
          1.47,
          1.48,
          1.49,
          1.5,
          1.51,
          1.52,
          1.53,
          1.54,
          1.55,
          1.56,
          1.57,
          1.58,
          1.59,
          1.6,
          1.61,
          1.62,
          1.6300000000000001,
          1.6400000000000001,
          1.6500000000000001,
          1.6600000000000001,
          1.67,
          1.68,
          1.69,
          1.7,
          1.71,
          1.72,
          1.73,
          1.74,
          1.75,
          1.76,
          1.77,
          1.78,
          1.79,
          1.8,
          1.81,
          1.82,
          1.83,
          1.84,
          1.85,
          1.86,
          1.87,
          1.8800000000000001,
          1.8900000000000001,
          1.9000000000000001,
          1.9100000000000001,
          1.92,
          1.93,
          1.94,
          1.95,
          1.96,
          1.97,
          1.98,
          1.99,
          2,
          2.0100000000000002,
          2.02,
          2.0300000000000002,
          2.04,
          2.05,
          2.06,
          2.07,
          2.08,
          2.09,
          2.1,
          2.11,
          2.12,
          2.13,
          2.14,
          2.15,
          2.16,
          2.17,
          2.18,
          2.19,
          2.2,
          2.21,
          2.22,
          2.23,
          2.24,
          2.25,
          2.2600000000000002,
          2.27,
          2.2800000000000002,
          2.29,
          2.3000000000000003,
          2.31,
          2.32,
          2.33,
          2.34,
          2.35,
          2.36,
          2.37,
          2.38,
          2.39,
          2.4,
          2.41,
          2.42,
          2.43,
          2.44,
          2.45,
          2.46,
          2.47,
          2.48,
          2.49,
          2.5,
          2.5100000000000002,
          2.52,
          2.5300000000000002,
          2.54,
          2.5500000000000003,
          2.56,
          2.57,
          2.58,
          2.59,
          2.6,
          2.61,
          2.62,
          2.63,
          2.64,
          2.65,
          2.66,
          2.67,
          2.68,
          2.69,
          2.7,
          2.71,
          2.72,
          2.73,
          2.74,
          2.75,
          2.7600000000000002,
          2.77,
          2.7800000000000002,
          2.79,
          2.8000000000000003,
          2.81,
          2.82,
          2.83,
          2.84,
          2.85,
          2.86,
          2.87,
          2.88,
          2.89,
          2.9,
          2.91,
          2.92,
          2.93,
          2.94,
          2.95,
          2.96,
          2.97,
          2.98,
          2.99,
          3,
          3.0100000000000002,
          3.02,
          3.0300000000000002,
          3.04,
          3.0500000000000003,
          3.06,
          3.0700000000000003,
          3.08,
          3.09,
          3.1,
          3.11,
          3.12,
          3.13,
          3.14,
          3.15,
          3.16,
          3.17,
          3.18,
          3.19,
          3.2,
          3.21,
          3.22,
          3.23,
          3.24,
          3.25,
          3.2600000000000002,
          3.27,
          3.2800000000000002,
          3.29,
          3.3000000000000003,
          3.31,
          3.3200000000000003,
          3.33,
          3.34,
          3.35,
          3.36,
          3.37,
          3.38,
          3.39,
          3.4,
          3.41,
          3.42,
          3.43,
          3.44,
          3.45,
          3.46,
          3.47,
          3.48,
          3.49,
          3.5,
          3.5100000000000002,
          3.52,
          3.5300000000000002,
          3.54,
          3.5500000000000003,
          3.56,
          3.5700000000000003,
          3.58,
          3.59,
          3.6,
          3.61,
          3.62,
          3.63,
          3.64,
          3.65,
          3.66,
          3.67,
          3.68,
          3.69,
          3.7,
          3.71,
          3.72,
          3.73,
          3.74,
          3.75,
          3.7600000000000002,
          3.77,
          3.7800000000000002,
          3.79,
          3.8000000000000003,
          3.81,
          3.8200000000000003,
          3.83,
          3.84,
          3.85,
          3.86,
          3.87,
          3.88,
          3.89,
          3.9,
          3.91,
          3.92,
          3.93,
          3.94,
          3.95,
          3.96,
          3.97,
          3.98,
          3.99
         ],
         "y": [
          0.5,
          0.49005,
          0.48019999999999996,
          0.47045,
          0.4608,
          0.45125000000000004,
          0.4418000000000001,
          0.43245000000000006,
          0.4232,
          0.41405000000000003,
          0.405,
          0.39605,
          0.3872,
          0.37845,
          0.36979999999999996,
          0.36124999999999996,
          0.35279999999999995,
          0.34445000000000003,
          0.33620000000000005,
          0.32805000000000006,
          0.32000000000000006,
          0.31205000000000005,
          0.3042,
          0.29645,
          0.2888,
          0.28125,
          0.2738,
          0.26644999999999996,
          0.2592,
          0.25205,
          0.24500000000000005,
          0.23805000000000004,
          0.23120000000000004,
          0.22445000000000004,
          0.21780000000000002,
          0.21125000000000002,
          0.2048,
          0.19845000000000002,
          0.1922,
          0.18605,
          0.18,
          0.17404999999999998,
          0.1682,
          0.16245000000000004,
          0.15680000000000002,
          0.15125000000000002,
          0.1458,
          0.14045000000000002,
          0.13520000000000001,
          0.13005,
          0.125,
          0.12004999999999999,
          0.1152,
          0.11045000000000002,
          0.1058,
          0.10125,
          0.0968,
          0.09244999999999999,
          0.08819999999999999,
          0.08405000000000001,
          0.08000000000000002,
          0.07605,
          0.0722,
          0.06845,
          0.0648,
          0.06125000000000001,
          0.05780000000000001,
          0.054450000000000005,
          0.0512,
          0.04805,
          0.045,
          0.04205,
          0.039200000000000006,
          0.03645,
          0.033800000000000004,
          0.03125,
          0.0288,
          0.02645,
          0.0242,
          0.022049999999999997,
          0.020000000000000004,
          0.01805,
          0.0162,
          0.014450000000000003,
          0.0128,
          0.01125,
          0.009800000000000001,
          0.008450000000000001,
          0.0072,
          0.00605,
          0.005000000000000001,
          0.00405,
          0.0032,
          0.0024500000000000004,
          0.0018,
          0.0012500000000000002,
          0.0008,
          0.00045,
          0.0002,
          5e-05,
          0,
          5e-05,
          0.0002,
          0.00045,
          0.0008,
          0.0012500000000000002,
          0.0018,
          0.0024500000000000004,
          0.0032,
          0.00405,
          0.005000000000000001,
          0.00605,
          0.0072,
          0.008450000000000001,
          0.009800000000000001,
          0.01125,
          0.0128,
          0.014450000000000003,
          0.0162,
          0.01805,
          0.020000000000000004,
          0.022049999999999997,
          0.0242,
          0.02645,
          0.0288,
          0.03125,
          0.033800000000000004,
          0.03645,
          0.039200000000000006,
          0.04205,
          0.045,
          0.04805,
          0.0512,
          0.054450000000000005,
          0.05780000000000001,
          0.06125000000000001,
          0.0648,
          0.06845,
          0.0722,
          0.07605,
          0.08000000000000002,
          0.08405000000000001,
          0.08819999999999999,
          0.09244999999999999,
          0.0968,
          0.10125,
          0.1058,
          0.11045000000000002,
          0.1152,
          0.12004999999999999,
          0.125,
          0.13005,
          0.13520000000000001,
          0.14045000000000002,
          0.1458,
          0.15125000000000002,
          0.15680000000000002,
          0.16245000000000004,
          0.1682,
          0.17404999999999998,
          0.18,
          0.18605,
          0.1922,
          0.19845000000000002,
          0.2048,
          0.21125000000000002,
          0.21780000000000002,
          0.22445000000000004,
          0.23120000000000004,
          0.23805000000000004,
          0.24500000000000005,
          0.25205,
          0.2592,
          0.26644999999999996,
          0.2738,
          0.28125,
          0.2888,
          0.29645,
          0.3042,
          0.31205000000000005,
          0.32000000000000006,
          0.32805000000000006,
          0.33620000000000005,
          0.34445000000000003,
          0.35279999999999995,
          0.36124999999999996,
          0.36979999999999996,
          0.37845,
          0.3872,
          0.39605,
          0.405,
          0.41405000000000003,
          0.4232,
          0.43245000000000006,
          0.4418000000000001,
          0.45125000000000004,
          0.4608,
          0.47045,
          0.48019999999999996,
          0.49005,
          0.5,
          0.51005,
          0.5202,
          0.53045,
          0.5408000000000001,
          0.55125,
          0.5618000000000001,
          0.57245,
          0.5832,
          0.5940500000000001,
          0.6050000000000001,
          0.6160500000000001,
          0.6272000000000001,
          0.6384500000000002,
          0.6498000000000002,
          0.6612500000000001,
          0.6728,
          0.6844499999999999,
          0.6961999999999999,
          0.70805,
          0.72,
          0.73205,
          0.7442,
          0.75645,
          0.7688,
          0.78125,
          0.7938000000000001,
          0.80645,
          0.8192,
          0.8320500000000001,
          0.8450000000000001,
          0.8580500000000001,
          0.8712000000000001,
          0.8844500000000001,
          0.8978000000000002,
          0.9112500000000001,
          0.9248000000000002,
          0.9384500000000001,
          0.9522000000000002,
          0.9660500000000002,
          0.9800000000000002,
          0.9940499999999999,
          1.0082,
          1.0224499999999999,
          1.0368,
          1.05125,
          1.0657999999999999,
          1.08045,
          1.0952,
          1.11005,
          1.125,
          1.14005,
          1.1552,
          1.17045,
          1.1858,
          1.2012500000000002,
          1.2168,
          1.23245,
          1.2482000000000002,
          1.2640500000000001,
          1.2800000000000002,
          1.2960500000000001,
          1.3122000000000003,
          1.3284500000000001,
          1.3448000000000002,
          1.3612500000000003,
          1.3778000000000001,
          1.39445,
          1.4111999999999998,
          1.4280499999999998,
          1.4449999999999998,
          1.4620499999999998,
          1.4791999999999998,
          1.49645,
          1.5138,
          1.53125,
          1.5488,
          1.5664500000000001,
          1.5842,
          1.60205,
          1.62,
          1.63805,
          1.6562000000000001,
          1.6744500000000002,
          1.6928,
          1.7112500000000002,
          1.7298000000000002,
          1.7484500000000003,
          1.7672000000000003,
          1.7860500000000001,
          1.8050000000000002,
          1.8240500000000002,
          1.8432,
          1.86245,
          1.8818,
          1.9012499999999999,
          1.9207999999999998,
          1.94045,
          1.9602,
          1.98005,
          2,
          2.0200500000000003,
          2.0402,
          2.0604500000000003,
          2.0808,
          2.10125,
          2.1218,
          2.1424499999999997,
          2.1632000000000002,
          2.1840499999999996,
          2.205,
          2.22605,
          2.2472000000000003,
          2.2684499999999996,
          2.2898,
          2.31125,
          2.3328,
          2.35445,
          2.3762000000000003,
          2.39805,
          2.4200000000000004,
          2.44205,
          2.4642000000000004,
          2.48645,
          2.5088000000000004,
          2.53125,
          2.5538000000000007,
          2.57645,
          2.5992000000000006,
          2.62205,
          2.6450000000000005,
          2.66805,
          2.6912,
          2.7144500000000003,
          2.7377999999999996,
          2.7612500000000004,
          2.7847999999999997,
          2.80845,
          2.8322,
          2.85605,
          2.88,
          2.9040500000000002,
          2.9282,
          2.9524500000000002,
          2.9768,
          3.0012500000000006,
          3.0258,
          3.0504500000000005,
          3.0752,
          3.1000500000000004,
          3.125,
          3.1500500000000007,
          3.1752000000000002,
          3.2004500000000005,
          3.2258,
          3.2512500000000006,
          3.2768,
          3.3024499999999994,
          3.3282000000000003,
          3.3540499999999995,
          3.3800000000000003,
          3.4060499999999996,
          3.4322000000000004,
          3.4584499999999996,
          3.4848000000000003,
          3.51125,
          3.5378000000000003,
          3.56445,
          3.5912000000000006,
          3.6180499999999998,
          3.6450000000000005,
          3.67205,
          3.6992000000000007,
          3.72645,
          3.7538000000000005,
          3.78125,
          3.8088000000000006,
          3.83645,
          3.8642000000000007,
          3.8920500000000002,
          3.920000000000001,
          3.9480500000000003,
          3.9761999999999995,
          4.00445,
          4.0328,
          4.06125,
          4.089799999999999,
          4.11845,
          4.1472,
          4.17605,
          4.205,
          4.234050000000001,
          4.263199999999999,
          4.2924500000000005,
          4.3218,
          4.35125,
          4.3808,
          4.410450000000001,
          4.4402,
          4.4700500000000005,
          4.5,
          4.530050000000001,
          4.5602,
          4.590450000000001,
          4.6208,
          4.651250000000001,
          4.6818,
          4.7124500000000005,
          4.7432,
          4.77405,
          4.805000000000001,
          4.836049999999999,
          4.8672,
          4.8984499999999995,
          4.9298,
          4.96125,
          4.992800000000001,
          5.02445,
          5.0562000000000005,
          5.08805,
          5.120000000000001,
          5.15205,
          5.184200000000001,
          5.21645,
          5.248800000000001,
          5.28125,
          5.3138000000000005,
          5.34645,
          5.379200000000001,
          5.41205,
          5.445000000000001,
          5.4780500000000005,
          5.5112000000000005,
          5.54445,
          5.5778,
          5.61125,
          5.644799999999999,
          5.678450000000001,
          5.712199999999999,
          5.74605,
          5.779999999999999,
          5.814050000000001,
          5.848199999999999,
          5.88245,
          5.916799999999999,
          5.951250000000001,
          5.9858,
          6.02045,
          6.0552,
          6.090050000000001,
          6.125,
          6.160050000000001,
          6.1952,
          6.230450000000001,
          6.2658000000000005,
          6.301250000000001,
          6.3368,
          6.372450000000001,
          6.4082,
          6.44405,
          6.48,
          6.51605,
          6.5522,
          6.58845,
          6.6248000000000005,
          6.66125,
          6.697800000000001,
          6.73445,
          6.7712,
          6.80805,
          6.845000000000001,
          6.88205,
          6.919200000000001,
          6.95645,
          6.993800000000001,
          7.03125,
          7.068800000000001,
          7.10645,
          7.1442000000000005,
          7.18205,
          7.220000000000001,
          7.25805,
          7.296200000000001,
          7.33445,
          7.3728,
          7.411250000000001,
          7.4498,
          7.48845,
          7.5272,
          7.566050000000001,
          7.6049999999999995,
          7.644050000000001,
          7.683199999999999,
          7.72245,
          7.7618,
          7.8012500000000005,
          7.8408,
          7.880450000000001,
          7.9202,
          7.960050000000001
         ]
        },
        {
         "name": "VINT 0 0",
         "type": "scatter",
         "x": [
          -6.4,
          -6.24,
          -6.08,
          -5.92,
          -5.76,
          -5.6000000000000005,
          -5.44,
          -5.28,
          -5.12,
          -4.96,
          -4.8,
          -4.64,
          -4.48,
          -4.32,
          -4.16,
          -4,
          -3.84,
          -3.68,
          -3.52,
          -3.36,
          -3.2,
          -3.04,
          -2.88,
          -2.72,
          -2.56,
          -2.4,
          -2.24,
          -2.08,
          -1.92,
          -1.76,
          -1.6,
          -1.44,
          -1.28,
          -1.12,
          -0.96,
          -0.8,
          -0.64,
          -0.48,
          -0.32,
          -0.16,
          0,
          0.16,
          0.32,
          0.48,
          0.64,
          0.8,
          0.96,
          1.12,
          1.28,
          1.44,
          1.6,
          1.76,
          1.92,
          2.08,
          2.24,
          2.4,
          2.56,
          2.72,
          2.88,
          3.04,
          3.2,
          3.36,
          3.52,
          3.68,
          3.84,
          4,
          4.16,
          4.32,
          4.48,
          4.64,
          4.8,
          4.96,
          5.12,
          5.28,
          5.44,
          5.6000000000000005,
          5.76,
          5.92,
          6.08,
          6.24
         ],
         "y": [
          1.0068823340049447e-243,
          7.544572488905091e-234,
          3.528860325193393e-224,
          1.030334450567002e-214,
          1.877871593305867e-205,
          2.1364733623450924e-196,
          1.5173053573455023e-187,
          6.726550684962347e-179,
          1.861468817818091e-170,
          3.215607486122854e-162,
          3.467482000856992e-154,
          2.334045503556592e-146,
          9.807274716155076e-139,
          2.57235723945016e-131,
          4.211706911806694e-124,
          4.3045615310504575e-117,
          2.746272434553539e-110,
          1.0937101289395383e-103,
          2.7189722143265683e-97,
          4.2194051017266446e-91,
          4.087347823442404e-85,
          2.4715869223603208e-79,
          9.329408280287608e-74,
          2.198245683555053e-68,
          3.233272270085887e-63,
          2.96860384060999e-58,
          1.7013988356002075e-53,
          6.087008894903058e-49,
          1.3593949755379736e-44,
          1.8950963854199844e-40,
          1.649152680566853e-36,
          8.958480354418503e-33,
          3.037748010633774e-29,
          6.430030952121817e-26,
          8.496074279671982e-23,
          7.007570195331553e-20,
          3.607950178178999e-17,
          1.1595714810889676e-14,
          2.3263681231156535e-12,
          2.9134211583684494e-10,
          2.277571503457993e-08,
          1.1114365885550313e-06,
          3.385643904156359e-05,
          0.000643786380681964,
          0.0076416336089284555,
          0.05662061153304444,
          0.26188270573373024,
          0.7561065527807389,
          1.3627089343318868,
          1.5330881387015105,
          1.0766512841503677,
          0.4719836133384896,
          0.12915841227036953,
          0.022062889679836255,
          0.002352588707395313,
          0.00015659343166117554,
          6.5064634415571505e-06,
          1.687564438909397e-07,
          2.7322450968979437e-09,
          2.7613589491453327e-11,
          1.7420876105009038e-13,
          6.860583252831747e-16,
          1.6865375089711082e-18,
          2.588063267885334e-21,
          2.479120817756686e-24,
          1.4823966144213123e-27,
          5.533183274790811e-31,
          1.2892276625785885e-34,
          1.8751158044176907e-38,
          1.7024348145760886e-42,
          9.64843351399257e-47,
          3.4133988981251837e-51,
          7.538087915597228e-56,
          1.0391524632636469e-60,
          8.942135850513382e-66,
          4.803382531877761e-71,
          1.6106345246533045e-76,
          3.371248395749093e-82,
          4.4048225798000206e-88,
          3.592609439875176e-94
         ]
        },
        {
         "name": "VINT 0 1",
         "type": "scatter",
         "x": [
          -6.4,
          -6.24,
          -6.08,
          -5.92,
          -5.76,
          -5.6000000000000005,
          -5.44,
          -5.28,
          -5.12,
          -4.96,
          -4.8,
          -4.64,
          -4.48,
          -4.32,
          -4.16,
          -4,
          -3.84,
          -3.68,
          -3.52,
          -3.36,
          -3.2,
          -3.04,
          -2.88,
          -2.72,
          -2.56,
          -2.4,
          -2.24,
          -2.08,
          -1.92,
          -1.76,
          -1.6,
          -1.44,
          -1.28,
          -1.12,
          -0.96,
          -0.8,
          -0.64,
          -0.48,
          -0.32,
          -0.16,
          0,
          0.16,
          0.32,
          0.48,
          0.64,
          0.8,
          0.96,
          1.12,
          1.28,
          1.44,
          1.6,
          1.76,
          1.92,
          2.08,
          2.24,
          2.4,
          2.56,
          2.72,
          2.88,
          3.04,
          3.2,
          3.36,
          3.52,
          3.68,
          3.84,
          4,
          4.16,
          4.32,
          4.48,
          4.64,
          4.8,
          4.96,
          5.12,
          5.28,
          5.44,
          5.6000000000000005,
          5.76,
          5.92,
          6.08,
          6.24
         ],
         "y": [
          1.0068823340049447e-243,
          7.544572488905091e-234,
          3.528860325193393e-224,
          1.030334450567002e-214,
          1.877871593305867e-205,
          2.1364733623450924e-196,
          1.5173053573455023e-187,
          6.726550684962347e-179,
          1.861468817818091e-170,
          3.215607486122854e-162,
          3.467482000856992e-154,
          2.334045503556592e-146,
          9.807274716155076e-139,
          2.57235723945016e-131,
          4.211706911806694e-124,
          4.3045615310504575e-117,
          2.746272434553539e-110,
          1.0937101289395383e-103,
          2.7189722143265683e-97,
          4.2194051017266446e-91,
          4.087347823442404e-85,
          2.4715869223603208e-79,
          9.329408280287608e-74,
          2.198245683555053e-68,
          3.233272270085887e-63,
          2.96860384060999e-58,
          1.7013988356002075e-53,
          6.087008894903058e-49,
          1.3593949755379736e-44,
          1.8950963854199844e-40,
          1.649152680566853e-36,
          8.958480354418503e-33,
          3.037748010633774e-29,
          6.430030952121817e-26,
          8.496074279671982e-23,
          7.007570195331553e-20,
          3.607950178178999e-17,
          1.1595714810889676e-14,
          2.3263681231156535e-12,
          2.9134211583684494e-10,
          2.277571503457993e-08,
          1.1114365885550313e-06,
          3.385643904156359e-05,
          0.000643786380681964,
          0.0076416336089284555,
          0.05662061153304444,
          0.26188270573373024,
          0.7561065527807389,
          1.3627089343318868,
          1.5330881387015105,
          1.0766512841503677,
          0.4719836133384896,
          0.12915841227036953,
          0.022062889679836255,
          0.002352588707395313,
          0.00015659343166117554,
          6.5064634415571505e-06,
          1.687564438909397e-07,
          2.7322450968979437e-09,
          2.7613589491453327e-11,
          1.7420876105009038e-13,
          6.860583252831747e-16,
          1.6865375089711082e-18,
          2.588063267885334e-21,
          2.479120817756686e-24,
          1.4823966144213123e-27,
          5.533183274790811e-31,
          1.2892276625785885e-34,
          1.8751158044176907e-38,
          1.7024348145760886e-42,
          9.64843351399257e-47,
          3.4133988981251837e-51,
          7.538087915597228e-56,
          1.0391524632636469e-60,
          8.942135850513382e-66,
          4.803382531877761e-71,
          1.6106345246533045e-76,
          3.371248395749093e-82,
          4.4048225798000206e-88,
          3.592609439875176e-94
         ]
        },
        {
         "name": "VINT 1 0",
         "type": "scatter",
         "x": [
          -6.4,
          -6.24,
          -6.08,
          -5.92,
          -5.76,
          -5.6000000000000005,
          -5.44,
          -5.28,
          -5.12,
          -4.96,
          -4.8,
          -4.64,
          -4.48,
          -4.32,
          -4.16,
          -4,
          -3.84,
          -3.68,
          -3.52,
          -3.36,
          -3.2,
          -3.04,
          -2.88,
          -2.72,
          -2.56,
          -2.4,
          -2.24,
          -2.08,
          -1.92,
          -1.76,
          -1.6,
          -1.44,
          -1.28,
          -1.12,
          -0.96,
          -0.8,
          -0.64,
          -0.48,
          -0.32,
          -0.16,
          0,
          0.16,
          0.32,
          0.48,
          0.64,
          0.8,
          0.96,
          1.12,
          1.28,
          1.44,
          1.6,
          1.76,
          1.92,
          2.08,
          2.24,
          2.4,
          2.56,
          2.72,
          2.88,
          3.04,
          3.2,
          3.36,
          3.52,
          3.68,
          3.84,
          4,
          4.16,
          4.32,
          4.48,
          4.64,
          4.8,
          4.96,
          5.12,
          5.28,
          5.44,
          5.6000000000000005,
          5.76,
          5.92,
          6.08,
          6.24
         ],
         "y": [
          -4.765280944322325e-242,
          -3.4973828865534255e-232,
          -1.6015896488654317e-222,
          -4.576194646700697e-213,
          -8.15819536326917e-204,
          -9.074249345601368e-195,
          -6.29715349324633e-186,
          -2.7263654396614202e-177,
          -7.364080845814544e-169,
          -1.2408958527929538e-160,
          -1.3044309398354084e-152,
          -8.55384632514387e-145,
          -3.498975110324631e-137,
          -8.927759794283536e-130,
          -1.420849633073119e-122,
          -1.4103856039532057e-115,
          -8.73152478512672e-109,
          -3.3711737209666023e-102,
          -8.116803993463744e-96,
          -1.2186342019250617e-89,
          -1.1408134026766171e-83,
          -6.658463833236989e-78,
          -2.422774839201809e-72,
          -5.495264887387665e-67,
          -7.768776902588332e-62,
          -6.844646572682438e-57,
          -3.7577051613107555e-52,
          -1.285281826333394e-47,
          -2.7384128905988634e-43,
          -3.63357034374889e-39,
          -3.0019075018370637e-35,
          -1.5437176586091175e-31,
          -4.939713098336104e-28,
          -9.831703904025931e-25,
          -1.2165934952286735e-21,
          -9.354171414039322e-19,
          -4.465868034508998e-16,
          -1.3227280436693753e-13,
          -2.4278512324025567e-11,
          -2.7576748265185993e-09,
          -1.9347071757663926e-07,
          -8.362219463103092e-06,
          -0.00022186061869900972,
          -0.0035937246511313667,
          -0.035238303323288554,
          -0.20612989994501368,
          -0.6991569549849731,
          -1.284565398792421,
          -0.992200715190348,
          0.3720851189241098,
          1.306532582797845,
          1.030966628854258,
          0.4075127748329303,
          0.09103040868467975,
          0.011990587993169394,
          0.0009501424636246437,
          4.579501119802027e-05,
          1.3516040448067503e-06,
          2.4535592897349925e-08,
          2.747779623946496e-10,
          1.9026446471975665e-12,
          8.158912895011809e-15,
          2.1694370446783755e-17,
          3.580345373287001e-20,
          3.670309645086338e-23,
          2.3385838642906462e-26,
          9.266149951531869e-30,
          2.2841659504761734e-33,
          3.504241246749922e-37,
          3.3468071535187196e-41,
          1.990448347181834e-45,
          7.373135722371776e-50,
          1.7014505226341558e-54,
          2.4463927635314222e-59,
          2.191986196588687e-64,
          1.224085211585927e-69,
          4.2608738834844304e-75,
          9.245797428768337e-81,
          1.2508045713237426e-86,
          1.0550439580710614e-92
         ]
        },
        {
         "name": "VINT 1 1",
         "type": "scatter",
         "x": [
          -6.4,
          -6.24,
          -6.08,
          -5.92,
          -5.76,
          -5.6000000000000005,
          -5.44,
          -5.28,
          -5.12,
          -4.96,
          -4.8,
          -4.64,
          -4.48,
          -4.32,
          -4.16,
          -4,
          -3.84,
          -3.68,
          -3.52,
          -3.36,
          -3.2,
          -3.04,
          -2.88,
          -2.72,
          -2.56,
          -2.4,
          -2.24,
          -2.08,
          -1.92,
          -1.76,
          -1.6,
          -1.44,
          -1.28,
          -1.12,
          -0.96,
          -0.8,
          -0.64,
          -0.48,
          -0.32,
          -0.16,
          0,
          0.16,
          0.32,
          0.48,
          0.64,
          0.8,
          0.96,
          1.12,
          1.28,
          1.44,
          1.6,
          1.76,
          1.92,
          2.08,
          2.24,
          2.4,
          2.56,
          2.72,
          2.88,
          3.04,
          3.2,
          3.36,
          3.52,
          3.68,
          3.84,
          4,
          4.16,
          4.32,
          4.48,
          4.64,
          4.8,
          4.96,
          5.12,
          5.28,
          5.44,
          5.6000000000000005,
          5.76,
          5.92,
          6.08,
          6.24
         ],
         "y": [
          -4.765280944322325e-242,
          -3.4973828865534255e-232,
          -1.6015896488654317e-222,
          -4.576194646700697e-213,
          -8.15819536326917e-204,
          -9.074249345601368e-195,
          -6.29715349324633e-186,
          -2.7263654396614202e-177,
          -7.364080845814544e-169,
          -1.2408958527929538e-160,
          -1.3044309398354084e-152,
          -8.55384632514387e-145,
          -3.498975110324631e-137,
          -8.927759794283536e-130,
          -1.420849633073119e-122,
          -1.4103856039532057e-115,
          -8.73152478512672e-109,
          -3.3711737209666023e-102,
          -8.116803993463744e-96,
          -1.2186342019250617e-89,
          -1.1408134026766171e-83,
          -6.658463833236989e-78,
          -2.422774839201809e-72,
          -5.495264887387665e-67,
          -7.768776902588332e-62,
          -6.844646572682438e-57,
          -3.7577051613107555e-52,
          -1.285281826333394e-47,
          -2.7384128905988634e-43,
          -3.63357034374889e-39,
          -3.0019075018370637e-35,
          -1.5437176586091175e-31,
          -4.939713098336104e-28,
          -9.831703904025931e-25,
          -1.2165934952286735e-21,
          -9.354171414039322e-19,
          -4.465868034508998e-16,
          -1.3227280436693753e-13,
          -2.4278512324025567e-11,
          -2.7576748265185993e-09,
          -1.9347071757663926e-07,
          -8.362219463103092e-06,
          -0.00022186061869900972,
          -0.0035937246511313667,
          -0.035238303323288554,
          -0.20612989994501368,
          -0.6991569549849731,
          -1.284565398792421,
          -0.992200715190348,
          0.3720851189241098,
          1.306532582797845,
          1.030966628854258,
          0.4075127748329303,
          0.09103040868467975,
          0.011990587993169394,
          0.0009501424636246437,
          4.579501119802027e-05,
          1.3516040448067503e-06,
          2.4535592897349925e-08,
          2.747779623946496e-10,
          1.9026446471975665e-12,
          8.158912895011809e-15,
          2.1694370446783755e-17,
          3.580345373287001e-20,
          3.670309645086338e-23,
          2.3385838642906462e-26,
          9.266149951531869e-30,
          2.2841659504761734e-33,
          3.504241246749922e-37,
          3.3468071535187196e-41,
          1.990448347181834e-45,
          7.373135722371776e-50,
          1.7014505226341558e-54,
          2.4463927635314222e-59,
          2.191986196588687e-64,
          1.224085211585927e-69,
          4.2608738834844304e-75,
          9.245797428768337e-81,
          1.2508045713237426e-86,
          1.0550439580710614e-92
         ]
        },
        {
         "connectgaps": false,
         "marker": {
          "color": "blue"
         },
         "name": "T0",
         "type": "scatter",
         "x": [
          0
         ],
         "y": [
          0.43092192948894703
         ]
        },
        {
         "connectgaps": false,
         "marker": {
          "color": "blue"
         },
         "name": "T1",
         "type": "scatter",
         "x": [
          0
         ],
         "y": [
          0.43092192948894703
         ]
        }
       ],
       "layout": {
        "template": {
         "data": {
          "bar": [
           {
            "error_x": {
             "color": "#2a3f5f"
            },
            "error_y": {
             "color": "#2a3f5f"
            },
            "marker": {
             "line": {
              "color": "#E5ECF6",
              "width": 0.5
             }
            },
            "type": "bar"
           }
          ],
          "barpolar": [
           {
            "marker": {
             "line": {
              "color": "#E5ECF6",
              "width": 0.5
             }
            },
            "type": "barpolar"
           }
          ],
          "carpet": [
           {
            "aaxis": {
             "endlinecolor": "#2a3f5f",
             "gridcolor": "white",
             "linecolor": "white",
             "minorgridcolor": "white",
             "startlinecolor": "#2a3f5f"
            },
            "baxis": {
             "endlinecolor": "#2a3f5f",
             "gridcolor": "white",
             "linecolor": "white",
             "minorgridcolor": "white",
             "startlinecolor": "#2a3f5f"
            },
            "type": "carpet"
           }
          ],
          "choropleth": [
           {
            "colorbar": {
             "outlinewidth": 0,
             "ticks": ""
            },
            "type": "choropleth"
           }
          ],
          "contour": [
           {
            "colorbar": {
             "outlinewidth": 0,
             "ticks": ""
            },
            "colorscale": [
             [
              0,
              "#0d0887"
             ],
             [
              0.1111111111111111,
              "#46039f"
             ],
             [
              0.2222222222222222,
              "#7201a8"
             ],
             [
              0.3333333333333333,
              "#9c179e"
             ],
             [
              0.4444444444444444,
              "#bd3786"
             ],
             [
              0.5555555555555556,
              "#d8576b"
             ],
             [
              0.6666666666666666,
              "#ed7953"
             ],
             [
              0.7777777777777778,
              "#fb9f3a"
             ],
             [
              0.8888888888888888,
              "#fdca26"
             ],
             [
              1,
              "#f0f921"
             ]
            ],
            "type": "contour"
           }
          ],
          "contourcarpet": [
           {
            "colorbar": {
             "outlinewidth": 0,
             "ticks": ""
            },
            "type": "contourcarpet"
           }
          ],
          "heatmap": [
           {
            "colorbar": {
             "outlinewidth": 0,
             "ticks": ""
            },
            "colorscale": [
             [
              0,
              "#0d0887"
             ],
             [
              0.1111111111111111,
              "#46039f"
             ],
             [
              0.2222222222222222,
              "#7201a8"
             ],
             [
              0.3333333333333333,
              "#9c179e"
             ],
             [
              0.4444444444444444,
              "#bd3786"
             ],
             [
              0.5555555555555556,
              "#d8576b"
             ],
             [
              0.6666666666666666,
              "#ed7953"
             ],
             [
              0.7777777777777778,
              "#fb9f3a"
             ],
             [
              0.8888888888888888,
              "#fdca26"
             ],
             [
              1,
              "#f0f921"
             ]
            ],
            "type": "heatmap"
           }
          ],
          "heatmapgl": [
           {
            "colorbar": {
             "outlinewidth": 0,
             "ticks": ""
            },
            "colorscale": [
             [
              0,
              "#0d0887"
             ],
             [
              0.1111111111111111,
              "#46039f"
             ],
             [
              0.2222222222222222,
              "#7201a8"
             ],
             [
              0.3333333333333333,
              "#9c179e"
             ],
             [
              0.4444444444444444,
              "#bd3786"
             ],
             [
              0.5555555555555556,
              "#d8576b"
             ],
             [
              0.6666666666666666,
              "#ed7953"
             ],
             [
              0.7777777777777778,
              "#fb9f3a"
             ],
             [
              0.8888888888888888,
              "#fdca26"
             ],
             [
              1,
              "#f0f921"
             ]
            ],
            "type": "heatmapgl"
           }
          ],
          "histogram": [
           {
            "marker": {
             "colorbar": {
              "outlinewidth": 0,
              "ticks": ""
             }
            },
            "type": "histogram"
           }
          ],
          "histogram2d": [
           {
            "colorbar": {
             "outlinewidth": 0,
             "ticks": ""
            },
            "colorscale": [
             [
              0,
              "#0d0887"
             ],
             [
              0.1111111111111111,
              "#46039f"
             ],
             [
              0.2222222222222222,
              "#7201a8"
             ],
             [
              0.3333333333333333,
              "#9c179e"
             ],
             [
              0.4444444444444444,
              "#bd3786"
             ],
             [
              0.5555555555555556,
              "#d8576b"
             ],
             [
              0.6666666666666666,
              "#ed7953"
             ],
             [
              0.7777777777777778,
              "#fb9f3a"
             ],
             [
              0.8888888888888888,
              "#fdca26"
             ],
             [
              1,
              "#f0f921"
             ]
            ],
            "type": "histogram2d"
           }
          ],
          "histogram2dcontour": [
           {
            "colorbar": {
             "outlinewidth": 0,
             "ticks": ""
            },
            "colorscale": [
             [
              0,
              "#0d0887"
             ],
             [
              0.1111111111111111,
              "#46039f"
             ],
             [
              0.2222222222222222,
              "#7201a8"
             ],
             [
              0.3333333333333333,
              "#9c179e"
             ],
             [
              0.4444444444444444,
              "#bd3786"
             ],
             [
              0.5555555555555556,
              "#d8576b"
             ],
             [
              0.6666666666666666,
              "#ed7953"
             ],
             [
              0.7777777777777778,
              "#fb9f3a"
             ],
             [
              0.8888888888888888,
              "#fdca26"
             ],
             [
              1,
              "#f0f921"
             ]
            ],
            "type": "histogram2dcontour"
           }
          ],
          "mesh3d": [
           {
            "colorbar": {
             "outlinewidth": 0,
             "ticks": ""
            },
            "type": "mesh3d"
           }
          ],
          "parcoords": [
           {
            "line": {
             "colorbar": {
              "outlinewidth": 0,
              "ticks": ""
             }
            },
            "type": "parcoords"
           }
          ],
          "scatter": [
           {
            "marker": {
             "colorbar": {
              "outlinewidth": 0,
              "ticks": ""
             }
            },
            "type": "scatter"
           }
          ],
          "scatter3d": [
           {
            "line": {
             "colorbar": {
              "outlinewidth": 0,
              "ticks": ""
             }
            },
            "marker": {
             "colorbar": {
              "outlinewidth": 0,
              "ticks": ""
             }
            },
            "type": "scatter3d"
           }
          ],
          "scattercarpet": [
           {
            "marker": {
             "colorbar": {
              "outlinewidth": 0,
              "ticks": ""
             }
            },
            "type": "scattercarpet"
           }
          ],
          "scattergeo": [
           {
            "marker": {
             "colorbar": {
              "outlinewidth": 0,
              "ticks": ""
             }
            },
            "type": "scattergeo"
           }
          ],
          "scattergl": [
           {
            "marker": {
             "colorbar": {
              "outlinewidth": 0,
              "ticks": ""
             }
            },
            "type": "scattergl"
           }
          ],
          "scattermapbox": [
           {
            "marker": {
             "colorbar": {
              "outlinewidth": 0,
              "ticks": ""
             }
            },
            "type": "scattermapbox"
           }
          ],
          "scatterpolar": [
           {
            "marker": {
             "colorbar": {
              "outlinewidth": 0,
              "ticks": ""
             }
            },
            "type": "scatterpolar"
           }
          ],
          "scatterpolargl": [
           {
            "marker": {
             "colorbar": {
              "outlinewidth": 0,
              "ticks": ""
             }
            },
            "type": "scatterpolargl"
           }
          ],
          "scatterternary": [
           {
            "marker": {
             "colorbar": {
              "outlinewidth": 0,
              "ticks": ""
             }
            },
            "type": "scatterternary"
           }
          ],
          "surface": [
           {
            "colorbar": {
             "outlinewidth": 0,
             "ticks": ""
            },
            "colorscale": [
             [
              0,
              "#0d0887"
             ],
             [
              0.1111111111111111,
              "#46039f"
             ],
             [
              0.2222222222222222,
              "#7201a8"
             ],
             [
              0.3333333333333333,
              "#9c179e"
             ],
             [
              0.4444444444444444,
              "#bd3786"
             ],
             [
              0.5555555555555556,
              "#d8576b"
             ],
             [
              0.6666666666666666,
              "#ed7953"
             ],
             [
              0.7777777777777778,
              "#fb9f3a"
             ],
             [
              0.8888888888888888,
              "#fdca26"
             ],
             [
              1,
              "#f0f921"
             ]
            ],
            "type": "surface"
           }
          ],
          "table": [
           {
            "cells": {
             "fill": {
              "color": "#EBF0F8"
             },
             "line": {
              "color": "white"
             }
            },
            "header": {
             "fill": {
              "color": "#C8D4E3"
             },
             "line": {
              "color": "white"
             }
            },
            "type": "table"
           }
          ]
         },
         "layout": {
          "annotationdefaults": {
           "arrowcolor": "#2a3f5f",
           "arrowhead": 0,
           "arrowwidth": 1
          },
          "colorscale": {
           "diverging": [
            [
             0,
             "#8e0152"
            ],
            [
             0.1,
             "#c51b7d"
            ],
            [
             0.2,
             "#de77ae"
            ],
            [
             0.3,
             "#f1b6da"
            ],
            [
             0.4,
             "#fde0ef"
            ],
            [
             0.5,
             "#f7f7f7"
            ],
            [
             0.6,
             "#e6f5d0"
            ],
            [
             0.7,
             "#b8e186"
            ],
            [
             0.8,
             "#7fbc41"
            ],
            [
             0.9,
             "#4d9221"
            ],
            [
             1,
             "#276419"
            ]
           ],
           "sequential": [
            [
             0,
             "#0d0887"
            ],
            [
             0.1111111111111111,
             "#46039f"
            ],
            [
             0.2222222222222222,
             "#7201a8"
            ],
            [
             0.3333333333333333,
             "#9c179e"
            ],
            [
             0.4444444444444444,
             "#bd3786"
            ],
            [
             0.5555555555555556,
             "#d8576b"
            ],
            [
             0.6666666666666666,
             "#ed7953"
            ],
            [
             0.7777777777777778,
             "#fb9f3a"
            ],
            [
             0.8888888888888888,
             "#fdca26"
            ],
            [
             1,
             "#f0f921"
            ]
           ],
           "sequentialminus": [
            [
             0,
             "#0d0887"
            ],
            [
             0.1111111111111111,
             "#46039f"
            ],
            [
             0.2222222222222222,
             "#7201a8"
            ],
            [
             0.3333333333333333,
             "#9c179e"
            ],
            [
             0.4444444444444444,
             "#bd3786"
            ],
            [
             0.5555555555555556,
             "#d8576b"
            ],
            [
             0.6666666666666666,
             "#ed7953"
            ],
            [
             0.7777777777777778,
             "#fb9f3a"
            ],
            [
             0.8888888888888888,
             "#fdca26"
            ],
            [
             1,
             "#f0f921"
            ]
           ]
          },
          "colorway": [
           "#636efa",
           "#EF553B",
           "#00cc96",
           "#ab63fa",
           "#FFA15A",
           "#19d3f3",
           "#FF6692",
           "#B6E880",
           "#FF97FF",
           "#FECB52"
          ],
          "font": {
           "color": "#2a3f5f"
          },
          "geo": {
           "bgcolor": "white",
           "lakecolor": "white",
           "landcolor": "#E5ECF6",
           "showlakes": true,
           "showland": true,
           "subunitcolor": "white"
          },
          "hoverlabel": {
           "align": "left"
          },
          "hovermode": "closest",
          "mapbox": {
           "style": "light"
          },
          "paper_bgcolor": "white",
          "plot_bgcolor": "#E5ECF6",
          "polar": {
           "angularaxis": {
            "gridcolor": "white",
            "linecolor": "white",
            "ticks": ""
           },
           "bgcolor": "#E5ECF6",
           "radialaxis": {
            "gridcolor": "white",
            "linecolor": "white",
            "ticks": ""
           }
          },
          "scene": {
           "xaxis": {
            "backgroundcolor": "#E5ECF6",
            "gridcolor": "white",
            "gridwidth": 2,
            "linecolor": "white",
            "showbackground": true,
            "ticks": "",
            "zerolinecolor": "white"
           },
           "yaxis": {
            "backgroundcolor": "#E5ECF6",
            "gridcolor": "white",
            "gridwidth": 2,
            "linecolor": "white",
            "showbackground": true,
            "ticks": "",
            "zerolinecolor": "white"
           },
           "zaxis": {
            "backgroundcolor": "#E5ECF6",
            "gridcolor": "white",
            "gridwidth": 2,
            "linecolor": "white",
            "showbackground": true,
            "ticks": "",
            "zerolinecolor": "white"
           }
          },
          "shapedefaults": {
           "line": {
            "color": "#2a3f5f"
           }
          },
          "ternary": {
           "aaxis": {
            "gridcolor": "white",
            "linecolor": "white",
            "ticks": ""
           },
           "baxis": {
            "gridcolor": "white",
            "linecolor": "white",
            "ticks": ""
           },
           "bgcolor": "#E5ECF6",
           "caxis": {
            "gridcolor": "white",
            "linecolor": "white",
            "ticks": ""
           }
          },
          "title": {
           "x": 0.05
          },
          "xaxis": {
           "automargin": true,
           "gridcolor": "white",
           "linecolor": "white",
           "ticks": "",
           "zerolinecolor": "white",
           "zerolinewidth": 2
          },
          "yaxis": {
           "automargin": true,
           "gridcolor": "white",
           "linecolor": "white",
           "ticks": "",
           "zerolinecolor": "white",
           "zerolinewidth": 2
          }
         }
        },
        "title": {
         "text": "Hartree-Fock Energy VS Bond Distance"
        },
        "xaxis": {
         "title": {
          "text": "Bond Distance in Bohr Units Radius"
         }
        },
        "yaxis": {
         "title": {
          "text": "Energy in Hartrees"
         }
        }
       }
      },
      "text/html": [
       "<div>\n",
       "        \n",
       "        \n",
       "            <div id=\"58a1844a-f64c-4cfd-affc-23306dbad49d\" class=\"plotly-graph-div\" style=\"height:525px; width:100%;\"></div>\n",
       "            <script type=\"text/javascript\">\n",
       "                require([\"plotly\"], function(Plotly) {\n",
       "                    window.PLOTLYENV=window.PLOTLYENV || {};\n",
       "                    \n",
       "                if (document.getElementById(\"58a1844a-f64c-4cfd-affc-23306dbad49d\")) {\n",
       "                    Plotly.newPlot(\n",
       "                        '58a1844a-f64c-4cfd-affc-23306dbad49d',\n",
       "                        [{\"connectgaps\": false, \"marker\": {\"color\": \"blue\"}, \"mode\": \"markers\", \"name\": \"Hartree-Fock Computed\", \"type\": \"scatter\", \"x\": [0.85, 0.95, 1.05, 1.1500000000000001, 1.2500000000000002, 1.3500000000000003, 1.4500000000000004, 1.5500000000000005, 1.6500000000000006, 1.7500000000000007, 1.8500000000000008, 1.9500000000000008, 2.0500000000000007, 2.150000000000001, 2.250000000000001, 2.350000000000001, 2.450000000000001, 2.550000000000001, 2.6500000000000012, 2.7500000000000013, 2.8500000000000014, 2.9500000000000015, 3.0500000000000016, 3.1500000000000017, 3.2500000000000018, 3.350000000000002, 3.450000000000002, 3.550000000000002, 3.650000000000002, 3.750000000000002, 3.8500000000000023, 3.9500000000000024, 4.0500000000000025, 4.150000000000002, 4.250000000000002, 4.350000000000001, 4.450000000000001, 4.550000000000001, 4.65, 4.75, 4.85, 4.949999999999999, 5.049999999999999, 5.149999999999999, 5.249999999999998, 5.349999999999998, 5.4499999999999975, 5.549999999999997, 5.649999999999997, 5.7499999999999964, 5.849999999999996, 5.949999999999996, 6.049999999999995, 6.149999999999995, 6.249999999999995, 6.349999999999994, 6.449999999999994, 6.549999999999994, 6.649999999999993, 6.749999999999993, 6.8499999999999925, 6.949999999999992, 7.049999999999992, 7.1499999999999915, 7.249999999999991, 7.349999999999991, 7.44999999999999, 7.54999999999999, 7.64999999999999, 7.749999999999989, 7.849999999999989, 7.949999999999989, 8.049999999999988, 8.149999999999988, 8.249999999999988, 8.349999999999987, 8.449999999999987, 8.549999999999986, 8.649999999999986, 8.749999999999986, 8.849999999999985, 8.949999999999985, 9.049999999999985, 9.149999999999984, 9.249999999999984, 9.349999999999984, 9.449999999999983, 9.549999999999983, 9.649999999999983, 9.749999999999982, 9.849999999999982, 9.949999999999982], \"y\": [-0.9872432454803035, -1.0453969655059847, -1.0821565708110161, -1.103796753017444, -1.1145784427493424, -1.1175011357098212, -1.1147199297328392, -1.1077934352702428, -1.0978475449672567, -1.0856948732828646, -1.0719260573400924, -1.0569788311272152, -1.0411878362347846, -1.024818237706964, -1.0080868562895131, -0.9911746561330028, -0.9742339153450772, -0.9573925338546116, -0.9407570242952678, -0.9244149977146469, -0.9084374692105319, -0.8928810455280846, -0.8777899519511231, -0.8631978417352622, -0.8491293564793958, -0.8356014389265934, -0.8226244256622813, -0.810202961371111, -0.798336779522113, -0.7870213895823506, -0.7762487015303117, -0.7660076075315303, -0.7562845303720597, -0.7470639400287579, -0.7383288342591737, -0.7300611763905993, -0.722242283221872, -0.7148531575123458, -0.7078747622124064, -0.7012882367095286, -0.695075058358834, -0.6892171550344235, -0.6836969761469257, -0.6784975304500585, -0.673602399055011, -0.6689957315208674, -0.6646622318713643, -0.6605871400927623, -0.6567562132691045, -0.6531557091529432, -0.649772373755926, -0.6465934335388133, -0.643606592013203, -0.6408000300372642, -0.6381624087741788, -0.6356828741509019, -0.63335106166636, -0.6311571005117215, -0.6290916161434486, -0.6271457306604598, -0.6253110605545057, -0.6235797116090818, -0.6219442709043848, -0.620397796036906, -0.618933801779371, -0.6175462444903363, -0.6162295046354332, -0.614978367807989, -0.6137880046402611, -0.6126539499825411, -0.611572081700585, -0.6105385994063086, -0.6095500033960606, -0.6086030740279442, -0.6076948517269727, -0.6068226177659738, -0.6059838759323805, -0.6051763351571067, -0.6043978931520136, -0.6036466210771917, -0.6029207492382912, -0.6022186537972432, -0.6015388444665157, -0.6008799531472326, -0.6002407234645102, -0.599620001148907, -0.599016725210432, -0.5984299198507748, -0.5978586870599323, -0.5973021998448994, -0.5967596960402942, -0.5962304726534765]}, {\"marker\": {\"color\": \"red\"}, \"name\": \"Optimal Bond Distance\", \"type\": \"scatter\", \"x\": [1.3500000000000003], \"y\": [-1.1175011357098212]}, {\"connectgaps\": false, \"marker\": {\"color\": \"green\"}, \"name\": \"Morse Potential Approximation\", \"type\": \"scatter\", \"x\": [-1.0, -0.99, -0.98, -0.97, -0.96, -0.9500000000000001, -0.9400000000000001, -0.93, -0.92, -0.91, -0.9, -0.89, -0.88, -0.87, -0.86, -0.85, -0.84, -0.8300000000000001, -0.8200000000000001, -0.81, -0.8, -0.79, -0.78, -0.77, -0.76, -0.75, -0.74, -0.73, -0.72, -0.71, -0.7000000000000001, -0.6900000000000001, -0.68, -0.67, -0.66, -0.65, -0.64, -0.63, -0.62, -0.61, -0.6, -0.59, -0.58, -0.5700000000000001, -0.56, -0.55, -0.54, -0.53, -0.52, -0.51, -0.5, -0.49, -0.48, -0.47000000000000003, -0.46, -0.45, -0.44, -0.43, -0.42, -0.41000000000000003, -0.4, -0.39, -0.38, -0.37, -0.36, -0.35000000000000003, -0.34, -0.33, -0.32, -0.31, -0.3, -0.29, -0.28, -0.27, -0.26, -0.25, -0.24, -0.23, -0.22, -0.21, -0.2, -0.19, -0.18, -0.17, -0.16, -0.15, -0.14, -0.13, -0.12, -0.11, -0.1, -0.09, -0.08, -0.07, -0.06, -0.05, -0.04, -0.03, -0.02, -0.01, 0.0, 0.01, 0.02, 0.03, 0.04, 0.05, 0.06, 0.07, 0.08, 0.09, 0.1, 0.11, 0.12, 0.13, 0.14, 0.15, 0.16, 0.17, 0.18, 0.19, 0.2, 0.21, 0.22, 0.23, 0.24, 0.25, 0.26, 0.27, 0.28, 0.29, 0.3, 0.31, 0.32, 0.33, 0.34, 0.35000000000000003, 0.36, 0.37, 0.38, 0.39, 0.4, 0.41000000000000003, 0.42, 0.43, 0.44, 0.45, 0.46, 0.47000000000000003, 0.48, 0.49, 0.5, 0.51, 0.52, 0.53, 0.54, 0.55, 0.56, 0.5700000000000001, 0.58, 0.59, 0.6, 0.61, 0.62, 0.63, 0.64, 0.65, 0.66, 0.67, 0.68, 0.6900000000000001, 0.7000000000000001, 0.71, 0.72, 0.73, 0.74, 0.75, 0.76, 0.77, 0.78, 0.79, 0.8, 0.81, 0.8200000000000001, 0.8300000000000001, 0.84, 0.85, 0.86, 0.87, 0.88, 0.89, 0.9, 0.91, 0.92, 0.93, 0.9400000000000001, 0.9500000000000001, 0.96, 0.97, 0.98, 0.99, 1.0, 1.01, 1.02, 1.03, 1.04, 1.05, 1.06, 1.07, 1.08, 1.09, 1.1, 1.11, 1.12, 1.1300000000000001, 1.1400000000000001, 1.1500000000000001, 1.16, 1.17, 1.18, 1.19, 1.2, 1.21, 1.22, 1.23, 1.24, 1.25, 1.26, 1.27, 1.28, 1.29, 1.3, 1.31, 1.32, 1.33, 1.34, 1.35, 1.36, 1.37, 1.3800000000000001, 1.3900000000000001, 1.4000000000000001, 1.41, 1.42, 1.43, 1.44, 1.45, 1.46, 1.47, 1.48, 1.49, 1.5, 1.51, 1.52, 1.53, 1.54, 1.55, 1.56, 1.57, 1.58, 1.59, 1.6, 1.61, 1.62, 1.6300000000000001, 1.6400000000000001, 1.6500000000000001, 1.6600000000000001, 1.67, 1.68, 1.69, 1.7, 1.71, 1.72, 1.73, 1.74, 1.75, 1.76, 1.77, 1.78, 1.79, 1.8, 1.81, 1.82, 1.83, 1.84, 1.85, 1.86, 1.87, 1.8800000000000001, 1.8900000000000001, 1.9000000000000001, 1.9100000000000001, 1.92, 1.93, 1.94, 1.95, 1.96, 1.97, 1.98, 1.99, 2.0, 2.0100000000000002, 2.02, 2.0300000000000002, 2.04, 2.05, 2.06, 2.07, 2.08, 2.09, 2.1, 2.11, 2.12, 2.13, 2.14, 2.15, 2.16, 2.17, 2.18, 2.19, 2.2, 2.21, 2.22, 2.23, 2.24, 2.25, 2.2600000000000002, 2.27, 2.2800000000000002, 2.29, 2.3000000000000003, 2.31, 2.32, 2.33, 2.34, 2.35, 2.36, 2.37, 2.38, 2.39, 2.4, 2.41, 2.42, 2.43, 2.44, 2.45, 2.46, 2.47, 2.48, 2.49, 2.5, 2.5100000000000002, 2.52, 2.5300000000000002, 2.54, 2.5500000000000003, 2.56, 2.57, 2.58, 2.59, 2.6, 2.61, 2.62, 2.63, 2.64, 2.65, 2.66, 2.67, 2.68, 2.69, 2.7, 2.71, 2.72, 2.73, 2.74, 2.75, 2.7600000000000002, 2.77, 2.7800000000000002, 2.79, 2.8000000000000003, 2.81, 2.82, 2.83, 2.84, 2.85, 2.86, 2.87, 2.88, 2.89, 2.9, 2.91, 2.92, 2.93, 2.94, 2.95, 2.96, 2.97, 2.98, 2.99, 3.0, 3.0100000000000002, 3.02, 3.0300000000000002, 3.04, 3.0500000000000003, 3.06, 3.0700000000000003, 3.08, 3.09, 3.1, 3.11, 3.12, 3.13, 3.14, 3.15, 3.16, 3.17, 3.18, 3.19, 3.2, 3.21, 3.22, 3.23, 3.24, 3.25, 3.2600000000000002, 3.27, 3.2800000000000002, 3.29, 3.3000000000000003, 3.31, 3.3200000000000003, 3.33, 3.34, 3.35, 3.36, 3.37, 3.38, 3.39, 3.4, 3.41, 3.42, 3.43, 3.44, 3.45, 3.46, 3.47, 3.48, 3.49, 3.5, 3.5100000000000002, 3.52, 3.5300000000000002, 3.54, 3.5500000000000003, 3.56, 3.5700000000000003, 3.58, 3.59, 3.6, 3.61, 3.62, 3.63, 3.64, 3.65, 3.66, 3.67, 3.68, 3.69, 3.7, 3.71, 3.72, 3.73, 3.74, 3.75, 3.7600000000000002, 3.77, 3.7800000000000002, 3.79, 3.8000000000000003, 3.81, 3.8200000000000003, 3.83, 3.84, 3.85, 3.86, 3.87, 3.88, 3.89, 3.9, 3.91, 3.92, 3.93, 3.94, 3.95, 3.96, 3.97, 3.98, 3.99], \"y\": [0.5, 0.49005, 0.48019999999999996, 0.47045, 0.4608, 0.45125000000000004, 0.4418000000000001, 0.43245000000000006, 0.4232, 0.41405000000000003, 0.405, 0.39605, 0.3872, 0.37845, 0.36979999999999996, 0.36124999999999996, 0.35279999999999995, 0.34445000000000003, 0.33620000000000005, 0.32805000000000006, 0.32000000000000006, 0.31205000000000005, 0.3042, 0.29645, 0.2888, 0.28125, 0.2738, 0.26644999999999996, 0.2592, 0.25205, 0.24500000000000005, 0.23805000000000004, 0.23120000000000004, 0.22445000000000004, 0.21780000000000002, 0.21125000000000002, 0.2048, 0.19845000000000002, 0.1922, 0.18605, 0.18, 0.17404999999999998, 0.1682, 0.16245000000000004, 0.15680000000000002, 0.15125000000000002, 0.1458, 0.14045000000000002, 0.13520000000000001, 0.13005, 0.125, 0.12004999999999999, 0.1152, 0.11045000000000002, 0.1058, 0.10125, 0.0968, 0.09244999999999999, 0.08819999999999999, 0.08405000000000001, 0.08000000000000002, 0.07605, 0.0722, 0.06845, 0.0648, 0.06125000000000001, 0.05780000000000001, 0.054450000000000005, 0.0512, 0.04805, 0.045, 0.04205, 0.039200000000000006, 0.03645, 0.033800000000000004, 0.03125, 0.0288, 0.02645, 0.0242, 0.022049999999999997, 0.020000000000000004, 0.01805, 0.0162, 0.014450000000000003, 0.0128, 0.01125, 0.009800000000000001, 0.008450000000000001, 0.0072, 0.00605, 0.005000000000000001, 0.00405, 0.0032, 0.0024500000000000004, 0.0018, 0.0012500000000000002, 0.0008, 0.00045, 0.0002, 5e-05, 0.0, 5e-05, 0.0002, 0.00045, 0.0008, 0.0012500000000000002, 0.0018, 0.0024500000000000004, 0.0032, 0.00405, 0.005000000000000001, 0.00605, 0.0072, 0.008450000000000001, 0.009800000000000001, 0.01125, 0.0128, 0.014450000000000003, 0.0162, 0.01805, 0.020000000000000004, 0.022049999999999997, 0.0242, 0.02645, 0.0288, 0.03125, 0.033800000000000004, 0.03645, 0.039200000000000006, 0.04205, 0.045, 0.04805, 0.0512, 0.054450000000000005, 0.05780000000000001, 0.06125000000000001, 0.0648, 0.06845, 0.0722, 0.07605, 0.08000000000000002, 0.08405000000000001, 0.08819999999999999, 0.09244999999999999, 0.0968, 0.10125, 0.1058, 0.11045000000000002, 0.1152, 0.12004999999999999, 0.125, 0.13005, 0.13520000000000001, 0.14045000000000002, 0.1458, 0.15125000000000002, 0.15680000000000002, 0.16245000000000004, 0.1682, 0.17404999999999998, 0.18, 0.18605, 0.1922, 0.19845000000000002, 0.2048, 0.21125000000000002, 0.21780000000000002, 0.22445000000000004, 0.23120000000000004, 0.23805000000000004, 0.24500000000000005, 0.25205, 0.2592, 0.26644999999999996, 0.2738, 0.28125, 0.2888, 0.29645, 0.3042, 0.31205000000000005, 0.32000000000000006, 0.32805000000000006, 0.33620000000000005, 0.34445000000000003, 0.35279999999999995, 0.36124999999999996, 0.36979999999999996, 0.37845, 0.3872, 0.39605, 0.405, 0.41405000000000003, 0.4232, 0.43245000000000006, 0.4418000000000001, 0.45125000000000004, 0.4608, 0.47045, 0.48019999999999996, 0.49005, 0.5, 0.51005, 0.5202, 0.53045, 0.5408000000000001, 0.55125, 0.5618000000000001, 0.57245, 0.5832, 0.5940500000000001, 0.6050000000000001, 0.6160500000000001, 0.6272000000000001, 0.6384500000000002, 0.6498000000000002, 0.6612500000000001, 0.6728, 0.6844499999999999, 0.6961999999999999, 0.70805, 0.72, 0.73205, 0.7442, 0.75645, 0.7688, 0.78125, 0.7938000000000001, 0.80645, 0.8192, 0.8320500000000001, 0.8450000000000001, 0.8580500000000001, 0.8712000000000001, 0.8844500000000001, 0.8978000000000002, 0.9112500000000001, 0.9248000000000002, 0.9384500000000001, 0.9522000000000002, 0.9660500000000002, 0.9800000000000002, 0.9940499999999999, 1.0082, 1.0224499999999999, 1.0368, 1.05125, 1.0657999999999999, 1.08045, 1.0952, 1.11005, 1.125, 1.14005, 1.1552, 1.17045, 1.1858, 1.2012500000000002, 1.2168, 1.23245, 1.2482000000000002, 1.2640500000000001, 1.2800000000000002, 1.2960500000000001, 1.3122000000000003, 1.3284500000000001, 1.3448000000000002, 1.3612500000000003, 1.3778000000000001, 1.39445, 1.4111999999999998, 1.4280499999999998, 1.4449999999999998, 1.4620499999999998, 1.4791999999999998, 1.49645, 1.5138, 1.53125, 1.5488, 1.5664500000000001, 1.5842, 1.60205, 1.62, 1.63805, 1.6562000000000001, 1.6744500000000002, 1.6928, 1.7112500000000002, 1.7298000000000002, 1.7484500000000003, 1.7672000000000003, 1.7860500000000001, 1.8050000000000002, 1.8240500000000002, 1.8432, 1.86245, 1.8818, 1.9012499999999999, 1.9207999999999998, 1.94045, 1.9602, 1.98005, 2.0, 2.0200500000000003, 2.0402, 2.0604500000000003, 2.0808, 2.10125, 2.1218, 2.1424499999999997, 2.1632000000000002, 2.1840499999999996, 2.205, 2.22605, 2.2472000000000003, 2.2684499999999996, 2.2898, 2.31125, 2.3328, 2.35445, 2.3762000000000003, 2.39805, 2.4200000000000004, 2.44205, 2.4642000000000004, 2.48645, 2.5088000000000004, 2.53125, 2.5538000000000007, 2.57645, 2.5992000000000006, 2.62205, 2.6450000000000005, 2.66805, 2.6912, 2.7144500000000003, 2.7377999999999996, 2.7612500000000004, 2.7847999999999997, 2.80845, 2.8322, 2.85605, 2.88, 2.9040500000000002, 2.9282, 2.9524500000000002, 2.9768, 3.0012500000000006, 3.0258, 3.0504500000000005, 3.0752, 3.1000500000000004, 3.125, 3.1500500000000007, 3.1752000000000002, 3.2004500000000005, 3.2258, 3.2512500000000006, 3.2768, 3.3024499999999994, 3.3282000000000003, 3.3540499999999995, 3.3800000000000003, 3.4060499999999996, 3.4322000000000004, 3.4584499999999996, 3.4848000000000003, 3.51125, 3.5378000000000003, 3.56445, 3.5912000000000006, 3.6180499999999998, 3.6450000000000005, 3.67205, 3.6992000000000007, 3.72645, 3.7538000000000005, 3.78125, 3.8088000000000006, 3.83645, 3.8642000000000007, 3.8920500000000002, 3.920000000000001, 3.9480500000000003, 3.9761999999999995, 4.00445, 4.0328, 4.06125, 4.089799999999999, 4.11845, 4.1472, 4.17605, 4.205, 4.234050000000001, 4.263199999999999, 4.2924500000000005, 4.3218, 4.35125, 4.3808, 4.410450000000001, 4.4402, 4.4700500000000005, 4.5, 4.530050000000001, 4.5602, 4.590450000000001, 4.6208, 4.651250000000001, 4.6818, 4.7124500000000005, 4.7432, 4.77405, 4.805000000000001, 4.836049999999999, 4.8672, 4.8984499999999995, 4.9298, 4.96125, 4.992800000000001, 5.02445, 5.0562000000000005, 5.08805, 5.120000000000001, 5.15205, 5.184200000000001, 5.21645, 5.248800000000001, 5.28125, 5.3138000000000005, 5.34645, 5.379200000000001, 5.41205, 5.445000000000001, 5.4780500000000005, 5.5112000000000005, 5.54445, 5.5778, 5.61125, 5.644799999999999, 5.678450000000001, 5.712199999999999, 5.74605, 5.779999999999999, 5.814050000000001, 5.848199999999999, 5.88245, 5.916799999999999, 5.951250000000001, 5.9858, 6.02045, 6.0552, 6.090050000000001, 6.125, 6.160050000000001, 6.1952, 6.230450000000001, 6.2658000000000005, 6.301250000000001, 6.3368, 6.372450000000001, 6.4082, 6.44405, 6.48, 6.51605, 6.5522, 6.58845, 6.6248000000000005, 6.66125, 6.697800000000001, 6.73445, 6.7712, 6.80805, 6.845000000000001, 6.88205, 6.919200000000001, 6.95645, 6.993800000000001, 7.03125, 7.068800000000001, 7.10645, 7.1442000000000005, 7.18205, 7.220000000000001, 7.25805, 7.296200000000001, 7.33445, 7.3728, 7.411250000000001, 7.4498, 7.48845, 7.5272, 7.566050000000001, 7.6049999999999995, 7.644050000000001, 7.683199999999999, 7.72245, 7.7618, 7.8012500000000005, 7.8408, 7.880450000000001, 7.9202, 7.960050000000001]}, {\"name\": \"VINT 0 0\", \"type\": \"scatter\", \"x\": [-6.4, -6.24, -6.08, -5.92, -5.76, -5.6000000000000005, -5.44, -5.28, -5.12, -4.96, -4.8, -4.64, -4.48, -4.32, -4.16, -4.0, -3.84, -3.68, -3.52, -3.36, -3.2, -3.04, -2.88, -2.72, -2.56, -2.4, -2.24, -2.08, -1.92, -1.76, -1.6, -1.44, -1.28, -1.12, -0.96, -0.8, -0.64, -0.48, -0.32, -0.16, 0.0, 0.16, 0.32, 0.48, 0.64, 0.8, 0.96, 1.12, 1.28, 1.44, 1.6, 1.76, 1.92, 2.08, 2.24, 2.4, 2.56, 2.72, 2.88, 3.04, 3.2, 3.36, 3.52, 3.68, 3.84, 4.0, 4.16, 4.32, 4.48, 4.64, 4.8, 4.96, 5.12, 5.28, 5.44, 5.6000000000000005, 5.76, 5.92, 6.08, 6.24], \"y\": [1.0068823340049447e-243, 7.544572488905091e-234, 3.528860325193393e-224, 1.030334450567002e-214, 1.877871593305867e-205, 2.1364733623450924e-196, 1.5173053573455023e-187, 6.726550684962347e-179, 1.861468817818091e-170, 3.215607486122854e-162, 3.467482000856992e-154, 2.334045503556592e-146, 9.807274716155076e-139, 2.57235723945016e-131, 4.211706911806694e-124, 4.3045615310504575e-117, 2.746272434553539e-110, 1.0937101289395383e-103, 2.7189722143265683e-97, 4.2194051017266446e-91, 4.087347823442404e-85, 2.4715869223603208e-79, 9.329408280287608e-74, 2.198245683555053e-68, 3.233272270085887e-63, 2.96860384060999e-58, 1.7013988356002075e-53, 6.087008894903058e-49, 1.3593949755379736e-44, 1.8950963854199844e-40, 1.649152680566853e-36, 8.958480354418503e-33, 3.037748010633774e-29, 6.430030952121817e-26, 8.496074279671982e-23, 7.007570195331553e-20, 3.607950178178999e-17, 1.1595714810889676e-14, 2.3263681231156535e-12, 2.9134211583684494e-10, 2.277571503457993e-08, 1.1114365885550313e-06, 3.385643904156359e-05, 0.000643786380681964, 0.0076416336089284555, 0.05662061153304444, 0.26188270573373024, 0.7561065527807389, 1.3627089343318868, 1.5330881387015105, 1.0766512841503677, 0.4719836133384896, 0.12915841227036953, 0.022062889679836255, 0.002352588707395313, 0.00015659343166117554, 6.5064634415571505e-06, 1.687564438909397e-07, 2.7322450968979437e-09, 2.7613589491453327e-11, 1.7420876105009038e-13, 6.860583252831747e-16, 1.6865375089711082e-18, 2.588063267885334e-21, 2.479120817756686e-24, 1.4823966144213123e-27, 5.533183274790811e-31, 1.2892276625785885e-34, 1.8751158044176907e-38, 1.7024348145760886e-42, 9.64843351399257e-47, 3.4133988981251837e-51, 7.538087915597228e-56, 1.0391524632636469e-60, 8.942135850513382e-66, 4.803382531877761e-71, 1.6106345246533045e-76, 3.371248395749093e-82, 4.4048225798000206e-88, 3.592609439875176e-94]}, {\"name\": \"VINT 0 1\", \"type\": \"scatter\", \"x\": [-6.4, -6.24, -6.08, -5.92, -5.76, -5.6000000000000005, -5.44, -5.28, -5.12, -4.96, -4.8, -4.64, -4.48, -4.32, -4.16, -4.0, -3.84, -3.68, -3.52, -3.36, -3.2, -3.04, -2.88, -2.72, -2.56, -2.4, -2.24, -2.08, -1.92, -1.76, -1.6, -1.44, -1.28, -1.12, -0.96, -0.8, -0.64, -0.48, -0.32, -0.16, 0.0, 0.16, 0.32, 0.48, 0.64, 0.8, 0.96, 1.12, 1.28, 1.44, 1.6, 1.76, 1.92, 2.08, 2.24, 2.4, 2.56, 2.72, 2.88, 3.04, 3.2, 3.36, 3.52, 3.68, 3.84, 4.0, 4.16, 4.32, 4.48, 4.64, 4.8, 4.96, 5.12, 5.28, 5.44, 5.6000000000000005, 5.76, 5.92, 6.08, 6.24], \"y\": [1.0068823340049447e-243, 7.544572488905091e-234, 3.528860325193393e-224, 1.030334450567002e-214, 1.877871593305867e-205, 2.1364733623450924e-196, 1.5173053573455023e-187, 6.726550684962347e-179, 1.861468817818091e-170, 3.215607486122854e-162, 3.467482000856992e-154, 2.334045503556592e-146, 9.807274716155076e-139, 2.57235723945016e-131, 4.211706911806694e-124, 4.3045615310504575e-117, 2.746272434553539e-110, 1.0937101289395383e-103, 2.7189722143265683e-97, 4.2194051017266446e-91, 4.087347823442404e-85, 2.4715869223603208e-79, 9.329408280287608e-74, 2.198245683555053e-68, 3.233272270085887e-63, 2.96860384060999e-58, 1.7013988356002075e-53, 6.087008894903058e-49, 1.3593949755379736e-44, 1.8950963854199844e-40, 1.649152680566853e-36, 8.958480354418503e-33, 3.037748010633774e-29, 6.430030952121817e-26, 8.496074279671982e-23, 7.007570195331553e-20, 3.607950178178999e-17, 1.1595714810889676e-14, 2.3263681231156535e-12, 2.9134211583684494e-10, 2.277571503457993e-08, 1.1114365885550313e-06, 3.385643904156359e-05, 0.000643786380681964, 0.0076416336089284555, 0.05662061153304444, 0.26188270573373024, 0.7561065527807389, 1.3627089343318868, 1.5330881387015105, 1.0766512841503677, 0.4719836133384896, 0.12915841227036953, 0.022062889679836255, 0.002352588707395313, 0.00015659343166117554, 6.5064634415571505e-06, 1.687564438909397e-07, 2.7322450968979437e-09, 2.7613589491453327e-11, 1.7420876105009038e-13, 6.860583252831747e-16, 1.6865375089711082e-18, 2.588063267885334e-21, 2.479120817756686e-24, 1.4823966144213123e-27, 5.533183274790811e-31, 1.2892276625785885e-34, 1.8751158044176907e-38, 1.7024348145760886e-42, 9.64843351399257e-47, 3.4133988981251837e-51, 7.538087915597228e-56, 1.0391524632636469e-60, 8.942135850513382e-66, 4.803382531877761e-71, 1.6106345246533045e-76, 3.371248395749093e-82, 4.4048225798000206e-88, 3.592609439875176e-94]}, {\"name\": \"VINT 1 0\", \"type\": \"scatter\", \"x\": [-6.4, -6.24, -6.08, -5.92, -5.76, -5.6000000000000005, -5.44, -5.28, -5.12, -4.96, -4.8, -4.64, -4.48, -4.32, -4.16, -4.0, -3.84, -3.68, -3.52, -3.36, -3.2, -3.04, -2.88, -2.72, -2.56, -2.4, -2.24, -2.08, -1.92, -1.76, -1.6, -1.44, -1.28, -1.12, -0.96, -0.8, -0.64, -0.48, -0.32, -0.16, 0.0, 0.16, 0.32, 0.48, 0.64, 0.8, 0.96, 1.12, 1.28, 1.44, 1.6, 1.76, 1.92, 2.08, 2.24, 2.4, 2.56, 2.72, 2.88, 3.04, 3.2, 3.36, 3.52, 3.68, 3.84, 4.0, 4.16, 4.32, 4.48, 4.64, 4.8, 4.96, 5.12, 5.28, 5.44, 5.6000000000000005, 5.76, 5.92, 6.08, 6.24], \"y\": [-4.765280944322325e-242, -3.4973828865534255e-232, -1.6015896488654317e-222, -4.576194646700697e-213, -8.15819536326917e-204, -9.074249345601368e-195, -6.29715349324633e-186, -2.7263654396614202e-177, -7.364080845814544e-169, -1.2408958527929538e-160, -1.3044309398354084e-152, -8.55384632514387e-145, -3.498975110324631e-137, -8.927759794283536e-130, -1.420849633073119e-122, -1.4103856039532057e-115, -8.73152478512672e-109, -3.3711737209666023e-102, -8.116803993463744e-96, -1.2186342019250617e-89, -1.1408134026766171e-83, -6.658463833236989e-78, -2.422774839201809e-72, -5.495264887387665e-67, -7.768776902588332e-62, -6.844646572682438e-57, -3.7577051613107555e-52, -1.285281826333394e-47, -2.7384128905988634e-43, -3.63357034374889e-39, -3.0019075018370637e-35, -1.5437176586091175e-31, -4.939713098336104e-28, -9.831703904025931e-25, -1.2165934952286735e-21, -9.354171414039322e-19, -4.465868034508998e-16, -1.3227280436693753e-13, -2.4278512324025567e-11, -2.7576748265185993e-09, -1.9347071757663926e-07, -8.362219463103092e-06, -0.00022186061869900972, -0.0035937246511313667, -0.035238303323288554, -0.20612989994501368, -0.6991569549849731, -1.284565398792421, -0.992200715190348, 0.3720851189241098, 1.306532582797845, 1.030966628854258, 0.4075127748329303, 0.09103040868467975, 0.011990587993169394, 0.0009501424636246437, 4.579501119802027e-05, 1.3516040448067503e-06, 2.4535592897349925e-08, 2.747779623946496e-10, 1.9026446471975665e-12, 8.158912895011809e-15, 2.1694370446783755e-17, 3.580345373287001e-20, 3.670309645086338e-23, 2.3385838642906462e-26, 9.266149951531869e-30, 2.2841659504761734e-33, 3.504241246749922e-37, 3.3468071535187196e-41, 1.990448347181834e-45, 7.373135722371776e-50, 1.7014505226341558e-54, 2.4463927635314222e-59, 2.191986196588687e-64, 1.224085211585927e-69, 4.2608738834844304e-75, 9.245797428768337e-81, 1.2508045713237426e-86, 1.0550439580710614e-92]}, {\"name\": \"VINT 1 1\", \"type\": \"scatter\", \"x\": [-6.4, -6.24, -6.08, -5.92, -5.76, -5.6000000000000005, -5.44, -5.28, -5.12, -4.96, -4.8, -4.64, -4.48, -4.32, -4.16, -4.0, -3.84, -3.68, -3.52, -3.36, -3.2, -3.04, -2.88, -2.72, -2.56, -2.4, -2.24, -2.08, -1.92, -1.76, -1.6, -1.44, -1.28, -1.12, -0.96, -0.8, -0.64, -0.48, -0.32, -0.16, 0.0, 0.16, 0.32, 0.48, 0.64, 0.8, 0.96, 1.12, 1.28, 1.44, 1.6, 1.76, 1.92, 2.08, 2.24, 2.4, 2.56, 2.72, 2.88, 3.04, 3.2, 3.36, 3.52, 3.68, 3.84, 4.0, 4.16, 4.32, 4.48, 4.64, 4.8, 4.96, 5.12, 5.28, 5.44, 5.6000000000000005, 5.76, 5.92, 6.08, 6.24], \"y\": [-4.765280944322325e-242, -3.4973828865534255e-232, -1.6015896488654317e-222, -4.576194646700697e-213, -8.15819536326917e-204, -9.074249345601368e-195, -6.29715349324633e-186, -2.7263654396614202e-177, -7.364080845814544e-169, -1.2408958527929538e-160, -1.3044309398354084e-152, -8.55384632514387e-145, -3.498975110324631e-137, -8.927759794283536e-130, -1.420849633073119e-122, -1.4103856039532057e-115, -8.73152478512672e-109, -3.3711737209666023e-102, -8.116803993463744e-96, -1.2186342019250617e-89, -1.1408134026766171e-83, -6.658463833236989e-78, -2.422774839201809e-72, -5.495264887387665e-67, -7.768776902588332e-62, -6.844646572682438e-57, -3.7577051613107555e-52, -1.285281826333394e-47, -2.7384128905988634e-43, -3.63357034374889e-39, -3.0019075018370637e-35, -1.5437176586091175e-31, -4.939713098336104e-28, -9.831703904025931e-25, -1.2165934952286735e-21, -9.354171414039322e-19, -4.465868034508998e-16, -1.3227280436693753e-13, -2.4278512324025567e-11, -2.7576748265185993e-09, -1.9347071757663926e-07, -8.362219463103092e-06, -0.00022186061869900972, -0.0035937246511313667, -0.035238303323288554, -0.20612989994501368, -0.6991569549849731, -1.284565398792421, -0.992200715190348, 0.3720851189241098, 1.306532582797845, 1.030966628854258, 0.4075127748329303, 0.09103040868467975, 0.011990587993169394, 0.0009501424636246437, 4.579501119802027e-05, 1.3516040448067503e-06, 2.4535592897349925e-08, 2.747779623946496e-10, 1.9026446471975665e-12, 8.158912895011809e-15, 2.1694370446783755e-17, 3.580345373287001e-20, 3.670309645086338e-23, 2.3385838642906462e-26, 9.266149951531869e-30, 2.2841659504761734e-33, 3.504241246749922e-37, 3.3468071535187196e-41, 1.990448347181834e-45, 7.373135722371776e-50, 1.7014505226341558e-54, 2.4463927635314222e-59, 2.191986196588687e-64, 1.224085211585927e-69, 4.2608738834844304e-75, 9.245797428768337e-81, 1.2508045713237426e-86, 1.0550439580710614e-92]}, {\"connectgaps\": false, \"marker\": {\"color\": \"blue\"}, \"name\": \"T0\", \"type\": \"scatter\", \"x\": [0], \"y\": [0.43092192948894703]}, {\"connectgaps\": false, \"marker\": {\"color\": \"blue\"}, \"name\": \"T1\", \"type\": \"scatter\", \"x\": [0], \"y\": [0.43092192948894703]}],\n",
       "                        {\"template\": {\"data\": {\"bar\": [{\"error_x\": {\"color\": \"#2a3f5f\"}, \"error_y\": {\"color\": \"#2a3f5f\"}, \"marker\": {\"line\": {\"color\": \"#E5ECF6\", \"width\": 0.5}}, \"type\": \"bar\"}], \"barpolar\": [{\"marker\": {\"line\": {\"color\": \"#E5ECF6\", \"width\": 0.5}}, \"type\": \"barpolar\"}], \"carpet\": [{\"aaxis\": {\"endlinecolor\": \"#2a3f5f\", \"gridcolor\": \"white\", \"linecolor\": \"white\", \"minorgridcolor\": \"white\", \"startlinecolor\": \"#2a3f5f\"}, \"baxis\": {\"endlinecolor\": \"#2a3f5f\", \"gridcolor\": \"white\", \"linecolor\": \"white\", \"minorgridcolor\": \"white\", \"startlinecolor\": \"#2a3f5f\"}, \"type\": \"carpet\"}], \"choropleth\": [{\"colorbar\": {\"outlinewidth\": 0, \"ticks\": \"\"}, \"type\": \"choropleth\"}], \"contour\": [{\"colorbar\": {\"outlinewidth\": 0, \"ticks\": \"\"}, \"colorscale\": [[0.0, \"#0d0887\"], [0.1111111111111111, \"#46039f\"], [0.2222222222222222, \"#7201a8\"], [0.3333333333333333, \"#9c179e\"], [0.4444444444444444, \"#bd3786\"], [0.5555555555555556, \"#d8576b\"], [0.6666666666666666, \"#ed7953\"], [0.7777777777777778, \"#fb9f3a\"], [0.8888888888888888, \"#fdca26\"], [1.0, \"#f0f921\"]], \"type\": \"contour\"}], \"contourcarpet\": [{\"colorbar\": {\"outlinewidth\": 0, \"ticks\": \"\"}, \"type\": \"contourcarpet\"}], \"heatmap\": [{\"colorbar\": {\"outlinewidth\": 0, \"ticks\": \"\"}, \"colorscale\": [[0.0, \"#0d0887\"], [0.1111111111111111, \"#46039f\"], [0.2222222222222222, \"#7201a8\"], [0.3333333333333333, \"#9c179e\"], [0.4444444444444444, \"#bd3786\"], [0.5555555555555556, \"#d8576b\"], [0.6666666666666666, \"#ed7953\"], [0.7777777777777778, \"#fb9f3a\"], [0.8888888888888888, \"#fdca26\"], [1.0, \"#f0f921\"]], \"type\": \"heatmap\"}], \"heatmapgl\": [{\"colorbar\": {\"outlinewidth\": 0, \"ticks\": \"\"}, \"colorscale\": [[0.0, \"#0d0887\"], [0.1111111111111111, \"#46039f\"], [0.2222222222222222, \"#7201a8\"], [0.3333333333333333, \"#9c179e\"], [0.4444444444444444, \"#bd3786\"], [0.5555555555555556, \"#d8576b\"], [0.6666666666666666, \"#ed7953\"], [0.7777777777777778, \"#fb9f3a\"], [0.8888888888888888, \"#fdca26\"], [1.0, \"#f0f921\"]], \"type\": \"heatmapgl\"}], \"histogram\": [{\"marker\": {\"colorbar\": {\"outlinewidth\": 0, \"ticks\": \"\"}}, \"type\": \"histogram\"}], \"histogram2d\": [{\"colorbar\": {\"outlinewidth\": 0, \"ticks\": \"\"}, \"colorscale\": [[0.0, \"#0d0887\"], [0.1111111111111111, \"#46039f\"], [0.2222222222222222, \"#7201a8\"], [0.3333333333333333, \"#9c179e\"], [0.4444444444444444, \"#bd3786\"], [0.5555555555555556, \"#d8576b\"], [0.6666666666666666, \"#ed7953\"], [0.7777777777777778, \"#fb9f3a\"], [0.8888888888888888, \"#fdca26\"], [1.0, \"#f0f921\"]], \"type\": \"histogram2d\"}], \"histogram2dcontour\": [{\"colorbar\": {\"outlinewidth\": 0, \"ticks\": \"\"}, \"colorscale\": [[0.0, \"#0d0887\"], [0.1111111111111111, \"#46039f\"], [0.2222222222222222, \"#7201a8\"], [0.3333333333333333, \"#9c179e\"], [0.4444444444444444, \"#bd3786\"], [0.5555555555555556, \"#d8576b\"], [0.6666666666666666, \"#ed7953\"], [0.7777777777777778, \"#fb9f3a\"], [0.8888888888888888, \"#fdca26\"], [1.0, \"#f0f921\"]], \"type\": \"histogram2dcontour\"}], \"mesh3d\": [{\"colorbar\": {\"outlinewidth\": 0, \"ticks\": \"\"}, \"type\": \"mesh3d\"}], \"parcoords\": [{\"line\": {\"colorbar\": {\"outlinewidth\": 0, \"ticks\": \"\"}}, \"type\": \"parcoords\"}], \"scatter\": [{\"marker\": {\"colorbar\": {\"outlinewidth\": 0, \"ticks\": \"\"}}, \"type\": \"scatter\"}], \"scatter3d\": [{\"line\": {\"colorbar\": {\"outlinewidth\": 0, \"ticks\": \"\"}}, \"marker\": {\"colorbar\": {\"outlinewidth\": 0, \"ticks\": \"\"}}, \"type\": \"scatter3d\"}], \"scattercarpet\": [{\"marker\": {\"colorbar\": {\"outlinewidth\": 0, \"ticks\": \"\"}}, \"type\": \"scattercarpet\"}], \"scattergeo\": [{\"marker\": {\"colorbar\": {\"outlinewidth\": 0, \"ticks\": \"\"}}, \"type\": \"scattergeo\"}], \"scattergl\": [{\"marker\": {\"colorbar\": {\"outlinewidth\": 0, \"ticks\": \"\"}}, \"type\": \"scattergl\"}], \"scattermapbox\": [{\"marker\": {\"colorbar\": {\"outlinewidth\": 0, \"ticks\": \"\"}}, \"type\": \"scattermapbox\"}], \"scatterpolar\": [{\"marker\": {\"colorbar\": {\"outlinewidth\": 0, \"ticks\": \"\"}}, \"type\": \"scatterpolar\"}], \"scatterpolargl\": [{\"marker\": {\"colorbar\": {\"outlinewidth\": 0, \"ticks\": \"\"}}, \"type\": \"scatterpolargl\"}], \"scatterternary\": [{\"marker\": {\"colorbar\": {\"outlinewidth\": 0, \"ticks\": \"\"}}, \"type\": \"scatterternary\"}], \"surface\": [{\"colorbar\": {\"outlinewidth\": 0, \"ticks\": \"\"}, \"colorscale\": [[0.0, \"#0d0887\"], [0.1111111111111111, \"#46039f\"], [0.2222222222222222, \"#7201a8\"], [0.3333333333333333, \"#9c179e\"], [0.4444444444444444, \"#bd3786\"], [0.5555555555555556, \"#d8576b\"], [0.6666666666666666, \"#ed7953\"], [0.7777777777777778, \"#fb9f3a\"], [0.8888888888888888, \"#fdca26\"], [1.0, \"#f0f921\"]], \"type\": \"surface\"}], \"table\": [{\"cells\": {\"fill\": {\"color\": \"#EBF0F8\"}, \"line\": {\"color\": \"white\"}}, \"header\": {\"fill\": {\"color\": \"#C8D4E3\"}, \"line\": {\"color\": \"white\"}}, \"type\": \"table\"}]}, \"layout\": {\"annotationdefaults\": {\"arrowcolor\": \"#2a3f5f\", \"arrowhead\": 0, \"arrowwidth\": 1}, \"colorscale\": {\"diverging\": [[0, \"#8e0152\"], [0.1, \"#c51b7d\"], [0.2, \"#de77ae\"], [0.3, \"#f1b6da\"], [0.4, \"#fde0ef\"], [0.5, \"#f7f7f7\"], [0.6, \"#e6f5d0\"], [0.7, \"#b8e186\"], [0.8, \"#7fbc41\"], [0.9, \"#4d9221\"], [1, \"#276419\"]], \"sequential\": [[0.0, \"#0d0887\"], [0.1111111111111111, \"#46039f\"], [0.2222222222222222, \"#7201a8\"], [0.3333333333333333, \"#9c179e\"], [0.4444444444444444, \"#bd3786\"], [0.5555555555555556, \"#d8576b\"], [0.6666666666666666, \"#ed7953\"], [0.7777777777777778, \"#fb9f3a\"], [0.8888888888888888, \"#fdca26\"], [1.0, \"#f0f921\"]], \"sequentialminus\": [[0.0, \"#0d0887\"], [0.1111111111111111, \"#46039f\"], [0.2222222222222222, \"#7201a8\"], [0.3333333333333333, \"#9c179e\"], [0.4444444444444444, \"#bd3786\"], [0.5555555555555556, \"#d8576b\"], [0.6666666666666666, \"#ed7953\"], [0.7777777777777778, \"#fb9f3a\"], [0.8888888888888888, \"#fdca26\"], [1.0, \"#f0f921\"]]}, \"colorway\": [\"#636efa\", \"#EF553B\", \"#00cc96\", \"#ab63fa\", \"#FFA15A\", \"#19d3f3\", \"#FF6692\", \"#B6E880\", \"#FF97FF\", \"#FECB52\"], \"font\": {\"color\": \"#2a3f5f\"}, \"geo\": {\"bgcolor\": \"white\", \"lakecolor\": \"white\", \"landcolor\": \"#E5ECF6\", \"showlakes\": true, \"showland\": true, \"subunitcolor\": \"white\"}, \"hoverlabel\": {\"align\": \"left\"}, \"hovermode\": \"closest\", \"mapbox\": {\"style\": \"light\"}, \"paper_bgcolor\": \"white\", \"plot_bgcolor\": \"#E5ECF6\", \"polar\": {\"angularaxis\": {\"gridcolor\": \"white\", \"linecolor\": \"white\", \"ticks\": \"\"}, \"bgcolor\": \"#E5ECF6\", \"radialaxis\": {\"gridcolor\": \"white\", \"linecolor\": \"white\", \"ticks\": \"\"}}, \"scene\": {\"xaxis\": {\"backgroundcolor\": \"#E5ECF6\", \"gridcolor\": \"white\", \"gridwidth\": 2, \"linecolor\": \"white\", \"showbackground\": true, \"ticks\": \"\", \"zerolinecolor\": \"white\"}, \"yaxis\": {\"backgroundcolor\": \"#E5ECF6\", \"gridcolor\": \"white\", \"gridwidth\": 2, \"linecolor\": \"white\", \"showbackground\": true, \"ticks\": \"\", \"zerolinecolor\": \"white\"}, \"zaxis\": {\"backgroundcolor\": \"#E5ECF6\", \"gridcolor\": \"white\", \"gridwidth\": 2, \"linecolor\": \"white\", \"showbackground\": true, \"ticks\": \"\", \"zerolinecolor\": \"white\"}}, \"shapedefaults\": {\"line\": {\"color\": \"#2a3f5f\"}}, \"ternary\": {\"aaxis\": {\"gridcolor\": \"white\", \"linecolor\": \"white\", \"ticks\": \"\"}, \"baxis\": {\"gridcolor\": \"white\", \"linecolor\": \"white\", \"ticks\": \"\"}, \"bgcolor\": \"#E5ECF6\", \"caxis\": {\"gridcolor\": \"white\", \"linecolor\": \"white\", \"ticks\": \"\"}}, \"title\": {\"x\": 0.05}, \"xaxis\": {\"automargin\": true, \"gridcolor\": \"white\", \"linecolor\": \"white\", \"ticks\": \"\", \"zerolinecolor\": \"white\", \"zerolinewidth\": 2}, \"yaxis\": {\"automargin\": true, \"gridcolor\": \"white\", \"linecolor\": \"white\", \"ticks\": \"\", \"zerolinecolor\": \"white\", \"zerolinewidth\": 2}}}, \"title\": {\"text\": \"Hartree-Fock Energy VS Bond Distance\"}, \"xaxis\": {\"title\": {\"text\": \"Bond Distance in Bohr Units Radius\"}}, \"yaxis\": {\"title\": {\"text\": \"Energy in Hartrees\"}}},\n",
       "                        {\"responsive\": true}\n",
       "                    ).then(function(){\n",
       "                            \n",
       "var gd = document.getElementById('58a1844a-f64c-4cfd-affc-23306dbad49d');\n",
       "var x = new MutationObserver(function (mutations, observer) {{\n",
       "        var display = window.getComputedStyle(gd).display;\n",
       "        if (!display || display === 'none') {{\n",
       "            console.log([gd, 'removed!']);\n",
       "            Plotly.purge(gd);\n",
       "            observer.disconnect();\n",
       "        }}\n",
       "}});\n",
       "\n",
       "// Listen for the removal of the full notebook cells\n",
       "var notebookContainer = gd.closest('#notebook-container');\n",
       "if (notebookContainer) {{\n",
       "    x.observe(notebookContainer, {childList: true});\n",
       "}}\n",
       "\n",
       "// Listen for the clearing of the current output cell\n",
       "var outputEl = gd.closest('.output');\n",
       "if (outputEl) {{\n",
       "    x.observe(outputEl, {childList: true});\n",
       "}}\n",
       "\n",
       "                        })\n",
       "                };\n",
       "                });\n",
       "            </script>\n",
       "        </div>"
      ]
     },
     "metadata": {},
     "output_type": "display_data"
    }
   ],
   "source": [
    "#prepare data for use with graphing\n",
    "dx = .01\n",
    "steps = 15/dx\n",
    "\n",
    "\n",
    "#m = (1836 * 1836) / (2 * 1836)\n",
    "#data = [x*dx for x in range(int(steps))]\n",
    "\n",
    "figure = { \n",
    "    \"data\": [\n",
    "        \n",
    "        #create the Hartree-Fock generated Potential Energy Surface\n",
    "        {\n",
    "            \"type\":\"scatter\",\n",
    "            \"x\":R,\n",
    "            \"y\":E,\n",
    "            \"connectgaps\":False,\n",
    "            \"mode\":\"markers\", \n",
    "            \"name\":\"Hartree-Fock Computed\",\n",
    "            \"marker\":{\"color\":\"blue\"}\n",
    "        },\n",
    "    \n",
    "        #Highlight the minimum energy point in red\n",
    "        {\n",
    "            \"type\":\"scatter\",\n",
    "            \"x\":[optimalR],\n",
    "            \"y\":[minE],\n",
    "            \"name\":\"Optimal Bond Distance\",\n",
    "            \"marker\":{\"color\":\"red\"}\n",
    "        },\n",
    "        \n",
    "        #Create and plot the Morse Potential fit\n",
    "        {\n",
    "            \"type\":\"scatter\",\n",
    "            \"x\":[x*dx for x in range(-100, 400)],\n",
    "            \"y\": [morsePotential(r * dx, popt[0], popt[1], popt[2], popt[3]) for r in range(-100, 400)], #popt[0], popt[1], popt[2], popt[3]) for r in data] ,\n",
    "            \"connectgaps\":False,\n",
    "            \"name\":\"Morse Potential Approximation\",\n",
    "            \"marker\":{\"color\":\"green\"}\n",
    "        },\n",
    "        \n",
    " #       {\n",
    " #           \"type\":\"scatter\",\n",
    " #           \"x\":[popt[0]] * len(EHO),\n",
    " #           \"y\":[x for x in EHO],\n",
    " #           \"connectgaps\":False,\n",
    " #           \"name\":\"Harmonic Oscillator\",\n",
    " #           \"marker\":{\"color\":\"blue\"}\n",
    " #       },\n",
    "        #{\n",
    "        #    \"type\":\"scatter\",\n",
    "        #    \"x\":[popt[1]] * len(EPW),\n",
    "        #    \"y\":EPW,\n",
    "        #    \"connectgaps\":False,\n",
    "        #    \"name\":\"Plane Wave\",\n",
    "        #    \"marker\":{\"color\":\"blue\"}\n",
    "        #},\n",
    "        \n",
    "           #{\n",
    "           # \"type\":\"scatter\",\n",
    "           # \"x\":[PIB] * len(EPW),\n",
    "           # \"y\":PIB,\n",
    "           # \"connectgaps\":False,\n",
    "           # \"name\":\"PIB Solution\",\n",
    "           # \"marker\":{\"color\":\"blue\"}\n",
    "        #}\n",
    "        \n",
    "    ],\n",
    "    \n",
    "    #Set up the layout of the graph\n",
    "    \"layout\":\n",
    "        {\n",
    "           \"xaxis\":{\"title\":\"Bond Distance in Bohr Units Radius\"},\n",
    "           \"yaxis\":{\"title\":\"Energy in Hartrees\"},\n",
    "            \"title\":{\"text\":\"Hartree-Fock Energy VS Bond Distance\"}\n",
    "        },    \n",
    "}\n",
    "\n",
    "xMin = -40\n",
    "xMax = 40\n",
    "steps = 500\n",
    "dx = (xMax - xMin) / steps\n",
    "\n",
    "#Loop over all MO Energies\n",
    "#for i, bf in enumerate(basisSet):\n",
    "#        figure[\"data\"].append(\n",
    "#            {\n",
    "#                \"type\":\"scatter\",\n",
    "\n",
    "#                \"x\":[x*dx for x in range(0, 1000)],\n",
    "#                \"y\" : [bf(x*dx) for x in range(0, 1000) ],\n",
    "#                \"name\":\"HO \" + str(i)\n",
    "#            }\n",
    "#        )    \n",
    "#Loop over all MO Energies\n",
    "for i in range(basisSize):\n",
    "    for j in range(basisSize):\n",
    "        figure[\"data\"].append(\n",
    "            {\n",
    "                \"type\":\"scatter\",\n",
    "                \"x\":[x*dx for x in range(xMin, xMax)],\n",
    "                \"y\" : [basisSet[i](x*dx) for x in range(xMin, xMax)],\n",
    "                \n",
    "                #* morsePotential(x*dx, popt[0], popt[1], popt[2], popt[3]) * basisSet[j](x*dx) for x in range(xMin, xMax) ],\n",
    "                #\"y\":[basisSet[i](r) * (1/(2*u)) * ddx(basisSet[j], r, n=2) for r in range(0, 100)],\n",
    "\n",
    "                \"name\":\"VINT \" + str(i) + \" \" + str(j)\n",
    "            }\n",
    "        )    \n",
    "        \n",
    "for i in range(len(EHO)):\n",
    "\n",
    "    figure[\"data\"].append(\n",
    "        {\n",
    "            \"type\":\"scatter\",\n",
    "            \"x\":[0],\n",
    "            \"y\":[EHO[i]],\n",
    "            \"connectgaps\":False,\n",
    "            \"name\":\"T\" + str(i),\n",
    "            \"marker\":{\"color\":\"blue\"}\n",
    "        }\n",
    "    )    \n",
    "\n",
    "iplot(figure)"
   ]
  }
 ],
 "metadata": {
  "kernelspec": {
   "display_name": "Python 3",
   "language": "python",
   "name": "python3"
  },
  "language_info": {
   "codemirror_mode": {
    "name": "ipython",
    "version": 3
   },
   "file_extension": ".py",
   "mimetype": "text/x-python",
   "name": "python",
   "nbconvert_exporter": "python",
   "pygments_lexer": "ipython3",
   "version": "3.7.3"
  }
 },
 "nbformat": 4,
 "nbformat_minor": 2
}
