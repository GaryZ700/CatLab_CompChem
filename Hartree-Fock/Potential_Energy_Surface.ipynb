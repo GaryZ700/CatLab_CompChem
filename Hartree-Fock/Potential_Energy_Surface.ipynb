{
 "cells": [
  {
   "cell_type": "code",
   "execution_count": 1,
   "metadata": {
    "scrolled": false
   },
   "outputs": [
    {
     "name": "stdout",
     "output_type": "stream",
     "text": [
      "Hartree-Fock Computation: 11.0%\n",
      "Hartree-Fock Computation: 14.0%\n",
      "Hartree-Fock Computation: 17.0%\n",
      "Hartree-Fock Computation: 20.0%\n",
      "Hartree-Fock Computation: 22.0%\n",
      "Hartree-Fock Computation: 25.0%\n",
      "Hartree-Fock Computation: 28.0%\n",
      "Hartree-Fock Computation: 31.0%\n",
      "Hartree-Fock Computation: 34.0%\n",
      "Hartree-Fock Computation: 37.0%\n",
      "Hartree-Fock Computation: 40.0%\n",
      "Hartree-Fock Computation: 42.0%\n",
      "Hartree-Fock Computation: 45.0%\n",
      "Hartree-Fock Computation: 48.0%\n",
      "Hartree-Fock Computation: 51.0%\n",
      "Hartree-Fock Computation: 54.0%\n",
      "Hartree-Fock Computation: 57.0%\n",
      "Hartree-Fock Computation: 60.0%\n",
      "Hartree-Fock Computation: 62.0%\n",
      "Hartree-Fock Computation: 65.0%\n",
      "Hartree-Fock Computation: 68.0%\n",
      "Hartree-Fock Computation: 71.0%\n",
      "Hartree-Fock Computation: 74.0%\n",
      "Hartree-Fock Computation: 77.0%\n",
      "Hartree-Fock Computation: 80.0%\n",
      "Hartree-Fock Computation: 82.0%\n",
      "Hartree-Fock Computation: 85.0%\n",
      "Hartree-Fock Computation: 88.0%\n",
      "Hartree-Fock Computation: 91.0%\n",
      "Hartree-Fock Computation: 94.0%\n",
      "Hartree-Fock Computation: 97.0%\n",
      "Hartree-Fock Computation Complete\n"
     ]
    }
   ],
   "source": [
    "from molecule import atom\n",
    "from molecule import vector\n",
    "from molecule import gaussian\n",
    "from molecule import molecule\n",
    "from morsePotential import morsePotential\n",
    "from notebookImporter import importNotebook\n",
    "\n",
    "HartreeFock = importNotebook(\"Hartree_Class\")\n",
    "\n",
    "#set up the automated calculations used to generate the surface potential\n",
    "\n",
    "#User Specified Variables\n",
    "\n",
    "#Enter the atomic number for atoms 1 and 2\n",
    "atom1 = 1\n",
    "atom2 = 1\n",
    "\n",
    "#Enter the number of electrons for atom 1 and 2\n",
    "#Note the total number of electrons must be a multiple of 2, \n",
    "#otherwise, the computation will round the total number of electrons \n",
    "#down to the nearest multiple of 2\n",
    "atomN1 = 1\n",
    "atomN2 = 1\n",
    "\n",
    "#Select a basis, for a list of available basis sets, please see the \"basisSets\" folder\n",
    "basisName = \"DEF2-SVP\"\n",
    "\n",
    "#Enter Starting and End Bond distance for the diatomic molecule\n",
    "startR = 0.4\n",
    "endR = 3.5\n",
    "\n",
    "#Please enter the distance the bond distance should increase each iteration\n",
    "#The smaller the number, the more accurate and time-consuming the computation will be\n",
    "step = 0.1\n",
    "\n",
    "#Please enter how small the difference in energy between two ground state energy calculations\n",
    "#must be in order to convergence to occur\n",
    "convergenceCritera = pow(10, -10)\n",
    "\n",
    "#Please enter the maximum number of iterations the SCF procedure can take before\n",
    "#the computation will fail as being unable to converge\n",
    "maxIterations = 100\n",
    "\n",
    "#System Defined Variables\n",
    "E = []\n",
    "R = []\n",
    "MOEnergy = []\n",
    "delta = (endR - startR) / step\n",
    "currentR = startR\n",
    "\n",
    "while(not(currentR >= endR)):\n",
    "    \n",
    "    #define the molecular system\n",
    "    system = molecule()\n",
    "    system.addAtom(atom(vector(1,1,2+currentR), atom1, atomN1))\n",
    "    system.addAtom(atom(vector(1,1,2), atom2, atomN2))\n",
    "\n",
    "    system.addBasis(basisName)\n",
    "    \n",
    "    #Set up the Hartree Procedure\n",
    "    HF = HartreeFock.HF(system, convergenceCritera, maxIterations)\n",
    "\n",
    "    #Store Bond distance, associated Energy, and MO Energies\n",
    "    R.append(currentR)\n",
    "    E.append(HF.SCF())\n",
    "    MOEnergy.append(HF.MOEnergy)\n",
    "    \n",
    "    print(\"Hartree-Fock Computation: \" + str(currentR * 100 // endR) + \"%\")\n",
    "    \n",
    "    #update the current intenuclear distance\n",
    "    currentR += step\n",
    "\n",
    "print(\"Hartree-Fock Computation Complete\")"
   ]
  },
  {
   "cell_type": "code",
   "execution_count": 2,
   "metadata": {},
   "outputs": [
    {
     "data": {
      "text/html": [
       "        <script type=\"text/javascript\">\n",
       "        window.PlotlyConfig = {MathJaxConfig: 'local'};\n",
       "        if (window.MathJax) {MathJax.Hub.Config({SVG: {font: \"STIX-Web\"}});}\n",
       "        if (typeof require !== 'undefined') {\n",
       "        require.undef(\"plotly\");\n",
       "        requirejs.config({\n",
       "            paths: {\n",
       "                'plotly': ['https://cdn.plot.ly/plotly-latest.min']\n",
       "            }\n",
       "        });\n",
       "        require(['plotly'], function(Plotly) {\n",
       "            window._Plotly = Plotly;\n",
       "        });\n",
       "        }\n",
       "        </script>\n",
       "        "
      ]
     },
     "metadata": {},
     "output_type": "display_data"
    }
   ],
   "source": [
    "#Setup system for graphing purposes\n",
    "import math\n",
    "from plotly.offline import iplot, init_notebook_mode\n",
    "init_notebook_mode(connected=True)\n",
    "\n",
    "#Prepare data for graphing\n",
    "morse = morsePotential(R, E)\n",
    "minEIndex = E.index(min(E))\n",
    "minE = E.pop(minEIndex)\n",
    "optimalR = R.copy().pop(minEIndex)"
   ]
  },
  {
   "cell_type": "code",
   "execution_count": 3,
   "metadata": {},
   "outputs": [
    {
     "name": "stdout",
     "output_type": "stream",
     "text": [
      "Morse Potential Computation: 20%\n",
      "Morse Potential Computation: 40%\n",
      "Morse Potential Computation: 60%\n",
      "Morse Potential Computation: 80%\n",
      "Morse Potential Computation: 100%\n",
      "Morse Potential Computation Complete\n",
      "\n",
      "0.17233045610422176\n",
      "K: 36.91467271140026\n",
      "[-1.0400541857501813, -0.8809278054419379, -0.7350055009296729, -0.6022872722133863, -0.48277311929307787, -0.37646304216874804, -0.2833570408403964, -0.20345511530802318, -0.13675726557162854, -0.08326349163121205, -0.04297379348677399, -0.0158881711383142, -0.0020066245858327836, -0.0013291538293300764, -0.013855758868805523, -0.039586439704259124, -0.07852119633569132]\n"
     ]
    },
    {
     "data": {
      "application/vnd.plotly.v1+json": {
       "config": {
        "linkText": "Export to plot.ly",
        "plotlyServerURL": "https://plot.ly",
        "showLink": false
       },
       "data": [
        {
         "connectgaps": false,
         "marker": {
          "color": "blue"
         },
         "mode": "markers",
         "name": "Hartree-Fock Computed",
         "type": "scatter",
         "uid": "dae60d93-3be7-4927-a132-8ddfa4f5998e",
         "x": [
          0.4,
          0.5,
          0.6,
          0.7,
          0.7999999999999999,
          0.8999999999999999,
          0.9999999999999999,
          1.0999999999999999,
          1.2,
          1.3,
          1.4000000000000001,
          1.5000000000000002,
          1.6000000000000003,
          1.7000000000000004,
          1.8000000000000005,
          1.9000000000000006,
          2.0000000000000004,
          2.1000000000000005,
          2.2000000000000006,
          2.3000000000000007,
          2.400000000000001,
          2.500000000000001,
          2.600000000000001,
          2.700000000000001,
          2.800000000000001,
          2.9000000000000012,
          3.0000000000000013,
          3.1000000000000014,
          3.2000000000000015,
          3.3000000000000016,
          3.4000000000000017
         ],
         "y": [
          0.0077868661745301715,
          -0.41962199942404244,
          -0.6790503176551423,
          -0.8438285753646124,
          -0.9509877133597222,
          -1.0212065064673799,
          -1.0668470688525558,
          -1.0956850928801283,
          -1.1128084561601423,
          -1.1216474510997267,
          -1.1232385643643283,
          -1.118850653379347,
          -1.1122759676516356,
          -1.1041583765538188,
          -1.0949785473198967,
          -1.0850970382091458,
          -1.0747844404245819,
          -1.0642432497665184,
          -1.053624222712874,
          -1.043038822565821,
          -1.0325687341373415,
          -1.0222731099757425,
          -1.012194054145989,
          -1.0023607565083088,
          -0.9927926151223001,
          -0.9835016124597794,
          -0.974494143754511,
          -0.9657724383334193,
          -0.957335670644284,
          -0.9491808271103468
         ]
        },
        {
         "marker": {
          "color": "red"
         },
         "name": "Optimal Bond Distance",
         "type": "scatter",
         "uid": "21ca5846-1a53-4498-bd43-2c995e74d231",
         "x": [
          1.4000000000000001
         ],
         "y": [
          -1.1245689043277949
         ]
        },
        {
         "connectgaps": true,
         "marker": {
          "color": "green"
         },
         "name": "Morse Potential Approximation",
         "type": "scatter",
         "uid": "acc68277-47fd-448e-9b68-ca4ef4e4f7a5",
         "x": [
          0.4,
          0.5,
          0.6,
          0.7,
          0.7999999999999999,
          0.8999999999999999,
          0.9999999999999999,
          1.0999999999999999,
          1.2,
          1.3,
          1.4000000000000001,
          1.5000000000000002,
          1.6000000000000003,
          1.7000000000000004,
          1.8000000000000005,
          1.9000000000000006,
          2.0000000000000004,
          2.1000000000000005,
          2.2000000000000006,
          2.3000000000000007,
          2.400000000000001,
          2.500000000000001,
          2.600000000000001,
          2.700000000000001,
          2.800000000000001,
          2.9000000000000012,
          3.0000000000000013,
          3.1000000000000014,
          3.2000000000000015,
          3.3000000000000016,
          3.4000000000000017
         ],
         "y": [
          -0.6255059177578586,
          -0.7420232792325301,
          -0.838409692126429,
          -0.9170582196186716,
          -0.9801077890210546,
          -1.0294689472290812,
          -1.0668470620724977,
          -1.093763220174961,
          -1.1115730474727565,
          -1.1214836564636739,
          -1.1245689043277949,
          -1.1217831280730395,
          -1.113973506621262,
          -1.101891185095135,
          -1.0862012833382173,
          -1.067491898761655,
          -1.046282202835528,
          -1.0230297208178096,
          -0.9981368755370089,
          -0.9719568681236403,
          -0.9447989614373774,
          -0.9169332254859284,
          -0.8885947983104665,
          -0.8599877105595031,
          -0.8312883172331875,
          -0.8026483758030856,
          -0.7741978060535508,
          -0.7460471635090657,
          -0.718289855170695,
          -0.6910041234508633,
          -0.6642548216391033
         ]
        },
        {
         "type": "scatter",
         "uid": "8837e625-d21e-47f2-84a3-7fed4940dfba",
         "x": [
          1.1,
          1.9
         ],
         "y": [
          -1.0400541857501813,
          -1.0400541857501813
         ]
        },
        {
         "type": "scatter",
         "uid": "1066da53-6b82-45f1-99fa-350f3e6b1977",
         "x": [
          1.1,
          1.9
         ],
         "y": [
          -0.8809278054419379,
          -0.8809278054419379
         ]
        },
        {
         "type": "scatter",
         "uid": "292d457c-5fc4-49a9-b17c-b3a73b1a7b5b",
         "x": [
          1.1,
          1.9
         ],
         "y": [
          -0.7350055009296729,
          -0.7350055009296729
         ]
        },
        {
         "type": "scatter",
         "uid": "c54e38a0-e646-466e-9bfe-a894ba988b07",
         "x": [
          1.1,
          1.9
         ],
         "y": [
          -0.6022872722133863,
          -0.6022872722133863
         ]
        },
        {
         "type": "scatter",
         "uid": "26fb5e0a-bd12-4496-8aaf-a57eb0c4a1ef",
         "x": [
          1.1,
          1.9
         ],
         "y": [
          -0.48277311929307787,
          -0.48277311929307787
         ]
        },
        {
         "type": "scatter",
         "uid": "15818281-2bd3-4a7c-9bdd-9fc408d4cea1",
         "x": [
          1.1,
          1.9
         ],
         "y": [
          -0.37646304216874804,
          -0.37646304216874804
         ]
        },
        {
         "type": "scatter",
         "uid": "f4e53ee3-b3f1-401b-b283-77f96c687f5e",
         "x": [
          1.1,
          1.9
         ],
         "y": [
          -0.2833570408403964,
          -0.2833570408403964
         ]
        },
        {
         "type": "scatter",
         "uid": "373597fc-c1a3-4edc-be47-ccc0b211fee4",
         "x": [
          1.1,
          1.9
         ],
         "y": [
          -0.20345511530802318,
          -0.20345511530802318
         ]
        },
        {
         "type": "scatter",
         "uid": "b81974be-54be-46a9-8fbd-3ec8521f89b1",
         "x": [
          1.1,
          1.9
         ],
         "y": [
          -0.13675726557162854,
          -0.13675726557162854
         ]
        },
        {
         "type": "scatter",
         "uid": "d3b88488-c8a2-4d82-8ed0-f13dae37df99",
         "x": [
          1.1,
          1.9
         ],
         "y": [
          -0.08326349163121205,
          -0.08326349163121205
         ]
        },
        {
         "type": "scatter",
         "uid": "fc69cbf6-fa6b-471b-b6b1-5fe254feaa79",
         "x": [
          1.1,
          1.9
         ],
         "y": [
          -0.04297379348677399,
          -0.04297379348677399
         ]
        },
        {
         "type": "scatter",
         "uid": "7f91ea49-46f9-4c31-b9a3-102dd89837e7",
         "x": [
          1.1,
          1.9
         ],
         "y": [
          -0.0158881711383142,
          -0.0158881711383142
         ]
        },
        {
         "type": "scatter",
         "uid": "6cbf3132-1a9e-4a7e-beef-b9864f2c27e7",
         "x": [
          1.1,
          1.9
         ],
         "y": [
          -0.0020066245858327836,
          -0.0020066245858327836
         ]
        },
        {
         "type": "scatter",
         "uid": "2580081b-c833-4c29-b323-eae6819c477d",
         "x": [
          1.1,
          1.9
         ],
         "y": [
          -0.0013291538293300764,
          -0.0013291538293300764
         ]
        },
        {
         "type": "scatter",
         "uid": "6ec500c8-3215-4fad-9d2d-14135b55e63e",
         "x": [
          1.1,
          1.9
         ],
         "y": [
          -0.013855758868805523,
          -0.013855758868805523
         ]
        },
        {
         "type": "scatter",
         "uid": "e98a9e2c-8775-4a0b-ba16-4173f0f56e5e",
         "x": [
          1.1,
          1.9
         ],
         "y": [
          -0.039586439704259124,
          -0.039586439704259124
         ]
        },
        {
         "type": "scatter",
         "uid": "f14ac123-99fe-45d8-b274-6f00268920b0",
         "x": [
          1.1,
          1.9
         ],
         "y": [
          -0.07852119633569132,
          -0.07852119633569132
         ]
        }
       ],
       "layout": {
        "title": {
         "text": "Hartree-Fock Energy VS Bond Distance"
        },
        "xaxis": {
         "title": {
          "text": "Bond Distance in Atomic Units"
         }
        },
        "yaxis": {
         "title": {
          "text": "Energy in Hartrees"
         }
        }
       }
      },
      "text/html": [
       "<div>\n",
       "        \n",
       "        \n",
       "            <div id=\"06019b95-f00f-4eb9-8a36-522835136c52\" class=\"plotly-graph-div\" style=\"height:525px; width:100%;\"></div>\n",
       "            <script type=\"text/javascript\">\n",
       "                require([\"plotly\"], function(Plotly) {\n",
       "                    window.PLOTLYENV=window.PLOTLYENV || {};\n",
       "                    window.PLOTLYENV.BASE_URL='https://plot.ly';\n",
       "                    \n",
       "                if (document.getElementById(\"06019b95-f00f-4eb9-8a36-522835136c52\")) {\n",
       "                    Plotly.newPlot(\n",
       "                        '06019b95-f00f-4eb9-8a36-522835136c52',\n",
       "                        [{\"connectgaps\": false, \"marker\": {\"color\": \"blue\"}, \"mode\": \"markers\", \"name\": \"Hartree-Fock Computed\", \"type\": \"scatter\", \"uid\": \"dae60d93-3be7-4927-a132-8ddfa4f5998e\", \"x\": [0.4, 0.5, 0.6, 0.7, 0.7999999999999999, 0.8999999999999999, 0.9999999999999999, 1.0999999999999999, 1.2, 1.3, 1.4000000000000001, 1.5000000000000002, 1.6000000000000003, 1.7000000000000004, 1.8000000000000005, 1.9000000000000006, 2.0000000000000004, 2.1000000000000005, 2.2000000000000006, 2.3000000000000007, 2.400000000000001, 2.500000000000001, 2.600000000000001, 2.700000000000001, 2.800000000000001, 2.9000000000000012, 3.0000000000000013, 3.1000000000000014, 3.2000000000000015, 3.3000000000000016, 3.4000000000000017], \"y\": [0.0077868661745301715, -0.41962199942404244, -0.6790503176551423, -0.8438285753646124, -0.9509877133597222, -1.0212065064673799, -1.0668470688525558, -1.0956850928801283, -1.1128084561601423, -1.1216474510997267, -1.1232385643643283, -1.118850653379347, -1.1122759676516356, -1.1041583765538188, -1.0949785473198967, -1.0850970382091458, -1.0747844404245819, -1.0642432497665184, -1.053624222712874, -1.043038822565821, -1.0325687341373415, -1.0222731099757425, -1.012194054145989, -1.0023607565083088, -0.9927926151223001, -0.9835016124597794, -0.974494143754511, -0.9657724383334193, -0.957335670644284, -0.9491808271103468]}, {\"marker\": {\"color\": \"red\"}, \"name\": \"Optimal Bond Distance\", \"type\": \"scatter\", \"uid\": \"21ca5846-1a53-4498-bd43-2c995e74d231\", \"x\": [1.4000000000000001], \"y\": [-1.1245689043277949]}, {\"connectgaps\": true, \"marker\": {\"color\": \"green\"}, \"name\": \"Morse Potential Approximation\", \"type\": \"scatter\", \"uid\": \"acc68277-47fd-448e-9b68-ca4ef4e4f7a5\", \"x\": [0.4, 0.5, 0.6, 0.7, 0.7999999999999999, 0.8999999999999999, 0.9999999999999999, 1.0999999999999999, 1.2, 1.3, 1.4000000000000001, 1.5000000000000002, 1.6000000000000003, 1.7000000000000004, 1.8000000000000005, 1.9000000000000006, 2.0000000000000004, 2.1000000000000005, 2.2000000000000006, 2.3000000000000007, 2.400000000000001, 2.500000000000001, 2.600000000000001, 2.700000000000001, 2.800000000000001, 2.9000000000000012, 3.0000000000000013, 3.1000000000000014, 3.2000000000000015, 3.3000000000000016, 3.4000000000000017], \"y\": [-0.6255059177578586, -0.7420232792325301, -0.838409692126429, -0.9170582196186716, -0.9801077890210546, -1.0294689472290812, -1.0668470620724977, -1.093763220174961, -1.1115730474727565, -1.1214836564636739, -1.1245689043277949, -1.1217831280730395, -1.113973506621262, -1.101891185095135, -1.0862012833382173, -1.067491898761655, -1.046282202835528, -1.0230297208178096, -0.9981368755370089, -0.9719568681236403, -0.9447989614373774, -0.9169332254859284, -0.8885947983104665, -0.8599877105595031, -0.8312883172331875, -0.8026483758030856, -0.7741978060535508, -0.7460471635090657, -0.718289855170695, -0.6910041234508633, -0.6642548216391033]}, {\"type\": \"scatter\", \"uid\": \"8837e625-d21e-47f2-84a3-7fed4940dfba\", \"x\": [1.1, 1.9], \"y\": [-1.0400541857501813, -1.0400541857501813]}, {\"type\": \"scatter\", \"uid\": \"1066da53-6b82-45f1-99fa-350f3e6b1977\", \"x\": [1.1, 1.9], \"y\": [-0.8809278054419379, -0.8809278054419379]}, {\"type\": \"scatter\", \"uid\": \"292d457c-5fc4-49a9-b17c-b3a73b1a7b5b\", \"x\": [1.1, 1.9], \"y\": [-0.7350055009296729, -0.7350055009296729]}, {\"type\": \"scatter\", \"uid\": \"c54e38a0-e646-466e-9bfe-a894ba988b07\", \"x\": [1.1, 1.9], \"y\": [-0.6022872722133863, -0.6022872722133863]}, {\"type\": \"scatter\", \"uid\": \"26fb5e0a-bd12-4496-8aaf-a57eb0c4a1ef\", \"x\": [1.1, 1.9], \"y\": [-0.48277311929307787, -0.48277311929307787]}, {\"type\": \"scatter\", \"uid\": \"15818281-2bd3-4a7c-9bdd-9fc408d4cea1\", \"x\": [1.1, 1.9], \"y\": [-0.37646304216874804, -0.37646304216874804]}, {\"type\": \"scatter\", \"uid\": \"f4e53ee3-b3f1-401b-b283-77f96c687f5e\", \"x\": [1.1, 1.9], \"y\": [-0.2833570408403964, -0.2833570408403964]}, {\"type\": \"scatter\", \"uid\": \"373597fc-c1a3-4edc-be47-ccc0b211fee4\", \"x\": [1.1, 1.9], \"y\": [-0.20345511530802318, -0.20345511530802318]}, {\"type\": \"scatter\", \"uid\": \"b81974be-54be-46a9-8fbd-3ec8521f89b1\", \"x\": [1.1, 1.9], \"y\": [-0.13675726557162854, -0.13675726557162854]}, {\"type\": \"scatter\", \"uid\": \"d3b88488-c8a2-4d82-8ed0-f13dae37df99\", \"x\": [1.1, 1.9], \"y\": [-0.08326349163121205, -0.08326349163121205]}, {\"type\": \"scatter\", \"uid\": \"fc69cbf6-fa6b-471b-b6b1-5fe254feaa79\", \"x\": [1.1, 1.9], \"y\": [-0.04297379348677399, -0.04297379348677399]}, {\"type\": \"scatter\", \"uid\": \"7f91ea49-46f9-4c31-b9a3-102dd89837e7\", \"x\": [1.1, 1.9], \"y\": [-0.0158881711383142, -0.0158881711383142]}, {\"type\": \"scatter\", \"uid\": \"6cbf3132-1a9e-4a7e-beef-b9864f2c27e7\", \"x\": [1.1, 1.9], \"y\": [-0.0020066245858327836, -0.0020066245858327836]}, {\"type\": \"scatter\", \"uid\": \"2580081b-c833-4c29-b323-eae6819c477d\", \"x\": [1.1, 1.9], \"y\": [-0.0013291538293300764, -0.0013291538293300764]}, {\"type\": \"scatter\", \"uid\": \"6ec500c8-3215-4fad-9d2d-14135b55e63e\", \"x\": [1.1, 1.9], \"y\": [-0.013855758868805523, -0.013855758868805523]}, {\"type\": \"scatter\", \"uid\": \"e98a9e2c-8775-4a0b-ba16-4173f0f56e5e\", \"x\": [1.1, 1.9], \"y\": [-0.039586439704259124, -0.039586439704259124]}, {\"type\": \"scatter\", \"uid\": \"f14ac123-99fe-45d8-b274-6f00268920b0\", \"x\": [1.1, 1.9], \"y\": [-0.07852119633569132, -0.07852119633569132]}],\n",
       "                        {\"title\": {\"text\": \"Hartree-Fock Energy VS Bond Distance\"}, \"xaxis\": {\"title\": {\"text\": \"Bond Distance in Atomic Units\"}}, \"yaxis\": {\"title\": {\"text\": \"Energy in Hartrees\"}}},\n",
       "                        {\"showLink\": false, \"linkText\": \"Export to plot.ly\", \"plotlyServerURL\": \"https://plot.ly\", \"responsive\": true}\n",
       "                    ).then(function(){\n",
       "                            \n",
       "var gd = document.getElementById('06019b95-f00f-4eb9-8a36-522835136c52');\n",
       "var x = new MutationObserver(function (mutations, observer) {{\n",
       "        var display = window.getComputedStyle(gd).display;\n",
       "        if (!display || display === 'none') {{\n",
       "            console.log([gd, 'removed!']);\n",
       "            Plotly.purge(gd);\n",
       "            observer.disconnect();\n",
       "        }}\n",
       "}});\n",
       "\n",
       "// Listen for the removal of the full notebook cells\n",
       "var notebookContainer = gd.closest('#notebook-container');\n",
       "if (notebookContainer) {{\n",
       "    x.observe(notebookContainer, {childList: true});\n",
       "}}\n",
       "\n",
       "// Listen for the clearing of the current output cell\n",
       "var outputEl = gd.closest('.output');\n",
       "if (outputEl) {{\n",
       "    x.observe(outputEl, {childList: true});\n",
       "}}\n",
       "\n",
       "                        })\n",
       "                };\n",
       "                });\n",
       "            </script>\n",
       "        </div>"
      ]
     },
     "metadata": {},
     "output_type": "display_data"
    },
    {
     "name": "stdout",
     "output_type": "stream",
     "text": [
      "Optimal Bond Distance: 1.4000000000000001\n"
     ]
    }
   ],
   "source": [
    "morseData = morse.computePotential()\n",
    "\n",
    "u = 0.5\n",
    "w = (morse.a / (2 * math.pi)) * pow((2 *  morse.D / u), 0.5)\n",
    "print(w)\n",
    "\n",
    "k = 4 * math.pi * math.sqrt(2 * morse.D) / morse.a\n",
    "print(\"K: \" + str(k))\n",
    "\n",
    "ve = []\n",
    "for n in range(18):\n",
    "    #ve.append( w * ((n + .5) - pow((n+.5),2)) )\n",
    "    ve.append( -morse.D + (w * (n + .5)) - ( (pow(w,2) /  (4*morse.D)) * pow((n + .5), 2) )  )\n",
    "print(ve)\n",
    "\n",
    "#prepare data for use with graphing\n",
    "figure = { \n",
    "    \"data\": [\n",
    "        \n",
    "        #create the Hartree-Fock generated Potential Energy Surface\n",
    "        {\n",
    "            \"type\":\"scatter\",\n",
    "            \"x\":R,\n",
    "            \"y\":E,\n",
    "            \"connectgaps\":False,\n",
    "            \"mode\":\"markers\", \n",
    "            \"name\":\"Hartree-Fock Computed\",\n",
    "            \"marker\":{\"color\":\"blue\"}\n",
    "        },\n",
    "    \n",
    "        #Highlight the minimum energy point in red\n",
    "        {\n",
    "            \"type\":\"scatter\",\n",
    "            \"x\":[optimalR],\n",
    "            \"y\":[minE],\n",
    "            \"name\":\"Optimal Bond Distance\",\n",
    "            \"marker\":{\"color\":\"red\"}\n",
    "        },\n",
    "        \n",
    "        #Create and plot the Morse Potential approximation\n",
    "        {\n",
    "            \"type\":\"scatter\",\n",
    "            \"x\":R,\n",
    "            \"y\":morseData,\n",
    "            \"connectgaps\":True,\n",
    "            \"name\":\"Morse Potential Approximation\",\n",
    "            \"marker\":{\"color\":\"green\"}\n",
    "        },\n",
    "        \n",
    "    ],\n",
    "    \n",
    "    #Set up the layout of the graph\n",
    "    \"layout\":\n",
    "        {\n",
    "           \"xaxis\":{\"title\":\"Bond Distance in Atomic Units\"},\n",
    "           \"yaxis\":{\"title\":\"Energy in Hartrees\"},\n",
    "            \"title\":{\"text\":\"Hartree-Fock Energy VS Bond Distance\"}\n",
    "        },    \n",
    "}\n",
    "\n",
    "#Loop over all MO Energies\n",
    "for vibrationalEnergy in ve:\n",
    "        figure[\"data\"].append(\n",
    "            {\n",
    "                \"type\":\"scatter\",\n",
    "                \"x\":[1.1, 1.9],\n",
    "                \"y\":[vibrationalEnergy] * 2\n",
    "            }\n",
    "        )\n",
    "    \n",
    "iplot(figure)\n",
    "\n",
    "#print optimized bond distance\n",
    "print(\"Optimal Bond Distance: \" + str(R[minEIndex]))\n",
    "\n"
   ]
  }
 ],
 "metadata": {
  "kernelspec": {
   "display_name": "Python 3",
   "language": "python",
   "name": "python3"
  },
  "language_info": {
   "codemirror_mode": {
    "name": "ipython",
    "version": 3
   },
   "file_extension": ".py",
   "mimetype": "text/x-python",
   "name": "python",
   "nbconvert_exporter": "python",
   "pygments_lexer": "ipython3",
   "version": "3.7.1"
  }
 },
 "nbformat": 4,
 "nbformat_minor": 2
}
