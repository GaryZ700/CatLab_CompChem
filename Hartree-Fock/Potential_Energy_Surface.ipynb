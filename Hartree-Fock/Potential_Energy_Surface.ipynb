{
 "cells": [
  {
   "cell_type": "markdown",
   "metadata": {},
   "source": [
    "## Potential Energy Surface Python Code\n",
    "<br>\n",
    "This script allows the user to enter in a diatomic molecule to compute the Potential Energy Surface through of the Hartree-Fock method. \n",
    "<br> <br>\n",
    "The program is limited to only using Hydrogen and Helium atoms due to the Hartree-Fock base code only supporting s-orbitals. \n",
    "<br><br>\n",
    "The potential energy surface graph uses Hartrees as units for the energy, and bohr units for representing the diatomic bond distance. \n",
    "<br><br>\n",
    "The Vibrational Energy Spectra are also computed and overlayed over the potential energy surface."
   ]
  },
  {
   "cell_type": "code",
   "execution_count": 1,
   "metadata": {},
   "outputs": [
    {
     "data": {
      "text/html": [
       "        <script type=\"text/javascript\">\n",
       "        window.PlotlyConfig = {MathJaxConfig: 'local'};\n",
       "        if (window.MathJax) {MathJax.Hub.Config({SVG: {font: \"STIX-Web\"}});}\n",
       "        if (typeof require !== 'undefined') {\n",
       "        require.undef(\"plotly\");\n",
       "        requirejs.config({\n",
       "            paths: {\n",
       "                'plotly': ['https://cdn.plot.ly/plotly-latest.min']\n",
       "            }\n",
       "        });\n",
       "        require(['plotly'], function(Plotly) {\n",
       "            window._Plotly = Plotly;\n",
       "        });\n",
       "        }\n",
       "        </script>\n",
       "        "
      ]
     },
     "metadata": {},
     "output_type": "display_data"
    }
   ],
   "source": [
    "#Allow for Importing of Comp_Chem_Package Classes\n",
    "import sys\n",
    "sys.path.append(\"..\\\\Comp_Chem_Package\")\n",
    "\n",
    "#import all required packages here\n",
    "import numpy as np\n",
    "import scipy.integrate as integrate\n",
    "import scipy.optimize as optimize\n",
    "from scipy.misc import derivative as ddx\n",
    "\n",
    "from molecule import atom\n",
    "from molecule import vector\n",
    "from molecule import gaussian\n",
    "from molecule import molecule\n",
    "from diatomicPotentials import morsePotential\n",
    "from notebookImporter import importNotebook\n",
    "from tqdm import tqdm\n",
    "\n",
    "from plotly.offline import iplot, init_notebook_mode\n",
    "init_notebook_mode(connected=True)"
   ]
  },
  {
   "cell_type": "code",
   "execution_count": 2,
   "metadata": {
    "scrolled": true
   },
   "outputs": [
    {
     "name": "stderr",
     "output_type": "stream",
     "text": [
      "Hartree-Fock Progress: 100%|███████████████████████████████████████████████████████████| 41/41 [00:03<00:00, 10.25it/s]\n"
     ]
    },
    {
     "name": "stdout",
     "output_type": "stream",
     "text": [
      "Hartree-Fock Computation Complete\n"
     ]
    },
    {
     "data": {
      "application/vnd.plotly.v1+json": {
       "config": {
        "linkText": "Export to plot.ly",
        "plotlyServerURL": "https://plot.ly",
        "showLink": false
       },
       "data": [
        {
         "connectgaps": false,
         "marker": {
          "color": "blue"
         },
         "mode": "markers",
         "name": "Hartree-Fock Computed",
         "type": "scatter",
         "x": [
          1,
          1.1,
          1.2,
          1.3,
          1.4,
          1.5,
          1.6,
          1.7000000000000002,
          1.8,
          1.9,
          2,
          2.1,
          2.2,
          2.3,
          2.4000000000000004,
          2.5,
          2.6,
          2.7,
          2.8,
          2.9000000000000004,
          3,
          3.1,
          3.2,
          3.3000000000000003,
          3.4000000000000004,
          3.5,
          3.6,
          3.7,
          3.8000000000000003,
          3.9000000000000004,
          4,
          4.1,
          4.2,
          4.300000000000001,
          4.4,
          4.5,
          4.6,
          4.7,
          4.800000000000001,
          4.9,
          5
         ],
         "y": [
          -1.0668470688525558,
          -1.095685092880128,
          -1.1128084561601423,
          -1.1216474510997267,
          -1.124568904327794,
          -1.1232385643643283,
          -1.1188506533793472,
          -1.1122759676516356,
          -1.104158376553818,
          -1.0949785473198972,
          -1.0850970382091458,
          -1.0747844404245817,
          -1.0642432497665186,
          -1.0536242227128731,
          -1.043038822565821,
          -1.032568734137342,
          -1.0222731099757434,
          -1.012194054145989,
          -1.0023607565083088,
          -0.9927926151222992,
          -0.9835016124597793,
          -0.9744941437545108,
          -0.9657724383334194,
          -0.9573356706442846,
          -0.9491808271103469,
          -0.9413033756382084,
          -0.9336977733214199,
          -0.9263578415138383,
          -0.9192770336269795,
          -0.9124486182186264,
          -0.905865797380554,
          -0.8995217777832858,
          -0.8934098089597113,
          -0.8875232006033196,
          -0.8818553279557741,
          -0.8763996318854056,
          -0.8711496181024532,
          -0.8660988581693961,
          -0.8612409935609242,
          -0.8565697429948607,
          -0.852078912558593
         ]
        }
       ],
       "layout": {
        "template": {
         "data": {
          "bar": [
           {
            "error_x": {
             "color": "#2a3f5f"
            },
            "error_y": {
             "color": "#2a3f5f"
            },
            "marker": {
             "line": {
              "color": "#E5ECF6",
              "width": 0.5
             }
            },
            "type": "bar"
           }
          ],
          "barpolar": [
           {
            "marker": {
             "line": {
              "color": "#E5ECF6",
              "width": 0.5
             }
            },
            "type": "barpolar"
           }
          ],
          "carpet": [
           {
            "aaxis": {
             "endlinecolor": "#2a3f5f",
             "gridcolor": "white",
             "linecolor": "white",
             "minorgridcolor": "white",
             "startlinecolor": "#2a3f5f"
            },
            "baxis": {
             "endlinecolor": "#2a3f5f",
             "gridcolor": "white",
             "linecolor": "white",
             "minorgridcolor": "white",
             "startlinecolor": "#2a3f5f"
            },
            "type": "carpet"
           }
          ],
          "choropleth": [
           {
            "colorbar": {
             "outlinewidth": 0,
             "ticks": ""
            },
            "type": "choropleth"
           }
          ],
          "contour": [
           {
            "colorbar": {
             "outlinewidth": 0,
             "ticks": ""
            },
            "colorscale": [
             [
              0,
              "#0d0887"
             ],
             [
              0.1111111111111111,
              "#46039f"
             ],
             [
              0.2222222222222222,
              "#7201a8"
             ],
             [
              0.3333333333333333,
              "#9c179e"
             ],
             [
              0.4444444444444444,
              "#bd3786"
             ],
             [
              0.5555555555555556,
              "#d8576b"
             ],
             [
              0.6666666666666666,
              "#ed7953"
             ],
             [
              0.7777777777777778,
              "#fb9f3a"
             ],
             [
              0.8888888888888888,
              "#fdca26"
             ],
             [
              1,
              "#f0f921"
             ]
            ],
            "type": "contour"
           }
          ],
          "contourcarpet": [
           {
            "colorbar": {
             "outlinewidth": 0,
             "ticks": ""
            },
            "type": "contourcarpet"
           }
          ],
          "heatmap": [
           {
            "colorbar": {
             "outlinewidth": 0,
             "ticks": ""
            },
            "colorscale": [
             [
              0,
              "#0d0887"
             ],
             [
              0.1111111111111111,
              "#46039f"
             ],
             [
              0.2222222222222222,
              "#7201a8"
             ],
             [
              0.3333333333333333,
              "#9c179e"
             ],
             [
              0.4444444444444444,
              "#bd3786"
             ],
             [
              0.5555555555555556,
              "#d8576b"
             ],
             [
              0.6666666666666666,
              "#ed7953"
             ],
             [
              0.7777777777777778,
              "#fb9f3a"
             ],
             [
              0.8888888888888888,
              "#fdca26"
             ],
             [
              1,
              "#f0f921"
             ]
            ],
            "type": "heatmap"
           }
          ],
          "heatmapgl": [
           {
            "colorbar": {
             "outlinewidth": 0,
             "ticks": ""
            },
            "colorscale": [
             [
              0,
              "#0d0887"
             ],
             [
              0.1111111111111111,
              "#46039f"
             ],
             [
              0.2222222222222222,
              "#7201a8"
             ],
             [
              0.3333333333333333,
              "#9c179e"
             ],
             [
              0.4444444444444444,
              "#bd3786"
             ],
             [
              0.5555555555555556,
              "#d8576b"
             ],
             [
              0.6666666666666666,
              "#ed7953"
             ],
             [
              0.7777777777777778,
              "#fb9f3a"
             ],
             [
              0.8888888888888888,
              "#fdca26"
             ],
             [
              1,
              "#f0f921"
             ]
            ],
            "type": "heatmapgl"
           }
          ],
          "histogram": [
           {
            "marker": {
             "colorbar": {
              "outlinewidth": 0,
              "ticks": ""
             }
            },
            "type": "histogram"
           }
          ],
          "histogram2d": [
           {
            "colorbar": {
             "outlinewidth": 0,
             "ticks": ""
            },
            "colorscale": [
             [
              0,
              "#0d0887"
             ],
             [
              0.1111111111111111,
              "#46039f"
             ],
             [
              0.2222222222222222,
              "#7201a8"
             ],
             [
              0.3333333333333333,
              "#9c179e"
             ],
             [
              0.4444444444444444,
              "#bd3786"
             ],
             [
              0.5555555555555556,
              "#d8576b"
             ],
             [
              0.6666666666666666,
              "#ed7953"
             ],
             [
              0.7777777777777778,
              "#fb9f3a"
             ],
             [
              0.8888888888888888,
              "#fdca26"
             ],
             [
              1,
              "#f0f921"
             ]
            ],
            "type": "histogram2d"
           }
          ],
          "histogram2dcontour": [
           {
            "colorbar": {
             "outlinewidth": 0,
             "ticks": ""
            },
            "colorscale": [
             [
              0,
              "#0d0887"
             ],
             [
              0.1111111111111111,
              "#46039f"
             ],
             [
              0.2222222222222222,
              "#7201a8"
             ],
             [
              0.3333333333333333,
              "#9c179e"
             ],
             [
              0.4444444444444444,
              "#bd3786"
             ],
             [
              0.5555555555555556,
              "#d8576b"
             ],
             [
              0.6666666666666666,
              "#ed7953"
             ],
             [
              0.7777777777777778,
              "#fb9f3a"
             ],
             [
              0.8888888888888888,
              "#fdca26"
             ],
             [
              1,
              "#f0f921"
             ]
            ],
            "type": "histogram2dcontour"
           }
          ],
          "mesh3d": [
           {
            "colorbar": {
             "outlinewidth": 0,
             "ticks": ""
            },
            "type": "mesh3d"
           }
          ],
          "parcoords": [
           {
            "line": {
             "colorbar": {
              "outlinewidth": 0,
              "ticks": ""
             }
            },
            "type": "parcoords"
           }
          ],
          "scatter": [
           {
            "marker": {
             "colorbar": {
              "outlinewidth": 0,
              "ticks": ""
             }
            },
            "type": "scatter"
           }
          ],
          "scatter3d": [
           {
            "line": {
             "colorbar": {
              "outlinewidth": 0,
              "ticks": ""
             }
            },
            "marker": {
             "colorbar": {
              "outlinewidth": 0,
              "ticks": ""
             }
            },
            "type": "scatter3d"
           }
          ],
          "scattercarpet": [
           {
            "marker": {
             "colorbar": {
              "outlinewidth": 0,
              "ticks": ""
             }
            },
            "type": "scattercarpet"
           }
          ],
          "scattergeo": [
           {
            "marker": {
             "colorbar": {
              "outlinewidth": 0,
              "ticks": ""
             }
            },
            "type": "scattergeo"
           }
          ],
          "scattergl": [
           {
            "marker": {
             "colorbar": {
              "outlinewidth": 0,
              "ticks": ""
             }
            },
            "type": "scattergl"
           }
          ],
          "scattermapbox": [
           {
            "marker": {
             "colorbar": {
              "outlinewidth": 0,
              "ticks": ""
             }
            },
            "type": "scattermapbox"
           }
          ],
          "scatterpolar": [
           {
            "marker": {
             "colorbar": {
              "outlinewidth": 0,
              "ticks": ""
             }
            },
            "type": "scatterpolar"
           }
          ],
          "scatterpolargl": [
           {
            "marker": {
             "colorbar": {
              "outlinewidth": 0,
              "ticks": ""
             }
            },
            "type": "scatterpolargl"
           }
          ],
          "scatterternary": [
           {
            "marker": {
             "colorbar": {
              "outlinewidth": 0,
              "ticks": ""
             }
            },
            "type": "scatterternary"
           }
          ],
          "surface": [
           {
            "colorbar": {
             "outlinewidth": 0,
             "ticks": ""
            },
            "colorscale": [
             [
              0,
              "#0d0887"
             ],
             [
              0.1111111111111111,
              "#46039f"
             ],
             [
              0.2222222222222222,
              "#7201a8"
             ],
             [
              0.3333333333333333,
              "#9c179e"
             ],
             [
              0.4444444444444444,
              "#bd3786"
             ],
             [
              0.5555555555555556,
              "#d8576b"
             ],
             [
              0.6666666666666666,
              "#ed7953"
             ],
             [
              0.7777777777777778,
              "#fb9f3a"
             ],
             [
              0.8888888888888888,
              "#fdca26"
             ],
             [
              1,
              "#f0f921"
             ]
            ],
            "type": "surface"
           }
          ],
          "table": [
           {
            "cells": {
             "fill": {
              "color": "#EBF0F8"
             },
             "line": {
              "color": "white"
             }
            },
            "header": {
             "fill": {
              "color": "#C8D4E3"
             },
             "line": {
              "color": "white"
             }
            },
            "type": "table"
           }
          ]
         },
         "layout": {
          "annotationdefaults": {
           "arrowcolor": "#2a3f5f",
           "arrowhead": 0,
           "arrowwidth": 1
          },
          "colorscale": {
           "diverging": [
            [
             0,
             "#8e0152"
            ],
            [
             0.1,
             "#c51b7d"
            ],
            [
             0.2,
             "#de77ae"
            ],
            [
             0.3,
             "#f1b6da"
            ],
            [
             0.4,
             "#fde0ef"
            ],
            [
             0.5,
             "#f7f7f7"
            ],
            [
             0.6,
             "#e6f5d0"
            ],
            [
             0.7,
             "#b8e186"
            ],
            [
             0.8,
             "#7fbc41"
            ],
            [
             0.9,
             "#4d9221"
            ],
            [
             1,
             "#276419"
            ]
           ],
           "sequential": [
            [
             0,
             "#0d0887"
            ],
            [
             0.1111111111111111,
             "#46039f"
            ],
            [
             0.2222222222222222,
             "#7201a8"
            ],
            [
             0.3333333333333333,
             "#9c179e"
            ],
            [
             0.4444444444444444,
             "#bd3786"
            ],
            [
             0.5555555555555556,
             "#d8576b"
            ],
            [
             0.6666666666666666,
             "#ed7953"
            ],
            [
             0.7777777777777778,
             "#fb9f3a"
            ],
            [
             0.8888888888888888,
             "#fdca26"
            ],
            [
             1,
             "#f0f921"
            ]
           ],
           "sequentialminus": [
            [
             0,
             "#0d0887"
            ],
            [
             0.1111111111111111,
             "#46039f"
            ],
            [
             0.2222222222222222,
             "#7201a8"
            ],
            [
             0.3333333333333333,
             "#9c179e"
            ],
            [
             0.4444444444444444,
             "#bd3786"
            ],
            [
             0.5555555555555556,
             "#d8576b"
            ],
            [
             0.6666666666666666,
             "#ed7953"
            ],
            [
             0.7777777777777778,
             "#fb9f3a"
            ],
            [
             0.8888888888888888,
             "#fdca26"
            ],
            [
             1,
             "#f0f921"
            ]
           ]
          },
          "colorway": [
           "#636efa",
           "#EF553B",
           "#00cc96",
           "#ab63fa",
           "#FFA15A",
           "#19d3f3",
           "#FF6692",
           "#B6E880",
           "#FF97FF",
           "#FECB52"
          ],
          "font": {
           "color": "#2a3f5f"
          },
          "geo": {
           "bgcolor": "white",
           "lakecolor": "white",
           "landcolor": "#E5ECF6",
           "showlakes": true,
           "showland": true,
           "subunitcolor": "white"
          },
          "hoverlabel": {
           "align": "left"
          },
          "hovermode": "closest",
          "mapbox": {
           "style": "light"
          },
          "paper_bgcolor": "white",
          "plot_bgcolor": "#E5ECF6",
          "polar": {
           "angularaxis": {
            "gridcolor": "white",
            "linecolor": "white",
            "ticks": ""
           },
           "bgcolor": "#E5ECF6",
           "radialaxis": {
            "gridcolor": "white",
            "linecolor": "white",
            "ticks": ""
           }
          },
          "scene": {
           "xaxis": {
            "backgroundcolor": "#E5ECF6",
            "gridcolor": "white",
            "gridwidth": 2,
            "linecolor": "white",
            "showbackground": true,
            "ticks": "",
            "zerolinecolor": "white"
           },
           "yaxis": {
            "backgroundcolor": "#E5ECF6",
            "gridcolor": "white",
            "gridwidth": 2,
            "linecolor": "white",
            "showbackground": true,
            "ticks": "",
            "zerolinecolor": "white"
           },
           "zaxis": {
            "backgroundcolor": "#E5ECF6",
            "gridcolor": "white",
            "gridwidth": 2,
            "linecolor": "white",
            "showbackground": true,
            "ticks": "",
            "zerolinecolor": "white"
           }
          },
          "shapedefaults": {
           "line": {
            "color": "#2a3f5f"
           }
          },
          "ternary": {
           "aaxis": {
            "gridcolor": "white",
            "linecolor": "white",
            "ticks": ""
           },
           "baxis": {
            "gridcolor": "white",
            "linecolor": "white",
            "ticks": ""
           },
           "bgcolor": "#E5ECF6",
           "caxis": {
            "gridcolor": "white",
            "linecolor": "white",
            "ticks": ""
           }
          },
          "title": {
           "x": 0.05
          },
          "xaxis": {
           "automargin": true,
           "gridcolor": "white",
           "linecolor": "white",
           "ticks": "",
           "zerolinecolor": "white",
           "zerolinewidth": 2
          },
          "yaxis": {
           "automargin": true,
           "gridcolor": "white",
           "linecolor": "white",
           "ticks": "",
           "zerolinecolor": "white",
           "zerolinewidth": 2
          }
         }
        },
        "title": {
         "text": "Hartree-Fock Computed Potential Energy Surface"
        },
        "xaxis": {
         "title": {
          "text": "Bond Distance in Bohr Units Radius"
         }
        },
        "yaxis": {
         "title": {
          "text": "Energy in Hartrees"
         }
        }
       }
      },
      "text/html": [
       "<div>\n",
       "        \n",
       "        \n",
       "            <div id=\"054c0d63-43e7-4edc-a4b9-13123ad51dbc\" class=\"plotly-graph-div\" style=\"height:525px; width:100%;\"></div>\n",
       "            <script type=\"text/javascript\">\n",
       "                require([\"plotly\"], function(Plotly) {\n",
       "                    window.PLOTLYENV=window.PLOTLYENV || {};\n",
       "                    \n",
       "                if (document.getElementById(\"054c0d63-43e7-4edc-a4b9-13123ad51dbc\")) {\n",
       "                    Plotly.newPlot(\n",
       "                        '054c0d63-43e7-4edc-a4b9-13123ad51dbc',\n",
       "                        [{\"connectgaps\": false, \"marker\": {\"color\": \"blue\"}, \"mode\": \"markers\", \"name\": \"Hartree-Fock Computed\", \"type\": \"scatter\", \"x\": [1.0, 1.1, 1.2, 1.3, 1.4, 1.5, 1.6, 1.7000000000000002, 1.8, 1.9, 2.0, 2.1, 2.2, 2.3, 2.4000000000000004, 2.5, 2.6, 2.7, 2.8, 2.9000000000000004, 3.0, 3.1, 3.2, 3.3000000000000003, 3.4000000000000004, 3.5, 3.6, 3.7, 3.8000000000000003, 3.9000000000000004, 4.0, 4.1, 4.2, 4.300000000000001, 4.4, 4.5, 4.6, 4.7, 4.800000000000001, 4.9, 5.0], \"y\": [-1.0668470688525558, -1.095685092880128, -1.1128084561601423, -1.1216474510997267, -1.124568904327794, -1.1232385643643283, -1.1188506533793472, -1.1122759676516356, -1.104158376553818, -1.0949785473198972, -1.0850970382091458, -1.0747844404245817, -1.0642432497665186, -1.0536242227128731, -1.043038822565821, -1.032568734137342, -1.0222731099757434, -1.012194054145989, -1.0023607565083088, -0.9927926151222992, -0.9835016124597793, -0.9744941437545108, -0.9657724383334194, -0.9573356706442846, -0.9491808271103469, -0.9413033756382084, -0.9336977733214199, -0.9263578415138383, -0.9192770336269795, -0.9124486182186264, -0.905865797380554, -0.8995217777832858, -0.8934098089597113, -0.8875232006033196, -0.8818553279557741, -0.8763996318854056, -0.8711496181024532, -0.8660988581693961, -0.8612409935609242, -0.8565697429948607, -0.852078912558593]}],\n",
       "                        {\"template\": {\"data\": {\"bar\": [{\"error_x\": {\"color\": \"#2a3f5f\"}, \"error_y\": {\"color\": \"#2a3f5f\"}, \"marker\": {\"line\": {\"color\": \"#E5ECF6\", \"width\": 0.5}}, \"type\": \"bar\"}], \"barpolar\": [{\"marker\": {\"line\": {\"color\": \"#E5ECF6\", \"width\": 0.5}}, \"type\": \"barpolar\"}], \"carpet\": [{\"aaxis\": {\"endlinecolor\": \"#2a3f5f\", \"gridcolor\": \"white\", \"linecolor\": \"white\", \"minorgridcolor\": \"white\", \"startlinecolor\": \"#2a3f5f\"}, \"baxis\": {\"endlinecolor\": \"#2a3f5f\", \"gridcolor\": \"white\", \"linecolor\": \"white\", \"minorgridcolor\": \"white\", \"startlinecolor\": \"#2a3f5f\"}, \"type\": \"carpet\"}], \"choropleth\": [{\"colorbar\": {\"outlinewidth\": 0, \"ticks\": \"\"}, \"type\": \"choropleth\"}], \"contour\": [{\"colorbar\": {\"outlinewidth\": 0, \"ticks\": \"\"}, \"colorscale\": [[0.0, \"#0d0887\"], [0.1111111111111111, \"#46039f\"], [0.2222222222222222, \"#7201a8\"], [0.3333333333333333, \"#9c179e\"], [0.4444444444444444, \"#bd3786\"], [0.5555555555555556, \"#d8576b\"], [0.6666666666666666, \"#ed7953\"], [0.7777777777777778, \"#fb9f3a\"], [0.8888888888888888, \"#fdca26\"], [1.0, \"#f0f921\"]], \"type\": \"contour\"}], \"contourcarpet\": [{\"colorbar\": {\"outlinewidth\": 0, \"ticks\": \"\"}, \"type\": \"contourcarpet\"}], \"heatmap\": [{\"colorbar\": {\"outlinewidth\": 0, \"ticks\": \"\"}, \"colorscale\": [[0.0, \"#0d0887\"], [0.1111111111111111, \"#46039f\"], [0.2222222222222222, \"#7201a8\"], [0.3333333333333333, \"#9c179e\"], [0.4444444444444444, \"#bd3786\"], [0.5555555555555556, \"#d8576b\"], [0.6666666666666666, \"#ed7953\"], [0.7777777777777778, \"#fb9f3a\"], [0.8888888888888888, \"#fdca26\"], [1.0, \"#f0f921\"]], \"type\": \"heatmap\"}], \"heatmapgl\": [{\"colorbar\": {\"outlinewidth\": 0, \"ticks\": \"\"}, \"colorscale\": [[0.0, \"#0d0887\"], [0.1111111111111111, \"#46039f\"], [0.2222222222222222, \"#7201a8\"], [0.3333333333333333, \"#9c179e\"], [0.4444444444444444, \"#bd3786\"], [0.5555555555555556, \"#d8576b\"], [0.6666666666666666, \"#ed7953\"], [0.7777777777777778, \"#fb9f3a\"], [0.8888888888888888, \"#fdca26\"], [1.0, \"#f0f921\"]], \"type\": \"heatmapgl\"}], \"histogram\": [{\"marker\": {\"colorbar\": {\"outlinewidth\": 0, \"ticks\": \"\"}}, \"type\": \"histogram\"}], \"histogram2d\": [{\"colorbar\": {\"outlinewidth\": 0, \"ticks\": \"\"}, \"colorscale\": [[0.0, \"#0d0887\"], [0.1111111111111111, \"#46039f\"], [0.2222222222222222, \"#7201a8\"], [0.3333333333333333, \"#9c179e\"], [0.4444444444444444, \"#bd3786\"], [0.5555555555555556, \"#d8576b\"], [0.6666666666666666, \"#ed7953\"], [0.7777777777777778, \"#fb9f3a\"], [0.8888888888888888, \"#fdca26\"], [1.0, \"#f0f921\"]], \"type\": \"histogram2d\"}], \"histogram2dcontour\": [{\"colorbar\": {\"outlinewidth\": 0, \"ticks\": \"\"}, \"colorscale\": [[0.0, \"#0d0887\"], [0.1111111111111111, \"#46039f\"], [0.2222222222222222, \"#7201a8\"], [0.3333333333333333, \"#9c179e\"], [0.4444444444444444, \"#bd3786\"], [0.5555555555555556, \"#d8576b\"], [0.6666666666666666, \"#ed7953\"], [0.7777777777777778, \"#fb9f3a\"], [0.8888888888888888, \"#fdca26\"], [1.0, \"#f0f921\"]], \"type\": \"histogram2dcontour\"}], \"mesh3d\": [{\"colorbar\": {\"outlinewidth\": 0, \"ticks\": \"\"}, \"type\": \"mesh3d\"}], \"parcoords\": [{\"line\": {\"colorbar\": {\"outlinewidth\": 0, \"ticks\": \"\"}}, \"type\": \"parcoords\"}], \"scatter\": [{\"marker\": {\"colorbar\": {\"outlinewidth\": 0, \"ticks\": \"\"}}, \"type\": \"scatter\"}], \"scatter3d\": [{\"line\": {\"colorbar\": {\"outlinewidth\": 0, \"ticks\": \"\"}}, \"marker\": {\"colorbar\": {\"outlinewidth\": 0, \"ticks\": \"\"}}, \"type\": \"scatter3d\"}], \"scattercarpet\": [{\"marker\": {\"colorbar\": {\"outlinewidth\": 0, \"ticks\": \"\"}}, \"type\": \"scattercarpet\"}], \"scattergeo\": [{\"marker\": {\"colorbar\": {\"outlinewidth\": 0, \"ticks\": \"\"}}, \"type\": \"scattergeo\"}], \"scattergl\": [{\"marker\": {\"colorbar\": {\"outlinewidth\": 0, \"ticks\": \"\"}}, \"type\": \"scattergl\"}], \"scattermapbox\": [{\"marker\": {\"colorbar\": {\"outlinewidth\": 0, \"ticks\": \"\"}}, \"type\": \"scattermapbox\"}], \"scatterpolar\": [{\"marker\": {\"colorbar\": {\"outlinewidth\": 0, \"ticks\": \"\"}}, \"type\": \"scatterpolar\"}], \"scatterpolargl\": [{\"marker\": {\"colorbar\": {\"outlinewidth\": 0, \"ticks\": \"\"}}, \"type\": \"scatterpolargl\"}], \"scatterternary\": [{\"marker\": {\"colorbar\": {\"outlinewidth\": 0, \"ticks\": \"\"}}, \"type\": \"scatterternary\"}], \"surface\": [{\"colorbar\": {\"outlinewidth\": 0, \"ticks\": \"\"}, \"colorscale\": [[0.0, \"#0d0887\"], [0.1111111111111111, \"#46039f\"], [0.2222222222222222, \"#7201a8\"], [0.3333333333333333, \"#9c179e\"], [0.4444444444444444, \"#bd3786\"], [0.5555555555555556, \"#d8576b\"], [0.6666666666666666, \"#ed7953\"], [0.7777777777777778, \"#fb9f3a\"], [0.8888888888888888, \"#fdca26\"], [1.0, \"#f0f921\"]], \"type\": \"surface\"}], \"table\": [{\"cells\": {\"fill\": {\"color\": \"#EBF0F8\"}, \"line\": {\"color\": \"white\"}}, \"header\": {\"fill\": {\"color\": \"#C8D4E3\"}, \"line\": {\"color\": \"white\"}}, \"type\": \"table\"}]}, \"layout\": {\"annotationdefaults\": {\"arrowcolor\": \"#2a3f5f\", \"arrowhead\": 0, \"arrowwidth\": 1}, \"colorscale\": {\"diverging\": [[0, \"#8e0152\"], [0.1, \"#c51b7d\"], [0.2, \"#de77ae\"], [0.3, \"#f1b6da\"], [0.4, \"#fde0ef\"], [0.5, \"#f7f7f7\"], [0.6, \"#e6f5d0\"], [0.7, \"#b8e186\"], [0.8, \"#7fbc41\"], [0.9, \"#4d9221\"], [1, \"#276419\"]], \"sequential\": [[0.0, \"#0d0887\"], [0.1111111111111111, \"#46039f\"], [0.2222222222222222, \"#7201a8\"], [0.3333333333333333, \"#9c179e\"], [0.4444444444444444, \"#bd3786\"], [0.5555555555555556, \"#d8576b\"], [0.6666666666666666, \"#ed7953\"], [0.7777777777777778, \"#fb9f3a\"], [0.8888888888888888, \"#fdca26\"], [1.0, \"#f0f921\"]], \"sequentialminus\": [[0.0, \"#0d0887\"], [0.1111111111111111, \"#46039f\"], [0.2222222222222222, \"#7201a8\"], [0.3333333333333333, \"#9c179e\"], [0.4444444444444444, \"#bd3786\"], [0.5555555555555556, \"#d8576b\"], [0.6666666666666666, \"#ed7953\"], [0.7777777777777778, \"#fb9f3a\"], [0.8888888888888888, \"#fdca26\"], [1.0, \"#f0f921\"]]}, \"colorway\": [\"#636efa\", \"#EF553B\", \"#00cc96\", \"#ab63fa\", \"#FFA15A\", \"#19d3f3\", \"#FF6692\", \"#B6E880\", \"#FF97FF\", \"#FECB52\"], \"font\": {\"color\": \"#2a3f5f\"}, \"geo\": {\"bgcolor\": \"white\", \"lakecolor\": \"white\", \"landcolor\": \"#E5ECF6\", \"showlakes\": true, \"showland\": true, \"subunitcolor\": \"white\"}, \"hoverlabel\": {\"align\": \"left\"}, \"hovermode\": \"closest\", \"mapbox\": {\"style\": \"light\"}, \"paper_bgcolor\": \"white\", \"plot_bgcolor\": \"#E5ECF6\", \"polar\": {\"angularaxis\": {\"gridcolor\": \"white\", \"linecolor\": \"white\", \"ticks\": \"\"}, \"bgcolor\": \"#E5ECF6\", \"radialaxis\": {\"gridcolor\": \"white\", \"linecolor\": \"white\", \"ticks\": \"\"}}, \"scene\": {\"xaxis\": {\"backgroundcolor\": \"#E5ECF6\", \"gridcolor\": \"white\", \"gridwidth\": 2, \"linecolor\": \"white\", \"showbackground\": true, \"ticks\": \"\", \"zerolinecolor\": \"white\"}, \"yaxis\": {\"backgroundcolor\": \"#E5ECF6\", \"gridcolor\": \"white\", \"gridwidth\": 2, \"linecolor\": \"white\", \"showbackground\": true, \"ticks\": \"\", \"zerolinecolor\": \"white\"}, \"zaxis\": {\"backgroundcolor\": \"#E5ECF6\", \"gridcolor\": \"white\", \"gridwidth\": 2, \"linecolor\": \"white\", \"showbackground\": true, \"ticks\": \"\", \"zerolinecolor\": \"white\"}}, \"shapedefaults\": {\"line\": {\"color\": \"#2a3f5f\"}}, \"ternary\": {\"aaxis\": {\"gridcolor\": \"white\", \"linecolor\": \"white\", \"ticks\": \"\"}, \"baxis\": {\"gridcolor\": \"white\", \"linecolor\": \"white\", \"ticks\": \"\"}, \"bgcolor\": \"#E5ECF6\", \"caxis\": {\"gridcolor\": \"white\", \"linecolor\": \"white\", \"ticks\": \"\"}}, \"title\": {\"x\": 0.05}, \"xaxis\": {\"automargin\": true, \"gridcolor\": \"white\", \"linecolor\": \"white\", \"ticks\": \"\", \"zerolinecolor\": \"white\", \"zerolinewidth\": 2}, \"yaxis\": {\"automargin\": true, \"gridcolor\": \"white\", \"linecolor\": \"white\", \"ticks\": \"\", \"zerolinecolor\": \"white\", \"zerolinewidth\": 2}}}, \"title\": {\"text\": \"Hartree-Fock Computed Potential Energy Surface\"}, \"xaxis\": {\"title\": {\"text\": \"Bond Distance in Bohr Units Radius\"}}, \"yaxis\": {\"title\": {\"text\": \"Energy in Hartrees\"}}},\n",
       "                        {\"responsive\": true}\n",
       "                    ).then(function(){\n",
       "                            \n",
       "var gd = document.getElementById('054c0d63-43e7-4edc-a4b9-13123ad51dbc');\n",
       "var x = new MutationObserver(function (mutations, observer) {{\n",
       "        var display = window.getComputedStyle(gd).display;\n",
       "        if (!display || display === 'none') {{\n",
       "            console.log([gd, 'removed!']);\n",
       "            Plotly.purge(gd);\n",
       "            observer.disconnect();\n",
       "        }}\n",
       "}});\n",
       "\n",
       "// Listen for the removal of the full notebook cells\n",
       "var notebookContainer = gd.closest('#notebook-container');\n",
       "if (notebookContainer) {{\n",
       "    x.observe(notebookContainer, {childList: true});\n",
       "}}\n",
       "\n",
       "// Listen for the clearing of the current output cell\n",
       "var outputEl = gd.closest('.output');\n",
       "if (outputEl) {{\n",
       "    x.observe(outputEl, {childList: true});\n",
       "}}\n",
       "\n",
       "                        })\n",
       "                };\n",
       "                });\n",
       "            </script>\n",
       "        </div>"
      ]
     },
     "metadata": {},
     "output_type": "display_data"
    }
   ],
   "source": [
    "HartreeFock = importNotebook(\"Hartree_Class\")\n",
    "\n",
    "#set up the automated calculations used to generate the surface potential\n",
    "\n",
    "#User Specified Variables\n",
    "\n",
    "#Enter the atomic number for atoms 1 and 2\n",
    "atom1 = 1\n",
    "atom2 = 1\n",
    "\n",
    "#Enter the number of electrons for atom 1 and 2\n",
    "#Note the total number of electrons must be a multiple of 2, \n",
    "#otherwise, the computation will round the total number of electrons \n",
    "#down to the nearest multiple of 2\n",
    "atomN1 = 1\n",
    "atomN2 = 1\n",
    "\n",
    "#Select a basis, for a list of available basis sets, please see the \"basisSets\" folder\n",
    "basisName = \"DEF2-SVP\"\n",
    "\n",
    "#Enter Starting and End Bond distance for the diatomic molecule\n",
    "#Units for Bond Distance in This Program are Bohr Units\n",
    "startR = 1\n",
    "endR = 5\n",
    "\n",
    "#Please enter the distance the bond distance should increase each iteration\n",
    "#The smaller the number, the more accurate and time-consuming the computation will be\n",
    "step = 0.1\n",
    "\n",
    "#Please enter how small the difference in energy between two ground state energy calculations\n",
    "#must be in order to convergence to occur\n",
    "convergenceCritera = pow(10, -10)\n",
    "\n",
    "#Please enter the maximum number of iterations the SCF procedure can take before\n",
    "#the computation will fail as being unable to converge\n",
    "maxIterations = 100\n",
    "\n",
    "#hartreeFile: bool that represents whether or not a file containing the potential energy surface data \n",
    "#should be generated\n",
    "hartreeFile = True\n",
    "\n",
    "#System Defined Variables\n",
    "E = []\n",
    "basisSets = []\n",
    "Xs = []\n",
    "MOEnergy = []\n",
    "currentR = startR\n",
    "delta = (endR - startR) / step\n",
    "\n",
    "#Compute the the descrite points in terms of bond distance that will be used to create \n",
    "#the potential energy surface\n",
    "R = [ startR + step*ds for ds in range( int(np.ceil(delta)) + 1) ]\n",
    "\n",
    "#Main While Loop to repeatedly call the Hartree-Fock routine to generate the potential energy surface\n",
    "for currentR in tqdm(R, position=0, desc=\"Hartree-Fock Progress\"): \n",
    "\n",
    "    #define the molecular system\n",
    "    system = molecule()\n",
    "    system.addAtom(atom(vector(1,1,2+currentR), atom1, atomN1))\n",
    "    system.addAtom(atom(vector(1,1,2), atom2, atomN2))\n",
    "\n",
    "    system.addBasis(basisName)\n",
    "    \n",
    "    #Set up the Hartree Procedure\n",
    "    HF = HartreeFock.HF(system, convergenceCritera, maxIterations)\n",
    "\n",
    "    #Store Bond distance, associated Energy, and MO Energies\n",
    "    E.append(HF.SCF())\n",
    "    MOEnergy.append(HF.MOEnergy)\n",
    "    \n",
    "    #update the current intenuclear distance\n",
    "    currentR += step\n",
    "        \n",
    "print(\"Hartree-Fock Computation Complete\")\n",
    "\n",
    "#For Graphing the Hartree Potential\n",
    "figure = { \n",
    "    \"data\": [\n",
    "        #create the Hartree-Fock generated Potential Energy Surface\n",
    "        {\n",
    "            \"type\":\"scatter\",\n",
    "            \"x\":R,\n",
    "            \"y\":E,\n",
    "            \"connectgaps\":False,\n",
    "            \"mode\":\"markers\", \n",
    "            \"name\":\"Hartree-Fock Computed\",\n",
    "            \"marker\":{\"color\":\"blue\"},\n",
    "            \n",
    "        }\n",
    "    ],\n",
    "     #Set up the layout of the graph\n",
    "    \"layout\":\n",
    "        {\n",
    "           \"xaxis\":{\"title\":\"Bond Distance in Bohr Units Radius\"},\n",
    "           \"yaxis\":{\"title\":\"Energy in Hartrees\"},\n",
    "            \"title\":{\"text\":\"Hartree-Fock Computed Potential Energy Surface\"}\n",
    "        },    \n",
    "}\n",
    "iplot(figure)"
   ]
  },
  {
   "cell_type": "code",
   "execution_count": 3,
   "metadata": {},
   "outputs": [],
   "source": [
    "if(hartreeFile):\n",
    "    \n",
    "    outputFile = open(\"./hartreePotential.txt\", 'w')\n",
    "    \n",
    "    for index, r in enumerate(R):\n",
    "        outputFile.write(str(r) + \" \" + str(E[index]) + \"\\n\")"
   ]
  },
  {
   "cell_type": "code",
   "execution_count": 4,
   "metadata": {
    "scrolled": false
   },
   "outputs": [
    {
     "data": {
      "application/vnd.plotly.v1+json": {
       "config": {
        "linkText": "Export to plot.ly",
        "plotlyServerURL": "https://plot.ly",
        "showLink": false
       },
       "data": [
        {
         "connectgaps": false,
         "marker": {
          "color": "blue"
         },
         "mode": "markers",
         "name": "Hartree-Fock Computed",
         "type": "scatter",
         "x": [
          -1,
          -0.99,
          -0.98,
          -0.97,
          -0.96,
          -0.9500000000000001,
          -0.9400000000000001,
          -0.93,
          -0.92,
          -0.91,
          -0.9,
          -0.89,
          -0.88,
          -0.87,
          -0.86,
          -0.85,
          -0.84,
          -0.8300000000000001,
          -0.8200000000000001,
          -0.81,
          -0.8,
          -0.79,
          -0.78,
          -0.77,
          -0.76,
          -0.75,
          -0.74,
          -0.73,
          -0.72,
          -0.71,
          -0.7000000000000001,
          -0.6900000000000001,
          -0.68,
          -0.67,
          -0.66,
          -0.65,
          -0.64,
          -0.63,
          -0.62,
          -0.61,
          -0.6,
          -0.59,
          -0.58,
          -0.5700000000000001,
          -0.56,
          -0.55,
          -0.54,
          -0.53,
          -0.52,
          -0.51,
          -0.5,
          -0.49,
          -0.48,
          -0.47000000000000003,
          -0.46,
          -0.45,
          -0.44,
          -0.43,
          -0.42,
          -0.41000000000000003,
          -0.4,
          -0.39,
          -0.38,
          -0.37,
          -0.36,
          -0.35000000000000003,
          -0.34,
          -0.33,
          -0.32,
          -0.31,
          -0.3,
          -0.29,
          -0.28,
          -0.27,
          -0.26,
          -0.25,
          -0.24,
          -0.23,
          -0.22,
          -0.21,
          -0.2,
          -0.19,
          -0.18,
          -0.17,
          -0.16,
          -0.15,
          -0.14,
          -0.13,
          -0.12,
          -0.11,
          -0.1,
          -0.09,
          -0.08,
          -0.07,
          -0.06,
          -0.05,
          -0.04,
          -0.03,
          -0.02,
          -0.01,
          0,
          0.01,
          0.02,
          0.03,
          0.04,
          0.05,
          0.06,
          0.07,
          0.08,
          0.09,
          0.1,
          0.11,
          0.12,
          0.13,
          0.14,
          0.15,
          0.16,
          0.17,
          0.18,
          0.19,
          0.2,
          0.21,
          0.22,
          0.23,
          0.24,
          0.25,
          0.26,
          0.27,
          0.28,
          0.29,
          0.3,
          0.31,
          0.32,
          0.33,
          0.34,
          0.35000000000000003,
          0.36,
          0.37,
          0.38,
          0.39,
          0.4,
          0.41000000000000003,
          0.42,
          0.43,
          0.44,
          0.45,
          0.46,
          0.47000000000000003,
          0.48,
          0.49,
          0.5,
          0.51,
          0.52,
          0.53,
          0.54,
          0.55,
          0.56,
          0.5700000000000001,
          0.58,
          0.59,
          0.6,
          0.61,
          0.62,
          0.63,
          0.64,
          0.65,
          0.66,
          0.67,
          0.68,
          0.6900000000000001,
          0.7000000000000001,
          0.71,
          0.72,
          0.73,
          0.74,
          0.75,
          0.76,
          0.77,
          0.78,
          0.79,
          0.8,
          0.81,
          0.8200000000000001,
          0.8300000000000001,
          0.84,
          0.85,
          0.86,
          0.87,
          0.88,
          0.89,
          0.9,
          0.91,
          0.92,
          0.93,
          0.9400000000000001,
          0.9500000000000001,
          0.96,
          0.97,
          0.98,
          0.99,
          1,
          1.01,
          1.02,
          1.03,
          1.04,
          1.05,
          1.06,
          1.07,
          1.08,
          1.09,
          1.1,
          1.11,
          1.12,
          1.1300000000000001,
          1.1400000000000001,
          1.1500000000000001,
          1.16,
          1.17,
          1.18,
          1.19,
          1.2,
          1.21,
          1.22,
          1.23,
          1.24,
          1.25,
          1.26,
          1.27,
          1.28,
          1.29,
          1.3,
          1.31,
          1.32,
          1.33,
          1.34,
          1.35,
          1.36,
          1.37,
          1.3800000000000001,
          1.3900000000000001,
          1.4000000000000001,
          1.41,
          1.42,
          1.43,
          1.44,
          1.45,
          1.46,
          1.47,
          1.48,
          1.49,
          1.5,
          1.51,
          1.52,
          1.53,
          1.54,
          1.55,
          1.56,
          1.57,
          1.58,
          1.59,
          1.6,
          1.61,
          1.62,
          1.6300000000000001,
          1.6400000000000001,
          1.6500000000000001,
          1.6600000000000001,
          1.67,
          1.68,
          1.69,
          1.7,
          1.71,
          1.72,
          1.73,
          1.74,
          1.75,
          1.76,
          1.77,
          1.78,
          1.79,
          1.8,
          1.81,
          1.82,
          1.83,
          1.84,
          1.85,
          1.86,
          1.87,
          1.8800000000000001,
          1.8900000000000001,
          1.9000000000000001,
          1.9100000000000001,
          1.92,
          1.93,
          1.94,
          1.95,
          1.96,
          1.97,
          1.98,
          1.99,
          2,
          2.0100000000000002,
          2.02,
          2.0300000000000002,
          2.04,
          2.05,
          2.06,
          2.07,
          2.08,
          2.09,
          2.1,
          2.11,
          2.12,
          2.13,
          2.14,
          2.15,
          2.16,
          2.17,
          2.18,
          2.19,
          2.2,
          2.21,
          2.22,
          2.23,
          2.24,
          2.25,
          2.2600000000000002,
          2.27,
          2.2800000000000002,
          2.29,
          2.3000000000000003,
          2.31,
          2.32,
          2.33,
          2.34,
          2.35,
          2.36,
          2.37,
          2.38,
          2.39,
          2.4,
          2.41,
          2.42,
          2.43,
          2.44,
          2.45,
          2.46,
          2.47,
          2.48,
          2.49,
          2.5,
          2.5100000000000002,
          2.52,
          2.5300000000000002,
          2.54,
          2.5500000000000003,
          2.56,
          2.57,
          2.58,
          2.59,
          2.6,
          2.61,
          2.62,
          2.63,
          2.64,
          2.65,
          2.66,
          2.67,
          2.68,
          2.69,
          2.7,
          2.71,
          2.72,
          2.73,
          2.74,
          2.75,
          2.7600000000000002,
          2.77,
          2.7800000000000002,
          2.79,
          2.8000000000000003,
          2.81,
          2.82,
          2.83,
          2.84,
          2.85,
          2.86,
          2.87,
          2.88,
          2.89,
          2.9,
          2.91,
          2.92,
          2.93,
          2.94,
          2.95,
          2.96,
          2.97,
          2.98,
          2.99,
          3,
          3.0100000000000002,
          3.02,
          3.0300000000000002,
          3.04,
          3.0500000000000003,
          3.06,
          3.0700000000000003,
          3.08,
          3.09,
          3.1,
          3.11,
          3.12,
          3.13,
          3.14,
          3.15,
          3.16,
          3.17,
          3.18,
          3.19,
          3.2,
          3.21,
          3.22,
          3.23,
          3.24,
          3.25,
          3.2600000000000002,
          3.27,
          3.2800000000000002,
          3.29,
          3.3000000000000003,
          3.31,
          3.3200000000000003,
          3.33,
          3.34,
          3.35,
          3.36,
          3.37,
          3.38,
          3.39,
          3.4,
          3.41,
          3.42,
          3.43,
          3.44,
          3.45,
          3.46,
          3.47,
          3.48,
          3.49,
          3.5,
          3.5100000000000002,
          3.52,
          3.5300000000000002,
          3.54,
          3.5500000000000003,
          3.56,
          3.5700000000000003,
          3.58,
          3.59,
          3.6,
          3.61,
          3.62,
          3.63,
          3.64,
          3.65,
          3.66,
          3.67,
          3.68,
          3.69,
          3.7,
          3.71,
          3.72,
          3.73,
          3.74,
          3.75,
          3.7600000000000002,
          3.77,
          3.7800000000000002,
          3.79,
          3.8000000000000003,
          3.81,
          3.8200000000000003,
          3.83,
          3.84,
          3.85,
          3.86,
          3.87,
          3.88,
          3.89,
          3.9,
          3.91,
          3.92,
          3.93,
          3.94,
          3.95,
          3.96,
          3.97,
          3.98,
          3.99,
          4,
          4.01,
          4.0200000000000005,
          4.03,
          4.04,
          4.05,
          4.0600000000000005,
          4.07,
          4.08,
          4.09,
          4.1,
          4.11,
          4.12,
          4.13,
          4.14,
          4.15,
          4.16,
          4.17,
          4.18,
          4.19,
          4.2,
          4.21,
          4.22,
          4.23,
          4.24,
          4.25,
          4.26,
          4.2700000000000005,
          4.28,
          4.29,
          4.3,
          4.3100000000000005,
          4.32,
          4.33,
          4.34,
          4.3500000000000005,
          4.36,
          4.37,
          4.38,
          4.39,
          4.4,
          4.41,
          4.42,
          4.43,
          4.44,
          4.45,
          4.46,
          4.47,
          4.48,
          4.49,
          4.5,
          4.51,
          4.5200000000000005,
          4.53,
          4.54,
          4.55,
          4.5600000000000005,
          4.57,
          4.58,
          4.59,
          4.6000000000000005,
          4.61,
          4.62,
          4.63,
          4.64,
          4.65,
          4.66,
          4.67,
          4.68,
          4.69,
          4.7,
          4.71,
          4.72,
          4.73,
          4.74,
          4.75,
          4.76,
          4.7700000000000005,
          4.78,
          4.79,
          4.8,
          4.8100000000000005,
          4.82,
          4.83,
          4.84,
          4.8500000000000005,
          4.86,
          4.87,
          4.88,
          4.89,
          4.9,
          4.91,
          4.92,
          4.93,
          4.94,
          4.95,
          4.96,
          4.97,
          4.98,
          4.99,
          5,
          5.01,
          5.0200000000000005,
          5.03,
          5.04,
          5.05,
          5.0600000000000005,
          5.07,
          5.08,
          5.09,
          5.1000000000000005,
          5.11,
          5.12,
          5.13,
          5.14,
          5.15,
          5.16,
          5.17,
          5.18,
          5.19,
          5.2,
          5.21,
          5.22,
          5.23,
          5.24,
          5.25,
          5.26,
          5.2700000000000005,
          5.28,
          5.29,
          5.3,
          5.3100000000000005,
          5.32,
          5.33,
          5.34,
          5.3500000000000005,
          5.36,
          5.37,
          5.38,
          5.39,
          5.4,
          5.41,
          5.42,
          5.43,
          5.44,
          5.45,
          5.46,
          5.47,
          5.48,
          5.49,
          5.5,
          5.51,
          5.5200000000000005,
          5.53,
          5.54,
          5.55,
          5.5600000000000005,
          5.57,
          5.58,
          5.59,
          5.6000000000000005,
          5.61,
          5.62,
          5.63,
          5.64,
          5.65,
          5.66,
          5.67,
          5.68,
          5.69,
          5.7,
          5.71,
          5.72,
          5.73,
          5.74,
          5.75,
          5.76,
          5.7700000000000005,
          5.78,
          5.79,
          5.8,
          5.8100000000000005,
          5.82,
          5.83,
          5.84,
          5.8500000000000005,
          5.86,
          5.87,
          5.88,
          5.89,
          5.9,
          5.91,
          5.92,
          5.93,
          5.94,
          5.95,
          5.96,
          5.97,
          5.98,
          5.99,
          6,
          6.01,
          6.0200000000000005,
          6.03,
          6.04,
          6.05,
          6.0600000000000005,
          6.07,
          6.08,
          6.09,
          6.1000000000000005,
          6.11,
          6.12,
          6.13,
          6.140000000000001,
          6.15,
          6.16,
          6.17,
          6.18,
          6.19,
          6.2,
          6.21,
          6.22,
          6.23,
          6.24,
          6.25,
          6.26,
          6.2700000000000005,
          6.28,
          6.29,
          6.3,
          6.3100000000000005,
          6.32,
          6.33,
          6.34,
          6.3500000000000005,
          6.36,
          6.37,
          6.38,
          6.390000000000001,
          6.4,
          6.41,
          6.42,
          6.43,
          6.44,
          6.45,
          6.46,
          6.47,
          6.48,
          6.49,
          6.5,
          6.51,
          6.5200000000000005,
          6.53,
          6.54,
          6.55,
          6.5600000000000005,
          6.57,
          6.58,
          6.59,
          6.6000000000000005,
          6.61,
          6.62,
          6.63,
          6.640000000000001,
          6.65,
          6.66,
          6.67,
          6.68,
          6.69,
          6.7,
          6.71,
          6.72,
          6.73,
          6.74,
          6.75,
          6.76,
          6.7700000000000005,
          6.78,
          6.79,
          6.8,
          6.8100000000000005,
          6.82,
          6.83,
          6.84,
          6.8500000000000005,
          6.86,
          6.87,
          6.88,
          6.890000000000001,
          6.9,
          6.91,
          6.92,
          6.93,
          6.94,
          6.95,
          6.96,
          6.97,
          6.98,
          6.99,
          7,
          7.01,
          7.0200000000000005,
          7.03,
          7.04,
          7.05,
          7.0600000000000005,
          7.07,
          7.08,
          7.09,
          7.1000000000000005,
          7.11,
          7.12,
          7.13,
          7.140000000000001,
          7.15,
          7.16,
          7.17,
          7.18,
          7.19,
          7.2,
          7.21,
          7.22,
          7.23,
          7.24,
          7.25,
          7.26,
          7.2700000000000005,
          7.28,
          7.29,
          7.3,
          7.3100000000000005,
          7.32,
          7.33,
          7.34,
          7.3500000000000005,
          7.36,
          7.37,
          7.38,
          7.390000000000001,
          7.4,
          7.41,
          7.42,
          7.43,
          7.44,
          7.45,
          7.46,
          7.47,
          7.48,
          7.49,
          7.5,
          7.51,
          7.5200000000000005,
          7.53,
          7.54,
          7.55,
          7.5600000000000005,
          7.57,
          7.58,
          7.59,
          7.6000000000000005,
          7.61,
          7.62,
          7.63,
          7.640000000000001,
          7.65,
          7.66,
          7.67,
          7.68,
          7.69,
          7.7,
          7.71,
          7.72,
          7.73,
          7.74,
          7.75,
          7.76,
          7.7700000000000005,
          7.78,
          7.79,
          7.8,
          7.8100000000000005,
          7.82,
          7.83,
          7.84,
          7.8500000000000005,
          7.86,
          7.87,
          7.88,
          7.890000000000001,
          7.9,
          7.91,
          7.92,
          7.930000000000001,
          7.94,
          7.95,
          7.96,
          7.97,
          7.98,
          7.99,
          8,
          8.01,
          8.02,
          8.03,
          8.040000000000001,
          8.05,
          8.06,
          8.07,
          8.08,
          8.09,
          8.1,
          8.11,
          8.120000000000001,
          8.13,
          8.14,
          8.15,
          8.16,
          8.17,
          8.18,
          8.19,
          8.2,
          8.21,
          8.22,
          8.23,
          8.24,
          8.25,
          8.26,
          8.27,
          8.28,
          8.290000000000001,
          8.3,
          8.31,
          8.32,
          8.33,
          8.34,
          8.35,
          8.36,
          8.370000000000001,
          8.38,
          8.39,
          8.4,
          8.41,
          8.42,
          8.43,
          8.44,
          8.45,
          8.46,
          8.47,
          8.48,
          8.49,
          8.5,
          8.51,
          8.52,
          8.53,
          8.540000000000001,
          8.55,
          8.56,
          8.57,
          8.58,
          8.59,
          8.6,
          8.61,
          8.620000000000001,
          8.63,
          8.64,
          8.65,
          8.66,
          8.67,
          8.68,
          8.69,
          8.700000000000001,
          8.71,
          8.72,
          8.73,
          8.74,
          8.75,
          8.76,
          8.77,
          8.78,
          8.790000000000001,
          8.8,
          8.81,
          8.82,
          8.83,
          8.84,
          8.85,
          8.86,
          8.870000000000001,
          8.88,
          8.89,
          8.9,
          8.91,
          8.92,
          8.93,
          8.94,
          8.950000000000001,
          8.96,
          8.97,
          8.98,
          8.99,
          9,
          9.01,
          9.02,
          9.03,
          9.040000000000001,
          9.05,
          9.06,
          9.07,
          9.08,
          9.09,
          9.1,
          9.11,
          9.120000000000001,
          9.13,
          9.14,
          9.15,
          9.16,
          9.17,
          9.18,
          9.19,
          9.200000000000001,
          9.21,
          9.22,
          9.23,
          9.24,
          9.25,
          9.26,
          9.27,
          9.28,
          9.290000000000001,
          9.3,
          9.31,
          9.32,
          9.33,
          9.34,
          9.35,
          9.36,
          9.370000000000001,
          9.38,
          9.39,
          9.4,
          9.41,
          9.42,
          9.43,
          9.44,
          9.450000000000001,
          9.46,
          9.47,
          9.48,
          9.49,
          9.5,
          9.51,
          9.52,
          9.53,
          9.540000000000001,
          9.55,
          9.56,
          9.57,
          9.58,
          9.59,
          9.6,
          9.61,
          9.620000000000001,
          9.63,
          9.64,
          9.65,
          9.66,
          9.67,
          9.68,
          9.69,
          9.700000000000001,
          9.71,
          9.72,
          9.73,
          9.74,
          9.75,
          9.76,
          9.77,
          9.78,
          9.790000000000001,
          9.8,
          9.81,
          9.82,
          9.83,
          9.84,
          9.85,
          9.86,
          9.870000000000001,
          9.88,
          9.89,
          9.9,
          9.91,
          9.92,
          9.93,
          9.94,
          9.950000000000001,
          9.96,
          9.97,
          9.98,
          9.99
         ],
         "y": [
          5.594577724086179,
          5.4804181885171515,
          5.36802894630153,
          5.257384007100923,
          5.148457752882416,
          5.041224932647412,
          4.935660657234737,
          4.831740394196898,
          4.729439962748414,
          4.62873552878535,
          4.529603599974923,
          4.432021020914277,
          4.335964968357377,
          4.241412946509198,
          4.148342782386071,
          4.0567326212414905,
          3.966560922056221,
          3.877806453092022,
          3.7904482875079175,
          3.7044657990382586,
          3.6198386577316413,
          3.5365468257498707,
          3.4545705532260573,
          3.3738903741811033,
          3.2944871024977322,
          3.216341827951175,
          3.139435912295845,
          3.0637509854071174,
          2.989268941477497,
          2.915971935266362,
          2.8438423784025764,
          2.7728629357391927,
          2.703016521759561,
          2.6342862970340373,
          2.566655664726701,
          2.500108267151245,
          2.4346279823754666,
          2.370198920873595,
          2.306805422225832,
          2.2444320518643983,
          2.1830635978654973,
          2.1226850677864637,
          2.0632816855475555,
          2.0048388883576838,
          1.9473423236835017,
          1.890777846261273,
          1.8351315151508274,
          1.7803895908311018,
          1.7265385323366451,
          1.6735649944345186,
          1.6214558248410063,
          1.5701980614776052,
          1.5197789297657205,
          1.470185839959525,
          1.4214063845164708,
          1.373428335504884,
          1.32623964204815,
          1.2798284278049703,
          1.2341829884851716,
          1.1892917894005897,
          1.1451434630505046,
          1.1017268067411825,
          1.0590307802389876,
          1.0170445034566655,
          0.9757572541722532,
          0.9351584657802281,
          0.8952377250743844,
          0.8559847700620398,
          0.8173894878090908,
          0.7794419123155123,
          0.7421322224208535,
          0.7054507397393286,
          0.6693879266240663,
          0.6339343841601179,
          0.5990808501858202,
          0.5648181973421127,
          0.5311374311494104,
          0.49802968811166104,
          0.465486233847185,
          0.4334984612459305,
          0.40205788865277503,
          0.37115615807650015,
          0.34078503342408517,
          0.31093639875996093,
          0.28160225658986704,
          0.25277472616897567,
          0.22444604183393246,
          0.1966085513584903,
          0.16925471433238526,
          0.14237710056314268,
          0.11596838850049074,
          0.09002136368304958,
          0.06452891720700205,
          0.03948404421641438,
          0.014879842414929456,
          -0.009290489401494906,
          -0.033033652791083945,
          -0.056356251092270604,
          -0.07926479082955051,
          -0.1017656830994278,
          -0.12386524493675222,
          -0.1455697006617167,
          -0.1668851832077829,
          -0.18781773543081126,
          -0.20837331139965043,
          -0.22855777766845842,
          -0.24837691453100652,
          -0.2678364172572141,
          -0.28694189731217745,
          -0.3056988835579295,
          -0.32411282343817494,
          -0.3421890841462425,
          -0.35993295377649226,
          -0.37734964245940383,
          -0.39444428348058613,
          -0.41122193438392274,
          -0.42768757805908764,
          -0.4438461238136441,
          -0.4597024084299466,
          -0.4752611972070603,
          -0.49052718498790593,
          -0.5055049971718434,
          -0.5201991907128954,
          -0.5346142551038146,
          -0.5487546133461908,
          -0.5626246229068026,
          -0.5762285766603988,
          -0.5895707038191058,
          -0.6026551708486457,
          -0.615486082371557,
          -0.6280674820575947,
          -0.6404033535014925,
          -0.6524976210882695,
          -0.664354150846248,
          -0.675976751287966,
          -0.6873691742391455,
          -0.6985351156558932,
          -0.7094782164302941,
          -0.7202020631845619,
          -0.7307101890539116,
          -0.741006074458308,
          -0.751093147863252,
          -0.7609747865297545,
          -0.7706543172536555,
          -0.7801350170944329,
          -0.7894201140936536,
          -0.7985127879832123,
          -0.8074161708835014,
          -0.8161333479916513,
          -0.8246673582599882,
          -0.8330211950648383,
          -0.8411978068658242,
          -0.8492000978557794,
          -0.8570309286014175,
          -0.8646931166748861,
          -0.8721894372763348,
          -0.8795226238476197,
          -0.8866953686772774,
          -0.8937103234968822,
          -0.9005701000689175,
          -0.9072772707662731,
          -0.9138343691434933,
          -0.920243890499886,
          -0.9265082924346147,
          -0.9326299953938788,
          -0.938611383210301,
          -0.9444548036346272,
          -0.9501625688598493,
          -0.9557369560378584,
          -0.9611802077887313,
          -0.9664945327027579,
          -0.9716821058353105,
          -0.9767450691946538,
          -0.9816855322227994,
          -0.9865055722695009,
          -0.9912072350594856,
          -0.9957925351530209,
          -1.0002634563999073,
          -1.0046219523869917,
          -1.008869946879294,
          -1.013009334254834,
          -1.0170419799332509,
          -1.0209697207983013,
          -1.024794365614323,
          -1.02851769543675,
          -1.0321414640167617,
          -1.03566739820015,
          -1.0390971983204873,
          -1.0424325385866733,
          -1.0456750674649433,
          -1.0488264080554122,
          -1.0518881584632365,
          -1.0548618921644657,
          -1.057749158366663,
          -1.0605514823643625,
          -1.0632703658894451,
          -1.065907287456497,
          -1.0684637027032242,
          -1.0709410447259968,
          -1.073340724410586,
          -1.0756641307581658,
          -1.0779126312066454,
          -1.080087571947398,
          -1.0821902782374524,
          -1.084222054707209,
          -1.0861841856637473,
          -1.0880779353897847,
          -1.0899045484383472,
          -1.091665249923218,
          -1.0933612458052169,
          -1.0949937231743738,
          -1.0965638505280548,
          -1.0980727780450958,
          -1.0995216378560015,
          -1.1009115443092652,
          -1.1022435942338658,
          -1.1035188671979936,
          -1.1047384257640611,
          -1.1059033157400482,
          -1.1070145664272384,
          -1.1080731908643917,
          -1.1090801860684092,
          -1.1100365332715378,
          -1.1109431981551618,
          -1.1118011310802338,
          -1.1126112673143886,
          -1.113374527255792,
          -1.1140918166537637,
          -1.1147640268262289,
          -1.1153920348740345,
          -1.1159767038921835,
          -1.1165188831780217,
          -1.1170194084364304,
          -1.1174791019820574,
          -1.1178987729386356,
          -1.118279217435429,
          -1.118621218800843,
          -1.1189255477532454,
          -1.1191929625890324,
          -1.1194242093679825,
          -1.119620022095934,
          -1.1197811229048262,
          -1.119908222230141,
          -1.1200020189857816,
          -1.1200632007364242,
          -1.1200924438673814,
          -1.1200904137520085,
          -1.1200577649166907,
          -1.119995141203445,
          -1.1199031759301703,
          -1.1197824920485777,
          -1.119633702299839,
          -1.1194574093679786,
          -1.1192542060310469,
          -1.1190246753101045,
          -1.1187693906160483,
          -1.1184889158943094,
          -1.1181838057674556,
          -1.1178546056757253,
          -1.1175018520155258,
          -1.11712607227592,
          -1.1167277851731368,
          -1.1163075007831258,
          -1.115865720672191,
          -1.115402938025726,
          -1.114919637775081,
          -1.1144162967225861,
          -1.1138933836647575,
          -1.1133513595137146,
          -1.112790677416829,
          -1.1122117828746376,
          -1.1116151138570356,
          -1.1110011009177831,
          -1.110370167307342,
          -1.1097227290840714,
          -1.1090591952238036,
          -1.1083799677278225,
          -1.1076854417292707,
          -1.106976005598003,
          -1.1062520410439125,
          -1.10551392321875,
          -1.1047620208164561,
          -1.10399669617203,
          -1.103218305358955,
          -1.1024271982852007,
          -1.1016237187878233,
          -1.1008082047261822,
          -1.0999809880737956,
          -1.0991423950088515,
          -1.0982927460033955,
          -1.0974323559112134,
          -1.0965615340544264,
          -1.0956805843088202,
          -1.0947898051879228,
          -1.09388948992585,
          -1.0929799265589386,
          -1.0920613980061802,
          -1.0911341821484764,
          -1.0901985519067312,
          -1.0892547753187969,
          -1.0883031156152903,
          -1.0873438312942934,
          -1.0863771761949605,
          -1.085403399570039,
          -1.084422746157326,
          -1.0834354562500725,
          -1.0824417657663545,
          -1.0814419063174179,
          -1.0804361052750202,
          -1.0794245858377807,
          -1.0784075670965494,
          -1.0773852640988149,
          -1.076357887912161,
          -1.0753256456867877,
          -1.0742887407171076,
          -1.0732473725024345,
          -1.0722017368067744,
          -1.0711520257177325,
          -1.070098427704549,
          -1.0690411276752787,
          -1.0679803070331195,
          -1.0669161437319126,
          -1.065848812330816,
          -1.0647784840481713,
          -1.0637053268145682,
          -1.062629505325126,
          -1.0615511810909959,
          -1.0604705124901013,
          -1.0593876548171224,
          -1.05830276033274,
          -1.0572159783121455,
          -1.0561274550928312,
          -1.0550373341216672,
          -1.0539457560012808,
          -1.0528528585357413,
          -1.0517587767755676,
          -1.0506636430620622,
          -1.049567587070985,
          -1.0484707358555763,
          -1.0473732138889353,
          -1.0462751431057677,
          -1.0451766429435083,
          -1.044077830382828,
          -1.0429788199875372,
          -1.041879723943889,
          -1.0407806520992966,
          -1.0396817120004676,
          -1.038583008930969,
          -1.037484645948229,
          -1.0363867239199798,
          -1.035289341560158,
          -1.034192595464263,
          -1.0330965801441832,
          -1.0320013880624999,
          -1.0309071096662756,
          -1.0298138334203308,
          -1.0287216458400215,
          -1.0276306315235226,
          -1.0265408731836227,
          -1.0254524516790418,
          -1.024365446045272,
          -1.023279933524957,
          -1.0221959895978074,
          -1.0211136880100675,
          -1.0200331008035333,
          -1.0189542983441318,
          -1.017877349350068,
          -1.016802320919543,
          -1.0157292785580534,
          -1.0146582862052749,
          -1.0135894062615374,
          -1.0125226996138983,
          -1.0114582256618188,
          -1.010396042342448,
          -1.0093362061555236,
          -1.0082787721878916,
          -1.0072237941376527,
          -1.0061713243379389,
          -1.0051214137803288,
          -1.0040741121379022,
          -1.0030294677879448,
          -1.0019875278343027,
          -1.0009483381293964,
          -0.9999119432958954,
          -0.9988783867480625,
          -0.9978477107127675,
          -0.9968199562501804,
          -0.9957951632741453,
          -0.9947733705722405,
          -0.9937546158255299,
          -0.9927389356280105,
          -0.9917263655057585,
          -0.9907169399357815,
          -0.9897106923645774,
          -0.9887076552264089,
          -0.9877078599612922,
          -0.9867113370327094,
          -0.9857181159450455,
          -0.9847282252607545,
          -0.983741692617259,
          -0.9827585447435881,
          -0.9817788074767557,
          -0.9808025057778831,
          -0.9798296637480723,
          -0.9788603046440302,
          -0.9778944508934488,
          -0.9769321241101467,
          -0.975973345108972,
          -0.9750181339204731,
          -0.9740665098053387,
          -0.9731184912686127,
          -0.9721740960736847,
          -0.9712333412560612,
          -0.9702962431369204,
          -0.9693628173364532,
          -0.9684330787869945,
          -0.9675070417459467,
          -0.9665847198085002,
          -0.9656661259201513,
          -0.9647512723890239,
          -0.9638401708979942,
          -0.9629328325166251,
          -0.9620292677129095,
          -0.961129486364828,
          -0.9602334977717223,
          -0.9593413106654882,
          -0.9584529332215893,
          -0.9575683730698958,
          -0.9566876373053494,
          -0.9558107324984585,
          -0.954937664705624,
          -0.954068439479302,
          -0.9532030618780002,
          -0.9523415364761166,
          -0.9514838673736185,
          -0.9506300582055653,
          -0.9497801121514793,
          -0.9489340319445635,
          -0.9480918198807715,
          -0.9472534778277302,
          -0.9464190072335182,
          -0.9455884091353013,
          -0.9447616841678286,
          -0.9439388325717887,
          -0.9431198542020323,
          -0.9423047485356582,
          -0.941493514679969,
          -0.9406861513802962,
          -0.939882657027696,
          -0.9390830296665214,
          -0.9382872670018672,
          -0.9374953664068947,
          -0.9367073249300348,
          -0.9359231393020722,
          -0.9351428059431132,
          -0.9343663209694376,
          -0.9335936802002381,
          -0.9328248791642462,
          -0.9320599131062502,
          -0.931298776993503,
          -0.9305414655220234,
          -0.9297879731227935,
          -0.9290382939678508,
          -0.9282924219762791,
          -0.9275503508200995,
          -0.9268120739300606,
          -0.9260775845013337,
          -0.9253468754991099,
          -0.9246199396641042,
          -0.9238967695179652,
          -0.9231773573685944,
          -0.9224616953153745,
          -0.9217497752543085,
          -0.9210415888830724,
          -0.9203371277059808,
          -0.9196363830388671,
          -0.918939346013882,
          -0.918246007584208,
          -0.917556358528693,
          -0.9168703894564045,
          -0.9161880908111062,
          -0.9155094528756543,
          -0.9148344657763212,
          -0.9141631194870418,
          -0.9134954038335856,
          -0.9128313084976587,
          -0.912170823020931,
          -0.9115139368089954,
          -0.9108606391352556,
          -0.9102109191447472,
          -0.90956476585789,
          -0.9089221681741757,
          -0.9082831148757882,
          -0.907647594631162,
          -0.9070155959984754,
          -0.9063871074290827,
          -0.9057621172708845,
          -0.905140613771638,
          -0.9045225850822073,
          -0.9039080192597557,
          -0.9032969042708807,
          -0.9026892279946916,
          -0.9020849782258318,
          -0.9014841426774458,
          -0.9008867089840925,
          -0.9002926647046054,
          -0.8997019973248993,
          -0.8991146942607274,
          -0.8985307428603857,
          -0.897950130407368,
          -0.897372844122973,
          -0.8967988711688609,
          -0.8962281986495637,
          -0.8956608136149486,
          -0.8950967030626347,
          -0.8945358539403637,
          -0.8939782531483285,
          -0.8934238875414542,
          -0.8928727439316383,
          -0.8923248090899475,
          -0.8917800697487726,
          -0.8912385126039419,
          -0.8907001243167945,
          -0.8901648915162124,
          -0.8896328008006158,
          -0.8891038387399162,
          -0.8885779918774344,
          -0.8880552467317793,
          -0.8875355897986908,
          -0.8870190075528454,
          -0.8865054864496266,
          -0.8859950129268609,
          -0.8854875734065178,
          -0.8849831542963769,
          -0.8844817419916602,
          -0.8839833228766338,
          -0.8834878833261748,
          -0.8829954097073069,
          -0.8825058883807064,
          -0.8820193057021743,
          -0.881535648024081,
          -0.8810549016967791,
          -0.8805770530699878,
          -0.8801020884941481,
          -0.8796299943217496,
          -0.8791607569086295,
          -0.8786943626152437,
          -0.8782307978079117,
          -0.8777700488600331,
          -0.8773121021532807,
          -0.8768569440787649,
          -0.8764045610381749,
          -0.875954939444894,
          -0.875508065725091,
          -0.8750639263187865,
          -0.8746225076808969,
          -0.874183796282254,
          -0.873747778610602,
          -0.873314441171573,
          -0.8728837704896377,
          -0.8724557531090376,
          -0.8720303755946937,
          -0.8716076245330945,
          -0.8711874865331634,
          -0.8707699482271062,
          -0.870354996271238,
          -0.8699426173467908,
          -0.8695327981607008,
          -0.8691255254463788,
          -0.8687207859644592,
          -0.8683185665035331,
          -0.8679188538808615,
          -0.8675216349430716,
          -0.8671268965668357,
          -0.866734625659533,
          -0.8663448091598936,
          -0.8659574340386275,
          -0.8655724872990354,
          -0.8651899559776056,
          -0.8648098271445934,
          -0.864432087904586,
          -0.8640567253970519,
          -0.863683726796876,
          -0.863313079314878,
          -0.8629447701983197,
          -0.862578786731395,
          -0.8622151162357078,
          -0.8618537460707356,
          -0.8614946636342802,
          -0.8611378563629037,
          -0.8607833117323542,
          -0.8604310172579761,
          -0.8600809604951093,
          -0.8597331290394761,
          -0.8593875105275555,
          -0.859044092636946,
          -0.858702863086717,
          -0.8583638096377479,
          -0.8580269200930573,
          -0.8576921822981198,
          -0.8573595841411731,
          -0.8570291135535136,
          -0.8567007585097826,
          -0.8563745070282408,
          -0.8560503471710347,
          -0.8557282670444508,
          -0.8554082547991624,
          -0.8550902986304654,
          -0.8547743867785051,
          -0.8544605075284942,
          -0.8541486492109216,
          -0.8538388002017521,
          -0.8535309489226179,
          -0.8532250838410015,
          -0.85292119347041,
          -0.8526192663705412,
          -0.8523192911474426,
          -0.8520212564536609,
          -0.8517251509883854,
          -0.851430963497583,
          -0.8511386827741252,
          -0.8508482976579097,
          -0.8505597970359726,
          -0.8502731698425956,
          -0.8499884050594043,
          -0.8497054917154621,
          -0.8494244188873551,
          -0.8491451756992725,
          -0.8488677513230798,
          -0.8485921349783853,
          -0.8483183159326011,
          -0.8480462835009988,
          -0.847776027046758,
          -0.8475075359810094,
          -0.8472407997628729,
          -0.8469758078994905,
          -0.8467125499460515,
          -0.8464510155058159,
          -0.846191194230129,
          -0.8459330758184345,
          -0.8456766500182791,
          -0.8454219066253154,
          -0.8451688354832976,
          -0.8449174264840742,
          -0.8446676695675754,
          -0.8444195547217958,
          -0.8441730719827732,
          -0.8439282114345634,
          -0.8436849632092094,
          -0.8434433174867089,
          -0.8432032644949753,
          -0.842964794509796,
          -0.8427278978547874,
          -0.8424925649013448,
          -0.8422587860685897,
          -0.8420265518233131,
          -0.8417958526799152,
          -0.8415666792003422,
          -0.8413390219940189,
          -0.8411128717177789,
          -0.840888219075791,
          -0.840665054819483,
          -0.8404433697474618,
          -0.8402231547054311,
          -0.8400044005861058,
          -0.8397870983291241,
          -0.8395712389209564,
          -0.8393568133948112,
          -0.839143812830539,
          -0.8389322283545335,
          -0.8387220511396303,
          -0.8385132724050022,
          -0.8383058834160542,
          -0.8380998754843139,
          -0.8378952399673208,
          -0.8376919682685144,
          -0.8374900518371172,
          -0.8372894821680187,
          -0.8370902508016556,
          -0.8368923493238909,
          -0.8366957693658899,
          -0.836500502603996,
          -0.8363065407596033,
          -0.8361138755990278,
          -0.8359224989333773,
          -0.8357324026184192,
          -0.8355435785544465,
          -0.8353560186861428,
          -0.8351697150024456,
          -0.8349846595364077,
          -0.834800844365057,
          -0.8346182616092567,
          -0.8344369034335611,
          -0.8342567620460732,
          -0.8340778296982985,
          -0.8339000986849994,
          -0.8337235613440472,
          -0.833548210056274,
          -0.833374037245322,
          -0.8332010353774937,
          -0.833029196961599,
          -0.8328585145488029,
          -0.8326889807324716,
          -0.8325205881480174,
          -0.8323533294727434,
          -0.8321871974256866,
          -0.8320221847674605,
          -0.8318582843000971,
          -0.8316954888668884,
          -0.8315337913522254,
          -0.8313731846814394,
          -0.8312136618206396,
          -0.8310552157765524,
          -0.8308978395963582,
          -0.8307415263675292,
          -0.830586269217666,
          -0.8304320613143328,
          -0.8302788958648945,
          -0.83012676611635,
          -0.829975665355168,
          -0.8298255869071209,
          -0.8296765241371189,
          -0.8295284704490424,
          -0.8293814192855767,
          -0.8292353641280434,
          -0.8290902984962334,
          -0.8289462159482395,
          -0.8288031100802875,
          -0.8286609745265686,
          -0.8285198029590708,
          -0.8283795890874095,
          -0.82824032665866,
          -0.828102009457187,
          -0.8279646313044766,
          -0.8278281860589666,
          -0.8276926676158769,
          -0.8275580699070404,
          -0.8274243869007338,
          -0.8272916126015075,
          -0.8271597410500164,
          -0.8270287663228505,
          -0.826898682532365,
          -0.8267694838265109,
          -0.8266411643886662,
          -0.8265137184374656,
          -0.8263871402266315,
          -0.8262614240448054,
          -0.826136564215378,
          -0.8260125550963205,
          -0.825889391080016,
          -0.8257670665930904,
          -0.8256455760962442,
          -0.8255249140840841,
          -0.8254050750849545,
          -0.82528605366077,
          -0.8251678444068477,
          -0.8250504419517386,
          -0.8249338409570623,
          -0.8248180361173378,
          -0.8247030221598185,
          -0.8245887938443244,
          -0.8244753459630768,
          -0.8243626733405317,
          -0.8242507708332145,
          -0.824139633329555,
          -0.8240292557497215,
          -0.8239196330454572,
          -0.8238107601999152,
          -0.8237026322274946,
          -0.8235952441736769,
          -0.8234885911148635,
          -0.8233826681582114,
          -0.8232774704414718,
          -0.8231729931328281,
          -0.8230692314307333,
          -0.8229661805637494,
          -0.8228638357903864,
          -0.8227621923989419,
          -0.822661245707341,
          -0.8225609910629766,
          -0.8224614238425505,
          -0.8223625394519145,
          -0.8222643333259123,
          -0.8221668009282216,
          -0.8220699377511969,
          -0.8219737393157126,
          -0.8218782011710066,
          -0.8217833188945247,
          -0.8216890880917647,
          -0.8215955043961218,
          -0.8215025634687343,
          -0.8214102609983297,
          -0.8213185927010709,
          -0.8212275543204037,
          -0.8211371416269044,
          -0.8210473504181282,
          -0.820958176518457,
          -0.8208696157789497,
          -0.8207816640771912,
          -0.820694317317143,
          -0.8206075714289942,
          -0.820521422369012,
          -0.8204358661193951,
          -0.8203508986881246,
          -0.8202665161088178,
          -0.820182714440582,
          -0.8200994897678678,
          -0.8200168382003248,
          -0.819934755872656,
          -0.8198532389444739,
          -0.8197722836001571,
          -0.8196918860487068,
          -0.8196120425236049,
          -0.8195327492826716,
          -0.8194540026079243,
          -0.8193757988054368,
          -0.8192981342051989,
          -0.8192210051609776,
          -0.8191444080501771,
          -0.8190683392737008,
          -0.8189927952558138,
          -0.8189177724440053,
          -0.8188432673088515,
          -0.8187692763438807,
          -0.8186957960654369,
          -0.8186228230125447,
          -0.8185503537467764,
          -0.8184783848521162,
          -0.8184069129348293,
          -0.8183359346233277,
          -0.818265446568039,
          -0.8181954454412754,
          -0.818125927937102,
          -0.8180568907712077,
          -0.8179883306807749,
          -0.8179202444243512,
          -0.8178526287817203,
          -0.817785480553775,
          -0.8177187965623898,
          -0.817652573650294,
          -0.8175868086809464,
          -0.8175214985384095,
          -0.8174566401272246,
          -0.8173922303722885,
          -0.8173282662187284,
          -0.8172647446317808,
          -0.8172016625966676,
          -0.8171390171184754,
          -0.8170768052220333,
          -0.8170150239517933,
          -0.8169536703717097,
          -0.8168927415651199,
          -0.8168322346346257,
          -0.8167721467019746,
          -0.8167124749079431,
          -0.8166532164122184,
          -0.8165943683932835,
          -0.8165359280482998,
          -0.816477892592993,
          -0.8164202592615375,
          -0.8163630253064433,
          -0.8163061879984419,
          -0.8162497446263729,
          -0.8161936924970727,
          -0.8161380289352624,
          -0.8160827512834359,
          -0.8160278569017501,
          -0.8159733431679148,
          -0.8159192074770829,
          -0.8158654472417415,
          -0.8158120598916044,
          -0.8157590428735033,
          -0.8157063936512813,
          -0.8156541097056857,
          -0.8156021885342633,
          -0.8155506276512533,
          -0.8154994245874834,
          -0.8154485768902655,
          -0.8153980821232911,
          -0.8153479378665296,
          -0.8152981417161238,
          -0.8152486912842893,
          -0.8151995841992126,
          -0.8151508181049493,
          -0.8151023906613248,
          -0.8150542995438342,
          -0.8150065424435422,
          -0.8149591170669854,
          -0.814912021136073,
          -0.8148652523879902,
          -0.8148188085751,
          -0.8147726874648478,
          -0.814726886839664,
          -0.8146814044968693,
          -0.8146362382485797,
          -0.8145913859216117,
          -0.814546845357389,
          -0.8145026144118478,
          -0.8144586909553455,
          -0.8144150728725673,
          -0.8143717580624349,
          -0.8143287444380147,
          -0.8142860299264278,
          -0.8142436124687588,
          -0.8142014900199666,
          -0.8141596605487952,
          -0.814118122037685,
          -0.8140768724826839,
          -0.8140359098933607,
          -0.8139952322927172,
          -0.8139548377171013,
          -0.8139147242161215,
          -0.813874889852561,
          -0.8138353327022918,
          -0.813796050854191,
          -0.813757042410056,
          -0.8137183054845208,
          -0.8136798382049732,
          -0.8136416387114718,
          -0.8136037051566632,
          -0.8135660357057013,
          -0.8135286285361651,
          -0.8134914818379784,
          -0.8134545938133295,
          -0.8134179626765908,
          -0.8133815866542401,
          -0.813345463984781,
          -0.8133095929186653,
          -0.8132739717182141,
          -0.813238598657541,
          -0.8132034720224746,
          -0.8131685901104821,
          -0.8131339512305936,
          -0.8130995537033254,
          -0.8130653958606054,
          -0.8130314760456987,
          -0.8129977926131327,
          -0.812964343928623,
          -0.812931128369001,
          -0.8128981443221399,
          -0.8128653901868828,
          -0.8128328643729699,
          -0.8128005653009678,
          -0.8127684914021973,
          -0.8127366411186634,
          -0.8127050129029847,
          -0.8126736052183225,
          -0.8126424165383135,
          -0.8126114453469979,
          -0.8125806901387533,
          -0.812550149418225,
          -0.8125198217002583,
          -0.8124897055098312,
          -0.8124597993819884,
          -0.8124301018617728,
          -0.8124006115041608,
          -0.8123713268739963,
          -0.8123422465459249,
          -0.8123133691043292,
          -0.8122846931432642,
          -0.8122562172663934,
          -0.8122279400869247,
          -0.812199860227547,
          -0.8121719763203678,
          -0.8121442870068498,
          -0.8121167909377495,
          -0.8120894867730547,
          -0.8120623731819239,
          -0.8120354488426241,
          -0.8120087124424717,
          -0.811982162677771,
          -0.8119557982537544,
          -0.8119296178845237,
          -0.8119036202929901,
          -0.8118778042108159,
          -0.8118521683783559,
          -0.8118267115445996,
          -0.8118014324671132,
          -0.8117763299119827,
          -0.811751402653756,
          -0.8117266494753882,
          -0.8117020691681831,
          -0.8116776605317393,
          -0.8116534223738932,
          -0.8116293535106645,
          -0.8116054527662018,
          -0.8115817189727271,
          -0.8115581509704828,
          -0.811534747607677,
          -0.8115115077404302,
          -0.8114884302327231,
          -0.8114655139563426,
          -0.8114427577908301,
          -0.8114201606234295,
          -0.8113977213490349,
          -0.8113754388701393,
          -0.8113533120967844,
          -0.8113313399465085,
          -0.8113095213442968,
          -0.8112878552225313,
          -0.8112663405209406,
          -0.8112449761865511,
          -0.8112237611736368,
          -0.8112026944436718,
          -0.8111817749652803,
          -0.8111610017141897,
          -0.8111403736731818,
          -0.8111198898320455,
          -0.8110995491875298,
          -0.8110793507432963,
          -0.8110592935098726,
          -0.8110393765046064,
          -0.811019598751619,
          -0.8109999592817595,
          -0.8109804571325594,
          -0.8109610913481875,
          -0.8109418609794049,
          -0.8109227650835205,
          -0.8109038027243463,
          -0.8108849729721541,
          -0.8108662749036311,
          -0.8108477076018366,
          -0.8108292701561588,
          -0.8108109616622724,
          -0.8107927812220952,
          -0.8107747279437463,
          -0.8107568009415036,
          -0.8107389993357627,
          -0.8107213222529948,
          -0.8107037688257054,
          -0.8106863381923939,
          -0.8106690294975125,
          -0.8106518418914256,
          -0.8106347745303699,
          -0.8106178265764145,
          -0.8106009971974211,
          -0.8105842855670048,
          -0.8105676908644948,
          -0.8105512122748953,
          -0.8105348489888478,
          -0.8105186002025913,
          -0.8105024651179256,
          -0.8104864429421726,
          -0.810470532888139,
          -0.8104547341740784,
          -0.8104390460236555,
          -0.8104234676659074,
          -0.8104079983352086,
          -0.8103926372712337,
          -0.8103773837189212,
          -0.8103622369284385,
          -0.8103471961551448,
          -0.8103322606595573,
          -0.8103174297073148,
          -0.8103027025691428,
          -0.8102880785208195,
          -0.8102735568431407,
          -0.8102591368218854,
          -0.8102448177477827,
          -0.8102305989164764,
          -0.8102164796284932,
          -0.8102024591892074,
          -0.81018853690881,
          -0.8101747121022733,
          -0.8101609840893202,
          -0.8101473521943906,
          -0.8101338157466096,
          -0.8101203740797549,
          -0.8101070265322257,
          -0.8100937724470105,
          -0.8100806111716558,
          -0.8100675420582348,
          -0.8100545644633167,
          -0.8100416777479356,
          -0.8100288812775598,
          -0.8100161744220619,
          -0.8100035565556881,
          -0.8099910270570283,
          -0.8099785853089867,
          -0.8099662306987516,
          -0.8099539626177666,
          -0.8099417804617008,
          -0.8099296836304204,
          -0.8099176715279592,
          -0.809905743562491,
          -0.8098938991463001,
          -0.8098821376957537,
          -0.8098704586312736,
          -0.8098588613773086,
          -0.8098473453623063,
          -0.8098359100186865,
          -0.8098245547828129,
          -0.8098132790949669,
          -0.8098020823993198,
          -0.8097909641439068,
          -0.8097799237806,
          -0.8097689607650822,
          -0.8097580745568205,
          -0.8097472646190402,
          -0.8097365304186994
         ]
        }
       ],
       "layout": {
        "template": {
         "data": {
          "bar": [
           {
            "error_x": {
             "color": "#2a3f5f"
            },
            "error_y": {
             "color": "#2a3f5f"
            },
            "marker": {
             "line": {
              "color": "#E5ECF6",
              "width": 0.5
             }
            },
            "type": "bar"
           }
          ],
          "barpolar": [
           {
            "marker": {
             "line": {
              "color": "#E5ECF6",
              "width": 0.5
             }
            },
            "type": "barpolar"
           }
          ],
          "carpet": [
           {
            "aaxis": {
             "endlinecolor": "#2a3f5f",
             "gridcolor": "white",
             "linecolor": "white",
             "minorgridcolor": "white",
             "startlinecolor": "#2a3f5f"
            },
            "baxis": {
             "endlinecolor": "#2a3f5f",
             "gridcolor": "white",
             "linecolor": "white",
             "minorgridcolor": "white",
             "startlinecolor": "#2a3f5f"
            },
            "type": "carpet"
           }
          ],
          "choropleth": [
           {
            "colorbar": {
             "outlinewidth": 0,
             "ticks": ""
            },
            "type": "choropleth"
           }
          ],
          "contour": [
           {
            "colorbar": {
             "outlinewidth": 0,
             "ticks": ""
            },
            "colorscale": [
             [
              0,
              "#0d0887"
             ],
             [
              0.1111111111111111,
              "#46039f"
             ],
             [
              0.2222222222222222,
              "#7201a8"
             ],
             [
              0.3333333333333333,
              "#9c179e"
             ],
             [
              0.4444444444444444,
              "#bd3786"
             ],
             [
              0.5555555555555556,
              "#d8576b"
             ],
             [
              0.6666666666666666,
              "#ed7953"
             ],
             [
              0.7777777777777778,
              "#fb9f3a"
             ],
             [
              0.8888888888888888,
              "#fdca26"
             ],
             [
              1,
              "#f0f921"
             ]
            ],
            "type": "contour"
           }
          ],
          "contourcarpet": [
           {
            "colorbar": {
             "outlinewidth": 0,
             "ticks": ""
            },
            "type": "contourcarpet"
           }
          ],
          "heatmap": [
           {
            "colorbar": {
             "outlinewidth": 0,
             "ticks": ""
            },
            "colorscale": [
             [
              0,
              "#0d0887"
             ],
             [
              0.1111111111111111,
              "#46039f"
             ],
             [
              0.2222222222222222,
              "#7201a8"
             ],
             [
              0.3333333333333333,
              "#9c179e"
             ],
             [
              0.4444444444444444,
              "#bd3786"
             ],
             [
              0.5555555555555556,
              "#d8576b"
             ],
             [
              0.6666666666666666,
              "#ed7953"
             ],
             [
              0.7777777777777778,
              "#fb9f3a"
             ],
             [
              0.8888888888888888,
              "#fdca26"
             ],
             [
              1,
              "#f0f921"
             ]
            ],
            "type": "heatmap"
           }
          ],
          "heatmapgl": [
           {
            "colorbar": {
             "outlinewidth": 0,
             "ticks": ""
            },
            "colorscale": [
             [
              0,
              "#0d0887"
             ],
             [
              0.1111111111111111,
              "#46039f"
             ],
             [
              0.2222222222222222,
              "#7201a8"
             ],
             [
              0.3333333333333333,
              "#9c179e"
             ],
             [
              0.4444444444444444,
              "#bd3786"
             ],
             [
              0.5555555555555556,
              "#d8576b"
             ],
             [
              0.6666666666666666,
              "#ed7953"
             ],
             [
              0.7777777777777778,
              "#fb9f3a"
             ],
             [
              0.8888888888888888,
              "#fdca26"
             ],
             [
              1,
              "#f0f921"
             ]
            ],
            "type": "heatmapgl"
           }
          ],
          "histogram": [
           {
            "marker": {
             "colorbar": {
              "outlinewidth": 0,
              "ticks": ""
             }
            },
            "type": "histogram"
           }
          ],
          "histogram2d": [
           {
            "colorbar": {
             "outlinewidth": 0,
             "ticks": ""
            },
            "colorscale": [
             [
              0,
              "#0d0887"
             ],
             [
              0.1111111111111111,
              "#46039f"
             ],
             [
              0.2222222222222222,
              "#7201a8"
             ],
             [
              0.3333333333333333,
              "#9c179e"
             ],
             [
              0.4444444444444444,
              "#bd3786"
             ],
             [
              0.5555555555555556,
              "#d8576b"
             ],
             [
              0.6666666666666666,
              "#ed7953"
             ],
             [
              0.7777777777777778,
              "#fb9f3a"
             ],
             [
              0.8888888888888888,
              "#fdca26"
             ],
             [
              1,
              "#f0f921"
             ]
            ],
            "type": "histogram2d"
           }
          ],
          "histogram2dcontour": [
           {
            "colorbar": {
             "outlinewidth": 0,
             "ticks": ""
            },
            "colorscale": [
             [
              0,
              "#0d0887"
             ],
             [
              0.1111111111111111,
              "#46039f"
             ],
             [
              0.2222222222222222,
              "#7201a8"
             ],
             [
              0.3333333333333333,
              "#9c179e"
             ],
             [
              0.4444444444444444,
              "#bd3786"
             ],
             [
              0.5555555555555556,
              "#d8576b"
             ],
             [
              0.6666666666666666,
              "#ed7953"
             ],
             [
              0.7777777777777778,
              "#fb9f3a"
             ],
             [
              0.8888888888888888,
              "#fdca26"
             ],
             [
              1,
              "#f0f921"
             ]
            ],
            "type": "histogram2dcontour"
           }
          ],
          "mesh3d": [
           {
            "colorbar": {
             "outlinewidth": 0,
             "ticks": ""
            },
            "type": "mesh3d"
           }
          ],
          "parcoords": [
           {
            "line": {
             "colorbar": {
              "outlinewidth": 0,
              "ticks": ""
             }
            },
            "type": "parcoords"
           }
          ],
          "scatter": [
           {
            "marker": {
             "colorbar": {
              "outlinewidth": 0,
              "ticks": ""
             }
            },
            "type": "scatter"
           }
          ],
          "scatter3d": [
           {
            "line": {
             "colorbar": {
              "outlinewidth": 0,
              "ticks": ""
             }
            },
            "marker": {
             "colorbar": {
              "outlinewidth": 0,
              "ticks": ""
             }
            },
            "type": "scatter3d"
           }
          ],
          "scattercarpet": [
           {
            "marker": {
             "colorbar": {
              "outlinewidth": 0,
              "ticks": ""
             }
            },
            "type": "scattercarpet"
           }
          ],
          "scattergeo": [
           {
            "marker": {
             "colorbar": {
              "outlinewidth": 0,
              "ticks": ""
             }
            },
            "type": "scattergeo"
           }
          ],
          "scattergl": [
           {
            "marker": {
             "colorbar": {
              "outlinewidth": 0,
              "ticks": ""
             }
            },
            "type": "scattergl"
           }
          ],
          "scattermapbox": [
           {
            "marker": {
             "colorbar": {
              "outlinewidth": 0,
              "ticks": ""
             }
            },
            "type": "scattermapbox"
           }
          ],
          "scatterpolar": [
           {
            "marker": {
             "colorbar": {
              "outlinewidth": 0,
              "ticks": ""
             }
            },
            "type": "scatterpolar"
           }
          ],
          "scatterpolargl": [
           {
            "marker": {
             "colorbar": {
              "outlinewidth": 0,
              "ticks": ""
             }
            },
            "type": "scatterpolargl"
           }
          ],
          "scatterternary": [
           {
            "marker": {
             "colorbar": {
              "outlinewidth": 0,
              "ticks": ""
             }
            },
            "type": "scatterternary"
           }
          ],
          "surface": [
           {
            "colorbar": {
             "outlinewidth": 0,
             "ticks": ""
            },
            "colorscale": [
             [
              0,
              "#0d0887"
             ],
             [
              0.1111111111111111,
              "#46039f"
             ],
             [
              0.2222222222222222,
              "#7201a8"
             ],
             [
              0.3333333333333333,
              "#9c179e"
             ],
             [
              0.4444444444444444,
              "#bd3786"
             ],
             [
              0.5555555555555556,
              "#d8576b"
             ],
             [
              0.6666666666666666,
              "#ed7953"
             ],
             [
              0.7777777777777778,
              "#fb9f3a"
             ],
             [
              0.8888888888888888,
              "#fdca26"
             ],
             [
              1,
              "#f0f921"
             ]
            ],
            "type": "surface"
           }
          ],
          "table": [
           {
            "cells": {
             "fill": {
              "color": "#EBF0F8"
             },
             "line": {
              "color": "white"
             }
            },
            "header": {
             "fill": {
              "color": "#C8D4E3"
             },
             "line": {
              "color": "white"
             }
            },
            "type": "table"
           }
          ]
         },
         "layout": {
          "annotationdefaults": {
           "arrowcolor": "#2a3f5f",
           "arrowhead": 0,
           "arrowwidth": 1
          },
          "colorscale": {
           "diverging": [
            [
             0,
             "#8e0152"
            ],
            [
             0.1,
             "#c51b7d"
            ],
            [
             0.2,
             "#de77ae"
            ],
            [
             0.3,
             "#f1b6da"
            ],
            [
             0.4,
             "#fde0ef"
            ],
            [
             0.5,
             "#f7f7f7"
            ],
            [
             0.6,
             "#e6f5d0"
            ],
            [
             0.7,
             "#b8e186"
            ],
            [
             0.8,
             "#7fbc41"
            ],
            [
             0.9,
             "#4d9221"
            ],
            [
             1,
             "#276419"
            ]
           ],
           "sequential": [
            [
             0,
             "#0d0887"
            ],
            [
             0.1111111111111111,
             "#46039f"
            ],
            [
             0.2222222222222222,
             "#7201a8"
            ],
            [
             0.3333333333333333,
             "#9c179e"
            ],
            [
             0.4444444444444444,
             "#bd3786"
            ],
            [
             0.5555555555555556,
             "#d8576b"
            ],
            [
             0.6666666666666666,
             "#ed7953"
            ],
            [
             0.7777777777777778,
             "#fb9f3a"
            ],
            [
             0.8888888888888888,
             "#fdca26"
            ],
            [
             1,
             "#f0f921"
            ]
           ],
           "sequentialminus": [
            [
             0,
             "#0d0887"
            ],
            [
             0.1111111111111111,
             "#46039f"
            ],
            [
             0.2222222222222222,
             "#7201a8"
            ],
            [
             0.3333333333333333,
             "#9c179e"
            ],
            [
             0.4444444444444444,
             "#bd3786"
            ],
            [
             0.5555555555555556,
             "#d8576b"
            ],
            [
             0.6666666666666666,
             "#ed7953"
            ],
            [
             0.7777777777777778,
             "#fb9f3a"
            ],
            [
             0.8888888888888888,
             "#fdca26"
            ],
            [
             1,
             "#f0f921"
            ]
           ]
          },
          "colorway": [
           "#636efa",
           "#EF553B",
           "#00cc96",
           "#ab63fa",
           "#FFA15A",
           "#19d3f3",
           "#FF6692",
           "#B6E880",
           "#FF97FF",
           "#FECB52"
          ],
          "font": {
           "color": "#2a3f5f"
          },
          "geo": {
           "bgcolor": "white",
           "lakecolor": "white",
           "landcolor": "#E5ECF6",
           "showlakes": true,
           "showland": true,
           "subunitcolor": "white"
          },
          "hoverlabel": {
           "align": "left"
          },
          "hovermode": "closest",
          "mapbox": {
           "style": "light"
          },
          "paper_bgcolor": "white",
          "plot_bgcolor": "#E5ECF6",
          "polar": {
           "angularaxis": {
            "gridcolor": "white",
            "linecolor": "white",
            "ticks": ""
           },
           "bgcolor": "#E5ECF6",
           "radialaxis": {
            "gridcolor": "white",
            "linecolor": "white",
            "ticks": ""
           }
          },
          "scene": {
           "xaxis": {
            "backgroundcolor": "#E5ECF6",
            "gridcolor": "white",
            "gridwidth": 2,
            "linecolor": "white",
            "showbackground": true,
            "ticks": "",
            "zerolinecolor": "white"
           },
           "yaxis": {
            "backgroundcolor": "#E5ECF6",
            "gridcolor": "white",
            "gridwidth": 2,
            "linecolor": "white",
            "showbackground": true,
            "ticks": "",
            "zerolinecolor": "white"
           },
           "zaxis": {
            "backgroundcolor": "#E5ECF6",
            "gridcolor": "white",
            "gridwidth": 2,
            "linecolor": "white",
            "showbackground": true,
            "ticks": "",
            "zerolinecolor": "white"
           }
          },
          "shapedefaults": {
           "line": {
            "color": "#2a3f5f"
           }
          },
          "ternary": {
           "aaxis": {
            "gridcolor": "white",
            "linecolor": "white",
            "ticks": ""
           },
           "baxis": {
            "gridcolor": "white",
            "linecolor": "white",
            "ticks": ""
           },
           "bgcolor": "#E5ECF6",
           "caxis": {
            "gridcolor": "white",
            "linecolor": "white",
            "ticks": ""
           }
          },
          "title": {
           "x": 0.05
          },
          "xaxis": {
           "automargin": true,
           "gridcolor": "white",
           "linecolor": "white",
           "ticks": "",
           "zerolinecolor": "white",
           "zerolinewidth": 2
          },
          "yaxis": {
           "automargin": true,
           "gridcolor": "white",
           "linecolor": "white",
           "ticks": "",
           "zerolinecolor": "white",
           "zerolinewidth": 2
          }
         }
        },
        "title": {
         "text": "Fitted Morse Potential Curve"
        },
        "xaxis": {
         "title": {
          "text": "Bond Distance in Bohr Units Radius"
         }
        },
        "yaxis": {
         "title": {
          "text": "Energy in Hartrees"
         }
        }
       }
      },
      "text/html": [
       "<div>\n",
       "        \n",
       "        \n",
       "            <div id=\"706c324a-9875-4e9b-894b-196d6f0fb420\" class=\"plotly-graph-div\" style=\"height:525px; width:100%;\"></div>\n",
       "            <script type=\"text/javascript\">\n",
       "                require([\"plotly\"], function(Plotly) {\n",
       "                    window.PLOTLYENV=window.PLOTLYENV || {};\n",
       "                    \n",
       "                if (document.getElementById(\"706c324a-9875-4e9b-894b-196d6f0fb420\")) {\n",
       "                    Plotly.newPlot(\n",
       "                        '706c324a-9875-4e9b-894b-196d6f0fb420',\n",
       "                        [{\"connectgaps\": false, \"marker\": {\"color\": \"blue\"}, \"mode\": \"markers\", \"name\": \"Hartree-Fock Computed\", \"type\": \"scatter\", \"x\": [-1.0, -0.99, -0.98, -0.97, -0.96, -0.9500000000000001, -0.9400000000000001, -0.93, -0.92, -0.91, -0.9, -0.89, -0.88, -0.87, -0.86, -0.85, -0.84, -0.8300000000000001, -0.8200000000000001, -0.81, -0.8, -0.79, -0.78, -0.77, -0.76, -0.75, -0.74, -0.73, -0.72, -0.71, -0.7000000000000001, -0.6900000000000001, -0.68, -0.67, -0.66, -0.65, -0.64, -0.63, -0.62, -0.61, -0.6, -0.59, -0.58, -0.5700000000000001, -0.56, -0.55, -0.54, -0.53, -0.52, -0.51, -0.5, -0.49, -0.48, -0.47000000000000003, -0.46, -0.45, -0.44, -0.43, -0.42, -0.41000000000000003, -0.4, -0.39, -0.38, -0.37, -0.36, -0.35000000000000003, -0.34, -0.33, -0.32, -0.31, -0.3, -0.29, -0.28, -0.27, -0.26, -0.25, -0.24, -0.23, -0.22, -0.21, -0.2, -0.19, -0.18, -0.17, -0.16, -0.15, -0.14, -0.13, -0.12, -0.11, -0.1, -0.09, -0.08, -0.07, -0.06, -0.05, -0.04, -0.03, -0.02, -0.01, 0.0, 0.01, 0.02, 0.03, 0.04, 0.05, 0.06, 0.07, 0.08, 0.09, 0.1, 0.11, 0.12, 0.13, 0.14, 0.15, 0.16, 0.17, 0.18, 0.19, 0.2, 0.21, 0.22, 0.23, 0.24, 0.25, 0.26, 0.27, 0.28, 0.29, 0.3, 0.31, 0.32, 0.33, 0.34, 0.35000000000000003, 0.36, 0.37, 0.38, 0.39, 0.4, 0.41000000000000003, 0.42, 0.43, 0.44, 0.45, 0.46, 0.47000000000000003, 0.48, 0.49, 0.5, 0.51, 0.52, 0.53, 0.54, 0.55, 0.56, 0.5700000000000001, 0.58, 0.59, 0.6, 0.61, 0.62, 0.63, 0.64, 0.65, 0.66, 0.67, 0.68, 0.6900000000000001, 0.7000000000000001, 0.71, 0.72, 0.73, 0.74, 0.75, 0.76, 0.77, 0.78, 0.79, 0.8, 0.81, 0.8200000000000001, 0.8300000000000001, 0.84, 0.85, 0.86, 0.87, 0.88, 0.89, 0.9, 0.91, 0.92, 0.93, 0.9400000000000001, 0.9500000000000001, 0.96, 0.97, 0.98, 0.99, 1.0, 1.01, 1.02, 1.03, 1.04, 1.05, 1.06, 1.07, 1.08, 1.09, 1.1, 1.11, 1.12, 1.1300000000000001, 1.1400000000000001, 1.1500000000000001, 1.16, 1.17, 1.18, 1.19, 1.2, 1.21, 1.22, 1.23, 1.24, 1.25, 1.26, 1.27, 1.28, 1.29, 1.3, 1.31, 1.32, 1.33, 1.34, 1.35, 1.36, 1.37, 1.3800000000000001, 1.3900000000000001, 1.4000000000000001, 1.41, 1.42, 1.43, 1.44, 1.45, 1.46, 1.47, 1.48, 1.49, 1.5, 1.51, 1.52, 1.53, 1.54, 1.55, 1.56, 1.57, 1.58, 1.59, 1.6, 1.61, 1.62, 1.6300000000000001, 1.6400000000000001, 1.6500000000000001, 1.6600000000000001, 1.67, 1.68, 1.69, 1.7, 1.71, 1.72, 1.73, 1.74, 1.75, 1.76, 1.77, 1.78, 1.79, 1.8, 1.81, 1.82, 1.83, 1.84, 1.85, 1.86, 1.87, 1.8800000000000001, 1.8900000000000001, 1.9000000000000001, 1.9100000000000001, 1.92, 1.93, 1.94, 1.95, 1.96, 1.97, 1.98, 1.99, 2.0, 2.0100000000000002, 2.02, 2.0300000000000002, 2.04, 2.05, 2.06, 2.07, 2.08, 2.09, 2.1, 2.11, 2.12, 2.13, 2.14, 2.15, 2.16, 2.17, 2.18, 2.19, 2.2, 2.21, 2.22, 2.23, 2.24, 2.25, 2.2600000000000002, 2.27, 2.2800000000000002, 2.29, 2.3000000000000003, 2.31, 2.32, 2.33, 2.34, 2.35, 2.36, 2.37, 2.38, 2.39, 2.4, 2.41, 2.42, 2.43, 2.44, 2.45, 2.46, 2.47, 2.48, 2.49, 2.5, 2.5100000000000002, 2.52, 2.5300000000000002, 2.54, 2.5500000000000003, 2.56, 2.57, 2.58, 2.59, 2.6, 2.61, 2.62, 2.63, 2.64, 2.65, 2.66, 2.67, 2.68, 2.69, 2.7, 2.71, 2.72, 2.73, 2.74, 2.75, 2.7600000000000002, 2.77, 2.7800000000000002, 2.79, 2.8000000000000003, 2.81, 2.82, 2.83, 2.84, 2.85, 2.86, 2.87, 2.88, 2.89, 2.9, 2.91, 2.92, 2.93, 2.94, 2.95, 2.96, 2.97, 2.98, 2.99, 3.0, 3.0100000000000002, 3.02, 3.0300000000000002, 3.04, 3.0500000000000003, 3.06, 3.0700000000000003, 3.08, 3.09, 3.1, 3.11, 3.12, 3.13, 3.14, 3.15, 3.16, 3.17, 3.18, 3.19, 3.2, 3.21, 3.22, 3.23, 3.24, 3.25, 3.2600000000000002, 3.27, 3.2800000000000002, 3.29, 3.3000000000000003, 3.31, 3.3200000000000003, 3.33, 3.34, 3.35, 3.36, 3.37, 3.38, 3.39, 3.4, 3.41, 3.42, 3.43, 3.44, 3.45, 3.46, 3.47, 3.48, 3.49, 3.5, 3.5100000000000002, 3.52, 3.5300000000000002, 3.54, 3.5500000000000003, 3.56, 3.5700000000000003, 3.58, 3.59, 3.6, 3.61, 3.62, 3.63, 3.64, 3.65, 3.66, 3.67, 3.68, 3.69, 3.7, 3.71, 3.72, 3.73, 3.74, 3.75, 3.7600000000000002, 3.77, 3.7800000000000002, 3.79, 3.8000000000000003, 3.81, 3.8200000000000003, 3.83, 3.84, 3.85, 3.86, 3.87, 3.88, 3.89, 3.9, 3.91, 3.92, 3.93, 3.94, 3.95, 3.96, 3.97, 3.98, 3.99, 4.0, 4.01, 4.0200000000000005, 4.03, 4.04, 4.05, 4.0600000000000005, 4.07, 4.08, 4.09, 4.1, 4.11, 4.12, 4.13, 4.14, 4.15, 4.16, 4.17, 4.18, 4.19, 4.2, 4.21, 4.22, 4.23, 4.24, 4.25, 4.26, 4.2700000000000005, 4.28, 4.29, 4.3, 4.3100000000000005, 4.32, 4.33, 4.34, 4.3500000000000005, 4.36, 4.37, 4.38, 4.39, 4.4, 4.41, 4.42, 4.43, 4.44, 4.45, 4.46, 4.47, 4.48, 4.49, 4.5, 4.51, 4.5200000000000005, 4.53, 4.54, 4.55, 4.5600000000000005, 4.57, 4.58, 4.59, 4.6000000000000005, 4.61, 4.62, 4.63, 4.64, 4.65, 4.66, 4.67, 4.68, 4.69, 4.7, 4.71, 4.72, 4.73, 4.74, 4.75, 4.76, 4.7700000000000005, 4.78, 4.79, 4.8, 4.8100000000000005, 4.82, 4.83, 4.84, 4.8500000000000005, 4.86, 4.87, 4.88, 4.89, 4.9, 4.91, 4.92, 4.93, 4.94, 4.95, 4.96, 4.97, 4.98, 4.99, 5.0, 5.01, 5.0200000000000005, 5.03, 5.04, 5.05, 5.0600000000000005, 5.07, 5.08, 5.09, 5.1000000000000005, 5.11, 5.12, 5.13, 5.14, 5.15, 5.16, 5.17, 5.18, 5.19, 5.2, 5.21, 5.22, 5.23, 5.24, 5.25, 5.26, 5.2700000000000005, 5.28, 5.29, 5.3, 5.3100000000000005, 5.32, 5.33, 5.34, 5.3500000000000005, 5.36, 5.37, 5.38, 5.39, 5.4, 5.41, 5.42, 5.43, 5.44, 5.45, 5.46, 5.47, 5.48, 5.49, 5.5, 5.51, 5.5200000000000005, 5.53, 5.54, 5.55, 5.5600000000000005, 5.57, 5.58, 5.59, 5.6000000000000005, 5.61, 5.62, 5.63, 5.64, 5.65, 5.66, 5.67, 5.68, 5.69, 5.7, 5.71, 5.72, 5.73, 5.74, 5.75, 5.76, 5.7700000000000005, 5.78, 5.79, 5.8, 5.8100000000000005, 5.82, 5.83, 5.84, 5.8500000000000005, 5.86, 5.87, 5.88, 5.89, 5.9, 5.91, 5.92, 5.93, 5.94, 5.95, 5.96, 5.97, 5.98, 5.99, 6.0, 6.01, 6.0200000000000005, 6.03, 6.04, 6.05, 6.0600000000000005, 6.07, 6.08, 6.09, 6.1000000000000005, 6.11, 6.12, 6.13, 6.140000000000001, 6.15, 6.16, 6.17, 6.18, 6.19, 6.2, 6.21, 6.22, 6.23, 6.24, 6.25, 6.26, 6.2700000000000005, 6.28, 6.29, 6.3, 6.3100000000000005, 6.32, 6.33, 6.34, 6.3500000000000005, 6.36, 6.37, 6.38, 6.390000000000001, 6.4, 6.41, 6.42, 6.43, 6.44, 6.45, 6.46, 6.47, 6.48, 6.49, 6.5, 6.51, 6.5200000000000005, 6.53, 6.54, 6.55, 6.5600000000000005, 6.57, 6.58, 6.59, 6.6000000000000005, 6.61, 6.62, 6.63, 6.640000000000001, 6.65, 6.66, 6.67, 6.68, 6.69, 6.7, 6.71, 6.72, 6.73, 6.74, 6.75, 6.76, 6.7700000000000005, 6.78, 6.79, 6.8, 6.8100000000000005, 6.82, 6.83, 6.84, 6.8500000000000005, 6.86, 6.87, 6.88, 6.890000000000001, 6.9, 6.91, 6.92, 6.93, 6.94, 6.95, 6.96, 6.97, 6.98, 6.99, 7.0, 7.01, 7.0200000000000005, 7.03, 7.04, 7.05, 7.0600000000000005, 7.07, 7.08, 7.09, 7.1000000000000005, 7.11, 7.12, 7.13, 7.140000000000001, 7.15, 7.16, 7.17, 7.18, 7.19, 7.2, 7.21, 7.22, 7.23, 7.24, 7.25, 7.26, 7.2700000000000005, 7.28, 7.29, 7.3, 7.3100000000000005, 7.32, 7.33, 7.34, 7.3500000000000005, 7.36, 7.37, 7.38, 7.390000000000001, 7.4, 7.41, 7.42, 7.43, 7.44, 7.45, 7.46, 7.47, 7.48, 7.49, 7.5, 7.51, 7.5200000000000005, 7.53, 7.54, 7.55, 7.5600000000000005, 7.57, 7.58, 7.59, 7.6000000000000005, 7.61, 7.62, 7.63, 7.640000000000001, 7.65, 7.66, 7.67, 7.68, 7.69, 7.7, 7.71, 7.72, 7.73, 7.74, 7.75, 7.76, 7.7700000000000005, 7.78, 7.79, 7.8, 7.8100000000000005, 7.82, 7.83, 7.84, 7.8500000000000005, 7.86, 7.87, 7.88, 7.890000000000001, 7.9, 7.91, 7.92, 7.930000000000001, 7.94, 7.95, 7.96, 7.97, 7.98, 7.99, 8.0, 8.01, 8.02, 8.03, 8.040000000000001, 8.05, 8.06, 8.07, 8.08, 8.09, 8.1, 8.11, 8.120000000000001, 8.13, 8.14, 8.15, 8.16, 8.17, 8.18, 8.19, 8.2, 8.21, 8.22, 8.23, 8.24, 8.25, 8.26, 8.27, 8.28, 8.290000000000001, 8.3, 8.31, 8.32, 8.33, 8.34, 8.35, 8.36, 8.370000000000001, 8.38, 8.39, 8.4, 8.41, 8.42, 8.43, 8.44, 8.45, 8.46, 8.47, 8.48, 8.49, 8.5, 8.51, 8.52, 8.53, 8.540000000000001, 8.55, 8.56, 8.57, 8.58, 8.59, 8.6, 8.61, 8.620000000000001, 8.63, 8.64, 8.65, 8.66, 8.67, 8.68, 8.69, 8.700000000000001, 8.71, 8.72, 8.73, 8.74, 8.75, 8.76, 8.77, 8.78, 8.790000000000001, 8.8, 8.81, 8.82, 8.83, 8.84, 8.85, 8.86, 8.870000000000001, 8.88, 8.89, 8.9, 8.91, 8.92, 8.93, 8.94, 8.950000000000001, 8.96, 8.97, 8.98, 8.99, 9.0, 9.01, 9.02, 9.03, 9.040000000000001, 9.05, 9.06, 9.07, 9.08, 9.09, 9.1, 9.11, 9.120000000000001, 9.13, 9.14, 9.15, 9.16, 9.17, 9.18, 9.19, 9.200000000000001, 9.21, 9.22, 9.23, 9.24, 9.25, 9.26, 9.27, 9.28, 9.290000000000001, 9.3, 9.31, 9.32, 9.33, 9.34, 9.35, 9.36, 9.370000000000001, 9.38, 9.39, 9.4, 9.41, 9.42, 9.43, 9.44, 9.450000000000001, 9.46, 9.47, 9.48, 9.49, 9.5, 9.51, 9.52, 9.53, 9.540000000000001, 9.55, 9.56, 9.57, 9.58, 9.59, 9.6, 9.61, 9.620000000000001, 9.63, 9.64, 9.65, 9.66, 9.67, 9.68, 9.69, 9.700000000000001, 9.71, 9.72, 9.73, 9.74, 9.75, 9.76, 9.77, 9.78, 9.790000000000001, 9.8, 9.81, 9.82, 9.83, 9.84, 9.85, 9.86, 9.870000000000001, 9.88, 9.89, 9.9, 9.91, 9.92, 9.93, 9.94, 9.950000000000001, 9.96, 9.97, 9.98, 9.99], \"y\": [5.594577724086179, 5.4804181885171515, 5.36802894630153, 5.257384007100923, 5.148457752882416, 5.041224932647412, 4.935660657234737, 4.831740394196898, 4.729439962748414, 4.62873552878535, 4.529603599974923, 4.432021020914277, 4.335964968357377, 4.241412946509198, 4.148342782386071, 4.0567326212414905, 3.966560922056221, 3.877806453092022, 3.7904482875079175, 3.7044657990382586, 3.6198386577316413, 3.5365468257498707, 3.4545705532260573, 3.3738903741811033, 3.2944871024977322, 3.216341827951175, 3.139435912295845, 3.0637509854071174, 2.989268941477497, 2.915971935266362, 2.8438423784025764, 2.7728629357391927, 2.703016521759561, 2.6342862970340373, 2.566655664726701, 2.500108267151245, 2.4346279823754666, 2.370198920873595, 2.306805422225832, 2.2444320518643983, 2.1830635978654973, 2.1226850677864637, 2.0632816855475555, 2.0048388883576838, 1.9473423236835017, 1.890777846261273, 1.8351315151508274, 1.7803895908311018, 1.7265385323366451, 1.6735649944345186, 1.6214558248410063, 1.5701980614776052, 1.5197789297657205, 1.470185839959525, 1.4214063845164708, 1.373428335504884, 1.32623964204815, 1.2798284278049703, 1.2341829884851716, 1.1892917894005897, 1.1451434630505046, 1.1017268067411825, 1.0590307802389876, 1.0170445034566655, 0.9757572541722532, 0.9351584657802281, 0.8952377250743844, 0.8559847700620398, 0.8173894878090908, 0.7794419123155123, 0.7421322224208535, 0.7054507397393286, 0.6693879266240663, 0.6339343841601179, 0.5990808501858202, 0.5648181973421127, 0.5311374311494104, 0.49802968811166104, 0.465486233847185, 0.4334984612459305, 0.40205788865277503, 0.37115615807650015, 0.34078503342408517, 0.31093639875996093, 0.28160225658986704, 0.25277472616897567, 0.22444604183393246, 0.1966085513584903, 0.16925471433238526, 0.14237710056314268, 0.11596838850049074, 0.09002136368304958, 0.06452891720700205, 0.03948404421641438, 0.014879842414929456, -0.009290489401494906, -0.033033652791083945, -0.056356251092270604, -0.07926479082955051, -0.1017656830994278, -0.12386524493675222, -0.1455697006617167, -0.1668851832077829, -0.18781773543081126, -0.20837331139965043, -0.22855777766845842, -0.24837691453100652, -0.2678364172572141, -0.28694189731217745, -0.3056988835579295, -0.32411282343817494, -0.3421890841462425, -0.35993295377649226, -0.37734964245940383, -0.39444428348058613, -0.41122193438392274, -0.42768757805908764, -0.4438461238136441, -0.4597024084299466, -0.4752611972070603, -0.49052718498790593, -0.5055049971718434, -0.5201991907128954, -0.5346142551038146, -0.5487546133461908, -0.5626246229068026, -0.5762285766603988, -0.5895707038191058, -0.6026551708486457, -0.615486082371557, -0.6280674820575947, -0.6404033535014925, -0.6524976210882695, -0.664354150846248, -0.675976751287966, -0.6873691742391455, -0.6985351156558932, -0.7094782164302941, -0.7202020631845619, -0.7307101890539116, -0.741006074458308, -0.751093147863252, -0.7609747865297545, -0.7706543172536555, -0.7801350170944329, -0.7894201140936536, -0.7985127879832123, -0.8074161708835014, -0.8161333479916513, -0.8246673582599882, -0.8330211950648383, -0.8411978068658242, -0.8492000978557794, -0.8570309286014175, -0.8646931166748861, -0.8721894372763348, -0.8795226238476197, -0.8866953686772774, -0.8937103234968822, -0.9005701000689175, -0.9072772707662731, -0.9138343691434933, -0.920243890499886, -0.9265082924346147, -0.9326299953938788, -0.938611383210301, -0.9444548036346272, -0.9501625688598493, -0.9557369560378584, -0.9611802077887313, -0.9664945327027579, -0.9716821058353105, -0.9767450691946538, -0.9816855322227994, -0.9865055722695009, -0.9912072350594856, -0.9957925351530209, -1.0002634563999073, -1.0046219523869917, -1.008869946879294, -1.013009334254834, -1.0170419799332509, -1.0209697207983013, -1.024794365614323, -1.02851769543675, -1.0321414640167617, -1.03566739820015, -1.0390971983204873, -1.0424325385866733, -1.0456750674649433, -1.0488264080554122, -1.0518881584632365, -1.0548618921644657, -1.057749158366663, -1.0605514823643625, -1.0632703658894451, -1.065907287456497, -1.0684637027032242, -1.0709410447259968, -1.073340724410586, -1.0756641307581658, -1.0779126312066454, -1.080087571947398, -1.0821902782374524, -1.084222054707209, -1.0861841856637473, -1.0880779353897847, -1.0899045484383472, -1.091665249923218, -1.0933612458052169, -1.0949937231743738, -1.0965638505280548, -1.0980727780450958, -1.0995216378560015, -1.1009115443092652, -1.1022435942338658, -1.1035188671979936, -1.1047384257640611, -1.1059033157400482, -1.1070145664272384, -1.1080731908643917, -1.1090801860684092, -1.1100365332715378, -1.1109431981551618, -1.1118011310802338, -1.1126112673143886, -1.113374527255792, -1.1140918166537637, -1.1147640268262289, -1.1153920348740345, -1.1159767038921835, -1.1165188831780217, -1.1170194084364304, -1.1174791019820574, -1.1178987729386356, -1.118279217435429, -1.118621218800843, -1.1189255477532454, -1.1191929625890324, -1.1194242093679825, -1.119620022095934, -1.1197811229048262, -1.119908222230141, -1.1200020189857816, -1.1200632007364242, -1.1200924438673814, -1.1200904137520085, -1.1200577649166907, -1.119995141203445, -1.1199031759301703, -1.1197824920485777, -1.119633702299839, -1.1194574093679786, -1.1192542060310469, -1.1190246753101045, -1.1187693906160483, -1.1184889158943094, -1.1181838057674556, -1.1178546056757253, -1.1175018520155258, -1.11712607227592, -1.1167277851731368, -1.1163075007831258, -1.115865720672191, -1.115402938025726, -1.114919637775081, -1.1144162967225861, -1.1138933836647575, -1.1133513595137146, -1.112790677416829, -1.1122117828746376, -1.1116151138570356, -1.1110011009177831, -1.110370167307342, -1.1097227290840714, -1.1090591952238036, -1.1083799677278225, -1.1076854417292707, -1.106976005598003, -1.1062520410439125, -1.10551392321875, -1.1047620208164561, -1.10399669617203, -1.103218305358955, -1.1024271982852007, -1.1016237187878233, -1.1008082047261822, -1.0999809880737956, -1.0991423950088515, -1.0982927460033955, -1.0974323559112134, -1.0965615340544264, -1.0956805843088202, -1.0947898051879228, -1.09388948992585, -1.0929799265589386, -1.0920613980061802, -1.0911341821484764, -1.0901985519067312, -1.0892547753187969, -1.0883031156152903, -1.0873438312942934, -1.0863771761949605, -1.085403399570039, -1.084422746157326, -1.0834354562500725, -1.0824417657663545, -1.0814419063174179, -1.0804361052750202, -1.0794245858377807, -1.0784075670965494, -1.0773852640988149, -1.076357887912161, -1.0753256456867877, -1.0742887407171076, -1.0732473725024345, -1.0722017368067744, -1.0711520257177325, -1.070098427704549, -1.0690411276752787, -1.0679803070331195, -1.0669161437319126, -1.065848812330816, -1.0647784840481713, -1.0637053268145682, -1.062629505325126, -1.0615511810909959, -1.0604705124901013, -1.0593876548171224, -1.05830276033274, -1.0572159783121455, -1.0561274550928312, -1.0550373341216672, -1.0539457560012808, -1.0528528585357413, -1.0517587767755676, -1.0506636430620622, -1.049567587070985, -1.0484707358555763, -1.0473732138889353, -1.0462751431057677, -1.0451766429435083, -1.044077830382828, -1.0429788199875372, -1.041879723943889, -1.0407806520992966, -1.0396817120004676, -1.038583008930969, -1.037484645948229, -1.0363867239199798, -1.035289341560158, -1.034192595464263, -1.0330965801441832, -1.0320013880624999, -1.0309071096662756, -1.0298138334203308, -1.0287216458400215, -1.0276306315235226, -1.0265408731836227, -1.0254524516790418, -1.024365446045272, -1.023279933524957, -1.0221959895978074, -1.0211136880100675, -1.0200331008035333, -1.0189542983441318, -1.017877349350068, -1.016802320919543, -1.0157292785580534, -1.0146582862052749, -1.0135894062615374, -1.0125226996138983, -1.0114582256618188, -1.010396042342448, -1.0093362061555236, -1.0082787721878916, -1.0072237941376527, -1.0061713243379389, -1.0051214137803288, -1.0040741121379022, -1.0030294677879448, -1.0019875278343027, -1.0009483381293964, -0.9999119432958954, -0.9988783867480625, -0.9978477107127675, -0.9968199562501804, -0.9957951632741453, -0.9947733705722405, -0.9937546158255299, -0.9927389356280105, -0.9917263655057585, -0.9907169399357815, -0.9897106923645774, -0.9887076552264089, -0.9877078599612922, -0.9867113370327094, -0.9857181159450455, -0.9847282252607545, -0.983741692617259, -0.9827585447435881, -0.9817788074767557, -0.9808025057778831, -0.9798296637480723, -0.9788603046440302, -0.9778944508934488, -0.9769321241101467, -0.975973345108972, -0.9750181339204731, -0.9740665098053387, -0.9731184912686127, -0.9721740960736847, -0.9712333412560612, -0.9702962431369204, -0.9693628173364532, -0.9684330787869945, -0.9675070417459467, -0.9665847198085002, -0.9656661259201513, -0.9647512723890239, -0.9638401708979942, -0.9629328325166251, -0.9620292677129095, -0.961129486364828, -0.9602334977717223, -0.9593413106654882, -0.9584529332215893, -0.9575683730698958, -0.9566876373053494, -0.9558107324984585, -0.954937664705624, -0.954068439479302, -0.9532030618780002, -0.9523415364761166, -0.9514838673736185, -0.9506300582055653, -0.9497801121514793, -0.9489340319445635, -0.9480918198807715, -0.9472534778277302, -0.9464190072335182, -0.9455884091353013, -0.9447616841678286, -0.9439388325717887, -0.9431198542020323, -0.9423047485356582, -0.941493514679969, -0.9406861513802962, -0.939882657027696, -0.9390830296665214, -0.9382872670018672, -0.9374953664068947, -0.9367073249300348, -0.9359231393020722, -0.9351428059431132, -0.9343663209694376, -0.9335936802002381, -0.9328248791642462, -0.9320599131062502, -0.931298776993503, -0.9305414655220234, -0.9297879731227935, -0.9290382939678508, -0.9282924219762791, -0.9275503508200995, -0.9268120739300606, -0.9260775845013337, -0.9253468754991099, -0.9246199396641042, -0.9238967695179652, -0.9231773573685944, -0.9224616953153745, -0.9217497752543085, -0.9210415888830724, -0.9203371277059808, -0.9196363830388671, -0.918939346013882, -0.918246007584208, -0.917556358528693, -0.9168703894564045, -0.9161880908111062, -0.9155094528756543, -0.9148344657763212, -0.9141631194870418, -0.9134954038335856, -0.9128313084976587, -0.912170823020931, -0.9115139368089954, -0.9108606391352556, -0.9102109191447472, -0.90956476585789, -0.9089221681741757, -0.9082831148757882, -0.907647594631162, -0.9070155959984754, -0.9063871074290827, -0.9057621172708845, -0.905140613771638, -0.9045225850822073, -0.9039080192597557, -0.9032969042708807, -0.9026892279946916, -0.9020849782258318, -0.9014841426774458, -0.9008867089840925, -0.9002926647046054, -0.8997019973248993, -0.8991146942607274, -0.8985307428603857, -0.897950130407368, -0.897372844122973, -0.8967988711688609, -0.8962281986495637, -0.8956608136149486, -0.8950967030626347, -0.8945358539403637, -0.8939782531483285, -0.8934238875414542, -0.8928727439316383, -0.8923248090899475, -0.8917800697487726, -0.8912385126039419, -0.8907001243167945, -0.8901648915162124, -0.8896328008006158, -0.8891038387399162, -0.8885779918774344, -0.8880552467317793, -0.8875355897986908, -0.8870190075528454, -0.8865054864496266, -0.8859950129268609, -0.8854875734065178, -0.8849831542963769, -0.8844817419916602, -0.8839833228766338, -0.8834878833261748, -0.8829954097073069, -0.8825058883807064, -0.8820193057021743, -0.881535648024081, -0.8810549016967791, -0.8805770530699878, -0.8801020884941481, -0.8796299943217496, -0.8791607569086295, -0.8786943626152437, -0.8782307978079117, -0.8777700488600331, -0.8773121021532807, -0.8768569440787649, -0.8764045610381749, -0.875954939444894, -0.875508065725091, -0.8750639263187865, -0.8746225076808969, -0.874183796282254, -0.873747778610602, -0.873314441171573, -0.8728837704896377, -0.8724557531090376, -0.8720303755946937, -0.8716076245330945, -0.8711874865331634, -0.8707699482271062, -0.870354996271238, -0.8699426173467908, -0.8695327981607008, -0.8691255254463788, -0.8687207859644592, -0.8683185665035331, -0.8679188538808615, -0.8675216349430716, -0.8671268965668357, -0.866734625659533, -0.8663448091598936, -0.8659574340386275, -0.8655724872990354, -0.8651899559776056, -0.8648098271445934, -0.864432087904586, -0.8640567253970519, -0.863683726796876, -0.863313079314878, -0.8629447701983197, -0.862578786731395, -0.8622151162357078, -0.8618537460707356, -0.8614946636342802, -0.8611378563629037, -0.8607833117323542, -0.8604310172579761, -0.8600809604951093, -0.8597331290394761, -0.8593875105275555, -0.859044092636946, -0.858702863086717, -0.8583638096377479, -0.8580269200930573, -0.8576921822981198, -0.8573595841411731, -0.8570291135535136, -0.8567007585097826, -0.8563745070282408, -0.8560503471710347, -0.8557282670444508, -0.8554082547991624, -0.8550902986304654, -0.8547743867785051, -0.8544605075284942, -0.8541486492109216, -0.8538388002017521, -0.8535309489226179, -0.8532250838410015, -0.85292119347041, -0.8526192663705412, -0.8523192911474426, -0.8520212564536609, -0.8517251509883854, -0.851430963497583, -0.8511386827741252, -0.8508482976579097, -0.8505597970359726, -0.8502731698425956, -0.8499884050594043, -0.8497054917154621, -0.8494244188873551, -0.8491451756992725, -0.8488677513230798, -0.8485921349783853, -0.8483183159326011, -0.8480462835009988, -0.847776027046758, -0.8475075359810094, -0.8472407997628729, -0.8469758078994905, -0.8467125499460515, -0.8464510155058159, -0.846191194230129, -0.8459330758184345, -0.8456766500182791, -0.8454219066253154, -0.8451688354832976, -0.8449174264840742, -0.8446676695675754, -0.8444195547217958, -0.8441730719827732, -0.8439282114345634, -0.8436849632092094, -0.8434433174867089, -0.8432032644949753, -0.842964794509796, -0.8427278978547874, -0.8424925649013448, -0.8422587860685897, -0.8420265518233131, -0.8417958526799152, -0.8415666792003422, -0.8413390219940189, -0.8411128717177789, -0.840888219075791, -0.840665054819483, -0.8404433697474618, -0.8402231547054311, -0.8400044005861058, -0.8397870983291241, -0.8395712389209564, -0.8393568133948112, -0.839143812830539, -0.8389322283545335, -0.8387220511396303, -0.8385132724050022, -0.8383058834160542, -0.8380998754843139, -0.8378952399673208, -0.8376919682685144, -0.8374900518371172, -0.8372894821680187, -0.8370902508016556, -0.8368923493238909, -0.8366957693658899, -0.836500502603996, -0.8363065407596033, -0.8361138755990278, -0.8359224989333773, -0.8357324026184192, -0.8355435785544465, -0.8353560186861428, -0.8351697150024456, -0.8349846595364077, -0.834800844365057, -0.8346182616092567, -0.8344369034335611, -0.8342567620460732, -0.8340778296982985, -0.8339000986849994, -0.8337235613440472, -0.833548210056274, -0.833374037245322, -0.8332010353774937, -0.833029196961599, -0.8328585145488029, -0.8326889807324716, -0.8325205881480174, -0.8323533294727434, -0.8321871974256866, -0.8320221847674605, -0.8318582843000971, -0.8316954888668884, -0.8315337913522254, -0.8313731846814394, -0.8312136618206396, -0.8310552157765524, -0.8308978395963582, -0.8307415263675292, -0.830586269217666, -0.8304320613143328, -0.8302788958648945, -0.83012676611635, -0.829975665355168, -0.8298255869071209, -0.8296765241371189, -0.8295284704490424, -0.8293814192855767, -0.8292353641280434, -0.8290902984962334, -0.8289462159482395, -0.8288031100802875, -0.8286609745265686, -0.8285198029590708, -0.8283795890874095, -0.82824032665866, -0.828102009457187, -0.8279646313044766, -0.8278281860589666, -0.8276926676158769, -0.8275580699070404, -0.8274243869007338, -0.8272916126015075, -0.8271597410500164, -0.8270287663228505, -0.826898682532365, -0.8267694838265109, -0.8266411643886662, -0.8265137184374656, -0.8263871402266315, -0.8262614240448054, -0.826136564215378, -0.8260125550963205, -0.825889391080016, -0.8257670665930904, -0.8256455760962442, -0.8255249140840841, -0.8254050750849545, -0.82528605366077, -0.8251678444068477, -0.8250504419517386, -0.8249338409570623, -0.8248180361173378, -0.8247030221598185, -0.8245887938443244, -0.8244753459630768, -0.8243626733405317, -0.8242507708332145, -0.824139633329555, -0.8240292557497215, -0.8239196330454572, -0.8238107601999152, -0.8237026322274946, -0.8235952441736769, -0.8234885911148635, -0.8233826681582114, -0.8232774704414718, -0.8231729931328281, -0.8230692314307333, -0.8229661805637494, -0.8228638357903864, -0.8227621923989419, -0.822661245707341, -0.8225609910629766, -0.8224614238425505, -0.8223625394519145, -0.8222643333259123, -0.8221668009282216, -0.8220699377511969, -0.8219737393157126, -0.8218782011710066, -0.8217833188945247, -0.8216890880917647, -0.8215955043961218, -0.8215025634687343, -0.8214102609983297, -0.8213185927010709, -0.8212275543204037, -0.8211371416269044, -0.8210473504181282, -0.820958176518457, -0.8208696157789497, -0.8207816640771912, -0.820694317317143, -0.8206075714289942, -0.820521422369012, -0.8204358661193951, -0.8203508986881246, -0.8202665161088178, -0.820182714440582, -0.8200994897678678, -0.8200168382003248, -0.819934755872656, -0.8198532389444739, -0.8197722836001571, -0.8196918860487068, -0.8196120425236049, -0.8195327492826716, -0.8194540026079243, -0.8193757988054368, -0.8192981342051989, -0.8192210051609776, -0.8191444080501771, -0.8190683392737008, -0.8189927952558138, -0.8189177724440053, -0.8188432673088515, -0.8187692763438807, -0.8186957960654369, -0.8186228230125447, -0.8185503537467764, -0.8184783848521162, -0.8184069129348293, -0.8183359346233277, -0.818265446568039, -0.8181954454412754, -0.818125927937102, -0.8180568907712077, -0.8179883306807749, -0.8179202444243512, -0.8178526287817203, -0.817785480553775, -0.8177187965623898, -0.817652573650294, -0.8175868086809464, -0.8175214985384095, -0.8174566401272246, -0.8173922303722885, -0.8173282662187284, -0.8172647446317808, -0.8172016625966676, -0.8171390171184754, -0.8170768052220333, -0.8170150239517933, -0.8169536703717097, -0.8168927415651199, -0.8168322346346257, -0.8167721467019746, -0.8167124749079431, -0.8166532164122184, -0.8165943683932835, -0.8165359280482998, -0.816477892592993, -0.8164202592615375, -0.8163630253064433, -0.8163061879984419, -0.8162497446263729, -0.8161936924970727, -0.8161380289352624, -0.8160827512834359, -0.8160278569017501, -0.8159733431679148, -0.8159192074770829, -0.8158654472417415, -0.8158120598916044, -0.8157590428735033, -0.8157063936512813, -0.8156541097056857, -0.8156021885342633, -0.8155506276512533, -0.8154994245874834, -0.8154485768902655, -0.8153980821232911, -0.8153479378665296, -0.8152981417161238, -0.8152486912842893, -0.8151995841992126, -0.8151508181049493, -0.8151023906613248, -0.8150542995438342, -0.8150065424435422, -0.8149591170669854, -0.814912021136073, -0.8148652523879902, -0.8148188085751, -0.8147726874648478, -0.814726886839664, -0.8146814044968693, -0.8146362382485797, -0.8145913859216117, -0.814546845357389, -0.8145026144118478, -0.8144586909553455, -0.8144150728725673, -0.8143717580624349, -0.8143287444380147, -0.8142860299264278, -0.8142436124687588, -0.8142014900199666, -0.8141596605487952, -0.814118122037685, -0.8140768724826839, -0.8140359098933607, -0.8139952322927172, -0.8139548377171013, -0.8139147242161215, -0.813874889852561, -0.8138353327022918, -0.813796050854191, -0.813757042410056, -0.8137183054845208, -0.8136798382049732, -0.8136416387114718, -0.8136037051566632, -0.8135660357057013, -0.8135286285361651, -0.8134914818379784, -0.8134545938133295, -0.8134179626765908, -0.8133815866542401, -0.813345463984781, -0.8133095929186653, -0.8132739717182141, -0.813238598657541, -0.8132034720224746, -0.8131685901104821, -0.8131339512305936, -0.8130995537033254, -0.8130653958606054, -0.8130314760456987, -0.8129977926131327, -0.812964343928623, -0.812931128369001, -0.8128981443221399, -0.8128653901868828, -0.8128328643729699, -0.8128005653009678, -0.8127684914021973, -0.8127366411186634, -0.8127050129029847, -0.8126736052183225, -0.8126424165383135, -0.8126114453469979, -0.8125806901387533, -0.812550149418225, -0.8125198217002583, -0.8124897055098312, -0.8124597993819884, -0.8124301018617728, -0.8124006115041608, -0.8123713268739963, -0.8123422465459249, -0.8123133691043292, -0.8122846931432642, -0.8122562172663934, -0.8122279400869247, -0.812199860227547, -0.8121719763203678, -0.8121442870068498, -0.8121167909377495, -0.8120894867730547, -0.8120623731819239, -0.8120354488426241, -0.8120087124424717, -0.811982162677771, -0.8119557982537544, -0.8119296178845237, -0.8119036202929901, -0.8118778042108159, -0.8118521683783559, -0.8118267115445996, -0.8118014324671132, -0.8117763299119827, -0.811751402653756, -0.8117266494753882, -0.8117020691681831, -0.8116776605317393, -0.8116534223738932, -0.8116293535106645, -0.8116054527662018, -0.8115817189727271, -0.8115581509704828, -0.811534747607677, -0.8115115077404302, -0.8114884302327231, -0.8114655139563426, -0.8114427577908301, -0.8114201606234295, -0.8113977213490349, -0.8113754388701393, -0.8113533120967844, -0.8113313399465085, -0.8113095213442968, -0.8112878552225313, -0.8112663405209406, -0.8112449761865511, -0.8112237611736368, -0.8112026944436718, -0.8111817749652803, -0.8111610017141897, -0.8111403736731818, -0.8111198898320455, -0.8110995491875298, -0.8110793507432963, -0.8110592935098726, -0.8110393765046064, -0.811019598751619, -0.8109999592817595, -0.8109804571325594, -0.8109610913481875, -0.8109418609794049, -0.8109227650835205, -0.8109038027243463, -0.8108849729721541, -0.8108662749036311, -0.8108477076018366, -0.8108292701561588, -0.8108109616622724, -0.8107927812220952, -0.8107747279437463, -0.8107568009415036, -0.8107389993357627, -0.8107213222529948, -0.8107037688257054, -0.8106863381923939, -0.8106690294975125, -0.8106518418914256, -0.8106347745303699, -0.8106178265764145, -0.8106009971974211, -0.8105842855670048, -0.8105676908644948, -0.8105512122748953, -0.8105348489888478, -0.8105186002025913, -0.8105024651179256, -0.8104864429421726, -0.810470532888139, -0.8104547341740784, -0.8104390460236555, -0.8104234676659074, -0.8104079983352086, -0.8103926372712337, -0.8103773837189212, -0.8103622369284385, -0.8103471961551448, -0.8103322606595573, -0.8103174297073148, -0.8103027025691428, -0.8102880785208195, -0.8102735568431407, -0.8102591368218854, -0.8102448177477827, -0.8102305989164764, -0.8102164796284932, -0.8102024591892074, -0.81018853690881, -0.8101747121022733, -0.8101609840893202, -0.8101473521943906, -0.8101338157466096, -0.8101203740797549, -0.8101070265322257, -0.8100937724470105, -0.8100806111716558, -0.8100675420582348, -0.8100545644633167, -0.8100416777479356, -0.8100288812775598, -0.8100161744220619, -0.8100035565556881, -0.8099910270570283, -0.8099785853089867, -0.8099662306987516, -0.8099539626177666, -0.8099417804617008, -0.8099296836304204, -0.8099176715279592, -0.809905743562491, -0.8098938991463001, -0.8098821376957537, -0.8098704586312736, -0.8098588613773086, -0.8098473453623063, -0.8098359100186865, -0.8098245547828129, -0.8098132790949669, -0.8098020823993198, -0.8097909641439068, -0.8097799237806, -0.8097689607650822, -0.8097580745568205, -0.8097472646190402, -0.8097365304186994]}],\n",
       "                        {\"template\": {\"data\": {\"bar\": [{\"error_x\": {\"color\": \"#2a3f5f\"}, \"error_y\": {\"color\": \"#2a3f5f\"}, \"marker\": {\"line\": {\"color\": \"#E5ECF6\", \"width\": 0.5}}, \"type\": \"bar\"}], \"barpolar\": [{\"marker\": {\"line\": {\"color\": \"#E5ECF6\", \"width\": 0.5}}, \"type\": \"barpolar\"}], \"carpet\": [{\"aaxis\": {\"endlinecolor\": \"#2a3f5f\", \"gridcolor\": \"white\", \"linecolor\": \"white\", \"minorgridcolor\": \"white\", \"startlinecolor\": \"#2a3f5f\"}, \"baxis\": {\"endlinecolor\": \"#2a3f5f\", \"gridcolor\": \"white\", \"linecolor\": \"white\", \"minorgridcolor\": \"white\", \"startlinecolor\": \"#2a3f5f\"}, \"type\": \"carpet\"}], \"choropleth\": [{\"colorbar\": {\"outlinewidth\": 0, \"ticks\": \"\"}, \"type\": \"choropleth\"}], \"contour\": [{\"colorbar\": {\"outlinewidth\": 0, \"ticks\": \"\"}, \"colorscale\": [[0.0, \"#0d0887\"], [0.1111111111111111, \"#46039f\"], [0.2222222222222222, \"#7201a8\"], [0.3333333333333333, \"#9c179e\"], [0.4444444444444444, \"#bd3786\"], [0.5555555555555556, \"#d8576b\"], [0.6666666666666666, \"#ed7953\"], [0.7777777777777778, \"#fb9f3a\"], [0.8888888888888888, \"#fdca26\"], [1.0, \"#f0f921\"]], \"type\": \"contour\"}], \"contourcarpet\": [{\"colorbar\": {\"outlinewidth\": 0, \"ticks\": \"\"}, \"type\": \"contourcarpet\"}], \"heatmap\": [{\"colorbar\": {\"outlinewidth\": 0, \"ticks\": \"\"}, \"colorscale\": [[0.0, \"#0d0887\"], [0.1111111111111111, \"#46039f\"], [0.2222222222222222, \"#7201a8\"], [0.3333333333333333, \"#9c179e\"], [0.4444444444444444, \"#bd3786\"], [0.5555555555555556, \"#d8576b\"], [0.6666666666666666, \"#ed7953\"], [0.7777777777777778, \"#fb9f3a\"], [0.8888888888888888, \"#fdca26\"], [1.0, \"#f0f921\"]], \"type\": \"heatmap\"}], \"heatmapgl\": [{\"colorbar\": {\"outlinewidth\": 0, \"ticks\": \"\"}, \"colorscale\": [[0.0, \"#0d0887\"], [0.1111111111111111, \"#46039f\"], [0.2222222222222222, \"#7201a8\"], [0.3333333333333333, \"#9c179e\"], [0.4444444444444444, \"#bd3786\"], [0.5555555555555556, \"#d8576b\"], [0.6666666666666666, \"#ed7953\"], [0.7777777777777778, \"#fb9f3a\"], [0.8888888888888888, \"#fdca26\"], [1.0, \"#f0f921\"]], \"type\": \"heatmapgl\"}], \"histogram\": [{\"marker\": {\"colorbar\": {\"outlinewidth\": 0, \"ticks\": \"\"}}, \"type\": \"histogram\"}], \"histogram2d\": [{\"colorbar\": {\"outlinewidth\": 0, \"ticks\": \"\"}, \"colorscale\": [[0.0, \"#0d0887\"], [0.1111111111111111, \"#46039f\"], [0.2222222222222222, \"#7201a8\"], [0.3333333333333333, \"#9c179e\"], [0.4444444444444444, \"#bd3786\"], [0.5555555555555556, \"#d8576b\"], [0.6666666666666666, \"#ed7953\"], [0.7777777777777778, \"#fb9f3a\"], [0.8888888888888888, \"#fdca26\"], [1.0, \"#f0f921\"]], \"type\": \"histogram2d\"}], \"histogram2dcontour\": [{\"colorbar\": {\"outlinewidth\": 0, \"ticks\": \"\"}, \"colorscale\": [[0.0, \"#0d0887\"], [0.1111111111111111, \"#46039f\"], [0.2222222222222222, \"#7201a8\"], [0.3333333333333333, \"#9c179e\"], [0.4444444444444444, \"#bd3786\"], [0.5555555555555556, \"#d8576b\"], [0.6666666666666666, \"#ed7953\"], [0.7777777777777778, \"#fb9f3a\"], [0.8888888888888888, \"#fdca26\"], [1.0, \"#f0f921\"]], \"type\": \"histogram2dcontour\"}], \"mesh3d\": [{\"colorbar\": {\"outlinewidth\": 0, \"ticks\": \"\"}, \"type\": \"mesh3d\"}], \"parcoords\": [{\"line\": {\"colorbar\": {\"outlinewidth\": 0, \"ticks\": \"\"}}, \"type\": \"parcoords\"}], \"scatter\": [{\"marker\": {\"colorbar\": {\"outlinewidth\": 0, \"ticks\": \"\"}}, \"type\": \"scatter\"}], \"scatter3d\": [{\"line\": {\"colorbar\": {\"outlinewidth\": 0, \"ticks\": \"\"}}, \"marker\": {\"colorbar\": {\"outlinewidth\": 0, \"ticks\": \"\"}}, \"type\": \"scatter3d\"}], \"scattercarpet\": [{\"marker\": {\"colorbar\": {\"outlinewidth\": 0, \"ticks\": \"\"}}, \"type\": \"scattercarpet\"}], \"scattergeo\": [{\"marker\": {\"colorbar\": {\"outlinewidth\": 0, \"ticks\": \"\"}}, \"type\": \"scattergeo\"}], \"scattergl\": [{\"marker\": {\"colorbar\": {\"outlinewidth\": 0, \"ticks\": \"\"}}, \"type\": \"scattergl\"}], \"scattermapbox\": [{\"marker\": {\"colorbar\": {\"outlinewidth\": 0, \"ticks\": \"\"}}, \"type\": \"scattermapbox\"}], \"scatterpolar\": [{\"marker\": {\"colorbar\": {\"outlinewidth\": 0, \"ticks\": \"\"}}, \"type\": \"scatterpolar\"}], \"scatterpolargl\": [{\"marker\": {\"colorbar\": {\"outlinewidth\": 0, \"ticks\": \"\"}}, \"type\": \"scatterpolargl\"}], \"scatterternary\": [{\"marker\": {\"colorbar\": {\"outlinewidth\": 0, \"ticks\": \"\"}}, \"type\": \"scatterternary\"}], \"surface\": [{\"colorbar\": {\"outlinewidth\": 0, \"ticks\": \"\"}, \"colorscale\": [[0.0, \"#0d0887\"], [0.1111111111111111, \"#46039f\"], [0.2222222222222222, \"#7201a8\"], [0.3333333333333333, \"#9c179e\"], [0.4444444444444444, \"#bd3786\"], [0.5555555555555556, \"#d8576b\"], [0.6666666666666666, \"#ed7953\"], [0.7777777777777778, \"#fb9f3a\"], [0.8888888888888888, \"#fdca26\"], [1.0, \"#f0f921\"]], \"type\": \"surface\"}], \"table\": [{\"cells\": {\"fill\": {\"color\": \"#EBF0F8\"}, \"line\": {\"color\": \"white\"}}, \"header\": {\"fill\": {\"color\": \"#C8D4E3\"}, \"line\": {\"color\": \"white\"}}, \"type\": \"table\"}]}, \"layout\": {\"annotationdefaults\": {\"arrowcolor\": \"#2a3f5f\", \"arrowhead\": 0, \"arrowwidth\": 1}, \"colorscale\": {\"diverging\": [[0, \"#8e0152\"], [0.1, \"#c51b7d\"], [0.2, \"#de77ae\"], [0.3, \"#f1b6da\"], [0.4, \"#fde0ef\"], [0.5, \"#f7f7f7\"], [0.6, \"#e6f5d0\"], [0.7, \"#b8e186\"], [0.8, \"#7fbc41\"], [0.9, \"#4d9221\"], [1, \"#276419\"]], \"sequential\": [[0.0, \"#0d0887\"], [0.1111111111111111, \"#46039f\"], [0.2222222222222222, \"#7201a8\"], [0.3333333333333333, \"#9c179e\"], [0.4444444444444444, \"#bd3786\"], [0.5555555555555556, \"#d8576b\"], [0.6666666666666666, \"#ed7953\"], [0.7777777777777778, \"#fb9f3a\"], [0.8888888888888888, \"#fdca26\"], [1.0, \"#f0f921\"]], \"sequentialminus\": [[0.0, \"#0d0887\"], [0.1111111111111111, \"#46039f\"], [0.2222222222222222, \"#7201a8\"], [0.3333333333333333, \"#9c179e\"], [0.4444444444444444, \"#bd3786\"], [0.5555555555555556, \"#d8576b\"], [0.6666666666666666, \"#ed7953\"], [0.7777777777777778, \"#fb9f3a\"], [0.8888888888888888, \"#fdca26\"], [1.0, \"#f0f921\"]]}, \"colorway\": [\"#636efa\", \"#EF553B\", \"#00cc96\", \"#ab63fa\", \"#FFA15A\", \"#19d3f3\", \"#FF6692\", \"#B6E880\", \"#FF97FF\", \"#FECB52\"], \"font\": {\"color\": \"#2a3f5f\"}, \"geo\": {\"bgcolor\": \"white\", \"lakecolor\": \"white\", \"landcolor\": \"#E5ECF6\", \"showlakes\": true, \"showland\": true, \"subunitcolor\": \"white\"}, \"hoverlabel\": {\"align\": \"left\"}, \"hovermode\": \"closest\", \"mapbox\": {\"style\": \"light\"}, \"paper_bgcolor\": \"white\", \"plot_bgcolor\": \"#E5ECF6\", \"polar\": {\"angularaxis\": {\"gridcolor\": \"white\", \"linecolor\": \"white\", \"ticks\": \"\"}, \"bgcolor\": \"#E5ECF6\", \"radialaxis\": {\"gridcolor\": \"white\", \"linecolor\": \"white\", \"ticks\": \"\"}}, \"scene\": {\"xaxis\": {\"backgroundcolor\": \"#E5ECF6\", \"gridcolor\": \"white\", \"gridwidth\": 2, \"linecolor\": \"white\", \"showbackground\": true, \"ticks\": \"\", \"zerolinecolor\": \"white\"}, \"yaxis\": {\"backgroundcolor\": \"#E5ECF6\", \"gridcolor\": \"white\", \"gridwidth\": 2, \"linecolor\": \"white\", \"showbackground\": true, \"ticks\": \"\", \"zerolinecolor\": \"white\"}, \"zaxis\": {\"backgroundcolor\": \"#E5ECF6\", \"gridcolor\": \"white\", \"gridwidth\": 2, \"linecolor\": \"white\", \"showbackground\": true, \"ticks\": \"\", \"zerolinecolor\": \"white\"}}, \"shapedefaults\": {\"line\": {\"color\": \"#2a3f5f\"}}, \"ternary\": {\"aaxis\": {\"gridcolor\": \"white\", \"linecolor\": \"white\", \"ticks\": \"\"}, \"baxis\": {\"gridcolor\": \"white\", \"linecolor\": \"white\", \"ticks\": \"\"}, \"bgcolor\": \"#E5ECF6\", \"caxis\": {\"gridcolor\": \"white\", \"linecolor\": \"white\", \"ticks\": \"\"}}, \"title\": {\"x\": 0.05}, \"xaxis\": {\"automargin\": true, \"gridcolor\": \"white\", \"linecolor\": \"white\", \"ticks\": \"\", \"zerolinecolor\": \"white\", \"zerolinewidth\": 2}, \"yaxis\": {\"automargin\": true, \"gridcolor\": \"white\", \"linecolor\": \"white\", \"ticks\": \"\", \"zerolinecolor\": \"white\", \"zerolinewidth\": 2}}}, \"title\": {\"text\": \"Fitted Morse Potential Curve\"}, \"xaxis\": {\"title\": {\"text\": \"Bond Distance in Bohr Units Radius\"}}, \"yaxis\": {\"title\": {\"text\": \"Energy in Hartrees\"}}},\n",
       "                        {\"responsive\": true}\n",
       "                    ).then(function(){\n",
       "                            \n",
       "var gd = document.getElementById('706c324a-9875-4e9b-894b-196d6f0fb420');\n",
       "var x = new MutationObserver(function (mutations, observer) {{\n",
       "        var display = window.getComputedStyle(gd).display;\n",
       "        if (!display || display === 'none') {{\n",
       "            console.log([gd, 'removed!']);\n",
       "            Plotly.purge(gd);\n",
       "            observer.disconnect();\n",
       "        }}\n",
       "}});\n",
       "\n",
       "// Listen for the removal of the full notebook cells\n",
       "var notebookContainer = gd.closest('#notebook-container');\n",
       "if (notebookContainer) {{\n",
       "    x.observe(notebookContainer, {childList: true});\n",
       "}}\n",
       "\n",
       "// Listen for the clearing of the current output cell\n",
       "var outputEl = gd.closest('.output');\n",
       "if (outputEl) {{\n",
       "    x.observe(outputEl, {childList: true});\n",
       "}}\n",
       "\n",
       "                        })\n",
       "                };\n",
       "                });\n",
       "            </script>\n",
       "        </div>"
      ]
     },
     "metadata": {},
     "output_type": "display_data"
    },
    {
     "name": "stdout",
     "output_type": "stream",
     "text": [
      "[ 1.45433559  0.7048293   0.31187829 -1.12009537]\n"
     ]
    }
   ],
   "source": [
    "\n",
    "#create a curve fitted morsePotential of the data\n",
    "#uses the least squares method to fit the potential via SciPy\n",
    "#Morse Potential Equation is from \"Diatomic Molecules According To \n",
    "#The Wave Mechanics. II. Vibrational Levels\", by Phillip M. Morse\n",
    "def morsePotential(r, r0, a, D, c):\n",
    "    return D * pow( (1-np.exp(-a*(r-r0))), 2) + c\n",
    "\n",
    "#Optimize the morse potential to the Hartree-Fock computed potential\n",
    "popt, pcov = optimize.curve_fit(morsePotential, R, E)\n",
    "\n",
    "#Get important data for graphing purposes\n",
    "minEIndex = E.index(min(E))\n",
    "minE = E.copy().pop(minEIndex)\n",
    "optimalR = R.copy().pop(minEIndex)\n",
    "\n",
    "#graph the surface potential\n",
    "dx = .01\n",
    "figure = { \n",
    "    \"data\": [\n",
    "        \n",
    "        #create the Hartree-Fock generated Potential Energy Surface\n",
    "        {\n",
    "            \"type\":\"scatter\",\n",
    "            \"x\":[x*dx for x in range(-100,1000)],\n",
    "            \"y\":[morsePotential(x*dx, popt[0], popt[1], popt[2], popt[3]) for x in range(-100,1000)],\n",
    "            \"connectgaps\":False,\n",
    "            \"mode\":\"markers\", \n",
    "            \"name\":\"Hartree-Fock Computed\",\n",
    "            \"marker\":{\"color\":\"blue\"}\n",
    "        },\n",
    "    ],\n",
    "     \"layout\":\n",
    "        {\n",
    "           \"xaxis\":{\"title\":\"Bond Distance in Bohr Units Radius\"},\n",
    "           \"yaxis\":{\"title\":\"Energy in Hartrees\"},\n",
    "            \"title\":{\"text\":\"Fitted Morse Potential Curve\"}\n",
    "        },    \n",
    "}\n",
    "iplot(figure)\n",
    "\n",
    "print(popt)"
   ]
  },
  {
   "cell_type": "code",
   "execution_count": 5,
   "metadata": {
    "scrolled": true
   },
   "outputs": [
    {
     "name": "stderr",
     "output_type": "stream",
     "text": [
      "Row 0 Integral Progress: 100%|█████████████████████████████████████████████████████████| 10/10 [00:00<00:00, 38.57it/s]\n",
      "Row 1 Integral Progress: 100%|█████████████████████████████████████████████████████████| 10/10 [00:00<00:00, 36.19it/s]\n",
      "Row 2 Integral Progress: 100%|█████████████████████████████████████████████████████████| 10/10 [00:00<00:00, 32.84it/s]\n",
      "Row 3 Integral Progress: 100%|█████████████████████████████████████████████████████████| 10/10 [00:00<00:00, 31.46it/s]\n",
      "Row 4 Integral Progress: 100%|█████████████████████████████████████████████████████████| 10/10 [00:00<00:00, 28.97it/s]\n",
      "Row 5 Integral Progress: 100%|█████████████████████████████████████████████████████████| 10/10 [00:00<00:00, 28.61it/s]\n",
      "Row 6 Integral Progress: 100%|█████████████████████████████████████████████████████████| 10/10 [00:00<00:00, 26.08it/s]\n",
      "Row 7 Integral Progress: 100%|█████████████████████████████████████████████████████████| 10/10 [00:00<00:00, 25.57it/s]\n",
      "Row 8 Integral Progress: 100%|█████████████████████████████████████████████████████████| 10/10 [00:00<00:00, 22.68it/s]\n",
      "Row 9 Integral Progress: 100%|█████████████████████████████████████████████████████████| 10/10 [00:00<00:00, 21.61it/s]\n"
     ]
    },
    {
     "name": "stdout",
     "output_type": "stream",
     "text": [
      "\n",
      "Overlap Matrix: \n",
      "\n",
      "[[0. 0. 0. 0. 0. 0. 0. 0. 0. 0.]\n",
      " [0. 0. 0. 0. 0. 0. 0. 0. 0. 0.]\n",
      " [0. 0. 0. 0. 0. 0. 0. 0. 0. 0.]\n",
      " [0. 0. 0. 0. 0. 0. 0. 0. 0. 0.]\n",
      " [0. 0. 0. 0. 0. 0. 0. 0. 0. 0.]\n",
      " [0. 0. 0. 0. 0. 0. 0. 0. 0. 0.]\n",
      " [0. 0. 0. 0. 0. 0. 0. 0. 0. 0.]\n",
      " [0. 0. 0. 0. 0. 0. 0. 0. 0. 0.]\n",
      " [0. 0. 0. 0. 0. 0. 0. 0. 0. 0.]\n",
      " [0. 0. 0. 0. 0. 0. 0. 0. 0. 0.]]\n",
      "\n",
      "****************************************\n",
      "\n",
      "V\n",
      "\n",
      "[[ 0.005 -0.002  0.007 -0.001  0.     0.     0.     0.     0.     0.   ]\n",
      " [-0.002  0.014 -0.005  0.012 -0.003  0.     0.     0.     0.     0.   ]\n",
      " [ 0.007 -0.005  0.025 -0.009  0.018 -0.005  0.001  0.     0.     0.   ]\n",
      " [-0.001  0.012 -0.009  0.035 -0.014  0.024 -0.007  0.001  0.     0.   ]\n",
      " [ 0.    -0.003  0.018 -0.014  0.046 -0.02   0.03  -0.009  0.002  0.   ]\n",
      " [ 0.     0.    -0.005  0.024 -0.02   0.058 -0.026  0.037 -0.012  0.002]\n",
      " [ 0.     0.     0.001 -0.007  0.03  -0.026  0.07  -0.034  0.044 -0.014]\n",
      " [ 0.     0.     0.     0.001 -0.009  0.037 -0.034  0.083 -0.042  0.051]\n",
      " [ 0.     0.     0.     0.     0.002 -0.012  0.044 -0.042  0.096 -0.05 ]\n",
      " [ 0.     0.     0.     0.     0.     0.002 -0.014  0.051 -0.05   0.11 ]]\n",
      "\n",
      "****************************************\n",
      "\n",
      "T\n",
      "\n",
      "[[ 0.005  0.    -0.006  0.     0.     0.     0.     0.     0.     0.   ]\n",
      " [ 0.     0.014  0.    -0.011  0.     0.     0.     0.     0.     0.   ]\n",
      " [-0.006  0.     0.023  0.    -0.016  0.     0.     0.     0.     0.   ]\n",
      " [ 0.    -0.011  0.     0.032  0.    -0.021  0.     0.     0.     0.   ]\n",
      " [ 0.     0.    -0.016  0.     0.041  0.    -0.025  0.     0.     0.   ]\n",
      " [ 0.     0.     0.    -0.021  0.     0.051  0.    -0.03   0.     0.   ]\n",
      " [ 0.     0.     0.     0.    -0.025  0.     0.06   0.    -0.034  0.   ]\n",
      " [ 0.     0.     0.     0.     0.    -0.03   0.     0.069  0.    -0.039]\n",
      " [ 0.     0.     0.     0.     0.     0.    -0.034  0.     0.078  0.   ]\n",
      " [ 0.     0.     0.     0.     0.     0.     0.    -0.039  0.     0.087]]\n",
      "\n",
      "****************************************\n",
      "\n",
      "[[ 0.01  -0.002  0.001 -0.001  0.     0.     0.     0.     0.     0.   ]\n",
      " [-0.002  0.028 -0.005  0.001 -0.003  0.     0.     0.     0.     0.   ]\n",
      " [ 0.001 -0.005  0.048 -0.009  0.002 -0.005  0.001  0.     0.     0.   ]\n",
      " [-0.001  0.001 -0.009  0.067 -0.014  0.003 -0.007  0.001  0.     0.   ]\n",
      " [ 0.    -0.003  0.002 -0.014  0.087 -0.02   0.005 -0.009  0.002  0.   ]\n",
      " [ 0.     0.    -0.005  0.003 -0.02   0.109 -0.026  0.007 -0.012  0.002]\n",
      " [ 0.     0.     0.001 -0.007  0.005 -0.026  0.13  -0.034  0.01  -0.014]\n",
      " [ 0.     0.     0.     0.001 -0.009  0.007 -0.034  0.152 -0.042  0.012]\n",
      " [ 0.     0.     0.     0.     0.002 -0.012  0.01  -0.042  0.174 -0.05 ]\n",
      " [ 0.     0.     0.     0.     0.     0.002 -0.014  0.012 -0.05   0.197]]\n",
      "\n"
     ]
    }
   ],
   "source": [
    "#basis size to use for the computation \n",
    "basisSize = 10\n",
    "\n",
    "#Correction Value to Set Morse Potential at the Zero Point\n",
    "correction = morsePotential(popt[0], popt[0], popt[1], popt[2], popt[3])\n",
    "\n",
    "#compute omega from the variables used to describe the Morse Potential \n",
    "#Equation originates from Exact Solutions for Vibrational Levels of the Morse Potential via the \n",
    "#asymptotic iteration method \n",
    "#by T. Barakat and K. Abodayeh\n",
    "w = popt[1] * np.sqrt(2*popt[2] / system.u)\n",
    "uw = w * system.u\n",
    "\n",
    "#Returns a lambda function of the nth hermite polynomial\n",
    "def hermite(n, k):\n",
    "    \n",
    "    c = pow(-1, k) * np.math.factorial(n) / ( np.math.factorial(k) * np.math.factorial(n - 2*k) )\n",
    "        \n",
    "    if(k == 0):\n",
    "        return lambda r : c * pow(2*np.sqrt(uw)*( r-popt[0] ), n-(2*k))\n",
    "    else:\n",
    "        return lambda r : c * pow(2*np.sqrt(uw)*( r-popt[0] ), n-(2*k)) + hermite(n, k-1)(r)\n",
    "\n",
    "#Constructs the nth hermite polynomial function, and returns the specified lambda function\n",
    "def buildHermite(n):\n",
    "    return hermite(n, n // 2)\n",
    "\n",
    "#returns the normalization constant for the Harmonic Oscillator Function\n",
    "def C(n):    \n",
    "    return np.sqrt( np.sqrt(uw) /  (pow(2, n) * np.math.factorial(n) * np.sqrt(np.pi) )) \n",
    "\n",
    "#Creates a new Harmonic Oscillator function\n",
    "#and returns it as a lambda function\n",
    "def newHO(n):\n",
    "    return lambda r : C(n) * buildHermite(n)(r) * np.exp(-uw * pow(r-popt[0],2) / 2)  \n",
    "\n",
    "#Set up all variables used for the integral computation\n",
    "basisSet = []\n",
    "S = np.zeros([basisSize, basisSize])\n",
    "V = np.zeros([basisSize, basisSize])\n",
    "T = np.zeros([basisSize, basisSize])\n",
    "T2 = np.zeros([basisSize, basisSize])\n",
    "\n",
    "Tints = []\n",
    "Vints = []\n",
    "\n",
    "#Build the basis Fucntions\n",
    "for i in range(basisSize):\n",
    "    basisSet.append( newHO(i) )\n",
    "    \n",
    "#Verify orthonormality of the basis set\n",
    "for i in range(basisSize):\n",
    "    for j in tqdm(range(basisSize), desc=\"Row \" + str(i) + \" Integral Progress\", position=0):\n",
    "        \n",
    "        integrand = lambda r : basisSet[i](r) *  (morsePotential(r, popt[0], popt[1], popt[2], popt[3]) - correction) * basisSet[j](r)\n",
    "        \n",
    "        V[i, j] += round(integrate.quad( integrand, 0, np.inf)[0], 3)\n",
    "        integrand2 = lambda r : basisSet[i](r) * (-1/(2*system.u)) * ddx(basisSet[j], r, n=2, dx=pow(10, -4))\n",
    "\n",
    "        T[i, j] += round(integrate.quad(integrand2, 0, np.inf)[0], 3)\n",
    "    \n",
    "        Tints.append(integrand2)\n",
    "        Vints.append(integrand)\n",
    "\n",
    "print()\n",
    "print(\"Overlap Matrix: \")\n",
    "print()\n",
    "print(S)\n",
    "print()\n",
    "print(\"*\" * 40)\n",
    "print()\n",
    "\n",
    "print(\"V\")\n",
    "print()\n",
    "print(V)\n",
    "print()\n",
    "print(\"*\"*40)\n",
    "print()\n",
    "\n",
    "print(\"T\")\n",
    "print()\n",
    "print(T)\n",
    "print()\n",
    "print(\"*\" * 40)\n",
    "print()\n",
    "\n",
    "H = T + V\n",
    "\n",
    "print(H)\n",
    "print()\n",
    "\n",
    "EHO, EV = np.linalg.eigh(H)"
   ]
  },
  {
   "cell_type": "code",
   "execution_count": 6,
   "metadata": {
    "scrolled": true
   },
   "outputs": [
    {
     "data": {
      "application/vnd.plotly.v1+json": {
       "config": {
        "linkText": "Export to plot.ly",
        "plotlyServerURL": "https://plot.ly",
        "showLink": false
       },
       "data": [
        {
         "connectgaps": false,
         "marker": {
          "color": "blue"
         },
         "mode": "markers",
         "name": "Hartree-Fock Computed",
         "type": "scatter",
         "x": [
          1,
          1.1,
          1.2,
          1.3,
          1.4,
          1.5,
          1.6,
          1.7000000000000002,
          1.8,
          1.9,
          2,
          2.1,
          2.2,
          2.3,
          2.4000000000000004,
          2.5,
          2.6,
          2.7,
          2.8,
          2.9000000000000004,
          3,
          3.1,
          3.2,
          3.3000000000000003,
          3.4000000000000004,
          3.5,
          3.6,
          3.7,
          3.8000000000000003,
          3.9000000000000004,
          4,
          4.1,
          4.2,
          4.300000000000001,
          4.4,
          4.5,
          4.6,
          4.7,
          4.800000000000001,
          4.9,
          5
         ],
         "y": [
          -1.0668470688525558,
          -1.095685092880128,
          -1.1128084561601423,
          -1.1216474510997267,
          -1.124568904327794,
          -1.1232385643643283,
          -1.1188506533793472,
          -1.1122759676516356,
          -1.104158376553818,
          -1.0949785473198972,
          -1.0850970382091458,
          -1.0747844404245817,
          -1.0642432497665186,
          -1.0536242227128731,
          -1.043038822565821,
          -1.032568734137342,
          -1.0222731099757434,
          -1.012194054145989,
          -1.0023607565083088,
          -0.9927926151222992,
          -0.9835016124597793,
          -0.9744941437545108,
          -0.9657724383334194,
          -0.9573356706442846,
          -0.9491808271103469,
          -0.9413033756382084,
          -0.9336977733214199,
          -0.9263578415138383,
          -0.9192770336269795,
          -0.9124486182186264,
          -0.905865797380554,
          -0.8995217777832858,
          -0.8934098089597113,
          -0.8875232006033196,
          -0.8818553279557741,
          -0.8763996318854056,
          -0.8711496181024532,
          -0.8660988581693961,
          -0.8612409935609242,
          -0.8565697429948607,
          -0.852078912558593
         ]
        },
        {
         "marker": {
          "color": "red"
         },
         "name": "Optimal Bond Distance",
         "type": "scatter",
         "x": [
          1.4
         ],
         "y": [
          -1.124568904327794
         ]
        },
        {
         "connectgaps": false,
         "marker": {
          "color": "green"
         },
         "name": "Morse Potential Approximation",
         "type": "scatter",
         "x": [
          -0.01,
          0,
          0.01,
          0.02,
          0.03,
          0.04,
          0.05,
          0.06,
          0.07,
          0.08,
          0.09,
          0.1,
          0.11,
          0.12,
          0.13,
          0.14,
          0.15,
          0.16,
          0.17,
          0.18,
          0.19,
          0.2,
          0.21,
          0.22,
          0.23,
          0.24,
          0.25,
          0.26,
          0.27,
          0.28,
          0.29,
          0.3,
          0.31,
          0.32,
          0.33,
          0.34,
          0.35000000000000003,
          0.36,
          0.37,
          0.38,
          0.39,
          0.4,
          0.41000000000000003,
          0.42,
          0.43,
          0.44,
          0.45,
          0.46,
          0.47000000000000003,
          0.48,
          0.49,
          0.5,
          0.51,
          0.52,
          0.53,
          0.54,
          0.55,
          0.56,
          0.5700000000000001,
          0.58,
          0.59,
          0.6,
          0.61,
          0.62,
          0.63,
          0.64,
          0.65,
          0.66,
          0.67,
          0.68,
          0.6900000000000001,
          0.7000000000000001,
          0.71,
          0.72,
          0.73,
          0.74,
          0.75,
          0.76,
          0.77,
          0.78,
          0.79,
          0.8,
          0.81,
          0.8200000000000001,
          0.8300000000000001,
          0.84,
          0.85,
          0.86,
          0.87,
          0.88,
          0.89,
          0.9,
          0.91,
          0.92,
          0.93,
          0.9400000000000001,
          0.9500000000000001,
          0.96,
          0.97,
          0.98,
          0.99,
          1,
          1.01,
          1.02,
          1.03,
          1.04,
          1.05,
          1.06,
          1.07,
          1.08,
          1.09,
          1.1,
          1.11,
          1.12,
          1.1300000000000001,
          1.1400000000000001,
          1.1500000000000001,
          1.16,
          1.17,
          1.18,
          1.19,
          1.2,
          1.21,
          1.22,
          1.23,
          1.24,
          1.25,
          1.26,
          1.27,
          1.28,
          1.29,
          1.3,
          1.31,
          1.32,
          1.33,
          1.34,
          1.35,
          1.36,
          1.37,
          1.3800000000000001,
          1.3900000000000001,
          1.4000000000000001,
          1.41,
          1.42,
          1.43,
          1.44,
          1.45,
          1.46,
          1.47,
          1.48,
          1.49,
          1.5,
          1.51,
          1.52,
          1.53,
          1.54,
          1.55,
          1.56,
          1.57,
          1.58,
          1.59,
          1.6,
          1.61,
          1.62,
          1.6300000000000001,
          1.6400000000000001,
          1.6500000000000001,
          1.6600000000000001,
          1.67,
          1.68,
          1.69,
          1.7,
          1.71,
          1.72,
          1.73,
          1.74,
          1.75,
          1.76,
          1.77,
          1.78,
          1.79,
          1.8,
          1.81,
          1.82,
          1.83,
          1.84,
          1.85,
          1.86,
          1.87,
          1.8800000000000001,
          1.8900000000000001,
          1.9000000000000001,
          1.9100000000000001,
          1.92,
          1.93,
          1.94,
          1.95,
          1.96,
          1.97,
          1.98,
          1.99,
          2,
          2.0100000000000002,
          2.02,
          2.0300000000000002,
          2.04,
          2.05,
          2.06,
          2.07,
          2.08,
          2.09,
          2.1,
          2.11,
          2.12,
          2.13,
          2.14,
          2.15,
          2.16,
          2.17,
          2.18,
          2.19,
          2.2,
          2.21,
          2.22,
          2.23,
          2.24,
          2.25,
          2.2600000000000002,
          2.27,
          2.2800000000000002,
          2.29,
          2.3000000000000003,
          2.31,
          2.32,
          2.33,
          2.34,
          2.35,
          2.36,
          2.37,
          2.38,
          2.39,
          2.4,
          2.41,
          2.42,
          2.43,
          2.44,
          2.45,
          2.46,
          2.47,
          2.48,
          2.49,
          2.5,
          2.5100000000000002,
          2.52,
          2.5300000000000002,
          2.54,
          2.5500000000000003,
          2.56,
          2.57,
          2.58,
          2.59,
          2.6,
          2.61,
          2.62,
          2.63,
          2.64,
          2.65,
          2.66,
          2.67,
          2.68,
          2.69,
          2.7,
          2.71,
          2.72,
          2.73,
          2.74,
          2.75,
          2.7600000000000002,
          2.77,
          2.7800000000000002,
          2.79,
          2.8000000000000003,
          2.81,
          2.82,
          2.83,
          2.84,
          2.85,
          2.86,
          2.87,
          2.88,
          2.89,
          2.9,
          2.91,
          2.92,
          2.93,
          2.94,
          2.95,
          2.96,
          2.97,
          2.98,
          2.99,
          3,
          3.0100000000000002,
          3.02,
          3.0300000000000002,
          3.04,
          3.0500000000000003,
          3.06,
          3.0700000000000003,
          3.08,
          3.09,
          3.1,
          3.11,
          3.12,
          3.13,
          3.14,
          3.15,
          3.16,
          3.17,
          3.18,
          3.19,
          3.2,
          3.21,
          3.22,
          3.23,
          3.24,
          3.25,
          3.2600000000000002,
          3.27,
          3.2800000000000002,
          3.29,
          3.3000000000000003,
          3.31,
          3.3200000000000003,
          3.33,
          3.34,
          3.35,
          3.36,
          3.37,
          3.38,
          3.39,
          3.4,
          3.41,
          3.42,
          3.43,
          3.44,
          3.45,
          3.46,
          3.47,
          3.48,
          3.49,
          3.5,
          3.5100000000000002,
          3.52,
          3.5300000000000002,
          3.54,
          3.5500000000000003,
          3.56,
          3.5700000000000003,
          3.58,
          3.59,
          3.6,
          3.61,
          3.62,
          3.63,
          3.64,
          3.65,
          3.66,
          3.67,
          3.68,
          3.69,
          3.7,
          3.71,
          3.72,
          3.73,
          3.74,
          3.75,
          3.7600000000000002,
          3.77,
          3.7800000000000002,
          3.79,
          3.8000000000000003,
          3.81,
          3.8200000000000003,
          3.83,
          3.84,
          3.85,
          3.86,
          3.87,
          3.88,
          3.89,
          3.9,
          3.91,
          3.92,
          3.93,
          3.94,
          3.95,
          3.96,
          3.97,
          3.98,
          3.99,
          4,
          4.01,
          4.0200000000000005,
          4.03,
          4.04,
          4.05,
          4.0600000000000005,
          4.07,
          4.08,
          4.09,
          4.1,
          4.11,
          4.12,
          4.13,
          4.14,
          4.15,
          4.16,
          4.17,
          4.18,
          4.19,
          4.2,
          4.21,
          4.22,
          4.23,
          4.24,
          4.25,
          4.26,
          4.2700000000000005,
          4.28,
          4.29,
          4.3,
          4.3100000000000005,
          4.32,
          4.33,
          4.34,
          4.3500000000000005,
          4.36,
          4.37,
          4.38,
          4.39,
          4.4,
          4.41,
          4.42,
          4.43,
          4.44,
          4.45,
          4.46,
          4.47,
          4.48,
          4.49,
          4.5,
          4.51,
          4.5200000000000005,
          4.53,
          4.54,
          4.55,
          4.5600000000000005,
          4.57,
          4.58,
          4.59,
          4.6000000000000005,
          4.61,
          4.62,
          4.63,
          4.64,
          4.65,
          4.66,
          4.67,
          4.68,
          4.69,
          4.7,
          4.71,
          4.72,
          4.73,
          4.74,
          4.75,
          4.76,
          4.7700000000000005,
          4.78,
          4.79,
          4.8,
          4.8100000000000005,
          4.82,
          4.83,
          4.84,
          4.8500000000000005,
          4.86,
          4.87,
          4.88,
          4.89,
          4.9,
          4.91,
          4.92,
          4.93,
          4.94,
          4.95,
          4.96,
          4.97,
          4.98,
          4.99,
          5,
          5.01,
          5.0200000000000005,
          5.03,
          5.04,
          5.05,
          5.0600000000000005,
          5.07,
          5.08,
          5.09,
          5.1000000000000005,
          5.11,
          5.12,
          5.13,
          5.14,
          5.15,
          5.16,
          5.17,
          5.18,
          5.19,
          5.2,
          5.21,
          5.22,
          5.23,
          5.24,
          5.25,
          5.26,
          5.2700000000000005,
          5.28,
          5.29,
          5.3,
          5.3100000000000005,
          5.32,
          5.33,
          5.34,
          5.3500000000000005,
          5.36,
          5.37,
          5.38,
          5.39,
          5.4,
          5.41,
          5.42,
          5.43,
          5.44,
          5.45,
          5.46,
          5.47,
          5.48,
          5.49,
          5.5,
          5.51,
          5.5200000000000005,
          5.53,
          5.54,
          5.55,
          5.5600000000000005,
          5.57,
          5.58,
          5.59,
          5.6000000000000005,
          5.61,
          5.62,
          5.63,
          5.64,
          5.65,
          5.66,
          5.67,
          5.68,
          5.69,
          5.7,
          5.71,
          5.72,
          5.73,
          5.74,
          5.75,
          5.76,
          5.7700000000000005,
          5.78,
          5.79,
          5.8,
          5.8100000000000005,
          5.82,
          5.83,
          5.84,
          5.8500000000000005,
          5.86,
          5.87,
          5.88,
          5.89,
          5.9,
          5.91,
          5.92,
          5.93,
          5.94,
          5.95,
          5.96,
          5.97,
          5.98,
          5.99,
          6,
          6.01,
          6.0200000000000005,
          6.03,
          6.04,
          6.05,
          6.0600000000000005,
          6.07,
          6.08,
          6.09,
          6.1000000000000005,
          6.11,
          6.12,
          6.13,
          6.140000000000001,
          6.15,
          6.16,
          6.17,
          6.18,
          6.19,
          6.2,
          6.21,
          6.22,
          6.23,
          6.24,
          6.25,
          6.26,
          6.2700000000000005,
          6.28,
          6.29,
          6.3,
          6.3100000000000005,
          6.32,
          6.33,
          6.34,
          6.3500000000000005,
          6.36,
          6.37,
          6.38,
          6.390000000000001,
          6.4,
          6.41,
          6.42,
          6.43,
          6.44,
          6.45,
          6.46,
          6.47,
          6.48,
          6.49,
          6.5,
          6.51,
          6.5200000000000005,
          6.53,
          6.54,
          6.55,
          6.5600000000000005,
          6.57,
          6.58,
          6.59,
          6.6000000000000005,
          6.61,
          6.62,
          6.63,
          6.640000000000001,
          6.65,
          6.66,
          6.67,
          6.68,
          6.69,
          6.7,
          6.71,
          6.72,
          6.73,
          6.74,
          6.75,
          6.76,
          6.7700000000000005,
          6.78,
          6.79,
          6.8,
          6.8100000000000005,
          6.82,
          6.83,
          6.84,
          6.8500000000000005,
          6.86,
          6.87,
          6.88,
          6.890000000000001,
          6.9,
          6.91,
          6.92,
          6.93,
          6.94,
          6.95,
          6.96,
          6.97,
          6.98,
          6.99,
          7,
          7.01,
          7.0200000000000005,
          7.03,
          7.04,
          7.05,
          7.0600000000000005,
          7.07,
          7.08,
          7.09,
          7.1000000000000005,
          7.11,
          7.12,
          7.13,
          7.140000000000001,
          7.15,
          7.16,
          7.17,
          7.18,
          7.19,
          7.2,
          7.21,
          7.22,
          7.23,
          7.24,
          7.25,
          7.26,
          7.2700000000000005,
          7.28,
          7.29,
          7.3,
          7.3100000000000005,
          7.32,
          7.33,
          7.34,
          7.3500000000000005,
          7.36,
          7.37,
          7.38,
          7.390000000000001,
          7.4,
          7.41,
          7.42,
          7.43,
          7.44,
          7.45,
          7.46,
          7.47,
          7.48,
          7.49,
          7.5,
          7.51,
          7.5200000000000005,
          7.53,
          7.54,
          7.55,
          7.5600000000000005,
          7.57,
          7.58,
          7.59,
          7.6000000000000005,
          7.61,
          7.62,
          7.63,
          7.640000000000001,
          7.65,
          7.66,
          7.67,
          7.68,
          7.69,
          7.7,
          7.71,
          7.72,
          7.73,
          7.74,
          7.75,
          7.76,
          7.7700000000000005,
          7.78,
          7.79,
          7.8,
          7.8100000000000005,
          7.82,
          7.83,
          7.84,
          7.8500000000000005,
          7.86,
          7.87,
          7.88,
          7.890000000000001,
          7.9,
          7.91,
          7.92,
          7.930000000000001,
          7.94,
          7.95,
          7.96,
          7.97,
          7.98,
          7.99,
          8,
          8.01,
          8.02,
          8.03,
          8.040000000000001,
          8.05,
          8.06,
          8.07,
          8.08,
          8.09,
          8.1,
          8.11,
          8.120000000000001,
          8.13,
          8.14,
          8.15,
          8.16,
          8.17,
          8.18,
          8.19,
          8.2,
          8.21,
          8.22,
          8.23,
          8.24,
          8.25,
          8.26,
          8.27,
          8.28,
          8.290000000000001,
          8.3,
          8.31,
          8.32,
          8.33,
          8.34,
          8.35,
          8.36,
          8.370000000000001,
          8.38,
          8.39,
          8.4,
          8.41,
          8.42,
          8.43,
          8.44,
          8.45,
          8.46,
          8.47,
          8.48,
          8.49,
          8.5,
          8.51,
          8.52,
          8.53,
          8.540000000000001,
          8.55,
          8.56,
          8.57,
          8.58,
          8.59,
          8.6,
          8.61,
          8.620000000000001,
          8.63,
          8.64,
          8.65,
          8.66,
          8.67,
          8.68,
          8.69,
          8.700000000000001,
          8.71,
          8.72,
          8.73,
          8.74,
          8.75,
          8.76,
          8.77,
          8.78,
          8.790000000000001,
          8.8,
          8.81,
          8.82,
          8.83,
          8.84,
          8.85,
          8.86,
          8.870000000000001,
          8.88,
          8.89,
          8.9,
          8.91,
          8.92,
          8.93,
          8.94,
          8.950000000000001,
          8.96,
          8.97,
          8.98,
          8.99,
          9,
          9.01,
          9.02,
          9.03,
          9.040000000000001,
          9.05,
          9.06,
          9.07,
          9.08,
          9.09,
          9.1,
          9.11,
          9.120000000000001,
          9.13,
          9.14,
          9.15,
          9.16,
          9.17,
          9.18,
          9.19,
          9.200000000000001,
          9.21,
          9.22,
          9.23,
          9.24,
          9.25,
          9.26,
          9.27,
          9.28,
          9.290000000000001,
          9.3,
          9.31,
          9.32,
          9.33,
          9.34,
          9.35,
          9.36,
          9.370000000000001,
          9.38,
          9.39,
          9.4,
          9.41,
          9.42,
          9.43,
          9.44,
          9.450000000000001,
          9.46,
          9.47,
          9.48,
          9.49,
          9.5,
          9.51,
          9.52,
          9.53,
          9.540000000000001,
          9.55,
          9.56,
          9.57,
          9.58,
          9.59,
          9.6,
          9.61,
          9.620000000000001,
          9.63,
          9.64,
          9.65,
          9.66,
          9.67,
          9.68,
          9.69,
          9.700000000000001,
          9.71,
          9.72,
          9.73,
          9.74,
          9.75,
          9.76,
          9.77,
          9.78,
          9.790000000000001,
          9.8,
          9.81,
          9.82,
          9.83,
          9.84,
          9.85,
          9.86,
          9.870000000000001,
          9.88,
          9.89,
          9.9,
          9.91,
          9.92,
          9.93,
          9.94,
          9.950000000000001,
          9.96,
          9.97,
          9.98,
          9.99
         ],
         "y": [
          1.0183296820695429,
          0.9962301202322185,
          0.974525664507254,
          0.9532101819611878,
          0.9322776297381594,
          0.9117220537693203,
          0.8915375875005123,
          0.8717184506379642,
          0.8522589479117566,
          0.8331534678567932,
          0.8143964816110412,
          0.7959825417307957,
          0.7779062810227282,
          0.7601624113924784,
          0.7427457227095668,
          0.7256510816883845,
          0.7088734307850479,
          0.692407787109883,
          0.6762492413553266,
          0.6603929567390241,
          0.6448341679619104,
          0.6295681801810648,
          0.6145903679971273,
          0.5998961744560752,
          0.5854811100651561,
          0.5713407518227799,
          0.5574707422621681,
          0.5438667885085718,
          0.5305246613498649,
          0.517440194320325,
          0.5046092827974137,
          0.492027883111376,
          0.4796920116674782,
          0.4675977440807012,
          0.45574121432272263,
          0.4441186138810047,
          0.4327261909298252,
          0.42156024951307747,
          0.4106171487386766,
          0.39989330198440876,
          0.3893851761150591,
          0.37908929071066266,
          0.3690022173057187,
          0.3591205786392162,
          0.34944104791531516,
          0.3399603480745378,
          0.33067525107531703,
          0.32158257718575833,
          0.3126791942854693,
          0.3039620171773194,
          0.2954280069089825,
          0.2870741701041324,
          0.27889755830314644,
          0.27089526731319125,
          0.2630644365675532,
          0.25540224849408455,
          0.24790592789263588,
          0.24057274132135098,
          0.2333999964916933,
          0.2263850416720885,
          0.2195252651000532,
          0.2128180944026976,
          0.20626099602547743,
          0.1998514746690847,
          0.19358707273435594,
          0.18746536977509187,
          0.18148398195866966,
          0.1756405615343435,
          0.1699327963091214,
          0.16435840913111233,
          0.15891515738023942,
          0.1536008324662128,
          0.14841325933366023,
          0.14335029597431692,
          0.13840983294617126,
          0.13358979289946982,
          0.12888813010948508,
          0.12430283001594977,
          0.11983190876906336,
          0.11547341278197898,
          0.11122541828967658,
          0.1070860309141366,
          0.10305338523571983,
          0.0991256443706694,
          0.09530099955464766,
          0.09157766973222059,
          0.08795390115220902,
          0.0844279669688206,
          0.08099816684848338,
          0.0776628265822974,
          0.07442029770402736,
          0.07126895711355852,
          0.06820720670573421,
          0.065233473004505,
          0.062346206802307735,
          0.059543882804608206,
          0.056824999279525557,
          0.05418807771247369,
          0.051631662465746464,
          0.04915432044297385,
          0.04675464075838476,
          0.044431234410804876,
          0.0421827339623253,
          0.040007793221572774,
          0.037905086931518284,
          0.035873310461761676,
          0.03391117950522338,
          0.03201742977918598,
          0.030190816730623515,
          0.028430115245752674,
          0.026734119363753805,
          0.025101641994596857,
          0.02353151464091585,
          0.022022587123874837,
          0.020573727312969137,
          0.01918382085970549,
          0.017851770935104927,
          0.016576497970977044,
          0.015356939404909564,
          0.014192049428922493,
          0.013080798741732291,
          0.01202217430457897,
          0.01101517910056149,
          0.01005883189743284,
          0.009152167013808832,
          0.008294234088736863,
          0.007484097854582039,
          0.006720837913178679,
          0.006003548515207013,
          0.005331338342741798,
          0.004703330294936192,
          0.004118661276787172,
          0.0035764819909489542,
          0.0030759567325402415,
          0.0026162631869133257,
          0.0021965922303350816,
          0.001816147733541662,
          0.0014741463681275935,
          0.001169817415725305,
          0.0009024025799382329,
          0.000671155800988199,
          0.00047534307303664924,
          0.00031424226414444867,
          0.00018714293882959865,
          9.334618318912469e-05,
          3.216443254649981e-05,
          2.921301589298153e-06,
          4.951416962217792e-06,
          3.760025227994568e-05,
          0.00010022396552566981,
          0.00019218923880037764,
          0.00031287312039296467,
          0.00046166286913162935,
          0.0006379558009921293,
          0.0008411591379238192,
          0.0010706898588661584,
          0.001325974552922382,
          0.001606449274661248,
          0.001911559401515106,
          0.0022407594932454256,
          0.002593513153444915,
          0.002969292893050701,
          0.0033675799958339248,
          0.0037878643858448857,
          0.004229644496779761,
          0.004692427143244693,
          0.0051757273938897175,
          0.00567906844638455,
          0.006201981504213139,
          0.0067440056552561245,
          0.007304687752141659,
          0.007883582294333058,
          0.008480251311935083,
          0.009094264251187534,
          0.00972519786162862,
          0.010372636084899245,
          0.011036169945167096,
          0.011715397441148134,
          0.012409923439699933,
          0.01311935957096777,
          0.013843324125058176,
          0.014581441950220597,
          0.015333344352514544,
          0.01609866899694068,
          0.016877059810015638,
          0.01766816688376993,
          0.0184716463811474,
          0.019287160442788442,
          0.02011437709517505,
          0.02095297016011921,
          0.021802619165575132,
          0.022663009257757327,
          0.023533831114544324,
          0.024414780860150476,
          0.025305559981047887,
          0.02620587524312068,
          0.027115438610032072,
          0.028033967162790496,
          0.02896118302049433,
          0.029896813262239474,
          0.030840589850173794,
          0.03179224955368043,
          0.03275153387467733,
          0.03371818897401013,
          0.03469196559893173,
          0.03567261901164476,
          0.03665990891889814,
          0.037653599402616145,
          0.0386534588515528,
          0.03965925989395047,
          0.04067077933119001,
          0.04168779807242129,
          0.042710101070155826,
          0.043737477256809765,
          0.044769719482183,
          0.04580662445186312,
          0.046847992666536165,
          0.04789362836219624,
          0.04894333945123819,
          0.049996937464421576,
          0.05105423749369198,
          0.052115058135851156,
          0.05317922143705811,
          0.054246552838154605,
          0.055316881120799355,
          0.05639003835440248,
          0.05746585984384467,
          0.05854418407797479,
          0.05962485267886941,
          0.0607077103518483,
          0.061792604836230725,
          0.06287938685682515,
          0.06396791007613944,
          0.06505803104730346,
          0.06614960916768986,
          0.06724250663322939,
          0.06833658839340306,
          0.06943172210690851,
          0.0705277780979856,
          0.07162462931339442,
          0.07272215128003534,
          0.07382022206320293,
          0.07491872222546236,
          0.0760175347861427,
          0.07711654518143352,
          0.07821564122508162,
          0.07931471306967408,
          0.08041365316850313,
          0.08151235623800157,
          0.0826107192207417,
          0.08370864124899091,
          0.08480602360881262,
          0.08590276970470767,
          0.08699878502478753,
          0.08809397710647082,
          0.08918825550269505,
          0.09028153174863984,
          0.09137371932894922,
          0.09246473364544805,
          0.09355449198534793,
          0.09464291348992893,
          0.09572991912369866,
          0.09681543164401374,
          0.09789937557116324,
          0.09898167715890316,
          0.10006226436543741,
          0.10114106682483892,
          0.10221801581890277,
          0.10329304424942776,
          0.10436608661091729,
          0.10543707896369581,
          0.1065059589074333,
          0.10757266555507239,
          0.10863713950715193,
          0.10969932282652262,
          0.11075915901344713,
          0.11181659298107904,
          0.11287157103131795,
          0.1139240408310318,
          0.11497395138864186,
          0.11602125303106847,
          0.11706589738102591,
          0.11810783733466801,
          0.11914702703957425,
          0.12018342187307529,
          0.12121697842090817,
          0.12224765445620323,
          0.1232754089187903,
          0.12430020189482538,
          0.1253219945967302,
          0.12634074934344075,
          0.12735642954096016,
          0.12836899966321214,
          0.1293784252331892,
          0.13038467280439325,
          0.13138770994256177,
          0.1323875052076785,
          0.13338402813626127,
          0.13437724922392513,
          0.13536713990821614,
          0.1363536725517117,
          0.13733682042538253,
          0.13831655769221496,
          0.1392928593910876,
          0.14026570142089834,
          0.1412350605249405,
          0.14220091427552184,
          0.14316324105882394,
          0.14412202005999863,
          0.14507723124849758,
          0.14602885536363197,
          0.14697687390035796,
          0.14792126909528602,
          0.14886202391290948,
          0.14979912203205026,
          0.15073254783251744,
          0.1516622863819762,
          0.15258832342302397,
          0.15351064536047043,
          0.15442923924881935,
          0.15534409277994676,
          0.15625519427097645,
          0.1571625326523456,
          0.15806609745606115,
          0.1589658788041427,
          0.1598618673972484,
          0.16075405450348246,
          0.16164243194738137,
          0.16252699209907484,
          0.16340772786362123,
          0.1642846326705122,
          0.16515770046334666,
          0.1660269256896687,
          0.1668923032909705,
          0.16775382869285405,
          0.16861149779535223,
          0.16946530696340534,
          0.1703152530174914,
          0.17116133322440719,
          0.17200354528819917,
          0.1728418873412405,
          0.17367635793545244,
          0.1745069560336694,
          0.1753336810011421,
          0.176156532597182,
          0.17697551096693842,
          0.17779061663331253,
          0.17860185048900168,
          0.17940921378867447,
          0.18021270814127466,
          0.18101233550244933,
          0.18180809816710353,
          0.182599998762076,
          0.18338804023893585,
          0.18417222586689852,
          0.18495255922585752,
          0.18572904419953307,
          0.18650168496873254,
          0.1872704860047245,
          0.18803545206272043,
          0.18879658817546763,
          0.18955389964694724,
          0.1903073920461772,
          0.19105707120111992,
          0.19180294319269153,
          0.19254501434887117,
          0.19328329123891008,
          0.19401778066763697,
          0.1947484896698608,
          0.19547542550486652,
          0.1961985956510055,
          0.19691800780037627,
          0.1976336698535962,
          0.19834558991466222,
          0.19905377628589827,
          0.19975823746298993,
          0.2004589821301036,
          0.20115601915508863,
          0.20184935758476263,
          0.20253900664027769,
          0.20322497571256615,
          0.2039072743578645,
          0.20458591229331635,
          0.20526089939264947,
          0.20593224568192892,
          0.20659996133538505,
          0.20726405667131198,
          0.20792454214803968,
          0.20858142835997528,
          0.20923472603371507,
          0.20988444602422351,
          0.21053059931108065,
          0.21117319699479498,
          0.2118122502931825,
          0.21244777053780872,
          0.21307976917049531,
          0.213708257739888,
          0.21433324789808617,
          0.21495475139733267,
          0.2155727800867634,
          0.21618734590921496,
          0.21679846089808996,
          0.21740613717427903,
          0.2180103869431389,
          0.21861122249152487,
          0.21920865618487817,
          0.21980270046436523,
          0.22039336784407138,
          0.22098067090824325,
          0.22156462230858498,
          0.22214523476160264,
          0.22272252104599766,
          0.22329649400010976,
          0.22386716651940697,
          0.22443455155402203,
          0.224998662106336,
          0.22555951122860696,
          0.22611711202064222,
          0.2266714776275165,
          0.2272226212373324,
          0.2277705560790232,
          0.22831529542019813,
          0.22885685256502875,
          0.22939524085217622,
          0.22993047365275832,
          0.23046256436835488,
          0.23099152642905452,
          0.23151737329153632,
          0.2320401184371914,
          0.23255977537027983,
          0.23307635761612533,
          0.2335898787193441,
          0.2341003522421098,
          0.23460779176245283,
          0.23511221087259382,
          0.2356136231773105,
          0.23611204229233684,
          0.2366074818427959,
          0.23709995546166374,
          0.23758947678826425,
          0.23807605946679633,
          0.23855971714488966,
          0.23904046347219154,
          0.2395183120989829,
          0.23999327667482262,
          0.24046537084722108,
          0.2409346082603412,
          0.24140100255372698,
          0.241864567361059,
          0.2423253163089376,
          0.24278326301568998,
          0.24323842109020577,
          0.2436908041307958,
          0.24414042572407668,
          0.2445872994438797,
          0.2450314388501842,
          0.2454728574880738,
          0.24591156888671672,
          0.24634758655836864,
          0.2467809239973977,
          0.24721159467933296,
          0.24763961205993312,
          0.24806498957427703,
          0.2484877406358762,
          0.24890787863580732,
          0.2493254169418645,
          0.24974036889773266,
          0.2501527478221799,
          0.25056256700826984,
          0.2509698397225919,
          0.25137457920451145,
          0.25177679866543756,
          0.25217651128810914,
          0.25257373022589913,
          0.25296846860213495,
          0.2533607395094377,
          0.25375055600907703,
          0.2541379311303432,
          0.2545228778699353,
          0.25490540919136506,
          0.25528553802437726,
          0.25566327726438465,
          0.25603863977191876,
          0.2564116383720947,
          0.2567822858540927,
          0.25715059497065096,
          0.2575165784375757,
          0.2578802489332629,
          0.25824161909823506,
          0.2586007015346905,
          0.25895750880606694,
          0.25931205343661645,
          0.2596643479109946,
          0.2600144046738614,
          0.2603622361294946,
          0.2607078546414152,
          0.26105127253202465,
          0.26139250208225373,
          0.26173155553122274,
          0.2620684450759134,
          0.26240318287085085,
          0.2627357810277976,
          0.26306625161545705,
          0.2633946066591881,
          0.2637208581407299,
          0.264045017997936,
          0.26436709812451986,
          0.2646871103698083,
          0.2650050665385053,
          0.26532097839046553,
          0.26563485764047645,
          0.2659467159580491,
          0.2662565649672186,
          0.26656441624635274,
          0.2668702813279692,
          0.2671741716985607,
          0.2674760987984295,
          0.26777607402152803,
          0.2680741087153098,
          0.26837021418058526,
          0.2686644016713877,
          0.2689566823948455,
          0.269247067511061,
          0.26953556813299806,
          0.2698221953263751,
          0.27010696010956636,
          0.2703898734535086,
          0.2706709462816156,
          0.2709501894696982,
          0.2712276138458909,
          0.2715032301905854,
          0.2717770492363696,
          0.2720490816679719,
          0.27231933812221265,
          0.2725878291879613,
          0.27285456540609776,
          0.27311955726948023,
          0.2733828152229192,
          0.27364434966315476,
          0.2739041709388417,
          0.2741622893505362,
          0.2744187151506916,
          0.2746734585436553,
          0.2749265296856731,
          0.2751779386848965,
          0.27542769560139524,
          0.27567581044717493,
          0.27592229318619743,
          0.27616715373440726,
          0.2764104019597613,
          0.2766520476822618,
          0.2768921006739954,
          0.2771305706591747,
          0.27736746731418327,
          0.27760280026762585,
          0.27783657910038095,
          0.2780688133456576,
          0.2782995124890555,
          0.27852868596862845,
          0.2787563431749518,
          0.27898249345119175,
          0.27920714609317965,
          0.27943031034948773,
          0.27965199542150887,
          0.2798722104635396,
          0.28009096458286487,
          0.28030826683984655,
          0.28052412624801426,
          0.2807385517741595,
          0.2809515523384317,
          0.28116313681443716,
          0.2813733140293404,
          0.2815820927639685,
          0.2817894817529165,
          0.2819954896846568,
          0.28220012520164983,
          0.28240339690045624,
          0.28260531333185346,
          0.282805883000952,
          0.2830051143673151,
          0.2832030158450798,
          0.28339959580308083,
          0.2835948625649747,
          0.28378882440936737,
          0.28398148956994285,
          0.28417286623559335,
          0.2843629625505515,
          0.2845517866145242,
          0.28473934648282784,
          0.28492565016652505,
          0.285110705632563,
          0.2852945208039137,
          0.285477103559714,
          0.28565846173540954,
          0.28583860312289744,
          0.2860175354706722,
          0.2861952664839713,
          0.28637180382492344,
          0.2865471551126967,
          0.2867213279236487,
          0.286894329791477,
          0.28706616820737163,
          0.2872368506201678,
          0.28740638443649913,
          0.28757477702095324,
          0.28774203569622725,
          0.2879081677432841,
          0.2880731804015102,
          0.28823708086887356,
          0.2883998763020823,
          0.2885615738167453,
          0.2887221804875313,
          0.2888817033483311,
          0.2890401493924183,
          0.28919752557261247,
          0.2893538388014415,
          0.2895090959513047,
          0.2896633038546379,
          0.28981646930407623,
          0.28996859905262073,
          0.2901196998138027,
          0.29026977826184974,
          0.2904188410318518,
          0.29056689471992825,
          0.29071394588339394,
          0.29086000104092724,
          0.2910050666727373,
          0.2911491492207312,
          0.29129225508868317,
          0.29143439064240206,
          0.2915755622098999,
          0.2917157760815612,
          0.2918550385103107,
          0.29199335571178364,
          0.29213073386449406,
          0.2922671791100041,
          0.2924026975530938,
          0.2925372952619303,
          0.29267097826823685,
          0.29280375256746316,
          0.29293562411895424,
          0.2930665988461202,
          0.2931966826366057,
          0.29332588134245974,
          0.2934542007803045,
          0.2935816467315051,
          0.29370822494233917,
          0.2938339411241653,
          0.2939588009535927,
          0.29408281007265014,
          0.29420597408895466,
          0.2943282985758803,
          0.29444978907272645,
          0.29457045108488655,
          0.29469029008401615,
          0.29480931150820067,
          0.29492752076212303,
          0.2950449232172321,
          0.29516152421190833,
          0.29527732905163284,
          0.2953923430091522,
          0.2955065713246463,
          0.29562001920589387,
          0.295732691828439,
          0.29584459433575616,
          0.2959557318394157,
          0.29606610941924916,
          0.29617573212351345,
          0.2962846049690555,
          0.29639273294147606,
          0.29650012099529377,
          0.2966067740541072,
          0.2967126970107593,
          0.29681789472749887,
          0.2969223720361426,
          0.2970261337382374,
          0.2971291846052213,
          0.2972315293785843,
          0.2973331727700288,
          0.2974341194616297,
          0.29753437410599404,
          0.2976339413264202,
          0.29773282571705617,
          0.29783103184305837,
          0.2979285642407491,
          0.2980254274177738,
          0.2981216258532581,
          0.29821716399796405,
          0.29831204627444596,
          0.298406277077206,
          0.29849986077284885,
          0.2985928017002364,
          0.298685104170641,
          0.2987767724678998,
          0.29886781084856695,
          0.29895822354206625,
          0.29904801475084253,
          0.29913718865051364,
          0.299225749390021,
          0.29931370109177946,
          0.29940104785182764,
          0.29948779373997647,
          0.29957394279995864,
          0.29965949904957556,
          0.2997444664808461,
          0.29982884906015284,
          0.2999126507283887,
          0.29999587540110284,
          0.3000785269686459,
          0.3001606092963147,
          0.30024212622449675,
          0.3003230815688136,
          0.3004034791202639,
          0.3004833226453658,
          0.30056261588629907,
          0.30064136256104634,
          0.3007195663635339,
          0.30079723096377176,
          0.30087436000799306,
          0.3009509571187936,
          0.30102702589526986,
          0.30110256991315687,
          0.30117759272496536,
          0.3012520978601192,
          0.30132608882508993,
          0.3013995691035338,
          0.30147254215642594,
          0.30154501142219425,
          0.30161698031685447,
          0.3016884522341414,
          0.301759430545643,
          0.30182991860093167,
          0.30189991972769525,
          0.30196943723186864,
          0.302038474397763,
          0.30210703448819576,
          0.3021751207446195,
          0.3022427363872504,
          0.3023098846151957,
          0.3023765686065809,
          0.3024427915186767,
          0.3025085564880243,
          0.3025738666305612,
          0.30263872504174605,
          0.3027031347966822,
          0.30276709895024223,
          0.3028306205371899,
          0.3028937025723031,
          0.3029563480504953,
          0.3030185599469374,
          0.3030803412171774,
          0.30314169479726094,
          0.30320262360385075,
          0.30326313053434495,
          0.30332321846699606,
          0.3033828902610276,
          0.30344214875675224,
          0.3035009967756872,
          0.3035594371206709,
          0.3036174725759777,
          0.3036751059074332,
          0.30373233986252735,
          0.3037891771705288,
          0.3038456205425978,
          0.30390167267189794,
          0.30395733623370824,
          0.3040126138855348,
          0.3040675082672206,
          0.30412202200105587,
          0.30417615769188777,
          0.3042299179272292,
          0.30428330527736625,
          0.30433632229546737,
          0.3043889715176894,
          0.30444125546328493,
          0.30449317663470743,
          0.3045447375177174,
          0.3045959405814873,
          0.30464678827870517,
          0.30469728304567956,
          0.3047474273024411,
          0.3047972234528469,
          0.30484667388468134,
          0.3048957809697581,
          0.3049445470640214,
          0.30499297450764584,
          0.30504106562513644,
          0.3050888227254285,
          0.30513624810198525,
          0.3051833440328977,
          0.30523011278098044,
          0.30527655659387065,
          0.3053226777041229,
          0.3053684783293067,
          0.30541396067210136,
          0.305459126920391,
          0.30550397924735895,
          0.3055485198115817,
          0.3055927507571229,
          0.30563667421362517,
          0.30568029229640337,
          0.3057236071065358,
          0.30576662073095595,
          0.30580933524254283,
          0.3058517527002119,
          0.3058938751490041,
          0.3059357046201755,
          0.3059772431312857,
          0.3060184926862868,
          0.30605945527560996,
          0.3061001328762535,
          0.30614052745186937,
          0.30618064095284914,
          0.3062204753164097,
          0.3062600324666789,
          0.30629931431477964,
          0.3063383227589147,
          0.30637705968444984,
          0.30641552696399743,
          0.3064537264574989,
          0.30649166001230743,
          0.3065293294632694,
          0.30656673663280554,
          0.3066038833309923,
          0.30664077135564116,
          0.30667740249237985,
          0.3067137785147306,
          0.30674990118418966,
          0.30678577225030534,
          0.30682139345075654,
          0.3068567665114297,
          0.3068918931464961,
          0.30692677505848853,
          0.30696141393837706,
          0.30699581146564525,
          0.30702996930836524,
          0.307063889123272,
          0.307097572555838,
          0.30713102124034763,
          0.3071642367999696,
          0.30719722084683077,
          0.30722997498208793,
          0.3072625007960008,
          0.3072947998680029,
          0.30732687376677337,
          0.3073587240503073,
          0.307390352265986,
          0.30742175995064813,
          0.3074529486306572,
          0.30748391982197276,
          0.30751467503021734,
          0.30754521575074567,
          0.3075755434687124,
          0.30760565965913944,
          0.30763556578698226,
          0.3076652633071979,
          0.3076947536648099,
          0.3077240382949744,
          0.3077531186230458,
          0.3077819960646415,
          0.30781067202570644,
          0.30783914790257727,
          0.307867425082046,
          0.3078955049414237,
          0.30792338884860293,
          0.30795107816212086,
          0.3079785742312212,
          0.308005878395916,
          0.3080329919870468,
          0.30805991632634655,
          0.30808665272649893,
          0.30811320249119967,
          0.30813956691521627,
          0.308165747284447,
          0.30819174487598056,
          0.3082175609581548,
          0.30824319679061474,
          0.30826865362437106,
          0.30829393270185745,
          0.308319035256988,
          0.3083439625152147,
          0.3083687156935825,
          0.3083932960007876,
          0.3084177046372314,
          0.30844194279507753,
          0.3084660116583062,
          0.3084899124027689,
          0.30851364619624355,
          0.3085372141984879,
          0.3085606175612937,
          0.30858385742854044,
          0.3086069349362476,
          0.3086298512126281,
          0.3086526073781406,
          0.3086752045455412,
          0.3086976438199358,
          0.3087199262988314,
          0.3087420530721863,
          0.30876402522246216,
          0.3087858438246739,
          0.30880750994643935,
          0.3088290246480301,
          0.30885038898241957,
          0.30887160399533387,
          0.3088926707252989,
          0.30891359020369036,
          0.308934363454781,
          0.30895499149578887,
          0.30897547533692515,
          0.3089958159814409,
          0.3090160144256744,
          0.3090360716590981,
          0.30905598866436423,
          0.3090757664173517,
          0.3090954058872112,
          0.3091149080364113,
          0.3091342738207832,
          0.3091535041895658,
          0.3091726000854502,
          0.3091915624446244,
          0.30921039219681656,
          0.3092290902653396,
          0.3092476575671341,
          0.3092660950128119,
          0.3092844035066983,
          0.3093025839468755,
          0.3093206372252244,
          0.3093385642274671,
          0.309356365833208,
          0.3093740429159759,
          0.3093915963432653,
          0.3094090269765768,
          0.30942633567145816,
          0.3094435232775451,
          0.30946059063860076,
          0.3094775385925562,
          0.3094943679715496,
          0.3095110796019659,
          0.3095276743044759,
          0.30954415289407533,
          0.3095605161801229,
          0.3095767649663794,
          0.3095929000510451,
          0.30960892222679803,
          0.3096248322808317,
          0.30964063099489225,
          0.3096563191453152,
          0.30967189750306323,
          0.3096873668337621,
          0.309702727897737,
          0.3097179814500495,
          0.30973312824053223,
          0.30974816901382585,
          0.30976310450941336,
          0.3097779354616559,
          0.30979266259982785,
          0.30980728664815116,
          0.30982180832582995,
          0.30983622834708524,
          0.309850547421188,
          0.30986476625249426,
          0.3098788855404775,
          0.30989290597976327,
          0.3099068282601607,
          0.30992065306669736,
          0.30993438107965043,
          0.3099480129745801,
          0.3099615494223611,
          0.3099749910892158,
          0.309988338636745,
          0.31000159272196015,
          0.31001475399731493,
          0.31002782311073585,
          0.310040800705654,
          0.3100536874210351,
          0.3100664838914109,
          0.3100791907469088,
          0.31009180861328256,
          0.3101043381119424,
          0.310116779859984,
          0.31012913447021906,
          0.31014140255120404,
          0.31015358470726984,
          0.3101656815385503,
          0.31017769364101144,
          0.31018962160647967,
          0.3102014660226706,
          0.310213227473217,
          0.3102249065376971,
          0.3102365037916621,
          0.3102480198066644,
          0.3102594551502842,
          0.3102708103861578,
          0.31028208607400376,
          0.31029328276965085,
          0.31030440102506385,
          0.31031544138837064,
          0.3103264044038885,
          0.3103372906121502,
          0.31034810054993045,
          0.31035883475027126
         ]
        },
        {
         "connectgaps": false,
         "marker": {
          "color": "blue"
         },
         "name": "T0",
         "type": "scatter",
         "x": [
          1.4543355873106405
         ],
         "y": [
          0.009759953145013217
         ]
        },
        {
         "connectgaps": false,
         "marker": {
          "color": "blue"
         },
         "name": "T1",
         "type": "scatter",
         "x": [
          1.4543355873106405
         ],
         "y": [
          0.02675521756240199
         ]
        },
        {
         "connectgaps": false,
         "marker": {
          "color": "blue"
         },
         "name": "T2",
         "type": "scatter",
         "x": [
          1.4543355873106405
         ],
         "y": [
          0.04458360213722933
         ]
        },
        {
         "connectgaps": false,
         "marker": {
          "color": "blue"
         },
         "name": "T3",
         "type": "scatter",
         "x": [
          1.4543355873106405
         ],
         "y": [
          0.0607102686977906
         ]
        },
        {
         "connectgaps": false,
         "marker": {
          "color": "blue"
         },
         "name": "T4",
         "type": "scatter",
         "x": [
          1.4543355873106405
         ],
         "y": [
          0.07806176077838675
         ]
        },
        {
         "connectgaps": false,
         "marker": {
          "color": "blue"
         },
         "name": "T5",
         "type": "scatter",
         "x": [
          1.4543355873106405
         ],
         "y": [
          0.09516065040616425
         ]
        },
        {
         "connectgaps": false,
         "marker": {
          "color": "blue"
         },
         "name": "T6",
         "type": "scatter",
         "x": [
          1.4543355873106405
         ],
         "y": [
          0.11664977377346754
         ]
        },
        {
         "connectgaps": false,
         "marker": {
          "color": "blue"
         },
         "name": "T7",
         "type": "scatter",
         "x": [
          1.4543355873106405
         ],
         "y": [
          0.13747453485061836
         ]
        },
        {
         "connectgaps": false,
         "marker": {
          "color": "blue"
         },
         "name": "T8",
         "type": "scatter",
         "x": [
          1.4543355873106405
         ],
         "y": [
          0.17341750014360968
         ]
        },
        {
         "connectgaps": false,
         "marker": {
          "color": "blue"
         },
         "name": "T9",
         "type": "scatter",
         "x": [
          1.4543355873106405
         ],
         "y": [
          0.2594267385053183
         ]
        }
       ],
       "layout": {
        "template": {
         "data": {
          "bar": [
           {
            "error_x": {
             "color": "#2a3f5f"
            },
            "error_y": {
             "color": "#2a3f5f"
            },
            "marker": {
             "line": {
              "color": "#E5ECF6",
              "width": 0.5
             }
            },
            "type": "bar"
           }
          ],
          "barpolar": [
           {
            "marker": {
             "line": {
              "color": "#E5ECF6",
              "width": 0.5
             }
            },
            "type": "barpolar"
           }
          ],
          "carpet": [
           {
            "aaxis": {
             "endlinecolor": "#2a3f5f",
             "gridcolor": "white",
             "linecolor": "white",
             "minorgridcolor": "white",
             "startlinecolor": "#2a3f5f"
            },
            "baxis": {
             "endlinecolor": "#2a3f5f",
             "gridcolor": "white",
             "linecolor": "white",
             "minorgridcolor": "white",
             "startlinecolor": "#2a3f5f"
            },
            "type": "carpet"
           }
          ],
          "choropleth": [
           {
            "colorbar": {
             "outlinewidth": 0,
             "ticks": ""
            },
            "type": "choropleth"
           }
          ],
          "contour": [
           {
            "colorbar": {
             "outlinewidth": 0,
             "ticks": ""
            },
            "colorscale": [
             [
              0,
              "#0d0887"
             ],
             [
              0.1111111111111111,
              "#46039f"
             ],
             [
              0.2222222222222222,
              "#7201a8"
             ],
             [
              0.3333333333333333,
              "#9c179e"
             ],
             [
              0.4444444444444444,
              "#bd3786"
             ],
             [
              0.5555555555555556,
              "#d8576b"
             ],
             [
              0.6666666666666666,
              "#ed7953"
             ],
             [
              0.7777777777777778,
              "#fb9f3a"
             ],
             [
              0.8888888888888888,
              "#fdca26"
             ],
             [
              1,
              "#f0f921"
             ]
            ],
            "type": "contour"
           }
          ],
          "contourcarpet": [
           {
            "colorbar": {
             "outlinewidth": 0,
             "ticks": ""
            },
            "type": "contourcarpet"
           }
          ],
          "heatmap": [
           {
            "colorbar": {
             "outlinewidth": 0,
             "ticks": ""
            },
            "colorscale": [
             [
              0,
              "#0d0887"
             ],
             [
              0.1111111111111111,
              "#46039f"
             ],
             [
              0.2222222222222222,
              "#7201a8"
             ],
             [
              0.3333333333333333,
              "#9c179e"
             ],
             [
              0.4444444444444444,
              "#bd3786"
             ],
             [
              0.5555555555555556,
              "#d8576b"
             ],
             [
              0.6666666666666666,
              "#ed7953"
             ],
             [
              0.7777777777777778,
              "#fb9f3a"
             ],
             [
              0.8888888888888888,
              "#fdca26"
             ],
             [
              1,
              "#f0f921"
             ]
            ],
            "type": "heatmap"
           }
          ],
          "heatmapgl": [
           {
            "colorbar": {
             "outlinewidth": 0,
             "ticks": ""
            },
            "colorscale": [
             [
              0,
              "#0d0887"
             ],
             [
              0.1111111111111111,
              "#46039f"
             ],
             [
              0.2222222222222222,
              "#7201a8"
             ],
             [
              0.3333333333333333,
              "#9c179e"
             ],
             [
              0.4444444444444444,
              "#bd3786"
             ],
             [
              0.5555555555555556,
              "#d8576b"
             ],
             [
              0.6666666666666666,
              "#ed7953"
             ],
             [
              0.7777777777777778,
              "#fb9f3a"
             ],
             [
              0.8888888888888888,
              "#fdca26"
             ],
             [
              1,
              "#f0f921"
             ]
            ],
            "type": "heatmapgl"
           }
          ],
          "histogram": [
           {
            "marker": {
             "colorbar": {
              "outlinewidth": 0,
              "ticks": ""
             }
            },
            "type": "histogram"
           }
          ],
          "histogram2d": [
           {
            "colorbar": {
             "outlinewidth": 0,
             "ticks": ""
            },
            "colorscale": [
             [
              0,
              "#0d0887"
             ],
             [
              0.1111111111111111,
              "#46039f"
             ],
             [
              0.2222222222222222,
              "#7201a8"
             ],
             [
              0.3333333333333333,
              "#9c179e"
             ],
             [
              0.4444444444444444,
              "#bd3786"
             ],
             [
              0.5555555555555556,
              "#d8576b"
             ],
             [
              0.6666666666666666,
              "#ed7953"
             ],
             [
              0.7777777777777778,
              "#fb9f3a"
             ],
             [
              0.8888888888888888,
              "#fdca26"
             ],
             [
              1,
              "#f0f921"
             ]
            ],
            "type": "histogram2d"
           }
          ],
          "histogram2dcontour": [
           {
            "colorbar": {
             "outlinewidth": 0,
             "ticks": ""
            },
            "colorscale": [
             [
              0,
              "#0d0887"
             ],
             [
              0.1111111111111111,
              "#46039f"
             ],
             [
              0.2222222222222222,
              "#7201a8"
             ],
             [
              0.3333333333333333,
              "#9c179e"
             ],
             [
              0.4444444444444444,
              "#bd3786"
             ],
             [
              0.5555555555555556,
              "#d8576b"
             ],
             [
              0.6666666666666666,
              "#ed7953"
             ],
             [
              0.7777777777777778,
              "#fb9f3a"
             ],
             [
              0.8888888888888888,
              "#fdca26"
             ],
             [
              1,
              "#f0f921"
             ]
            ],
            "type": "histogram2dcontour"
           }
          ],
          "mesh3d": [
           {
            "colorbar": {
             "outlinewidth": 0,
             "ticks": ""
            },
            "type": "mesh3d"
           }
          ],
          "parcoords": [
           {
            "line": {
             "colorbar": {
              "outlinewidth": 0,
              "ticks": ""
             }
            },
            "type": "parcoords"
           }
          ],
          "scatter": [
           {
            "marker": {
             "colorbar": {
              "outlinewidth": 0,
              "ticks": ""
             }
            },
            "type": "scatter"
           }
          ],
          "scatter3d": [
           {
            "line": {
             "colorbar": {
              "outlinewidth": 0,
              "ticks": ""
             }
            },
            "marker": {
             "colorbar": {
              "outlinewidth": 0,
              "ticks": ""
             }
            },
            "type": "scatter3d"
           }
          ],
          "scattercarpet": [
           {
            "marker": {
             "colorbar": {
              "outlinewidth": 0,
              "ticks": ""
             }
            },
            "type": "scattercarpet"
           }
          ],
          "scattergeo": [
           {
            "marker": {
             "colorbar": {
              "outlinewidth": 0,
              "ticks": ""
             }
            },
            "type": "scattergeo"
           }
          ],
          "scattergl": [
           {
            "marker": {
             "colorbar": {
              "outlinewidth": 0,
              "ticks": ""
             }
            },
            "type": "scattergl"
           }
          ],
          "scattermapbox": [
           {
            "marker": {
             "colorbar": {
              "outlinewidth": 0,
              "ticks": ""
             }
            },
            "type": "scattermapbox"
           }
          ],
          "scatterpolar": [
           {
            "marker": {
             "colorbar": {
              "outlinewidth": 0,
              "ticks": ""
             }
            },
            "type": "scatterpolar"
           }
          ],
          "scatterpolargl": [
           {
            "marker": {
             "colorbar": {
              "outlinewidth": 0,
              "ticks": ""
             }
            },
            "type": "scatterpolargl"
           }
          ],
          "scatterternary": [
           {
            "marker": {
             "colorbar": {
              "outlinewidth": 0,
              "ticks": ""
             }
            },
            "type": "scatterternary"
           }
          ],
          "surface": [
           {
            "colorbar": {
             "outlinewidth": 0,
             "ticks": ""
            },
            "colorscale": [
             [
              0,
              "#0d0887"
             ],
             [
              0.1111111111111111,
              "#46039f"
             ],
             [
              0.2222222222222222,
              "#7201a8"
             ],
             [
              0.3333333333333333,
              "#9c179e"
             ],
             [
              0.4444444444444444,
              "#bd3786"
             ],
             [
              0.5555555555555556,
              "#d8576b"
             ],
             [
              0.6666666666666666,
              "#ed7953"
             ],
             [
              0.7777777777777778,
              "#fb9f3a"
             ],
             [
              0.8888888888888888,
              "#fdca26"
             ],
             [
              1,
              "#f0f921"
             ]
            ],
            "type": "surface"
           }
          ],
          "table": [
           {
            "cells": {
             "fill": {
              "color": "#EBF0F8"
             },
             "line": {
              "color": "white"
             }
            },
            "header": {
             "fill": {
              "color": "#C8D4E3"
             },
             "line": {
              "color": "white"
             }
            },
            "type": "table"
           }
          ]
         },
         "layout": {
          "annotationdefaults": {
           "arrowcolor": "#2a3f5f",
           "arrowhead": 0,
           "arrowwidth": 1
          },
          "colorscale": {
           "diverging": [
            [
             0,
             "#8e0152"
            ],
            [
             0.1,
             "#c51b7d"
            ],
            [
             0.2,
             "#de77ae"
            ],
            [
             0.3,
             "#f1b6da"
            ],
            [
             0.4,
             "#fde0ef"
            ],
            [
             0.5,
             "#f7f7f7"
            ],
            [
             0.6,
             "#e6f5d0"
            ],
            [
             0.7,
             "#b8e186"
            ],
            [
             0.8,
             "#7fbc41"
            ],
            [
             0.9,
             "#4d9221"
            ],
            [
             1,
             "#276419"
            ]
           ],
           "sequential": [
            [
             0,
             "#0d0887"
            ],
            [
             0.1111111111111111,
             "#46039f"
            ],
            [
             0.2222222222222222,
             "#7201a8"
            ],
            [
             0.3333333333333333,
             "#9c179e"
            ],
            [
             0.4444444444444444,
             "#bd3786"
            ],
            [
             0.5555555555555556,
             "#d8576b"
            ],
            [
             0.6666666666666666,
             "#ed7953"
            ],
            [
             0.7777777777777778,
             "#fb9f3a"
            ],
            [
             0.8888888888888888,
             "#fdca26"
            ],
            [
             1,
             "#f0f921"
            ]
           ],
           "sequentialminus": [
            [
             0,
             "#0d0887"
            ],
            [
             0.1111111111111111,
             "#46039f"
            ],
            [
             0.2222222222222222,
             "#7201a8"
            ],
            [
             0.3333333333333333,
             "#9c179e"
            ],
            [
             0.4444444444444444,
             "#bd3786"
            ],
            [
             0.5555555555555556,
             "#d8576b"
            ],
            [
             0.6666666666666666,
             "#ed7953"
            ],
            [
             0.7777777777777778,
             "#fb9f3a"
            ],
            [
             0.8888888888888888,
             "#fdca26"
            ],
            [
             1,
             "#f0f921"
            ]
           ]
          },
          "colorway": [
           "#636efa",
           "#EF553B",
           "#00cc96",
           "#ab63fa",
           "#FFA15A",
           "#19d3f3",
           "#FF6692",
           "#B6E880",
           "#FF97FF",
           "#FECB52"
          ],
          "font": {
           "color": "#2a3f5f"
          },
          "geo": {
           "bgcolor": "white",
           "lakecolor": "white",
           "landcolor": "#E5ECF6",
           "showlakes": true,
           "showland": true,
           "subunitcolor": "white"
          },
          "hoverlabel": {
           "align": "left"
          },
          "hovermode": "closest",
          "mapbox": {
           "style": "light"
          },
          "paper_bgcolor": "white",
          "plot_bgcolor": "#E5ECF6",
          "polar": {
           "angularaxis": {
            "gridcolor": "white",
            "linecolor": "white",
            "ticks": ""
           },
           "bgcolor": "#E5ECF6",
           "radialaxis": {
            "gridcolor": "white",
            "linecolor": "white",
            "ticks": ""
           }
          },
          "scene": {
           "xaxis": {
            "backgroundcolor": "#E5ECF6",
            "gridcolor": "white",
            "gridwidth": 2,
            "linecolor": "white",
            "showbackground": true,
            "ticks": "",
            "zerolinecolor": "white"
           },
           "yaxis": {
            "backgroundcolor": "#E5ECF6",
            "gridcolor": "white",
            "gridwidth": 2,
            "linecolor": "white",
            "showbackground": true,
            "ticks": "",
            "zerolinecolor": "white"
           },
           "zaxis": {
            "backgroundcolor": "#E5ECF6",
            "gridcolor": "white",
            "gridwidth": 2,
            "linecolor": "white",
            "showbackground": true,
            "ticks": "",
            "zerolinecolor": "white"
           }
          },
          "shapedefaults": {
           "line": {
            "color": "#2a3f5f"
           }
          },
          "ternary": {
           "aaxis": {
            "gridcolor": "white",
            "linecolor": "white",
            "ticks": ""
           },
           "baxis": {
            "gridcolor": "white",
            "linecolor": "white",
            "ticks": ""
           },
           "bgcolor": "#E5ECF6",
           "caxis": {
            "gridcolor": "white",
            "linecolor": "white",
            "ticks": ""
           }
          },
          "title": {
           "x": 0.05
          },
          "xaxis": {
           "automargin": true,
           "gridcolor": "white",
           "linecolor": "white",
           "ticks": "",
           "zerolinecolor": "white",
           "zerolinewidth": 2
          },
          "yaxis": {
           "automargin": true,
           "gridcolor": "white",
           "linecolor": "white",
           "ticks": "",
           "zerolinecolor": "white",
           "zerolinewidth": 2
          }
         }
        },
        "title": {
         "text": "Hartree-Fock Energy VS Bond Distance"
        },
        "xaxis": {
         "title": {
          "text": "Bond Distance in Bohr Units Radius"
         }
        },
        "yaxis": {
         "title": {
          "text": "Energy in Hartrees"
         }
        }
       }
      },
      "text/html": [
       "<div>\n",
       "        \n",
       "        \n",
       "            <div id=\"aca777bd-6654-41f6-ba2a-0eaedf34eaee\" class=\"plotly-graph-div\" style=\"height:525px; width:100%;\"></div>\n",
       "            <script type=\"text/javascript\">\n",
       "                require([\"plotly\"], function(Plotly) {\n",
       "                    window.PLOTLYENV=window.PLOTLYENV || {};\n",
       "                    \n",
       "                if (document.getElementById(\"aca777bd-6654-41f6-ba2a-0eaedf34eaee\")) {\n",
       "                    Plotly.newPlot(\n",
       "                        'aca777bd-6654-41f6-ba2a-0eaedf34eaee',\n",
       "                        [{\"connectgaps\": false, \"marker\": {\"color\": \"blue\"}, \"mode\": \"markers\", \"name\": \"Hartree-Fock Computed\", \"type\": \"scatter\", \"x\": [1.0, 1.1, 1.2, 1.3, 1.4, 1.5, 1.6, 1.7000000000000002, 1.8, 1.9, 2.0, 2.1, 2.2, 2.3, 2.4000000000000004, 2.5, 2.6, 2.7, 2.8, 2.9000000000000004, 3.0, 3.1, 3.2, 3.3000000000000003, 3.4000000000000004, 3.5, 3.6, 3.7, 3.8000000000000003, 3.9000000000000004, 4.0, 4.1, 4.2, 4.300000000000001, 4.4, 4.5, 4.6, 4.7, 4.800000000000001, 4.9, 5.0], \"y\": [-1.0668470688525558, -1.095685092880128, -1.1128084561601423, -1.1216474510997267, -1.124568904327794, -1.1232385643643283, -1.1188506533793472, -1.1122759676516356, -1.104158376553818, -1.0949785473198972, -1.0850970382091458, -1.0747844404245817, -1.0642432497665186, -1.0536242227128731, -1.043038822565821, -1.032568734137342, -1.0222731099757434, -1.012194054145989, -1.0023607565083088, -0.9927926151222992, -0.9835016124597793, -0.9744941437545108, -0.9657724383334194, -0.9573356706442846, -0.9491808271103469, -0.9413033756382084, -0.9336977733214199, -0.9263578415138383, -0.9192770336269795, -0.9124486182186264, -0.905865797380554, -0.8995217777832858, -0.8934098089597113, -0.8875232006033196, -0.8818553279557741, -0.8763996318854056, -0.8711496181024532, -0.8660988581693961, -0.8612409935609242, -0.8565697429948607, -0.852078912558593]}, {\"marker\": {\"color\": \"red\"}, \"name\": \"Optimal Bond Distance\", \"type\": \"scatter\", \"x\": [1.4], \"y\": [-1.124568904327794]}, {\"connectgaps\": false, \"marker\": {\"color\": \"green\"}, \"name\": \"Morse Potential Approximation\", \"type\": \"scatter\", \"x\": [-0.01, 0.0, 0.01, 0.02, 0.03, 0.04, 0.05, 0.06, 0.07, 0.08, 0.09, 0.1, 0.11, 0.12, 0.13, 0.14, 0.15, 0.16, 0.17, 0.18, 0.19, 0.2, 0.21, 0.22, 0.23, 0.24, 0.25, 0.26, 0.27, 0.28, 0.29, 0.3, 0.31, 0.32, 0.33, 0.34, 0.35000000000000003, 0.36, 0.37, 0.38, 0.39, 0.4, 0.41000000000000003, 0.42, 0.43, 0.44, 0.45, 0.46, 0.47000000000000003, 0.48, 0.49, 0.5, 0.51, 0.52, 0.53, 0.54, 0.55, 0.56, 0.5700000000000001, 0.58, 0.59, 0.6, 0.61, 0.62, 0.63, 0.64, 0.65, 0.66, 0.67, 0.68, 0.6900000000000001, 0.7000000000000001, 0.71, 0.72, 0.73, 0.74, 0.75, 0.76, 0.77, 0.78, 0.79, 0.8, 0.81, 0.8200000000000001, 0.8300000000000001, 0.84, 0.85, 0.86, 0.87, 0.88, 0.89, 0.9, 0.91, 0.92, 0.93, 0.9400000000000001, 0.9500000000000001, 0.96, 0.97, 0.98, 0.99, 1.0, 1.01, 1.02, 1.03, 1.04, 1.05, 1.06, 1.07, 1.08, 1.09, 1.1, 1.11, 1.12, 1.1300000000000001, 1.1400000000000001, 1.1500000000000001, 1.16, 1.17, 1.18, 1.19, 1.2, 1.21, 1.22, 1.23, 1.24, 1.25, 1.26, 1.27, 1.28, 1.29, 1.3, 1.31, 1.32, 1.33, 1.34, 1.35, 1.36, 1.37, 1.3800000000000001, 1.3900000000000001, 1.4000000000000001, 1.41, 1.42, 1.43, 1.44, 1.45, 1.46, 1.47, 1.48, 1.49, 1.5, 1.51, 1.52, 1.53, 1.54, 1.55, 1.56, 1.57, 1.58, 1.59, 1.6, 1.61, 1.62, 1.6300000000000001, 1.6400000000000001, 1.6500000000000001, 1.6600000000000001, 1.67, 1.68, 1.69, 1.7, 1.71, 1.72, 1.73, 1.74, 1.75, 1.76, 1.77, 1.78, 1.79, 1.8, 1.81, 1.82, 1.83, 1.84, 1.85, 1.86, 1.87, 1.8800000000000001, 1.8900000000000001, 1.9000000000000001, 1.9100000000000001, 1.92, 1.93, 1.94, 1.95, 1.96, 1.97, 1.98, 1.99, 2.0, 2.0100000000000002, 2.02, 2.0300000000000002, 2.04, 2.05, 2.06, 2.07, 2.08, 2.09, 2.1, 2.11, 2.12, 2.13, 2.14, 2.15, 2.16, 2.17, 2.18, 2.19, 2.2, 2.21, 2.22, 2.23, 2.24, 2.25, 2.2600000000000002, 2.27, 2.2800000000000002, 2.29, 2.3000000000000003, 2.31, 2.32, 2.33, 2.34, 2.35, 2.36, 2.37, 2.38, 2.39, 2.4, 2.41, 2.42, 2.43, 2.44, 2.45, 2.46, 2.47, 2.48, 2.49, 2.5, 2.5100000000000002, 2.52, 2.5300000000000002, 2.54, 2.5500000000000003, 2.56, 2.57, 2.58, 2.59, 2.6, 2.61, 2.62, 2.63, 2.64, 2.65, 2.66, 2.67, 2.68, 2.69, 2.7, 2.71, 2.72, 2.73, 2.74, 2.75, 2.7600000000000002, 2.77, 2.7800000000000002, 2.79, 2.8000000000000003, 2.81, 2.82, 2.83, 2.84, 2.85, 2.86, 2.87, 2.88, 2.89, 2.9, 2.91, 2.92, 2.93, 2.94, 2.95, 2.96, 2.97, 2.98, 2.99, 3.0, 3.0100000000000002, 3.02, 3.0300000000000002, 3.04, 3.0500000000000003, 3.06, 3.0700000000000003, 3.08, 3.09, 3.1, 3.11, 3.12, 3.13, 3.14, 3.15, 3.16, 3.17, 3.18, 3.19, 3.2, 3.21, 3.22, 3.23, 3.24, 3.25, 3.2600000000000002, 3.27, 3.2800000000000002, 3.29, 3.3000000000000003, 3.31, 3.3200000000000003, 3.33, 3.34, 3.35, 3.36, 3.37, 3.38, 3.39, 3.4, 3.41, 3.42, 3.43, 3.44, 3.45, 3.46, 3.47, 3.48, 3.49, 3.5, 3.5100000000000002, 3.52, 3.5300000000000002, 3.54, 3.5500000000000003, 3.56, 3.5700000000000003, 3.58, 3.59, 3.6, 3.61, 3.62, 3.63, 3.64, 3.65, 3.66, 3.67, 3.68, 3.69, 3.7, 3.71, 3.72, 3.73, 3.74, 3.75, 3.7600000000000002, 3.77, 3.7800000000000002, 3.79, 3.8000000000000003, 3.81, 3.8200000000000003, 3.83, 3.84, 3.85, 3.86, 3.87, 3.88, 3.89, 3.9, 3.91, 3.92, 3.93, 3.94, 3.95, 3.96, 3.97, 3.98, 3.99, 4.0, 4.01, 4.0200000000000005, 4.03, 4.04, 4.05, 4.0600000000000005, 4.07, 4.08, 4.09, 4.1, 4.11, 4.12, 4.13, 4.14, 4.15, 4.16, 4.17, 4.18, 4.19, 4.2, 4.21, 4.22, 4.23, 4.24, 4.25, 4.26, 4.2700000000000005, 4.28, 4.29, 4.3, 4.3100000000000005, 4.32, 4.33, 4.34, 4.3500000000000005, 4.36, 4.37, 4.38, 4.39, 4.4, 4.41, 4.42, 4.43, 4.44, 4.45, 4.46, 4.47, 4.48, 4.49, 4.5, 4.51, 4.5200000000000005, 4.53, 4.54, 4.55, 4.5600000000000005, 4.57, 4.58, 4.59, 4.6000000000000005, 4.61, 4.62, 4.63, 4.64, 4.65, 4.66, 4.67, 4.68, 4.69, 4.7, 4.71, 4.72, 4.73, 4.74, 4.75, 4.76, 4.7700000000000005, 4.78, 4.79, 4.8, 4.8100000000000005, 4.82, 4.83, 4.84, 4.8500000000000005, 4.86, 4.87, 4.88, 4.89, 4.9, 4.91, 4.92, 4.93, 4.94, 4.95, 4.96, 4.97, 4.98, 4.99, 5.0, 5.01, 5.0200000000000005, 5.03, 5.04, 5.05, 5.0600000000000005, 5.07, 5.08, 5.09, 5.1000000000000005, 5.11, 5.12, 5.13, 5.14, 5.15, 5.16, 5.17, 5.18, 5.19, 5.2, 5.21, 5.22, 5.23, 5.24, 5.25, 5.26, 5.2700000000000005, 5.28, 5.29, 5.3, 5.3100000000000005, 5.32, 5.33, 5.34, 5.3500000000000005, 5.36, 5.37, 5.38, 5.39, 5.4, 5.41, 5.42, 5.43, 5.44, 5.45, 5.46, 5.47, 5.48, 5.49, 5.5, 5.51, 5.5200000000000005, 5.53, 5.54, 5.55, 5.5600000000000005, 5.57, 5.58, 5.59, 5.6000000000000005, 5.61, 5.62, 5.63, 5.64, 5.65, 5.66, 5.67, 5.68, 5.69, 5.7, 5.71, 5.72, 5.73, 5.74, 5.75, 5.76, 5.7700000000000005, 5.78, 5.79, 5.8, 5.8100000000000005, 5.82, 5.83, 5.84, 5.8500000000000005, 5.86, 5.87, 5.88, 5.89, 5.9, 5.91, 5.92, 5.93, 5.94, 5.95, 5.96, 5.97, 5.98, 5.99, 6.0, 6.01, 6.0200000000000005, 6.03, 6.04, 6.05, 6.0600000000000005, 6.07, 6.08, 6.09, 6.1000000000000005, 6.11, 6.12, 6.13, 6.140000000000001, 6.15, 6.16, 6.17, 6.18, 6.19, 6.2, 6.21, 6.22, 6.23, 6.24, 6.25, 6.26, 6.2700000000000005, 6.28, 6.29, 6.3, 6.3100000000000005, 6.32, 6.33, 6.34, 6.3500000000000005, 6.36, 6.37, 6.38, 6.390000000000001, 6.4, 6.41, 6.42, 6.43, 6.44, 6.45, 6.46, 6.47, 6.48, 6.49, 6.5, 6.51, 6.5200000000000005, 6.53, 6.54, 6.55, 6.5600000000000005, 6.57, 6.58, 6.59, 6.6000000000000005, 6.61, 6.62, 6.63, 6.640000000000001, 6.65, 6.66, 6.67, 6.68, 6.69, 6.7, 6.71, 6.72, 6.73, 6.74, 6.75, 6.76, 6.7700000000000005, 6.78, 6.79, 6.8, 6.8100000000000005, 6.82, 6.83, 6.84, 6.8500000000000005, 6.86, 6.87, 6.88, 6.890000000000001, 6.9, 6.91, 6.92, 6.93, 6.94, 6.95, 6.96, 6.97, 6.98, 6.99, 7.0, 7.01, 7.0200000000000005, 7.03, 7.04, 7.05, 7.0600000000000005, 7.07, 7.08, 7.09, 7.1000000000000005, 7.11, 7.12, 7.13, 7.140000000000001, 7.15, 7.16, 7.17, 7.18, 7.19, 7.2, 7.21, 7.22, 7.23, 7.24, 7.25, 7.26, 7.2700000000000005, 7.28, 7.29, 7.3, 7.3100000000000005, 7.32, 7.33, 7.34, 7.3500000000000005, 7.36, 7.37, 7.38, 7.390000000000001, 7.4, 7.41, 7.42, 7.43, 7.44, 7.45, 7.46, 7.47, 7.48, 7.49, 7.5, 7.51, 7.5200000000000005, 7.53, 7.54, 7.55, 7.5600000000000005, 7.57, 7.58, 7.59, 7.6000000000000005, 7.61, 7.62, 7.63, 7.640000000000001, 7.65, 7.66, 7.67, 7.68, 7.69, 7.7, 7.71, 7.72, 7.73, 7.74, 7.75, 7.76, 7.7700000000000005, 7.78, 7.79, 7.8, 7.8100000000000005, 7.82, 7.83, 7.84, 7.8500000000000005, 7.86, 7.87, 7.88, 7.890000000000001, 7.9, 7.91, 7.92, 7.930000000000001, 7.94, 7.95, 7.96, 7.97, 7.98, 7.99, 8.0, 8.01, 8.02, 8.03, 8.040000000000001, 8.05, 8.06, 8.07, 8.08, 8.09, 8.1, 8.11, 8.120000000000001, 8.13, 8.14, 8.15, 8.16, 8.17, 8.18, 8.19, 8.2, 8.21, 8.22, 8.23, 8.24, 8.25, 8.26, 8.27, 8.28, 8.290000000000001, 8.3, 8.31, 8.32, 8.33, 8.34, 8.35, 8.36, 8.370000000000001, 8.38, 8.39, 8.4, 8.41, 8.42, 8.43, 8.44, 8.45, 8.46, 8.47, 8.48, 8.49, 8.5, 8.51, 8.52, 8.53, 8.540000000000001, 8.55, 8.56, 8.57, 8.58, 8.59, 8.6, 8.61, 8.620000000000001, 8.63, 8.64, 8.65, 8.66, 8.67, 8.68, 8.69, 8.700000000000001, 8.71, 8.72, 8.73, 8.74, 8.75, 8.76, 8.77, 8.78, 8.790000000000001, 8.8, 8.81, 8.82, 8.83, 8.84, 8.85, 8.86, 8.870000000000001, 8.88, 8.89, 8.9, 8.91, 8.92, 8.93, 8.94, 8.950000000000001, 8.96, 8.97, 8.98, 8.99, 9.0, 9.01, 9.02, 9.03, 9.040000000000001, 9.05, 9.06, 9.07, 9.08, 9.09, 9.1, 9.11, 9.120000000000001, 9.13, 9.14, 9.15, 9.16, 9.17, 9.18, 9.19, 9.200000000000001, 9.21, 9.22, 9.23, 9.24, 9.25, 9.26, 9.27, 9.28, 9.290000000000001, 9.3, 9.31, 9.32, 9.33, 9.34, 9.35, 9.36, 9.370000000000001, 9.38, 9.39, 9.4, 9.41, 9.42, 9.43, 9.44, 9.450000000000001, 9.46, 9.47, 9.48, 9.49, 9.5, 9.51, 9.52, 9.53, 9.540000000000001, 9.55, 9.56, 9.57, 9.58, 9.59, 9.6, 9.61, 9.620000000000001, 9.63, 9.64, 9.65, 9.66, 9.67, 9.68, 9.69, 9.700000000000001, 9.71, 9.72, 9.73, 9.74, 9.75, 9.76, 9.77, 9.78, 9.790000000000001, 9.8, 9.81, 9.82, 9.83, 9.84, 9.85, 9.86, 9.870000000000001, 9.88, 9.89, 9.9, 9.91, 9.92, 9.93, 9.94, 9.950000000000001, 9.96, 9.97, 9.98, 9.99], \"y\": [1.0183296820695429, 0.9962301202322185, 0.974525664507254, 0.9532101819611878, 0.9322776297381594, 0.9117220537693203, 0.8915375875005123, 0.8717184506379642, 0.8522589479117566, 0.8331534678567932, 0.8143964816110412, 0.7959825417307957, 0.7779062810227282, 0.7601624113924784, 0.7427457227095668, 0.7256510816883845, 0.7088734307850479, 0.692407787109883, 0.6762492413553266, 0.6603929567390241, 0.6448341679619104, 0.6295681801810648, 0.6145903679971273, 0.5998961744560752, 0.5854811100651561, 0.5713407518227799, 0.5574707422621681, 0.5438667885085718, 0.5305246613498649, 0.517440194320325, 0.5046092827974137, 0.492027883111376, 0.4796920116674782, 0.4675977440807012, 0.45574121432272263, 0.4441186138810047, 0.4327261909298252, 0.42156024951307747, 0.4106171487386766, 0.39989330198440876, 0.3893851761150591, 0.37908929071066266, 0.3690022173057187, 0.3591205786392162, 0.34944104791531516, 0.3399603480745378, 0.33067525107531703, 0.32158257718575833, 0.3126791942854693, 0.3039620171773194, 0.2954280069089825, 0.2870741701041324, 0.27889755830314644, 0.27089526731319125, 0.2630644365675532, 0.25540224849408455, 0.24790592789263588, 0.24057274132135098, 0.2333999964916933, 0.2263850416720885, 0.2195252651000532, 0.2128180944026976, 0.20626099602547743, 0.1998514746690847, 0.19358707273435594, 0.18746536977509187, 0.18148398195866966, 0.1756405615343435, 0.1699327963091214, 0.16435840913111233, 0.15891515738023942, 0.1536008324662128, 0.14841325933366023, 0.14335029597431692, 0.13840983294617126, 0.13358979289946982, 0.12888813010948508, 0.12430283001594977, 0.11983190876906336, 0.11547341278197898, 0.11122541828967658, 0.1070860309141366, 0.10305338523571983, 0.0991256443706694, 0.09530099955464766, 0.09157766973222059, 0.08795390115220902, 0.0844279669688206, 0.08099816684848338, 0.0776628265822974, 0.07442029770402736, 0.07126895711355852, 0.06820720670573421, 0.065233473004505, 0.062346206802307735, 0.059543882804608206, 0.056824999279525557, 0.05418807771247369, 0.051631662465746464, 0.04915432044297385, 0.04675464075838476, 0.044431234410804876, 0.0421827339623253, 0.040007793221572774, 0.037905086931518284, 0.035873310461761676, 0.03391117950522338, 0.03201742977918598, 0.030190816730623515, 0.028430115245752674, 0.026734119363753805, 0.025101641994596857, 0.02353151464091585, 0.022022587123874837, 0.020573727312969137, 0.01918382085970549, 0.017851770935104927, 0.016576497970977044, 0.015356939404909564, 0.014192049428922493, 0.013080798741732291, 0.01202217430457897, 0.01101517910056149, 0.01005883189743284, 0.009152167013808832, 0.008294234088736863, 0.007484097854582039, 0.006720837913178679, 0.006003548515207013, 0.005331338342741798, 0.004703330294936192, 0.004118661276787172, 0.0035764819909489542, 0.0030759567325402415, 0.0026162631869133257, 0.0021965922303350816, 0.001816147733541662, 0.0014741463681275935, 0.001169817415725305, 0.0009024025799382329, 0.000671155800988199, 0.00047534307303664924, 0.00031424226414444867, 0.00018714293882959865, 9.334618318912469e-05, 3.216443254649981e-05, 2.921301589298153e-06, 4.951416962217792e-06, 3.760025227994568e-05, 0.00010022396552566981, 0.00019218923880037764, 0.00031287312039296467, 0.00046166286913162935, 0.0006379558009921293, 0.0008411591379238192, 0.0010706898588661584, 0.001325974552922382, 0.001606449274661248, 0.001911559401515106, 0.0022407594932454256, 0.002593513153444915, 0.002969292893050701, 0.0033675799958339248, 0.0037878643858448857, 0.004229644496779761, 0.004692427143244693, 0.0051757273938897175, 0.00567906844638455, 0.006201981504213139, 0.0067440056552561245, 0.007304687752141659, 0.007883582294333058, 0.008480251311935083, 0.009094264251187534, 0.00972519786162862, 0.010372636084899245, 0.011036169945167096, 0.011715397441148134, 0.012409923439699933, 0.01311935957096777, 0.013843324125058176, 0.014581441950220597, 0.015333344352514544, 0.01609866899694068, 0.016877059810015638, 0.01766816688376993, 0.0184716463811474, 0.019287160442788442, 0.02011437709517505, 0.02095297016011921, 0.021802619165575132, 0.022663009257757327, 0.023533831114544324, 0.024414780860150476, 0.025305559981047887, 0.02620587524312068, 0.027115438610032072, 0.028033967162790496, 0.02896118302049433, 0.029896813262239474, 0.030840589850173794, 0.03179224955368043, 0.03275153387467733, 0.03371818897401013, 0.03469196559893173, 0.03567261901164476, 0.03665990891889814, 0.037653599402616145, 0.0386534588515528, 0.03965925989395047, 0.04067077933119001, 0.04168779807242129, 0.042710101070155826, 0.043737477256809765, 0.044769719482183, 0.04580662445186312, 0.046847992666536165, 0.04789362836219624, 0.04894333945123819, 0.049996937464421576, 0.05105423749369198, 0.052115058135851156, 0.05317922143705811, 0.054246552838154605, 0.055316881120799355, 0.05639003835440248, 0.05746585984384467, 0.05854418407797479, 0.05962485267886941, 0.0607077103518483, 0.061792604836230725, 0.06287938685682515, 0.06396791007613944, 0.06505803104730346, 0.06614960916768986, 0.06724250663322939, 0.06833658839340306, 0.06943172210690851, 0.0705277780979856, 0.07162462931339442, 0.07272215128003534, 0.07382022206320293, 0.07491872222546236, 0.0760175347861427, 0.07711654518143352, 0.07821564122508162, 0.07931471306967408, 0.08041365316850313, 0.08151235623800157, 0.0826107192207417, 0.08370864124899091, 0.08480602360881262, 0.08590276970470767, 0.08699878502478753, 0.08809397710647082, 0.08918825550269505, 0.09028153174863984, 0.09137371932894922, 0.09246473364544805, 0.09355449198534793, 0.09464291348992893, 0.09572991912369866, 0.09681543164401374, 0.09789937557116324, 0.09898167715890316, 0.10006226436543741, 0.10114106682483892, 0.10221801581890277, 0.10329304424942776, 0.10436608661091729, 0.10543707896369581, 0.1065059589074333, 0.10757266555507239, 0.10863713950715193, 0.10969932282652262, 0.11075915901344713, 0.11181659298107904, 0.11287157103131795, 0.1139240408310318, 0.11497395138864186, 0.11602125303106847, 0.11706589738102591, 0.11810783733466801, 0.11914702703957425, 0.12018342187307529, 0.12121697842090817, 0.12224765445620323, 0.1232754089187903, 0.12430020189482538, 0.1253219945967302, 0.12634074934344075, 0.12735642954096016, 0.12836899966321214, 0.1293784252331892, 0.13038467280439325, 0.13138770994256177, 0.1323875052076785, 0.13338402813626127, 0.13437724922392513, 0.13536713990821614, 0.1363536725517117, 0.13733682042538253, 0.13831655769221496, 0.1392928593910876, 0.14026570142089834, 0.1412350605249405, 0.14220091427552184, 0.14316324105882394, 0.14412202005999863, 0.14507723124849758, 0.14602885536363197, 0.14697687390035796, 0.14792126909528602, 0.14886202391290948, 0.14979912203205026, 0.15073254783251744, 0.1516622863819762, 0.15258832342302397, 0.15351064536047043, 0.15442923924881935, 0.15534409277994676, 0.15625519427097645, 0.1571625326523456, 0.15806609745606115, 0.1589658788041427, 0.1598618673972484, 0.16075405450348246, 0.16164243194738137, 0.16252699209907484, 0.16340772786362123, 0.1642846326705122, 0.16515770046334666, 0.1660269256896687, 0.1668923032909705, 0.16775382869285405, 0.16861149779535223, 0.16946530696340534, 0.1703152530174914, 0.17116133322440719, 0.17200354528819917, 0.1728418873412405, 0.17367635793545244, 0.1745069560336694, 0.1753336810011421, 0.176156532597182, 0.17697551096693842, 0.17779061663331253, 0.17860185048900168, 0.17940921378867447, 0.18021270814127466, 0.18101233550244933, 0.18180809816710353, 0.182599998762076, 0.18338804023893585, 0.18417222586689852, 0.18495255922585752, 0.18572904419953307, 0.18650168496873254, 0.1872704860047245, 0.18803545206272043, 0.18879658817546763, 0.18955389964694724, 0.1903073920461772, 0.19105707120111992, 0.19180294319269153, 0.19254501434887117, 0.19328329123891008, 0.19401778066763697, 0.1947484896698608, 0.19547542550486652, 0.1961985956510055, 0.19691800780037627, 0.1976336698535962, 0.19834558991466222, 0.19905377628589827, 0.19975823746298993, 0.2004589821301036, 0.20115601915508863, 0.20184935758476263, 0.20253900664027769, 0.20322497571256615, 0.2039072743578645, 0.20458591229331635, 0.20526089939264947, 0.20593224568192892, 0.20659996133538505, 0.20726405667131198, 0.20792454214803968, 0.20858142835997528, 0.20923472603371507, 0.20988444602422351, 0.21053059931108065, 0.21117319699479498, 0.2118122502931825, 0.21244777053780872, 0.21307976917049531, 0.213708257739888, 0.21433324789808617, 0.21495475139733267, 0.2155727800867634, 0.21618734590921496, 0.21679846089808996, 0.21740613717427903, 0.2180103869431389, 0.21861122249152487, 0.21920865618487817, 0.21980270046436523, 0.22039336784407138, 0.22098067090824325, 0.22156462230858498, 0.22214523476160264, 0.22272252104599766, 0.22329649400010976, 0.22386716651940697, 0.22443455155402203, 0.224998662106336, 0.22555951122860696, 0.22611711202064222, 0.2266714776275165, 0.2272226212373324, 0.2277705560790232, 0.22831529542019813, 0.22885685256502875, 0.22939524085217622, 0.22993047365275832, 0.23046256436835488, 0.23099152642905452, 0.23151737329153632, 0.2320401184371914, 0.23255977537027983, 0.23307635761612533, 0.2335898787193441, 0.2341003522421098, 0.23460779176245283, 0.23511221087259382, 0.2356136231773105, 0.23611204229233684, 0.2366074818427959, 0.23709995546166374, 0.23758947678826425, 0.23807605946679633, 0.23855971714488966, 0.23904046347219154, 0.2395183120989829, 0.23999327667482262, 0.24046537084722108, 0.2409346082603412, 0.24140100255372698, 0.241864567361059, 0.2423253163089376, 0.24278326301568998, 0.24323842109020577, 0.2436908041307958, 0.24414042572407668, 0.2445872994438797, 0.2450314388501842, 0.2454728574880738, 0.24591156888671672, 0.24634758655836864, 0.2467809239973977, 0.24721159467933296, 0.24763961205993312, 0.24806498957427703, 0.2484877406358762, 0.24890787863580732, 0.2493254169418645, 0.24974036889773266, 0.2501527478221799, 0.25056256700826984, 0.2509698397225919, 0.25137457920451145, 0.25177679866543756, 0.25217651128810914, 0.25257373022589913, 0.25296846860213495, 0.2533607395094377, 0.25375055600907703, 0.2541379311303432, 0.2545228778699353, 0.25490540919136506, 0.25528553802437726, 0.25566327726438465, 0.25603863977191876, 0.2564116383720947, 0.2567822858540927, 0.25715059497065096, 0.2575165784375757, 0.2578802489332629, 0.25824161909823506, 0.2586007015346905, 0.25895750880606694, 0.25931205343661645, 0.2596643479109946, 0.2600144046738614, 0.2603622361294946, 0.2607078546414152, 0.26105127253202465, 0.26139250208225373, 0.26173155553122274, 0.2620684450759134, 0.26240318287085085, 0.2627357810277976, 0.26306625161545705, 0.2633946066591881, 0.2637208581407299, 0.264045017997936, 0.26436709812451986, 0.2646871103698083, 0.2650050665385053, 0.26532097839046553, 0.26563485764047645, 0.2659467159580491, 0.2662565649672186, 0.26656441624635274, 0.2668702813279692, 0.2671741716985607, 0.2674760987984295, 0.26777607402152803, 0.2680741087153098, 0.26837021418058526, 0.2686644016713877, 0.2689566823948455, 0.269247067511061, 0.26953556813299806, 0.2698221953263751, 0.27010696010956636, 0.2703898734535086, 0.2706709462816156, 0.2709501894696982, 0.2712276138458909, 0.2715032301905854, 0.2717770492363696, 0.2720490816679719, 0.27231933812221265, 0.2725878291879613, 0.27285456540609776, 0.27311955726948023, 0.2733828152229192, 0.27364434966315476, 0.2739041709388417, 0.2741622893505362, 0.2744187151506916, 0.2746734585436553, 0.2749265296856731, 0.2751779386848965, 0.27542769560139524, 0.27567581044717493, 0.27592229318619743, 0.27616715373440726, 0.2764104019597613, 0.2766520476822618, 0.2768921006739954, 0.2771305706591747, 0.27736746731418327, 0.27760280026762585, 0.27783657910038095, 0.2780688133456576, 0.2782995124890555, 0.27852868596862845, 0.2787563431749518, 0.27898249345119175, 0.27920714609317965, 0.27943031034948773, 0.27965199542150887, 0.2798722104635396, 0.28009096458286487, 0.28030826683984655, 0.28052412624801426, 0.2807385517741595, 0.2809515523384317, 0.28116313681443716, 0.2813733140293404, 0.2815820927639685, 0.2817894817529165, 0.2819954896846568, 0.28220012520164983, 0.28240339690045624, 0.28260531333185346, 0.282805883000952, 0.2830051143673151, 0.2832030158450798, 0.28339959580308083, 0.2835948625649747, 0.28378882440936737, 0.28398148956994285, 0.28417286623559335, 0.2843629625505515, 0.2845517866145242, 0.28473934648282784, 0.28492565016652505, 0.285110705632563, 0.2852945208039137, 0.285477103559714, 0.28565846173540954, 0.28583860312289744, 0.2860175354706722, 0.2861952664839713, 0.28637180382492344, 0.2865471551126967, 0.2867213279236487, 0.286894329791477, 0.28706616820737163, 0.2872368506201678, 0.28740638443649913, 0.28757477702095324, 0.28774203569622725, 0.2879081677432841, 0.2880731804015102, 0.28823708086887356, 0.2883998763020823, 0.2885615738167453, 0.2887221804875313, 0.2888817033483311, 0.2890401493924183, 0.28919752557261247, 0.2893538388014415, 0.2895090959513047, 0.2896633038546379, 0.28981646930407623, 0.28996859905262073, 0.2901196998138027, 0.29026977826184974, 0.2904188410318518, 0.29056689471992825, 0.29071394588339394, 0.29086000104092724, 0.2910050666727373, 0.2911491492207312, 0.29129225508868317, 0.29143439064240206, 0.2915755622098999, 0.2917157760815612, 0.2918550385103107, 0.29199335571178364, 0.29213073386449406, 0.2922671791100041, 0.2924026975530938, 0.2925372952619303, 0.29267097826823685, 0.29280375256746316, 0.29293562411895424, 0.2930665988461202, 0.2931966826366057, 0.29332588134245974, 0.2934542007803045, 0.2935816467315051, 0.29370822494233917, 0.2938339411241653, 0.2939588009535927, 0.29408281007265014, 0.29420597408895466, 0.2943282985758803, 0.29444978907272645, 0.29457045108488655, 0.29469029008401615, 0.29480931150820067, 0.29492752076212303, 0.2950449232172321, 0.29516152421190833, 0.29527732905163284, 0.2953923430091522, 0.2955065713246463, 0.29562001920589387, 0.295732691828439, 0.29584459433575616, 0.2959557318394157, 0.29606610941924916, 0.29617573212351345, 0.2962846049690555, 0.29639273294147606, 0.29650012099529377, 0.2966067740541072, 0.2967126970107593, 0.29681789472749887, 0.2969223720361426, 0.2970261337382374, 0.2971291846052213, 0.2972315293785843, 0.2973331727700288, 0.2974341194616297, 0.29753437410599404, 0.2976339413264202, 0.29773282571705617, 0.29783103184305837, 0.2979285642407491, 0.2980254274177738, 0.2981216258532581, 0.29821716399796405, 0.29831204627444596, 0.298406277077206, 0.29849986077284885, 0.2985928017002364, 0.298685104170641, 0.2987767724678998, 0.29886781084856695, 0.29895822354206625, 0.29904801475084253, 0.29913718865051364, 0.299225749390021, 0.29931370109177946, 0.29940104785182764, 0.29948779373997647, 0.29957394279995864, 0.29965949904957556, 0.2997444664808461, 0.29982884906015284, 0.2999126507283887, 0.29999587540110284, 0.3000785269686459, 0.3001606092963147, 0.30024212622449675, 0.3003230815688136, 0.3004034791202639, 0.3004833226453658, 0.30056261588629907, 0.30064136256104634, 0.3007195663635339, 0.30079723096377176, 0.30087436000799306, 0.3009509571187936, 0.30102702589526986, 0.30110256991315687, 0.30117759272496536, 0.3012520978601192, 0.30132608882508993, 0.3013995691035338, 0.30147254215642594, 0.30154501142219425, 0.30161698031685447, 0.3016884522341414, 0.301759430545643, 0.30182991860093167, 0.30189991972769525, 0.30196943723186864, 0.302038474397763, 0.30210703448819576, 0.3021751207446195, 0.3022427363872504, 0.3023098846151957, 0.3023765686065809, 0.3024427915186767, 0.3025085564880243, 0.3025738666305612, 0.30263872504174605, 0.3027031347966822, 0.30276709895024223, 0.3028306205371899, 0.3028937025723031, 0.3029563480504953, 0.3030185599469374, 0.3030803412171774, 0.30314169479726094, 0.30320262360385075, 0.30326313053434495, 0.30332321846699606, 0.3033828902610276, 0.30344214875675224, 0.3035009967756872, 0.3035594371206709, 0.3036174725759777, 0.3036751059074332, 0.30373233986252735, 0.3037891771705288, 0.3038456205425978, 0.30390167267189794, 0.30395733623370824, 0.3040126138855348, 0.3040675082672206, 0.30412202200105587, 0.30417615769188777, 0.3042299179272292, 0.30428330527736625, 0.30433632229546737, 0.3043889715176894, 0.30444125546328493, 0.30449317663470743, 0.3045447375177174, 0.3045959405814873, 0.30464678827870517, 0.30469728304567956, 0.3047474273024411, 0.3047972234528469, 0.30484667388468134, 0.3048957809697581, 0.3049445470640214, 0.30499297450764584, 0.30504106562513644, 0.3050888227254285, 0.30513624810198525, 0.3051833440328977, 0.30523011278098044, 0.30527655659387065, 0.3053226777041229, 0.3053684783293067, 0.30541396067210136, 0.305459126920391, 0.30550397924735895, 0.3055485198115817, 0.3055927507571229, 0.30563667421362517, 0.30568029229640337, 0.3057236071065358, 0.30576662073095595, 0.30580933524254283, 0.3058517527002119, 0.3058938751490041, 0.3059357046201755, 0.3059772431312857, 0.3060184926862868, 0.30605945527560996, 0.3061001328762535, 0.30614052745186937, 0.30618064095284914, 0.3062204753164097, 0.3062600324666789, 0.30629931431477964, 0.3063383227589147, 0.30637705968444984, 0.30641552696399743, 0.3064537264574989, 0.30649166001230743, 0.3065293294632694, 0.30656673663280554, 0.3066038833309923, 0.30664077135564116, 0.30667740249237985, 0.3067137785147306, 0.30674990118418966, 0.30678577225030534, 0.30682139345075654, 0.3068567665114297, 0.3068918931464961, 0.30692677505848853, 0.30696141393837706, 0.30699581146564525, 0.30702996930836524, 0.307063889123272, 0.307097572555838, 0.30713102124034763, 0.3071642367999696, 0.30719722084683077, 0.30722997498208793, 0.3072625007960008, 0.3072947998680029, 0.30732687376677337, 0.3073587240503073, 0.307390352265986, 0.30742175995064813, 0.3074529486306572, 0.30748391982197276, 0.30751467503021734, 0.30754521575074567, 0.3075755434687124, 0.30760565965913944, 0.30763556578698226, 0.3076652633071979, 0.3076947536648099, 0.3077240382949744, 0.3077531186230458, 0.3077819960646415, 0.30781067202570644, 0.30783914790257727, 0.307867425082046, 0.3078955049414237, 0.30792338884860293, 0.30795107816212086, 0.3079785742312212, 0.308005878395916, 0.3080329919870468, 0.30805991632634655, 0.30808665272649893, 0.30811320249119967, 0.30813956691521627, 0.308165747284447, 0.30819174487598056, 0.3082175609581548, 0.30824319679061474, 0.30826865362437106, 0.30829393270185745, 0.308319035256988, 0.3083439625152147, 0.3083687156935825, 0.3083932960007876, 0.3084177046372314, 0.30844194279507753, 0.3084660116583062, 0.3084899124027689, 0.30851364619624355, 0.3085372141984879, 0.3085606175612937, 0.30858385742854044, 0.3086069349362476, 0.3086298512126281, 0.3086526073781406, 0.3086752045455412, 0.3086976438199358, 0.3087199262988314, 0.3087420530721863, 0.30876402522246216, 0.3087858438246739, 0.30880750994643935, 0.3088290246480301, 0.30885038898241957, 0.30887160399533387, 0.3088926707252989, 0.30891359020369036, 0.308934363454781, 0.30895499149578887, 0.30897547533692515, 0.3089958159814409, 0.3090160144256744, 0.3090360716590981, 0.30905598866436423, 0.3090757664173517, 0.3090954058872112, 0.3091149080364113, 0.3091342738207832, 0.3091535041895658, 0.3091726000854502, 0.3091915624446244, 0.30921039219681656, 0.3092290902653396, 0.3092476575671341, 0.3092660950128119, 0.3092844035066983, 0.3093025839468755, 0.3093206372252244, 0.3093385642274671, 0.309356365833208, 0.3093740429159759, 0.3093915963432653, 0.3094090269765768, 0.30942633567145816, 0.3094435232775451, 0.30946059063860076, 0.3094775385925562, 0.3094943679715496, 0.3095110796019659, 0.3095276743044759, 0.30954415289407533, 0.3095605161801229, 0.3095767649663794, 0.3095929000510451, 0.30960892222679803, 0.3096248322808317, 0.30964063099489225, 0.3096563191453152, 0.30967189750306323, 0.3096873668337621, 0.309702727897737, 0.3097179814500495, 0.30973312824053223, 0.30974816901382585, 0.30976310450941336, 0.3097779354616559, 0.30979266259982785, 0.30980728664815116, 0.30982180832582995, 0.30983622834708524, 0.309850547421188, 0.30986476625249426, 0.3098788855404775, 0.30989290597976327, 0.3099068282601607, 0.30992065306669736, 0.30993438107965043, 0.3099480129745801, 0.3099615494223611, 0.3099749910892158, 0.309988338636745, 0.31000159272196015, 0.31001475399731493, 0.31002782311073585, 0.310040800705654, 0.3100536874210351, 0.3100664838914109, 0.3100791907469088, 0.31009180861328256, 0.3101043381119424, 0.310116779859984, 0.31012913447021906, 0.31014140255120404, 0.31015358470726984, 0.3101656815385503, 0.31017769364101144, 0.31018962160647967, 0.3102014660226706, 0.310213227473217, 0.3102249065376971, 0.3102365037916621, 0.3102480198066644, 0.3102594551502842, 0.3102708103861578, 0.31028208607400376, 0.31029328276965085, 0.31030440102506385, 0.31031544138837064, 0.3103264044038885, 0.3103372906121502, 0.31034810054993045, 0.31035883475027126]}, {\"connectgaps\": false, \"marker\": {\"color\": \"blue\"}, \"name\": \"T0\", \"type\": \"scatter\", \"x\": [1.4543355873106405], \"y\": [0.009759953145013217]}, {\"connectgaps\": false, \"marker\": {\"color\": \"blue\"}, \"name\": \"T1\", \"type\": \"scatter\", \"x\": [1.4543355873106405], \"y\": [0.02675521756240199]}, {\"connectgaps\": false, \"marker\": {\"color\": \"blue\"}, \"name\": \"T2\", \"type\": \"scatter\", \"x\": [1.4543355873106405], \"y\": [0.04458360213722933]}, {\"connectgaps\": false, \"marker\": {\"color\": \"blue\"}, \"name\": \"T3\", \"type\": \"scatter\", \"x\": [1.4543355873106405], \"y\": [0.0607102686977906]}, {\"connectgaps\": false, \"marker\": {\"color\": \"blue\"}, \"name\": \"T4\", \"type\": \"scatter\", \"x\": [1.4543355873106405], \"y\": [0.07806176077838675]}, {\"connectgaps\": false, \"marker\": {\"color\": \"blue\"}, \"name\": \"T5\", \"type\": \"scatter\", \"x\": [1.4543355873106405], \"y\": [0.09516065040616425]}, {\"connectgaps\": false, \"marker\": {\"color\": \"blue\"}, \"name\": \"T6\", \"type\": \"scatter\", \"x\": [1.4543355873106405], \"y\": [0.11664977377346754]}, {\"connectgaps\": false, \"marker\": {\"color\": \"blue\"}, \"name\": \"T7\", \"type\": \"scatter\", \"x\": [1.4543355873106405], \"y\": [0.13747453485061836]}, {\"connectgaps\": false, \"marker\": {\"color\": \"blue\"}, \"name\": \"T8\", \"type\": \"scatter\", \"x\": [1.4543355873106405], \"y\": [0.17341750014360968]}, {\"connectgaps\": false, \"marker\": {\"color\": \"blue\"}, \"name\": \"T9\", \"type\": \"scatter\", \"x\": [1.4543355873106405], \"y\": [0.2594267385053183]}],\n",
       "                        {\"template\": {\"data\": {\"bar\": [{\"error_x\": {\"color\": \"#2a3f5f\"}, \"error_y\": {\"color\": \"#2a3f5f\"}, \"marker\": {\"line\": {\"color\": \"#E5ECF6\", \"width\": 0.5}}, \"type\": \"bar\"}], \"barpolar\": [{\"marker\": {\"line\": {\"color\": \"#E5ECF6\", \"width\": 0.5}}, \"type\": \"barpolar\"}], \"carpet\": [{\"aaxis\": {\"endlinecolor\": \"#2a3f5f\", \"gridcolor\": \"white\", \"linecolor\": \"white\", \"minorgridcolor\": \"white\", \"startlinecolor\": \"#2a3f5f\"}, \"baxis\": {\"endlinecolor\": \"#2a3f5f\", \"gridcolor\": \"white\", \"linecolor\": \"white\", \"minorgridcolor\": \"white\", \"startlinecolor\": \"#2a3f5f\"}, \"type\": \"carpet\"}], \"choropleth\": [{\"colorbar\": {\"outlinewidth\": 0, \"ticks\": \"\"}, \"type\": \"choropleth\"}], \"contour\": [{\"colorbar\": {\"outlinewidth\": 0, \"ticks\": \"\"}, \"colorscale\": [[0.0, \"#0d0887\"], [0.1111111111111111, \"#46039f\"], [0.2222222222222222, \"#7201a8\"], [0.3333333333333333, \"#9c179e\"], [0.4444444444444444, \"#bd3786\"], [0.5555555555555556, \"#d8576b\"], [0.6666666666666666, \"#ed7953\"], [0.7777777777777778, \"#fb9f3a\"], [0.8888888888888888, \"#fdca26\"], [1.0, \"#f0f921\"]], \"type\": \"contour\"}], \"contourcarpet\": [{\"colorbar\": {\"outlinewidth\": 0, \"ticks\": \"\"}, \"type\": \"contourcarpet\"}], \"heatmap\": [{\"colorbar\": {\"outlinewidth\": 0, \"ticks\": \"\"}, \"colorscale\": [[0.0, \"#0d0887\"], [0.1111111111111111, \"#46039f\"], [0.2222222222222222, \"#7201a8\"], [0.3333333333333333, \"#9c179e\"], [0.4444444444444444, \"#bd3786\"], [0.5555555555555556, \"#d8576b\"], [0.6666666666666666, \"#ed7953\"], [0.7777777777777778, \"#fb9f3a\"], [0.8888888888888888, \"#fdca26\"], [1.0, \"#f0f921\"]], \"type\": \"heatmap\"}], \"heatmapgl\": [{\"colorbar\": {\"outlinewidth\": 0, \"ticks\": \"\"}, \"colorscale\": [[0.0, \"#0d0887\"], [0.1111111111111111, \"#46039f\"], [0.2222222222222222, \"#7201a8\"], [0.3333333333333333, \"#9c179e\"], [0.4444444444444444, \"#bd3786\"], [0.5555555555555556, \"#d8576b\"], [0.6666666666666666, \"#ed7953\"], [0.7777777777777778, \"#fb9f3a\"], [0.8888888888888888, \"#fdca26\"], [1.0, \"#f0f921\"]], \"type\": \"heatmapgl\"}], \"histogram\": [{\"marker\": {\"colorbar\": {\"outlinewidth\": 0, \"ticks\": \"\"}}, \"type\": \"histogram\"}], \"histogram2d\": [{\"colorbar\": {\"outlinewidth\": 0, \"ticks\": \"\"}, \"colorscale\": [[0.0, \"#0d0887\"], [0.1111111111111111, \"#46039f\"], [0.2222222222222222, \"#7201a8\"], [0.3333333333333333, \"#9c179e\"], [0.4444444444444444, \"#bd3786\"], [0.5555555555555556, \"#d8576b\"], [0.6666666666666666, \"#ed7953\"], [0.7777777777777778, \"#fb9f3a\"], [0.8888888888888888, \"#fdca26\"], [1.0, \"#f0f921\"]], \"type\": \"histogram2d\"}], \"histogram2dcontour\": [{\"colorbar\": {\"outlinewidth\": 0, \"ticks\": \"\"}, \"colorscale\": [[0.0, \"#0d0887\"], [0.1111111111111111, \"#46039f\"], [0.2222222222222222, \"#7201a8\"], [0.3333333333333333, \"#9c179e\"], [0.4444444444444444, \"#bd3786\"], [0.5555555555555556, \"#d8576b\"], [0.6666666666666666, \"#ed7953\"], [0.7777777777777778, \"#fb9f3a\"], [0.8888888888888888, \"#fdca26\"], [1.0, \"#f0f921\"]], \"type\": \"histogram2dcontour\"}], \"mesh3d\": [{\"colorbar\": {\"outlinewidth\": 0, \"ticks\": \"\"}, \"type\": \"mesh3d\"}], \"parcoords\": [{\"line\": {\"colorbar\": {\"outlinewidth\": 0, \"ticks\": \"\"}}, \"type\": \"parcoords\"}], \"scatter\": [{\"marker\": {\"colorbar\": {\"outlinewidth\": 0, \"ticks\": \"\"}}, \"type\": \"scatter\"}], \"scatter3d\": [{\"line\": {\"colorbar\": {\"outlinewidth\": 0, \"ticks\": \"\"}}, \"marker\": {\"colorbar\": {\"outlinewidth\": 0, \"ticks\": \"\"}}, \"type\": \"scatter3d\"}], \"scattercarpet\": [{\"marker\": {\"colorbar\": {\"outlinewidth\": 0, \"ticks\": \"\"}}, \"type\": \"scattercarpet\"}], \"scattergeo\": [{\"marker\": {\"colorbar\": {\"outlinewidth\": 0, \"ticks\": \"\"}}, \"type\": \"scattergeo\"}], \"scattergl\": [{\"marker\": {\"colorbar\": {\"outlinewidth\": 0, \"ticks\": \"\"}}, \"type\": \"scattergl\"}], \"scattermapbox\": [{\"marker\": {\"colorbar\": {\"outlinewidth\": 0, \"ticks\": \"\"}}, \"type\": \"scattermapbox\"}], \"scatterpolar\": [{\"marker\": {\"colorbar\": {\"outlinewidth\": 0, \"ticks\": \"\"}}, \"type\": \"scatterpolar\"}], \"scatterpolargl\": [{\"marker\": {\"colorbar\": {\"outlinewidth\": 0, \"ticks\": \"\"}}, \"type\": \"scatterpolargl\"}], \"scatterternary\": [{\"marker\": {\"colorbar\": {\"outlinewidth\": 0, \"ticks\": \"\"}}, \"type\": \"scatterternary\"}], \"surface\": [{\"colorbar\": {\"outlinewidth\": 0, \"ticks\": \"\"}, \"colorscale\": [[0.0, \"#0d0887\"], [0.1111111111111111, \"#46039f\"], [0.2222222222222222, \"#7201a8\"], [0.3333333333333333, \"#9c179e\"], [0.4444444444444444, \"#bd3786\"], [0.5555555555555556, \"#d8576b\"], [0.6666666666666666, \"#ed7953\"], [0.7777777777777778, \"#fb9f3a\"], [0.8888888888888888, \"#fdca26\"], [1.0, \"#f0f921\"]], \"type\": \"surface\"}], \"table\": [{\"cells\": {\"fill\": {\"color\": \"#EBF0F8\"}, \"line\": {\"color\": \"white\"}}, \"header\": {\"fill\": {\"color\": \"#C8D4E3\"}, \"line\": {\"color\": \"white\"}}, \"type\": \"table\"}]}, \"layout\": {\"annotationdefaults\": {\"arrowcolor\": \"#2a3f5f\", \"arrowhead\": 0, \"arrowwidth\": 1}, \"colorscale\": {\"diverging\": [[0, \"#8e0152\"], [0.1, \"#c51b7d\"], [0.2, \"#de77ae\"], [0.3, \"#f1b6da\"], [0.4, \"#fde0ef\"], [0.5, \"#f7f7f7\"], [0.6, \"#e6f5d0\"], [0.7, \"#b8e186\"], [0.8, \"#7fbc41\"], [0.9, \"#4d9221\"], [1, \"#276419\"]], \"sequential\": [[0.0, \"#0d0887\"], [0.1111111111111111, \"#46039f\"], [0.2222222222222222, \"#7201a8\"], [0.3333333333333333, \"#9c179e\"], [0.4444444444444444, \"#bd3786\"], [0.5555555555555556, \"#d8576b\"], [0.6666666666666666, \"#ed7953\"], [0.7777777777777778, \"#fb9f3a\"], [0.8888888888888888, \"#fdca26\"], [1.0, \"#f0f921\"]], \"sequentialminus\": [[0.0, \"#0d0887\"], [0.1111111111111111, \"#46039f\"], [0.2222222222222222, \"#7201a8\"], [0.3333333333333333, \"#9c179e\"], [0.4444444444444444, \"#bd3786\"], [0.5555555555555556, \"#d8576b\"], [0.6666666666666666, \"#ed7953\"], [0.7777777777777778, \"#fb9f3a\"], [0.8888888888888888, \"#fdca26\"], [1.0, \"#f0f921\"]]}, \"colorway\": [\"#636efa\", \"#EF553B\", \"#00cc96\", \"#ab63fa\", \"#FFA15A\", \"#19d3f3\", \"#FF6692\", \"#B6E880\", \"#FF97FF\", \"#FECB52\"], \"font\": {\"color\": \"#2a3f5f\"}, \"geo\": {\"bgcolor\": \"white\", \"lakecolor\": \"white\", \"landcolor\": \"#E5ECF6\", \"showlakes\": true, \"showland\": true, \"subunitcolor\": \"white\"}, \"hoverlabel\": {\"align\": \"left\"}, \"hovermode\": \"closest\", \"mapbox\": {\"style\": \"light\"}, \"paper_bgcolor\": \"white\", \"plot_bgcolor\": \"#E5ECF6\", \"polar\": {\"angularaxis\": {\"gridcolor\": \"white\", \"linecolor\": \"white\", \"ticks\": \"\"}, \"bgcolor\": \"#E5ECF6\", \"radialaxis\": {\"gridcolor\": \"white\", \"linecolor\": \"white\", \"ticks\": \"\"}}, \"scene\": {\"xaxis\": {\"backgroundcolor\": \"#E5ECF6\", \"gridcolor\": \"white\", \"gridwidth\": 2, \"linecolor\": \"white\", \"showbackground\": true, \"ticks\": \"\", \"zerolinecolor\": \"white\"}, \"yaxis\": {\"backgroundcolor\": \"#E5ECF6\", \"gridcolor\": \"white\", \"gridwidth\": 2, \"linecolor\": \"white\", \"showbackground\": true, \"ticks\": \"\", \"zerolinecolor\": \"white\"}, \"zaxis\": {\"backgroundcolor\": \"#E5ECF6\", \"gridcolor\": \"white\", \"gridwidth\": 2, \"linecolor\": \"white\", \"showbackground\": true, \"ticks\": \"\", \"zerolinecolor\": \"white\"}}, \"shapedefaults\": {\"line\": {\"color\": \"#2a3f5f\"}}, \"ternary\": {\"aaxis\": {\"gridcolor\": \"white\", \"linecolor\": \"white\", \"ticks\": \"\"}, \"baxis\": {\"gridcolor\": \"white\", \"linecolor\": \"white\", \"ticks\": \"\"}, \"bgcolor\": \"#E5ECF6\", \"caxis\": {\"gridcolor\": \"white\", \"linecolor\": \"white\", \"ticks\": \"\"}}, \"title\": {\"x\": 0.05}, \"xaxis\": {\"automargin\": true, \"gridcolor\": \"white\", \"linecolor\": \"white\", \"ticks\": \"\", \"zerolinecolor\": \"white\", \"zerolinewidth\": 2}, \"yaxis\": {\"automargin\": true, \"gridcolor\": \"white\", \"linecolor\": \"white\", \"ticks\": \"\", \"zerolinecolor\": \"white\", \"zerolinewidth\": 2}}}, \"title\": {\"text\": \"Hartree-Fock Energy VS Bond Distance\"}, \"xaxis\": {\"title\": {\"text\": \"Bond Distance in Bohr Units Radius\"}}, \"yaxis\": {\"title\": {\"text\": \"Energy in Hartrees\"}}},\n",
       "                        {\"responsive\": true}\n",
       "                    ).then(function(){\n",
       "                            \n",
       "var gd = document.getElementById('aca777bd-6654-41f6-ba2a-0eaedf34eaee');\n",
       "var x = new MutationObserver(function (mutations, observer) {{\n",
       "        var display = window.getComputedStyle(gd).display;\n",
       "        if (!display || display === 'none') {{\n",
       "            console.log([gd, 'removed!']);\n",
       "            Plotly.purge(gd);\n",
       "            observer.disconnect();\n",
       "        }}\n",
       "}});\n",
       "\n",
       "// Listen for the removal of the full notebook cells\n",
       "var notebookContainer = gd.closest('#notebook-container');\n",
       "if (notebookContainer) {{\n",
       "    x.observe(notebookContainer, {childList: true});\n",
       "}}\n",
       "\n",
       "// Listen for the clearing of the current output cell\n",
       "var outputEl = gd.closest('.output');\n",
       "if (outputEl) {{\n",
       "    x.observe(outputEl, {childList: true});\n",
       "}}\n",
       "\n",
       "                        })\n",
       "                };\n",
       "                });\n",
       "            </script>\n",
       "        </div>"
      ]
     },
     "metadata": {},
     "output_type": "display_data"
    }
   ],
   "source": [
    "#prepare data for use with graphing\n",
    "dx = .01\n",
    "steps = 15/dx\n",
    "\n",
    "figure = {\n",
    "    \"data\": [\n",
    "        #create the Hartree-Fock generated Potential Energy Surface\n",
    "        {\n",
    "            \"type\":\"scatter\",\n",
    "            \"x\":R,\n",
    "            \"y\":E,\n",
    "            \"connectgaps\":False,\n",
    "            \"mode\":\"markers\", \n",
    "            \"name\":\"Hartree-Fock Computed\",\n",
    "            \"marker\":{\"color\":\"blue\"}\n",
    "        },\n",
    "    \n",
    "        #Highlight the minimum energy point in red\n",
    "        {\n",
    "            \"type\":\"scatter\",\n",
    "            \"x\":[optimalR],\n",
    "            \"y\":[minE],\n",
    "            \"name\":\"Optimal Bond Distance\",\n",
    "            \"marker\":{\"color\":\"red\"}\n",
    "        },\n",
    "        \n",
    "        #Create and plot the Morse Potential fit\n",
    "        {\n",
    "            \"type\":\"scatter\",\n",
    "            \"x\":[x*dx for x in range(-1, 1000)],\n",
    "            \"y\": [morsePotential(r * dx, popt[0], popt[1], popt[2], popt[3]) - correction for r in range(-1, 1000)], #popt[0], popt[1], popt[2], popt[3]) for r in data] ,\n",
    "            \"connectgaps\":False,\n",
    "            \"name\":\"Morse Potential Approximation\",\n",
    "            \"marker\":{\"color\":\"green\"}\n",
    "        },\n",
    "    ],\n",
    "    \n",
    "    #Set up the layout of the graph\n",
    "    \"layout\":\n",
    "        {\n",
    "           \"xaxis\":{\"title\":\"Bond Distance in Bohr Units Radius\"},\n",
    "           \"yaxis\":{\"title\":\"Energy in Hartrees\"},\n",
    "            \"title\":{\"text\":\"Hartree-Fock Energy VS Bond Distance\"}\n",
    "        },    \n",
    "}\n",
    "\n",
    "xMin = -40\n",
    "xMax = 40\n",
    "steps = 500\n",
    "dx = (xMax - xMin) / steps\n",
    "        \n",
    "for i in range(len(EHO)):\n",
    "\n",
    "    figure[\"data\"].append(\n",
    "        {\n",
    "            \"type\":\"scatter\",\n",
    "            \"x\":[popt[0]],\n",
    "            \"y\":[EHO[i].real],\n",
    "            \"connectgaps\":False,\n",
    "            \"name\":\"T\" + str(i),\n",
    "            \"marker\":{\"color\":\"blue\"}\n",
    "        }\n",
    "    )    \n",
    "    \n",
    "iplot(figure)"
   ]
  }
 ],
 "metadata": {
  "kernelspec": {
   "display_name": "Python 3",
   "language": "python",
   "name": "python3"
  },
  "language_info": {
   "codemirror_mode": {
    "name": "ipython",
    "version": 3
   },
   "file_extension": ".py",
   "mimetype": "text/x-python",
   "name": "python",
   "nbconvert_exporter": "python",
   "pygments_lexer": "ipython3",
   "version": "3.7.3"
  }
 },
 "nbformat": 4,
 "nbformat_minor": 2
}
