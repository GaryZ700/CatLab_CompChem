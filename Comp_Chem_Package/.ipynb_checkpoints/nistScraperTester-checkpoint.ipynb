{
 "cells": [
  {
   "cell_type": "code",
   "execution_count": 1,
   "metadata": {},
   "outputs": [
    {
     "name": "stdout",
     "output_type": "stream",
     "text": [
      "Warning! HHe ground state missing diatomic constants on the NIST WebBook.\n"
     ]
    }
   ],
   "source": [
    "from nistScraper import *\n",
    "\n",
    "getDiatomicConstants(\"HHe\")"
   ]
  },
  {
   "cell_type": "code",
   "execution_count": 2,
   "metadata": {},
   "outputs": [
    {
     "name": "stdout",
     "output_type": "stream",
     "text": [
      "nd<img alt=\"sigma\" src=\"/chemistry/img/sigma.gif\"/>,<img alt=\"pi\" src=\"/chemistry/img/pi.gif\"/>\n"
     ]
    }
   ],
   "source": [
    "print(\n",
    "    'nd<img alt=\"sigma\" src=\"/chemistry/img/sigma.gif\"/>,<img alt=\"pi\" src=\"/chemistry/img/pi.gif\"/>'\n",
    ")"
   ]
  },
  {
   "cell_type": "markdown",
   "metadata": {},
   "source": [
    "### Lowest energy for states with two values\n",
    "\n",
    "### Questions\n",
    "### Is Beta needed?\n",
    "### Only two coupled states for the ground? And only two variations 1/2, 3/2\n",
    "###    if not for ground, could be a problem as unsure of how to identify which is the higher or lower ground state"
   ]
  }
 ],
 "metadata": {
  "kernelspec": {
   "display_name": "Python 3",
   "language": "python",
   "name": "python3"
  },
  "language_info": {
   "codemirror_mode": {
    "name": "ipython",
    "version": 3
   },
   "file_extension": ".py",
   "mimetype": "text/x-python",
   "name": "python",
   "nbconvert_exporter": "python",
   "pygments_lexer": "ipython3",
   "version": "3.8.0"
  }
 },
 "nbformat": 4,
 "nbformat_minor": 4
}
