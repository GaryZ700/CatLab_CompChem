{
 "cells": [
  {
   "cell_type": "code",
   "execution_count": 4,
   "metadata": {},
   "outputs": [
    {
     "data": {
      "text/plain": [
       "diatomicConstants(name='I2', state='D 1Σu+', T=40679.0, w=104.41, wx=0.2343, wy=0.00045, wz=0, B=None, a=None, y=None, D=None, re=None, u=63.45223595)"
      ]
     },
     "execution_count": 4,
     "metadata": {},
     "output_type": "execute_result"
    }
   ],
   "source": [
    "from nistScraper import *\n",
    "\n",
    "getDiatomicConstants(\"I2\", \"D 1Σu+ \")"
   ]
  },
  {
   "cell_type": "code",
   "execution_count": 2,
   "metadata": {},
   "outputs": [
    {
     "name": "stdout",
     "output_type": "stream",
     "text": [
      "nd<img alt=\"sigma\" src=\"/chemistry/img/sigma.gif\"/>,<img alt=\"pi\" src=\"/chemistry/img/pi.gif\"/>\n"
     ]
    }
   ],
   "source": [
    "print(\n",
    "    'nd<img alt=\"sigma\" src=\"/chemistry/img/sigma.gif\"/>,<img alt=\"pi\" src=\"/chemistry/img/pi.gif\"/>'\n",
    ")"
   ]
  },
  {
   "cell_type": "markdown",
   "metadata": {},
   "source": [
    "### Lowest energy for states with two values\n",
    "\n",
    "### Questions\n",
    "### Is Beta needed?\n",
    "### Only two coupled states for the ground? And only two variations 1/2, 3/2\n",
    "###    if not for ground, could be a problem as unsure of how to identify which is the higher or lower ground state\n",
    "### PSI4 for Testing"
   ]
  },
  {
   "cell_type": "code",
   "execution_count": null,
   "metadata": {},
   "outputs": [],
   "source": []
  }
 ],
 "metadata": {
  "kernelspec": {
   "display_name": "Python 3",
   "language": "python",
   "name": "python3"
  },
  "language_info": {
   "codemirror_mode": {
    "name": "ipython",
    "version": 3
   },
   "file_extension": ".py",
   "mimetype": "text/x-python",
   "name": "python",
   "nbconvert_exporter": "python",
   "pygments_lexer": "ipython3",
   "version": "3.8.0"
  }
 },
 "nbformat": 4,
 "nbformat_minor": 4
}
