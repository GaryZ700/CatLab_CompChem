{
 "cells": [
  {
   "cell_type": "code",
   "execution_count": 12,
   "metadata": {},
   "outputs": [
    {
     "data": {
      "text/plain": [
       "diatomicConstants(name='CO', state='ground', T=0.0, w=2169.81358, wx=13.28831, wy=None, wz=0, B=1.93128087, a=0.01750441, y=None, D=6.12147e-06, re=1.128323, u=6.8562086380025615)"
      ]
     },
     "execution_count": 12,
     "metadata": {},
     "output_type": "execute_result"
    }
   ],
   "source": [
    "from nistScraper import *\n",
    "\n",
    "getDiatomicConstants(\"630-08-0\")"
   ]
  },
  {
   "cell_type": "code",
   "execution_count": 2,
   "metadata": {},
   "outputs": [
    {
     "name": "stdout",
     "output_type": "stream",
     "text": [
      "nd<img alt=\"sigma\" src=\"/chemistry/img/sigma.gif\"/>,<img alt=\"pi\" src=\"/chemistry/img/pi.gif\"/>\n"
     ]
    }
   ],
   "source": [
    "print(\n",
    "    'nd<img alt=\"sigma\" src=\"/chemistry/img/sigma.gif\"/>,<img alt=\"pi\" src=\"/chemistry/img/pi.gif\"/>'\n",
    ")"
   ]
  },
  {
   "cell_type": "markdown",
   "metadata": {},
   "source": [
    "### Lowest energy for states with two values\n",
    "\n",
    "### Questions\n",
    "### Is Beta needed?\n",
    "### Only two coupled states for the ground? And only two variations 1/2, 3/2\n",
    "###    if not for ground, could be a problem as unsure of how to identify which is the higher or lower ground state"
   ]
  }
 ],
 "metadata": {
  "kernelspec": {
   "display_name": "Python 3",
   "language": "python",
   "name": "python3"
  },
  "language_info": {
   "codemirror_mode": {
    "name": "ipython",
    "version": 3
   },
   "file_extension": ".py",
   "mimetype": "text/x-python",
   "name": "python",
   "nbconvert_exporter": "python",
   "pygments_lexer": "ipython3",
   "version": "3.8.0"
  }
 },
 "nbformat": 4,
 "nbformat_minor": 4
}
