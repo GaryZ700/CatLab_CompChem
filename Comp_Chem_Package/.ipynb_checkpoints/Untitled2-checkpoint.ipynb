{
 "cells": [
  {
   "cell_type": "code",
   "execution_count": 1,
   "metadata": {},
   "outputs": [
    {
     "data": {
      "application/vnd.jupyter.widget-view+json": {
       "model_id": "eef145dc1b9a4b078a38613f324433ff",
       "version_major": 2,
       "version_minor": 0
      },
      "text/plain": [
       "HBox(children=(Label(value='Computing RKR Surface'), FloatProgress(value=-4400.96734, max=0.0, min=-4400.96734…"
      ]
     },
     "metadata": {},
     "output_type": "display_data"
    }
   ],
   "source": [
    "import sys\n",
    "sys.path.append(\"..\\\\Comp_Chem_Package\")\n",
    "\n",
    "from nistScraper import * \n",
    "dc = getDiatomicConstants(\"H2\")\n",
    "\n",
    "from rkr import * \n",
    "from morsePotential import *\n",
    "r = rkr(dc)\n",
    "r.compute()\n",
    "mp = morsePotential(dc, r.getData())\n",
    "\n"
   ]
  },
  {
   "cell_type": "code",
   "execution_count": 7,
   "metadata": {},
   "outputs": [
    {
     "data": {
      "text/plain": [
       "['__abstractmethods__',\n",
       " '__class__',\n",
       " '__delattr__',\n",
       " '__dict__',\n",
       " '__dir__',\n",
       " '__doc__',\n",
       " '__eq__',\n",
       " '__format__',\n",
       " '__ge__',\n",
       " '__getattribute__',\n",
       " '__gt__',\n",
       " '__hash__',\n",
       " '__init__',\n",
       " '__init_subclass__',\n",
       " '__le__',\n",
       " '__lt__',\n",
       " '__module__',\n",
       " '__ne__',\n",
       " '__new__',\n",
       " '__reduce__',\n",
       " '__reduce_ex__',\n",
       " '__repr__',\n",
       " '__setattr__',\n",
       " '__sizeof__',\n",
       " '__slots__',\n",
       " '__str__',\n",
       " '__subclasshook__',\n",
       " '__weakref__',\n",
       " '_abc_impl',\n",
       " 'a',\n",
       " 'addGraphableData',\n",
       " 'addGraphableObject',\n",
       " 'buildGraph',\n",
       " 'diatomicConstants',\n",
       " 'end',\n",
       " 'endBoundary',\n",
       " 'fit',\n",
       " 'forcedEnd',\n",
       " 'forcedStart',\n",
       " 'getGraphData',\n",
       " 'getWidgets',\n",
       " 'graph',\n",
       " 'graphTitle',\n",
       " 'graphableData',\n",
       " 'graphableObjects',\n",
       " 'implementation',\n",
       " 'internalFit',\n",
       " 'invert',\n",
       " 'isFit',\n",
       " 'isGraphable',\n",
       " 'name',\n",
       " 'pesData',\n",
       " 'precision',\n",
       " 'resolution',\n",
       " 'setGraphVariables',\n",
       " 'start',\n",
       " 'startBoundary',\n",
       " 'value',\n",
       " 'xTitle',\n",
       " 'yTitle']"
      ]
     },
     "execution_count": 7,
     "metadata": {},
     "output_type": "execute_result"
    }
   ],
   "source": [
    "mp.test()"
   ]
  },
  {
   "cell_type": "code",
   "execution_count": null,
   "metadata": {},
   "outputs": [],
   "source": []
  }
 ],
 "metadata": {
  "kernelspec": {
   "display_name": "Python 3",
   "language": "python",
   "name": "python3"
  },
  "language_info": {
   "codemirror_mode": {
    "name": "ipython",
    "version": 3
   },
   "file_extension": ".py",
   "mimetype": "text/x-python",
   "name": "python",
   "nbconvert_exporter": "python",
   "pygments_lexer": "ipython3",
   "version": "3.8.0"
  }
 },
 "nbformat": 4,
 "nbformat_minor": 4
}
