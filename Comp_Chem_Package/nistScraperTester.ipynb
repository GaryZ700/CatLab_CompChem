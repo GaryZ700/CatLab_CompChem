{
 "cells": [
  {
   "cell_type": "code",
   "execution_count": 2,
   "metadata": {},
   "outputs": [
    {
     "data": {
      "text/plain": [
       "diatomicConstants(name='NO', state='ground', T=119.82, w=1904.04, wx=14.1, wy=None, wz=0, B=1.72016, a=0.0182, y=None, D=1.023e-05, re=1.15077, u=7.466433030552709)"
      ]
     },
     "execution_count": 2,
     "metadata": {},
     "output_type": "execute_result"
    }
   ],
   "source": [
    "from nistScraper import *\n",
    "\n",
    "getDiatomicConstants(\"NO\")"
   ]
  },
  {
   "cell_type": "code",
   "execution_count": 2,
   "metadata": {},
   "outputs": [
    {
     "name": "stdout",
     "output_type": "stream",
     "text": [
      "nd<img alt=\"sigma\" src=\"/chemistry/img/sigma.gif\"/>,<img alt=\"pi\" src=\"/chemistry/img/pi.gif\"/>\n"
     ]
    }
   ],
   "source": [
    "print(\n",
    "    'nd<img alt=\"sigma\" src=\"/chemistry/img/sigma.gif\"/>,<img alt=\"pi\" src=\"/chemistry/img/pi.gif\"/>'\n",
    ")"
   ]
  },
  {
   "cell_type": "markdown",
   "metadata": {},
   "source": []
  },
  {
   "cell_type": "code",
   "execution_count": null,
   "metadata": {},
   "outputs": [],
   "source": []
  }
 ],
 "metadata": {
  "kernelspec": {
   "display_name": "Python 3",
   "language": "python",
   "name": "python3"
  },
  "language_info": {
   "codemirror_mode": {
    "name": "ipython",
    "version": 3
   },
   "file_extension": ".py",
   "mimetype": "text/x-python",
   "name": "python",
   "nbconvert_exporter": "python",
   "pygments_lexer": "ipython3",
   "version": "3.8.0"
  }
 },
 "nbformat": 4,
 "nbformat_minor": 4
}
