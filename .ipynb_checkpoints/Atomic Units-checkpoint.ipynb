{
 "cells": [
  {
   "cell_type": "markdown",
   "metadata": {},
   "source": [
    "## Atomic Units\n",
    "\n",
    "Atomic Units are standardly used in Computatoinal Chemistry code packages as use of the meteric or imperial units will result in very tiny numerical values that can result in large numerical values when manipulated computationaly. Atomic Units are larger for the purposes of atomic values and constants providing improved computatoinal accuracy and performance. <br> \n",
    "<br>\n",
    "Below Follows a list of Atomic Units and a description of each unit. a.u. stands for atomic units. <br>"
   ]
  },
  {
   "cell_type": "markdown",
   "metadata": {},
   "source": [
    "$$\n",
    "\\begin{align}\n",
    "\\hbar&=\\frac{h}{2\\pi} = 1 &&\\mbox{Planck Constant represents the Angular Momentum and is set to 1 a.u.} \\\\\n",
    "m_e &= 1 &&\\mbox{Mass of an electron is set to 1 a.u.} \\\\\n",
    "e &= 1 &&\\mbox{Electron charge is set to 1 a.u.} \\\\\n",
    "4\\pi\\epsilon_0 &= 1 &&\\mbox{Permittivity of Free space is 1 a.u.} \\\\\n",
    "a_0 &= \\frac{\\hbar^2}{me^2} = 1 &&\\mbox{Length in Bohr Radius} \\\\\n",
    "E_h &= 1 &&\\mbox{Energy in Hartrees} \\\\\n",
    "\\end{align}\n",
    "$$"
   ]
  },
  {
   "cell_type": "markdown",
   "metadata": {},
   "source": [
    "All information in this notebook originates from <u>Introduction to Computational Physical Chemistry</u>,  by Joshua Schrier."
   ]
  }
 ],
 "metadata": {
  "kernelspec": {
   "display_name": "Python 3",
   "language": "python",
   "name": "python3"
  },
  "language_info": {
   "codemirror_mode": {
    "name": "ipython",
    "version": 3
   },
   "file_extension": ".py",
   "mimetype": "text/x-python",
   "name": "python",
   "nbconvert_exporter": "python",
   "pygments_lexer": "ipython3",
   "version": "3.7.3"
  }
 },
 "nbformat": 4,
 "nbformat_minor": 2
}
