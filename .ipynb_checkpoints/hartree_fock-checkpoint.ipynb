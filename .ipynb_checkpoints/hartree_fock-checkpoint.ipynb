{
 "cells": [
  {
   "cell_type": "code",
   "execution_count": 1,
   "metadata": {},
   "outputs": [
    {
     "name": "stdout",
     "output_type": "stream",
     "text": [
      "********()())()()()()()()\n",
      "********()())()()()()()()\n"
     ]
    }
   ],
   "source": [
    "#Python Implementation of the Hartree Fock Method\n",
    "#Procedures listed in the code follow as described in Modern Quantum Chemistry: Introduction to Advanced Electronic Structure Theory, By Attila Szabo and Neil S. Ostlundimport math\n",
    "import numpy as np\n",
    "from molecule import atom\n",
    "from molecule import vector\n",
    "from molecule import guassian\n",
    "from molecule import molecule\n",
    "from notebookImporter import importNotebook\n",
    "\n",
    "#import integrals notebook for the hartree method\n",
    "integrals = importNotebook(\"hartree_integrals\")\n",
    "\n",
    "#define constants \n",
    "MIN_ITERATIONS = 2\n",
    "SCF_CONVERGENCE = pow(10, -20)\n",
    "\n",
    "#Step 1\n",
    "#Specify Molecules, Nuclear Coordinates, and Charge of the nucli Number of Electrons,\n",
    "\n",
    "#generate an h2 atom with a distance of 1.4 AU to compare with Szabo pg. 175\n",
    "h2 = molecule()\n",
    "h2.addAtom(atom(vector(9,9,10.4), 1, 1))\n",
    "h2.addAtom(atom(vector(9,9,9), 1, 1))\n",
    "#h2.addAtom(atom(vector(9,9,11),1,1))\n",
    "h2.addBasis(\"STO-3G\")\n",
    "#and a basis set, for now will add default basis of STO-3G for hydrogen to all atoms\n"
   ]
  },
  {
   "cell_type": "code",
   "execution_count": 2,
   "metadata": {
    "scrolled": false
   },
   "outputs": [
    {
     "name": "stdout",
     "output_type": "stream",
     "text": [
      "[[0.99999999 0.6593182 ]\n",
      " [0.6593182  0.99999999]]\n",
      "\n",
      "[[0.76003188 0.23645465]\n",
      " [0.23645465 0.76003188]]\n",
      "\n",
      "[[-1.22661372 -0.5974173 ]\n",
      " [-0.5974173  -0.65382715]]\n",
      "[[-0.65382715 -0.5974173 ]\n",
      " [-0.5974173  -1.22661372]]\n",
      "Hamiltonian\n",
      "[[-1.120409   -0.95837996]\n",
      " [-0.95837996 -1.120409  ]]\n",
      "\n"
     ]
    },
    {
     "data": {
      "image/png": "[encoded data removed]",
      "text/plain": [
       "<matplotlib.figure.Figure at 0x1a0c3506748>"
      ]
     },
     "metadata": {},
     "output_type": "display_data"
    }
   ],
   "source": [
    "#Step 2\n",
    "#Calculate Integrals\n",
    "#Overlap, KE, Nuclear Attraction, and electron repulsion\n",
    "S = integrals.overlap(h2)\n",
    "print(np.matrix(S))\n",
    "\n",
    "T = integrals.kineticEnergy(h2)\n",
    "print()\n",
    "print(np.matrix(T))\n",
    "\n",
    "V = integrals.nuclearAttraction(h2)\n",
    "print()\n",
    "\n",
    "electronRepulsion = integrals.electronElectronRepulsion(h2)\n",
    "\n",
    "#convert lists into numpy matrices in order to more easily form the electronic hamiltonian\n",
    "H = np.matrix(T)\n",
    "\n",
    "#add in all of the nuclear attractions matricies to the hamiltonian\n",
    "for nucli in V:\n",
    "    H += np.matrix(nucli)\n",
    "    print(np.matrix(nucli))\n",
    "        \n",
    "print(\"Hamiltonian\")\n",
    "print(H)\n",
    "print()\n",
    "\n",
    "#print(electronRepulsion[0][0][0][0])\n",
    "#print(electronRepulsion[0][0][1][1])\n",
    "#print(electronRepulsion[1][0][1][1])\n",
    "#print(electronRepulsion[1][0][1][0])"
   ]
  },
  {
   "cell_type": "markdown",
   "metadata": {},
   "source": [
    "## Transformation Matrix\n",
    "\n",
    "<p>\n",
    "    <br/>\n",
    "    The transformation matrix $X$ is computed from the atomic orbital overlap matrix $S$, and is used to transform the orbitals from atomic orbitals to molecular orbitals, since the overlap provides the overlap of atomic orbitals and thus strength of any molecular orbitals that have formed. The transformation matrix is obtained by orthagnolization of the basis is performed through the <i>Canonical Orthogonalization</i> method which uses the following equation:  \n",
    "    \n",
    "   $$X_{ij} = \\frac{U_{ij}}{s^{1/2}_j}   $$\n",
    "   $U_{ij}$ refers to a the eigen vector matrix of the $S$, while $s_j$ refers to the eigen values of the overlap matrix. Numpy is utilized in the diagnolization of $S$.\n",
    "\n",
    "Szabo Pg. 31, 188\n",
    "\n",
    "</p>    \n"
   ]
  },
  {
   "cell_type": "code",
   "execution_count": 6,
   "metadata": {},
   "outputs": [
    {
     "name": "stdout",
     "output_type": "stream",
     "text": [
      "[[ 0.70710678 -0.70710678]\n",
      " [ 0.70710678  0.70710678]]\n",
      "[[1. 0.]\n",
      " [0. 1.]]\n",
      "[[ 0.54893404 -1.21146408]\n",
      " [ 0.54893404  1.21146408]]\n"
     ]
    }
   ],
   "source": [
    "#Step 3\n",
    "#Dignolize Overlap Matrix and obtain transformation matrix X\n",
    "\n",
    "#get size of matricies that need to be generated\n",
    "size = len(S)\n",
    "\n",
    "#create transformation matrix of sizexsize\n",
    "X = np.zeros([size, size])\n",
    "\n",
    "eigenValues, eigenVector = np.linalg.eig(S)\n",
    "print(eigenVector)\n",
    "#compute the transformation matrix X\n",
    "X = eigenVector * (eigenValues ** (-0.5))\n",
    "#should print an identity matrix if transformation matrix is correctly computed\n",
    "print(X.transpose() * np.matrix(S) * X)\n",
    "print(X)"
   ]
  },
  {
   "cell_type": "code",
   "execution_count": 7,
   "metadata": {},
   "outputs": [
    {
     "name": "stdout",
     "output_type": "stream",
     "text": [
      "Fock Matrix:\n",
      "[[-1.120409   -0.95837996]\n",
      " [-0.95837996 -1.120409  ]]\n",
      "\n",
      "Transformed Fock Matrix:\n",
      "[[-1.25279706e+00  6.66133815e-16]\n",
      " [ 2.35922393e-16 -4.75602299e-01]]\n",
      "\n",
      "F` Eigen Values:\n",
      "[-1.25279706 -0.4756023 ]\n",
      "F` EigenVector\n",
      "[[1.00000000e+00 8.57100237e-16]\n",
      " [0.00000000e+00 1.00000000e+00]]\n",
      "\n",
      "Electron Density:\n",
      "[[0.60265717 0.60265717]\n",
      " [0.60265717 0.60265717]]\n"
     ]
    }
   ],
   "source": [
    "#Step 4\n",
    "#Obtain guess Density matrix, P\n",
    "\n",
    "#ignore all electron electron interactions,\n",
    "#and use the core electronic hamiltonan as a guess for the fock matrix\n",
    "#easisest guess, but can be poor in more complicated systems\n",
    "F = np.matrix(H)\n",
    "\n",
    "print(\"Fock Matrix:\")\n",
    "print(F)\n",
    "print()\n",
    "\n",
    "#transform Fock matrix to MO basis\n",
    "F = X.transpose() * F * X\n",
    "\n",
    "print(\"Transformed Fock Matrix:\")\n",
    "print(F)\n",
    "print()\n",
    "\n",
    "#diagnolize the Fock Matrix\n",
    "eigenValues, eigenVectors = np.linalg.eig(F)\n",
    "print(\"F` Eigen Values:\")\n",
    "print(eigenValues)\n",
    "print(\"F` EigenVector\")\n",
    "print(eigenVectors)\n",
    "print()\n",
    "\n",
    "#compute the AO basis orbital coefficents\n",
    "C = X * eigenVectors\n",
    "\n",
    "#compute the density matrix\n",
    "P = np.zeros([size, size])\n",
    "\n",
    "for index1 in range(size):\n",
    "    for index2 in range(size):\n",
    "        \n",
    "        #this portion undertakes the assumption that the molecule is closed shell\n",
    "        #other wise the calculation will contain error\n",
    "        for a in range(int(h2.N / 2)):\n",
    "            P[index1, index2] += 2 * C[index1, a] * C[index2, a]\n",
    "\n",
    "print(\"Electron Density:\")\n",
    "print(P)"
   ]
  },
  {
   "cell_type": "code",
   "execution_count": 8,
   "metadata": {},
   "outputs": [
    {
     "name": "stdout",
     "output_type": "stream",
     "text": [
      "[[0.75487165 0.36449458]\n",
      " [0.36449458 0.75487165]]\n"
     ]
    }
   ],
   "source": [
    "#Step 5 \n",
    "#Calculate Contraction of Density Matrix with Electron Repulsion, G Matrix\n",
    "\n",
    "#generate G matrix a basis-set size by basis-set size matrix\n",
    "G = np.zeros([size, size])\n",
    "\n",
    "#iterate over four indicies to handle the four electron integral tensor\n",
    "for u in range(size):\n",
    "    for v in range(size):\n",
    "        for y in range(size):\n",
    "            for a in range(size):\n",
    "                \n",
    "                G[u, v] += P[y][a] * (electronRepulsion[u][v][a][y] - (0.5 * electronRepulsion[u][y][a][v]))\n",
    "print(G)"
   ]
  },
  {
   "cell_type": "code",
   "execution_count": 9,
   "metadata": {},
   "outputs": [
    {
     "name": "stdout",
     "output_type": "stream",
     "text": [
      "[[-0.36553735 -0.59388537]\n",
      " [-0.59388537 -0.36553735]]\n"
     ]
    }
   ],
   "source": [
    "#Step 6\n",
    "#Calculate Fock matrix, core hamiltonian + G matrix\n",
    "F = H + G\n",
    "print(F)"
   ]
  },
  {
   "cell_type": "code",
   "execution_count": 10,
   "metadata": {},
   "outputs": [
    {
     "name": "stdout",
     "output_type": "stream",
     "text": [
      "-1.8310000393482846\n"
     ]
    }
   ],
   "source": [
    "#compute the expectation energy of the system\n",
    "\n",
    "E = 0\n",
    "\n",
    "#iterate through the Fock matrix, H core, and the electron density \n",
    "for u in range(size):\n",
    "    for v in range(size):\n",
    "        E += (P[u, v] * ( H[u,v] + F[u,v] ) )\n",
    "        \n",
    "E *= 0.5\n",
    "print(E)\n"
   ]
  },
  {
   "cell_type": "code",
   "execution_count": 11,
   "metadata": {},
   "outputs": [
    {
     "name": "stdout",
     "output_type": "stream",
     "text": [
      "[[-5.78202978e-01  3.33066907e-16]\n",
      " [ 2.49800181e-16  6.70267768e-01]]\n",
      "-1.8310000393482846\n",
      "[[-5.78202978e-01  3.33066907e-16]\n",
      " [ 2.49800181e-16  6.70267768e-01]]\n",
      "-1.8310000393482846\n",
      "[[-5.78202978e-01  3.33066907e-16]\n",
      " [ 2.49800181e-16  6.70267768e-01]]\n",
      "-1.8310000393482846\n"
     ]
    }
   ],
   "source": [
    "# SCF Procedure \n",
    "\n",
    "E = []\n",
    "loop = True\n",
    "while( loop ):\n",
    "  \n",
    "    #diagnolze the Fock matrix and convert it to MO basis \n",
    "    F = X.transpose() * F * X \n",
    "    \n",
    "    print(F)\n",
    "    \n",
    "   #diagnolize the Fock Matrix\n",
    "    eigenValues, eigenVectors = np.linalg.eig(F)\n",
    "   # print(\"F` Eigen Values:\")\n",
    "   # print(eigenValues)\n",
    "   # print(\"F` EigenVector\")\n",
    "   # print(eigenVectors)\n",
    "   # print()\n",
    "\n",
    "    #compute the AO basis orbital coefficents\n",
    "    C = X * eigenVectors\n",
    "\n",
    "    #compute the density matrix\n",
    "    P = np.zeros([size, size])\n",
    "\n",
    "    for index1 in range(size):\n",
    "        for index2 in range(size):\n",
    "        \n",
    "            #this portion undertakes the assumption that the molecule is closed shell\n",
    "            #other wise the calculation will contain error\n",
    "            for a in range(int(h2.N / 2)):\n",
    "                P[index1, index2] += 2 * C[index1, a] * C[index2, a]\n",
    "    \n",
    "    G = np.zeros([size, size])\n",
    "\n",
    "    #iterate over four indicies to handle the four electron integral tensor\n",
    "    for u in range(size):\n",
    "        for v in range(size):\n",
    "            for y in range(size):\n",
    "                for a in range(size):\n",
    "                \n",
    "                    G[u, v] += P[y][a] * (electronRepulsion[u][v][a][y] - (0.5 * electronRepulsion[u][y][a][v]))\n",
    "  \n",
    "    F = H + G\n",
    "    \n",
    "    tempE = 0\n",
    "    #iterate through the Fock matrix, H core, and the electron density \n",
    "    for u in range(size):\n",
    "        for v in range(size):\n",
    "            tempE += (P[u, v] * ( H[u,v] + F[u,v] ) )\n",
    "        \n",
    "    tempE *= 0.5\n",
    "    \n",
    "    E.append(tempE)\n",
    "    print(tempE)\n",
    "    \n",
    "    if(len(E) > 2):\n",
    "        sizeE = len(E)\n",
    "        if(abs(E[sizeE-2] - E[sizeE-1]) < SCF_CONVERGENCE):\n",
    "            loop = False\n",
    "            \n"
   ]
  },
  {
   "cell_type": "code",
   "execution_count": 9,
   "metadata": {},
   "outputs": [],
   "source": [
    "#Step 8\n",
    "#Diagnolize F' to get C' and E'"
   ]
  },
  {
   "cell_type": "code",
   "execution_count": 10,
   "metadata": {},
   "outputs": [],
   "source": [
    "#Step 9\n",
    "#Calculate C from C'"
   ]
  },
  {
   "cell_type": "code",
   "execution_count": 11,
   "metadata": {},
   "outputs": [],
   "source": [
    "#Step 10\n",
    "#From P for next iteration of HF Procedure"
   ]
  },
  {
   "cell_type": "code",
   "execution_count": 12,
   "metadata": {},
   "outputs": [],
   "source": [
    "#Step 11\n",
    "#Determine if current P is close \"enough\" to previos P, \n",
    "#\tif no iterate again start from step 5\n",
    "#\tif yes, then stop iterating, HF procedure completed, and use final C matrix to compute physical properties\n"
   ]
  }
 ],
 "metadata": {
  "celltoolbar": "Raw Cell Format",
  "kernelspec": {
   "display_name": "Python 3",
   "language": "python",
   "name": "python3"
  },
  "language_info": {
   "codemirror_mode": {
    "name": "ipython",
    "version": 3
   },
   "file_extension": ".py",
   "mimetype": "text/x-python",
   "name": "python",
   "nbconvert_exporter": "python",
   "pygments_lexer": "ipython3",
   "version": "3.6.4"
  }
 },
 "nbformat": 4,
 "nbformat_minor": 2
}
