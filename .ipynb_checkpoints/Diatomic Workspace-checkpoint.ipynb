{
 "cells": [
  {
   "cell_type": "code",
   "execution_count": 1,
   "metadata": {},
   "outputs": [],
   "source": [
    "##Allow Notebook to Import from Comp_Chem_Package\n",
    "import sys\n",
    "if(\"win\" in sys.platform):\n",
    "    sys.path.append(\".\\\\Comp_Chem_Package\")\n",
    "else: \n",
    "    sys.path.append(\"./Comp_Chem_Package\")"
   ]
  },
  {
   "cell_type": "markdown",
   "metadata": {},
   "source": [
    "## Diatomic Workspace \n",
    "The Diatomic Workspace notebook is designed to allow it users to interact directly with the Computational Chemistry package without needing to enage in any programming. It is strictly a user interface that provides simple access to calculation of the wavefunctions for diatomic molecules. Please see the interface below, and provide the information requested into the widgets to begin using this interface. "
   ]
  },
  {
   "cell_type": "code",
   "execution_count": 2,
   "metadata": {},
   "outputs": [],
   "source": [
    "#Import all required classes here\n",
    "from nistScraper import getDiatomicConstants\n",
    "from how import *\n",
    "from basisSet import *\n",
    "from rkr import *\n",
    "from morsePotential import *\n",
    "from operators import *\n",
    "from schrodinger import *"
   ]
  },
  {
   "cell_type": "code",
   "execution_count": 3,
   "metadata": {},
   "outputs": [],
   "source": [
    "#Set up widgets here\n",
    "diatomicName = widgets.Text(\n",
    "    value = \"CO\",\n",
    "    description = '<p style=\"font-family:verdana;font-size:15px\">Diatomic</p>'\n",
    ")\n",
    "basisSize = widgets.IntText(\n",
    "    value = 4,\n",
    "    description = '<p style=\"font-family:verdana;font-size:15px\">Basis Size</p>' \n",
    ")\n",
    "startButton = widgets.ToggleButton(\n",
    "    value = False, \n",
    "    description = \"Start Calculation\",\n",
    "    button_style = \"info\"\n",
    ")\n",
    "info = widgets.HTML(\n",
    "    value = '<p style=\"font-family:verdana;font-size:15px\"></p>'\n",
    ")\n",
    "out = widgets.Output()"
   ]
  },
  {
   "cell_type": "code",
   "execution_count": 4,
   "metadata": {},
   "outputs": [
    {
     "data": {
      "application/vnd.jupyter.widget-view+json": {
       "model_id": "c18dd09d5e3e49af87c3fc59fb948289",
       "version_major": 2,
       "version_minor": 0
      },
      "text/plain": [
       "VBox(children=(HBox(children=(Text(value='CO', description='<p style=\"font-family:verdana;font-size:15px\">Diat…"
      ]
     },
     "metadata": {},
     "output_type": "display_data"
    },
    {
     "data": {
      "application/vnd.jupyter.widget-view+json": {
       "model_id": "310a7bbdd51747898ef5cdfa76f6ab4a",
       "version_major": 2,
       "version_minor": 0
      },
      "text/plain": [
       "Output()"
      ]
     },
     "metadata": {},
     "output_type": "display_data"
    }
   ],
   "source": [
    "#main logic \n",
    "def compute(value):\n",
    "    print(\"VALEU: \", value)\n",
    "    print()\n",
    "    startButton.value = False\n",
    "    if(not value[\"new\"]):\n",
    "        return \n",
    "    info.value = '<p style=\"font-family:verdana;font-size:15px\">Calculating.....</p>'\n",
    "\n",
    "    dc = getDiatomicConstants(diatomicName.value)\n",
    "    \n",
    "    #check if diatomic provided can be found\n",
    "    if(dc == False):\n",
    "        print(\"Please enter another diatomic.\")\n",
    "        return\n",
    "\n",
    "    basis =  basisSet(dc, basisFunctionClass = how, size = basisSize.value)\n",
    "    fitting = morsePotential(dc, rkr(dc).compute())\n",
    "    with out: \n",
    "        graph = schrod(HOperator(TOperator(basis), VOperator(basis, fitting)), basis, fitting).graph(getGraph = True)\n",
    "        out.clear_output()\n",
    "        display(graph)   \n",
    "    \n",
    "    info.value = '<p style=\"font-family:verdana;font-size:15px\">Calculation Completed</p>'\n",
    "\n",
    "startButton.observe(compute, names=\"value\")\n",
    "\n",
    "display(widgets.VBox([\n",
    "        widgets.HBox([diatomicName, basisSize, startButton]),\n",
    "        info]))\n",
    "display(out)"
   ]
  },
  {
   "cell_type": "code",
   "execution_count": 7,
   "metadata": {},
   "outputs": [
    {
     "ename": "NameError",
     "evalue": "name 'dc' is not defined",
     "output_type": "error",
     "traceback": [
      "\u001b[1;31m---------------------------------------------------------------------------\u001b[0m",
      "\u001b[1;31mNameError\u001b[0m                                 Traceback (most recent call last)",
      "\u001b[1;32m<ipython-input-7-c0da19b2d336>\u001b[0m in \u001b[0;36m<module>\u001b[1;34m\u001b[0m\n\u001b[1;32m----> 1\u001b[1;33m \u001b[0mprint\u001b[0m\u001b[1;33m(\u001b[0m\u001b[0mdc\u001b[0m\u001b[1;33m)\u001b[0m\u001b[1;33m\u001b[0m\u001b[1;33m\u001b[0m\u001b[0m\n\u001b[0m",
      "\u001b[1;31mNameError\u001b[0m: name 'dc' is not defined"
     ]
    }
   ],
   "source": [
    "getDiatomicConstants(\"HF\")\n"
   ]
  },
  {
   "cell_type": "code",
   "execution_count": 6,
   "metadata": {},
   "outputs": [],
   "source": [
    "#Special cases list HF, HCL\n",
    "#Add in database\n",
    "#Auto cut off"
   ]
  }
 ],
 "metadata": {
  "kernelspec": {
   "display_name": "Python 3",
   "language": "python",
   "name": "python3"
  },
  "language_info": {
   "codemirror_mode": {
    "name": "ipython",
    "version": 3
   },
   "file_extension": ".py",
   "mimetype": "text/x-python",
   "name": "python",
   "nbconvert_exporter": "python",
   "pygments_lexer": "ipython3",
   "version": "3.8.0"
  }
 },
 "nbformat": 4,
 "nbformat_minor": 4
}
