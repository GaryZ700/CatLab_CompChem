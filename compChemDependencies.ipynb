{
 "cells": [
  {
   "cell_type": "markdown",
   "metadata": {},
   "source": [
    "# Computational Chemistry Package Dependency Installer\n",
    "##### Written by Gary Zeri, Member of the LaRue CatLab at Chapman University.\n",
    "Based upon the information found in this <a href=\"https://jakevdp.github.io/blog/2017/12/05/installing-python-packages-from-jupyter/\">webpage</a>. \n",
    "<br><br>\n",
    "<b>Note:</b> pip is required in order for this automatic installer to work. In the case that pip does not work, follow the instructions <a href=\"https://pip.pypa.io/en/stable/installing/\">here</a> to manually install pip."
   ]
  },
  {
   "cell_type": "code",
   "execution_count": 2,
   "metadata": {},
   "outputs": [
    {
     "name": "stdout",
     "output_type": "stream",
     "text": [
      "\u001b[33mDEPRECATION: Python 2.7 reached the end of its life on January 1st, 2020. Please upgrade your Python as Python 2.7 is no longer maintained. pip 21.0 will drop support for Python 2.7 in January 2021. More details about Python 2 support in pip can be found at https://pip.pypa.io/en/latest/development/release-process/#python-2-support pip 21.0 will remove support for this functionality.\u001b[0m\n",
      "Defaulting to user installation because normal site-packages is not writeable\n",
      "Requirement already satisfied: numpy in /home/cstudent/.local/lib/python2.7/site-packages (1.16.6)\n",
      "\u001b[33mDEPRECATION: Python 2.7 reached the end of its life on January 1st, 2020. Please upgrade your Python as Python 2.7 is no longer maintained. pip 21.0 will drop support for Python 2.7 in January 2021. More details about Python 2 support in pip can be found at https://pip.pypa.io/en/latest/development/release-process/#python-2-support pip 21.0 will remove support for this functionality.\u001b[0m\n",
      "Defaulting to user installation because normal site-packages is not writeable\n",
      "Requirement already satisfied: plotly in /home/cstudent/.local/lib/python2.7/site-packages (4.11.0)\n",
      "Requirement already satisfied: six in /home/cstudent/.local/lib/python2.7/site-packages (from plotly) (1.15.0)\n",
      "Requirement already satisfied: retrying>=1.3.3 in /home/cstudent/.local/lib/python2.7/site-packages (from plotly) (1.3.3)\n",
      "\u001b[33mDEPRECATION: Python 2.7 reached the end of its life on January 1st, 2020. Please upgrade your Python as Python 2.7 is no longer maintained. pip 21.0 will drop support for Python 2.7 in January 2021. More details about Python 2 support in pip can be found at https://pip.pypa.io/en/latest/development/release-process/#python-2-support pip 21.0 will remove support for this functionality.\u001b[0m\n",
      "Defaulting to user installation because normal site-packages is not writeable\n",
      "Requirement already satisfied: scipy in /home/cstudent/.local/lib/python2.7/site-packages (1.2.3)\n",
      "Requirement already satisfied: numpy>=1.8.2 in /home/cstudent/.local/lib/python2.7/site-packages (from scipy) (1.16.6)\n",
      "\u001b[33mDEPRECATION: Python 2.7 reached the end of its life on January 1st, 2020. Please upgrade your Python as Python 2.7 is no longer maintained. pip 21.0 will drop support for Python 2.7 in January 2021. More details about Python 2 support in pip can be found at https://pip.pypa.io/en/latest/development/release-process/#python-2-support pip 21.0 will remove support for this functionality.\u001b[0m\n",
      "Defaulting to user installation because normal site-packages is not writeable\n",
      "Collecting ipywidgets\n",
      "  Downloading ipywidgets-7.5.1-py2.py3-none-any.whl (121 kB)\n",
      "\u001b[K     |████████████████████████████████| 121 kB 1.6 MB/s \n",
      "\u001b[?25hRequirement already satisfied: traitlets>=4.3.1 in /home/cstudent/.local/lib/python2.7/site-packages (from ipywidgets) (4.3.3)\n",
      "Requirement already satisfied: ipykernel>=4.5.1 in /home/cstudent/.local/lib/python2.7/site-packages (from ipywidgets) (4.10.1)\n",
      "Requirement already satisfied: nbformat>=4.2.0 in /home/cstudent/.local/lib/python2.7/site-packages (from ipywidgets) (4.4.0)\n",
      "Requirement already satisfied: ipython<6.0.0,>=4.0.0; python_version < \"3.3\" in /home/cstudent/.local/lib/python2.7/site-packages (from ipywidgets) (5.10.0)\n",
      "Collecting widgetsnbextension~=3.5.0\n",
      "  Downloading widgetsnbextension-3.5.1-py2.py3-none-any.whl (2.2 MB)\n",
      "\u001b[K     |████████████████████████████████| 2.2 MB 3.2 MB/s \n",
      "\u001b[?25hRequirement already satisfied: ipython-genutils in /home/cstudent/.local/lib/python2.7/site-packages (from traitlets>=4.3.1->ipywidgets) (0.2.0)\n",
      "Requirement already satisfied: six in /home/cstudent/.local/lib/python2.7/site-packages (from traitlets>=4.3.1->ipywidgets) (1.15.0)\n",
      "Requirement already satisfied: decorator in /usr/lib/python2.7/site-packages (from traitlets>=4.3.1->ipywidgets) (3.4.0)\n",
      "Requirement already satisfied: enum34; python_version == \"2.7\" in /usr/lib/python2.7/site-packages (from traitlets>=4.3.1->ipywidgets) (1.0.4)\n",
      "Requirement already satisfied: jupyter-client in /home/cstudent/.local/lib/python2.7/site-packages (from ipykernel>=4.5.1->ipywidgets) (5.3.5)\n",
      "Requirement already satisfied: tornado>=4.0 in /home/cstudent/.local/lib/python2.7/site-packages (from ipykernel>=4.5.1->ipywidgets) (5.1.1)\n",
      "Requirement already satisfied: jupyter-core in /home/cstudent/.local/lib/python2.7/site-packages (from nbformat>=4.2.0->ipywidgets) (4.6.3)\n",
      "Requirement already satisfied: jsonschema!=2.5.0,>=2.4 in /home/cstudent/.local/lib/python2.7/site-packages (from nbformat>=4.2.0->ipywidgets) (3.2.0)\n",
      "Requirement already satisfied: backports.shutil-get-terminal-size; python_version == \"2.7\" in /home/cstudent/.local/lib/python2.7/site-packages (from ipython<6.0.0,>=4.0.0; python_version < \"3.3\"->ipywidgets) (1.0.0)\n",
      "Requirement already satisfied: pathlib2; python_version == \"2.7\" or python_version == \"3.3\" in /home/cstudent/.local/lib/python2.7/site-packages (from ipython<6.0.0,>=4.0.0; python_version < \"3.3\"->ipywidgets) (2.3.5)\n",
      "Requirement already satisfied: simplegeneric>0.8 in /home/cstudent/.local/lib/python2.7/site-packages (from ipython<6.0.0,>=4.0.0; python_version < \"3.3\"->ipywidgets) (0.8.1)\n",
      "Requirement already satisfied: prompt-toolkit<2.0.0,>=1.0.4 in /home/cstudent/.local/lib/python2.7/site-packages (from ipython<6.0.0,>=4.0.0; python_version < \"3.3\"->ipywidgets) (1.0.18)\n",
      "Requirement already satisfied: pickleshare in /home/cstudent/.local/lib/python2.7/site-packages (from ipython<6.0.0,>=4.0.0; python_version < \"3.3\"->ipywidgets) (0.7.5)\n",
      "Requirement already satisfied: pexpect; sys_platform != \"win32\" in /home/cstudent/.local/lib/python2.7/site-packages (from ipython<6.0.0,>=4.0.0; python_version < \"3.3\"->ipywidgets) (4.8.0)\n",
      "Requirement already satisfied: pygments<2.6 in /home/cstudent/.local/lib/python2.7/site-packages (from ipython<6.0.0,>=4.0.0; python_version < \"3.3\"->ipywidgets) (2.5.2)\n",
      "Collecting setuptools>=18.5\n",
      "  Downloading setuptools-44.1.1-py2.py3-none-any.whl (583 kB)\n",
      "\u001b[K     |████████████████████████████████| 583 kB 3.5 MB/s \n",
      "\u001b[?25hRequirement already satisfied: notebook>=4.4.1 in /home/cstudent/.local/lib/python2.7/site-packages (from widgetsnbextension~=3.5.0->ipywidgets) (5.7.10)\n",
      "Requirement already satisfied: python-dateutil>=2.1 in /home/cstudent/.local/lib/python2.7/site-packages (from jupyter-client->ipykernel>=4.5.1->ipywidgets) (2.8.1)\n",
      "Requirement already satisfied: pyzmq>=13 in /home/cstudent/.local/lib/python2.7/site-packages (from jupyter-client->ipykernel>=4.5.1->ipywidgets) (19.0.2)\n",
      "Requirement already satisfied: backports-abc>=0.4 in /home/cstudent/.local/lib/python2.7/site-packages (from tornado>=4.0->ipykernel>=4.5.1->ipywidgets) (0.5)\n",
      "Requirement already satisfied: futures in /usr/lib/python2.7/site-packages (from tornado>=4.0->ipykernel>=4.5.1->ipywidgets) (3.1.1)\n",
      "Requirement already satisfied: singledispatch in /home/cstudent/.local/lib/python2.7/site-packages (from tornado>=4.0->ipykernel>=4.5.1->ipywidgets) (3.4.0.3)\n",
      "Requirement already satisfied: importlib-metadata; python_version < \"3.8\" in /home/cstudent/.local/lib/python2.7/site-packages (from jsonschema!=2.5.0,>=2.4->nbformat>=4.2.0->ipywidgets) (2.0.0)\n",
      "Requirement already satisfied: attrs>=17.4.0 in /home/cstudent/.local/lib/python2.7/site-packages (from jsonschema!=2.5.0,>=2.4->nbformat>=4.2.0->ipywidgets) (20.2.0)\n",
      "Requirement already satisfied: pyrsistent>=0.14.0 in /home/cstudent/.local/lib/python2.7/site-packages (from jsonschema!=2.5.0,>=2.4->nbformat>=4.2.0->ipywidgets) (0.16.1)\n",
      "Requirement already satisfied: functools32; python_version < \"3\" in /home/cstudent/.local/lib/python2.7/site-packages (from jsonschema!=2.5.0,>=2.4->nbformat>=4.2.0->ipywidgets) (3.2.3-2)\n",
      "Requirement already satisfied: scandir; python_version < \"3.5\" in /home/cstudent/.local/lib/python2.7/site-packages (from pathlib2; python_version == \"2.7\" or python_version == \"3.3\"->ipython<6.0.0,>=4.0.0; python_version < \"3.3\"->ipywidgets) (1.10.0)\n",
      "Requirement already satisfied: wcwidth in /home/cstudent/.local/lib/python2.7/site-packages (from prompt-toolkit<2.0.0,>=1.0.4->ipython<6.0.0,>=4.0.0; python_version < \"3.3\"->ipywidgets) (0.2.5)\n",
      "Requirement already satisfied: ptyprocess>=0.5 in /home/cstudent/.local/lib/python2.7/site-packages (from pexpect; sys_platform != \"win32\"->ipython<6.0.0,>=4.0.0; python_version < \"3.3\"->ipywidgets) (0.6.0)\n",
      "Requirement already satisfied: nbconvert<6.0 in /home/cstudent/.local/lib/python2.7/site-packages (from notebook>=4.4.1->widgetsnbextension~=3.5.0->ipywidgets) (5.6.1)\n",
      "Requirement already satisfied: Send2Trash in /home/cstudent/.local/lib/python2.7/site-packages (from notebook>=4.4.1->widgetsnbextension~=3.5.0->ipywidgets) (1.5.0)\n",
      "Requirement already satisfied: prometheus-client in /home/cstudent/.local/lib/python2.7/site-packages (from notebook>=4.4.1->widgetsnbextension~=3.5.0->ipywidgets) (0.8.0)\n",
      "Requirement already satisfied: jinja2 in /home/cstudent/.local/lib/python2.7/site-packages (from notebook>=4.4.1->widgetsnbextension~=3.5.0->ipywidgets) (2.11.2)\n",
      "Requirement already satisfied: terminado>=0.8.1 in /home/cstudent/.local/lib/python2.7/site-packages (from notebook>=4.4.1->widgetsnbextension~=3.5.0->ipywidgets) (0.8.3)\n",
      "Requirement already satisfied: ipaddress; python_version == \"2.7\" in /usr/lib/python2.7/site-packages (from notebook>=4.4.1->widgetsnbextension~=3.5.0->ipywidgets) (1.0.16)\n",
      "Requirement already satisfied: contextlib2; python_version < \"3\" in /home/cstudent/.local/lib/python2.7/site-packages (from importlib-metadata; python_version < \"3.8\"->jsonschema!=2.5.0,>=2.4->nbformat>=4.2.0->ipywidgets) (0.6.0.post1)\n",
      "Requirement already satisfied: zipp>=0.5 in /home/cstudent/.local/lib/python2.7/site-packages (from importlib-metadata; python_version < \"3.8\"->jsonschema!=2.5.0,>=2.4->nbformat>=4.2.0->ipywidgets) (1.2.0)\n",
      "Requirement already satisfied: configparser>=3.5; python_version < \"3\" in /home/cstudent/.local/lib/python2.7/site-packages (from importlib-metadata; python_version < \"3.8\"->jsonschema!=2.5.0,>=2.4->nbformat>=4.2.0->ipywidgets) (4.0.2)\n",
      "Requirement already satisfied: backports.functools-lru-cache>=1.2.1; python_version < \"3.2\" in /home/cstudent/.local/lib/python2.7/site-packages (from wcwidth->prompt-toolkit<2.0.0,>=1.0.4->ipython<6.0.0,>=4.0.0; python_version < \"3.3\"->ipywidgets) (1.6.1)\n",
      "Requirement already satisfied: defusedxml in /home/cstudent/.local/lib/python2.7/site-packages (from nbconvert<6.0->notebook>=4.4.1->widgetsnbextension~=3.5.0->ipywidgets) (0.6.0)\n",
      "Requirement already satisfied: bleach in /home/cstudent/.local/lib/python2.7/site-packages (from nbconvert<6.0->notebook>=4.4.1->widgetsnbextension~=3.5.0->ipywidgets) (3.2.1)\n",
      "Requirement already satisfied: mistune<2,>=0.8.1 in /home/cstudent/.local/lib/python2.7/site-packages (from nbconvert<6.0->notebook>=4.4.1->widgetsnbextension~=3.5.0->ipywidgets) (0.8.4)\n",
      "Requirement already satisfied: pandocfilters>=1.4.1 in /home/cstudent/.local/lib/python2.7/site-packages (from nbconvert<6.0->notebook>=4.4.1->widgetsnbextension~=3.5.0->ipywidgets) (1.4.2)\n",
      "Requirement already satisfied: entrypoints>=0.2.2 in /home/cstudent/.local/lib/python2.7/site-packages (from nbconvert<6.0->notebook>=4.4.1->widgetsnbextension~=3.5.0->ipywidgets) (0.3)\n",
      "Requirement already satisfied: testpath in /home/cstudent/.local/lib/python2.7/site-packages (from nbconvert<6.0->notebook>=4.4.1->widgetsnbextension~=3.5.0->ipywidgets) (0.4.4)\n",
      "Requirement already satisfied: MarkupSafe>=0.23 in /home/cstudent/.local/lib/python2.7/site-packages (from jinja2->notebook>=4.4.1->widgetsnbextension~=3.5.0->ipywidgets) (1.1.1)\n",
      "Requirement already satisfied: packaging in /home/cstudent/.local/lib/python2.7/site-packages (from bleach->nbconvert<6.0->notebook>=4.4.1->widgetsnbextension~=3.5.0->ipywidgets) (20.4)\n",
      "Requirement already satisfied: webencodings in /home/cstudent/.local/lib/python2.7/site-packages (from bleach->nbconvert<6.0->notebook>=4.4.1->widgetsnbextension~=3.5.0->ipywidgets) (0.5.1)\n",
      "Requirement already satisfied: pyparsing>=2.0.2 in /home/cstudent/.local/lib/python2.7/site-packages (from packaging->bleach->nbconvert<6.0->notebook>=4.4.1->widgetsnbextension~=3.5.0->ipywidgets) (2.4.7)\n",
      "Installing collected packages: widgetsnbextension, ipywidgets, setuptools\n",
      "\u001b[31mERROR: After October 2020 you may experience errors when installing or updating packages. This is because pip will change the way that it resolves dependency conflicts.\n",
      "\n",
      "We recommend you use --use-feature=2020-resolver to test your packages with the new resolver before it becomes the default.\n",
      "\n",
      "ipapython 4.6.5 requires dnspython>=1.15, but you'll have dnspython 1.12.0 which is incompatible.\n",
      "ipapython 4.6.5 requires python-ldap>=3.0.0b1, but you'll have python-ldap 2.4.15 which is incompatible.\u001b[0m\n",
      "Successfully installed ipywidgets-7.5.1 setuptools-44.1.1 widgetsnbextension-3.5.1\n"
     ]
    }
   ],
   "source": [
    "import sys\n",
    "!{sys.executable} -m pip install numpy\n",
    "!{sys.executable} -m pip install plotly\n",
    "!{sys.executable} -m pip install scipy\n",
    "!{sys.executable} -m pip install ipywidgets"
   ]
  },
  {
   "cell_type": "code",
   "execution_count": null,
   "metadata": {},
   "outputs": [],
   "source": []
  }
 ],
 "metadata": {
  "kernelspec": {
   "display_name": "Python 2",
   "language": "python",
   "name": "python2"
  },
  "language_info": {
   "codemirror_mode": {
    "name": "ipython",
    "version": 2
   },
   "file_extension": ".py",
   "mimetype": "text/x-python",
   "name": "python",
   "nbconvert_exporter": "python",
   "pygments_lexer": "ipython2",
   "version": "2.7.5"
  }
 },
 "nbformat": 4,
 "nbformat_minor": 4
}
