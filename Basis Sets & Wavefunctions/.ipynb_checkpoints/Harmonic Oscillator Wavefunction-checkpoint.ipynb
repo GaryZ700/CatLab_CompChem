{
 "cells": [
  {
   "cell_type": "markdown",
   "metadata": {},
   "source": [
    "\n",
    "## Harmonic Oscillator Wavefunction & Basis Set\n",
    "<br>\n",
    "Solving the Schrödinger equation with a potential defined as the quantum Harmonic Oscillator yields a set of wavefunctions that can be used as basis set for quantum mechanical calculations. The Schrödinger eqation with the Haromic Oscillator is defined as follows: \n",
    "<br><br>\n",
    "$$\\begin{align}\n",
    "    \\hat{H}\\Psi &= E\\Psi \\\\\n",
    "    \\hat{H} &= \\frac{-\\hbar^2}{2m}\\frac{\\partial^2}{\\partial x^2} + \\frac{1}{2}kr^2\n",
    "\\end{align}$$\n",
    "<br>\n",
    "The wavefunctions produced are:\n",
    "<br><br>\n",
    "$$\\begin{align}\n",
    "    \\psi_0 &= c_0 \\cdot e^{-\\frac{\\alpha r^2}{2}} \\\\\n",
    "    \\psi_1 &= c_0 \\cdot \\sqrt{2\\alpha}r \\cdot e^{-\\frac{\\alpha r^2}{2}} \\\\ \n",
    "    \\psi_2 &= c_0 \\cdot \\frac{2y^2 - 1}{\\sqrt{2}} \\cdot e^{-\\frac{\\alpha r^2}{2}} \\\\\n",
    "    \\psi_3 &= c_0 \\cdot \\frac{2y^3 - 3y}{\\sqrt{3}} \\cdot e^{-\\frac{\\alpha r^2}{2}} \\\\\n",
    "    \\\\\n",
    "    c_0 &= \\left[\\frac{\\alpha}{\\pi}\\right]^\\frac{1}{4} \\\\\n",
    "    y &= \\sqrt{\\alpha}r \\\\\n",
    "    \\alpha &= \\frac{\\mu\\omega}{\\hbar} \\\\\n",
    "    \\mu &= \\hbox{Reduced Atomic Mass} \\\\\n",
    "    \\omega &= \\frac{\\hbox{Diatomic Molecule Vibrational Frequency}}{2\\pi}\n",
    "\\end{align}$$\n",
    "The changing term between $c_0$ and the $e$ terms is a polynomial series known as the Hermite Polynomials, and for each $\\psi_n$, there is a unique hermite polynomial to match.\n",
    "For each of the following $n$ values, the associated Hermite Polynomial, $H_n$, is presented.\n",
    "$$\\begin{matrix}\n",
    "    n & H_n \\\\\n",
    "    0 & 1 \\\\\n",
    "    1 & 2y \\\\\n",
    "    2 & 4y^2-2 \\\\\n",
    "    3 & 8y^3 - 12y \n",
    "\\end{matrix}$$\n",
    "<br>\n",
    "All information in this notebook originates from the following <a href=\"http://hyperphysics.phy-astr.gsu.edu/hbase/quantum/hosc5.html\">website</a>, and the <i>Franck-Condon Calculations</i> Matematica notebook provided by Dr. Jerry LaRue of Chapman University.    "
   ]
  },
  {
   "cell_type": "code",
   "execution_count": 21,
   "metadata": {},
   "outputs": [
    {
     "data": {
      "text/html": [
       "        <script type=\"text/javascript\">\n",
       "        window.PlotlyConfig = {MathJaxConfig: 'local'};\n",
       "        if (window.MathJax) {MathJax.Hub.Config({SVG: {font: \"STIX-Web\"}});}\n",
       "        if (typeof require !== 'undefined') {\n",
       "        require.undef(\"plotly\");\n",
       "        requirejs.config({\n",
       "            paths: {\n",
       "                'plotly': ['https://cdn.plot.ly/plotly-latest.min']\n",
       "            }\n",
       "        });\n",
       "        require(['plotly'], function(Plotly) {\n",
       "            window._Plotly = Plotly;\n",
       "        });\n",
       "        }\n",
       "        </script>\n",
       "        "
      ]
     },
     "metadata": {},
     "output_type": "display_data"
    }
   ],
   "source": [
    "#Import all Required Classes\n",
    "import numpy as np\n",
    "from plotly.offline import iplot, init_notebook_mode\n",
    "init_notebook_mode(connected=True)\n",
    "\n",
    "#Declare All Global Variables Here\n",
    "figure = {\n",
    "    \"data\":[]\n",
    "}\n",
    "\n",
    "Re = 0 \n",
    "w = 1\n",
    "u = 1"
   ]
  },
  {
   "cell_type": "code",
   "execution_count": 45,
   "metadata": {},
   "outputs": [],
   "source": [
    "#Define all Needed Functions Here\n",
    "#Returns a lambda function of the nth hermite polynomial\n",
    "def hermite(n, k):\n",
    "    \n",
    "    c = pow(-1, k) * np.math.factorial(n) / ( np.math.factorial(k) * np.math.factorial(n - 2*k) )\n",
    "        \n",
    "    if(k == 0):\n",
    "        return lambda r : c * pow(2*np.sqrt(u * w)*( r - Re ), n-(2*k))\n",
    "    else: \n",
    "        return lambda r : c * pow(2*np.sqrt(u * w)*( r - Re ), n-(2*k)) + hermite(n, k-1)(r)\n",
    "        \n",
    "###################################################################################################################\n",
    "         \n",
    "#Constructs the nth hermite polynomial function, and returns the specified lambda function\n",
    "def buildHermite(n):\n",
    "    return hermite(n, n // 2)\n",
    "\n",
    "###################################################################################################################\n",
    "\n",
    "#Harmonic Oscillator Wavefunction Equation\n",
    "#Returns a lambda function representing the specifed Harmonic Oscillator\n",
    "def buildHOW(n):\n",
    "    \n",
    "    #c refer to portions of the normalization constant used with the wavefunction\n",
    "    c0 = 1 / np.sqrt(pow(2, n) * np.math.factorial(n))\n",
    "    c1 = (u*w) / (np.pi * hbar)\n",
    "    hermite = buildHermite(n)\n",
    "    ce = (u*w) / (2*hbar)\n",
    "    \n",
    "    return lambda r : hermite * c0 * c1 * np.exp(-ce * pow(r-re, 2) )"
   ]
  },
  {
   "cell_type": "code",
   "execution_count": 46,
   "metadata": {
    "scrolled": true
   },
   "outputs": [
    {
     "ename": "NameError",
     "evalue": "name 'v' is not defined",
     "output_type": "error",
     "traceback": [
      "\u001b[1;31m---------------------------------------------------------------------------\u001b[0m",
      "\u001b[1;31mNameError\u001b[0m                                 Traceback (most recent call last)",
      "\u001b[1;32m<ipython-input-46-1eeec537f382>\u001b[0m in \u001b[0;36m<module>\u001b[1;34m\u001b[0m\n\u001b[1;32m----> 1\u001b[1;33m \u001b[0mbuildHOW\u001b[0m\u001b[1;33m(\u001b[0m\u001b[1;36m0\u001b[0m\u001b[1;33m)\u001b[0m\u001b[1;33m\u001b[0m\u001b[1;33m\u001b[0m\u001b[0m\n\u001b[0m",
      "\u001b[1;32m<ipython-input-45-b50c430ae673>\u001b[0m in \u001b[0;36mbuildHOW\u001b[1;34m(n)\u001b[0m\n\u001b[0;32m     23\u001b[0m \u001b[1;33m\u001b[0m\u001b[0m\n\u001b[0;32m     24\u001b[0m     \u001b[1;31m#c refer to portions of the normalization constant used with the wavefunction\u001b[0m\u001b[1;33m\u001b[0m\u001b[1;33m\u001b[0m\u001b[1;33m\u001b[0m\u001b[0m\n\u001b[1;32m---> 25\u001b[1;33m     \u001b[0mc0\u001b[0m \u001b[1;33m=\u001b[0m \u001b[1;36m1\u001b[0m \u001b[1;33m/\u001b[0m \u001b[0mnp\u001b[0m\u001b[1;33m.\u001b[0m\u001b[0msqrt\u001b[0m\u001b[1;33m(\u001b[0m\u001b[0mpow\u001b[0m\u001b[1;33m(\u001b[0m\u001b[1;36m2\u001b[0m\u001b[1;33m,\u001b[0m \u001b[0mn\u001b[0m\u001b[1;33m)\u001b[0m \u001b[1;33m*\u001b[0m \u001b[0mnp\u001b[0m\u001b[1;33m.\u001b[0m\u001b[0mmath\u001b[0m\u001b[1;33m.\u001b[0m\u001b[0mfactorial\u001b[0m\u001b[1;33m(\u001b[0m\u001b[0mv\u001b[0m\u001b[1;33m)\u001b[0m\u001b[1;33m)\u001b[0m\u001b[1;33m\u001b[0m\u001b[1;33m\u001b[0m\u001b[0m\n\u001b[0m\u001b[0;32m     26\u001b[0m     \u001b[0mc1\u001b[0m \u001b[1;33m=\u001b[0m \u001b[1;33m(\u001b[0m\u001b[0mu\u001b[0m\u001b[1;33m*\u001b[0m\u001b[0mw\u001b[0m\u001b[1;33m)\u001b[0m \u001b[1;33m/\u001b[0m \u001b[1;33m(\u001b[0m\u001b[0mnp\u001b[0m\u001b[1;33m.\u001b[0m\u001b[0mpi\u001b[0m \u001b[1;33m*\u001b[0m \u001b[0mhbar\u001b[0m\u001b[1;33m)\u001b[0m\u001b[1;33m\u001b[0m\u001b[1;33m\u001b[0m\u001b[0m\n\u001b[0;32m     27\u001b[0m     \u001b[0mhermite\u001b[0m \u001b[1;33m=\u001b[0m \u001b[0mbuildHermite\u001b[0m\u001b[1;33m(\u001b[0m\u001b[0mn\u001b[0m\u001b[1;33m)\u001b[0m\u001b[1;33m\u001b[0m\u001b[1;33m\u001b[0m\u001b[0m\n",
      "\u001b[1;31mNameError\u001b[0m: name 'v' is not defined"
     ]
    }
   ],
   "source": [
    "buildHOW(0)"
   ]
  }
 ],
 "metadata": {
  "kernelspec": {
   "display_name": "Python 3",
   "language": "python",
   "name": "python3"
  },
  "language_info": {
   "codemirror_mode": {
    "name": "ipython",
    "version": 3
   },
   "file_extension": ".py",
   "mimetype": "text/x-python",
   "name": "python",
   "nbconvert_exporter": "python",
   "pygments_lexer": "ipython3",
   "version": "3.7.3"
  }
 },
 "nbformat": 4,
 "nbformat_minor": 2
}
