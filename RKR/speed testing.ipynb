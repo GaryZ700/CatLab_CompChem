{
 "cells": [
  {
   "cell_type": "code",
   "execution_count": 1,
   "metadata": {},
   "outputs": [],
   "source": [
    "import time"
   ]
  },
  {
   "cell_type": "code",
   "execution_count": 2,
   "metadata": {},
   "outputs": [
    {
     "name": "stdout",
     "output_type": "stream",
     "text": [
      "4.099999387108255e-06\n",
      "1.2000000424450263e-06\n"
     ]
    }
   ],
   "source": [
    "import timeit\n",
    "\n",
    "def test():\n",
    "    a = 12.12341234\n",
    "    b = a + pow(a, 2) + pow(a, 3) + pow(a, 4)\n",
    "    \n",
    "def test1():\n",
    "    a = 12.12341234\n",
    "    b = a\n",
    "    a*= a\n",
    "    b += a \n",
    "    a*= a\n",
    "    b+= a\n",
    "    a*= a \n",
    "    b+= a\n",
    "\n",
    "print(timeit.timeit(test, number=2))\n",
    "print(timeit.timeit(test1, number=2))"
   ]
  },
  {
   "cell_type": "code",
   "execution_count": 3,
   "metadata": {},
   "outputs": [
    {
     "data": {
      "text/plain": [
       "0.47245329999998376"
      ]
     },
     "execution_count": 3,
     "metadata": {},
     "output_type": "execute_result"
    }
   ],
   "source": [
    "0.47245329999998376\n"
   ]
  },
  {
   "cell_type": "code",
   "execution_count": 4,
   "metadata": {},
   "outputs": [
    {
     "name": "stdout",
     "output_type": "stream",
     "text": [
      "0.17660050000000016\n",
      "0.16261020000000004\n",
      "0.5710112999999999\n",
      "0.050544400000000156\n",
      "0.21230520000000008\n"
     ]
    }
   ],
   "source": [
    "def mul(x, y):\n",
    "    a = 1\n",
    "    for i in range(y):\n",
    "        a *= x\n",
    "    return a\n",
    "\n",
    "def pow2(x, y):\n",
    "    return x ** y\n",
    "\n",
    "def test():\n",
    "    a = pow(1.02334234, 10)\n",
    "def test1():\n",
    "    b = 1.02334234\n",
    "    a = b * b * b * b * b * b * b * b * b * b\n",
    "def test2():\n",
    "    a = mul(1.02334234, 10)\n",
    "def test3():\n",
    "    a = 1.02334234 ** 10\n",
    "def test4():\n",
    "    a = pow2(1.02334234, 10)\n",
    "\n",
    "print(timeit.timeit(test, number=1000000))\n",
    "print(timeit.timeit(test1, number=1000000))\n",
    "print(timeit.timeit(test2, number=1000000))\n",
    "print(timeit.timeit(test3, number=1000000))\n",
    "print(timeit.timeit(test4, number=1000000))"
   ]
  },
  {
   "cell_type": "code",
   "execution_count": 5,
   "metadata": {},
   "outputs": [
    {
     "name": "stdout",
     "output_type": "stream",
     "text": [
      "5.900000000114147e-06\n",
      "4.699999999857596e-06\n"
     ]
    }
   ],
   "source": [
    "def test():\n",
    "    x = 1.3453453\n",
    "    y = x + pow(x, 2) + pow(x, 3) + pow(x, 4) + pow(x, 5)\n",
    "def test2():\n",
    "        x = 1.3453453\n",
    "        y = x * (1 + x + pow(x, 2) + pow(x, 3) + pow(x, 4))\n",
    "\n",
    "print(timeit.timeit(test, number=5))\n",
    "print(timeit.timeit(test2, number=5))"
   ]
  },
  {
   "cell_type": "code",
   "execution_count": 7,
   "metadata": {},
   "outputs": [
    {
     "name": "stdout",
     "output_type": "stream",
     "text": [
      "0.10304500000000161\n",
      "0.10230939999999933\n"
     ]
    }
   ],
   "source": [
    "def test():\n",
    "    x = 1.3453453\n",
    "    y = (2*x + 1)\n",
    "def test2():\n",
    "    x = 1.3453453\n",
    "    y = 2*x + 1\n",
    "\n",
    "print(timeit.timeit(test, number=1000000))\n",
    "print(timeit.timeit(test2, number=1000000))"
   ]
  },
  {
   "cell_type": "code",
   "execution_count": 14,
   "metadata": {},
   "outputs": [
    {
     "name": "stdout",
     "output_type": "stream",
     "text": [
      "0.10794230000101379\n",
      "0.1813996999990195\n",
      "0.16620719999991707\n"
     ]
    }
   ],
   "source": [
    "import numpy as np\n",
    "def test():\n",
    "    x = 1.3453453\n",
    "    y = x*x*x*x*x\n",
    "def test2():\n",
    "    x = 1.3453453\n",
    "    y = pow(x, 5)\n",
    "def test3():\n",
    "    x = 1.3453453\n",
    "    y = x ** 5\n",
    "\n",
    "print(timeit.timeit(test, number=1000000))\n",
    "print(timeit.timeit(test2, number=1000000))\n",
    "print(timeit.timeit(test3, number=1000000))\n"
   ]
  },
  {
   "cell_type": "code",
   "execution_count": 16,
   "metadata": {},
   "outputs": [
    {
     "name": "stdout",
     "output_type": "stream",
     "text": [
      "0.1635785999969812\n",
      "0.3894107999985863\n",
      "0.17503080000096816\n"
     ]
    }
   ],
   "source": [
    "def test():\n",
    "    x = 1.2342\n",
    "    y = (x+1) * (x-1) * (x+2)\n",
    "def test2():\n",
    "    x = 1.2342\n",
    "    y = pow(x,3) + 2*pow(x,2) - x - 2\n",
    "def test3():\n",
    "    x = 1.2342\n",
    "    y = x*x*x + 2*x*x - x - 2\n",
    "\n",
    "print(timeit.timeit(test, number=1000000))\n",
    "print(timeit.timeit(test2, number=1000000))\n",
    "print(timeit.timeit(test3, number=1000000))\n"
   ]
  },
  {
   "cell_type": "code",
   "execution_count": 15,
   "metadata": {},
   "outputs": [
    {
     "name": "stdout",
     "output_type": "stream",
     "text": [
      "0.35787019999952463\n",
      "0.321680699999888\n",
      "0.3368186000006972\n"
     ]
    }
   ],
   "source": [
    "def test():\n",
    "    x = dict(r=[], e=[])\n",
    "    x[\"e\"].extend([\"a\"] * 2)\n",
    "def test2():\n",
    "    x = dict(r=[], e=[])\n",
    "    a = \"a\"\n",
    "    x[\"e\"].extend([a, a])\n",
    "def test3():\n",
    "    x = dict(r=[], e=[])\n",
    "    x[\"e\"].append(\"a\")\n",
    "    x[\"e\"].append(\"a\")\n",
    "\n",
    "print(timeit.timeit(test, number=1000000))\n",
    "print(timeit.timeit(test2, number=1000000))\n",
    "print(timeit.timeit(test3, number=1000000))"
   ]
  },
  {
   "cell_type": "code",
   "execution_count": null,
   "metadata": {},
   "outputs": [],
   "source": []
  },
  {
   "cell_type": "code",
   "execution_count": null,
   "metadata": {},
   "outputs": [],
   "source": []
  }
 ],
 "metadata": {
  "kernelspec": {
   "display_name": "Python 3",
   "language": "python",
   "name": "python3"
  },
  "language_info": {
   "codemirror_mode": {
    "name": "ipython",
    "version": 3
   },
   "file_extension": ".py",
   "mimetype": "text/x-python",
   "name": "python",
   "nbconvert_exporter": "python",
   "pygments_lexer": "ipython3",
   "version": "3.8.0"
  }
 },
 "nbformat": 4,
 "nbformat_minor": 4
}
