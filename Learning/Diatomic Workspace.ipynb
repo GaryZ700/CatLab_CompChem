{
 "cells": [
  {
   "cell_type": "code",
   "execution_count": null,
   "metadata": {},
   "outputs": [],
   "source": [
    "##Allow Notebook to Import from Comp_Chem_Package\n",
    "import sys\n",
    "if(\"win\" in sys.platform):\n",
    "    sys.path.append(\"..\\\\Backend\")\n",
    "else: \n",
    "    sys.path.append(\"../Backend\")"
   ]
  },
  {
   "cell_type": "markdown",
   "metadata": {},
   "source": [
    "## Diatomic Workspace \n",
    "The Diatomic Workspace notebook is designed to allow it users to interact directly with the Computational Chemistry package without needing to enage in any programming. It is strictly a user interface that provides simple access to calculation of the wavefunctions for diatomic molecules. Please see the interface below, and provide the information requested into the widgets to begin using this interface. "
   ]
  },
  {
   "cell_type": "code",
   "execution_count": 2,
   "metadata": {},
   "outputs": [],
   "source": [
    "#Import all required classes here\n",
    "from nistScraper import *\n",
    "from how import *\n",
    "from basisSet import *\n",
    "from rkr import *\n",
    "from morsePotential import *\n",
    "from operators import *\n",
    "from schrodinger import *\n",
    "import dill\n",
    "import pickle\n",
    "import os"
   ]
  },
  {
   "cell_type": "code",
   "execution_count": 3,
   "metadata": {},
   "outputs": [],
   "source": [
    "#Set up widgets here\n",
    "diatomicName = widgets.Text(\n",
    "    value = \"CO\",\n",
    "    description = '<p style=\"font-family:verdana;font-size:15px\">Diatomic</p>'\n",
    ")\n",
    "basisSize = widgets.IntText(\n",
    "    value = 4,\n",
    "    description = '<p style=\"font-family:verdana;font-size:15px\">Basis Size</p>' \n",
    ")\n",
    "startButton = widgets.ToggleButton(\n",
    "    value = False, \n",
    "    description = \"Start Calculation\",\n",
    "    button_style = \"info\"\n",
    ")\n",
    "info = widgets.HTML(\n",
    "    value = '<p style=\"font-family:verdana;font-size:15px\"></p>'\n",
    ")\n",
    "massWidget = widgets.Dropdown(\n",
    "    options = [\"Default NIST Value\", \"Times 2\", \"Divide by 2\"],\n",
    "    value = \"Default NIST Value\",\n",
    "    description = '<p style=\"font-family:verdana;font-size:15px\">Mass AMU</p>'\n",
    ")\n",
    "wWidget = widgets.Dropdown(\n",
    "    options = [\"Default NIST Value\", \"Times 2\", \"Divide by 2\"],\n",
    "    value = \"Default NIST Value\",\n",
    "    description = '<p style=\"font-family:verdana;font-size:15px\">ω<sub>e</sub> 1/cm</p>' \n",
    ")\n",
    "\n",
    "\n",
    "wValues = { \"Default NIST Value\" : \"DEF\", \n",
    "            \"Divide by 2\" : 0.5, \n",
    "            \"Times 2\" : 2, \n",
    "          }\n",
    "massValues = { \"Default NIST Value\" : \"DEF\", \n",
    "                \"Divide by 2\" : 0.5 , \n",
    "                \"Times 2\" : 2, \n",
    "              }\n",
    "\n",
    "out = widgets.Output()"
   ]
  },
  {
   "cell_type": "code",
   "execution_count": 4,
   "metadata": {},
   "outputs": [
    {
     "data": {
      "application/vnd.jupyter.widget-view+json": {
       "model_id": "58786b876dd14df6b9261c71eef71ae3",
       "version_major": 2,
       "version_minor": 0
      },
      "text/plain": [
       "VBox(children=(HBox(children=(Text(value='CO', description='<p style=\"font-family:verdana;font-size:15px\">Diat…"
      ]
     },
     "metadata": {},
     "output_type": "display_data"
    },
    {
     "data": {
      "application/vnd.jupyter.widget-view+json": {
       "model_id": "ccf07e79c7bf46158932fef5728e8330",
       "version_major": 2,
       "version_minor": 0
      },
      "text/plain": [
       "Output()"
      ]
     },
     "metadata": {},
     "output_type": "display_data"
    }
   ],
   "source": [
    "#main logic \n",
    "storagePath = \".\\\\dataStorage\\\\\" if \"win\" in sys.platform else \"./dataStorage/\"\n",
    "\n",
    "def buildSchrodSolution(schrodFileName):\n",
    "    dc = getDiatomicConstants(diatomicName.value)\n",
    "        \n",
    "    #check if diatomic provided can be found\n",
    "    if(dc == False):\n",
    "        info.value = \"Could not find requested diatomic, please try again.\"\n",
    "        return False\n",
    "    \n",
    "    info.value = '<p style=\"font-family:verdana;font-size:15px\">Calculating.....</p>'\n",
    "\n",
    "    #check if alternative mass or omega e shouuld be used\n",
    "    if(wValues[wWidget.value] != \"DEF\"):\n",
    "        dc[\"w\"] = dc[\"w\"] * wValues[wWidget.value]\n",
    "    if(massValues[massWidget.value] != \"DEF\"):\n",
    "        dc[\"u\"] = dc[\"u\"] * massValues[massWidget.value]\n",
    "    print(dc)\n",
    "    \n",
    "    basis = basisSet(dc, basisFunctionClass = how, size = basisSize.value)\n",
    "    fitting = morsePotential(dc, rkr(dc).compute())\n",
    "    #schrodSolution = schrod(HOperator(TOperator(basis), VOperator(basis, fitting)), basis, fitting)\n",
    "    schrodSolution = schrod(HOperator(basis, fitting), basis, fitting)\n",
    "    \n",
    "    with open(schrodFileName, \"wb\") as schrodBin:\n",
    "        dill.dump(schrodSolution, schrodBin)       \n",
    "        \n",
    "    return schrodSolution\n",
    "\n",
    "def compute(value):\n",
    "    \n",
    "    startButton.value = False\n",
    "    if(not value[\"new\"]):\n",
    "        return \n",
    "    \n",
    "    schrodFileName = storagePath + diatomicName.value + str(wValues[wWidget.value]) + str(massValues[massWidget.value])\n",
    "        \n",
    "    #check if data storage already has the wavefunctions calculated\n",
    "    if(os.path.exists(schrodFileName)):\n",
    "        with open(schrodFileName, 'rb') as schrodBin:\n",
    "            schrodSolution = dill.load(schrodBin)    \n",
    "            \n",
    "            #if the user is running a larger basis set then allow the user to run their calculation\n",
    "            if(schrodSolution.maxWaveFunctions < basisSize.value):\n",
    "                endCalcMessage = '<p style=\"font-family:verdana;font-size:15px\">Calculation Completed</p>'\n",
    "                schrodSolution = buildSchrodSolution(schrodFileName)\n",
    "                \n",
    "            else: \n",
    "                endCalcMessage = '<p style=\"font-family:verdana;font-size:15px\">Found Saved Diatomic Schrodinger Solution with basis size of ' + str(schrodSolution.basis.size) + '.</p>'\n",
    "    else: \n",
    "        endCalcMessage = '<p style=\"font-family:verdana;font-size:15px\">Calculation Completed</p>'\n",
    "        schrodSolution = buildSchrodSolution(schrodFileName)\n",
    "        \n",
    "    if(schrodSolution == False):\n",
    "        return\n",
    "        \n",
    "    info.value = endCalcMessage\n",
    "\n",
    "    with out:\n",
    "        graph = schrodSolution.graph(getGraph = True)\n",
    "        out.clear_output()\n",
    "        display(graph)   \n",
    "    \n",
    "startButton.observe(compute, names=\"value\")\n",
    "\n",
    "display(widgets.VBox([\n",
    "        widgets.HBox([diatomicName, basisSize, startButton]),\n",
    "        widgets.HBox([wWidget, massWidget]),\n",
    "        info]))\n",
    "display(out)"
   ]
  },
  {
   "cell_type": "code",
   "execution_count": 5,
   "metadata": {},
   "outputs": [
    {
     "ename": "FileNotFoundError",
     "evalue": "[Errno 2] No such file or directory: '.\\\\dataStorage\\\\NODEFDEF'",
     "output_type": "error",
     "traceback": [
      "\u001b[1;31m---------------------------------------------------------------------------\u001b[0m",
      "\u001b[1;31mFileNotFoundError\u001b[0m                         Traceback (most recent call last)",
      "\u001b[1;32m<ipython-input-5-24757988c1f7>\u001b[0m in \u001b[0;36m<module>\u001b[1;34m\u001b[0m\n\u001b[1;32m----> 1\u001b[1;33m \u001b[1;32mwith\u001b[0m \u001b[0mopen\u001b[0m\u001b[1;33m(\u001b[0m\u001b[0mstoragePath\u001b[0m \u001b[1;33m+\u001b[0m \u001b[1;34m\"NODEFDEF\"\u001b[0m\u001b[1;33m,\u001b[0m \u001b[1;34m'rb'\u001b[0m\u001b[1;33m)\u001b[0m \u001b[1;32mas\u001b[0m \u001b[0mschrodBin\u001b[0m\u001b[1;33m:\u001b[0m\u001b[1;33m\u001b[0m\u001b[1;33m\u001b[0m\u001b[0m\n\u001b[0m\u001b[0;32m      2\u001b[0m            \u001b[0mschrodSolution\u001b[0m \u001b[1;33m=\u001b[0m \u001b[0mdill\u001b[0m\u001b[1;33m.\u001b[0m\u001b[0mload\u001b[0m\u001b[1;33m(\u001b[0m\u001b[0mschrodBin\u001b[0m\u001b[1;33m)\u001b[0m\u001b[1;33m\u001b[0m\u001b[1;33m\u001b[0m\u001b[0m\n\u001b[0;32m      3\u001b[0m \u001b[1;32mimport\u001b[0m \u001b[0mtimeit\u001b[0m\u001b[1;33m\u001b[0m\u001b[1;33m\u001b[0m\u001b[0m\n",
      "\u001b[1;31mFileNotFoundError\u001b[0m: [Errno 2] No such file or directory: '.\\\\dataStorage\\\\NODEFDEF'"
     ]
    }
   ],
   "source": [
    " with open(storagePath + \"NODEFDEF\", 'rb') as schrodBin:\n",
    "            schrodSolution = dill.load(schrodBin)  \n",
    "import timeit"
   ]
  },
  {
   "cell_type": "code",
   "execution_count": null,
   "metadata": {},
   "outputs": [],
   "source": [
    "#timeit.timeit(schrodSolution.graph, number = 1)"
   ]
  },
  {
   "cell_type": "code",
   "execution_count": null,
   "metadata": {},
   "outputs": [],
   "source": [
    "def test(**n):\n",
    "    test2(dictData = n)\n",
    "def test2(**m):\n",
    "    print(bool(m[\"dictData\"]))\n",
    "    "
   ]
  }
 ],
 "metadata": {
  "kernelspec": {
   "display_name": "Python 3",
   "language": "python",
   "name": "python3"
  },
  "language_info": {
   "codemirror_mode": {
    "name": "ipython",
    "version": 3
   },
   "file_extension": ".py",
   "mimetype": "text/x-python",
   "name": "python",
   "nbconvert_exporter": "python",
   "pygments_lexer": "ipython3",
   "version": "3.8.5"
  }
 },
 "nbformat": 4,
 "nbformat_minor": 4
}
