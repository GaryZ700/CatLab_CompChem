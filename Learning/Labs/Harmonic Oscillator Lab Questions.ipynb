{
 "cells": [
  {
   "cell_type": "markdown",
   "id": "4b0558e2-403d-49cd-9241-d093e03532ef",
   "metadata": {},
   "source": [
    "<p>The following questions involve writing out equations and sketching out wavefunctions and the potential energy surface. Note, the sketches do not need to quantitatively accurate, they only need to show qualitative relationships.</p> \n",
    "\n",
    "<ol>\n",
    "    <li>Write out the following equations with respect to the Harmonic Oscillator System:</li>\n",
    "        <ol>\n",
    "            <li>Kinetic Energy Operator</li>\n",
    "            <li>Potential Energy Operator</li>\n",
    "            <li>Hamiltonian</li>\n",
    "            <li>Schrödinger Equation</li>\n",
    "            <li>Wavefunction Energies</li>\n",
    "        </ol>\n",
    "    <li>Sketch a predicted potential energy surface for the harmonic oscillator.</li>\n",
    "    <li>Sketch out the wavefunctions for the harmonic oscillator with v = 0, 1, 2 and 3.</li>\n",
    "    <li>Sketch out the probability distributions for the harmonic oscillators with v = 0, 1, 2, and 3.</li>"
   ]
  },
  {
   "cell_type": "markdown",
   "id": "f7732f12-4bac-4b24-bbdc-b63a4c2d9202",
   "metadata": {},
   "source": [
    "### Graph Instructions\n",
    "\n",
    "Click and drag your mouse within the graph to zoom into a specific portion of the graph. \n",
    "Use the plus/minus buttons at the top right corner of the graph in order to zoom in/out respectively. \n",
    "Click the house button in the upper right hand corner in order to reset the zoom to its default value. \n",
    "\n",
    "To hide a graph object, click on the object name in the right hand side of the graph. Click again to unhide the object. \n",
    "Double click on an object in the right hand side of the graph to have all the other objects become hidden except for that one object. Double click on the object again to have all the objects become visible again.\n",
    "\n",
    "Below the graph there are several options that can be modified in order to interact with the graph. The options on the last row of options are manual, meaning that once they are updated the blue \"Update Solution\" must be clicked in order for the changes specified to be reflected on the graph. The options above the last row are dynamic options meaning that as soon as they are modified, the graph will automatically update to reflect the changes. Below follows a description of each of the options: \n",
    "\n",
    "<li>Resolution: Specifies how smooth the graph should be drawn, the higher the resolution the better the graph will look, but the slower it will respond </li>\n",
    "<li>Precision: How many decimal places should be displayed when hovering over a point in the graph </li>\n",
    "<li>Visible $\\Psi$s: Specifies what wavefunctions should be visible on the graph. Individual levels are specified by their n value, and separate n values should be seprated by a semicolon Ex. 2;4;6;10, will only show the 2nd, 4th and 10th wavefunctions. Use a dash to only show the specified set of wavefunctions. Ex. 2-4, will show the 2nd, 3rd and 4th wavefunctions</li>\n",
    "<li>Scale: Value specifies how to scale wavefunctions in order to better see their valleys and peaks</li>\n",
    "<li>Start: Starting r position to draw graph at</li>\n",
    "<li>End: Ending r position to stop drawing graph at</li>\n",
    "<li>Mode: Allows for selection of being able to display wavefunctions, probability distributions, or both at the same time</li>\n",
    "<li>Diatomic: Choose which diatomic to view</li>\n",
    "<li>Comparison: Compare the Harmonic Oscillator against another Harmonic Oscillator or an Anharmonic Potential</li>\n",
    "<li>$\\mu$: When comparing against another Harmonic Osciallator, change the 2nd potential's reduced mass</li>\n",
    "<li>$\\omega$: When comparing against another Harmonic Osciallator, change the 2nd potential's 1st term vibrational constant</li>"
   ]
  },
  {
   "cell_type": "code",
   "execution_count": 1,
   "id": "ea25b0bb-f094-4497-86c4-8e594b918615",
   "metadata": {
    "jupyter": {
     "source_hidden": true
    },
    "tags": []
   },
   "outputs": [
    {
     "data": {
      "application/vnd.jupyter.widget-view+json": {
       "model_id": "8a41a0718a07405eab0763dd2e21876d",
       "version_major": 2,
       "version_minor": 0
      },
      "text/plain": [
       "Output()"
      ]
     },
     "metadata": {},
     "output_type": "display_data"
    }
   ],
   "source": [
    "#Allow Notebook to Import from Comp_Chem_Package\n",
    "import sys\n",
    "if(\"win\" in sys.platform):\n",
    "    sys.path.append(\"..\\\\..\\\\Backend\")\n",
    "else: \n",
    "    sys.path.append(\"../../Backend\")\n",
    "    \n",
    "from nistScraper import getDiatomicConstants \n",
    "from morsePotential import morsePotential\n",
    "from howPotential import howPotential\n",
    "from wavefunction import wavefunction\n",
    "from operators import HOperator\n",
    "from schrodinger import schrod\n",
    "from basisSet import basisSet\n",
    "from compChemGlobal import *\n",
    "from how import how\n",
    "from rkr import rkr\n",
    "\n",
    "from diatomicConstants import buildDiatomicConstants\n",
    "\n",
    "scaleFactor = 900\n",
    "\n",
    "diatomicSymbol = widgets.Dropdown(\n",
    "    options = [\"HCl\", \"DCl\"],\n",
    "    description = \"Diatomic\", \n",
    "    value = \"HCl\"\n",
    ")\n",
    "parameterOptions = [\"Normal\", \"Times 2\", \"Divide 2\"]\n",
    "u = widgets.Dropdown(\n",
    "    options = parameterOptions, \n",
    "    description = \"μ\", \n",
    "    value = \"Normal\"\n",
    ")\n",
    "w = widgets.Dropdown(\n",
    "    options = parameterOptions, \n",
    "    description = \"ω\", \n",
    "    value = \"Normal\"\n",
    ")\n",
    "comparison = widgets.Dropdown(\n",
    "    options = [\"Harmonic\", \"Anharmonic\"],\n",
    "    description = \"Comparison\", \n",
    "    value = \"Harmonic\"\n",
    ")\n",
    "diatomic = widgets.HBox([widgets.Label(\"Diatomic Symbol\"), diatomicSymbol, comparison, u, w])\n",
    "\n",
    "calculate = startButton = widgets.ToggleButton(\n",
    "    value = False, \n",
    "    description = \"Update Solution\",\n",
    "    button_style = \"info\"\n",
    ")\n",
    "\n",
    "info = widgets.HTML(\"\")\n",
    "graph = widgets.VBox()\n",
    "out = widgets.Output()\n",
    "    \n",
    "def inform(value):\n",
    "    info.value = value\n",
    "    out.clear_output()\n",
    "    with out: \n",
    "        display(info)\n",
    "\n",
    "#-------------------------------------------------------------------------------------\n",
    "\n",
    "def buildSolution(dc, name = \"\", size = 25, color = None):\n",
    "    pes =  howPotential(dc)\n",
    "    pes.color = color\n",
    "    basis = basisSet(dc, how, size)\n",
    "    sol = schrod()\n",
    "    sol.graphTitle = basis.diatomicConstants[\"name\"] + \" Harmonic Oscillator Schrödinger Solution\"\n",
    "    for index, bf in enumerate(basis):\n",
    "        #eigen value analytical equation derived from hyperphysics website for harmonic osciallator\n",
    "        \n",
    "        ev = (index + 0.5) * dc[\"w\"]\n",
    "        evec = [1 if i == index else 0 for i in range(basis.size)]\n",
    "        wf = wavefunction(evec, ev, basis, index).scale(scaleFactor)\n",
    "        wf2 = wavefunction(evec, ev, basis, index, squared=True).scale(scaleFactor)\n",
    "        wf.setGraphVariables(yEqualsCutoff = ev, color = color)\n",
    "        wf2.setGraphVariables(yEqualsCutoff = [ev], color = color)\n",
    "        \n",
    "        sol.addGraphableObject(wf)\n",
    "        sol.addGraphableObject(wf2)\n",
    "        \n",
    "    sol.addGraphableObject(pes)\n",
    "    sol.scaleFactor = scaleFactor\n",
    "    sol.pesLocations.append(len(sol.graphableObjects) - 1)\n",
    "    \n",
    "    return sol\n",
    " \n",
    "#-------------------------------------------------------------------------------------\n",
    "    \n",
    "def howPESUpdate():\n",
    "    dc = getDiatomicConstants(diatomicSymbol.value)\n",
    "    size = 19 if diatomicSymbol.value == \"HCl\" else 23\n",
    "    if(dc == False):\n",
    "        info.value = \"'\" + diatomicSymbol.value + \"' is not a valid diatomic molecule.\" \n",
    "        return\n",
    "    info.value = \"Calculating solution for \" + diatomicSymbol.value + \"...\" \n",
    "    \n",
    "    sol = buildSolution(dc, color = \"red\", size = size)\n",
    "    name = \"\"\n",
    "    #update diatomic constants\n",
    "    if(comparison.value == \"Harmonic\"):\n",
    "        for widget, index in [(u, \"u\"), (w, \"w\")]:\n",
    "            if(widget.value == \"Times 2\"):\n",
    "                dc[index] *= 2\n",
    "                name += \", \" + widget.description + \" \" + widget.value\n",
    "            elif(widget.value == \"Divide 2\"):\n",
    "                dc[index] /= 2\n",
    "                name += \", \" + widget.description + \" \" + widget.value\n",
    "                \n",
    "        if(name != \"\"):\n",
    "            sol.combineSolutions(buildSolution(dc, name, size = size, color = \"blue\"), name)\n",
    "    else: \n",
    "        sol2 = schrod()\n",
    "        sol2.load(dc[\"name\"], \"Harmonic Oscillator\", 120, \"Extended Rydberg Potential\", \"RKR\", scaleFactor = scaleFactor, color = \"blue\")\n",
    "        sol.combineSolutions(sol2, \" Anharmonic\")\n",
    "    \n",
    "    endPoints = [.45, 3] if diatomicSymbol.value == \"HCl\" else [0.3, 2.65]\n",
    "    sol.start, sol.end = endPoints[0], endPoints[1]\n",
    "    graph.children = ( (sol.graph(getGraph = True), diatomic, calculate, info) )\n",
    "    graph.children[0].children[0].update_xaxes(range=endPoints).update_yaxes(range=[0,sol.graphableObjects[1].energy + 5000])\n",
    "    \n",
    "    out.clear_output()\n",
    "    with out: \n",
    "        display(graph)\n",
    "    \n",
    "    info.value = \"Calculation Completed\"\n",
    "\n",
    "updateWrapper = lambda change :  howPESUpdate()\n",
    "\n",
    "calculate.observe(updateWrapper, names=\"value\")\n",
    "\n",
    "display(out)\n",
    "inform(\"Building Graph...\")\n",
    "howPESUpdate()  "
   ]
  },
  {
   "cell_type": "markdown",
   "id": "e6a570c0-4743-48be-9cf0-06b9402805dc",
   "metadata": {},
   "source": [
    "<br></br>\n",
    "<p>Answer the below qustions using the interactive graph of the v = 0, 1 and 2 wavefunctions.</p>"
   ]
  },
  {
   "cell_type": "markdown",
   "id": "d91a7e22-970d-4b87-a3f8-ff2ae49dc5da",
   "metadata": {},
   "source": [
    "<ol start=5>\n",
    "    <li>Compare your answers from the first set of questions to the plot. How did your predictions compare?</li>\n",
    "    <li>Sketch and predict the potential energy surface for the harmonic oscillator for both HCl and DCl.</li>\n",
    "    <li>Sketch the wavefunctions for the first 5 vibrational states for both HCl and DCl molecules.</li>\n",
    "    <li>Describe the relationship between the reduced mass of each of the molecules and the width of the harmonic oscillator. Hint: you can also change the value for reduced mass in the plot to see differences in the width more clearly.</li>\n",
    "    <li>Describe the relationship between the fundamental vibrational constant of each of the molecules and the width of the harmonic oscillator. Hint: you can also change the value for the fundamental vibrational frequency in the plot to see differences more clearly.</li>\n",
    "    <li>Predict how many nodes the v = 5, 10, 500 and 1000 wavefunctions will have. What is the equation in terms of v you can use to predict the number of nodes?</li>"
   ]
  },
  {
   "cell_type": "markdown",
   "id": "a6ae91e8-e934-41b8-bf92-80e764ac7496",
   "metadata": {},
   "source": [
    "<br><br>\n",
    "<p>Change the mode option in the graph above to \"Probability Distribution\"</p>"
   ]
  },
  {
   "cell_type": "markdown",
   "id": "f3c45e7b-e2b0-4fb9-8dd7-781f2b043d26",
   "metadata": {},
   "source": [
    "<ol start=11>\n",
    "    <li>For the n = 0, 1, and 2 states answer the following questions for both HCl and DCl in terms of angstroms:</li>\n",
    "    <ol>\n",
    "        <li>What is the most probably location of the molecule?</li>\n",
    "        <li>What is the average location of the molecule?</li>\n",
    "        <li>Where will the molecule never be found? Give the specific name of this location.</li>\n",
    "    </ol>\n",
    "    </ol>"
   ]
  },
  {
   "cell_type": "markdown",
   "id": "26f91946-d352-4bd6-90fb-53bf7b319cf0",
   "metadata": {},
   "source": [
    "<br></br>\n",
    "<p>The following questions will revolve around comparing a model of a diatomic molecule using a harmonic potential energy surface, and an anharmonic poetential energy surface. Specifically, the harmonic potential will be the harmonic oscillator presented above, while the anharmonic potential will be the anharmonic morse potential. On the graph above, change the Comparison mode from \"Harmonic\" to \"Anharmonic\". You may choose either HCl or DCl to compare the harmonic and anharmonic oscillators in the following questions.</p>"
   ]
  },
  {
   "cell_type": "markdown",
   "id": "65e43e18-a3de-4712-a63b-9c49c801a504",
   "metadata": {},
   "source": [
    "<ol start=12>\n",
    "    <li>Which of the two molecules are you chosing to investigate?</li>\n",
    "    <li>Why can a molecule represented by a harmonic oscillator not dissociate?</li> \n",
    "    <li>How will the energy levels of the harmonic and anharmonic potentials differ from one another?</li>\n",
    "    <li>Which wavefunctions, if any, will be nearly identical between the harmonic and anharmonic potentials?</li>\n",
    "    <li>Which potential (harmonic or anharmonic) best represents the actual behavior of diatomic molecules and why?</li>\n",
    "</ol>"
   ]
  },
  {
   "cell_type": "markdown",
   "id": "6a545ce4-1034-41ec-9bee-beec766cedeb",
   "metadata": {},
   "source": [
    "<br><br>\n",
    "Survey Questions<br>\n",
    "On a scale of 1 - 10, with 1 = I didn't enojoy this at all :( to 10 = I really enjoyed this!! :), how would you rate your interaction with the graph?<br>\n",
    "\n",
    "\n",
    "<br>For this lab, would you rather interact with the prebuilt graph, or write your own code to answer the questions?<br>\n",
    "\n",
    "<br>Did you experiance any technical issues with the graph?<br>\n",
    "\n",
    "<br>Did the graph help in your understanding of the concepts and ideas being discussed in this lab?<br>\n",
    "\n",
    "<br>Would you like to interact with this graph, and other similar quantum mechanical based interactive experiances outside of this lab and without any associated coursework? (Ex. Play around with it just for fun)?<br>\n",
    "\n",
    "<br>Do you have any suggestions for improving the visuals/controls of the graph?</br>\n",
    "\n",
    "<br>Were there any speed issues? (Graph very slow at updating, overall notebook felt sluggish?)</br>\n",
    "\n",
    "<br>Do you feel your entire chemistry experiance can be improved through the use of more simulations such as the one presented here?</br>"
   ]
  }
 ],
 "metadata": {
  "kernelspec": {
   "display_name": "Python 3",
   "language": "python",
   "name": "python3"
  },
  "language_info": {
   "codemirror_mode": {
    "name": "ipython",
    "version": 3
   },
   "file_extension": ".py",
   "mimetype": "text/x-python",
   "name": "python",
   "nbconvert_exporter": "python",
   "pygments_lexer": "ipython3",
   "version": "3.9.6"
  }
 },
 "nbformat": 4,
 "nbformat_minor": 5
}
