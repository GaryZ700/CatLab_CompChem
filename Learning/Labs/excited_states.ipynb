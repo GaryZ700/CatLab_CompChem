{
 "cells": [
  {
   "cell_type": "code",
   "execution_count": 1,
   "metadata": {
    "tags": []
   },
   "outputs": [],
   "source": [
    "#Allow Notebook to Import from Comp_Chem_Package\n",
    "import sys\n",
    "if(\"win\" in sys.platform):\n",
    "    sys.path.append(\"..\\\\..\\\\Backend\")\n",
    "else: \n",
    "    sys.path.append(\"../../Backend\")\n",
    "    \n",
    "from nistScraper import getDiatomicConstants \n",
    "from morsePotential import morsePotential\n",
    "from howPotential import howPotential\n",
    "from wavefunction import wavefunction\n",
    "from operators import HOperator, VOperator, TOperator\n",
    "from schrodinger import schrod\n",
    "from basisSet import basisSet\n",
    "from compChemGlobal import *\n",
    "from how import how\n",
    "from rkr import rkr"
   ]
  },
  {
   "cell_type": "code",
   "execution_count": 4,
   "metadata": {
    "tags": []
   },
   "outputs": [
    {
     "data": {
      "application/vnd.jupyter.widget-view+json": {
       "model_id": "52c4e9692e824a4fb9c406b29ef3cf8b",
       "version_major": 2,
       "version_minor": 0
      },
      "text/plain": [
       "Output()"
      ]
     },
     "metadata": {},
     "output_type": "display_data"
    },
    {
     "name": "stdout",
     "output_type": "stream",
     "text": [
      "['(ndσ,π)', '(npσ,π)', '(nsσ)', '(npσ)', 'D3', 'U', 'D2', 'S2', 'T', 'R', 'S1', '(nsσ)', '(npσ,π)', 'Q', 'O2 (1Π)', 'P', 'O1 (1Π)', 'N', 'npπ', 'npσ', 'nsσ', \"I' (5sσ)\", 'Z 1Σ+', 'H (1Π)', \"H' 1Π\", 'L 1Π 4pπ', \"L' (1Π)\", 'K 1Σ+ 4pσ', 'W 1Π', \"W' 1Π\", 'J 1Σ+ 4sσ', 'G 1Π(3dπ)', \"G' 1Π\", 'h (3Σ+4sσ)', 'Y 1Σ+', 'F 1Σ+(3dσ)', 'V 1Π', 'g 3Σ+', 'E 1Π 3pπ', 'E  X  V', 'c 3Π 3pπ', 'c  X V', 'C 1Σ+ 3pσ', 'C  X   V', 'j (3Σ+3pσ)', '', 'k', 'B 1Σ+ 3sσ', 'B  X   V', 'b 3Σ+ 3sσ', 'b  X  V', 'f (3Σ+)', 'D 1Δ', 'I 1Σ-', 'A 1Π', 'e 3Σ-', 'e  X T', 'd 3Δi', 'd  X R', \"a' 3Σ+\", \"a'  X  R\", 'a 3Πr', 'X 1Σ+']\n",
      "('ground',)\n",
      "\n",
      "False\n",
      "{'name': 'CO', 'state': 'a 3Πr', 'T': 48686.7, 'w': 1743.41, 'wx': 14.36, 'wy': 0, 'wz': 0, 'B': 1.69124, 'a': 0.01904, 'y': 0, 'D': 6.36e-06, 're': 1.20574, 'u': 6.8562086380025615, 'De': None}\n"
     ]
    },
    {
     "data": {
      "application/vnd.jupyter.widget-view+json": {
       "model_id": "0a0c87096dbe4d349d0fb95938b238d6",
       "version_major": 2,
       "version_minor": 0
      },
      "text/plain": [
       "HBox(children=(Label(value='Computing RKR Surface'), FloatProgress(value=-2169.78700338, max=0.0, min=-2169.78…"
      ]
     },
     "metadata": {},
     "output_type": "display_data"
    },
    {
     "data": {
      "application/vnd.jupyter.widget-view+json": {
       "model_id": "b367c1dfab0d474eb925e8296248a1b1",
       "version_major": 2,
       "version_minor": 0
      },
      "text/plain": [
       "HBox(children=(Label(value='Computing RKR Surface'), FloatProgress(value=-1743.38128, max=0.0, min=-1743.38128…"
      ]
     },
     "metadata": {},
     "output_type": "display_data"
    }
   ],
   "source": [
    "from diatomicConstants import buildDiatomicConstants\n",
    "\n",
    "scaleFactor = 570\n",
    "\n",
    "diatomicSymbol = widgets.Dropdown(\n",
    "    options = [\"CO\", \"HCl\", \"HF\", \"O2\", \"OH\", \"HF\", \"N2\", \"NO\"], \n",
    "    value = \"CO\"\n",
    ")\n",
    "parameterOptions = [\"Normal\", \"Times 2\", \"Divide 2\"]\n",
    "#u = widgets.Dropdown(\n",
    "#    options = parameterOptions, \n",
    "#    description = \"μ\", \n",
    "#    value = \"Normal\"\n",
    "#)\n",
    "#w = widgets.Dropdown(\n",
    "#    options = parameterOptions, \n",
    "#    description = \"ω\", \n",
    "#    value = \"Normal\"\n",
    "#)\n",
    "# comparison = widgets.Dropdown(\n",
    "#     options = [\"Harmonic\", \"Anharmonic\"],\n",
    "#     description = \"Comparison\", \n",
    "#     value = \"Harmonic\"\n",
    "# )\n",
    "firstState = widgets.Dropdown(\n",
    "    options = [\"ground\"], \n",
    "    description = \"1st State\"\n",
    ")\n",
    "secondState = widgets.Dropdown(\n",
    "   options = [], \n",
    "   description = \"2nd State\"\n",
    ")\n",
    "diatomic = widgets.HBox([widgets.Label(\"Diatomic Symbol\"), diatomicSymbol, firstState, secondState])\n",
    "\n",
    "\n",
    "calculate = startButton = widgets.ToggleButton(\n",
    "    value = False, \n",
    "    description = \"Update Solution\",\n",
    "    button_style = \"info\"\n",
    ")\n",
    "\n",
    "info = widgets.HTML(\"\")\n",
    "graph = widgets.VBox()\n",
    "out = widgets.Output()\n",
    "    \n",
    "def inform(value):\n",
    "    info.value = value\n",
    "    out.clear_output()\n",
    "    with out: \n",
    "        display(info)\n",
    "\n",
    "#-------------------------------------------------------------------------------------\n",
    "\n",
    "# def buildSolution(dc, name = \"\", size = 25, color = None):\n",
    "#     pes =  howPotential(dc)\n",
    "#     pes.color = color\n",
    "#     basis = basisSet(dc, how, size)\n",
    "#     sol = schrod()\n",
    "#     sol.graphTitle = basis.diatomicConstants[\"name\"] + \" Harmonic Oscillator Schrödinger Solution\"\n",
    "#     for index, bf in enumerate(basis):\n",
    "#         #eigen value analytical equation derived from hyperphysics website for harmonic osciallator\n",
    "        \n",
    "#         ev = (index + 0.5) * dc[\"w\"]\n",
    "#         evec = [1 if i == index else 0 for i in range(basis.size)]\n",
    "#         wf = wavefunction(evec, ev, basis, index).scale(scaleFactor)\n",
    "#         wf2 = wavefunction(evec, ev, basis, index, squared=True).scale(scaleFactor)\n",
    "#         wf.setGraphVariables(yEqualsCutoff = ev, color = color)\n",
    "#         wf2.setGraphVariables(yEqualsCutoff = ev, color = color)\n",
    "        \n",
    "#         sol.addGraphableObject(wf)\n",
    "#         sol.addGraphableObject(wf2)\n",
    "        \n",
    "#     sol.addGraphableObject(pes)\n",
    "#     sol.scaleFactor = scaleFactor\n",
    "#     sol.start = dc[\"re\"] - 0.4\n",
    "#     sol.end = dc[\"re\"] + 0.4\n",
    "#     sol.pesLocations.append(len(sol.graphableObjects) - 1)\n",
    "    \n",
    "#     return sol\n",
    " \n",
    "#-------------------------------------------------------------------------------------\n",
    "\n",
    "def buildSolution(dc, color, size=10):\n",
    "    basis = basisSet(dc, basisFunctionClass=how, size=size)\n",
    "    \n",
    "    pesMethod = rkr(dc)\n",
    "    pesMethod.compute()\n",
    "        \n",
    "    mp = morsePotential(dc).fit(pesMethod.getData())\n",
    "    \n",
    "    H = TOperator(basis) + VOperator(basis, mp)\n",
    "    \n",
    "    sol = schrod(color=color, linearModification=dc[\"T\"])\n",
    "    sol.solve(H, basis, mp)\n",
    "    \n",
    "    return sol\n",
    "    \n",
    "#-------------------------------------------------------------------------------------\n",
    "\n",
    "def howPESUpdate():\n",
    "    \n",
    "    states = getDiatomicConstants(diatomicSymbol.value, returnStates=True)[::-1]\n",
    "    print(states)\n",
    "    print(firstState.options)\n",
    "    print()\n",
    "    print(states == list(firstState.options))\n",
    "    if(list(firstState.options) != states):\n",
    "        firstState.options = states\n",
    "        secondState.options = states\n",
    "        \n",
    "        firstState.value = states[-1]\n",
    "        secondState.value = states[-2]\n",
    "    \n",
    "    dc1 = getDiatomicConstants(diatomicSymbol.value, firstState.value)\n",
    "    dc2 = getDiatomicConstants(diatomicSymbol.value, secondState.value)\n",
    "    print(dc2)\n",
    "    if(dc1 == False):\n",
    "        info.value = \"'\" + diatomicSymbol.value + \"' is not a valid diatomic molecule.\" \n",
    "        return\n",
    "    info.value = \"Calculating solution for \" + diatomicSymbol.value + \"...\" \n",
    "    \n",
    "    sol = buildSolution(dc1, \"red\")\n",
    "    sol.combineSolutions(buildSolution(dc2, \"blue\"), \" a 3Πr\")\n",
    "    #sol = buildSolution(dc, color = \"red\")\n",
    "    #name = \"\"\n",
    "    #update diatomic constants\n",
    "#     if(comparison.value == \"Harmonic\"):\n",
    "#         for widget, index in [(u, \"u\"), (w, \"w\")]:\n",
    "#             if(widget.value == \"Times 2\"):\n",
    "#                 dc[index] *= 2\n",
    "#                 name += \", \" + widget.description + \" \" + widget.value\n",
    "#             elif(widget.value == \"Divide 2\"):\n",
    "#                 dc[index] /= 2\n",
    "#                 name += \", \" + widget.description + \" \" + widget.value\n",
    "                \n",
    "#         if(name != \"\"):\n",
    "#             sol.combineSolutions(buildSolution(dc, name, color = \"blue\"), name)\n",
    "#     else: \n",
    "#         sol2 = schrod()\n",
    "#         sol2.load(dc[\"name\"], \"Harmonic Oscillator\", 100, \"Extended Rydberg Potential\", \"RKR\", scaleFactor = scaleFactor, color = \"blue\")\n",
    "#         sol.combineSolutions(sol2, \" Anharmonic\")\n",
    "    \n",
    "    endPoints = [dc1[\"re\"] - 1, dc1[\"re\"] + 1]\n",
    "    sol.start, sol.end = endPoints[0], endPoints[1]\n",
    "    graph.children = ( (sol.graph(getGraph = True), diatomic, calculate, info) )\n",
    "    graph.children[0].children[0].update_xaxes(range=endPoints).update_yaxes(range=[min((dc1[\"T\"], dc2[\"T\"])),sol.graphableObjects[1].energy + 5000 + dc2[\"T\"]])\n",
    "    \n",
    "    out.clear_output()\n",
    "    with out: \n",
    "        display(graph)\n",
    "    \n",
    "    info.value = \"Calculation Completed\"\n",
    "\n",
    "updateWrapper = lambda change :  howPESUpdate()\n",
    "\n",
    "calculate.observe(updateWrapper, names=\"value\")\n",
    "\n",
    "display(out)\n",
    "inform(\"Building Graph...\")\n",
    "\n",
    "howPESUpdate()  "
   ]
  },
  {
   "cell_type": "code",
   "execution_count": null,
   "metadata": {},
   "outputs": [],
   "source": []
  }
 ],
 "metadata": {
  "kernelspec": {
   "display_name": "Python 3",
   "language": "python",
   "name": "python3"
  },
  "language_info": {
   "codemirror_mode": {
    "name": "ipython",
    "version": 3
   },
   "file_extension": ".py",
   "mimetype": "text/x-python",
   "name": "python",
   "nbconvert_exporter": "python",
   "pygments_lexer": "ipython3",
   "version": "3.9.6"
  }
 },
 "nbformat": 4,
 "nbformat_minor": 4
}
