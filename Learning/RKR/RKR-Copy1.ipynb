{
 "cells": [
  {
   "cell_type": "markdown",
   "metadata": {},
   "source": [
    "## RKR Computation\n",
    "All Code and Markdown written by Gary Zeri, Chapman University Student and member of the LaRue Cat Lab\n",
    "\n",
    "All equations and information within this notebook originated from <i>The Computation of RKR Potential Energy Curves of Diatomic Molecules using Matematica</i>, written by Peter Senn.\n",
    "\n",
    "The RKR method is a procedure used to determine the potential energy curves of diatomic molecules by calculating the classical turning points, $r_-$ and $r_+$ from the molecule's diatomic constants.\n",
    "\n",
    "\n",
    "The turning points, $r_{\\pm}$, can be computed using the following equation:\n",
    "$$r_{\\pm} = \\frac{f(v)}{2} \\cdot \\left[\\sqrt{1 + \\frac{1}{f(v)g(v)}} \\pm 1\\right]$$\n",
    "<br>\n",
    "It should be noted that in the above equation the fraction in the square root has a one in the numerator while in the paper by Peter Senn the numerator has a four. The four is not present in the Matematica code in Senn's paper and in <i>Lecture #21: Construction of Potential Curves by the Rydberg-Klein-Rees Method (RKR)</i> from MIT OpenCourseWare, the four is not included as well, leading to the omission of the four in the equation presented here to provide an exact equation to that used within the below code.\n",
    "<br><br>\n",
    "$f(v)$ and $g(v)$ are defined as follows: \n",
    "$$f(v) = \\int^v_{\\frac{-1}{2}}{ \\left[ \\frac{dv^{'}}{\\sqrt{E(v)-E(v^{'})}{}} \\right] }$$\n",
    "<br>\n",
    "$$g(v) = \\int_{\\frac{-1}{2}}^v{\\left[ \\frac{\\frac{\\partial E}{\\partial J}}{\\sqrt{E(v) - E(v^{'})}}\\right]dv^{'}}$$\n",
    "\n",
    "<br>\n",
    "\n",
    "In the original paper by Senn, there are constants in front of the integrals that are omitted here as they are used to scale the values to a desired unit system. Since this RKR code will use wavenumbers for energy and angstroms for bond distance, the constant of $\\frac{8.211609}{\\sqrt{\\mu}}$ will be multiplied by the final answers to perform this conversion.\n",
    "<br>\n",
    "\n",
    "For vibronic states with no rotation and $J=0$, $E(v)$ and $\\frac{\\partial E}{\\partial J}$ can be represented as:\n",
    "$$E(v) = \\omega_e(v+ \\frac{1}{2}) - \\omega_ex_e(v+\\frac{1}{2})^2 + \\omega_ey_e(v+\\frac{1}{2})^3 + \\omega_ez_e(v+\\frac{1}{2})^4 + \\dots$$\n",
    "<br>\n",
    "$$\\frac{\\partial E}{\\partial J} = B(v) = B_e -\\alpha_e(v+\\frac{1}{2}) + y_e(v+\\frac{1}{2})^2 + \\dots$$\n",
    "\n",
    "<br> \n",
    "\n",
    "An important computational issue to note with the RKR method is that the integrand term $\\frac{dv^{'}}{\\sqrt{E(v) - E(v^{'})}}$ will become one over zero since the integration is from $\\frac{-1}{2}$ to $v$, thus the integrand will become $\\frac{1}{\\sqrt{E(v) - E(v)}}$ when $v^{'} = v$ at the end of the integration.<br>\n",
    "In order to deal with this issue, the integral is changed from $\\int^{v}_{\\frac{-1}{2}}$ to $\\int^{v-\\delta}_{\\frac{-1}{2}}$, where $\\delta$ is some extremely small value. A correction term is then added to both $f(v)$ and $g(v)$ to account for the missing endpoint of the integration resulting in new and more easily computable versions of $f(v)$ and $g(v)$:\n",
    "\n",
    "$$f(v) = \\int^{v-\\delta}_{\\frac{-1}{2}}{\\frac{dv^{'}}{\\sqrt{E(v) - E(v^{'})}} + \\sqrt{\\frac{\\delta}{Q_v}}}$$\n",
    "<br>\n",
    "$$g(v) = \\int^{v-\\delta}_{\\frac{-1}{2}}{\\frac{B(v^{'})}{\\sqrt{E(v)-E(v^{'})}}dv^{'} } + 2B(v)\\sqrt{\\frac{\\delta}{Q_v}} $$\n",
    "<br>\n",
    "Where $Q_v$ is the following series:\n",
    "$$Q_v = w_e-2\\omega_ex_e(v+\\frac{1}{2}) + 3\\omega_ey_e(v+\\frac{1}{2})^2 + 4\\omega_ez_e(v+\\frac{1}{2})^3 + \\dots$$\n",
    "\n",
    "<br>\n",
    "\n",
    "The following code only uses the terms listed above in the computation for all series listed."
   ]
  },
  {
   "cell_type": "markdown",
   "metadata": {},
   "source": [
    "## RKR With Excited States\n",
    "<br>\n",
    "In order to allow for RKR computations with excited states, $E(v)$ and $\\frac{\\partial E}{\\partial J}$ must include the $J$ term. The full $E(v)$ equation is included below:\n",
    "\\begin{align}\n",
    "    E(v) &= \\omega_e(v+\\frac{1}{2}) - \\omega_ex_e(v+\\frac{1}{2})^2 + \\omega_ey_e(v+\\frac{1}{2})^3 + \\omega_ez_e(v+\\frac{1}{2}) + \\left[B_e-\\alpha_e(v+\\frac{1}{2}) + y_e(v+\\frac{1}{2})^2\\right] \\cdot J(J+1)-D_eJ^2(J+1)^2 \\\\\n",
    "    E(v) &= c(v) + \\left[B_e-\\alpha_e(v+\\frac{1}{2}) + y_e(v+\\frac{1}{2})^2\\right] \\cdot J(J+1)-D_eJ^2(J+1)^2 \\\\\n",
    "    E(v) &= c(v) + f(v, J) - g(J) \n",
    "\\end{align}\n",
    "<br><br>\n",
    "\\begin{align}\n",
    "    \\frac{\\partial E}{\\partial J} &= \\frac{\\partial}{\\partial J}\\left[ c(v) + f(v, J) - g(J)\\right] \\\\\n",
    "    \\frac{\\partial E}{\\partial J} &= 0 + \\frac{\\partial}{\\partial J}f(v, J) - \\frac{\\partial}{\\partial J}g(J) \\\\\n",
    "    \\frac{\\partial E}{\\partial J} &= \\frac{\\partial}{\\partial J}f(v, J) - \\frac{\\partial}{\\partial J}g(J) \\\\\n",
    "\\end{align}\n",
    "<br><br>\n",
    "\\begin{align}\n",
    "    \\frac{\\partial }{\\partial J}f(v, J) &= \\frac{\\partial }{\\partial J}\\left[d(v)\\cdot h(J)\\right] \\\\\n",
    "    &= d(v) \\frac{\\partial}{\\partial J}h(v) \\\\\n",
    "    &= d(v) \\frac{\\partial}{\\partial J}\\left[J(J+1)\\right] \\\\\n",
    "    &= d(v) \\cdot \\left(2J + 1\\right) \\\\\n",
    "    &= \\left[B_e-\\alpha_e(v+\\frac{1}{2}) + y_e(v+\\frac{1}{2})^2\\right] \\cdot \\left(2J + 1\\right) \\\\\n",
    "    &= B_e \\cdot \\left(2J + 1\\right) - \\alpha_e(v+\\frac{1}{2})\\left(2J + 1\\right) + y_e(v+\\frac{1}{2})^2 \\left(2J + 1\\right) \\\\\n",
    "    &= 2JB_e + B_e -2J\\alpha_e(v+\\frac{1}{2}) -2\\alpha_e(v+\\frac{1}{2} ) + 2Jy_e(v+\\frac{1}{2})^2 + y_e(v+\\frac{1}{2})^2 \\\\\n",
    "    &= 2J\\left[B_e -\\alpha_e(v+\\frac{1}{2}) + y_e(v+\\frac{1}{2})^2\\right] + B_e - \\alpha_e(v+\\frac{1}{2}) + y_e(v+\\frac{1}{2})^2 \\\\\n",
    "    &= 2Jd(v) + d(v) \\\\\n",
    "    \\frac{\\partial}{\\partial J}f(v, J) &= d(v)\\left(2J + 1\\right)\n",
    "\\end{align}\n",
    "<br><br>\n",
    "\\begin{align}\n",
    "    \\frac{\\partial }{\\partial J}g(J) &= \\frac{\\partial}{\\partial J} \\left[D_e J^2(J+1)^2 \\right] \\\\\n",
    "        &= D_e \\frac{\\partial}{\\partial J}\\left[ J^2(J+1)^2\\right] \\\\\n",
    "        &= D_e \\left[ \\frac{\\partial}{\\partial J}[J^2] \\cdot (J+1)^2 + J^2 \\cdot \\frac{\\partial}{\\partial J}[(J+1)^2]\\right] \\\\\n",
    "        &= D_e \\left[ 2J \\cdot (J+1)^2 + J^2 \\cdot 2(J+1)\\right] \\\\\n",
    "        &= 2J(J+1)D_e \\left[ (J+1) + J\\right] \\\\\n",
    "        &= 2J(J+1)D_e\\left[ 2J + 1 \\right] \\\\\n",
    "    \\frac{\\partial}{\\partial J}g(J) &= 2D_eJ(J+1)(2J+1) \n",
    "\\end{align} \n",
    "<br><br>\n",
    "\\begin{align}\n",
    "        \\frac{\\partial E}{\\partial J} &= \\frac{\\partial}{\\partial J}f(v, J) - \\frac{\\partial}{\\partial J}g(J) \\\\\n",
    "       \\frac{\\partial E}{\\partial J} &= d(v)(2J + 1) - 2D_eJ(J+1)(2J+1) \\\\\n",
    "       \\frac{\\partial E}{\\partial J} &= \\left[B_e -\\alpha_e(v+\\frac{1}{2}) + y_e(v+\\frac{1}{2})^2\\right](2J+1) - 2D_eJ(J+1)(2J+1)\n",
    "\\end{align}"
   ]
  },
  {
   "cell_type": "code",
   "execution_count": 1,
   "metadata": {},
   "outputs": [],
   "source": [
    "#Allow Notebook to Import from Comp_Chem_Package\n",
    "import sys\n",
    "sys.path.append(\"..\\\\Comp_Chem_Package\")\n",
    "\n",
    "from compChemGlobal import *\n",
    "from nistScraper import getDiatomicConstants\n",
    "\n",
    "#Global variables to be modified by the user \n",
    "\n",
    "#Distance from v that the integration should stop at\n",
    "#Should be a very very small number strictly greater than 0\n",
    "#But, the smaller the value, the slower the integrals will take to compute\n",
    "delta = pow(10, -3)\n",
    "\n",
    "resolution = 10\n",
    "\n",
    "#provide the name of the diatomic constants that are desired\n",
    "dc = getDiatomicConstants(\"CO\")"
   ]
  },
  {
   "cell_type": "code",
   "execution_count": 2,
   "metadata": {},
   "outputs": [],
   "source": [
    "#Define All Functions Here\n",
    "\n",
    "def E(v, J=0):\n",
    "    term = v + 0.5\n",
    "    sumValue = (dc[\"w\"] * term) - (dc[\"wx\"]*pow(term, 2)) + (dc[\"wy\"]*pow(term, 3)) + (dc[\"wz\"]*pow(term,4))\n",
    "    return sumValue * (2*J + 1) - 2*dc[\"D\"]*J*(J+1)*(2*J+1)\n",
    "\n",
    "def EPrime(v, J=0):\n",
    "    term = v + 0.5\n",
    "    return dc[\"w\"] - 2*dc[\"wx\"]*term + 3*dc[\"wy\"]*pow(term, 2) + 4*dc[\"wz\"]*pow(term, 3)\n",
    "\n",
    "def B(v):\n",
    "    term = v + 0.5\n",
    "    return dc[\"B\"] - (dc[\"a\"] * term)  + (dc[\"y\"]*pow(term, 2))\n",
    "\n",
    "#Used in the correctionFactor calculation\n",
    "def Q(v):\n",
    "    term = v + 0.5\n",
    "    return dc[\"w\"] - (2*dc[\"wx\"]*term) + (3*dc[\"wy\"]*pow(term, 2)) + (4*dc[\"wz\"]*pow(term,3))\n",
    "\n",
    "#Used to correct integrals that stop delta away from v\n",
    "def correctionFactor(v):\n",
    "    return 2 * sqrt(delta / Q(v))\n",
    "\n",
    "def integralRadical(v, vPrime):\n",
    "    return sqrt(E(v) - E(vPrime))\n",
    "\n",
    "def f(v):\n",
    "    integrand = lambda vPrime: 1 / integralRadical(v, vPrime)\n",
    "    return integrate(integrand, -0.5, v-delta) + correctionFactor(v)\n",
    "\n",
    "def g(v):\n",
    "    integrand = lambda vPrime : B(vPrime) / integralRadical(v, vPrime)\n",
    "    return integrate(integrand, -0.5, v-delta) + (B(v)*correctionFactor(v))\n",
    "    \n",
    "#v refers to a float energy level for the potential well\n",
    "#returns the tuple (r+, r-)\n",
    "def RKR(v):\n",
    "    \n",
    "    fValue = f(v)\n",
    "    \n",
    "    c0 = (8.211609 * fValue ) / (2 * sqrt(dc[\"u\"]))\n",
    "\n",
    "    radicand = 1 / (fValue * g(v))     \n",
    "    c1 = sqrt(1 + radicand)\n",
    "        \n",
    "    return c0 * (c1 + 1), c0 * (c1 - 1)"
   ]
  },
  {
   "cell_type": "code",
   "execution_count": 3,
   "metadata": {},
   "outputs": [
    {
     "data": {
      "application/vnd.jupyter.widget-view+json": {
       "model_id": "27e0e3ed09cd432da24be7fa1bca7f82",
       "version_major": 2,
       "version_minor": 0
      },
      "text/plain": [
       "HBox(children=(Label(value='Building RKR Potential'), FloatProgress(value=-0.499, max=0.0, min=-2169.78700338)…"
      ]
     },
     "metadata": {},
     "output_type": "display_data"
    },
    {
     "data": {
      "application/vnd.jupyter.widget-view+json": {
       "model_id": "48adc17653554a4e9f0c13d14d22126c",
       "version_major": 2,
       "version_minor": 0
      },
      "text/plain": [
       "FigureWidget({\n",
       "    'data': [{'connectgaps': True,\n",
       "              'mode': 'markers',\n",
       "              'name': 'RKR …"
      ]
     },
     "metadata": {},
     "output_type": "display_data"
    }
   ],
   "source": [
    "#Graphing and Computation Code\n",
    "import numpy as np\n",
    "\n",
    "#Lists to hold data \n",
    "r = []\n",
    "EList = []\n",
    "\n",
    "ddr = []\n",
    "ddE = []\n",
    "ddr2 = []\n",
    "ddE2 = []\n",
    "leftAsympCutOff = False\n",
    "\n",
    "v = -0.499\n",
    "dv = 1 / resolution\n",
    "\n",
    "loadingBar =  widgets.FloatProgress(\n",
    "                  value = v, \n",
    "                  min = -EPrime(v), \n",
    "                  max = 0,\n",
    "             )\n",
    "display(widgets.HBox([\n",
    "              widgets.Label(value=\"Building RKR Potential\"),\n",
    "              loadingBar\n",
    "             ]))\n",
    "\n",
    "#Loop to generate all data to graph\n",
    "#for v in tqdm(np.arange(vStart, 17, 1/resolution)):\n",
    "while(EPrime(v) > 0):\n",
    "    \n",
    "    energy = E(v)\n",
    "    rPoints = RKR(v)\n",
    "\n",
    "    if(not leftAsympCutOff and len(r) != 0):\n",
    "        #Compute First Derivative\n",
    "        ddr.append( (rPoints[1] + r[-2:][-1]) / 2 )\n",
    "        ddE.append( (energy-EList[-1]) / ( rPoints[1] - r[-2:][-1] ))\n",
    "        \n",
    "        if(len(ddr) > 1):\n",
    "            #Compute 2nd Derivative\n",
    "            ddr2.append( (ddr[-2] + ddr[-1]) / 2 )\n",
    "            ddE2.append( (ddE[-1] - ddE[-2]) / (ddr[-1] - ddr[-2]) )\n",
    "            \n",
    "            #Determine if Cutoff should be used\n",
    "            if(ddE2[-1] <= 0):\n",
    "                leftAsympCutOff = True        \n",
    "    \n",
    "    if(not leftAsympCutOff):\n",
    "        r.extend( rPoints )\n",
    "        EList.extend( [energy] * 2 )\n",
    "    else:\n",
    "        r.append(max(rPoints))\n",
    "        EList.append(energy)\n",
    "    \n",
    "    v += dv\n",
    "    loadingBar.value = -EPrime(v)\n",
    "    \n",
    "#Manually add in re point\n",
    "r.append(dc[\"re\"])\n",
    "EList.append(0)\n",
    "\n",
    "#Prepare data for graphing\n",
    "figure = {\n",
    "    \"data\":[\n",
    "        {\n",
    "            \"type\":\"scatter\",\n",
    "            \"x\":r,\n",
    "            \"y\":EList,\n",
    "            \"connectgaps\":True,\n",
    "            \"mode\":\"markers\",\n",
    "            \"name\":\"RKR Potential\",\n",
    "        }\n",
    "    ],\n",
    "    \n",
    "    \"layout\":{\n",
    "        \"xaxis\":{\"title\":\"r in Angstroms\"},\n",
    "        \"yaxis\":{\"title\":\"Energy in Wavenumbers\"},\n",
    "        \"title\":{\"text\":\"RKR Generated Potential Energy Surface\"}\n",
    "    }\n",
    "}\n",
    "\n",
    "display(plot.go.FigureWidget(data=figure))"
   ]
  },
  {
   "cell_type": "code",
   "execution_count": 4,
   "metadata": {},
   "outputs": [
    {
     "data": {
      "application/vnd.jupyter.widget-view+json": {
       "model_id": "e623d3dccd7e480688dd980e8731d46f",
       "version_major": 2,
       "version_minor": 0
      },
      "text/plain": [
       "HBox(children=(Label(value='Computing RKR Surface'), FloatProgress(value=-2169.78700338, max=0.0, min=-2169.78…"
      ]
     },
     "metadata": {},
     "output_type": "display_data"
    },
    {
     "name": "stdout",
     "output_type": "stream",
     "text": [
      "Graphing Potential\n"
     ]
    },
    {
     "data": {
      "application/vnd.jupyter.widget-view+json": {
       "model_id": "c8cad7b205da448097cd5378a9ecfb18",
       "version_major": 2,
       "version_minor": 0
      },
      "text/plain": [
       "VBox(children=(FigureWidget({\n",
       "    'data': [{'hoverlabel': {'font': {'size': 16}},\n",
       "              'hovertemplate…"
      ]
     },
     "metadata": {},
     "output_type": "display_data"
    }
   ],
   "source": [
    "#Test for the RKR Class\n",
    "#Allow Notebook to Import from Comp_Chem_Package\n",
    "import sys\n",
    "sys.path.append(\"..\\\\Comp_Chem_Package\")\n",
    "from rkr import rkr as rkrClass\n",
    "\n",
    "from compChemGlobal import *\n",
    "from nistScraper import getDiatomicConstants\n",
    "\n",
    "dc = getDiatomicConstants(\"CO\")\n",
    "\n",
    "rkr = rkrClass(dc)\n",
    "rkr.compute(resolution=50, delta = pow(10, -3))\n",
    "print(\"Graphing Potential\")\n",
    "rkr.graph()"
   ]
  },
  {
   "cell_type": "code",
   "execution_count": null,
   "metadata": {},
   "outputs": [],
   "source": []
  }
 ],
 "metadata": {
  "kernelspec": {
   "display_name": "Python 3",
   "language": "python",
   "name": "python3"
  },
  "language_info": {
   "codemirror_mode": {
    "name": "ipython",
    "version": 3
   },
   "file_extension": ".py",
   "mimetype": "text/x-python",
   "name": "python",
   "nbconvert_exporter": "python",
   "pygments_lexer": "ipython3",
   "version": "3.8.0"
  }
 },
 "nbformat": 4,
 "nbformat_minor": 4
}
