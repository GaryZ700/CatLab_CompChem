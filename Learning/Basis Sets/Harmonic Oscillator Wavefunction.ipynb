{
 "cells": [
  {
   "cell_type": "code",
   "execution_count": 1,
   "metadata": {
    "jupyter": {
     "source_hidden": true
    }
   },
   "outputs": [],
   "source": [
    "#Allow Notebook to Import from Comp_Chem_Package\n",
    "import sys\n",
    "if(\"win\" in sys.platform):\n",
    "    sys.path.append(\"..\\\\..\\\\Backend\")\n",
    "else: \n",
    "    sys.path.append(\"../../Backend\")\n",
    "    \n",
    "from nistScraper import getDiatomicConstants \n",
    "from morsePotential import morsePotential\n",
    "from howPotential import howPotential\n",
    "from wavefunction import wavefunction\n",
    "from operators import HOperator\n",
    "from schrodinger import schrod\n",
    "from basisSet import basisSet\n",
    "from compChemGlobal import *\n",
    "from how import how\n",
    "from rkr import rkr"
   ]
  },
  {
   "cell_type": "markdown",
   "metadata": {},
   "source": [
    "## Harmonic Oscillator Wavefunction\n",
    "<br>\n",
    "The harmonic oscillator wavefunction arises from solving the Schrödinger for the harmonic oscillator. <br>\n",
    "Answer the following questions on the below regarding the harmonic oscillator: "
   ]
  },
  {
   "cell_type": "raw",
   "metadata": {},
   "source": [
    "The following questions involve writing out equations and sketching out wavefunctions and the potential energy surface. Note, the sketches do not need to quantitatively accurate, they only need to show qualitative realtionships. \n",
    "\n",
    "1. Write out the following equations with respect to the Harmonic Oscillator System: \n",
    "    1a. Kinetic Energy Operator\n",
    "    2a. Potential Energy Operator\n",
    "    3a. Hamiltonian\n",
    "    4a. Schrödinger Equation\n",
    "    5a. Wavefunction Energies\n",
    "\n",
    "2. Sketch a predicted potential energy surface for the harmonic oscillator. \n",
    "\n",
    "3. Sketch out the wavefunctions for the harmonic oscillator with v = 0, 1, 2 and 3. \n",
    "\n",
    "4. Sketch out the probability distributions for the harmonic oscillators with v = 0, 1, 2, and 3."
   ]
  },
  {
   "cell_type": "code",
   "execution_count": 2,
   "metadata": {},
   "outputs": [
    {
     "data": {
      "application/vnd.jupyter.widget-view+json": {
       "model_id": "7132c28188704c67abaf31f41e61ef58",
       "version_major": 2,
       "version_minor": 0
      },
      "text/plain": [
       "Output()"
      ]
     },
     "metadata": {},
     "output_type": "display_data"
    }
   ],
   "source": [
    "from diatomicConstants import buildDiatomicConstants\n",
    "diatomicSymbol = widgets.Text(value = \"CO\")\n",
    "u = widgets.Dropdown(\n",
    "    options = [\"Normal\", \"Times 2\", \"Divide 2\"], \n",
    "    description = \"μ\", \n",
    "    value = \"Normal\"\n",
    ")\n",
    "w = widgets.Dropdown(\n",
    "    options = [\"Normal\", \"Times 2\", \"Divide 2\"], \n",
    "    description = \"ω\", \n",
    "    value = \"Normal\"\n",
    ")\n",
    "diatomic = widgets.HBox([widgets.Label(\"Diatomic Symbol\"), diatomicSymbol, u, w])\n",
    "calculate = startButton = widgets.ToggleButton(\n",
    "    value = False, \n",
    "    description = \"Update Solution\",\n",
    "    button_style = \"info\"\n",
    ")\n",
    "info = widgets.HTML(\"\")\n",
    "graph = widgets.VBox()\n",
    "out = widgets.Output()\n",
    "\n",
    "def buildSolution(dc, name = \"\"):\n",
    "    pes =  howPotential(dc)\n",
    "    basis = basisSet(dc, how)\n",
    "    sol = schrod()\n",
    "    sol.graphTitle = basis.diatomicConstants[\"name\"] + \" Harmonic Oscilator Schrödinger Solution\"\n",
    "    for index, bf in enumerate(basis):\n",
    "        #eigen value analytical equation derived from hyperphysics website for harmonic osciallator\n",
    "        \n",
    "        ev = (index + 0.5) * dc[\"w\"]\n",
    "        evec = [1 if i == index else 0 for i in range(basis.size)]\n",
    "        wf = wavefunction(evec, ev, basis, index).scale(500)\n",
    "        wf2 = wavefunction(evec, ev, basis, index, squared=True).scale(500)\n",
    "        wf.setGraphVariables(yEqualsCutoff = ev)\n",
    "        wf2.setGraphVariables(yEqualsCutoff = ev)\n",
    "        \n",
    "        \n",
    "        sol.addGraphableObject(wf)\n",
    "        sol.addGraphableObject(wf2)\n",
    "        \n",
    "    sol.addGraphableObject(pes)\n",
    "    sol.scaleFactor = 500\n",
    "    sol.start = dc[\"re\"] - 0.4\n",
    "    sol.end = dc[\"re\"] + 0.4\n",
    "    sol.pesLocations.append(len(sol.graphableObjects) - 1)\n",
    "    \n",
    "    return sol\n",
    " \n",
    "#-------------------------------------------------------------------------------------\n",
    "    \n",
    "def howPESUpdate():\n",
    "    dc = getDiatomicConstants(diatomicSymbol.value)\n",
    "    if(dc == False):\n",
    "        info.value = \"'\" + diatomicSymbol.value + \"' is not a valid diatomic molecule.\" \n",
    "        return\n",
    "    info.value = \"Calculating solution for \" + diatomicSymbol.value + \".\" \n",
    "    \n",
    "    sol = buildSolution(dc)\n",
    "    name = \"\"\n",
    "    #update diatomic constants\n",
    "    for widget, index in [(u, \"u\"), (w, \"w\")]:\n",
    "        if(widget.value == \"Times 2\"):\n",
    "            dc[index] *= 2\n",
    "            name += \", \" + widget.description + \" \" + widget.value\n",
    "        elif(widget.value == \"Divide 2\"):\n",
    "            dc[index] /= 2\n",
    "            name += \", \" + widget.description + \" \" + widget.value\n",
    "    \n",
    "    if(name != \"\"):\n",
    "        sol.combineSolutions(buildSolution(dc, name), name)\n",
    "\n",
    "    graph.children = ( (sol.graph(getGraph = True), diatomic, calculate, info) )\n",
    "    \n",
    "    out.clear_output()\n",
    "    with out: \n",
    "        display(graph)\n",
    "    \n",
    "    info.value = \"Calculation Completed\"\n",
    "\n",
    "updateWrapper = lambda change :  howPESUpdate()\n",
    "\n",
    "calculate.observe(updateWrapper, names=\"value\")\n",
    "\n",
    "howPESUpdate()  \n",
    "display(out)"
   ]
  },
  {
   "cell_type": "markdown",
   "metadata": {},
   "source": [
    "<br><br>\n",
    "Answer the below qustions using the interactive graph of the v = 0, 1 and 2 wavefunctions."
   ]
  },
  {
   "cell_type": "raw",
   "metadata": {},
   "source": [
    "7. Imagine that the atomic mass, μ, is doubled. (Remember, sketches only need to be qualitatively accurate.)\n",
    "   6a. Sketch and predict the potential energy surface for the harmonic oscillator and note the difference from the original. \n",
    "   6b  Sketch out the wavefunctions for the harmonic oscillator for v = 0, 1, 2 and 3, and note the difference from the originals. \n",
    "   6c. Describe the relationship between increasing the value of u and the width of the wavefunctions. \n",
    "\n",
    "7. Imagine that the first term vibrational constant, ω, is doubled. (Remember, sketches only need to be qualitatively accurate.)\n",
    "       7a. Sketch and predict the potential energy surface for the harmonic oscillator and note the difference from the original. \n",
    "       7b. Sketch out the wavefunctions for the harmonic oscillator for v = 0, 1, 2 and 3, and note the difference from the originals.\n",
    "       7c. Describe the relationship between increasing the value of ω and the width of the wavefunctions.   \n",
    "\n",
    "8. Predict how many nodes the v = 5, 10, 500 and 1000 wavefunctions will have. \n",
    "\n",
    "9. Predict how many nodes the v = 5, 10, 500, and 1000 probibility distributions will have. "
   ]
  },
  {
   "cell_type": "markdown",
   "metadata": {},
   "source": [
    "<br><br>\n",
    "Using the graph above, change the mode option to \"Probability Distribution\", and answer the following questions in units of angstroms. "
   ]
  },
  {
   "cell_type": "raw",
   "metadata": {},
   "source": [
    "10. For the n = 0, 1, and 2 states answer the following questions in terms of angstroms: \n",
    "    10.1 What is the most probable location of the electron? \n",
    "    10.2 What is the average location of the electron? \n",
    "    10.3 Where will the electron never be found, and give the name of this specific location. \n",
    "    \n",
    "13. Which state has the most delocalized electron? \n",
    "\n",
    "14. Which state has the most localized electron?"
   ]
  },
  {
   "cell_type": "markdown",
   "metadata": {},
   "source": [
    "<br>\n",
    "The following questions will revolve around comparing a model of a diatomic molecule using a harmonic potential energy surface, and an anharmonic poetential energy surface. Specifically, the harmonic potential will be the haromonic oscillator presented above, while the anharmonic potential will be the anharmonic morse potential. "
   ]
  },
  {
   "cell_type": "raw",
   "metadata": {},
   "source": [
    "15. How will a haromnic and anharmonic potential compare to one another? How are they similar and how do they differ? \n",
    "\n",
    "16. How will the wavefunctions from the harmonic and anharmonic potentials differ from one another? \n",
    "\n",
    "17. Will any of the wavefunction between the harmonic and anharmoic potentials be nearly identical to one another? \n",
    "\n",
    "18. Which potential (harmonic or anharmonic) best represents the actual behavior of diatomic molecules and why? "
   ]
  },
  {
   "cell_type": "code",
   "execution_count": 3,
   "metadata": {},
   "outputs": [
    {
     "data": {
      "application/vnd.jupyter.widget-view+json": {
       "model_id": "fde70fc79aca40669a92aa1057891879",
       "version_major": 2,
       "version_minor": 0
      },
      "text/plain": [
       "HBox(children=(Label(value='Computing RKR Surface'), FloatProgress(value=-2169.78700338, max=0.0, min=-2169.78…"
      ]
     },
     "metadata": {},
     "output_type": "display_data"
    },
    {
     "data": {
      "application/vnd.jupyter.widget-view+json": {
       "model_id": "9ad5e9fdd5b14cb5a4d8356d9caa5040",
       "version_major": 2,
       "version_minor": 0
      },
      "text/plain": [
       "Output()"
      ]
     },
     "metadata": {},
     "output_type": "display_data"
    }
   ],
   "source": [
    "diatomicSymbol = widgets.Text(value = \"CO\")\n",
    "\n",
    "diatomic = widgets.HBox([widgets.Label(\"Diatomic Symbol\"), diatomicSymbol])\n",
    "calculate = startButton = widgets.ToggleButton(\n",
    "    value = False, \n",
    "    description = \"Update Solution\",\n",
    "    button_style = \"info\"\n",
    ")\n",
    "info = widgets.HTML(\"\")\n",
    "graph = widgets.VBox()\n",
    "out2 = widgets.Output()\n",
    "\n",
    "def howPESUpdate():\n",
    "    dc = getDiatomicConstants(diatomicSymbol.value)\n",
    "    if(dc == False):\n",
    "        info.value = \"'\" + diatomicSymbol.value + \"' is not a valid diatomic molecule.\" \n",
    "        return\n",
    "    info.value = \"Calculating solution for \" + diatomicSymbol.value + \".\" \n",
    "    \n",
    "    #calculate solution for anharmonic system\n",
    "    basis = basisSet(dc, how, size = 4)\n",
    "    anharmonicPES = morsePotential(dc).fit(rkr(dc).compute())\n",
    "    sol = schrod(HOperator(basis, anharmonicPES), basis, pes = anharmonicPES)\n",
    "        \n",
    "    pes =  howPotential(dc)\n",
    "    sol.graphTitle = basis.diatomicConstants[\"name\"] + \" Harmonic Oscilator Schrödinger Solution\"\n",
    "    for index, bf in enumerate(basis):\n",
    "        #eigen value analytical equation derived from hyperphysics website for harmonic osciallator\n",
    "        \n",
    "        ev = (index + 0.5) * dc[\"w\"]\n",
    "        evec = [1 if i == index else 0 for i in range(basis.size)]\n",
    "        wf = wavefunction(evec, ev, basis, index).scale(sol.scaleFactor)\n",
    "        wf2 = wavefunction(evec, ev, basis, index, squared=True).scale(sol.scaleFactor)\n",
    "        wf.setGraphVariables(yEqualsCutoff = ev, graphTitle = wf.graphTitle + \" Harmonic\")\n",
    "        wf2.setGraphVariables(yEqualsCutoff = ev, graphTitle = wf2.graphTitle + \" Harmonic\")\n",
    "        \n",
    "        sol.addGraphableObject(wf)\n",
    "        sol.addGraphableObject(wf2)\n",
    "        \n",
    "    sol.addGraphableObject(pes)\n",
    "    sol.pesLocations.append(len(sol.graphableObjects) - 1)\n",
    "    sol.start = dc[\"re\"] - 0.4\n",
    "    sol.end = dc[\"re\"] + 0.4\n",
    " \n",
    "    graph.children = ( (sol.graph(getGraph = True), diatomic, calculate, info) )\n",
    "    info.value = \"Calculation Completed\"\n",
    "    \n",
    "    out2.clear_output()\n",
    "    with out2: \n",
    "        display(graph)\n",
    "\n",
    "updateWrapper = lambda change :  howPESUpdate()\n",
    "calculate.observe(updateWrapper, names=\"value\")\n",
    "\n",
    "howPESUpdate()  \n",
    "display(out2)\n",
    "#basis of 100, precalculate and save for later"
   ]
  },
  {
   "cell_type": "code",
   "execution_count": null,
   "metadata": {},
   "outputs": [],
   "source": []
  }
 ],
 "metadata": {
  "kernelspec": {
   "display_name": "Python 3",
   "language": "python",
   "name": "python3"
  },
  "language_info": {
   "codemirror_mode": {
    "name": "ipython",
    "version": 3
   },
   "file_extension": ".py",
   "mimetype": "text/x-python",
   "name": "python",
   "nbconvert_exporter": "python",
   "pygments_lexer": "ipython3",
   "version": "3.8.5"
  }
 },
 "nbformat": 4,
 "nbformat_minor": 4
}
