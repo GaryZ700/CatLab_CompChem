{
 "cells": [
  {
   "cell_type": "markdown",
   "metadata": {},
   "source": [
    "## 1D Particle in a Box \n",
    "<br>\n",
    "Given a quantum mechanical particle in a box, such that the potential outside of the box is infinite, while the potential inside of the box is 0, the analytical solution to the Schrödinger equation is: <br>\n",
    "<br>\n",
    "$$ \\psi_n(x) = \\sqrt{\\frac{2}{L}} \\sin(\\frac{nx\\pi}{L})$$ <br>\n",
    "<br>\n",
    "The variables in the equation have the following meaning: <br>\n",
    "\n",
    "$n$ specifies the quantum number of the system from 1 to infinity. <br>\n",
    "$L$ represents the length of the box in Bohr Radius that the particle is in <br>\n",
    "<br>\n",
    "This $\\psi_n$ represents the eigen values of the particle in the box. The energies of these eigenvalues are represented by: <br>\n",
    "$$E_n = \\frac{\\hbar^2\\pi^2n^2}{2mL^2}$$ <br>\n",
    "<br>\n",
    "$m$ refers to the mass of the particle in atomic units (a.u.)"
   ]
  },
  {
   "cell_type": "code",
   "execution_count": 44,
   "metadata": {},
   "outputs": [
    {
     "data": {
      "text/html": [
       "        <script type=\"text/javascript\">\n",
       "        window.PlotlyConfig = {MathJaxConfig: 'local'};\n",
       "        if (window.MathJax) {MathJax.Hub.Config({SVG: {font: \"STIX-Web\"}});}\n",
       "        if (typeof require !== 'undefined') {\n",
       "        require.undef(\"plotly\");\n",
       "        requirejs.config({\n",
       "            paths: {\n",
       "                'plotly': ['https://cdn.plot.ly/plotly-latest.min']\n",
       "            }\n",
       "        });\n",
       "        require(['plotly'], function(Plotly) {\n",
       "            window._Plotly = Plotly;\n",
       "        });\n",
       "        }\n",
       "        </script>\n",
       "        "
      ]
     },
     "metadata": {},
     "output_type": "display_data"
    }
   ],
   "source": [
    "#import all needed packages here\n",
    "import math\n",
    "import ipywidgets as widgets\n",
    "from ipywidgets import interact\n",
    "from plotly.offline import iplot, init_notebook_mode\n",
    "init_notebook_mode(connected=True)\n"
   ]
  },
  {
   "cell_type": "code",
   "execution_count": 1,
   "metadata": {},
   "outputs": [
    {
     "name": "stdout",
     "output_type": "stream",
     "text": [
      "10\n"
     ]
    }
   ],
   "source": [
    "#Allow the user to specifiy inputs to the calculatoin here\n",
    "\n",
    "#Include all quantum numbers to graph in this list\n",
    "#Values range from 1 to infinity\n",
    "qn = [1, 2]\n",
    "\n",
    "#L represents the length of the box in Bohr Radius\n",
    "L = 10\n",
    "#m represents the mass of particle in atomic units (a.u.) \n",
    "#where 1 a.u. is equal to the mass of an electron, and \n",
    "#the mass of a proton is euqal to 1836 a.u.\n",
    "m = 1\n",
    "\n",
    "#points is the \"resolution\" of the graphs that will be produced \n",
    "#smaller this number the more points that will be graphed in order to generate the graphs\n",
    "points = 2000\n",
    "print(L)"
   ]
  },
  {
   "cell_type": "code",
   "execution_count": 2,
   "metadata": {},
   "outputs": [],
   "source": [
    "#All Functions Defined Here\n",
    "\n",
    "#Analytical Solution for 1D Particle in a Box\n",
    "#x is the position of the particle in 1D space in Bohr Radius\n",
    "#n is the quantum number from 1 to infinity\n",
    "def psi(x, n):\n",
    "    return math.sqrt( 2 / L ) * math.sin(n * x * math.pi / L)\n",
    "\n",
    "#Function to Compute the Energy of the specified eigenstate\n",
    "#Note, due to use of atomic units, hbar disappears from the energy \n",
    "#equation since it is equal to 1\n",
    "def E(n):\n",
    "    return pow(math.pi * n / L, 2) / (2 * m)  "
   ]
  },
  {
   "cell_type": "code",
   "execution_count": 4,
   "metadata": {},
   "outputs": [
    {
     "ename": "NameError",
     "evalue": "name 'math' is not defined",
     "output_type": "error",
     "traceback": [
      "\u001b[1;31m---------------------------------------------------------------------------\u001b[0m",
      "\u001b[1;31mNameError\u001b[0m                                 Traceback (most recent call last)",
      "\u001b[1;32m<ipython-input-4-d6617197d090>\u001b[0m in \u001b[0;36m<module>\u001b[1;34m\u001b[0m\n\u001b[0;32m      5\u001b[0m \u001b[0mxData\u001b[0m \u001b[1;33m=\u001b[0m \u001b[1;33m[\u001b[0m\u001b[0mx\u001b[0m \u001b[1;33m*\u001b[0m \u001b[0mdx\u001b[0m \u001b[1;32mfor\u001b[0m \u001b[0mx\u001b[0m \u001b[1;32min\u001b[0m \u001b[0mrange\u001b[0m\u001b[1;33m(\u001b[0m\u001b[0mpoints\u001b[0m\u001b[1;33m)\u001b[0m\u001b[1;33m]\u001b[0m\u001b[1;33m\u001b[0m\u001b[1;33m\u001b[0m\u001b[0m\n\u001b[0;32m      6\u001b[0m \u001b[1;33m\u001b[0m\u001b[0m\n\u001b[1;32m----> 7\u001b[1;33m \u001b[0mEData\u001b[0m \u001b[1;33m=\u001b[0m \u001b[1;33m[\u001b[0m \u001b[1;33m[\u001b[0m\u001b[0mE\u001b[0m\u001b[1;33m(\u001b[0m\u001b[0mn\u001b[0m\u001b[1;33m)\u001b[0m\u001b[1;33m]\u001b[0m \u001b[1;33m*\u001b[0m \u001b[0mlen\u001b[0m\u001b[1;33m(\u001b[0m\u001b[0mxData\u001b[0m\u001b[1;33m)\u001b[0m \u001b[1;32mfor\u001b[0m \u001b[0mn\u001b[0m \u001b[1;32min\u001b[0m \u001b[0mqn\u001b[0m\u001b[1;33m]\u001b[0m\u001b[1;33m\u001b[0m\u001b[1;33m\u001b[0m\u001b[0m\n\u001b[0m\u001b[0;32m      8\u001b[0m \u001b[1;33m\u001b[0m\u001b[0m\n\u001b[0;32m      9\u001b[0m \u001b[1;31m#Perform Main Computation Here\u001b[0m\u001b[1;33m\u001b[0m\u001b[1;33m\u001b[0m\u001b[1;33m\u001b[0m\u001b[0m\n",
      "\u001b[1;32m<ipython-input-4-d6617197d090>\u001b[0m in \u001b[0;36m<listcomp>\u001b[1;34m(.0)\u001b[0m\n\u001b[0;32m      5\u001b[0m \u001b[0mxData\u001b[0m \u001b[1;33m=\u001b[0m \u001b[1;33m[\u001b[0m\u001b[0mx\u001b[0m \u001b[1;33m*\u001b[0m \u001b[0mdx\u001b[0m \u001b[1;32mfor\u001b[0m \u001b[0mx\u001b[0m \u001b[1;32min\u001b[0m \u001b[0mrange\u001b[0m\u001b[1;33m(\u001b[0m\u001b[0mpoints\u001b[0m\u001b[1;33m)\u001b[0m\u001b[1;33m]\u001b[0m\u001b[1;33m\u001b[0m\u001b[1;33m\u001b[0m\u001b[0m\n\u001b[0;32m      6\u001b[0m \u001b[1;33m\u001b[0m\u001b[0m\n\u001b[1;32m----> 7\u001b[1;33m \u001b[0mEData\u001b[0m \u001b[1;33m=\u001b[0m \u001b[1;33m[\u001b[0m \u001b[1;33m[\u001b[0m\u001b[0mE\u001b[0m\u001b[1;33m(\u001b[0m\u001b[0mn\u001b[0m\u001b[1;33m)\u001b[0m\u001b[1;33m]\u001b[0m \u001b[1;33m*\u001b[0m \u001b[0mlen\u001b[0m\u001b[1;33m(\u001b[0m\u001b[0mxData\u001b[0m\u001b[1;33m)\u001b[0m \u001b[1;32mfor\u001b[0m \u001b[0mn\u001b[0m \u001b[1;32min\u001b[0m \u001b[0mqn\u001b[0m\u001b[1;33m]\u001b[0m\u001b[1;33m\u001b[0m\u001b[1;33m\u001b[0m\u001b[0m\n\u001b[0m\u001b[0;32m      8\u001b[0m \u001b[1;33m\u001b[0m\u001b[0m\n\u001b[0;32m      9\u001b[0m \u001b[1;31m#Perform Main Computation Here\u001b[0m\u001b[1;33m\u001b[0m\u001b[1;33m\u001b[0m\u001b[1;33m\u001b[0m\u001b[0m\n",
      "\u001b[1;32m<ipython-input-2-1f038ffa36f2>\u001b[0m in \u001b[0;36mE\u001b[1;34m(n)\u001b[0m\n\u001b[0;32m     11\u001b[0m \u001b[1;31m#equation since it is equal to 1\u001b[0m\u001b[1;33m\u001b[0m\u001b[1;33m\u001b[0m\u001b[1;33m\u001b[0m\u001b[0m\n\u001b[0;32m     12\u001b[0m \u001b[1;32mdef\u001b[0m \u001b[0mE\u001b[0m\u001b[1;33m(\u001b[0m\u001b[0mn\u001b[0m\u001b[1;33m)\u001b[0m\u001b[1;33m:\u001b[0m\u001b[1;33m\u001b[0m\u001b[1;33m\u001b[0m\u001b[0m\n\u001b[1;32m---> 13\u001b[1;33m     \u001b[1;32mreturn\u001b[0m \u001b[0mpow\u001b[0m\u001b[1;33m(\u001b[0m\u001b[0mmath\u001b[0m\u001b[1;33m.\u001b[0m\u001b[0mpi\u001b[0m \u001b[1;33m*\u001b[0m \u001b[0mn\u001b[0m \u001b[1;33m/\u001b[0m \u001b[0mL\u001b[0m\u001b[1;33m,\u001b[0m \u001b[1;36m2\u001b[0m\u001b[1;33m)\u001b[0m \u001b[1;33m/\u001b[0m \u001b[1;33m(\u001b[0m\u001b[1;36m2\u001b[0m \u001b[1;33m*\u001b[0m \u001b[0mm\u001b[0m\u001b[1;33m)\u001b[0m\u001b[1;33m\u001b[0m\u001b[1;33m\u001b[0m\u001b[0m\n\u001b[0m",
      "\u001b[1;31mNameError\u001b[0m: name 'math' is not defined"
     ]
    }
   ],
   "source": [
    "#Calculate all computed variables here\n",
    "dx = L / points\n",
    "\n",
    "yData = [ [] for n in qn]\n",
    "xData = [x * dx for x in range(points)]\n",
    "\n",
    "EData = [ [E(n)] * len(xData) for n in qn]\n",
    "\n",
    "#Perform Main Computation Here\n",
    "for nIndex, n in enumerate(qn):\n",
    "    for x in xData:\n",
    "        \n",
    "        yData[nIndex].append( psi(x, n) )"
   ]
  },
  {
   "cell_type": "code",
   "execution_count": null,
   "metadata": {},
   "outputs": [],
   "source": [
    "# Graph Data Here\n",
    "figure = {\n",
    "    \"data\": [], \n",
    "    \"layout\":{\n",
    "        \"xaxis\":{\"title\":\"Distance in Bohr Radius\"},\n",
    "        \"yaxis\":{\"title\": \"??\"},\n",
    "        \"title\":{\"text\":\"1D Particle in a Box\"}\n",
    "    }\n",
    "}\n",
    "\n",
    "for nIndex, n in enumerate(qn):\n",
    "    figure[\"data\"].append(\n",
    "        \n",
    "        {\n",
    "            \"type\":\"scatter\",\n",
    "            \"x\":xData,\n",
    "            \"y\":yData[nIndex],\n",
    "            \"mode\": \"markers\",\n",
    "            \"name\": \"Quantum Number \" + str(n),\n",
    "        }\n",
    "    )\n",
    "    \n",
    "    figure[\"data\"].append(\n",
    "       { \n",
    "           \"type\":\"scatter\",\n",
    "           \"x\":xData,\n",
    "           \"y\":EData[nIndex],\n",
    "           \"mode\":\"markers\",\n",
    "           \"name\":\"Quantum Number \" + str(n) + \" Energy\"\n",
    "       }\n",
    "    )\n",
    "\n",
    "iplot(figure)"
   ]
  }
 ],
 "metadata": {
  "kernelspec": {
   "display_name": "Python 3",
   "language": "python",
   "name": "python3"
  },
  "language_info": {
   "codemirror_mode": {
    "name": "ipython",
    "version": 3
   },
   "file_extension": ".py",
   "mimetype": "text/x-python",
   "name": "python",
   "nbconvert_exporter": "python",
   "pygments_lexer": "ipython3",
   "version": "3.7.3"
  }
 },
 "nbformat": 4,
 "nbformat_minor": 2
}
